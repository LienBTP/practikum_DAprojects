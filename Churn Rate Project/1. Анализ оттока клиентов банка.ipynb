{
 "cells": [
  {
   "cell_type": "markdown",
   "metadata": {},
   "source": [
    "# Анализ оттока клиентов банка"
   ]
  },
  {
   "cell_type": "markdown",
   "metadata": {},
   "source": [
    "В данном проекте будут изучены данные клиентов регионального банка «Метанпром», который располагается в Ярославле и в областных городах: Ростов Великий и Рыбинск. \n",
    "\n",
    "**Цели исследования:**  \n",
    "    • выделить сегменты клиентов, которые склонны уходить из банка  \n",
    "    • дать продакт-менеджеру рекомендации по сокращению оттока\n",
    "      \n",
    "**Задачи исследования:**  \n",
    "    • провести анализ данных клиентов банка  \n",
    "    • разобраться, что влияет на отток клиентов банка  \n",
    "    • составить усредненный портрет клиентов, которые склонны уходить из банка  \n",
    "    • проверить различия дохода между ушедшими и оставшимися клиентами банка  \n",
    "    • проверить различия баллов кредитного скоринга между ушедшими и оставишимися клиентами банка\n",
    "\n",
    "**Этапы исследования:**\n",
    "1. Загрузка и изучение данных  \n",
    "2. Предобработка данных  \n",
    "3. Исследовательский анализ данных \n",
    "4. Проверка гипотез\n",
    "5. Выводы по проекту и рекомендации для Заказчика исследования    "
   ]
  },
  {
   "cell_type": "markdown",
   "metadata": {},
   "source": [
    "**Материалы:**\n",
    "\n",
    "* [Перезентация](https://disk.yandex.ru/i/BQdPvDAub5AnMg)"
   ]
  },
  {
   "cell_type": "markdown",
   "metadata": {},
   "source": [
    "## Загрузка данных\n",
    "\n",
    "Импортируем библиотеки, загрузим данные."
   ]
  },
  {
   "cell_type": "code",
   "execution_count": 44,
   "metadata": {},
   "outputs": [],
   "source": [
    "#импорт библиотек\n",
    "import os\n",
    "import pandas as pd\n",
    "import seaborn as sns\n",
    "\n",
    "from matplotlib import pyplot as plt\n",
    "from scipy import stats as st\n",
    "import numpy as np\n",
    "from numpy import median\n",
    "\n",
    "import re\n",
    "import warnings\n",
    "warnings.filterwarnings(\"ignore\") "
   ]
  },
  {
   "cell_type": "code",
   "execution_count": 45,
   "metadata": {},
   "outputs": [],
   "source": [
    "pth1 = '/datasets/bank_dataset.csv'\n",
    "pth2 = '/Users/Лиен/Desktop/Jupyter/bank_dataset.csv'\n",
    "\n",
    "if os.path.exists(pth1):\n",
    "    data = pd.read_csv(pth1)\n",
    "elif os.path.exists(pth2):\n",
    "    data = pd.read_csv(pth2)\n",
    "else:\n",
    "    print('Something is wrong')"
   ]
  },
  {
   "cell_type": "code",
   "execution_count": 46,
   "metadata": {},
   "outputs": [
    {
     "data": {
      "text/html": [
       "<div>\n",
       "<style scoped>\n",
       "    .dataframe tbody tr th:only-of-type {\n",
       "        vertical-align: middle;\n",
       "    }\n",
       "\n",
       "    .dataframe tbody tr th {\n",
       "        vertical-align: top;\n",
       "    }\n",
       "\n",
       "    .dataframe thead th {\n",
       "        text-align: right;\n",
       "    }\n",
       "</style>\n",
       "<table border=\"1\" class=\"dataframe\">\n",
       "  <thead>\n",
       "    <tr style=\"text-align: right;\">\n",
       "      <th></th>\n",
       "      <th>userid</th>\n",
       "      <th>score</th>\n",
       "      <th>City</th>\n",
       "      <th>Gender</th>\n",
       "      <th>Age</th>\n",
       "      <th>Objects</th>\n",
       "      <th>Balance</th>\n",
       "      <th>Products</th>\n",
       "      <th>CreditCard</th>\n",
       "      <th>Loyalty</th>\n",
       "      <th>estimated_salary</th>\n",
       "      <th>Churn</th>\n",
       "    </tr>\n",
       "  </thead>\n",
       "  <tbody>\n",
       "    <tr>\n",
       "      <th>0</th>\n",
       "      <td>15677338</td>\n",
       "      <td>619</td>\n",
       "      <td>Ярославль</td>\n",
       "      <td>Ж</td>\n",
       "      <td>42</td>\n",
       "      <td>2</td>\n",
       "      <td>NaN</td>\n",
       "      <td>1</td>\n",
       "      <td>1</td>\n",
       "      <td>1</td>\n",
       "      <td>101348.88</td>\n",
       "      <td>1</td>\n",
       "    </tr>\n",
       "    <tr>\n",
       "      <th>1</th>\n",
       "      <td>15690047</td>\n",
       "      <td>608</td>\n",
       "      <td>Рыбинск</td>\n",
       "      <td>Ж</td>\n",
       "      <td>41</td>\n",
       "      <td>1</td>\n",
       "      <td>83807.86</td>\n",
       "      <td>1</td>\n",
       "      <td>0</td>\n",
       "      <td>1</td>\n",
       "      <td>112542.58</td>\n",
       "      <td>0</td>\n",
       "    </tr>\n",
       "    <tr>\n",
       "      <th>2</th>\n",
       "      <td>15662040</td>\n",
       "      <td>502</td>\n",
       "      <td>Ярославль</td>\n",
       "      <td>Ж</td>\n",
       "      <td>42</td>\n",
       "      <td>8</td>\n",
       "      <td>159660.80</td>\n",
       "      <td>3</td>\n",
       "      <td>1</td>\n",
       "      <td>0</td>\n",
       "      <td>113931.57</td>\n",
       "      <td>1</td>\n",
       "    </tr>\n",
       "    <tr>\n",
       "      <th>3</th>\n",
       "      <td>15744090</td>\n",
       "      <td>699</td>\n",
       "      <td>Ярославль</td>\n",
       "      <td>Ж</td>\n",
       "      <td>39</td>\n",
       "      <td>1</td>\n",
       "      <td>NaN</td>\n",
       "      <td>2</td>\n",
       "      <td>0</td>\n",
       "      <td>0</td>\n",
       "      <td>93826.63</td>\n",
       "      <td>0</td>\n",
       "    </tr>\n",
       "    <tr>\n",
       "      <th>4</th>\n",
       "      <td>15780624</td>\n",
       "      <td>850</td>\n",
       "      <td>Рыбинск</td>\n",
       "      <td>Ж</td>\n",
       "      <td>43</td>\n",
       "      <td>2</td>\n",
       "      <td>125510.82</td>\n",
       "      <td>1</td>\n",
       "      <td>1</td>\n",
       "      <td>1</td>\n",
       "      <td>79084.10</td>\n",
       "      <td>0</td>\n",
       "    </tr>\n",
       "  </tbody>\n",
       "</table>\n",
       "</div>"
      ],
      "text/plain": [
       "     userid  score       City Gender  Age  Objects    Balance  Products  \\\n",
       "0  15677338    619  Ярославль      Ж   42        2        NaN         1   \n",
       "1  15690047    608    Рыбинск      Ж   41        1   83807.86         1   \n",
       "2  15662040    502  Ярославль      Ж   42        8  159660.80         3   \n",
       "3  15744090    699  Ярославль      Ж   39        1        NaN         2   \n",
       "4  15780624    850    Рыбинск      Ж   43        2  125510.82         1   \n",
       "\n",
       "   CreditCard  Loyalty  estimated_salary  Churn  \n",
       "0           1        1         101348.88      1  \n",
       "1           0        1         112542.58      0  \n",
       "2           1        0         113931.57      1  \n",
       "3           0        0          93826.63      0  \n",
       "4           1        1          79084.10      0  "
      ]
     },
     "execution_count": 46,
     "metadata": {},
     "output_type": "execute_result"
    }
   ],
   "source": [
    "# выгрузка первых строк таблицы\n",
    "data.head()"
   ]
  },
  {
   "cell_type": "markdown",
   "metadata": {},
   "source": [
    "### Изучение общей информации о датасете\n",
    "\n",
    "Посмотрим:\n",
    "- сколько профилей клиентов представлено в датасете\n",
    "- что можно сказать о каждом столбце\n",
    "- значения какого типа они хранят"
   ]
  },
  {
   "cell_type": "code",
   "execution_count": 47,
   "metadata": {
    "scrolled": false
   },
   "outputs": [
    {
     "name": "stdout",
     "output_type": "stream",
     "text": [
      "Основная информация о таблице:\n",
      "<class 'pandas.core.frame.DataFrame'>\n",
      "RangeIndex: 10000 entries, 0 to 9999\n",
      "Data columns (total 12 columns):\n",
      " #   Column            Non-Null Count  Dtype  \n",
      "---  ------            --------------  -----  \n",
      " 0   userid            10000 non-null  int64  \n",
      " 1   score             10000 non-null  int64  \n",
      " 2   City              10000 non-null  object \n",
      " 3   Gender            10000 non-null  object \n",
      " 4   Age               10000 non-null  int64  \n",
      " 5   Objects           10000 non-null  int64  \n",
      " 6   Balance           6383 non-null   float64\n",
      " 7   Products          10000 non-null  int64  \n",
      " 8   CreditCard        10000 non-null  int64  \n",
      " 9   Loyalty           10000 non-null  int64  \n",
      " 10  estimated_salary  10000 non-null  float64\n",
      " 11  Churn             10000 non-null  int64  \n",
      "dtypes: float64(2), int64(8), object(2)\n",
      "memory usage: 937.6+ KB\n"
     ]
    },
    {
     "data": {
      "text/plain": [
       "None"
      ]
     },
     "metadata": {},
     "output_type": "display_data"
    },
    {
     "name": "stdout",
     "output_type": "stream",
     "text": [
      "Характерные значения данных датасета:\n"
     ]
    },
    {
     "data": {
      "text/html": [
       "<div>\n",
       "<style scoped>\n",
       "    .dataframe tbody tr th:only-of-type {\n",
       "        vertical-align: middle;\n",
       "    }\n",
       "\n",
       "    .dataframe tbody tr th {\n",
       "        vertical-align: top;\n",
       "    }\n",
       "\n",
       "    .dataframe thead th {\n",
       "        text-align: right;\n",
       "    }\n",
       "</style>\n",
       "<table border=\"1\" class=\"dataframe\">\n",
       "  <thead>\n",
       "    <tr style=\"text-align: right;\">\n",
       "      <th></th>\n",
       "      <th>count</th>\n",
       "      <th>mean</th>\n",
       "      <th>std</th>\n",
       "      <th>min</th>\n",
       "      <th>25%</th>\n",
       "      <th>50%</th>\n",
       "      <th>75%</th>\n",
       "      <th>max</th>\n",
       "    </tr>\n",
       "  </thead>\n",
       "  <tbody>\n",
       "    <tr>\n",
       "      <th>score</th>\n",
       "      <td>10000.0</td>\n",
       "      <td>650.528800</td>\n",
       "      <td>96.653299</td>\n",
       "      <td>350.00</td>\n",
       "      <td>584.000</td>\n",
       "      <td>652.000</td>\n",
       "      <td>718.0000</td>\n",
       "      <td>850.00</td>\n",
       "    </tr>\n",
       "    <tr>\n",
       "      <th>Age</th>\n",
       "      <td>10000.0</td>\n",
       "      <td>38.921800</td>\n",
       "      <td>10.487806</td>\n",
       "      <td>18.00</td>\n",
       "      <td>32.000</td>\n",
       "      <td>37.000</td>\n",
       "      <td>44.0000</td>\n",
       "      <td>92.00</td>\n",
       "    </tr>\n",
       "    <tr>\n",
       "      <th>Objects</th>\n",
       "      <td>10000.0</td>\n",
       "      <td>5.012800</td>\n",
       "      <td>2.892174</td>\n",
       "      <td>0.00</td>\n",
       "      <td>3.000</td>\n",
       "      <td>5.000</td>\n",
       "      <td>7.0000</td>\n",
       "      <td>10.00</td>\n",
       "    </tr>\n",
       "    <tr>\n",
       "      <th>Balance</th>\n",
       "      <td>6383.0</td>\n",
       "      <td>119827.493793</td>\n",
       "      <td>30095.056462</td>\n",
       "      <td>3768.69</td>\n",
       "      <td>100181.975</td>\n",
       "      <td>119839.690</td>\n",
       "      <td>139512.2900</td>\n",
       "      <td>250898.09</td>\n",
       "    </tr>\n",
       "    <tr>\n",
       "      <th>Products</th>\n",
       "      <td>10000.0</td>\n",
       "      <td>1.530200</td>\n",
       "      <td>0.581654</td>\n",
       "      <td>1.00</td>\n",
       "      <td>1.000</td>\n",
       "      <td>1.000</td>\n",
       "      <td>2.0000</td>\n",
       "      <td>4.00</td>\n",
       "    </tr>\n",
       "    <tr>\n",
       "      <th>CreditCard</th>\n",
       "      <td>10000.0</td>\n",
       "      <td>0.705500</td>\n",
       "      <td>0.455840</td>\n",
       "      <td>0.00</td>\n",
       "      <td>0.000</td>\n",
       "      <td>1.000</td>\n",
       "      <td>1.0000</td>\n",
       "      <td>1.00</td>\n",
       "    </tr>\n",
       "    <tr>\n",
       "      <th>Loyalty</th>\n",
       "      <td>10000.0</td>\n",
       "      <td>0.515100</td>\n",
       "      <td>0.499797</td>\n",
       "      <td>0.00</td>\n",
       "      <td>0.000</td>\n",
       "      <td>1.000</td>\n",
       "      <td>1.0000</td>\n",
       "      <td>1.00</td>\n",
       "    </tr>\n",
       "    <tr>\n",
       "      <th>estimated_salary</th>\n",
       "      <td>10000.0</td>\n",
       "      <td>100090.239881</td>\n",
       "      <td>57510.492818</td>\n",
       "      <td>11.58</td>\n",
       "      <td>51002.110</td>\n",
       "      <td>100193.915</td>\n",
       "      <td>149388.2475</td>\n",
       "      <td>199992.48</td>\n",
       "    </tr>\n",
       "    <tr>\n",
       "      <th>Churn</th>\n",
       "      <td>10000.0</td>\n",
       "      <td>0.203700</td>\n",
       "      <td>0.402769</td>\n",
       "      <td>0.00</td>\n",
       "      <td>0.000</td>\n",
       "      <td>0.000</td>\n",
       "      <td>0.0000</td>\n",
       "      <td>1.00</td>\n",
       "    </tr>\n",
       "  </tbody>\n",
       "</table>\n",
       "</div>"
      ],
      "text/plain": [
       "                    count           mean           std      min         25%  \\\n",
       "score             10000.0     650.528800     96.653299   350.00     584.000   \n",
       "Age               10000.0      38.921800     10.487806    18.00      32.000   \n",
       "Objects           10000.0       5.012800      2.892174     0.00       3.000   \n",
       "Balance            6383.0  119827.493793  30095.056462  3768.69  100181.975   \n",
       "Products          10000.0       1.530200      0.581654     1.00       1.000   \n",
       "CreditCard        10000.0       0.705500      0.455840     0.00       0.000   \n",
       "Loyalty           10000.0       0.515100      0.499797     0.00       0.000   \n",
       "estimated_salary  10000.0  100090.239881  57510.492818    11.58   51002.110   \n",
       "Churn             10000.0       0.203700      0.402769     0.00       0.000   \n",
       "\n",
       "                         50%          75%        max  \n",
       "score                652.000     718.0000     850.00  \n",
       "Age                   37.000      44.0000      92.00  \n",
       "Objects                5.000       7.0000      10.00  \n",
       "Balance           119839.690  139512.2900  250898.09  \n",
       "Products               1.000       2.0000       4.00  \n",
       "CreditCard             1.000       1.0000       1.00  \n",
       "Loyalty                1.000       1.0000       1.00  \n",
       "estimated_salary  100193.915  149388.2475  199992.48  \n",
       "Churn                  0.000       0.0000       1.00  "
      ]
     },
     "metadata": {},
     "output_type": "display_data"
    },
    {
     "name": "stdout",
     "output_type": "stream",
     "text": [
      "\n"
     ]
    }
   ],
   "source": [
    "# выгрузка основной информации о таблице\n",
    "print('Основная информация о таблице:')\n",
    "display(data.info())\n",
    "\n",
    "# выгрузка сводной статистики столбцов датафрейма\n",
    "print('Характерные значения данных датасета:')\n",
    "display(data.loc[:,'score':'Churn'].describe().T)\n",
    "print()"
   ]
  },
  {
   "cell_type": "markdown",
   "metadata": {},
   "source": [
    "### Вывод по общей информации о датасете\n",
    "- В датасете представлены данные по 10 000 клиентов.\n",
    "- Информация о них представлена в 12 столбцах.\n",
    "- Тип данных в столбцах соответсвует значениям.\n",
    "- Названия столбцов необходимо привести к нижнему регистру. \n",
    "- В столбце `Balance` видим пропуски значений. Изучим их подробнее на следующем этапе\n",
    "\n",
    "**Данные о столбцах таблицы:**\n",
    "- `score` — баллы кредитного скоринга представлены в диапазоне от 350 до 850\n",
    "- `City` — данные представлены по клиентам в Ярославле, Рыбинске и Ростове Великом\n",
    "- `Gender` — для клиентов определен гендер: женский или мужской\n",
    "- `Age` — возраст клиентов от 18 до 92 лет, но большей части клиентов менее 44 лет \n",
    "- `Objects` — количество объектов в собственности от 0 до 10, 75% клиентов владеют до 7 объектами собственности  \n",
    "-  `Balance` — баланс на счёте представлен только положительными значениями от \t3 768.69р. до  250 898.09р. У большей части клиентов на балансе до 139 512.29р.  В данном столбце большое количество выбросов\n",
    "-  `Products` — количество продуктов, которыми пользуется клиент, от 1 до 4. У большей части клиентов по 1,2 продукта\n",
    "-  `CreditCard` — есть ли кредитная карта. 1 — кредитная карта есть, 0 — кредитной карты нет\n",
    "-  `Loyalty` — активный клиент. 1 - за последний месяц у клиента было движение средств, не пропущены платежи по кредитам (нет задолженности), ненулевой баланс или с клиентом был контакт по иным вопросам, 0 — неактивный клиент\n",
    "-  `estimated_salary` — заработная плата клиента в данных представлена в диапазоне от 11.58 до 199 992.48 руб. \n",
    "-  `Churn` — ушёл или нет. 1 — клиент ушел, 0 — клиент не ушел"
   ]
  },
  {
   "cell_type": "markdown",
   "metadata": {},
   "source": [
    "## Предобработка данных\n",
    "\n",
    "### Приведение названий столбцов к нижнему регистру;  "
   ]
  },
  {
   "cell_type": "code",
   "execution_count": 48,
   "metadata": {},
   "outputs": [
    {
     "name": "stdout",
     "output_type": "stream",
     "text": [
      "Названия столбцов: Index(['userid', 'score', 'city', 'gender', 'age', 'objects', 'balance',\n",
      "       'products', 'creditcard', 'loyalty', 'estimated_salary', 'churn'],\n",
      "      dtype='object')\n"
     ]
    }
   ],
   "source": [
    "# приведем все названия к нижнему регистру\n",
    "data.columns = data.columns.str.lower()\n",
    "print('Названия столбцов:', data.columns)"
   ]
  },
  {
   "cell_type": "markdown",
   "metadata": {},
   "source": [
    "### Проверка столбцов датасета: \n",
    "- на явные дубликаты; \n",
    "- на неявные дубликаты\n",
    "- на пропуски (определим долю пропусков, возможные причины их возникновения и дальнейшие действия с ними)\n",
    "- на выбросы (определим, есть ли аномальные значения в данных)\n",
    "\n",
    "#### Проверка на явные дубликаты; "
   ]
  },
  {
   "cell_type": "code",
   "execution_count": 49,
   "metadata": {},
   "outputs": [
    {
     "name": "stdout",
     "output_type": "stream",
     "text": [
      "Количество явных дубликатов: 0\n"
     ]
    }
   ],
   "source": [
    "# Проверка таблицы на явные дубликаты:\n",
    "print('Количество явных дубликатов:', data.duplicated().sum())"
   ]
  },
  {
   "cell_type": "markdown",
   "metadata": {},
   "source": [
    "#### Проверка на явные дубликаты; "
   ]
  },
  {
   "cell_type": "code",
   "execution_count": 50,
   "metadata": {},
   "outputs": [
    {
     "name": "stdout",
     "output_type": "stream",
     "text": [
      "Количество уникальных значений столбца userid: 10000\n",
      "Уникальные значения столбца userid: [15677338 15690047 15662040 ... 15627268 15725091 15671055]\n",
      "\n",
      "Количество уникальных значений столбца score: 460\n",
      "Уникальные значения столбца score: [619 608 502 699 850 645 822 376 501 684 528 497 476 549 635 616 653 587\n",
      " 726 732 636 510 669 846 577 756 571 574 411 591 533 553 520 722 475 490\n",
      " 804 582 472 465 556 834 660 776 829 637 550 698 585 788 655 601 656 725\n",
      " 511 614 742 687 555 603 751 581 735 661 675 738 813 657 604 519 664 678\n",
      " 757 416 665 777 543 506 493 652 750 729 646 647 808 524 769 730 515 773\n",
      " 814 710 413 623 670 622 785 605 479 685 538 562 721 628 668 828 674 625\n",
      " 432 770 758 795 686 789 589 461 584 579 663 682 793 691 485 650 754 535\n",
      " 716 539 706 586 631 717 800 683 704 615 667 484 480 578 512 606 597 778\n",
      " 514 525 715 580 807 521 759 516 711 618 643 671 689 620 676 572 695 592\n",
      " 567 694 547 594 673 610 767 763 712 703 662 659 523 772 545 634 739 771\n",
      " 681 544 696 766 727 693 557 531 498 651 791 733 811 707 714 782 775 799\n",
      " 602 744 588 747 583 627 731 629 438 642 806 474 559 429 680 749 734 644\n",
      " 626 649 805 718 840 630 654 762 568 613 522 737 648 443 640 540 460 593\n",
      " 801 611 802 745 483 690 492 709 705 560 752 701 537 487 596 702 486 724\n",
      " 548 464 790 534 748 494 590 468 509 818 816 536 753 774 621 569 658 798\n",
      " 641 542 692 639 765 570 638 599 632 779 527 564 833 504 842 508 417 598\n",
      " 741 607 761 848 546 439 755 760 526 713 700 666 566 495 688 612 477 427\n",
      " 839 819 720 459 503 624 529 563 482 796 445 746 786 554 672 787 499 844\n",
      " 450 815 838 803 736 633 600 679 517 792 743 488 421 841 708 507 505 456\n",
      " 435 561 518 565 728 784 552 609 764 697 723 551 444 719 496 541 830 812\n",
      " 677 420 595 617 809 500 826 434 513 478 797 363 399 463 780 452 575 837\n",
      " 794 824 428 823 781 849 489 431 457 768 831 359 820 573 576 558 817 449\n",
      " 440 415 821 530 350 446 425 740 481 783 358 845 451 458 469 423 404 836\n",
      " 473 835 466 491 351 827 843 365 532 414 453 471 401 810 832 470 447 422\n",
      " 825 430 436 426 408 847 418 437 410 454 407 455 462 386 405 383 395 467\n",
      " 433 442 424 448 441 367 412 382 373 419]\n",
      "\n",
      "Количество уникальных значений столбца city: 3\n",
      "Уникальные значения столбца city: ['Ярославль' 'Рыбинск' 'Ростов Великий']\n",
      "\n",
      "Количество уникальных значений столбца gender: 2\n",
      "Уникальные значения столбца gender: ['Ж' 'М']\n",
      "\n",
      "Количество уникальных значений столбца age: 70\n",
      "Уникальные значения столбца age: [42 41 39 43 44 50 29 27 31 24 34 25 35 45 58 32 38 46 36 33 40 51 61 49\n",
      " 37 19 66 56 26 21 55 75 22 30 28 65 48 52 57 73 47 54 72 20 67 79 62 53\n",
      " 80 59 68 23 60 70 63 64 18 82 69 74 71 76 77 88 85 84 78 81 92 83]\n",
      "\n",
      "Количество уникальных значений столбца objects: 11\n",
      "Уникальные значения столбца objects: [ 2  1  8  7  4  6  3 10  5  9  0]\n",
      "\n",
      "Количество уникальных значений столбца balance: 6381\n",
      "Уникальные значения столбца balance: [      nan  83807.86 159660.8  ...  57369.61  75075.31 130142.79]\n",
      "\n",
      "Количество уникальных значений столбца products: 4\n",
      "Уникальные значения столбца products: [1 3 2 4]\n",
      "\n",
      "Количество уникальных значений столбца creditcard: 2\n",
      "Уникальные значения столбца creditcard: [1 0]\n",
      "\n",
      "Количество уникальных значений столбца loyalty: 2\n",
      "Уникальные значения столбца loyalty: [1 0]\n",
      "\n",
      "Количество уникальных значений столбца estimated_salary: 9999\n",
      "Уникальные значения столбца estimated_salary: [101348.88 112542.58 113931.57 ...  42085.58  92888.52  38190.78]\n",
      "\n",
      "Количество уникальных значений столбца churn: 2\n",
      "Уникальные значения столбца churn: [1 0]\n",
      "\n"
     ]
    }
   ],
   "source": [
    "# выгрузка уникальных значений столбцов датафрейма\n",
    "for i in list(data.columns):\n",
    "    print('Количество уникальных значений столбца {}:'.format(i), data[i].nunique())\n",
    "    print('Уникальные значения столбца {}:'.format(i), data[i].unique())\n",
    "    print()"
   ]
  },
  {
   "cell_type": "markdown",
   "metadata": {},
   "source": [
    "**Вывод:** неявных дубликатов в стоблцах нет"
   ]
  },
  {
   "cell_type": "markdown",
   "metadata": {},
   "source": [
    "#### Проверка на на пропуски:"
   ]
  },
  {
   "cell_type": "code",
   "execution_count": 51,
   "metadata": {},
   "outputs": [
    {
     "name": "stdout",
     "output_type": "stream",
     "text": [
      "Проверка таблицы на пропуски:\n",
      "userid                 0\n",
      "score                  0\n",
      "city                   0\n",
      "gender                 0\n",
      "age                    0\n",
      "objects                0\n",
      "balance             3617\n",
      "products               0\n",
      "creditcard             0\n",
      "loyalty                0\n",
      "estimated_salary       0\n",
      "churn                  0\n",
      "dtype: int64\n",
      "\n",
      "Относительные показатели пропусков:\n"
     ]
    },
    {
     "data": {
      "text/html": [
       "<style type=\"text/css\">\n",
       "#T_3dcba_row0_col0, #T_3dcba_row1_col0, #T_3dcba_row2_col0, #T_3dcba_row3_col0, #T_3dcba_row4_col0, #T_3dcba_row5_col0, #T_3dcba_row7_col0, #T_3dcba_row8_col0, #T_3dcba_row9_col0, #T_3dcba_row10_col0, #T_3dcba_row11_col0 {\n",
       "  background-color: #3b4cc0;\n",
       "  color: #f1f1f1;\n",
       "}\n",
       "#T_3dcba_row6_col0 {\n",
       "  background-color: #b40426;\n",
       "  color: #f1f1f1;\n",
       "}\n",
       "</style>\n",
       "<table id=\"T_3dcba\">\n",
       "  <thead>\n",
       "    <tr>\n",
       "      <th class=\"blank level0\" >&nbsp;</th>\n",
       "      <th id=\"T_3dcba_level0_col0\" class=\"col_heading level0 col0\" >0</th>\n",
       "    </tr>\n",
       "  </thead>\n",
       "  <tbody>\n",
       "    <tr>\n",
       "      <th id=\"T_3dcba_level0_row0\" class=\"row_heading level0 row0\" >userid</th>\n",
       "      <td id=\"T_3dcba_row0_col0\" class=\"data row0 col0\" >0.000000</td>\n",
       "    </tr>\n",
       "    <tr>\n",
       "      <th id=\"T_3dcba_level0_row1\" class=\"row_heading level0 row1\" >score</th>\n",
       "      <td id=\"T_3dcba_row1_col0\" class=\"data row1 col0\" >0.000000</td>\n",
       "    </tr>\n",
       "    <tr>\n",
       "      <th id=\"T_3dcba_level0_row2\" class=\"row_heading level0 row2\" >city</th>\n",
       "      <td id=\"T_3dcba_row2_col0\" class=\"data row2 col0\" >0.000000</td>\n",
       "    </tr>\n",
       "    <tr>\n",
       "      <th id=\"T_3dcba_level0_row3\" class=\"row_heading level0 row3\" >gender</th>\n",
       "      <td id=\"T_3dcba_row3_col0\" class=\"data row3 col0\" >0.000000</td>\n",
       "    </tr>\n",
       "    <tr>\n",
       "      <th id=\"T_3dcba_level0_row4\" class=\"row_heading level0 row4\" >age</th>\n",
       "      <td id=\"T_3dcba_row4_col0\" class=\"data row4 col0\" >0.000000</td>\n",
       "    </tr>\n",
       "    <tr>\n",
       "      <th id=\"T_3dcba_level0_row5\" class=\"row_heading level0 row5\" >objects</th>\n",
       "      <td id=\"T_3dcba_row5_col0\" class=\"data row5 col0\" >0.000000</td>\n",
       "    </tr>\n",
       "    <tr>\n",
       "      <th id=\"T_3dcba_level0_row6\" class=\"row_heading level0 row6\" >balance</th>\n",
       "      <td id=\"T_3dcba_row6_col0\" class=\"data row6 col0\" >36.170000</td>\n",
       "    </tr>\n",
       "    <tr>\n",
       "      <th id=\"T_3dcba_level0_row7\" class=\"row_heading level0 row7\" >products</th>\n",
       "      <td id=\"T_3dcba_row7_col0\" class=\"data row7 col0\" >0.000000</td>\n",
       "    </tr>\n",
       "    <tr>\n",
       "      <th id=\"T_3dcba_level0_row8\" class=\"row_heading level0 row8\" >creditcard</th>\n",
       "      <td id=\"T_3dcba_row8_col0\" class=\"data row8 col0\" >0.000000</td>\n",
       "    </tr>\n",
       "    <tr>\n",
       "      <th id=\"T_3dcba_level0_row9\" class=\"row_heading level0 row9\" >loyalty</th>\n",
       "      <td id=\"T_3dcba_row9_col0\" class=\"data row9 col0\" >0.000000</td>\n",
       "    </tr>\n",
       "    <tr>\n",
       "      <th id=\"T_3dcba_level0_row10\" class=\"row_heading level0 row10\" >estimated_salary</th>\n",
       "      <td id=\"T_3dcba_row10_col0\" class=\"data row10 col0\" >0.000000</td>\n",
       "    </tr>\n",
       "    <tr>\n",
       "      <th id=\"T_3dcba_level0_row11\" class=\"row_heading level0 row11\" >churn</th>\n",
       "      <td id=\"T_3dcba_row11_col0\" class=\"data row11 col0\" >0.000000</td>\n",
       "    </tr>\n",
       "  </tbody>\n",
       "</table>\n"
      ],
      "text/plain": [
       "<pandas.io.formats.style.Styler at 0x2ba6f7f94f0>"
      ]
     },
     "metadata": {},
     "output_type": "display_data"
    },
    {
     "name": "stdout",
     "output_type": "stream",
     "text": [
      "\n"
     ]
    }
   ],
   "source": [
    "print('Проверка таблицы на пропуски:')\n",
    "print(data.isna().sum());\n",
    "print()\n",
    "print('Относительные показатели пропусков:')\n",
    "display(pd.DataFrame(data.isna().mean()*100).style.background_gradient('coolwarm'))\n",
    "print()"
   ]
  },
  {
   "cell_type": "markdown",
   "metadata": {},
   "source": [
    "Пропуски есть в столбце — balance (у 3617 клиентов), что составляет 36,17% данных.\n",
    "\n",
    "Пропуски могут:\n",
    "* быть связаны с ошибками на этапе заполнения или техническим сбоем при выгрузке данных\n",
    "* означать задолженность по кредитным картам (у кредитных продуктов отрицательный баланс, а в датасете все значения баланса - положительные)\n",
    "* отражать клиентов с неактивными счетами (ушедшие клиенты)\n",
    "* означать отсутствие средств на счетах клиентов (нулевой баланс)\n",
    "\n",
    "**Изучим данные с пропусками более подробно, чтобы проверить указанные предположения**   \n",
    "Рассмотрим распределение пропусков среди категориальных столбцов (`city`, `gender`)"
   ]
  },
  {
   "cell_type": "code",
   "execution_count": 52,
   "metadata": {},
   "outputs": [
    {
     "name": "stdout",
     "output_type": "stream",
     "text": [
      "Первые строки данных с пропусками:\n"
     ]
    },
    {
     "data": {
      "text/html": [
       "<div>\n",
       "<style scoped>\n",
       "    .dataframe tbody tr th:only-of-type {\n",
       "        vertical-align: middle;\n",
       "    }\n",
       "\n",
       "    .dataframe tbody tr th {\n",
       "        vertical-align: top;\n",
       "    }\n",
       "\n",
       "    .dataframe thead th {\n",
       "        text-align: right;\n",
       "    }\n",
       "</style>\n",
       "<table border=\"1\" class=\"dataframe\">\n",
       "  <thead>\n",
       "    <tr style=\"text-align: right;\">\n",
       "      <th></th>\n",
       "      <th>userid</th>\n",
       "      <th>score</th>\n",
       "      <th>city</th>\n",
       "      <th>gender</th>\n",
       "      <th>age</th>\n",
       "      <th>objects</th>\n",
       "      <th>balance</th>\n",
       "      <th>products</th>\n",
       "      <th>creditcard</th>\n",
       "      <th>loyalty</th>\n",
       "      <th>estimated_salary</th>\n",
       "      <th>churn</th>\n",
       "    </tr>\n",
       "  </thead>\n",
       "  <tbody>\n",
       "    <tr>\n",
       "      <th>0</th>\n",
       "      <td>15677338</td>\n",
       "      <td>619</td>\n",
       "      <td>Ярославль</td>\n",
       "      <td>Ж</td>\n",
       "      <td>42</td>\n",
       "      <td>2</td>\n",
       "      <td>NaN</td>\n",
       "      <td>1</td>\n",
       "      <td>1</td>\n",
       "      <td>1</td>\n",
       "      <td>101348.88</td>\n",
       "      <td>1</td>\n",
       "    </tr>\n",
       "    <tr>\n",
       "      <th>3</th>\n",
       "      <td>15744090</td>\n",
       "      <td>699</td>\n",
       "      <td>Ярославль</td>\n",
       "      <td>Ж</td>\n",
       "      <td>39</td>\n",
       "      <td>1</td>\n",
       "      <td>NaN</td>\n",
       "      <td>2</td>\n",
       "      <td>0</td>\n",
       "      <td>0</td>\n",
       "      <td>93826.63</td>\n",
       "      <td>0</td>\n",
       "    </tr>\n",
       "    <tr>\n",
       "      <th>6</th>\n",
       "      <td>15635267</td>\n",
       "      <td>822</td>\n",
       "      <td>Ярославль</td>\n",
       "      <td>М</td>\n",
       "      <td>50</td>\n",
       "      <td>7</td>\n",
       "      <td>NaN</td>\n",
       "      <td>2</td>\n",
       "      <td>1</td>\n",
       "      <td>1</td>\n",
       "      <td>10062.80</td>\n",
       "      <td>0</td>\n",
       "    </tr>\n",
       "    <tr>\n",
       "      <th>11</th>\n",
       "      <td>15779909</td>\n",
       "      <td>497</td>\n",
       "      <td>Рыбинск</td>\n",
       "      <td>М</td>\n",
       "      <td>24</td>\n",
       "      <td>3</td>\n",
       "      <td>NaN</td>\n",
       "      <td>2</td>\n",
       "      <td>1</td>\n",
       "      <td>0</td>\n",
       "      <td>76390.01</td>\n",
       "      <td>0</td>\n",
       "    </tr>\n",
       "    <tr>\n",
       "      <th>12</th>\n",
       "      <td>15675000</td>\n",
       "      <td>476</td>\n",
       "      <td>Ярославль</td>\n",
       "      <td>Ж</td>\n",
       "      <td>34</td>\n",
       "      <td>10</td>\n",
       "      <td>NaN</td>\n",
       "      <td>2</td>\n",
       "      <td>1</td>\n",
       "      <td>0</td>\n",
       "      <td>26260.98</td>\n",
       "      <td>0</td>\n",
       "    </tr>\n",
       "  </tbody>\n",
       "</table>\n",
       "</div>"
      ],
      "text/plain": [
       "      userid  score       city gender  age  objects  balance  products  \\\n",
       "0   15677338    619  Ярославль      Ж   42        2      NaN         1   \n",
       "3   15744090    699  Ярославль      Ж   39        1      NaN         2   \n",
       "6   15635267    822  Ярославль      М   50        7      NaN         2   \n",
       "11  15779909    497    Рыбинск      М   24        3      NaN         2   \n",
       "12  15675000    476  Ярославль      Ж   34       10      NaN         2   \n",
       "\n",
       "    creditcard  loyalty  estimated_salary  churn  \n",
       "0            1        1         101348.88      1  \n",
       "3            0        0          93826.63      0  \n",
       "6            1        1          10062.80      0  \n",
       "11           1        0          76390.01      0  \n",
       "12           1        0          26260.98      0  "
      ]
     },
     "metadata": {},
     "output_type": "display_data"
    },
    {
     "name": "stdout",
     "output_type": "stream",
     "text": [
      "\n"
     ]
    },
    {
     "data": {
      "image/png": "[encoded data removed]",
      "text/plain": [
       "<Figure size 360x360 with 1 Axes>"
      ]
     },
     "metadata": {},
     "output_type": "display_data"
    },
    {
     "data": {
      "image/png": "[encoded data removed]",
      "text/plain": [
       "<Figure size 360x360 with 1 Axes>"
      ]
     },
     "metadata": {},
     "output_type": "display_data"
    }
   ],
   "source": [
    "data_nan = data.query('balance != balance')\n",
    "print('Первые строки данных с пропусками:')\n",
    "display(data_nan.head())\n",
    "print()\n",
    "for i in ['city', 'gender']:\n",
    "    data_nan.groupby(i).agg({'userid':'count'}).sort_values(by='userid', ascending=False).plot(y='userid', kind='pie', autopct='%0.01f%%', figsize=(5,5), title = \"Распределение данных с пропусками по {}\".format(i), legend=None)\n",
    "plt.show()"
   ]
  },
  {
   "cell_type": "markdown",
   "metadata": {},
   "source": [
    "* Пропуски в данных по балансу есть только в Ярославле и Рыбинске. В данных по Ростове Великом пропусков нет.   \n",
    "Наибольшая часть пропущенных значений приходится на клиентов ярославских отделений банка.    \n",
    "* 54,3% пропусков относятся к клиентам мужского пола и 45,7% к клиентам женского пола. \n",
    "\n",
    "Выгрузим характерные значения данных с пропусками по отдельно по Ярославлю и Рыбинску, чтобы выявить возможные взаимосвязи по территориальному признаку:"
   ]
  },
  {
   "cell_type": "code",
   "execution_count": 53,
   "metadata": {},
   "outputs": [
    {
     "name": "stdout",
     "output_type": "stream",
     "text": [
      "Характерные значения данных с пропусками по Ярославлю:\n"
     ]
    },
    {
     "data": {
      "text/html": [
       "<div>\n",
       "<style scoped>\n",
       "    .dataframe tbody tr th:only-of-type {\n",
       "        vertical-align: middle;\n",
       "    }\n",
       "\n",
       "    .dataframe tbody tr th {\n",
       "        vertical-align: top;\n",
       "    }\n",
       "\n",
       "    .dataframe thead th {\n",
       "        text-align: right;\n",
       "    }\n",
       "</style>\n",
       "<table border=\"1\" class=\"dataframe\">\n",
       "  <thead>\n",
       "    <tr style=\"text-align: right;\">\n",
       "      <th></th>\n",
       "      <th>count</th>\n",
       "      <th>mean</th>\n",
       "      <th>std</th>\n",
       "      <th>min</th>\n",
       "      <th>25%</th>\n",
       "      <th>50%</th>\n",
       "      <th>75%</th>\n",
       "      <th>max</th>\n",
       "    </tr>\n",
       "  </thead>\n",
       "  <tbody>\n",
       "    <tr>\n",
       "      <th>score</th>\n",
       "      <td>2418.0</td>\n",
       "      <td>648.345740</td>\n",
       "      <td>96.885737</td>\n",
       "      <td>350.00</td>\n",
       "      <td>581.0000</td>\n",
       "      <td>651.000</td>\n",
       "      <td>716.0000</td>\n",
       "      <td>850.00</td>\n",
       "    </tr>\n",
       "    <tr>\n",
       "      <th>age</th>\n",
       "      <td>2418.0</td>\n",
       "      <td>38.404467</td>\n",
       "      <td>10.520316</td>\n",
       "      <td>18.00</td>\n",
       "      <td>31.0000</td>\n",
       "      <td>37.000</td>\n",
       "      <td>43.0000</td>\n",
       "      <td>85.00</td>\n",
       "    </tr>\n",
       "    <tr>\n",
       "      <th>objects</th>\n",
       "      <td>2418.0</td>\n",
       "      <td>5.064516</td>\n",
       "      <td>2.866058</td>\n",
       "      <td>0.00</td>\n",
       "      <td>3.0000</td>\n",
       "      <td>5.000</td>\n",
       "      <td>7.0000</td>\n",
       "      <td>10.00</td>\n",
       "    </tr>\n",
       "    <tr>\n",
       "      <th>balance</th>\n",
       "      <td>0.0</td>\n",
       "      <td>NaN</td>\n",
       "      <td>NaN</td>\n",
       "      <td>NaN</td>\n",
       "      <td>NaN</td>\n",
       "      <td>NaN</td>\n",
       "      <td>NaN</td>\n",
       "      <td>NaN</td>\n",
       "    </tr>\n",
       "    <tr>\n",
       "      <th>products</th>\n",
       "      <td>2418.0</td>\n",
       "      <td>1.781224</td>\n",
       "      <td>0.497934</td>\n",
       "      <td>1.00</td>\n",
       "      <td>1.0000</td>\n",
       "      <td>2.000</td>\n",
       "      <td>2.0000</td>\n",
       "      <td>4.00</td>\n",
       "    </tr>\n",
       "    <tr>\n",
       "      <th>creditcard</th>\n",
       "      <td>2418.0</td>\n",
       "      <td>0.719603</td>\n",
       "      <td>0.449286</td>\n",
       "      <td>0.00</td>\n",
       "      <td>0.0000</td>\n",
       "      <td>1.000</td>\n",
       "      <td>1.0000</td>\n",
       "      <td>1.00</td>\n",
       "    </tr>\n",
       "    <tr>\n",
       "      <th>loyalty</th>\n",
       "      <td>2418.0</td>\n",
       "      <td>0.521092</td>\n",
       "      <td>0.499658</td>\n",
       "      <td>0.00</td>\n",
       "      <td>0.0000</td>\n",
       "      <td>1.000</td>\n",
       "      <td>1.0000</td>\n",
       "      <td>1.00</td>\n",
       "    </tr>\n",
       "    <tr>\n",
       "      <th>estimated_salary</th>\n",
       "      <td>2418.0</td>\n",
       "      <td>99119.893565</td>\n",
       "      <td>57758.761656</td>\n",
       "      <td>90.07</td>\n",
       "      <td>49854.7275</td>\n",
       "      <td>98264.445</td>\n",
       "      <td>148525.3775</td>\n",
       "      <td>199909.32</td>\n",
       "    </tr>\n",
       "    <tr>\n",
       "      <th>churn</th>\n",
       "      <td>2418.0</td>\n",
       "      <td>0.139371</td>\n",
       "      <td>0.346405</td>\n",
       "      <td>0.00</td>\n",
       "      <td>0.0000</td>\n",
       "      <td>0.000</td>\n",
       "      <td>0.0000</td>\n",
       "      <td>1.00</td>\n",
       "    </tr>\n",
       "  </tbody>\n",
       "</table>\n",
       "</div>"
      ],
      "text/plain": [
       "                   count          mean           std     min         25%  \\\n",
       "score             2418.0    648.345740     96.885737  350.00    581.0000   \n",
       "age               2418.0     38.404467     10.520316   18.00     31.0000   \n",
       "objects           2418.0      5.064516      2.866058    0.00      3.0000   \n",
       "balance              0.0           NaN           NaN     NaN         NaN   \n",
       "products          2418.0      1.781224      0.497934    1.00      1.0000   \n",
       "creditcard        2418.0      0.719603      0.449286    0.00      0.0000   \n",
       "loyalty           2418.0      0.521092      0.499658    0.00      0.0000   \n",
       "estimated_salary  2418.0  99119.893565  57758.761656   90.07  49854.7275   \n",
       "churn             2418.0      0.139371      0.346405    0.00      0.0000   \n",
       "\n",
       "                        50%          75%        max  \n",
       "score               651.000     716.0000     850.00  \n",
       "age                  37.000      43.0000      85.00  \n",
       "objects               5.000       7.0000      10.00  \n",
       "balance                 NaN          NaN        NaN  \n",
       "products              2.000       2.0000       4.00  \n",
       "creditcard            1.000       1.0000       1.00  \n",
       "loyalty               1.000       1.0000       1.00  \n",
       "estimated_salary  98264.445  148525.3775  199909.32  \n",
       "churn                 0.000       0.0000       1.00  "
      ]
     },
     "metadata": {},
     "output_type": "display_data"
    }
   ],
   "source": [
    "nan_yaroslavl = data_nan.query('city == \"Ярославль\"')\n",
    "print('Характерные значения данных с пропусками по Ярославлю:')\n",
    "display(nan_yaroslavl.loc[:,'score':'churn'].describe().T);"
   ]
  },
  {
   "cell_type": "code",
   "execution_count": 54,
   "metadata": {},
   "outputs": [
    {
     "name": "stdout",
     "output_type": "stream",
     "text": [
      "Характерные значения данных с пропусками по Рыбинску:\n"
     ]
    },
    {
     "data": {
      "text/html": [
       "<div>\n",
       "<style scoped>\n",
       "    .dataframe tbody tr th:only-of-type {\n",
       "        vertical-align: middle;\n",
       "    }\n",
       "\n",
       "    .dataframe tbody tr th {\n",
       "        vertical-align: top;\n",
       "    }\n",
       "\n",
       "    .dataframe thead th {\n",
       "        text-align: right;\n",
       "    }\n",
       "</style>\n",
       "<table border=\"1\" class=\"dataframe\">\n",
       "  <thead>\n",
       "    <tr style=\"text-align: right;\">\n",
       "      <th></th>\n",
       "      <th>count</th>\n",
       "      <th>mean</th>\n",
       "      <th>std</th>\n",
       "      <th>min</th>\n",
       "      <th>25%</th>\n",
       "      <th>50%</th>\n",
       "      <th>75%</th>\n",
       "      <th>max</th>\n",
       "    </tr>\n",
       "  </thead>\n",
       "  <tbody>\n",
       "    <tr>\n",
       "      <th>score</th>\n",
       "      <td>1199.0</td>\n",
       "      <td>651.685571</td>\n",
       "      <td>94.676536</td>\n",
       "      <td>382.00</td>\n",
       "      <td>585.00</td>\n",
       "      <td>650.00</td>\n",
       "      <td>717.00</td>\n",
       "      <td>850.00</td>\n",
       "    </tr>\n",
       "    <tr>\n",
       "      <th>age</th>\n",
       "      <td>1199.0</td>\n",
       "      <td>38.496247</td>\n",
       "      <td>10.438777</td>\n",
       "      <td>18.00</td>\n",
       "      <td>32.00</td>\n",
       "      <td>37.00</td>\n",
       "      <td>43.00</td>\n",
       "      <td>88.00</td>\n",
       "    </tr>\n",
       "    <tr>\n",
       "      <th>objects</th>\n",
       "      <td>1199.0</td>\n",
       "      <td>5.085071</td>\n",
       "      <td>2.851254</td>\n",
       "      <td>0.00</td>\n",
       "      <td>3.00</td>\n",
       "      <td>5.00</td>\n",
       "      <td>8.00</td>\n",
       "      <td>10.00</td>\n",
       "    </tr>\n",
       "    <tr>\n",
       "      <th>balance</th>\n",
       "      <td>0.0</td>\n",
       "      <td>NaN</td>\n",
       "      <td>NaN</td>\n",
       "      <td>NaN</td>\n",
       "      <td>NaN</td>\n",
       "      <td>NaN</td>\n",
       "      <td>NaN</td>\n",
       "      <td>NaN</td>\n",
       "    </tr>\n",
       "    <tr>\n",
       "      <th>products</th>\n",
       "      <td>1199.0</td>\n",
       "      <td>1.791493</td>\n",
       "      <td>0.493593</td>\n",
       "      <td>1.00</td>\n",
       "      <td>2.00</td>\n",
       "      <td>2.00</td>\n",
       "      <td>2.00</td>\n",
       "      <td>4.00</td>\n",
       "    </tr>\n",
       "    <tr>\n",
       "      <th>creditcard</th>\n",
       "      <td>1199.0</td>\n",
       "      <td>0.710592</td>\n",
       "      <td>0.453677</td>\n",
       "      <td>0.00</td>\n",
       "      <td>0.00</td>\n",
       "      <td>1.00</td>\n",
       "      <td>1.00</td>\n",
       "      <td>1.00</td>\n",
       "    </tr>\n",
       "    <tr>\n",
       "      <th>loyalty</th>\n",
       "      <td>1199.0</td>\n",
       "      <td>0.511259</td>\n",
       "      <td>0.500082</td>\n",
       "      <td>0.00</td>\n",
       "      <td>0.00</td>\n",
       "      <td>1.00</td>\n",
       "      <td>1.00</td>\n",
       "      <td>1.00</td>\n",
       "    </tr>\n",
       "    <tr>\n",
       "      <th>estimated_salary</th>\n",
       "      <td>1199.0</td>\n",
       "      <td>98708.617389</td>\n",
       "      <td>57697.565204</td>\n",
       "      <td>417.41</td>\n",
       "      <td>48175.56</td>\n",
       "      <td>98820.09</td>\n",
       "      <td>147663.49</td>\n",
       "      <td>199992.48</td>\n",
       "    </tr>\n",
       "    <tr>\n",
       "      <th>churn</th>\n",
       "      <td>1199.0</td>\n",
       "      <td>0.135947</td>\n",
       "      <td>0.342875</td>\n",
       "      <td>0.00</td>\n",
       "      <td>0.00</td>\n",
       "      <td>0.00</td>\n",
       "      <td>0.00</td>\n",
       "      <td>1.00</td>\n",
       "    </tr>\n",
       "  </tbody>\n",
       "</table>\n",
       "</div>"
      ],
      "text/plain": [
       "                   count          mean           std     min       25%  \\\n",
       "score             1199.0    651.685571     94.676536  382.00    585.00   \n",
       "age               1199.0     38.496247     10.438777   18.00     32.00   \n",
       "objects           1199.0      5.085071      2.851254    0.00      3.00   \n",
       "balance              0.0           NaN           NaN     NaN       NaN   \n",
       "products          1199.0      1.791493      0.493593    1.00      2.00   \n",
       "creditcard        1199.0      0.710592      0.453677    0.00      0.00   \n",
       "loyalty           1199.0      0.511259      0.500082    0.00      0.00   \n",
       "estimated_salary  1199.0  98708.617389  57697.565204  417.41  48175.56   \n",
       "churn             1199.0      0.135947      0.342875    0.00      0.00   \n",
       "\n",
       "                       50%        75%        max  \n",
       "score               650.00     717.00     850.00  \n",
       "age                  37.00      43.00      88.00  \n",
       "objects               5.00       8.00      10.00  \n",
       "balance                NaN        NaN        NaN  \n",
       "products              2.00       2.00       4.00  \n",
       "creditcard            1.00       1.00       1.00  \n",
       "loyalty               1.00       1.00       1.00  \n",
       "estimated_salary  98820.09  147663.49  199992.48  \n",
       "churn                 0.00       0.00       1.00  "
      ]
     },
     "metadata": {},
     "output_type": "display_data"
    }
   ],
   "source": [
    "nan_rybinsk = data_nan.query('city == \"Рыбинск\"')\n",
    "print('Характерные значения данных с пропусками по Рыбинску:')\n",
    "display(nan_rybinsk.loc[:,'score':'churn'].describe().T);"
   ]
  },
  {
   "cell_type": "markdown",
   "metadata": {},
   "source": [
    "Описательная статистика числовых столбцов среза с пропусками отличается от всего датасета несильно.  "
   ]
  },
  {
   "cell_type": "markdown",
   "metadata": {},
   "source": [
    "**Посмотрим на частоту значений данных с пропусками на гистограмме:**"
   ]
  },
  {
   "cell_type": "code",
   "execution_count": 55,
   "metadata": {},
   "outputs": [
    {
     "data": {
      "image/png": "[encoded data removed]",
      "text/plain": [
       "<Figure size 720x720 with 9 Axes>"
      ]
     },
     "metadata": {
      "needs_background": "light"
     },
     "output_type": "display_data"
    }
   ],
   "source": [
    "# отдельно по Ярославлю\n",
    "nan_yaroslavl.loc[:,'score':'churn'].hist(figsize=(10,10));"
   ]
  },
  {
   "cell_type": "code",
   "execution_count": 56,
   "metadata": {},
   "outputs": [
    {
     "data": {
      "image/png": "[encoded data removed]",
      "text/plain": [
       "<Figure size 720x720 with 9 Axes>"
      ]
     },
     "metadata": {
      "needs_background": "light"
     },
     "output_type": "display_data"
    }
   ],
   "source": [
    "# отдельно по Рыбинску\n",
    "nan_rybinsk.loc[:,'score':'churn'].hist(figsize=(10,10));"
   ]
  },
  {
   "cell_type": "markdown",
   "metadata": {},
   "source": [
    "**Вывод**: С учётом того, что по данным клиентов из Ростова Великого пропусков нет, то в данных по Ярославлю и Рыбинску пропуски могут быть связаны с ошибками при заполнении данных сотрудниками или с техническим сбоем при загрузке/выгрузке датасета.\n",
    "\n",
    "По гистограмме видим, что у большей части клиентов с пропусками есть кредитная карта, но не у всех. Нельзя однозначно утверждать, что пропуски означают отрицательный баланс. \n",
    "\n",
    "При этом, явных признаков того, что пропуски означают нулевой баланс нет, кроме того, что в данных нет клиентов с нулевым балансом (таких клиентов нет и в Ростове Великом)\n",
    "\n",
    "По данным клиентам практически одинаково распределено количество активных и неактивных. Среди них большая часть не попали в отток и остаются клиентами банка. \n",
    "\n",
    "36,17% пропущенных данных - значительно, поэтому удалять строки не следует во избежание искажения результатов исследования. По этой же причине не будем заменять пропуски на 0, отрицательные значения, моду или медиану - данные в столбцах не связаны, нет оснований для замены значений. Таким образом, пропуски оставляем как есть. "
   ]
  },
  {
   "cell_type": "markdown",
   "metadata": {},
   "source": [
    "#### Проверка на выбросы\n",
    "У столбцов - `creditcard`, `loyalty`,`churn` поля принимают значения 0 или 1. Выбросы не предполагаются.  \n",
    "Столбцы `city`,`gender` принимают категориальные значения, по ним выбросы не смотрятся.  \n",
    "\n",
    "Построим график «ящик с усами» и гистограммы для столбцов с числовыми значениями - `score`, `age`, `objects`, `balance`,`products`, `estimated_salary`."
   ]
  },
  {
   "cell_type": "code",
   "execution_count": 57,
   "metadata": {},
   "outputs": [
    {
     "data": {
      "text/html": [
       "<div>\n",
       "<style scoped>\n",
       "    .dataframe tbody tr th:only-of-type {\n",
       "        vertical-align: middle;\n",
       "    }\n",
       "\n",
       "    .dataframe tbody tr th {\n",
       "        vertical-align: top;\n",
       "    }\n",
       "\n",
       "    .dataframe thead th {\n",
       "        text-align: right;\n",
       "    }\n",
       "</style>\n",
       "<table border=\"1\" class=\"dataframe\">\n",
       "  <thead>\n",
       "    <tr style=\"text-align: right;\">\n",
       "      <th></th>\n",
       "      <th>count</th>\n",
       "      <th>mean</th>\n",
       "      <th>std</th>\n",
       "      <th>min</th>\n",
       "      <th>25%</th>\n",
       "      <th>50%</th>\n",
       "      <th>75%</th>\n",
       "      <th>max</th>\n",
       "    </tr>\n",
       "  </thead>\n",
       "  <tbody>\n",
       "    <tr>\n",
       "      <th>score</th>\n",
       "      <td>10000.0</td>\n",
       "      <td>650.528800</td>\n",
       "      <td>96.653299</td>\n",
       "      <td>350.00</td>\n",
       "      <td>584.000</td>\n",
       "      <td>652.000</td>\n",
       "      <td>718.0000</td>\n",
       "      <td>850.00</td>\n",
       "    </tr>\n",
       "    <tr>\n",
       "      <th>age</th>\n",
       "      <td>10000.0</td>\n",
       "      <td>38.921800</td>\n",
       "      <td>10.487806</td>\n",
       "      <td>18.00</td>\n",
       "      <td>32.000</td>\n",
       "      <td>37.000</td>\n",
       "      <td>44.0000</td>\n",
       "      <td>92.00</td>\n",
       "    </tr>\n",
       "    <tr>\n",
       "      <th>objects</th>\n",
       "      <td>10000.0</td>\n",
       "      <td>5.012800</td>\n",
       "      <td>2.892174</td>\n",
       "      <td>0.00</td>\n",
       "      <td>3.000</td>\n",
       "      <td>5.000</td>\n",
       "      <td>7.0000</td>\n",
       "      <td>10.00</td>\n",
       "    </tr>\n",
       "    <tr>\n",
       "      <th>balance</th>\n",
       "      <td>6383.0</td>\n",
       "      <td>119827.493793</td>\n",
       "      <td>30095.056462</td>\n",
       "      <td>3768.69</td>\n",
       "      <td>100181.975</td>\n",
       "      <td>119839.690</td>\n",
       "      <td>139512.2900</td>\n",
       "      <td>250898.09</td>\n",
       "    </tr>\n",
       "    <tr>\n",
       "      <th>products</th>\n",
       "      <td>10000.0</td>\n",
       "      <td>1.530200</td>\n",
       "      <td>0.581654</td>\n",
       "      <td>1.00</td>\n",
       "      <td>1.000</td>\n",
       "      <td>1.000</td>\n",
       "      <td>2.0000</td>\n",
       "      <td>4.00</td>\n",
       "    </tr>\n",
       "    <tr>\n",
       "      <th>estimated_salary</th>\n",
       "      <td>10000.0</td>\n",
       "      <td>100090.239881</td>\n",
       "      <td>57510.492818</td>\n",
       "      <td>11.58</td>\n",
       "      <td>51002.110</td>\n",
       "      <td>100193.915</td>\n",
       "      <td>149388.2475</td>\n",
       "      <td>199992.48</td>\n",
       "    </tr>\n",
       "  </tbody>\n",
       "</table>\n",
       "</div>"
      ],
      "text/plain": [
       "                    count           mean           std      min         25%  \\\n",
       "score             10000.0     650.528800     96.653299   350.00     584.000   \n",
       "age               10000.0      38.921800     10.487806    18.00      32.000   \n",
       "objects           10000.0       5.012800      2.892174     0.00       3.000   \n",
       "balance            6383.0  119827.493793  30095.056462  3768.69  100181.975   \n",
       "products          10000.0       1.530200      0.581654     1.00       1.000   \n",
       "estimated_salary  10000.0  100090.239881  57510.492818    11.58   51002.110   \n",
       "\n",
       "                         50%          75%        max  \n",
       "score                652.000     718.0000     850.00  \n",
       "age                   37.000      44.0000      92.00  \n",
       "objects                5.000       7.0000      10.00  \n",
       "balance           119839.690  139512.2900  250898.09  \n",
       "products               1.000       2.0000       4.00  \n",
       "estimated_salary  100193.915  149388.2475  199992.48  "
      ]
     },
     "execution_count": 57,
     "metadata": {},
     "output_type": "execute_result"
    }
   ],
   "source": [
    "# выгрузка характерных значений для рассматриваемых столбцов\n",
    "data.loc[:, ['score','age','objects','balance','products','estimated_salary']].describe().T"
   ]
  },
  {
   "cell_type": "code",
   "execution_count": 58,
   "metadata": {
    "scrolled": false
   },
   "outputs": [
    {
     "name": "stdout",
     "output_type": "stream",
     "text": [
      "Диаграммам размаха столбца score:\n"
     ]
    },
    {
     "data": {
      "image/png": "[encoded data removed]",
      "text/plain": [
       "<Figure size 432x288 with 1 Axes>"
      ]
     },
     "metadata": {
      "needs_background": "light"
     },
     "output_type": "display_data"
    },
    {
     "name": "stdout",
     "output_type": "stream",
     "text": [
      "Гистограмма значений столбца score:\n"
     ]
    },
    {
     "data": {
      "image/png": "[encoded data removed]",
      "text/plain": [
       "<Figure size 432x288 with 1 Axes>"
      ]
     },
     "metadata": {
      "needs_background": "light"
     },
     "output_type": "display_data"
    },
    {
     "name": "stdout",
     "output_type": "stream",
     "text": [
      "Диаграммам размаха столбца age:\n"
     ]
    },
    {
     "data": {
      "image/png": "[encoded data removed]",
      "text/plain": [
       "<Figure size 432x288 with 1 Axes>"
      ]
     },
     "metadata": {
      "needs_background": "light"
     },
     "output_type": "display_data"
    },
    {
     "name": "stdout",
     "output_type": "stream",
     "text": [
      "Гистограмма значений столбца age:\n"
     ]
    },
    {
     "data": {
      "image/png": "[encoded data removed]",
      "text/plain": [
       "<Figure size 432x288 with 1 Axes>"
      ]
     },
     "metadata": {
      "needs_background": "light"
     },
     "output_type": "display_data"
    },
    {
     "name": "stdout",
     "output_type": "stream",
     "text": [
      "Диаграммам размаха столбца objects:\n"
     ]
    },
    {
     "data": {
      "image/png": "[encoded data removed]",
      "text/plain": [
       "<Figure size 432x288 with 1 Axes>"
      ]
     },
     "metadata": {
      "needs_background": "light"
     },
     "output_type": "display_data"
    },
    {
     "name": "stdout",
     "output_type": "stream",
     "text": [
      "Гистограмма значений столбца objects:\n"
     ]
    },
    {
     "data": {
      "image/png": "[encoded data removed]",
      "text/plain": [
       "<Figure size 432x288 with 1 Axes>"
      ]
     },
     "metadata": {
      "needs_background": "light"
     },
     "output_type": "display_data"
    },
    {
     "name": "stdout",
     "output_type": "stream",
     "text": [
      "Диаграммам размаха столбца balance:\n"
     ]
    },
    {
     "data": {
      "image/png": "[encoded data removed]",
      "text/plain": [
       "<Figure size 432x288 with 1 Axes>"
      ]
     },
     "metadata": {
      "needs_background": "light"
     },
     "output_type": "display_data"
    },
    {
     "name": "stdout",
     "output_type": "stream",
     "text": [
      "Гистограмма значений столбца balance:\n"
     ]
    },
    {
     "data": {
      "image/png": "[encoded data removed]",
      "text/plain": [
       "<Figure size 432x288 with 1 Axes>"
      ]
     },
     "metadata": {
      "needs_background": "light"
     },
     "output_type": "display_data"
    },
    {
     "name": "stdout",
     "output_type": "stream",
     "text": [
      "Диаграммам размаха столбца products:\n"
     ]
    },
    {
     "data": {
      "image/png": "[encoded data removed]",
      "text/plain": [
       "<Figure size 432x288 with 1 Axes>"
      ]
     },
     "metadata": {
      "needs_background": "light"
     },
     "output_type": "display_data"
    },
    {
     "name": "stdout",
     "output_type": "stream",
     "text": [
      "Гистограмма значений столбца products:\n"
     ]
    },
    {
     "data": {
      "image/png": "[encoded data removed]",
      "text/plain": [
       "<Figure size 432x288 with 1 Axes>"
      ]
     },
     "metadata": {
      "needs_background": "light"
     },
     "output_type": "display_data"
    },
    {
     "name": "stdout",
     "output_type": "stream",
     "text": [
      "Диаграммам размаха столбца estimated_salary:\n"
     ]
    },
    {
     "data": {
      "image/png": "[encoded data removed]",
      "text/plain": [
       "<Figure size 432x288 with 1 Axes>"
      ]
     },
     "metadata": {
      "needs_background": "light"
     },
     "output_type": "display_data"
    },
    {
     "name": "stdout",
     "output_type": "stream",
     "text": [
      "Гистограмма значений столбца estimated_salary:\n"
     ]
    },
    {
     "data": {
      "image/png": "[encoded data removed]",
      "text/plain": [
       "<Figure size 432x288 with 1 Axes>"
      ]
     },
     "metadata": {
      "needs_background": "light"
     },
     "output_type": "display_data"
    }
   ],
   "source": [
    "# Диаграммам размаха и Гистограмма значений столбцов с числовыми значениями \n",
    "for i in ['score','age','objects','balance','products','estimated_salary']:\n",
    "    print('Диаграммам размаха столбца {}:'.format(i))\n",
    "    data.boxplot(i)\n",
    "    plt.show();\n",
    "    print('Гистограмма значений столбца {}:'.format(i))\n",
    "    data[i].hist(bins=100)\n",
    "    plt.show();"
   ]
  },
  {
   "cell_type": "markdown",
   "metadata": {},
   "source": [
    "По диаграммам размаха и гистограммам видим следующее:\n",
    "- В столбце `estimated_salary` есть предельно низкие значения дохода (от 11,58р.), но все значения находятся в пределах усов. Со своей стороны можем предположить, что в данный столбец учитывается не только заработная плата, но и стипендии, пособии, % от вкладов.\n",
    "- В столбце `objects` имеются значения от 0 до 10 объектов в собственности. Максимальное и минимальное значения встречаются реже остальных, но находятся в пределах усов.  \n",
    "\n",
    "Выбросы можем отметить в столбцах:\n",
    "- `score` - менее 400 баллов кредитного скоринга\n",
    "- `age` - возраст более 75 лет\n",
    "- `balance` - баланс на счете менее 50 000р. и более 200 000р.\n",
    "- `products` - более 3х продуктов \n",
    "\n",
    "Аномальные значения в данных столбцах не похожи на ошибки ввода данных. Также предварительно непонятно как данные выбросы влияют на результат анализа. При этом данные могут быть информативны в отношении изучения оттока клиентов. Удалять из выборки данные не будем, а учтем их наличие в датасете и произведем разделение клиентов на категории. "
   ]
  },
  {
   "cell_type": "code",
   "execution_count": 59,
   "metadata": {},
   "outputs": [
    {
     "name": "stdout",
     "output_type": "stream",
     "text": [
      "Диаграммам размаха столбца estimated_salary:\n"
     ]
    },
    {
     "data": {
      "image/png": "[encoded data removed]",
      "text/plain": [
       "<Figure size 432x288 with 1 Axes>"
      ]
     },
     "metadata": {
      "needs_background": "light"
     },
     "output_type": "display_data"
    }
   ],
   "source": [
    "print('Диаграммам размаха столбца estimated_salary:')\n",
    "data.boxplot('estimated_salary')\n",
    "plt.show();"
   ]
  },
  {
   "cell_type": "markdown",
   "metadata": {},
   "source": [
    "### Добавление новых столбцов для категориальных данных 'city' и 'gender'"
   ]
  },
  {
   "cell_type": "code",
   "execution_count": 60,
   "metadata": {},
   "outputs": [],
   "source": [
    "data['gender_2'] = data['gender']\n",
    "\n",
    "data = pd.get_dummies(data, columns = ['gender_2'])\n",
    "data = data.rename(columns = ({'gender_2_Ж': 'woman', 'gender_2_М': 'man'}))\n",
    "\n",
    "data['city_2'] = data['city']\n",
    "\n",
    "data = pd.get_dummies(data, columns = ['city_2'])\n",
    "data = data.rename(columns = ({'city_2_Ярославль': 'Yaroslavl', 'city_2_Рыбинск': 'Rybinsk', 'city_2_Ростов Великий':'Rosrov_V'}))"
   ]
  },
  {
   "cell_type": "markdown",
   "metadata": {},
   "source": [
    "### Вывод по этапу предобработки данных\n",
    "\n",
    "На этапе предобработки данных было сделано:\n",
    "- приведение названий столбцов к нижнему регистру\n",
    "- проверка данных на пропуски. Обнаружили пропуск 36.17% данных стоблце «баланс на счёте».  Во избежание искажения результатов исследования, пропуски не удалялись и не заменялись на иные значения\n",
    "- проверка данных на выбросы показала наличие аномальных значений в стоблцах `score`, `age`,`balance`, `products`. Так как данные могут быть информативны в рамках рассматриваемой задачи, была решено не удалять выбросы, а учтесть их наличие, разделив клиентов на ряд категорий.\n",
    "- для столбцов с категориальными значениями ('city' и 'gender') добавлены столбцы с числовыми значениями"
   ]
  },
  {
   "cell_type": "markdown",
   "metadata": {},
   "source": [
    "## Исследовательский анализ данных"
   ]
  },
  {
   "cell_type": "markdown",
   "metadata": {},
   "source": [
    "### Распределение оттока по параметрам\n",
    "\n",
    "Посмотрим как распределены данные по оттоку. Для этого построим нормализованные гистограммы по всем параметрам.   \n",
    "Это поможет нам выявить признаки оттока"
   ]
  },
  {
   "cell_type": "code",
   "execution_count": 61,
   "metadata": {
    "scrolled": false
   },
   "outputs": [
    {
     "data": {
      "image/png": "[encoded data removed]",
      "text/plain": [
       "<Figure size 618.375x360 with 1 Axes>"
      ]
     },
     "metadata": {
      "needs_background": "light"
     },
     "output_type": "display_data"
    },
    {
     "data": {
      "image/png": "[encoded data removed]",
      "text/plain": [
       "<Figure size 618.375x360 with 1 Axes>"
      ]
     },
     "metadata": {
      "needs_background": "light"
     },
     "output_type": "display_data"
    },
    {
     "data": {
      "image/png": "[encoded data removed]",
      "text/plain": [
       "<Figure size 618.375x360 with 1 Axes>"
      ]
     },
     "metadata": {
      "needs_background": "light"
     },
     "output_type": "display_data"
    },
    {
     "data": {
      "image/png": "[encoded data removed]",
      "text/plain": [
       "<Figure size 618.375x360 with 1 Axes>"
      ]
     },
     "metadata": {
      "needs_background": "light"
     },
     "output_type": "display_data"
    },
    {
     "data": {
      "image/png": "[encoded data removed]",
      "text/plain": [
       "<Figure size 618.375x360 with 1 Axes>"
      ]
     },
     "metadata": {
      "needs_background": "light"
     },
     "output_type": "display_data"
    },
    {
     "data": {
      "image/png": "[encoded data removed]",
      "text/plain": [
       "<Figure size 618.375x360 with 1 Axes>"
      ]
     },
     "metadata": {
      "needs_background": "light"
     },
     "output_type": "display_data"
    },
    {
     "data": {
      "image/png": "[encoded data removed]",
      "text/plain": [
       "<Figure size 618.375x360 with 1 Axes>"
      ]
     },
     "metadata": {
      "needs_background": "light"
     },
     "output_type": "display_data"
    },
    {
     "data": {
      "image/png": "[encoded data removed]",
      "text/plain": [
       "<Figure size 618.375x360 with 1 Axes>"
      ]
     },
     "metadata": {
      "needs_background": "light"
     },
     "output_type": "display_data"
    },
    {
     "data": {
      "image/png": "[encoded data removed]",
      "text/plain": [
       "<Figure size 618.375x360 with 1 Axes>"
      ]
     },
     "metadata": {
      "needs_background": "light"
     },
     "output_type": "display_data"
    },
    {
     "data": {
      "image/png": "[encoded data removed]",
      "text/plain": [
       "<Figure size 618.375x360 with 1 Axes>"
      ]
     },
     "metadata": {
      "needs_background": "light"
     },
     "output_type": "display_data"
    },
    {
     "data": {
      "image/png": "[encoded data removed]",
      "text/plain": [
       "<Figure size 618.375x360 with 1 Axes>"
      ]
     },
     "metadata": {
      "needs_background": "light"
     },
     "output_type": "display_data"
    },
    {
     "data": {
      "image/png": "[encoded data removed]",
      "text/plain": [
       "<Figure size 618.375x360 with 1 Axes>"
      ]
     },
     "metadata": {
      "needs_background": "light"
     },
     "output_type": "display_data"
    },
    {
     "data": {
      "image/png": "[encoded data removed]",
      "text/plain": [
       "<Figure size 618.375x360 with 1 Axes>"
      ]
     },
     "metadata": {
      "needs_background": "light"
     },
     "output_type": "display_data"
    }
   ],
   "source": [
    "for i in data.columns:\n",
    "    if i != 'userid' and i != 'city' and i != 'gender' and i != 'churn':\n",
    "        sns.displot(\n",
    "            data, x=i, hue='churn',\n",
    "            linewidth=0.5, kde=True,\n",
    "            stat=\"density\", common_norm=False,\n",
    "            height=5, aspect=1.6, bins=25)\n",
    "        plt.title(i.upper(), fontsize=30)\n",
    "        plt.show();"
   ]
  },
  {
   "cell_type": "markdown",
   "metadata": {},
   "source": [
    "1) По графику баллов кредитного скоринга: у данных по оттоку есть хвост левее 450 баллов. До 650 баллов кривая плотности оттока находится выше кривой плотности не попадающих в отток. С увеличением количества баллов, от 650, плотность оттока клиентов снижается.\n",
    "\n",
    "2) Хорошо видно, что графики отточных и неотточных клиентов по возрасту разъезжаются в разные стороны. Наибольшее количество неотточных клиентов находятся в возрасте 30-40 лет. До 40 лет кривая плотности неоточных клиентов выше, чем у клиентов в оттоке. Плотность оттока принимает наибольшие значения у клиентов в возрасте от 40 до 50 лет. При этом высокий отток  наблюдается у клиентов вплоть до 65 лет и только после становится ниже, чем у неотточных клиентов.\n",
    "\n",
    "3) По количеству продуктов, видим закономерность: наиболее устойчивы клиенты с 2 банковскими продуктами. Среди клиентов с 1 продуктом отток заметный. А прочти все клиенты с 3-4 продуктами попадают в отток. \n",
    "\n",
    "4) Неактивные клиенты чаще попадают в отток, чем активные\n",
    "\n",
    "5) Среди клиентов женщин отток выше, чем среди клиентов мужского пола\n",
    "\n",
    "6) В Ростове Великом плотность оттока клиентов выше, а в Ярославле и Рыбинске такого не наблюдается.  \n",
    "\n",
    "По количеству объектов недвижимости, балансу, наличию кредитной карты, зарплате - линии плотности практически повторяют друг друга"
   ]
  },
  {
   "cell_type": "markdown",
   "metadata": {},
   "source": [
    "### Расчет общей доли оттока"
   ]
  },
  {
   "cell_type": "code",
   "execution_count": 62,
   "metadata": {},
   "outputs": [
    {
     "name": "stdout",
     "output_type": "stream",
     "text": [
      "Доля ушедших клиентов составляет: 20.37% клиентов\n"
     ]
    }
   ],
   "source": [
    "#отберем клиентов, которые попали в отток. Для удобства анализа оставим только добавленные столбцы\n",
    "print('Доля ушедших клиентов составляет: {:.2%} клиентов'.\n",
    "      format(data.query('churn == 1')['userid'].count()/data['userid'].count()))"
   ]
  },
  {
   "cell_type": "markdown",
   "metadata": {},
   "source": [
    "### Рассчет доли оттока по категориям в параметрах, влияющих на отток\n",
    "\n",
    "Рассчитаем долю оттока в категориях `score`, `age`, `products`, `loyalty`, `gender`, `city` и сравним с показателем общего оттока. Таким образом найдем высокооточные категории в параметрах.\n",
    "\n",
    "Для начала значения столбцов `score`, `age` необходимо объединить в категории"
   ]
  },
  {
   "cell_type": "markdown",
   "metadata": {},
   "source": [
    "#### Категории по баллам кредитного скоринга:  \n",
    "Делить на категории будем на основании ранее построенного нормированного графика распределения:\n",
    "\n",
    "По нему мы видели:\n",
    "- высокая доля оттока была у клиентов с баллами кредитного скоринга ниже **450**.  \n",
    "- Кривая плотности отточных клиентов была выше другой кривой до **650** баллов.   \n",
    "- В значениях 650-**750** кривая оставшихся клиентов была выше, далее графики практически совпадали.   \n",
    "\n",
    "По этим значениям и разделим клиентов  "
   ]
  },
  {
   "cell_type": "code",
   "execution_count": 63,
   "metadata": {},
   "outputs": [
    {
     "data": {
      "text/plain": [
       "(array([ 185., 4715., 3477., 1623.]),\n",
       " array([  0., 450., 650., 750., 850.]),\n",
       " <BarContainer object of 4 artists>)"
      ]
     },
     "execution_count": 63,
     "metadata": {},
     "output_type": "execute_result"
    },
    {
     "data": {
      "image/png": "[encoded data removed]",
      "text/plain": [
       "<Figure size 432x288 with 1 Axes>"
      ]
     },
     "metadata": {
      "needs_background": "light"
     },
     "output_type": "display_data"
    }
   ],
   "source": [
    "plt.hist(data['score'], [0.0, 450.0, 650.0, 750.0, 850.0])"
   ]
  },
  {
   "cell_type": "markdown",
   "metadata": {},
   "source": [
    "Таким образом получаем категории:\n",
    "1. до 450 баллов - 185 клиентов \n",
    "2. от 451 до 650 - 4715 клиентов \n",
    "3. от 651 до 750 - 3477 клиентов \n",
    "4. от 751 до 850 - 1623 клиентов "
   ]
  },
  {
   "cell_type": "code",
   "execution_count": 64,
   "metadata": {},
   "outputs": [],
   "source": [
    "#добавление столбца с разделением клиентов на категории по баллам 450, 650, 750, 850\n",
    "def score_category(score):\n",
    "    try:\n",
    "        if 0 <= score <= 450:\n",
    "            return 1\n",
    "        elif 451 <= score <= 650:\n",
    "            return 2\n",
    "        elif 651 <= score <= 750:\n",
    "            return 3\n",
    "        elif score >= 751:\n",
    "            return 4\n",
    "    except:\n",
    "        pass\n",
    "    \n",
    "data['score_category'] = data['score'].apply(score_category)"
   ]
  },
  {
   "cell_type": "code",
   "execution_count": 65,
   "metadata": {},
   "outputs": [
    {
     "data": {
      "text/html": [
       "<div>\n",
       "<style scoped>\n",
       "    .dataframe tbody tr th:only-of-type {\n",
       "        vertical-align: middle;\n",
       "    }\n",
       "\n",
       "    .dataframe tbody tr th {\n",
       "        vertical-align: top;\n",
       "    }\n",
       "\n",
       "    .dataframe thead th {\n",
       "        text-align: right;\n",
       "    }\n",
       "</style>\n",
       "<table border=\"1\" class=\"dataframe\">\n",
       "  <thead>\n",
       "    <tr style=\"text-align: right;\">\n",
       "      <th></th>\n",
       "      <th>score_category</th>\n",
       "      <th>count</th>\n",
       "      <th>churn_1</th>\n",
       "      <th>churn_0</th>\n",
       "      <th>churn_%</th>\n",
       "    </tr>\n",
       "  </thead>\n",
       "  <tbody>\n",
       "    <tr>\n",
       "      <th>0</th>\n",
       "      <td>1</td>\n",
       "      <td>189</td>\n",
       "      <td>61</td>\n",
       "      <td>128</td>\n",
       "      <td>32.28</td>\n",
       "    </tr>\n",
       "    <tr>\n",
       "      <th>1</th>\n",
       "      <td>2</td>\n",
       "      <td>4748</td>\n",
       "      <td>996</td>\n",
       "      <td>3752</td>\n",
       "      <td>20.98</td>\n",
       "    </tr>\n",
       "    <tr>\n",
       "      <th>2</th>\n",
       "      <td>3</td>\n",
       "      <td>3465</td>\n",
       "      <td>667</td>\n",
       "      <td>2798</td>\n",
       "      <td>19.25</td>\n",
       "    </tr>\n",
       "    <tr>\n",
       "      <th>3</th>\n",
       "      <td>4</td>\n",
       "      <td>1598</td>\n",
       "      <td>313</td>\n",
       "      <td>1285</td>\n",
       "      <td>19.59</td>\n",
       "    </tr>\n",
       "  </tbody>\n",
       "</table>\n",
       "</div>"
      ],
      "text/plain": [
       "   score_category  count  churn_1  churn_0  churn_%\n",
       "0               1    189       61      128    32.28\n",
       "1               2   4748      996     3752    20.98\n",
       "2               3   3465      667     2798    19.25\n",
       "3               4   1598      313     1285    19.59"
      ]
     },
     "metadata": {},
     "output_type": "display_data"
    }
   ],
   "source": [
    "score_category = data.pivot_table(index ='score_category', values='churn', aggfunc=['count','sum']).reset_index()\n",
    "score_category.columns = ['score_category', 'count', 'churn_1']\n",
    "score_category['churn_0'] = score_category['count'] - score_category['churn_1']\n",
    "score_category['churn_%'] = round(score_category['churn_1']/score_category['count']*100,2)\n",
    "display(score_category)\n",
    "\n",
    "score_category1 = data.groupby(['score_category','churn'])['userid'].count().reset_index().rename({'userid': 'count'}, axis=1)"
   ]
  },
  {
   "cell_type": "markdown",
   "metadata": {},
   "source": [
    "К первой категории (от 0 до 450 баллов) относится мало клиентов, всего 189 человек, но из них 32% попадают в отток.   \n",
    "В остальных категориях доля оттока близка к общему показателю.  "
   ]
  },
  {
   "cell_type": "markdown",
   "metadata": {},
   "source": [
    "#### Категории по возрасту\n",
    "Также будем делить клиентов на категории исходя из данных графика распределеня:"
   ]
  },
  {
   "cell_type": "code",
   "execution_count": 66,
   "metadata": {},
   "outputs": [
    {
     "data": {
      "text/plain": [
       "(array([1641., 4346., 3731.,  282.]),\n",
       " array([  0,  30,  40,  65, 100]),\n",
       " <BarContainer object of 4 artists>)"
      ]
     },
     "execution_count": 66,
     "metadata": {},
     "output_type": "execute_result"
    },
    {
     "data": {
      "image/png": "[encoded data removed]",
      "text/plain": [
       "<Figure size 432x288 with 1 Axes>"
      ]
     },
     "metadata": {
      "needs_background": "light"
     },
     "output_type": "display_data"
    }
   ],
   "source": [
    "plt.hist(data['age'], [0, 30, 40, 65,100])"
   ]
  },
  {
   "cell_type": "markdown",
   "metadata": {},
   "source": [
    "- до 30 лет - 1641 клиент\n",
    "- от 31 до 40 лет - 4346 клиентов - на данный диапазон приходится наибольшее количество неотточных клиентов \n",
    "- от 41 до 65 лет - 3731 клиент - отток клиентов начинает превышать кривую неотточных клиентов\n",
    "- более 65 лет - 282 клиента - кривая оттока клиентов становится ниже, чем у неотточных клиентов."
   ]
  },
  {
   "cell_type": "code",
   "execution_count": 67,
   "metadata": {},
   "outputs": [],
   "source": [
    "#добавление столбца с разделением клиентов на категории по возрасту\n",
    "def age_category(age):\n",
    "    try:\n",
    "        if 0 <= age <= 30:\n",
    "            return 1\n",
    "        elif 31 <= age <= 40:\n",
    "            return 2\n",
    "        elif 41 <= age <= 65:\n",
    "            return 3\n",
    "        elif age >= 65:\n",
    "            return 4\n",
    "    except:\n",
    "        pass\n",
    "    \n",
    "data['age_category'] = data['age'].apply(age_category)"
   ]
  },
  {
   "cell_type": "code",
   "execution_count": 68,
   "metadata": {},
   "outputs": [
    {
     "data": {
      "text/html": [
       "<div>\n",
       "<style scoped>\n",
       "    .dataframe tbody tr th:only-of-type {\n",
       "        vertical-align: middle;\n",
       "    }\n",
       "\n",
       "    .dataframe tbody tr th {\n",
       "        vertical-align: top;\n",
       "    }\n",
       "\n",
       "    .dataframe thead th {\n",
       "        text-align: right;\n",
       "    }\n",
       "</style>\n",
       "<table border=\"1\" class=\"dataframe\">\n",
       "  <thead>\n",
       "    <tr style=\"text-align: right;\">\n",
       "      <th></th>\n",
       "      <th>age_category</th>\n",
       "      <th>count</th>\n",
       "      <th>churn_1</th>\n",
       "      <th>churn_0</th>\n",
       "      <th>churn_%</th>\n",
       "    </tr>\n",
       "  </thead>\n",
       "  <tbody>\n",
       "    <tr>\n",
       "      <th>0</th>\n",
       "      <td>1</td>\n",
       "      <td>1968</td>\n",
       "      <td>148</td>\n",
       "      <td>1820</td>\n",
       "      <td>7.52</td>\n",
       "    </tr>\n",
       "    <tr>\n",
       "      <th>1</th>\n",
       "      <td>2</td>\n",
       "      <td>4451</td>\n",
       "      <td>538</td>\n",
       "      <td>3913</td>\n",
       "      <td>12.09</td>\n",
       "    </tr>\n",
       "    <tr>\n",
       "      <th>2</th>\n",
       "      <td>3</td>\n",
       "      <td>3317</td>\n",
       "      <td>1316</td>\n",
       "      <td>2001</td>\n",
       "      <td>39.67</td>\n",
       "    </tr>\n",
       "    <tr>\n",
       "      <th>3</th>\n",
       "      <td>4</td>\n",
       "      <td>264</td>\n",
       "      <td>35</td>\n",
       "      <td>229</td>\n",
       "      <td>13.26</td>\n",
       "    </tr>\n",
       "  </tbody>\n",
       "</table>\n",
       "</div>"
      ],
      "text/plain": [
       "   age_category  count  churn_1  churn_0  churn_%\n",
       "0             1   1968      148     1820     7.52\n",
       "1             2   4451      538     3913    12.09\n",
       "2             3   3317     1316     2001    39.67\n",
       "3             4    264       35      229    13.26"
      ]
     },
     "metadata": {},
     "output_type": "display_data"
    }
   ],
   "source": [
    "age_category = data.pivot_table(index ='age_category', values='churn', aggfunc=['count','sum']).reset_index()\n",
    "age_category.columns = ['age_category', 'count', 'churn_1']\n",
    "age_category['churn_0'] = age_category['count'] - age_category['churn_1']\n",
    "age_category['churn_%'] = round(age_category['churn_1']/age_category['count']*100,2)\n",
    "display(age_category)\n",
    "\n",
    "age_category1 = data.groupby(['age_category','churn'])['userid'].count().reset_index().rename({'userid': 'count'}, axis=1)"
   ]
  },
  {
   "cell_type": "markdown",
   "metadata": {},
   "source": [
    "В категории 3 (с возрастом клиентов от 41 до 65 лет) доля оттока составляет 39,7%. \n",
    "В остальных категориях отток ниже собщего значения. Особенно низкий отток наблюдается в 1 категории"
   ]
  },
  {
   "cell_type": "markdown",
   "metadata": {},
   "source": [
    "#### Отток по другим показателям наиболее влияющим на отток\n",
    "Рассчитаем долю оттока в параметрах 'products','loyalty', 'woman','Rosrov_V', 'Rybinsk', 'Yaroslavl'"
   ]
  },
  {
   "cell_type": "code",
   "execution_count": 69,
   "metadata": {
    "scrolled": false
   },
   "outputs": [
    {
     "name": "stdout",
     "output_type": "stream",
     "text": [
      "Доля оттока в параметре products:\n"
     ]
    },
    {
     "data": {
      "text/html": [
       "<div>\n",
       "<style scoped>\n",
       "    .dataframe tbody tr th:only-of-type {\n",
       "        vertical-align: middle;\n",
       "    }\n",
       "\n",
       "    .dataframe tbody tr th {\n",
       "        vertical-align: top;\n",
       "    }\n",
       "\n",
       "    .dataframe thead th {\n",
       "        text-align: right;\n",
       "    }\n",
       "</style>\n",
       "<table border=\"1\" class=\"dataframe\">\n",
       "  <thead>\n",
       "    <tr style=\"text-align: right;\">\n",
       "      <th></th>\n",
       "      <th>products</th>\n",
       "      <th>count</th>\n",
       "      <th>churn_1</th>\n",
       "      <th>churn_0</th>\n",
       "      <th>churn_%</th>\n",
       "    </tr>\n",
       "  </thead>\n",
       "  <tbody>\n",
       "    <tr>\n",
       "      <th>0</th>\n",
       "      <td>1</td>\n",
       "      <td>5084</td>\n",
       "      <td>1409</td>\n",
       "      <td>3675</td>\n",
       "      <td>27.71</td>\n",
       "    </tr>\n",
       "    <tr>\n",
       "      <th>1</th>\n",
       "      <td>2</td>\n",
       "      <td>4590</td>\n",
       "      <td>348</td>\n",
       "      <td>4242</td>\n",
       "      <td>7.58</td>\n",
       "    </tr>\n",
       "    <tr>\n",
       "      <th>2</th>\n",
       "      <td>3</td>\n",
       "      <td>266</td>\n",
       "      <td>220</td>\n",
       "      <td>46</td>\n",
       "      <td>82.71</td>\n",
       "    </tr>\n",
       "    <tr>\n",
       "      <th>3</th>\n",
       "      <td>4</td>\n",
       "      <td>60</td>\n",
       "      <td>60</td>\n",
       "      <td>0</td>\n",
       "      <td>100.00</td>\n",
       "    </tr>\n",
       "  </tbody>\n",
       "</table>\n",
       "</div>"
      ],
      "text/plain": [
       "   products  count  churn_1  churn_0  churn_%\n",
       "0         1   5084     1409     3675    27.71\n",
       "1         2   4590      348     4242     7.58\n",
       "2         3    266      220       46    82.71\n",
       "3         4     60       60        0   100.00"
      ]
     },
     "metadata": {},
     "output_type": "display_data"
    },
    {
     "name": "stdout",
     "output_type": "stream",
     "text": [
      "\n",
      "Доля оттока в параметре loyalty:\n"
     ]
    },
    {
     "data": {
      "text/html": [
       "<div>\n",
       "<style scoped>\n",
       "    .dataframe tbody tr th:only-of-type {\n",
       "        vertical-align: middle;\n",
       "    }\n",
       "\n",
       "    .dataframe tbody tr th {\n",
       "        vertical-align: top;\n",
       "    }\n",
       "\n",
       "    .dataframe thead th {\n",
       "        text-align: right;\n",
       "    }\n",
       "</style>\n",
       "<table border=\"1\" class=\"dataframe\">\n",
       "  <thead>\n",
       "    <tr style=\"text-align: right;\">\n",
       "      <th></th>\n",
       "      <th>loyalty</th>\n",
       "      <th>count</th>\n",
       "      <th>churn_1</th>\n",
       "      <th>churn_0</th>\n",
       "      <th>churn_%</th>\n",
       "    </tr>\n",
       "  </thead>\n",
       "  <tbody>\n",
       "    <tr>\n",
       "      <th>0</th>\n",
       "      <td>0</td>\n",
       "      <td>4849</td>\n",
       "      <td>1302</td>\n",
       "      <td>3547</td>\n",
       "      <td>26.85</td>\n",
       "    </tr>\n",
       "    <tr>\n",
       "      <th>1</th>\n",
       "      <td>1</td>\n",
       "      <td>5151</td>\n",
       "      <td>735</td>\n",
       "      <td>4416</td>\n",
       "      <td>14.27</td>\n",
       "    </tr>\n",
       "  </tbody>\n",
       "</table>\n",
       "</div>"
      ],
      "text/plain": [
       "   loyalty  count  churn_1  churn_0  churn_%\n",
       "0        0   4849     1302     3547    26.85\n",
       "1        1   5151      735     4416    14.27"
      ]
     },
     "metadata": {},
     "output_type": "display_data"
    },
    {
     "name": "stdout",
     "output_type": "stream",
     "text": [
      "\n",
      "Доля оттока в параметре woman:\n"
     ]
    },
    {
     "data": {
      "text/html": [
       "<div>\n",
       "<style scoped>\n",
       "    .dataframe tbody tr th:only-of-type {\n",
       "        vertical-align: middle;\n",
       "    }\n",
       "\n",
       "    .dataframe tbody tr th {\n",
       "        vertical-align: top;\n",
       "    }\n",
       "\n",
       "    .dataframe thead th {\n",
       "        text-align: right;\n",
       "    }\n",
       "</style>\n",
       "<table border=\"1\" class=\"dataframe\">\n",
       "  <thead>\n",
       "    <tr style=\"text-align: right;\">\n",
       "      <th></th>\n",
       "      <th>woman</th>\n",
       "      <th>count</th>\n",
       "      <th>churn_1</th>\n",
       "      <th>churn_0</th>\n",
       "      <th>churn_%</th>\n",
       "    </tr>\n",
       "  </thead>\n",
       "  <tbody>\n",
       "    <tr>\n",
       "      <th>0</th>\n",
       "      <td>0</td>\n",
       "      <td>5457</td>\n",
       "      <td>898</td>\n",
       "      <td>4559</td>\n",
       "      <td>16.46</td>\n",
       "    </tr>\n",
       "    <tr>\n",
       "      <th>1</th>\n",
       "      <td>1</td>\n",
       "      <td>4543</td>\n",
       "      <td>1139</td>\n",
       "      <td>3404</td>\n",
       "      <td>25.07</td>\n",
       "    </tr>\n",
       "  </tbody>\n",
       "</table>\n",
       "</div>"
      ],
      "text/plain": [
       "   woman  count  churn_1  churn_0  churn_%\n",
       "0      0   5457      898     4559    16.46\n",
       "1      1   4543     1139     3404    25.07"
      ]
     },
     "metadata": {},
     "output_type": "display_data"
    },
    {
     "name": "stdout",
     "output_type": "stream",
     "text": [
      "\n",
      "Доля оттока в параметре Rosrov_V:\n"
     ]
    },
    {
     "data": {
      "text/html": [
       "<div>\n",
       "<style scoped>\n",
       "    .dataframe tbody tr th:only-of-type {\n",
       "        vertical-align: middle;\n",
       "    }\n",
       "\n",
       "    .dataframe tbody tr th {\n",
       "        vertical-align: top;\n",
       "    }\n",
       "\n",
       "    .dataframe thead th {\n",
       "        text-align: right;\n",
       "    }\n",
       "</style>\n",
       "<table border=\"1\" class=\"dataframe\">\n",
       "  <thead>\n",
       "    <tr style=\"text-align: right;\">\n",
       "      <th></th>\n",
       "      <th>Rosrov_V</th>\n",
       "      <th>count</th>\n",
       "      <th>churn_1</th>\n",
       "      <th>churn_0</th>\n",
       "      <th>churn_%</th>\n",
       "    </tr>\n",
       "  </thead>\n",
       "  <tbody>\n",
       "    <tr>\n",
       "      <th>0</th>\n",
       "      <td>0</td>\n",
       "      <td>7491</td>\n",
       "      <td>1223</td>\n",
       "      <td>6268</td>\n",
       "      <td>16.33</td>\n",
       "    </tr>\n",
       "    <tr>\n",
       "      <th>1</th>\n",
       "      <td>1</td>\n",
       "      <td>2509</td>\n",
       "      <td>814</td>\n",
       "      <td>1695</td>\n",
       "      <td>32.44</td>\n",
       "    </tr>\n",
       "  </tbody>\n",
       "</table>\n",
       "</div>"
      ],
      "text/plain": [
       "   Rosrov_V  count  churn_1  churn_0  churn_%\n",
       "0         0   7491     1223     6268    16.33\n",
       "1         1   2509      814     1695    32.44"
      ]
     },
     "metadata": {},
     "output_type": "display_data"
    },
    {
     "name": "stdout",
     "output_type": "stream",
     "text": [
      "\n",
      "Доля оттока в параметре Rybinsk:\n"
     ]
    },
    {
     "data": {
      "text/html": [
       "<div>\n",
       "<style scoped>\n",
       "    .dataframe tbody tr th:only-of-type {\n",
       "        vertical-align: middle;\n",
       "    }\n",
       "\n",
       "    .dataframe tbody tr th {\n",
       "        vertical-align: top;\n",
       "    }\n",
       "\n",
       "    .dataframe thead th {\n",
       "        text-align: right;\n",
       "    }\n",
       "</style>\n",
       "<table border=\"1\" class=\"dataframe\">\n",
       "  <thead>\n",
       "    <tr style=\"text-align: right;\">\n",
       "      <th></th>\n",
       "      <th>Rybinsk</th>\n",
       "      <th>count</th>\n",
       "      <th>churn_1</th>\n",
       "      <th>churn_0</th>\n",
       "      <th>churn_%</th>\n",
       "    </tr>\n",
       "  </thead>\n",
       "  <tbody>\n",
       "    <tr>\n",
       "      <th>0</th>\n",
       "      <td>0</td>\n",
       "      <td>7523</td>\n",
       "      <td>1624</td>\n",
       "      <td>5899</td>\n",
       "      <td>21.59</td>\n",
       "    </tr>\n",
       "    <tr>\n",
       "      <th>1</th>\n",
       "      <td>1</td>\n",
       "      <td>2477</td>\n",
       "      <td>413</td>\n",
       "      <td>2064</td>\n",
       "      <td>16.67</td>\n",
       "    </tr>\n",
       "  </tbody>\n",
       "</table>\n",
       "</div>"
      ],
      "text/plain": [
       "   Rybinsk  count  churn_1  churn_0  churn_%\n",
       "0        0   7523     1624     5899    21.59\n",
       "1        1   2477      413     2064    16.67"
      ]
     },
     "metadata": {},
     "output_type": "display_data"
    },
    {
     "name": "stdout",
     "output_type": "stream",
     "text": [
      "\n",
      "Доля оттока в параметре Yaroslavl:\n"
     ]
    },
    {
     "data": {
      "text/html": [
       "<div>\n",
       "<style scoped>\n",
       "    .dataframe tbody tr th:only-of-type {\n",
       "        vertical-align: middle;\n",
       "    }\n",
       "\n",
       "    .dataframe tbody tr th {\n",
       "        vertical-align: top;\n",
       "    }\n",
       "\n",
       "    .dataframe thead th {\n",
       "        text-align: right;\n",
       "    }\n",
       "</style>\n",
       "<table border=\"1\" class=\"dataframe\">\n",
       "  <thead>\n",
       "    <tr style=\"text-align: right;\">\n",
       "      <th></th>\n",
       "      <th>Yaroslavl</th>\n",
       "      <th>count</th>\n",
       "      <th>churn_1</th>\n",
       "      <th>churn_0</th>\n",
       "      <th>churn_%</th>\n",
       "    </tr>\n",
       "  </thead>\n",
       "  <tbody>\n",
       "    <tr>\n",
       "      <th>0</th>\n",
       "      <td>0</td>\n",
       "      <td>4986</td>\n",
       "      <td>1227</td>\n",
       "      <td>3759</td>\n",
       "      <td>24.61</td>\n",
       "    </tr>\n",
       "    <tr>\n",
       "      <th>1</th>\n",
       "      <td>1</td>\n",
       "      <td>5014</td>\n",
       "      <td>810</td>\n",
       "      <td>4204</td>\n",
       "      <td>16.15</td>\n",
       "    </tr>\n",
       "  </tbody>\n",
       "</table>\n",
       "</div>"
      ],
      "text/plain": [
       "   Yaroslavl  count  churn_1  churn_0  churn_%\n",
       "0          0   4986     1227     3759    24.61\n",
       "1          1   5014      810     4204    16.15"
      ]
     },
     "metadata": {},
     "output_type": "display_data"
    },
    {
     "name": "stdout",
     "output_type": "stream",
     "text": [
      "\n"
     ]
    }
   ],
   "source": [
    "for i in ['products','loyalty', 'woman','Rosrov_V', 'Rybinsk', 'Yaroslavl']:\n",
    "    print('Доля оттока в параметре {}:'.format(i))\n",
    "    i_category = data.pivot_table(index =i, values='churn', aggfunc=['count','sum']).reset_index()\n",
    "    i_category.columns = [i, 'count', 'churn_1']\n",
    "    i_category['churn_0'] = i_category['count'] - i_category['churn_1']\n",
    "    i_category['churn_%'] = round(i_category['churn_1']/i_category['count']*100,2)\n",
    "    display(i_category)\n",
    "    i_category1 = data.groupby([i,'churn'])['userid'].count().reset_index().rename({'userid': 'count'}, axis=1)\n",
    "    print()"
   ]
  },
  {
   "cell_type": "markdown",
   "metadata": {},
   "source": [
    "**Вывод**:\n",
    "\n",
    "Доля ушедших клиентов составляет: 20.37% клиентов\n",
    "\n",
    "По построенным графикам и таблицам мы увидели, что для клиентов, попадающих в отток характерны определенные признаки.\n",
    "\n",
    "`score` - к первой категории (от 0 до 450 баллов) относится мало клиентов, всего 189 человек, но из них 32% попадают в отток.\n",
    "В остальных категориях доля оттока близка к общему показателю. Параметр не будем далее включать в портрет клиентов, так как наиболее отточная категория включает всего 2% клиентов\n",
    "\n",
    "`age` - в категории 3 (с возрастом клиентов от 41 до 65 лет) доля оттока составляет **39,7%**. В остальных категориях отток ниже среднего, особенно в 1 категории\n",
    "\n",
    "`products` - высокая доля оттока у клиентов с количеством продуктов **1 (28%), 3 (83%) и 4 (100%)**. Наиболее устойчивы клиенты с 2 продуктами.\n",
    "\n",
    "`loyalty` - доля оттока у неактивных клиентов  — 26,85%. Доля оттока у активных клиентов - 14%\n",
    " \n",
    "`gender` - доля оттока среди женщин — 25,07%, а среди мужчин только 16%\n",
    "\n",
    "`city`  - доля оттока в Ростове составляет **32,44%**. В Рыбинске и в Ярославле отток только 16-17%"
   ]
  },
  {
   "cell_type": "markdown",
   "metadata": {},
   "source": [
    "### 3.4. Составление матрицы корреляции \n",
    "\n",
    "Рассчитаем коэффициенты корреляции, чтобы увидеть наличие связи между параметрами.  "
   ]
  },
  {
   "cell_type": "code",
   "execution_count": 70,
   "metadata": {},
   "outputs": [
    {
     "data": {
      "image/png": "[encoded data removed]",
      "text/plain": [
       "<Figure size 1080x432 with 2 Axes>"
      ]
     },
     "metadata": {
      "needs_background": "light"
     },
     "output_type": "display_data"
    }
   ],
   "source": [
    "fig, ax = plt.subplots(figsize=(15, 6))\n",
    "sns.heatmap(data.loc[:,'score':'Yaroslavl'].corr(), annot = True, fmt='.1g',cmap= 'coolwarm');"
   ]
  },
  {
   "cell_type": "markdown",
   "metadata": {},
   "source": [
    "По шкале Чеддока связь считается: слабой при коэффициенте 0.1-0.3, умеренной при коэффициенте 0.3-0.5\n",
    "\n",
    "**Умеренная прямая прямая** связь наблюдается только между возрастом и оттоком - коэффициент 0.3\n",
    "\n",
    "**Слабая прямая связь** наблюдается между параметрами:\n",
    "1. отток и клиенты из города Ростов Великий - коэффициент 0.2\n",
    "2. отток и клиенты женского пола - коэффициент 0.1\n",
    "3. активность и возраст - коэффициент 0.09 \n",
    "3. возраст и клиенты из Ростова Великого - коэффициент 0.05\n",
    "\n",
    "**Слабая обратная связь** наблюдается между параметрами:\n",
    "1. активность и отток - коэффициент -0.2 (неактивный клиент вероятнее попадёт в отток, чем активный нет)\n",
    "2. отток и клиенты мужского пола - коэффициент -0.1\n",
    "3. отток и клиенты из Ярославля (коэффициент -0.1) и Рыбинска (коэффициент -0.05) \n",
    "4. отток и количество продуктов - коэффициент -0.05\n",
    "\n",
    "Связи между остальными параметрами практически нет. "
   ]
  },
  {
   "cell_type": "markdown",
   "metadata": {},
   "source": [
    "### Портрет клиентов, которые попали в отток\n",
    "\n",
    "Таким образом, у нас получились 5 параметров, наиболее влияющих на отток. \n",
    "* `products` - клиенты с числом банковских продуктов: 1 (отток 28%), 3 (отток 83%), 4 (отток 100%) \n",
    "* `age` - возраст от 40 до 65 лет, то есть `age_category` = 3 - отток 40%\n",
    "* `city` - клиенты из Ростова Великого - `Rosrov_V` = 1 (отток 32,4%)\n",
    "* `loyalty` - 0, неактивные клиенты (отток 26,85%)\n",
    "* `gender` - клиенты женского пола - `woman` = 1 (отток 25%)\n",
    "\n",
    "**Портрет клиентов попадающих в отток**: клиенты женского пола из Ростова Великого в возрасте от 40 до 65 лет с 1-3-4 банковскими продуктами, у которых за последний месяц не было взаимодействий с банком."
   ]
  },
  {
   "cell_type": "code",
   "execution_count": 71,
   "metadata": {},
   "outputs": [
    {
     "name": "stdout",
     "output_type": "stream",
     "text": [
      "Количество клиентов: 202\n",
      "Доля от всех клиентов банка %: 2.02\n",
      "Количество отточных клиентов: 160\n",
      "Процент оттока %: 79.21\n"
     ]
    }
   ],
   "source": [
    "churn_portrait = data.query(\n",
    "    'products != 2 and \\\n",
    "    age_category == 3 and \\\n",
    "    Rosrov_V == 1 and \\\n",
    "    loyalty == 0 and \\\n",
    "    woman == 1')\n",
    "print('Количество клиентов:', churn_portrait['userid'].count())\n",
    "print('Доля от всех клиентов банка %:', round(churn_portrait['userid'].count()/data['userid'].count()*100,2))\n",
    "print('Количество отточных клиентов:', churn_portrait.query('churn ==1')['userid'].count())\n",
    "print('Процент оттока %:', round(churn_portrait.query('churn ==1 ')['userid'].count()/churn_portrait['userid'].count()*100,2))"
   ]
  },
  {
   "cell_type": "markdown",
   "metadata": {},
   "source": [
    "Клиентов, соответствующих всем признакам оттока немного - 202 человека. Но среди них, доля оттока достигает 79%.  \n",
    "При исключении признаков оттока, количество клиентов в выборке будет увеличиваться, но уменьшеньшится доля оттока.\n",
    "\n",
    "Наиболее отточны и многочисленны выборки сочетающие 3 признака:\n",
    "- количество продуктов не равно двум\n",
    "- возрастная категория 3\n",
    "- неактивные клиенты"
   ]
  },
  {
   "cell_type": "code",
   "execution_count": 72,
   "metadata": {},
   "outputs": [
    {
     "name": "stdout",
     "output_type": "stream",
     "text": [
      "Количество клиентов: 1081\n",
      "Доля от всех клиентов банка %: 10.81\n",
      "Количество отточных клиентов: 726\n",
      "Процент оттока %: 67.16\n"
     ]
    }
   ],
   "source": [
    "churn_portrait = data.query(\n",
    "    'products != 2 and \\\n",
    "    age_category == 3 and\\\n",
    "    loyalty == 0')\n",
    "print('Количество клиентов:', churn_portrait['userid'].count())\n",
    "print('Доля от всех клиентов банка %:', round(churn_portrait['userid'].count()/data['userid'].count()*100,2))\n",
    "print('Количество отточных клиентов:', churn_portrait.query('churn ==1')['userid'].count())\n",
    "print('Процент оттока %:', round(churn_portrait.query('churn ==1 ')['userid'].count()/churn_portrait['userid'].count()*100,2))"
   ]
  },
  {
   "cell_type": "markdown",
   "metadata": {},
   "source": [
    "А также:\n",
    "- количество продуктов не равно двум\n",
    "- возрастная категория 3\n",
    "- женщины"
   ]
  },
  {
   "cell_type": "code",
   "execution_count": 73,
   "metadata": {},
   "outputs": [
    {
     "name": "stdout",
     "output_type": "stream",
     "text": [
      "Количество клиентов: 995\n",
      "Доля от всех клиентов банка %: 9.95\n",
      "Количество отточных клиентов: 598\n",
      "Процент оттока %: 60.1\n"
     ]
    }
   ],
   "source": [
    "churn_portrait = data.query(\n",
    "    'products != 2 and \\\n",
    "    age_category == 3\\\n",
    "    and woman == 1')\n",
    "print('Количество клиентов:', churn_portrait['userid'].count())\n",
    "print('Доля от всех клиентов банка %:', round(churn_portrait['userid'].count()/data['userid'].count()*100,2))\n",
    "print('Количество отточных клиентов:', churn_portrait.query('churn ==1')['userid'].count())\n",
    "print('Процент оттока %:', round(churn_portrait.query('churn ==1 ')['userid'].count()/churn_portrait['userid'].count()*100,2))"
   ]
  },
  {
   "cell_type": "markdown",
   "metadata": {},
   "source": [
    "### Портрет клиентов, которые не попали в отток\n",
    "\n",
    "**Портрет клиентов не попадающих в отток**: клиенты мужского пола из Рыбинска или Ярославля в возрасте до 40 или старше 65 лет с 2 банковскими продуктами, у которого была активность в банке за последние 30 дней\n",
    "\n",
    "Параметры у таких клиентов чаще принимают значения:\n",
    "* `age` — возраст до 40 лет или старше 65 лет \n",
    "* `products` - клиенты с 2 банковскими продуктами\n",
    "* `loyalty` - активные клиенты\n",
    "* `gender` - клиенты мужского пола\n",
    "* `city` - клиенты из Рыбинска или Ярославля"
   ]
  },
  {
   "cell_type": "code",
   "execution_count": 74,
   "metadata": {},
   "outputs": [
    {
     "name": "stdout",
     "output_type": "stream",
     "text": [
      "Количество клиентов: 748\n",
      "Доля от всех клиентов банка %: 7.48\n",
      "Количество отточных клиентов: 13\n",
      "Процент оттока %: 1.74\n"
     ]
    }
   ],
   "source": [
    "churn_portrait = data.query(\n",
    "    'products == 2 and \\\n",
    "    age_category != 3 and \\\n",
    "    Rosrov_V != 1 and \\\n",
    "    loyalty == 1 and \\\n",
    "    man == 1')\n",
    "print('Количество клиентов:', churn_portrait['userid'].count())\n",
    "print('Доля от всех клиентов банка %:', round(churn_portrait['userid'].count()/data['userid'].count()*100,2))\n",
    "print('Количество отточных клиентов:', churn_portrait.query('churn ==1')['userid'].count())\n",
    "print('Процент оттока %:', round(churn_portrait.query('churn ==1 ')['userid'].count()/churn_portrait['userid'].count()*100,2))"
   ]
  },
  {
   "cell_type": "markdown",
   "metadata": {},
   "source": [
    "Клиентов, соответствующих всем признакам низкой отточности - 748 человек. Среди них доля оттока составляет 1,7%. \n",
    "При исключении признаков оттока, количество клиентов в выборке будет увеличиваться, но увеличиваться доля оттока.\n",
    "\n",
    "Наименее отточна и многочисленна выборка сочетающая 3 признака:\n",
    "- количество продуктов - 2\n",
    "- возрастная категория до 40 и старше 65 лет\n",
    "- клиенты из Рыбинска или Ярославля"
   ]
  },
  {
   "cell_type": "code",
   "execution_count": 75,
   "metadata": {},
   "outputs": [
    {
     "name": "stdout",
     "output_type": "stream",
     "text": [
      "Количество клиентов: 2607\n",
      "Доля от всех клиентов банка %: 26.07\n",
      "Количество отточных клиентов: 89\n",
      "Процент оттока %: 3.41\n"
     ]
    }
   ],
   "source": [
    "churn_portrait = data.query(\n",
    "    'products == 2 and \\\n",
    "    age_category != 3 and \\\n",
    "    Rosrov_V != 1')\n",
    "print('Количество клиентов:', churn_portrait['userid'].count())\n",
    "print('Доля от всех клиентов банка %:', round(churn_portrait['userid'].count()/data['userid'].count()*100,2))\n",
    "print('Количество отточных клиентов:', churn_portrait.query('churn ==1')['userid'].count())\n",
    "print('Процент оттока %:', round(churn_portrait.query('churn ==1 ')['userid'].count()/churn_portrait['userid'].count()*100,2))"
   ]
  },
  {
   "cell_type": "markdown",
   "metadata": {},
   "source": [
    "### Вывод по этапу исследовательского анализа данных\n",
    "\n",
    "На данном этапе мы рассмотрели каждый параметр в разрезе распределения данных по клиентам попавшим и не попавшим в отток. \n",
    "На графиках увидели, что в параметрах : `score`,`age`, `products`, `loyalty`, `gender`, `city` расходятся линии плотности и на интервалах возрастала доля отточных клиентов.   \n",
    "Признаки и были определены как наиболее влияющие на отток и для них выделили категории.\n",
    "\n",
    "Далее мы рассчитали общую долю ушедших клиентов - 20.37%  и долю оттока в выделенных категориях:  \n",
    "\n",
    "`score` - до 650 баллов кривая плотности оттока находится выше кривой плотности не попадающих в отток. От 650, плотность оттока клиентов снижается. 32% клиентов 1 категории (до 450 баллов) попадают в отток, но так в категорию входят всего 2% клиентов, признак не будем рассматривать далее. Отток по остальным категориям равнозначен значению общего оттока.  \n",
    "\n",
    "`age` - в категории 3 (с возрастом клиентов от 41 до 65 лет) доля оттока составляет 39,7%. В остальных категориях отток ниже среднего, особенно в 1 категории (7,5%)  \n",
    "\n",
    "`products` - высокая доля оттока у клиентов с количеством продуктов 1 (28%), 3 (83%) и 4 (100%). Наиболее устойчивы клиенты с 2 банковскими продуктами.  \n",
    "\n",
    "`loyalty` - доля оттока у неактивных клиентов — 26,85%. Доля оттока у активных клиентов - 14%  \n",
    "\n",
    "`gender` - доля оттока среди женщин — 25,07%, а среди мужчин только 16%  \n",
    "\n",
    "`city` - доля оттока в Ростове составляет 32,44%. В Рыбинске и в Ярославле отток только 16-17%  \n",
    "\n",
    "Составив матрицу корреляции, мы убедились в наличии:\n",
    "- умеренной  прямой связи между *возрастом и оттоком*; \n",
    "- слабой прямой связь между: *оттоком и клиентами из Ростова Великого / клиентами женского пола*, между *возрастом и клиентами из Ростова Великого / активностью*. \n",
    "- Слабая обратная связь наблюдается между *оттоком и активностью, клиентами мужского пола, клиентами не из Ростова Великого и количеств продуктов*. \n",
    "\n",
    "В результате мы определили 5 наиболее отточных категорий и по ним составили портреты клиентов:\n",
    "\n",
    "**Портреты клиентов,попадающих в отток:**\n",
    "\n",
    "- Портрет клиентов попадающих в отток №1. Количество клиентов: 202. Процент оттока %: 79.21: клиенты женского пола из Ростова Великого в возрасте от 40 до 65 лет с 1-3-4 банковскими продуктами, у которых за последний месяц не было взаимодействий с банком. \n",
    "\n",
    "- Портрет клиентов попадающих в отток №2. Количество клиентов: 1081. Процент оттока %: 67.16: клиенты в возрасте от 40 до 65 лет с 1-3-4 банковскими продуктами, у которых за последний месяц не было взаимодействий с банком. \n",
    "\n",
    "- Портрет клиентов попадающих в отток №3. Количество клиентов: 995. Процент оттока %: 60.1: клиенты женского пола в возрасте от 40 до 65 лет с 1-3-4 банковскими. \n",
    "\n",
    "\n",
    "**Портреты клиентов не попадающих в отток:** \n",
    "\n",
    "- Портрет клиентов не попадающих в отток №1. Количество клиентов: 748. Процент оттока %: 1.74: клиенты мужского пола из Рыбинска или Ярославля в возрасте до 40 или старше 65 лет с 2 банковскими продуктами, у которого была активность в банке за последние 30 дней. \n",
    "\n",
    "- Портрет клиентов не попадающих в отток №2. Количество клиентов: 2607. Процент оттока %: 3.41:клиенты из Рыбинска или Ярославля в возрасте до 40 или старше 65 лет с 2 банковскими продуктами. "
   ]
  },
  {
   "cell_type": "markdown",
   "metadata": {},
   "source": [
    "## Проверка гипотез"
   ]
  },
  {
   "cell_type": "markdown",
   "metadata": {},
   "source": [
    "### Гипотеза 1: \n",
    "\n",
    "* Нулевая гипотеза: различия в доходах между клиентами, которые ушли и которые остались, нет  \n",
    "* Альтернативная гипотеза: различия в доходах между клиентами, которые ушли и которые остались, есть\n",
    "\n",
    "Для выбора метода проверки гипотез о различии в доходах между ушедшими и оставшимися клиентами, сначала необходимо **проверить данные на нормальность**.\n",
    "\n",
    "Для этого, применим критерий *Шапиро-Уилка*. Сформулируем гипотезы:  \n",
    "* Нулевая: распределение нормально  \n",
    "* Альтернативная: распределение не нормально"
   ]
  },
  {
   "cell_type": "code",
   "execution_count": 76,
   "metadata": {},
   "outputs": [
    {
     "name": "stdout",
     "output_type": "stream",
     "text": [
      "Порог статистической значимости alpha = 0.05\n",
      "\n",
      "p-значение:  4.594104044877579e-25\n",
      "Отвергаем нулевую гипотезу: распределение доходов ушедших клиентов не нормально\n",
      "\n",
      "p-значение:  3.797518838320254e-43\n",
      "Отвергаем нулевую гипотезу: распределение доходов оставшихся клиентов не нормально\n"
     ]
    }
   ],
   "source": [
    "salary_churn_1 = data.query('churn ==1')['estimated_salary']\n",
    "salary_churn_0 = data.query('churn ==0')['estimated_salary']\n",
    "\n",
    "alpha = 0.05  # критический уровень статистической значимости\n",
    "\n",
    "results1 = st.shapiro(salary_churn_1)\n",
    "results2 = st.shapiro(salary_churn_0)\n",
    "p_value1 = results1[1] \n",
    "p_value2 = results2[1]\n",
    "print('Порог статистической значимости alpha =', alpha)\n",
    "print()\n",
    "print('p-значение: ', p_value1)\n",
    "if p_value1 < alpha:\n",
    "    print('Отвергаем нулевую гипотезу: распределение доходов ушедших клиентов не нормально')\n",
    "else:\n",
    "    print('Не получилось отвергнуть нулевую гипотезу, распределение доходов ушедших клиентов нормально') \n",
    "print()\n",
    "print('p-значение: ', p_value2)    \n",
    "if p_value2 < alpha:\n",
    "    print('Отвергаем нулевую гипотезу: распределение доходов оставшихся клиентов не нормально')\n",
    "else:\n",
    "    print('Не получилось отвергнуть нулевую гипотезу, распределение доходов оставшихся клиентов нормально') "
   ]
  },
  {
   "cell_type": "markdown",
   "metadata": {},
   "source": [
    "Так как распределение не нормально, для проверки гипотезы применим непараметрический тест - **U-критерий Манна-Уитни**:\n",
    "* Нулевая гипотеза: различия в доходах между клиентами, которые ушли и которые остались, нет\n",
    "* Альтернативная гипотеза: различия в доходах между клиентами, которые ушли и которые остались, есть  "
   ]
  },
  {
   "cell_type": "code",
   "execution_count": 77,
   "metadata": {},
   "outputs": [
    {
     "name": "stdout",
     "output_type": "stream",
     "text": [
      "Порог статистической значимости alpha = 0.05\n",
      "p-значение: 0.227\n",
      "Не получилось отвергнуть нулевую гипотезу, вывод о различии доходов ушедших и оставшихся клиентов сделать нельзя\n"
     ]
    }
   ],
   "source": [
    "alpha = 0.05  # критический уровень статистической значимости\n",
    "\n",
    "results = st.mannwhitneyu(salary_churn_1, salary_churn_0)\n",
    "print('Порог статистической значимости alpha =', alpha)\n",
    "print('p-значение: {0:.3f}'.format(results.pvalue))\n",
    "if results.pvalue < alpha:\n",
    "    print('Отвергаем нулевую гипотезу - разница доходов ушедших и оставшихся клиентов статистически значима')\n",
    "else:\n",
    "    print(\n",
    "        'Не получилось отвергнуть нулевую гипотезу, вывод о различии доходов ушедших и оставшихся клиентов сделать нельзя'\n",
    "    ) "
   ]
  },
  {
   "cell_type": "markdown",
   "metadata": {},
   "source": [
    "**Вывод:** Проверка гипотезы подтверждает, что различия в доходах между клиентами, которые ушли и которые остались, нет. "
   ]
  },
  {
   "cell_type": "markdown",
   "metadata": {},
   "source": [
    "### Гипотеза 2: \n",
    "* Нулевая гипотеза: средний балл кредитного скоринга между клиентами, которые ушли и которые остались, не отличается\n",
    "* Альтернативная гипотеза: средний балл кредитного скоринга между клиентами, которые ушли и которые остались, отличается\n",
    "\n",
    "Перед проверкой гипотез о равенстве средних баллов кредитного скоринга между ушедшими и оставшимися клиентами необходимо сначала проверить, **имеют ли выборки распределение близкое к нормальному**. Для этого, проведем тест Шапиро-Уилка.\n",
    "\n",
    "* Нулевая гипотеза: распределение не нормально\n",
    "* Альтернативная гипотеза: распределение не нормально"
   ]
  },
  {
   "cell_type": "code",
   "execution_count": 78,
   "metadata": {},
   "outputs": [
    {
     "name": "stdout",
     "output_type": "stream",
     "text": [
      "Порог статистической значимости alpha = 0.05\n",
      "\n",
      "p-значение:  1.2323278042458696e-07\n",
      "Отвергаем нулевую гипотезу: распределение доходов ушедших клиентов не нормально\n",
      "\n",
      "p-значение:  1.469723138650797e-19\n",
      "Отвергаем нулевую гипотезу: распределение доходов оставшихся клиентов не нормально\n"
     ]
    }
   ],
   "source": [
    "score_churn_1 = data.query('churn ==1')['score']\n",
    "score_churn_0 = data.query('churn ==0')['score']\n",
    "\n",
    "alpha = 0.05  # критический уровень статистической значимости\n",
    "\n",
    "results3 = st.shapiro(score_churn_1)\n",
    "p_value3 = results3[1] \n",
    "\n",
    "results4 = st.shapiro(score_churn_0)\n",
    "p_value4 = results4[1]\n",
    "                      \n",
    "print('Порог статистической значимости alpha =', alpha)\n",
    "print()\n",
    "print('p-значение: ', p_value3)\n",
    "if p_value3 < alpha:\n",
    "    print('Отвергаем нулевую гипотезу: распределение доходов ушедших клиентов не нормально')\n",
    "else:\n",
    "    print('Не получилось отвергнуть нулевую гипотезу, распределение доходов ушедших клиентов нормально') \n",
    "print()\n",
    "print('p-значение: ', p_value4)    \n",
    "if p_value4 < alpha:\n",
    "    print('Отвергаем нулевую гипотезу: распределение доходов оставшихся клиентов не нормально')\n",
    "else:\n",
    "    print('Не получилось отвергнуть нулевую гипотезу, распределение доходов оставшихся клиентов нормально') "
   ]
  },
  {
   "cell_type": "markdown",
   "metadata": {},
   "source": [
    "Распределение данных не нормально, поэтому для проверки гипотезы снова применим **непараметрический тест - U-критерий Манна-Уитни**:\n",
    "\n",
    "* Нулевая гипотеза: средний балл кредитного скоринга между клиентами, которые ушли и которые остались, не отличается\n",
    "* Альтернативная гипотеза: средний балл кредитного скоринга между клиентами, которые ушли и которые остались, отличается"
   ]
  },
  {
   "cell_type": "code",
   "execution_count": 79,
   "metadata": {},
   "outputs": [
    {
     "name": "stdout",
     "output_type": "stream",
     "text": [
      "Порог статистической значимости alpha = 0.05\n",
      "p-value = 0.007\n",
      "Отвергаем нулевую гипотезу - разница среднего балла у клиентов, которые ушли и которые остались, статистически значима\n"
     ]
    }
   ],
   "source": [
    "# results = вызов метода для проверки гипотезы\n",
    "results = st.ttest_ind(score_churn_0, score_churn_1, equal_var=True)\n",
    "# alpha = задайте значение уровня значимости\n",
    "alpha = 0.05\n",
    "\n",
    "# вывод значения p-value на экран \n",
    "print('Порог статистической значимости alpha =', alpha)\n",
    "print('p-value = {0:.3f}'.format(results.pvalue)) \n",
    "\n",
    "# условный оператор с выводом строки с ответом\n",
    "if results.pvalue < alpha:\n",
    "    print('Отвергаем нулевую гипотезу - разница среднего балла у клиентов, которые ушли и которые остались, статистически значима')\n",
    "else:\n",
    "    print('Не получилось отвергнуть нулевую гипотезу - вывод о различии среднего балла между клиентами, которые ушли и которые остались, сделать нельзя')"
   ]
  },
  {
   "cell_type": "markdown",
   "metadata": {},
   "source": [
    "**Вывод**: Двустороннее значение p = 0.007, меньше порога статистической значимости alpha = 0.05, поэтому отвергаем нулевую гипотезу теста - разница среднего балла у клиентов, которые ушли и которые остались, статистически значима."
   ]
  },
  {
   "cell_type": "markdown",
   "metadata": {},
   "source": [
    "### Выводы по этапу проверки гипотез\n",
    "\n",
    "Проверки гипотез согласуются с ранее сделанными нами выводами на этапе исследовательского анализа данных:\n",
    "- различий в доходах между клиентами, которые ушли и которые остались, нет. То есть заработная плата не относится к параметрам, влияющим на отток \n",
    "- средний балл кредитного скоринга между клиентами, которые ушли и которые остались, отличается. На построенных ранее графиках было видно: у клиентов с баллами кредитного скоринга менее 650 доля оттока выше, чем у клиентов с более высокими баллами (с увеличением количества баллов, плотность оттока клиентов снижается)."
   ]
  },
  {
   "cell_type": "markdown",
   "metadata": {},
   "source": [
    "## Выводы по проекту\n",
    "Мы изучили данные клиентов банка «Метанпром». Данные представлены по 10 000 клиентам в виде 12 параметров. \n",
    "\n",
    "**На этапе предобработки данных** мы привели названия столбцов к нижнему регистру, удостоверились в отсутствии явных и неявных дубликатов, изучили характер пропусков и выбросов и приняли решение не удалять их, добавили столбцы с бинарными значениями для категориальных данных.\n",
    "\n",
    "**На этапе исследовательского анализа данных**  мы рассмотрели распределение отточных и неотточных клиентов по каждому параметру и выявили 6 признаков, наиболее влияющих на отток: `score`, `age`, `products`, `loyalty`, `gender`, `city`. \n",
    "Для признаков выделили категории, рассчитали долю оттока по каждой категории и определили наиболее отточные категории клиентов.  \n",
    "\n",
    "Составивили матрицу корреляции и определили наличие умеренной прямой связи между возрастом и оттоком; слабой прямой связь между: оттоком и клиентами из Ростова Великого / клиентами женского пола, между возрастом и клиентами из Ростова Великого / активностью; слабой обратной связи между оттоком и активностью / клиентами мужского пола / клиентами не из Ростова Великого / количеством продуктов.\n",
    "\n",
    "В результате мы составили портреты клиентов по наиболее отточным категориям параметров. \n",
    "\n",
    "Больше всего клиентов с высокой долей оттока: \n",
    "* в возрасте от 40 до 65 лет с 1-3-4 банковскими продуктами, у которых за последний месяц не было взаимодействий с банком (1081 клиент с 67% оттока). \n",
    "- женщины в возрасте от 40 до 65 лет с 1-3-4 банковскими (995 клиент с 60% оттока).\n",
    "\n",
    "\n",
    "Больше всего клиентов с низкой долей оттока: \n",
    "- из Рыбинска или Ярославля в возрасте до 40 лет или старше 65 лет с 2 банковскими продуктами (2607 клиентов с 3,4% оттока). \n",
    "\n",
    "**Проверка гипотез** показала, что:\n",
    "- различий в доходах между клиентами, которые ушли и которые остались, нет.\n",
    "- средний балл кредитного скоринга между клиентами, которые ушли и которые остались, отличается. Из-за малого количества клиентов в отточной категории по `score`, признак решили не включать в портрет. \n"
   ]
  },
  {
   "cell_type": "markdown",
   "metadata": {},
   "source": [
    "## Рекомендации для Заказчика исследования"
   ]
  },
  {
   "cell_type": "markdown",
   "metadata": {},
   "source": [
    "Клиентам женского пола и клиентам от 40 до 65 лет с 1 продуктом стоит предложить дополнительную услугу банка, наиболее подходящую их образу жизни. Продукт должен закрывать потребность клиента и постоянно им использоваться. \n",
    "Например, первый продукт - дебетовый (текущий счет /накопительный счет/вклад), второй продукт - кредитный (кредитная карта/кредит/ипотека). Так как у таких клиентов предполагается наличие стабильного дохода, семьи и сложившихся потребительских привычек, их можно удержать специальными условиями: % по депозиту, повышенным кэшбеком на определенные расходы (связанные с детьми, бытом, домом), оплата коммуналки без %, давать специальные условия обслуживания при открытии второго продукта, предложить выгодное рефинансирование кредитов. \n",
    "\n",
    "При этом, стоит обратить внимание на клиентов с 3 и более продуктами, отслеживать их уровень лояльности. \n",
    "Возможно, у банка есть несколько сильных продуктов, которыми клиенты довольны. Далее они решают попробовать новый и разачаровываются. Стоит составить рейтинг удовлетворенности продуктами, определить слабые и сильные места в продуктовой линейке банка. \n",
    "Также дополнительные банковские услуги могут быть навязаны при оформлении другого продукта. Чаще всего такие услуги не используются, но у клиента растет стоимость обслуживания (за счёт множества продуктов), что вызывает негатив.  \n",
    "\n",
    "Кроме этого, банку стоит привлекать новых клиентов из категории от 18 до 40 лет (с низким показателем оттока). Таким клиентам могут быть интересны кредитные, инвестиционные продукты, технологичные решения банка (мобильный банкинг). \n",
    "\n",
    "Важно поддерживать активность и вовлеченность клиентов: предлагать выбор категорий кэшбека, выпускать продукты, мотивирующие совершать больше транзакций, улучшать удобство приложения и интернет-банк, особенно платежи и переводы. \n",
    "\n",
    "Дополнительно необходимо провести исследование причины высокой отточности клиентов именно в Ростове Великом, так как подобной тенденции в Рыбинске (с похожим количеством клиентов) и в Ярославе нет. Следует сравнить условия продуктов, качество клиентского сервиса, сделать анализ внешних факторов и сравнить с данными по другим городам.  "
   ]
  }
 ],
 "metadata": {
  "ExecuteTimeLog": [
   {
    "duration": 54,
    "start_time": "2023-03-07T03:20:44.930Z"
   },
   {
    "duration": 54,
    "start_time": "2023-03-07T03:20:49.266Z"
   },
   {
    "duration": 1425,
    "start_time": "2023-03-07T03:24:36.179Z"
   },
   {
    "duration": 1324,
    "start_time": "2023-03-07T03:24:46.781Z"
   },
   {
    "duration": 1259,
    "start_time": "2023-03-07T03:25:40.801Z"
   },
   {
    "duration": 58,
    "start_time": "2023-03-07T03:25:59.973Z"
   },
   {
    "duration": 41,
    "start_time": "2023-03-07T03:26:18.935Z"
   },
   {
    "duration": 48,
    "start_time": "2023-03-07T03:29:01.330Z"
   },
   {
    "duration": 1310,
    "start_time": "2023-03-07T03:29:06.775Z"
   },
   {
    "duration": 1332,
    "start_time": "2023-03-07T03:30:13.137Z"
   },
   {
    "duration": 52,
    "start_time": "2023-03-07T03:30:28.747Z"
   },
   {
    "duration": 235,
    "start_time": "2023-03-07T03:35:31.605Z"
   },
   {
    "duration": 35,
    "start_time": "2023-03-07T03:35:50.056Z"
   },
   {
    "duration": 203,
    "start_time": "2023-03-07T03:36:15.636Z"
   },
   {
    "duration": 28,
    "start_time": "2023-03-07T03:36:48.417Z"
   },
   {
    "duration": 1267,
    "start_time": "2023-03-07T03:36:49.926Z"
   },
   {
    "duration": 1238,
    "start_time": "2023-03-07T03:40:20.491Z"
   },
   {
    "duration": 27,
    "start_time": "2023-03-07T03:40:31.943Z"
   },
   {
    "duration": 36,
    "start_time": "2023-03-07T03:40:44.360Z"
   },
   {
    "duration": 912,
    "start_time": "2023-03-07T03:41:47.182Z"
   },
   {
    "duration": 1155,
    "start_time": "2023-03-07T03:41:59.687Z"
   },
   {
    "duration": 26,
    "start_time": "2023-03-07T03:42:00.844Z"
   },
   {
    "duration": 1136,
    "start_time": "2023-03-07T03:42:00.872Z"
   },
   {
    "duration": 44,
    "start_time": "2023-03-07T03:44:45.923Z"
   },
   {
    "duration": 157,
    "start_time": "2023-03-07T03:44:53.550Z"
   },
   {
    "duration": 14,
    "start_time": "2023-03-07T03:45:03.636Z"
   },
   {
    "duration": 39,
    "start_time": "2023-03-07T03:45:28.085Z"
   },
   {
    "duration": 953,
    "start_time": "2023-03-07T03:45:51.930Z"
   },
   {
    "duration": 911,
    "start_time": "2023-03-07T03:46:12.040Z"
   },
   {
    "duration": 34,
    "start_time": "2023-03-07T03:46:34.046Z"
   },
   {
    "duration": 39,
    "start_time": "2023-03-07T03:46:39.345Z"
   },
   {
    "duration": 42,
    "start_time": "2023-03-07T03:46:46.758Z"
   },
   {
    "duration": 39,
    "start_time": "2023-03-07T03:47:12.004Z"
   },
   {
    "duration": 11,
    "start_time": "2023-03-07T03:47:16.957Z"
   },
   {
    "duration": 1201,
    "start_time": "2023-03-07T03:47:23.941Z"
   },
   {
    "duration": 41,
    "start_time": "2023-03-07T03:47:25.144Z"
   },
   {
    "duration": 15,
    "start_time": "2023-03-07T03:47:25.186Z"
   },
   {
    "duration": 3,
    "start_time": "2023-03-07T03:48:24.040Z"
   },
   {
    "duration": 12,
    "start_time": "2023-03-07T03:48:39.108Z"
   },
   {
    "duration": 13,
    "start_time": "2023-03-07T03:49:02.966Z"
   },
   {
    "duration": 2,
    "start_time": "2023-03-07T03:49:31.283Z"
   },
   {
    "duration": 2,
    "start_time": "2023-03-07T03:49:50.125Z"
   },
   {
    "duration": 2020,
    "start_time": "2023-04-09T08:39:48.865Z"
   },
   {
    "duration": 145,
    "start_time": "2023-04-09T08:39:50.888Z"
   },
   {
    "duration": 166,
    "start_time": "2023-04-09T08:39:51.035Z"
   },
   {
    "duration": 0,
    "start_time": "2023-04-09T08:39:51.204Z"
   },
   {
    "duration": 0,
    "start_time": "2023-04-09T08:39:51.205Z"
   },
   {
    "duration": 0,
    "start_time": "2023-04-09T08:39:51.206Z"
   },
   {
    "duration": 0,
    "start_time": "2023-04-09T08:39:51.207Z"
   },
   {
    "duration": 0,
    "start_time": "2023-04-09T08:39:51.211Z"
   },
   {
    "duration": 0,
    "start_time": "2023-04-09T08:39:51.213Z"
   },
   {
    "duration": 0,
    "start_time": "2023-04-09T08:39:51.214Z"
   },
   {
    "duration": 0,
    "start_time": "2023-04-09T08:39:51.215Z"
   },
   {
    "duration": 0,
    "start_time": "2023-04-09T08:39:51.216Z"
   },
   {
    "duration": 0,
    "start_time": "2023-04-09T08:39:51.217Z"
   },
   {
    "duration": 0,
    "start_time": "2023-04-09T08:39:51.218Z"
   },
   {
    "duration": 0,
    "start_time": "2023-04-09T08:39:51.220Z"
   },
   {
    "duration": 0,
    "start_time": "2023-04-09T08:39:51.224Z"
   },
   {
    "duration": 0,
    "start_time": "2023-04-09T08:39:51.226Z"
   },
   {
    "duration": 0,
    "start_time": "2023-04-09T08:39:51.227Z"
   },
   {
    "duration": 0,
    "start_time": "2023-04-09T08:39:51.228Z"
   },
   {
    "duration": 0,
    "start_time": "2023-04-09T08:39:51.229Z"
   },
   {
    "duration": 0,
    "start_time": "2023-04-09T08:39:51.230Z"
   },
   {
    "duration": 0,
    "start_time": "2023-04-09T08:39:51.231Z"
   },
   {
    "duration": 0,
    "start_time": "2023-04-09T08:39:51.232Z"
   },
   {
    "duration": 0,
    "start_time": "2023-04-09T08:39:51.237Z"
   },
   {
    "duration": 0,
    "start_time": "2023-04-09T08:39:51.238Z"
   },
   {
    "duration": 0,
    "start_time": "2023-04-09T08:39:51.239Z"
   },
   {
    "duration": 0,
    "start_time": "2023-04-09T08:39:51.240Z"
   },
   {
    "duration": 0,
    "start_time": "2023-04-09T08:39:51.245Z"
   },
   {
    "duration": 1,
    "start_time": "2023-04-09T08:39:51.246Z"
   },
   {
    "duration": 0,
    "start_time": "2023-04-09T08:39:51.248Z"
   },
   {
    "duration": 0,
    "start_time": "2023-04-09T08:39:51.249Z"
   },
   {
    "duration": 0,
    "start_time": "2023-04-09T08:39:51.254Z"
   },
   {
    "duration": 0,
    "start_time": "2023-04-09T08:39:51.255Z"
   },
   {
    "duration": 0,
    "start_time": "2023-04-09T08:39:51.256Z"
   },
   {
    "duration": 0,
    "start_time": "2023-04-09T08:39:51.257Z"
   },
   {
    "duration": 0,
    "start_time": "2023-04-09T08:39:51.259Z"
   },
   {
    "duration": 0,
    "start_time": "2023-04-09T08:39:51.260Z"
   },
   {
    "duration": 0,
    "start_time": "2023-04-09T08:39:51.261Z"
   },
   {
    "duration": 0,
    "start_time": "2023-04-09T08:39:51.263Z"
   },
   {
    "duration": 0,
    "start_time": "2023-04-09T08:39:51.268Z"
   },
   {
    "duration": 49,
    "start_time": "2023-04-09T08:48:24.410Z"
   },
   {
    "duration": 1488,
    "start_time": "2023-04-09T08:48:43.104Z"
   },
   {
    "duration": 46,
    "start_time": "2023-04-09T08:48:44.594Z"
   },
   {
    "duration": 66,
    "start_time": "2023-04-09T08:48:47.474Z"
   },
   {
    "duration": 288,
    "start_time": "2023-04-09T08:49:15.308Z"
   },
   {
    "duration": 148,
    "start_time": "2023-04-09T08:49:22.011Z"
   },
   {
    "duration": 17,
    "start_time": "2023-04-09T08:49:23.644Z"
   },
   {
    "duration": 1402,
    "start_time": "2023-04-10T07:35:33.978Z"
   },
   {
    "duration": 168,
    "start_time": "2023-04-10T07:35:35.382Z"
   },
   {
    "duration": 15,
    "start_time": "2023-04-10T07:35:35.551Z"
   },
   {
    "duration": 47,
    "start_time": "2023-04-10T07:35:35.568Z"
   },
   {
    "duration": 4,
    "start_time": "2023-04-10T07:35:35.617Z"
   },
   {
    "duration": 34,
    "start_time": "2023-04-10T07:35:35.622Z"
   },
   {
    "duration": 22,
    "start_time": "2023-04-10T07:35:35.657Z"
   },
   {
    "duration": 77,
    "start_time": "2023-04-10T07:35:35.680Z"
   },
   {
    "duration": 203,
    "start_time": "2023-04-10T07:35:35.758Z"
   },
   {
    "duration": 36,
    "start_time": "2023-04-10T07:35:35.962Z"
   },
   {
    "duration": 51,
    "start_time": "2023-04-10T07:35:36.000Z"
   },
   {
    "duration": 839,
    "start_time": "2023-04-10T07:35:36.053Z"
   },
   {
    "duration": 943,
    "start_time": "2023-04-10T07:35:36.893Z"
   },
   {
    "duration": 27,
    "start_time": "2023-04-10T07:35:37.848Z"
   },
   {
    "duration": 1929,
    "start_time": "2023-04-10T07:35:37.876Z"
   },
   {
    "duration": 18,
    "start_time": "2023-04-10T07:35:39.807Z"
   },
   {
    "duration": 8477,
    "start_time": "2023-04-10T07:35:39.827Z"
   },
   {
    "duration": 9,
    "start_time": "2023-04-10T07:35:48.306Z"
   },
   {
    "duration": 139,
    "start_time": "2023-04-10T07:35:48.317Z"
   },
   {
    "duration": 9,
    "start_time": "2023-04-10T07:35:48.458Z"
   },
   {
    "duration": 55,
    "start_time": "2023-04-10T07:35:48.469Z"
   },
   {
    "duration": 159,
    "start_time": "2023-04-10T07:35:48.526Z"
   },
   {
    "duration": 0,
    "start_time": "2023-04-10T07:35:48.687Z"
   },
   {
    "duration": 0,
    "start_time": "2023-04-10T07:35:48.689Z"
   },
   {
    "duration": 0,
    "start_time": "2023-04-10T07:35:48.690Z"
   },
   {
    "duration": 0,
    "start_time": "2023-04-10T07:35:48.692Z"
   },
   {
    "duration": 0,
    "start_time": "2023-04-10T07:35:48.694Z"
   },
   {
    "duration": 0,
    "start_time": "2023-04-10T07:35:48.695Z"
   },
   {
    "duration": 0,
    "start_time": "2023-04-10T07:35:48.697Z"
   },
   {
    "duration": 0,
    "start_time": "2023-04-10T07:35:48.698Z"
   },
   {
    "duration": 0,
    "start_time": "2023-04-10T07:35:48.699Z"
   },
   {
    "duration": 0,
    "start_time": "2023-04-10T07:35:48.701Z"
   },
   {
    "duration": 0,
    "start_time": "2023-04-10T07:35:48.702Z"
   },
   {
    "duration": 0,
    "start_time": "2023-04-10T07:35:48.703Z"
   },
   {
    "duration": 0,
    "start_time": "2023-04-10T07:35:48.704Z"
   },
   {
    "duration": 0,
    "start_time": "2023-04-10T07:35:48.705Z"
   },
   {
    "duration": 0,
    "start_time": "2023-04-10T07:35:48.706Z"
   },
   {
    "duration": 0,
    "start_time": "2023-04-10T07:35:48.708Z"
   },
   {
    "duration": 0,
    "start_time": "2023-04-10T07:35:48.709Z"
   },
   {
    "duration": 0,
    "start_time": "2023-04-10T07:35:48.749Z"
   },
   {
    "duration": 1776,
    "start_time": "2023-04-10T08:27:10.696Z"
   },
   {
    "duration": 165,
    "start_time": "2023-04-10T08:27:12.474Z"
   },
   {
    "duration": 17,
    "start_time": "2023-04-10T08:27:12.641Z"
   },
   {
    "duration": 56,
    "start_time": "2023-04-10T08:27:12.661Z"
   },
   {
    "duration": 6,
    "start_time": "2023-04-10T08:27:12.734Z"
   },
   {
    "duration": 21,
    "start_time": "2023-04-10T08:27:12.742Z"
   },
   {
    "duration": 25,
    "start_time": "2023-04-10T08:27:12.764Z"
   },
   {
    "duration": 93,
    "start_time": "2023-04-10T08:27:12.791Z"
   },
   {
    "duration": 254,
    "start_time": "2023-04-10T08:27:12.886Z"
   },
   {
    "duration": 45,
    "start_time": "2023-04-10T08:27:13.144Z"
   },
   {
    "duration": 74,
    "start_time": "2023-04-10T08:27:13.191Z"
   },
   {
    "duration": 1105,
    "start_time": "2023-04-10T08:27:13.267Z"
   },
   {
    "duration": 1189,
    "start_time": "2023-04-10T08:27:14.373Z"
   },
   {
    "duration": 35,
    "start_time": "2023-04-10T08:27:15.563Z"
   },
   {
    "duration": 2670,
    "start_time": "2023-04-10T08:27:15.600Z"
   },
   {
    "duration": 21,
    "start_time": "2023-04-10T08:27:18.272Z"
   },
   {
    "duration": 9575,
    "start_time": "2023-04-10T08:27:18.295Z"
   },
   {
    "duration": 10,
    "start_time": "2023-04-10T08:27:27.872Z"
   },
   {
    "duration": 149,
    "start_time": "2023-04-10T08:27:27.884Z"
   },
   {
    "duration": 11,
    "start_time": "2023-04-10T08:27:28.036Z"
   },
   {
    "duration": 41,
    "start_time": "2023-04-10T08:27:28.049Z"
   },
   {
    "duration": 135,
    "start_time": "2023-04-10T08:27:28.092Z"
   },
   {
    "duration": 0,
    "start_time": "2023-04-10T08:27:28.234Z"
   },
   {
    "duration": 0,
    "start_time": "2023-04-10T08:27:28.235Z"
   },
   {
    "duration": 0,
    "start_time": "2023-04-10T08:27:28.236Z"
   },
   {
    "duration": 0,
    "start_time": "2023-04-10T08:27:28.238Z"
   },
   {
    "duration": 0,
    "start_time": "2023-04-10T08:27:28.239Z"
   },
   {
    "duration": 0,
    "start_time": "2023-04-10T08:27:28.240Z"
   },
   {
    "duration": 0,
    "start_time": "2023-04-10T08:27:28.242Z"
   },
   {
    "duration": 0,
    "start_time": "2023-04-10T08:27:28.243Z"
   },
   {
    "duration": 0,
    "start_time": "2023-04-10T08:27:28.244Z"
   },
   {
    "duration": 0,
    "start_time": "2023-04-10T08:27:28.246Z"
   },
   {
    "duration": 0,
    "start_time": "2023-04-10T08:27:28.247Z"
   },
   {
    "duration": 0,
    "start_time": "2023-04-10T08:27:28.248Z"
   },
   {
    "duration": 0,
    "start_time": "2023-04-10T08:27:28.250Z"
   },
   {
    "duration": 0,
    "start_time": "2023-04-10T08:27:28.251Z"
   },
   {
    "duration": 0,
    "start_time": "2023-04-10T08:27:28.253Z"
   },
   {
    "duration": 0,
    "start_time": "2023-04-10T08:27:28.254Z"
   },
   {
    "duration": 0,
    "start_time": "2023-04-10T08:27:28.255Z"
   },
   {
    "duration": 0,
    "start_time": "2023-04-10T08:27:28.256Z"
   },
   {
    "duration": 456,
    "start_time": "2023-04-10T08:28:01.898Z"
   },
   {
    "duration": 51,
    "start_time": "2023-04-10T16:52:25.717Z"
   },
   {
    "duration": 61,
    "start_time": "2023-04-10T16:53:43.815Z"
   },
   {
    "duration": 7,
    "start_time": "2023-04-10T17:00:36.643Z"
   },
   {
    "duration": 1451,
    "start_time": "2023-04-10T17:00:43.360Z"
   },
   {
    "duration": 78,
    "start_time": "2023-04-10T17:00:44.813Z"
   },
   {
    "duration": 18,
    "start_time": "2023-04-10T17:00:44.893Z"
   },
   {
    "duration": 80,
    "start_time": "2023-04-10T17:00:44.913Z"
   },
   {
    "duration": 5,
    "start_time": "2023-04-10T17:00:44.995Z"
   },
   {
    "duration": 9,
    "start_time": "2023-04-10T17:00:45.336Z"
   },
   {
    "duration": 23,
    "start_time": "2023-04-10T17:00:46.700Z"
   },
   {
    "duration": 57,
    "start_time": "2023-04-10T17:00:47.133Z"
   },
   {
    "duration": 207,
    "start_time": "2023-04-10T17:00:47.389Z"
   },
   {
    "duration": 41,
    "start_time": "2023-04-10T17:00:47.648Z"
   },
   {
    "duration": 35,
    "start_time": "2023-04-10T17:00:47.791Z"
   },
   {
    "duration": 962,
    "start_time": "2023-04-10T17:00:48.268Z"
   },
   {
    "duration": 995,
    "start_time": "2023-04-10T17:00:49.231Z"
   },
   {
    "duration": 31,
    "start_time": "2023-04-10T17:00:50.228Z"
   },
   {
    "duration": 2141,
    "start_time": "2023-04-10T17:00:50.468Z"
   },
   {
    "duration": 451,
    "start_time": "2023-04-10T17:00:54.955Z"
   },
   {
    "duration": 114,
    "start_time": "2023-04-10T17:02:54.853Z"
   },
   {
    "duration": 8,
    "start_time": "2023-04-10T17:03:39.173Z"
   },
   {
    "duration": 111,
    "start_time": "2023-04-10T17:07:36.998Z"
   },
   {
    "duration": 82,
    "start_time": "2023-04-10T17:10:25.627Z"
   },
   {
    "duration": 33,
    "start_time": "2023-04-10T17:10:36.951Z"
   },
   {
    "duration": 2391,
    "start_time": "2023-04-10T17:10:37.102Z"
   },
   {
    "duration": 137,
    "start_time": "2023-04-10T17:10:39.494Z"
   },
   {
    "duration": 17,
    "start_time": "2023-04-10T17:10:39.633Z"
   },
   {
    "duration": 9027,
    "start_time": "2023-04-10T17:10:41.279Z"
   },
   {
    "duration": 7,
    "start_time": "2023-04-10T17:10:50.308Z"
   },
   {
    "duration": 146,
    "start_time": "2023-04-10T17:10:54.153Z"
   },
   {
    "duration": 9,
    "start_time": "2023-04-10T17:10:55.398Z"
   },
   {
    "duration": 27,
    "start_time": "2023-04-10T17:10:55.981Z"
   },
   {
    "duration": 446,
    "start_time": "2023-04-10T17:10:56.574Z"
   },
   {
    "duration": 11,
    "start_time": "2023-04-10T17:11:52.242Z"
   },
   {
    "duration": 9,
    "start_time": "2023-04-10T17:12:57.803Z"
   },
   {
    "duration": 9,
    "start_time": "2023-04-10T17:13:15.655Z"
   },
   {
    "duration": 53,
    "start_time": "2023-04-10T17:14:31.457Z"
   },
   {
    "duration": 11,
    "start_time": "2023-04-10T17:16:20.246Z"
   },
   {
    "duration": 9,
    "start_time": "2023-04-10T17:16:38.664Z"
   },
   {
    "duration": 53,
    "start_time": "2023-04-10T17:16:56.015Z"
   },
   {
    "duration": 13,
    "start_time": "2023-04-10T17:17:49.209Z"
   },
   {
    "duration": 11,
    "start_time": "2023-04-10T17:17:57.896Z"
   },
   {
    "duration": 275,
    "start_time": "2023-04-10T17:19:06.926Z"
   },
   {
    "duration": 12,
    "start_time": "2023-04-10T17:19:20.488Z"
   },
   {
    "duration": 24,
    "start_time": "2023-04-10T17:20:36.393Z"
   },
   {
    "duration": 249,
    "start_time": "2023-04-10T17:28:27.314Z"
   },
   {
    "duration": 127,
    "start_time": "2023-04-10T17:28:32.711Z"
   },
   {
    "duration": 116,
    "start_time": "2023-04-10T17:31:07.567Z"
   },
   {
    "duration": 119,
    "start_time": "2023-04-10T17:31:27.402Z"
   },
   {
    "duration": 141,
    "start_time": "2023-04-10T17:32:11.080Z"
   },
   {
    "duration": 161,
    "start_time": "2023-04-10T17:33:18.230Z"
   },
   {
    "duration": 136,
    "start_time": "2023-04-10T17:33:29.012Z"
   },
   {
    "duration": 146,
    "start_time": "2023-04-10T17:33:49.408Z"
   },
   {
    "duration": 143,
    "start_time": "2023-04-10T17:33:54.639Z"
   },
   {
    "duration": 148,
    "start_time": "2023-04-10T17:34:02.407Z"
   },
   {
    "duration": 145,
    "start_time": "2023-04-10T17:34:08.482Z"
   },
   {
    "duration": 141,
    "start_time": "2023-04-10T17:35:07.156Z"
   },
   {
    "duration": 4,
    "start_time": "2023-04-10T17:35:08.942Z"
   },
   {
    "duration": 124,
    "start_time": "2023-04-10T17:35:59.585Z"
   },
   {
    "duration": 119,
    "start_time": "2023-04-10T17:36:45.318Z"
   },
   {
    "duration": 133,
    "start_time": "2023-04-10T17:37:13.568Z"
   },
   {
    "duration": 110,
    "start_time": "2023-04-10T17:38:02.533Z"
   },
   {
    "duration": 18,
    "start_time": "2023-04-10T17:40:04.608Z"
   },
   {
    "duration": 12,
    "start_time": "2023-04-10T17:40:17.561Z"
   },
   {
    "duration": 1437,
    "start_time": "2023-04-10T17:40:37.404Z"
   },
   {
    "duration": 35,
    "start_time": "2023-04-10T17:40:38.844Z"
   },
   {
    "duration": 30,
    "start_time": "2023-04-10T17:40:38.881Z"
   },
   {
    "duration": 60,
    "start_time": "2023-04-10T17:40:38.914Z"
   },
   {
    "duration": 23,
    "start_time": "2023-04-10T17:40:38.976Z"
   },
   {
    "duration": 10,
    "start_time": "2023-04-10T17:40:39.004Z"
   },
   {
    "duration": 26,
    "start_time": "2023-04-10T17:40:39.016Z"
   },
   {
    "duration": 83,
    "start_time": "2023-04-10T17:40:39.044Z"
   },
   {
    "duration": 236,
    "start_time": "2023-04-10T17:40:39.129Z"
   },
   {
    "duration": 55,
    "start_time": "2023-04-10T17:40:39.367Z"
   },
   {
    "duration": 38,
    "start_time": "2023-04-10T17:40:39.424Z"
   },
   {
    "duration": 1173,
    "start_time": "2023-04-10T17:40:39.464Z"
   },
   {
    "duration": 1233,
    "start_time": "2023-04-10T17:40:40.639Z"
   },
   {
    "duration": 47,
    "start_time": "2023-04-10T17:40:41.875Z"
   },
   {
    "duration": 2786,
    "start_time": "2023-04-10T17:40:41.923Z"
   },
   {
    "duration": 243,
    "start_time": "2023-04-10T17:40:44.712Z"
   },
   {
    "duration": 18,
    "start_time": "2023-04-10T17:40:44.956Z"
   },
   {
    "duration": 9850,
    "start_time": "2023-04-10T17:40:44.975Z"
   },
   {
    "duration": 9,
    "start_time": "2023-04-10T17:40:54.828Z"
   },
   {
    "duration": 153,
    "start_time": "2023-04-10T17:40:54.838Z"
   },
   {
    "duration": 21,
    "start_time": "2023-04-10T17:40:54.993Z"
   },
   {
    "duration": 26,
    "start_time": "2023-04-10T17:40:55.016Z"
   },
   {
    "duration": 133,
    "start_time": "2023-04-10T17:40:55.043Z"
   },
   {
    "duration": 0,
    "start_time": "2023-04-10T17:40:55.178Z"
   },
   {
    "duration": 0,
    "start_time": "2023-04-10T17:40:55.179Z"
   },
   {
    "duration": 0,
    "start_time": "2023-04-10T17:40:55.200Z"
   },
   {
    "duration": 0,
    "start_time": "2023-04-10T17:40:55.201Z"
   },
   {
    "duration": 0,
    "start_time": "2023-04-10T17:40:55.202Z"
   },
   {
    "duration": 0,
    "start_time": "2023-04-10T17:40:55.203Z"
   },
   {
    "duration": 0,
    "start_time": "2023-04-10T17:40:55.207Z"
   },
   {
    "duration": 0,
    "start_time": "2023-04-10T17:40:55.209Z"
   },
   {
    "duration": 0,
    "start_time": "2023-04-10T17:40:55.210Z"
   },
   {
    "duration": 0,
    "start_time": "2023-04-10T17:40:55.212Z"
   },
   {
    "duration": 0,
    "start_time": "2023-04-10T17:40:55.213Z"
   },
   {
    "duration": 0,
    "start_time": "2023-04-10T17:40:55.215Z"
   },
   {
    "duration": 0,
    "start_time": "2023-04-10T17:40:55.216Z"
   },
   {
    "duration": 0,
    "start_time": "2023-04-10T17:40:55.220Z"
   },
   {
    "duration": 0,
    "start_time": "2023-04-10T17:40:55.221Z"
   },
   {
    "duration": 0,
    "start_time": "2023-04-10T17:40:55.222Z"
   },
   {
    "duration": 0,
    "start_time": "2023-04-10T17:40:55.224Z"
   },
   {
    "duration": 0,
    "start_time": "2023-04-10T17:40:55.225Z"
   },
   {
    "duration": 0,
    "start_time": "2023-04-10T17:40:55.227Z"
   },
   {
    "duration": 0,
    "start_time": "2023-04-10T17:40:55.228Z"
   },
   {
    "duration": 10,
    "start_time": "2023-04-10T17:42:50.918Z"
   },
   {
    "duration": 114,
    "start_time": "2023-04-10T17:43:10.224Z"
   },
   {
    "duration": 110,
    "start_time": "2023-04-10T17:43:52.998Z"
   },
   {
    "duration": 4,
    "start_time": "2023-04-10T17:44:00.272Z"
   },
   {
    "duration": 50,
    "start_time": "2023-04-10T17:57:32.807Z"
   },
   {
    "duration": 1276,
    "start_time": "2023-04-10T17:57:45.641Z"
   },
   {
    "duration": 135,
    "start_time": "2023-04-10T17:58:06.364Z"
   },
   {
    "duration": 105,
    "start_time": "2023-04-10T17:58:13.798Z"
   },
   {
    "duration": 4,
    "start_time": "2023-04-10T18:00:43.154Z"
   },
   {
    "duration": 79,
    "start_time": "2023-04-10T18:00:43.266Z"
   },
   {
    "duration": 14,
    "start_time": "2023-04-10T18:00:43.404Z"
   },
   {
    "duration": 52,
    "start_time": "2023-04-10T18:00:43.998Z"
   },
   {
    "duration": 6,
    "start_time": "2023-04-10T18:00:44.657Z"
   },
   {
    "duration": 10,
    "start_time": "2023-04-10T18:00:44.949Z"
   },
   {
    "duration": 22,
    "start_time": "2023-04-10T18:00:45.254Z"
   },
   {
    "duration": 65,
    "start_time": "2023-04-10T18:00:45.668Z"
   },
   {
    "duration": 200,
    "start_time": "2023-04-10T18:00:45.952Z"
   },
   {
    "duration": 37,
    "start_time": "2023-04-10T18:00:46.233Z"
   },
   {
    "duration": 45,
    "start_time": "2023-04-10T18:00:46.355Z"
   },
   {
    "duration": 1092,
    "start_time": "2023-04-10T18:00:46.878Z"
   },
   {
    "duration": 997,
    "start_time": "2023-04-10T18:00:47.972Z"
   },
   {
    "duration": 39,
    "start_time": "2023-04-10T18:00:48.971Z"
   },
   {
    "duration": 2268,
    "start_time": "2023-04-10T18:00:49.012Z"
   },
   {
    "duration": 123,
    "start_time": "2023-04-10T18:00:51.285Z"
   },
   {
    "duration": 18,
    "start_time": "2023-04-10T18:00:51.410Z"
   },
   {
    "duration": 9199,
    "start_time": "2023-04-10T18:00:51.431Z"
   },
   {
    "duration": 9,
    "start_time": "2023-04-10T18:01:00.633Z"
   },
   {
    "duration": 134,
    "start_time": "2023-04-10T18:01:00.644Z"
   },
   {
    "duration": 16,
    "start_time": "2023-04-10T18:01:00.780Z"
   },
   {
    "duration": 55,
    "start_time": "2023-04-10T18:01:00.800Z"
   },
   {
    "duration": 146,
    "start_time": "2023-04-10T18:01:00.857Z"
   },
   {
    "duration": 140,
    "start_time": "2023-04-10T18:01:20.784Z"
   },
   {
    "duration": 24,
    "start_time": "2023-04-10T18:08:27.353Z"
   },
   {
    "duration": 530,
    "start_time": "2023-04-10T18:08:28.411Z"
   },
   {
    "duration": 67,
    "start_time": "2023-04-10T18:09:30.458Z"
   },
   {
    "duration": 50,
    "start_time": "2023-04-10T18:10:12.565Z"
   },
   {
    "duration": 53,
    "start_time": "2023-04-10T18:10:30.257Z"
   },
   {
    "duration": 52,
    "start_time": "2023-04-10T18:10:38.421Z"
   },
   {
    "duration": 51,
    "start_time": "2023-04-10T18:11:31.946Z"
   },
   {
    "duration": 55,
    "start_time": "2023-04-10T18:15:56.810Z"
   },
   {
    "duration": 178,
    "start_time": "2023-04-10T18:28:20.943Z"
   },
   {
    "duration": 25,
    "start_time": "2023-04-10T18:28:36.033Z"
   },
   {
    "duration": 130,
    "start_time": "2023-04-10T18:28:52.331Z"
   },
   {
    "duration": 20,
    "start_time": "2023-04-10T18:30:02.423Z"
   },
   {
    "duration": 10,
    "start_time": "2023-04-10T18:30:07.294Z"
   },
   {
    "duration": 29,
    "start_time": "2023-04-10T18:30:08.404Z"
   },
   {
    "duration": 66,
    "start_time": "2023-04-10T18:30:26.436Z"
   },
   {
    "duration": 63,
    "start_time": "2023-04-10T18:31:33.750Z"
   },
   {
    "duration": 57,
    "start_time": "2023-04-10T18:31:51.692Z"
   },
   {
    "duration": 469,
    "start_time": "2023-04-10T18:33:39.437Z"
   },
   {
    "duration": 51,
    "start_time": "2023-04-10T18:35:19.050Z"
   },
   {
    "duration": 141,
    "start_time": "2023-04-10T18:35:26.236Z"
   },
   {
    "duration": 16,
    "start_time": "2023-04-10T18:35:36.163Z"
   },
   {
    "duration": 50,
    "start_time": "2023-04-10T18:39:45.314Z"
   },
   {
    "duration": 54,
    "start_time": "2023-04-10T18:46:58.193Z"
   },
   {
    "duration": 41,
    "start_time": "2023-04-10T18:47:21.813Z"
   },
   {
    "duration": 75,
    "start_time": "2023-04-10T18:48:09.337Z"
   },
   {
    "duration": 72,
    "start_time": "2023-04-10T18:49:02.104Z"
   },
   {
    "duration": 70,
    "start_time": "2023-04-10T18:49:26.217Z"
   },
   {
    "duration": 391,
    "start_time": "2023-04-10T18:57:51.506Z"
   },
   {
    "duration": 477,
    "start_time": "2023-04-10T19:03:00.854Z"
   },
   {
    "duration": 74,
    "start_time": "2023-04-10T19:03:21.241Z"
   },
   {
    "duration": 432,
    "start_time": "2023-04-10T19:04:24.570Z"
   },
   {
    "duration": 530,
    "start_time": "2023-04-10T19:05:44.028Z"
   },
   {
    "duration": 445,
    "start_time": "2023-04-10T19:05:53.681Z"
   },
   {
    "duration": 1431,
    "start_time": "2023-04-10T19:07:29.065Z"
   },
   {
    "duration": 1210,
    "start_time": "2023-04-10T19:07:44.636Z"
   },
   {
    "duration": 36,
    "start_time": "2023-04-10T19:07:45.848Z"
   },
   {
    "duration": 16,
    "start_time": "2023-04-10T19:07:45.885Z"
   },
   {
    "duration": 52,
    "start_time": "2023-04-10T19:07:45.903Z"
   },
   {
    "duration": 5,
    "start_time": "2023-04-10T19:07:45.985Z"
   },
   {
    "duration": 11,
    "start_time": "2023-04-10T19:07:45.991Z"
   },
   {
    "duration": 23,
    "start_time": "2023-04-10T19:07:46.004Z"
   },
   {
    "duration": 81,
    "start_time": "2023-04-10T19:07:46.028Z"
   },
   {
    "duration": 208,
    "start_time": "2023-04-10T19:07:46.111Z"
   },
   {
    "duration": 36,
    "start_time": "2023-04-10T19:07:46.321Z"
   },
   {
    "duration": 52,
    "start_time": "2023-04-10T19:07:46.359Z"
   },
   {
    "duration": 968,
    "start_time": "2023-04-10T19:07:46.413Z"
   },
   {
    "duration": 1046,
    "start_time": "2023-04-10T19:07:47.383Z"
   },
   {
    "duration": 41,
    "start_time": "2023-04-10T19:07:48.433Z"
   },
   {
    "duration": 2127,
    "start_time": "2023-04-10T19:07:48.485Z"
   },
   {
    "duration": 213,
    "start_time": "2023-04-10T19:07:50.613Z"
   },
   {
    "duration": 17,
    "start_time": "2023-04-10T19:07:50.827Z"
   },
   {
    "duration": 9041,
    "start_time": "2023-04-10T19:07:50.846Z"
   },
   {
    "duration": 8,
    "start_time": "2023-04-10T19:07:59.888Z"
   },
   {
    "duration": 116,
    "start_time": "2023-04-10T19:07:59.897Z"
   },
   {
    "duration": 10,
    "start_time": "2023-04-10T19:08:00.015Z"
   },
   {
    "duration": 416,
    "start_time": "2023-04-10T19:08:00.026Z"
   },
   {
    "duration": 288,
    "start_time": "2023-04-10T19:08:00.444Z"
   },
   {
    "duration": 9,
    "start_time": "2023-04-10T19:08:00.734Z"
   },
   {
    "duration": 98,
    "start_time": "2023-04-10T19:08:00.745Z"
   },
   {
    "duration": 583,
    "start_time": "2023-04-10T19:08:00.845Z"
   },
   {
    "duration": 2179,
    "start_time": "2023-04-10T19:08:01.430Z"
   },
   {
    "duration": 17,
    "start_time": "2023-04-10T19:08:03.611Z"
   },
   {
    "duration": 13,
    "start_time": "2023-04-10T19:08:03.629Z"
   },
   {
    "duration": 13,
    "start_time": "2023-04-10T19:08:03.644Z"
   },
   {
    "duration": 16,
    "start_time": "2023-04-10T19:08:03.684Z"
   },
   {
    "duration": 13,
    "start_time": "2023-04-10T19:08:03.702Z"
   },
   {
    "duration": 14,
    "start_time": "2023-04-10T19:08:03.716Z"
   },
   {
    "duration": 14,
    "start_time": "2023-04-10T19:08:03.731Z"
   },
   {
    "duration": 46,
    "start_time": "2023-04-10T19:08:03.747Z"
   },
   {
    "duration": 6,
    "start_time": "2023-04-10T19:08:03.794Z"
   },
   {
    "duration": 11,
    "start_time": "2023-04-10T19:08:03.802Z"
   },
   {
    "duration": 3,
    "start_time": "2023-04-10T19:08:03.814Z"
   },
   {
    "duration": 77,
    "start_time": "2023-04-10T19:10:31.650Z"
   },
   {
    "duration": 430,
    "start_time": "2023-04-10T19:10:59.416Z"
   },
   {
    "duration": 17,
    "start_time": "2023-04-10T19:17:14.043Z"
   },
   {
    "duration": 14,
    "start_time": "2023-04-10T19:24:14.660Z"
   },
   {
    "duration": 49,
    "start_time": "2023-04-10T19:25:41.759Z"
   },
   {
    "duration": 9,
    "start_time": "2023-04-10T19:26:06.643Z"
   },
   {
    "duration": 8,
    "start_time": "2023-04-10T19:28:09.236Z"
   },
   {
    "duration": 15,
    "start_time": "2023-04-10T19:28:14.114Z"
   },
   {
    "duration": 16,
    "start_time": "2023-04-10T19:30:43.065Z"
   },
   {
    "duration": 10,
    "start_time": "2023-04-10T19:31:47.101Z"
   },
   {
    "duration": 8,
    "start_time": "2023-04-10T19:32:17.536Z"
   },
   {
    "duration": 1389,
    "start_time": "2023-04-11T07:30:31.913Z"
   },
   {
    "duration": 84,
    "start_time": "2023-04-11T07:30:33.305Z"
   },
   {
    "duration": 17,
    "start_time": "2023-04-11T07:30:33.390Z"
   },
   {
    "duration": 54,
    "start_time": "2023-04-11T07:30:33.410Z"
   },
   {
    "duration": 4,
    "start_time": "2023-04-11T07:30:33.490Z"
   },
   {
    "duration": 13,
    "start_time": "2023-04-11T07:30:33.496Z"
   },
   {
    "duration": 34,
    "start_time": "2023-04-11T07:30:33.511Z"
   },
   {
    "duration": 112,
    "start_time": "2023-04-11T07:30:33.548Z"
   },
   {
    "duration": 248,
    "start_time": "2023-04-11T07:30:33.662Z"
   },
   {
    "duration": 50,
    "start_time": "2023-04-11T07:30:33.914Z"
   },
   {
    "duration": 59,
    "start_time": "2023-04-11T07:30:33.966Z"
   },
   {
    "duration": 1050,
    "start_time": "2023-04-11T07:30:34.027Z"
   },
   {
    "duration": 1148,
    "start_time": "2023-04-11T07:30:35.080Z"
   },
   {
    "duration": 35,
    "start_time": "2023-04-11T07:30:36.230Z"
   },
   {
    "duration": 2381,
    "start_time": "2023-04-11T07:30:36.267Z"
   },
   {
    "duration": 241,
    "start_time": "2023-04-11T07:30:38.650Z"
   },
   {
    "duration": 19,
    "start_time": "2023-04-11T07:30:38.893Z"
   },
   {
    "duration": 9303,
    "start_time": "2023-04-11T07:30:38.914Z"
   },
   {
    "duration": 9,
    "start_time": "2023-04-11T07:30:48.219Z"
   },
   {
    "duration": 129,
    "start_time": "2023-04-11T07:30:48.230Z"
   },
   {
    "duration": 9,
    "start_time": "2023-04-11T07:30:48.361Z"
   },
   {
    "duration": 537,
    "start_time": "2023-04-11T07:30:48.372Z"
   },
   {
    "duration": 311,
    "start_time": "2023-04-11T07:30:48.911Z"
   },
   {
    "duration": 9,
    "start_time": "2023-04-11T07:30:49.224Z"
   },
   {
    "duration": 95,
    "start_time": "2023-04-11T07:30:49.235Z"
   },
   {
    "duration": 526,
    "start_time": "2023-04-11T07:30:49.333Z"
   },
   {
    "duration": 1604,
    "start_time": "2023-04-11T07:30:49.861Z"
   },
   {
    "duration": 29,
    "start_time": "2023-04-11T07:30:51.469Z"
   },
   {
    "duration": 16,
    "start_time": "2023-04-11T07:30:51.500Z"
   },
   {
    "duration": 17,
    "start_time": "2023-04-11T07:30:51.517Z"
   },
   {
    "duration": 20,
    "start_time": "2023-04-11T07:30:51.536Z"
   },
   {
    "duration": 45,
    "start_time": "2023-04-11T07:30:51.558Z"
   },
   {
    "duration": 55,
    "start_time": "2023-04-11T07:30:51.606Z"
   },
   {
    "duration": 16,
    "start_time": "2023-04-11T07:30:51.663Z"
   },
   {
    "duration": 12,
    "start_time": "2023-04-11T07:30:51.682Z"
   },
   {
    "duration": 10,
    "start_time": "2023-04-11T07:30:51.696Z"
   },
   {
    "duration": 14,
    "start_time": "2023-04-11T07:30:51.708Z"
   },
   {
    "duration": 16,
    "start_time": "2023-04-11T07:30:51.724Z"
   },
   {
    "duration": 3,
    "start_time": "2023-04-11T07:30:51.742Z"
   },
   {
    "duration": 1377,
    "start_time": "2023-04-11T17:11:33.871Z"
   },
   {
    "duration": 191,
    "start_time": "2023-04-11T17:11:35.250Z"
   },
   {
    "duration": 13,
    "start_time": "2023-04-11T17:11:35.443Z"
   },
   {
    "duration": 53,
    "start_time": "2023-04-11T17:11:35.458Z"
   },
   {
    "duration": 4,
    "start_time": "2023-04-11T17:11:35.512Z"
   },
   {
    "duration": 17,
    "start_time": "2023-04-11T17:11:35.517Z"
   },
   {
    "duration": 20,
    "start_time": "2023-04-11T17:11:35.535Z"
   },
   {
    "duration": 82,
    "start_time": "2023-04-11T17:11:35.557Z"
   },
   {
    "duration": 211,
    "start_time": "2023-04-11T17:11:35.640Z"
   },
   {
    "duration": 49,
    "start_time": "2023-04-11T17:11:35.853Z"
   },
   {
    "duration": 31,
    "start_time": "2023-04-11T17:11:35.903Z"
   },
   {
    "duration": 931,
    "start_time": "2023-04-11T17:11:35.935Z"
   },
   {
    "duration": 846,
    "start_time": "2023-04-11T17:11:36.867Z"
   },
   {
    "duration": 26,
    "start_time": "2023-04-11T17:11:37.714Z"
   },
   {
    "duration": 1909,
    "start_time": "2023-04-11T17:11:37.742Z"
   },
   {
    "duration": 117,
    "start_time": "2023-04-11T17:11:39.652Z"
   },
   {
    "duration": 33,
    "start_time": "2023-04-11T17:11:39.771Z"
   },
   {
    "duration": 7951,
    "start_time": "2023-04-11T17:11:39.806Z"
   },
   {
    "duration": 8,
    "start_time": "2023-04-11T17:11:47.758Z"
   },
   {
    "duration": 109,
    "start_time": "2023-04-11T17:11:47.768Z"
   },
   {
    "duration": 12,
    "start_time": "2023-04-11T17:11:47.878Z"
   },
   {
    "duration": 510,
    "start_time": "2023-04-11T17:11:47.891Z"
   },
   {
    "duration": 179,
    "start_time": "2023-04-11T17:11:48.403Z"
   },
   {
    "duration": 24,
    "start_time": "2023-04-11T17:11:48.585Z"
   },
   {
    "duration": 120,
    "start_time": "2023-04-11T17:11:48.611Z"
   },
   {
    "duration": 524,
    "start_time": "2023-04-11T17:11:48.733Z"
   },
   {
    "duration": 1263,
    "start_time": "2023-04-11T17:11:49.259Z"
   },
   {
    "duration": 19,
    "start_time": "2023-04-11T17:11:50.529Z"
   },
   {
    "duration": 86,
    "start_time": "2023-04-11T17:11:50.550Z"
   },
   {
    "duration": 52,
    "start_time": "2023-04-11T17:11:50.637Z"
   },
   {
    "duration": 51,
    "start_time": "2023-04-11T17:11:50.690Z"
   },
   {
    "duration": 15,
    "start_time": "2023-04-11T17:11:50.743Z"
   },
   {
    "duration": 86,
    "start_time": "2023-04-11T17:11:50.759Z"
   },
   {
    "duration": 21,
    "start_time": "2023-04-11T17:11:50.847Z"
   },
   {
    "duration": 68,
    "start_time": "2023-04-11T17:11:50.869Z"
   },
   {
    "duration": 80,
    "start_time": "2023-04-11T17:11:50.939Z"
   },
   {
    "duration": 44,
    "start_time": "2023-04-11T17:11:51.021Z"
   },
   {
    "duration": 84,
    "start_time": "2023-04-11T17:11:51.067Z"
   },
   {
    "duration": 62,
    "start_time": "2023-04-11T17:11:51.153Z"
   },
   {
    "duration": 12,
    "start_time": "2023-04-11T17:22:34.401Z"
   },
   {
    "duration": 10,
    "start_time": "2023-04-11T17:34:36.290Z"
   },
   {
    "duration": 7,
    "start_time": "2023-04-11T17:48:34.111Z"
   },
   {
    "duration": 105,
    "start_time": "2023-04-11T17:48:43.932Z"
   },
   {
    "duration": 28,
    "start_time": "2023-04-11T17:48:50.965Z"
   },
   {
    "duration": 135,
    "start_time": "2023-04-11T17:48:51.711Z"
   },
   {
    "duration": 4,
    "start_time": "2023-04-11T17:48:56.250Z"
   },
   {
    "duration": 11,
    "start_time": "2023-04-11T17:49:45.996Z"
   },
   {
    "duration": 5,
    "start_time": "2023-04-11T17:51:22.516Z"
   },
   {
    "duration": 10,
    "start_time": "2023-04-11T17:51:29.298Z"
   },
   {
    "duration": 17,
    "start_time": "2023-04-11T17:52:01.296Z"
   },
   {
    "duration": 10,
    "start_time": "2023-04-11T17:54:20.169Z"
   },
   {
    "duration": 4,
    "start_time": "2023-04-11T17:54:34.549Z"
   },
   {
    "duration": 7,
    "start_time": "2023-04-11T18:02:59.030Z"
   },
   {
    "duration": 12,
    "start_time": "2023-04-11T18:11:13.437Z"
   },
   {
    "duration": 100,
    "start_time": "2023-04-11T18:12:54.759Z"
   },
   {
    "duration": 143,
    "start_time": "2023-04-11T18:13:28.722Z"
   },
   {
    "duration": 13,
    "start_time": "2023-04-11T18:13:36.932Z"
   },
   {
    "duration": 5,
    "start_time": "2023-04-11T18:18:30.147Z"
   },
   {
    "duration": 69,
    "start_time": "2023-04-11T18:21:11.494Z"
   },
   {
    "duration": 1366,
    "start_time": "2023-04-12T14:40:12.735Z"
   },
   {
    "duration": 111,
    "start_time": "2023-04-12T14:40:14.103Z"
   },
   {
    "duration": 25,
    "start_time": "2023-04-12T14:40:14.216Z"
   },
   {
    "duration": 76,
    "start_time": "2023-04-12T14:40:14.245Z"
   },
   {
    "duration": 6,
    "start_time": "2023-04-12T14:40:14.323Z"
   },
   {
    "duration": 47,
    "start_time": "2023-04-12T14:40:14.331Z"
   },
   {
    "duration": 29,
    "start_time": "2023-04-12T14:40:14.380Z"
   },
   {
    "duration": 77,
    "start_time": "2023-04-12T14:40:14.411Z"
   },
   {
    "duration": 269,
    "start_time": "2023-04-12T14:40:14.490Z"
   },
   {
    "duration": 43,
    "start_time": "2023-04-12T14:40:14.763Z"
   },
   {
    "duration": 62,
    "start_time": "2023-04-12T14:40:14.808Z"
   },
   {
    "duration": 1103,
    "start_time": "2023-04-12T14:40:14.872Z"
   },
   {
    "duration": 1119,
    "start_time": "2023-04-12T14:40:15.977Z"
   },
   {
    "duration": 32,
    "start_time": "2023-04-12T14:40:17.097Z"
   },
   {
    "duration": 2330,
    "start_time": "2023-04-12T14:40:17.131Z"
   },
   {
    "duration": 235,
    "start_time": "2023-04-12T14:40:19.463Z"
   },
   {
    "duration": 19,
    "start_time": "2023-04-12T14:40:19.701Z"
   },
   {
    "duration": 9950,
    "start_time": "2023-04-12T14:40:19.722Z"
   },
   {
    "duration": 9,
    "start_time": "2023-04-12T14:40:29.674Z"
   },
   {
    "duration": 140,
    "start_time": "2023-04-12T14:40:29.685Z"
   },
   {
    "duration": 10,
    "start_time": "2023-04-12T14:40:29.826Z"
   },
   {
    "duration": 536,
    "start_time": "2023-04-12T14:40:29.838Z"
   },
   {
    "duration": 380,
    "start_time": "2023-04-12T14:40:30.376Z"
   },
   {
    "duration": 12,
    "start_time": "2023-04-12T14:40:30.758Z"
   },
   {
    "duration": 145,
    "start_time": "2023-04-12T14:40:30.773Z"
   },
   {
    "duration": 706,
    "start_time": "2023-04-12T14:40:30.920Z"
   },
   {
    "duration": 1681,
    "start_time": "2023-04-12T14:40:31.629Z"
   },
   {
    "duration": 43,
    "start_time": "2023-04-12T14:40:33.316Z"
   },
   {
    "duration": 25,
    "start_time": "2023-04-12T14:40:33.362Z"
   },
   {
    "duration": 23,
    "start_time": "2023-04-12T14:40:33.390Z"
   },
   {
    "duration": 49,
    "start_time": "2023-04-12T14:40:33.415Z"
   },
   {
    "duration": 20,
    "start_time": "2023-04-12T14:40:33.466Z"
   },
   {
    "duration": 17,
    "start_time": "2023-04-12T14:40:33.488Z"
   },
   {
    "duration": 15,
    "start_time": "2023-04-12T14:40:33.507Z"
   },
   {
    "duration": 19,
    "start_time": "2023-04-12T14:40:33.557Z"
   },
   {
    "duration": 9,
    "start_time": "2023-04-12T14:40:33.578Z"
   },
   {
    "duration": 5,
    "start_time": "2023-04-12T14:40:33.589Z"
   }
  ],
  "kernelspec": {
   "display_name": "Python 3 (ipykernel)",
   "language": "python",
   "name": "python3"
  },
  "language_info": {
   "codemirror_mode": {
    "name": "ipython",
    "version": 3
   },
   "file_extension": ".py",
   "mimetype": "text/x-python",
   "name": "python",
   "nbconvert_exporter": "python",
   "pygments_lexer": "ipython3",
   "version": "3.9.12"
  },
  "toc": {
   "base_numbering": 1,
   "nav_menu": {},
   "number_sections": true,
   "sideBar": true,
   "skip_h1_title": true,
   "title_cell": "Table of Contents",
   "title_sidebar": "Contents",
   "toc_cell": false,
   "toc_position": {
    "height": "calc(100% - 180px)",
    "left": "10px",
    "top": "150px",
    "width": "279.837px"
   },
   "toc_section_display": true,
   "toc_window_display": false
  }
 },
 "nbformat": 4,
 "nbformat_minor": 2
}
