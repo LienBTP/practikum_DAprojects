{
 "cells": [
  {
   "cell_type": "markdown",
   "metadata": {},
   "source": [
    "# Финальный проект. A/B-тестирование"
   ]
  },
  {
   "cell_type": "markdown",
   "metadata": {},
   "source": [
    "**Цель исследования**: провести оценку результатов A/B-теста изменений, связанных с внедрением улучшенной рекомендательной системы.\n",
    "\n",
    "**Задачи исследования**:\n",
    "- оценить корректность проведения теста:\n",
    "   - соответствие данных требованиям технического задания\n",
    "   - время проведения теста\n",
    "   - аудиторию теста\n",
    "- проанализировать результаты теста\n",
    "\n",
    "**Материалы исследования:** Датасет с действиями пользователей, техническое задание и вспомогательные датасеты. \n",
    "\n",
    "**Техническое задание**:\n",
    "- Название теста: `recommender_system_test`;\n",
    "- группы: А — контрольная, B — новая платёжная воронка;\n",
    "- дата запуска: 2020-12-07;\n",
    "- дата остановки набора новых пользователей: 2020-12-21;\n",
    "- дата остановки: 2021-01-04;\n",
    "- аудитория: 15% новых пользователей из региона EU;\n",
    "- назначение теста: тестирование изменений, связанных с внедрением улучшенной рекомендательной системы;\n",
    "- ожидаемое количество участников теста: 6000.\n",
    "- ожидаемый эффект: за 14 дней с момента регистрации пользователи покажут улучшение каждой метрики не менее, чем на 10%:\n",
    "    - конверсии в просмотр карточек товаров — событие `product_page`,\n",
    "    - просмотры корзины — `product_cart`,\n",
    "    - покупки — `purchase`.\n",
    "\n",
    "**Описание данных**\n",
    "\n",
    "1. `ab_project_marketing_events.csv` — календарь маркетинговых событий на 2020 год.  \n",
    "\n",
    "Структура файла:\n",
    "- `name` — название маркетингового события;\n",
    "- `regions` — регионы, в которых будет проводиться рекламная кампания;\n",
    "- `start_dt` — дата начала кампании;\n",
    "- `finish_dt` — дата завершения кампании.\n",
    "\n",
    "\n",
    "2. `final_ab_new_users.csv` — пользователи, зарегистрировавшиеся с 7 по 21 декабря 2020 года.  \n",
    "\n",
    "Структура файла:\n",
    "- `user_id` — идентификатор пользователя;\n",
    "- `first_date` — дата регистрации;\n",
    "- `region` — регион пользователя;\n",
    "- `device` — устройство, с которого происходила регистрация.\n",
    "\n",
    "\n",
    "3. `final_ab_events.csv` — действия новых пользователей в период с 7 декабря 2020 по 4 января 2021 года.  \n",
    "\n",
    "Структура файла:\n",
    "- `user_id` — идентификатор пользователя;\n",
    "- `event_dt` — дата и время события;\n",
    "- `event_name` — тип события;\n",
    "- `details` — дополнительные данные о событии. Например, для покупок, `purchase,` в этом поле хранится стоимость покупки в долларах.\n",
    "\n",
    "\n",
    "4. `final_ab_participants.csv` — таблица участников тестов.  \n",
    "\n",
    "Структура файла:\n",
    "- `user_id` — идентификатор пользователя;\n",
    "- `ab_test` — название теста;\n",
    "- `group` — группа пользователя."
   ]
  },
  {
   "cell_type": "markdown",
   "metadata": {},
   "source": [
    "**Этапы исследования**:\n",
    "1. Исследование данных:\n",
    "2. Оценка корректности проведения теста\n",
    "3. Исследовательский анализ данных\n",
    "4. Оценка результатов A/B-тестирования\n",
    "5. Выводы по этапу исследовательского анализа данных и по проведённой оценке результатов A/B-тестирования. \n",
    "Общее заключение о корректности проведения теста."
   ]
  },
  {
   "cell_type": "markdown",
   "metadata": {},
   "source": [
    "## Изучение данных и подготовка их к анализу\n",
    "    • Проверка соответствия данных в столбцах заданному типу\n",
    "    • Проверка на пропуски и дубликаты. Описание причин появления в данных пропусков и аномалий"
   ]
  },
  {
   "cell_type": "code",
   "execution_count": 33,
   "metadata": {},
   "outputs": [],
   "source": [
    "#импорт библиотек\n",
    "import pandas as pd\n",
    "import scipy.stats as stats\n",
    "import numpy as np\n",
    "import math as mth\n",
    "import datetime as dt\n",
    "from matplotlib import pyplot as plt\n",
    "\n",
    "import seaborn as sns\n",
    "import plotly.figure_factory as ff\n",
    "from plotly import graph_objects as go\n",
    "import plotly.express as px"
   ]
  },
  {
   "cell_type": "code",
   "execution_count": 34,
   "metadata": {},
   "outputs": [],
   "source": [
    "#загрузка данных\n",
    "try:\n",
    "    ab_events, marketing_events, new_users, participants = (\n",
    "    pd.read_csv('/datasets/final_ab_events.csv'),  #  действия новых пользователей в период с 7 декабря 2020 по 4 января 2021 года.\n",
    "    pd.read_csv('/datasets/ab_project_marketing_events.csv'),  # календарь маркетинговых событий на 2020 год.\n",
    "    pd.read_csv('/datasets/final_ab_new_users.csv'),  # пользователи, зарегистрировавшиеся с 7 по 21 декабря 2020 года.\n",
    "    pd.read_csv('/datasets/final_ab_participants.csv')  # таблица участников тестов.\n",
    ")\n",
    "except:\n",
    "    ab_events, marketing_events, new_users, participants = (\n",
    "    pd.read_csv('https://code.s3.yandex.net/datasets/final_ab_events.csv'),  #  действия новых пользователей в период с 7 декабря 2020 по 4 января 2021 года.\n",
    "    pd.read_csv('https://code.s3.yandex.net/datasets/ab_project_marketing_events.csv'),  # календарь маркетинговых событий на 2020 год.\n",
    "    pd.read_csv('https://code.s3.yandex.net/datasets/final_ab_new_users.csv'),  # пользователи, зарегистрировавшиеся с 7 по 21 декабря 2020 года.\n",
    "    pd.read_csv('https://code.s3.yandex.net/datasets/final_ab_participants.csv') # таблица участников тестов.\n",
    ")"
   ]
  },
  {
   "cell_type": "code",
   "execution_count": 35,
   "metadata": {
    "scrolled": false
   },
   "outputs": [
    {
     "name": "stdout",
     "output_type": "stream",
     "text": [
      "\n",
      "Первые строки таблицы:\n"
     ]
    },
    {
     "data": {
      "text/html": [
       "<div>\n",
       "<style scoped>\n",
       "    .dataframe tbody tr th:only-of-type {\n",
       "        vertical-align: middle;\n",
       "    }\n",
       "\n",
       "    .dataframe tbody tr th {\n",
       "        vertical-align: top;\n",
       "    }\n",
       "\n",
       "    .dataframe thead th {\n",
       "        text-align: right;\n",
       "    }\n",
       "</style>\n",
       "<table border=\"1\" class=\"dataframe\">\n",
       "  <thead>\n",
       "    <tr style=\"text-align: right;\">\n",
       "      <th></th>\n",
       "      <th>user_id</th>\n",
       "      <th>event_dt</th>\n",
       "      <th>event_name</th>\n",
       "      <th>details</th>\n",
       "    </tr>\n",
       "  </thead>\n",
       "  <tbody>\n",
       "    <tr>\n",
       "      <th>0</th>\n",
       "      <td>E1BDDCE0DAFA2679</td>\n",
       "      <td>2020-12-07 20:22:03</td>\n",
       "      <td>purchase</td>\n",
       "      <td>99.99</td>\n",
       "    </tr>\n",
       "    <tr>\n",
       "      <th>1</th>\n",
       "      <td>7B6452F081F49504</td>\n",
       "      <td>2020-12-07 09:22:53</td>\n",
       "      <td>purchase</td>\n",
       "      <td>9.99</td>\n",
       "    </tr>\n",
       "    <tr>\n",
       "      <th>2</th>\n",
       "      <td>9CD9F34546DF254C</td>\n",
       "      <td>2020-12-07 12:59:29</td>\n",
       "      <td>purchase</td>\n",
       "      <td>4.99</td>\n",
       "    </tr>\n",
       "    <tr>\n",
       "      <th>3</th>\n",
       "      <td>96F27A054B191457</td>\n",
       "      <td>2020-12-07 04:02:40</td>\n",
       "      <td>purchase</td>\n",
       "      <td>4.99</td>\n",
       "    </tr>\n",
       "    <tr>\n",
       "      <th>4</th>\n",
       "      <td>1FD7660FDF94CA1F</td>\n",
       "      <td>2020-12-07 10:15:09</td>\n",
       "      <td>purchase</td>\n",
       "      <td>4.99</td>\n",
       "    </tr>\n",
       "  </tbody>\n",
       "</table>\n",
       "</div>"
      ],
      "text/plain": [
       "            user_id             event_dt event_name  details\n",
       "0  E1BDDCE0DAFA2679  2020-12-07 20:22:03   purchase    99.99\n",
       "1  7B6452F081F49504  2020-12-07 09:22:53   purchase     9.99\n",
       "2  9CD9F34546DF254C  2020-12-07 12:59:29   purchase     4.99\n",
       "3  96F27A054B191457  2020-12-07 04:02:40   purchase     4.99\n",
       "4  1FD7660FDF94CA1F  2020-12-07 10:15:09   purchase     4.99"
      ]
     },
     "metadata": {},
     "output_type": "display_data"
    },
    {
     "name": "stdout",
     "output_type": "stream",
     "text": [
      "\n",
      "Основная информация о таблице:\n",
      "<class 'pandas.core.frame.DataFrame'>\n",
      "RangeIndex: 440317 entries, 0 to 440316\n",
      "Data columns (total 4 columns):\n",
      " #   Column      Non-Null Count   Dtype  \n",
      "---  ------      --------------   -----  \n",
      " 0   user_id     440317 non-null  object \n",
      " 1   event_dt    440317 non-null  object \n",
      " 2   event_name  440317 non-null  object \n",
      " 3   details     62740 non-null   float64\n",
      "dtypes: float64(1), object(3)\n",
      "memory usage: 13.4+ MB\n"
     ]
    },
    {
     "data": {
      "text/plain": [
       "None"
      ]
     },
     "metadata": {},
     "output_type": "display_data"
    },
    {
     "name": "stdout",
     "output_type": "stream",
     "text": [
      "\n",
      "Проверка таблицы на пропуски:\n"
     ]
    },
    {
     "data": {
      "text/plain": [
       "user_id            0\n",
       "event_dt           0\n",
       "event_name         0\n",
       "details       377577\n",
       "dtype: int64"
      ]
     },
     "metadata": {},
     "output_type": "display_data"
    },
    {
     "name": "stdout",
     "output_type": "stream",
     "text": [
      "\n",
      "Проверка таблицы на дубликаты:\n"
     ]
    },
    {
     "data": {
      "text/plain": [
       "0"
      ]
     },
     "metadata": {},
     "output_type": "display_data"
    },
    {
     "name": "stdout",
     "output_type": "stream",
     "text": [
      "--------------------------------------------------\n",
      "\n",
      "\n",
      "Первые строки таблицы:\n"
     ]
    },
    {
     "data": {
      "text/html": [
       "<div>\n",
       "<style scoped>\n",
       "    .dataframe tbody tr th:only-of-type {\n",
       "        vertical-align: middle;\n",
       "    }\n",
       "\n",
       "    .dataframe tbody tr th {\n",
       "        vertical-align: top;\n",
       "    }\n",
       "\n",
       "    .dataframe thead th {\n",
       "        text-align: right;\n",
       "    }\n",
       "</style>\n",
       "<table border=\"1\" class=\"dataframe\">\n",
       "  <thead>\n",
       "    <tr style=\"text-align: right;\">\n",
       "      <th></th>\n",
       "      <th>name</th>\n",
       "      <th>regions</th>\n",
       "      <th>start_dt</th>\n",
       "      <th>finish_dt</th>\n",
       "    </tr>\n",
       "  </thead>\n",
       "  <tbody>\n",
       "    <tr>\n",
       "      <th>0</th>\n",
       "      <td>Christmas&amp;New Year Promo</td>\n",
       "      <td>EU, N.America</td>\n",
       "      <td>2020-12-25</td>\n",
       "      <td>2021-01-03</td>\n",
       "    </tr>\n",
       "    <tr>\n",
       "      <th>1</th>\n",
       "      <td>St. Valentine's Day Giveaway</td>\n",
       "      <td>EU, CIS, APAC, N.America</td>\n",
       "      <td>2020-02-14</td>\n",
       "      <td>2020-02-16</td>\n",
       "    </tr>\n",
       "    <tr>\n",
       "      <th>2</th>\n",
       "      <td>St. Patric's Day Promo</td>\n",
       "      <td>EU, N.America</td>\n",
       "      <td>2020-03-17</td>\n",
       "      <td>2020-03-19</td>\n",
       "    </tr>\n",
       "    <tr>\n",
       "      <th>3</th>\n",
       "      <td>Easter Promo</td>\n",
       "      <td>EU, CIS, APAC, N.America</td>\n",
       "      <td>2020-04-12</td>\n",
       "      <td>2020-04-19</td>\n",
       "    </tr>\n",
       "    <tr>\n",
       "      <th>4</th>\n",
       "      <td>4th of July Promo</td>\n",
       "      <td>N.America</td>\n",
       "      <td>2020-07-04</td>\n",
       "      <td>2020-07-11</td>\n",
       "    </tr>\n",
       "  </tbody>\n",
       "</table>\n",
       "</div>"
      ],
      "text/plain": [
       "                           name                   regions    start_dt  \\\n",
       "0      Christmas&New Year Promo             EU, N.America  2020-12-25   \n",
       "1  St. Valentine's Day Giveaway  EU, CIS, APAC, N.America  2020-02-14   \n",
       "2        St. Patric's Day Promo             EU, N.America  2020-03-17   \n",
       "3                  Easter Promo  EU, CIS, APAC, N.America  2020-04-12   \n",
       "4             4th of July Promo                 N.America  2020-07-04   \n",
       "\n",
       "    finish_dt  \n",
       "0  2021-01-03  \n",
       "1  2020-02-16  \n",
       "2  2020-03-19  \n",
       "3  2020-04-19  \n",
       "4  2020-07-11  "
      ]
     },
     "metadata": {},
     "output_type": "display_data"
    },
    {
     "name": "stdout",
     "output_type": "stream",
     "text": [
      "\n",
      "Основная информация о таблице:\n",
      "<class 'pandas.core.frame.DataFrame'>\n",
      "RangeIndex: 14 entries, 0 to 13\n",
      "Data columns (total 4 columns):\n",
      " #   Column     Non-Null Count  Dtype \n",
      "---  ------     --------------  ----- \n",
      " 0   name       14 non-null     object\n",
      " 1   regions    14 non-null     object\n",
      " 2   start_dt   14 non-null     object\n",
      " 3   finish_dt  14 non-null     object\n",
      "dtypes: object(4)\n",
      "memory usage: 576.0+ bytes\n"
     ]
    },
    {
     "data": {
      "text/plain": [
       "None"
      ]
     },
     "metadata": {},
     "output_type": "display_data"
    },
    {
     "name": "stdout",
     "output_type": "stream",
     "text": [
      "\n",
      "Проверка таблицы на пропуски:\n"
     ]
    },
    {
     "data": {
      "text/plain": [
       "name         0\n",
       "regions      0\n",
       "start_dt     0\n",
       "finish_dt    0\n",
       "dtype: int64"
      ]
     },
     "metadata": {},
     "output_type": "display_data"
    },
    {
     "name": "stdout",
     "output_type": "stream",
     "text": [
      "\n",
      "Проверка таблицы на дубликаты:\n"
     ]
    },
    {
     "data": {
      "text/plain": [
       "0"
      ]
     },
     "metadata": {},
     "output_type": "display_data"
    },
    {
     "name": "stdout",
     "output_type": "stream",
     "text": [
      "--------------------------------------------------\n",
      "\n",
      "\n",
      "Первые строки таблицы:\n"
     ]
    },
    {
     "data": {
      "text/html": [
       "<div>\n",
       "<style scoped>\n",
       "    .dataframe tbody tr th:only-of-type {\n",
       "        vertical-align: middle;\n",
       "    }\n",
       "\n",
       "    .dataframe tbody tr th {\n",
       "        vertical-align: top;\n",
       "    }\n",
       "\n",
       "    .dataframe thead th {\n",
       "        text-align: right;\n",
       "    }\n",
       "</style>\n",
       "<table border=\"1\" class=\"dataframe\">\n",
       "  <thead>\n",
       "    <tr style=\"text-align: right;\">\n",
       "      <th></th>\n",
       "      <th>user_id</th>\n",
       "      <th>first_date</th>\n",
       "      <th>region</th>\n",
       "      <th>device</th>\n",
       "    </tr>\n",
       "  </thead>\n",
       "  <tbody>\n",
       "    <tr>\n",
       "      <th>0</th>\n",
       "      <td>D72A72121175D8BE</td>\n",
       "      <td>2020-12-07</td>\n",
       "      <td>EU</td>\n",
       "      <td>PC</td>\n",
       "    </tr>\n",
       "    <tr>\n",
       "      <th>1</th>\n",
       "      <td>F1C668619DFE6E65</td>\n",
       "      <td>2020-12-07</td>\n",
       "      <td>N.America</td>\n",
       "      <td>Android</td>\n",
       "    </tr>\n",
       "    <tr>\n",
       "      <th>2</th>\n",
       "      <td>2E1BF1D4C37EA01F</td>\n",
       "      <td>2020-12-07</td>\n",
       "      <td>EU</td>\n",
       "      <td>PC</td>\n",
       "    </tr>\n",
       "    <tr>\n",
       "      <th>3</th>\n",
       "      <td>50734A22C0C63768</td>\n",
       "      <td>2020-12-07</td>\n",
       "      <td>EU</td>\n",
       "      <td>iPhone</td>\n",
       "    </tr>\n",
       "    <tr>\n",
       "      <th>4</th>\n",
       "      <td>E1BDDCE0DAFA2679</td>\n",
       "      <td>2020-12-07</td>\n",
       "      <td>N.America</td>\n",
       "      <td>iPhone</td>\n",
       "    </tr>\n",
       "  </tbody>\n",
       "</table>\n",
       "</div>"
      ],
      "text/plain": [
       "            user_id  first_date     region   device\n",
       "0  D72A72121175D8BE  2020-12-07         EU       PC\n",
       "1  F1C668619DFE6E65  2020-12-07  N.America  Android\n",
       "2  2E1BF1D4C37EA01F  2020-12-07         EU       PC\n",
       "3  50734A22C0C63768  2020-12-07         EU   iPhone\n",
       "4  E1BDDCE0DAFA2679  2020-12-07  N.America   iPhone"
      ]
     },
     "metadata": {},
     "output_type": "display_data"
    },
    {
     "name": "stdout",
     "output_type": "stream",
     "text": [
      "\n",
      "Основная информация о таблице:\n",
      "<class 'pandas.core.frame.DataFrame'>\n",
      "RangeIndex: 61733 entries, 0 to 61732\n",
      "Data columns (total 4 columns):\n",
      " #   Column      Non-Null Count  Dtype \n",
      "---  ------      --------------  ----- \n",
      " 0   user_id     61733 non-null  object\n",
      " 1   first_date  61733 non-null  object\n",
      " 2   region      61733 non-null  object\n",
      " 3   device      61733 non-null  object\n",
      "dtypes: object(4)\n",
      "memory usage: 1.9+ MB\n"
     ]
    },
    {
     "data": {
      "text/plain": [
       "None"
      ]
     },
     "metadata": {},
     "output_type": "display_data"
    },
    {
     "name": "stdout",
     "output_type": "stream",
     "text": [
      "\n",
      "Проверка таблицы на пропуски:\n"
     ]
    },
    {
     "data": {
      "text/plain": [
       "user_id       0\n",
       "first_date    0\n",
       "region        0\n",
       "device        0\n",
       "dtype: int64"
      ]
     },
     "metadata": {},
     "output_type": "display_data"
    },
    {
     "name": "stdout",
     "output_type": "stream",
     "text": [
      "\n",
      "Проверка таблицы на дубликаты:\n"
     ]
    },
    {
     "data": {
      "text/plain": [
       "0"
      ]
     },
     "metadata": {},
     "output_type": "display_data"
    },
    {
     "name": "stdout",
     "output_type": "stream",
     "text": [
      "--------------------------------------------------\n",
      "\n",
      "\n",
      "Первые строки таблицы:\n"
     ]
    },
    {
     "data": {
      "text/html": [
       "<div>\n",
       "<style scoped>\n",
       "    .dataframe tbody tr th:only-of-type {\n",
       "        vertical-align: middle;\n",
       "    }\n",
       "\n",
       "    .dataframe tbody tr th {\n",
       "        vertical-align: top;\n",
       "    }\n",
       "\n",
       "    .dataframe thead th {\n",
       "        text-align: right;\n",
       "    }\n",
       "</style>\n",
       "<table border=\"1\" class=\"dataframe\">\n",
       "  <thead>\n",
       "    <tr style=\"text-align: right;\">\n",
       "      <th></th>\n",
       "      <th>user_id</th>\n",
       "      <th>group</th>\n",
       "      <th>ab_test</th>\n",
       "    </tr>\n",
       "  </thead>\n",
       "  <tbody>\n",
       "    <tr>\n",
       "      <th>0</th>\n",
       "      <td>D1ABA3E2887B6A73</td>\n",
       "      <td>A</td>\n",
       "      <td>recommender_system_test</td>\n",
       "    </tr>\n",
       "    <tr>\n",
       "      <th>1</th>\n",
       "      <td>A7A3664BD6242119</td>\n",
       "      <td>A</td>\n",
       "      <td>recommender_system_test</td>\n",
       "    </tr>\n",
       "    <tr>\n",
       "      <th>2</th>\n",
       "      <td>DABC14FDDFADD29E</td>\n",
       "      <td>A</td>\n",
       "      <td>recommender_system_test</td>\n",
       "    </tr>\n",
       "    <tr>\n",
       "      <th>3</th>\n",
       "      <td>04988C5DF189632E</td>\n",
       "      <td>A</td>\n",
       "      <td>recommender_system_test</td>\n",
       "    </tr>\n",
       "    <tr>\n",
       "      <th>4</th>\n",
       "      <td>482F14783456D21B</td>\n",
       "      <td>B</td>\n",
       "      <td>recommender_system_test</td>\n",
       "    </tr>\n",
       "  </tbody>\n",
       "</table>\n",
       "</div>"
      ],
      "text/plain": [
       "            user_id group                  ab_test\n",
       "0  D1ABA3E2887B6A73     A  recommender_system_test\n",
       "1  A7A3664BD6242119     A  recommender_system_test\n",
       "2  DABC14FDDFADD29E     A  recommender_system_test\n",
       "3  04988C5DF189632E     A  recommender_system_test\n",
       "4  482F14783456D21B     B  recommender_system_test"
      ]
     },
     "metadata": {},
     "output_type": "display_data"
    },
    {
     "name": "stdout",
     "output_type": "stream",
     "text": [
      "\n",
      "Основная информация о таблице:\n",
      "<class 'pandas.core.frame.DataFrame'>\n",
      "RangeIndex: 18268 entries, 0 to 18267\n",
      "Data columns (total 3 columns):\n",
      " #   Column   Non-Null Count  Dtype \n",
      "---  ------   --------------  ----- \n",
      " 0   user_id  18268 non-null  object\n",
      " 1   group    18268 non-null  object\n",
      " 2   ab_test  18268 non-null  object\n",
      "dtypes: object(3)\n",
      "memory usage: 428.3+ KB\n"
     ]
    },
    {
     "data": {
      "text/plain": [
       "None"
      ]
     },
     "metadata": {},
     "output_type": "display_data"
    },
    {
     "name": "stdout",
     "output_type": "stream",
     "text": [
      "\n",
      "Проверка таблицы на пропуски:\n"
     ]
    },
    {
     "data": {
      "text/plain": [
       "user_id    0\n",
       "group      0\n",
       "ab_test    0\n",
       "dtype: int64"
      ]
     },
     "metadata": {},
     "output_type": "display_data"
    },
    {
     "name": "stdout",
     "output_type": "stream",
     "text": [
      "\n",
      "Проверка таблицы на дубликаты:\n"
     ]
    },
    {
     "data": {
      "text/plain": [
       "0"
      ]
     },
     "metadata": {},
     "output_type": "display_data"
    },
    {
     "name": "stdout",
     "output_type": "stream",
     "text": [
      "--------------------------------------------------\n",
      "\n"
     ]
    }
   ],
   "source": [
    "#выгрузка основной информации о датасетах\n",
    "\n",
    "pd.options.display.max_colwidth = 100\n",
    "\n",
    "for i in [ab_events, marketing_events, new_users, participants]:\n",
    "    print()\n",
    "    print('Первые строки таблицы:')\n",
    "    display(i.head());\n",
    "    print()\n",
    "    print('Основная информация о таблице:')\n",
    "    display(i.info());\n",
    "    print()\n",
    "    print('Проверка таблицы на пропуски:')\n",
    "    display(i.isna().sum());\n",
    "    print()\n",
    "    print('Проверка таблицы на дубликаты:')\n",
    "    display(i.duplicated().sum());\n",
    "    print('-'*50)\n",
    "    print()"
   ]
  },
  {
   "cell_type": "code",
   "execution_count": 36,
   "metadata": {},
   "outputs": [
    {
     "data": {
      "text/html": [
       "<div>\n",
       "<style scoped>\n",
       "    .dataframe tbody tr th:only-of-type {\n",
       "        vertical-align: middle;\n",
       "    }\n",
       "\n",
       "    .dataframe tbody tr th {\n",
       "        vertical-align: top;\n",
       "    }\n",
       "\n",
       "    .dataframe thead th {\n",
       "        text-align: right;\n",
       "    }\n",
       "</style>\n",
       "<table border=\"1\" class=\"dataframe\">\n",
       "  <thead>\n",
       "    <tr style=\"text-align: right;\">\n",
       "      <th></th>\n",
       "      <th>event_name</th>\n",
       "      <th>details</th>\n",
       "    </tr>\n",
       "  </thead>\n",
       "  <tbody>\n",
       "    <tr>\n",
       "      <th>0</th>\n",
       "      <td>login</td>\n",
       "      <td>0</td>\n",
       "    </tr>\n",
       "    <tr>\n",
       "      <th>1</th>\n",
       "      <td>product_cart</td>\n",
       "      <td>0</td>\n",
       "    </tr>\n",
       "    <tr>\n",
       "      <th>2</th>\n",
       "      <td>product_page</td>\n",
       "      <td>0</td>\n",
       "    </tr>\n",
       "    <tr>\n",
       "      <th>3</th>\n",
       "      <td>purchase</td>\n",
       "      <td>62740</td>\n",
       "    </tr>\n",
       "  </tbody>\n",
       "</table>\n",
       "</div>"
      ],
      "text/plain": [
       "     event_name  details\n",
       "0         login        0\n",
       "1  product_cart        0\n",
       "2  product_page        0\n",
       "3      purchase    62740"
      ]
     },
     "execution_count": 36,
     "metadata": {},
     "output_type": "execute_result"
    }
   ],
   "source": [
    "# рассчитаем количество уазанных дополнительных данных относительно каждого события\n",
    "ab_events.groupby('event_name')['details'].count().reset_index()"
   ]
  },
  {
   "cell_type": "markdown",
   "metadata": {},
   "source": [
    "**Вывод**:\n",
    "\n",
    "В таблце `ab_events`:\n",
    "- `event_dt` — необходимо привести к типу datetime\n",
    "- `details` — пропуски в 377 577 строках. Заполнено 62 740 строк для события purchase. По остальным событиям доп. данные не указаны. Столбец не используется в дальнейшем анализе, поэтому пропуски оставим как есть.  \n",
    "- дубликатов нет\n",
    "\n",
    "В таблце `marketing_events`:\n",
    "- `start_dt`  — необходимо перевести к типу datetime\n",
    "- `finish_dt`  — необходимо перевести к типу datetime\n",
    "- пропусков нет\n",
    "- дубликатов нет\n",
    "\n",
    "В таблце `new_users`:\n",
    "- `first_date`  — необходимо перевести к типу datetime\n",
    "- пропусков нет\n",
    "- дубликатов нет\n",
    "\n",
    "В таблце `participants`:\n",
    "- данные соотвествуют типу\n",
    "- пропусков нет\n",
    "- дубликатов нет\n",
    "\n"
   ]
  },
  {
   "cell_type": "code",
   "execution_count": 37,
   "metadata": {},
   "outputs": [],
   "source": [
    "# приведение столбцов с датами к типу datetime\n",
    "ab_events['event_dt'] = pd.to_datetime(ab_events['event_dt'])\n",
    "marketing_events['start_dt'] = marketing_events['start_dt'].map(lambda x: dt.datetime.strptime(x, '%Y-%m-%d'))\n",
    "marketing_events['finish_dt'] = marketing_events['finish_dt'].map(lambda x: dt.datetime.strptime(x, '%Y-%m-%d'))\n",
    "new_users['first_date'] = new_users['first_date'].map(lambda x: dt.datetime.strptime(x, '%Y-%m-%d'))"
   ]
  },
  {
   "cell_type": "markdown",
   "metadata": {},
   "source": [
    "## Оценка корректности проведения теста\n",
    "- Соответствие данных всем требованиям технического задания.   \n",
    "- Время проведения теста  \n",
    "- Аудитория теста  \n",
    "\n",
    "1. Оценка негативного влияния нарушений требований на результаты теста.\n",
    "2. Контроль количества уникальных пользователей, принимающих участие в тесте  при проверке условий технического задания и фильтрации данных для детального изучения влияния каждого условия на аудиторию теста."
   ]
  },
  {
   "cell_type": "markdown",
   "metadata": {},
   "source": [
    "### Соответствие данных всем требованиям технического задания. \n",
    "\n",
    "    • Название теста: `recommender_system_test`;\n",
    "    • группы: А — контрольная, B — новая платёжная воронка;\n",
    "1. дата запуска: 2020-12-07;\n",
    "    • дата остановки набора новых пользователей: 2020-12-21;\n",
    "2. дата остановки: 2021-01-04;\n",
    "3. аудитория: 15% новых пользователей из региона EU;\n",
    "    • назначение теста: тестирование изменений, связанных с внедрением улучшенной рекомендательной системы;\n",
    "4. ожидаемое количество участников теста: 6000.\n",
    "5. ожидаемый эффект: за 14 дней с момента регистрации пользователи покажут улучшение каждой метрики не менее, чем на 10%:  \n",
    "    ◦ конверсии в просмотр карточек товаров — событие `product_page`  \n",
    "    ◦ просмотры корзины — `product_cart`  \n",
    "    ◦ покупки — `purchase`  "
   ]
  },
  {
   "cell_type": "markdown",
   "metadata": {},
   "source": [
    "#### Даты запуска и остановки набора новых пользователей\n",
    "- дата запуска: 2020-12-07;\n",
    "- дата остановки набора новых пользователей: 2020-12-21;\n",
    "    \n",
    "Объединим таблицы `new_users` и `participants` для сверки дат набора новых пользователей"
   ]
  },
  {
   "cell_type": "code",
   "execution_count": 38,
   "metadata": {},
   "outputs": [
    {
     "data": {
      "text/html": [
       "<div>\n",
       "<style scoped>\n",
       "    .dataframe tbody tr th:only-of-type {\n",
       "        vertical-align: middle;\n",
       "    }\n",
       "\n",
       "    .dataframe tbody tr th {\n",
       "        vertical-align: top;\n",
       "    }\n",
       "\n",
       "    .dataframe thead th {\n",
       "        text-align: right;\n",
       "    }\n",
       "</style>\n",
       "<table border=\"1\" class=\"dataframe\">\n",
       "  <thead>\n",
       "    <tr style=\"text-align: right;\">\n",
       "      <th></th>\n",
       "      <th>user_id</th>\n",
       "      <th>group</th>\n",
       "      <th>ab_test</th>\n",
       "      <th>first_date</th>\n",
       "      <th>region</th>\n",
       "      <th>device</th>\n",
       "    </tr>\n",
       "  </thead>\n",
       "  <tbody>\n",
       "    <tr>\n",
       "      <th>0</th>\n",
       "      <td>D1ABA3E2887B6A73</td>\n",
       "      <td>A</td>\n",
       "      <td>recommender_system_test</td>\n",
       "      <td>2020-12-07</td>\n",
       "      <td>EU</td>\n",
       "      <td>PC</td>\n",
       "    </tr>\n",
       "    <tr>\n",
       "      <th>1</th>\n",
       "      <td>A7A3664BD6242119</td>\n",
       "      <td>A</td>\n",
       "      <td>recommender_system_test</td>\n",
       "      <td>2020-12-20</td>\n",
       "      <td>EU</td>\n",
       "      <td>iPhone</td>\n",
       "    </tr>\n",
       "    <tr>\n",
       "      <th>2</th>\n",
       "      <td>DABC14FDDFADD29E</td>\n",
       "      <td>A</td>\n",
       "      <td>recommender_system_test</td>\n",
       "      <td>2020-12-08</td>\n",
       "      <td>EU</td>\n",
       "      <td>Mac</td>\n",
       "    </tr>\n",
       "    <tr>\n",
       "      <th>3</th>\n",
       "      <td>04988C5DF189632E</td>\n",
       "      <td>A</td>\n",
       "      <td>recommender_system_test</td>\n",
       "      <td>2020-12-14</td>\n",
       "      <td>EU</td>\n",
       "      <td>iPhone</td>\n",
       "    </tr>\n",
       "    <tr>\n",
       "      <th>4</th>\n",
       "      <td>482F14783456D21B</td>\n",
       "      <td>B</td>\n",
       "      <td>recommender_system_test</td>\n",
       "      <td>2020-12-14</td>\n",
       "      <td>EU</td>\n",
       "      <td>PC</td>\n",
       "    </tr>\n",
       "  </tbody>\n",
       "</table>\n",
       "</div>"
      ],
      "text/plain": [
       "            user_id group                  ab_test first_date region  device\n",
       "0  D1ABA3E2887B6A73     A  recommender_system_test 2020-12-07     EU      PC\n",
       "1  A7A3664BD6242119     A  recommender_system_test 2020-12-20     EU  iPhone\n",
       "2  DABC14FDDFADD29E     A  recommender_system_test 2020-12-08     EU     Mac\n",
       "3  04988C5DF189632E     A  recommender_system_test 2020-12-14     EU  iPhone\n",
       "4  482F14783456D21B     B  recommender_system_test 2020-12-14     EU      PC"
      ]
     },
     "metadata": {},
     "output_type": "display_data"
    },
    {
     "name": "stdout",
     "output_type": "stream",
     "text": [
      "Дата начала регистрации: 2020-12-07\n",
      "Дата остановки набора новых пользователей: 2020-12-21\n"
     ]
    }
   ],
   "source": [
    "test_users = participants.merge(new_users, on='user_id', how='left') \n",
    "test_users = test_users.query('ab_test == \"recommender_system_test\"')\n",
    "display(test_users.head())\n",
    "print('Дата начала регистрации:', test_users.first_date.min().strftime('%Y-%m-%d'))\n",
    "print('Дата остановки набора новых пользователей:', test_users.first_date.max().strftime('%Y-%m-%d'))"
   ]
  },
  {
   "cell_type": "markdown",
   "metadata": {},
   "source": [
    "**Даты запуска и остановки набора** новых пользователей соответствует ТЗ"
   ]
  },
  {
   "cell_type": "markdown",
   "metadata": {},
   "source": [
    "#### Дата остановки теста - 2021-01-04\n",
    "Посмотрим последнюю дату действий новых пользователей "
   ]
  },
  {
   "cell_type": "code",
   "execution_count": 39,
   "metadata": {},
   "outputs": [
    {
     "data": {
      "text/plain": [
       "'2020-12-30'"
      ]
     },
     "execution_count": 39,
     "metadata": {},
     "output_type": "execute_result"
    }
   ],
   "source": [
    "ab_events.event_dt.max().strftime('%Y-%m-%d')"
   ]
  },
  {
   "cell_type": "markdown",
   "metadata": {},
   "source": [
    "**Логи есть до 30 декабря** при том, что заявленная дата остановки теста - 4 января.   \n",
    "Это значит, что по пользователям, зарегистрировавшим после 18 декабря, нет полных наблюдейний за 14 дней из-за чего результаты теста могут быть искажены"
   ]
  },
  {
   "cell_type": "markdown",
   "metadata": {},
   "source": [
    "#### Aудитория: 15% новых пользователей из региона EU"
   ]
  },
  {
   "cell_type": "code",
   "execution_count": 40,
   "metadata": {},
   "outputs": [
    {
     "data": {
      "text/html": [
       "<div>\n",
       "<style scoped>\n",
       "    .dataframe tbody tr th:only-of-type {\n",
       "        vertical-align: middle;\n",
       "    }\n",
       "\n",
       "    .dataframe tbody tr th {\n",
       "        vertical-align: top;\n",
       "    }\n",
       "\n",
       "    .dataframe thead th {\n",
       "        text-align: right;\n",
       "    }\n",
       "</style>\n",
       "<table border=\"1\" class=\"dataframe\">\n",
       "  <thead>\n",
       "    <tr style=\"text-align: right;\">\n",
       "      <th></th>\n",
       "      <th>user_id</th>\n",
       "      <th>first_date</th>\n",
       "      <th>region</th>\n",
       "      <th>device</th>\n",
       "    </tr>\n",
       "  </thead>\n",
       "  <tbody>\n",
       "    <tr>\n",
       "      <th>0</th>\n",
       "      <td>D72A72121175D8BE</td>\n",
       "      <td>2020-12-07</td>\n",
       "      <td>EU</td>\n",
       "      <td>PC</td>\n",
       "    </tr>\n",
       "    <tr>\n",
       "      <th>1</th>\n",
       "      <td>F1C668619DFE6E65</td>\n",
       "      <td>2020-12-07</td>\n",
       "      <td>N.America</td>\n",
       "      <td>Android</td>\n",
       "    </tr>\n",
       "    <tr>\n",
       "      <th>2</th>\n",
       "      <td>2E1BF1D4C37EA01F</td>\n",
       "      <td>2020-12-07</td>\n",
       "      <td>EU</td>\n",
       "      <td>PC</td>\n",
       "    </tr>\n",
       "    <tr>\n",
       "      <th>3</th>\n",
       "      <td>50734A22C0C63768</td>\n",
       "      <td>2020-12-07</td>\n",
       "      <td>EU</td>\n",
       "      <td>iPhone</td>\n",
       "    </tr>\n",
       "    <tr>\n",
       "      <th>4</th>\n",
       "      <td>E1BDDCE0DAFA2679</td>\n",
       "      <td>2020-12-07</td>\n",
       "      <td>N.America</td>\n",
       "      <td>iPhone</td>\n",
       "    </tr>\n",
       "  </tbody>\n",
       "</table>\n",
       "</div>"
      ],
      "text/plain": [
       "            user_id first_date     region   device\n",
       "0  D72A72121175D8BE 2020-12-07         EU       PC\n",
       "1  F1C668619DFE6E65 2020-12-07  N.America  Android\n",
       "2  2E1BF1D4C37EA01F 2020-12-07         EU       PC\n",
       "3  50734A22C0C63768 2020-12-07         EU   iPhone\n",
       "4  E1BDDCE0DAFA2679 2020-12-07  N.America   iPhone"
      ]
     },
     "execution_count": 40,
     "metadata": {},
     "output_type": "execute_result"
    }
   ],
   "source": [
    "new_users.head()"
   ]
  },
  {
   "cell_type": "code",
   "execution_count": 41,
   "metadata": {},
   "outputs": [
    {
     "name": "stdout",
     "output_type": "stream",
     "text": [
      "Распределение всех новых пользователей по регионам:\n"
     ]
    },
    {
     "data": {
      "text/html": [
       "<div>\n",
       "<style scoped>\n",
       "    .dataframe tbody tr th:only-of-type {\n",
       "        vertical-align: middle;\n",
       "    }\n",
       "\n",
       "    .dataframe tbody tr th {\n",
       "        vertical-align: top;\n",
       "    }\n",
       "\n",
       "    .dataframe thead th {\n",
       "        text-align: right;\n",
       "    }\n",
       "</style>\n",
       "<table border=\"1\" class=\"dataframe\">\n",
       "  <thead>\n",
       "    <tr style=\"text-align: right;\">\n",
       "      <th></th>\n",
       "      <th>region</th>\n",
       "      <th>user_id</th>\n",
       "    </tr>\n",
       "  </thead>\n",
       "  <tbody>\n",
       "    <tr>\n",
       "      <th>0</th>\n",
       "      <td>APAC</td>\n",
       "      <td>2898</td>\n",
       "    </tr>\n",
       "    <tr>\n",
       "      <th>1</th>\n",
       "      <td>CIS</td>\n",
       "      <td>2862</td>\n",
       "    </tr>\n",
       "    <tr>\n",
       "      <th>2</th>\n",
       "      <td>EU</td>\n",
       "      <td>42065</td>\n",
       "    </tr>\n",
       "    <tr>\n",
       "      <th>3</th>\n",
       "      <td>N.America</td>\n",
       "      <td>8313</td>\n",
       "    </tr>\n",
       "  </tbody>\n",
       "</table>\n",
       "</div>"
      ],
      "text/plain": [
       "      region  user_id\n",
       "0       APAC     2898\n",
       "1        CIS     2862\n",
       "2         EU    42065\n",
       "3  N.America     8313"
      ]
     },
     "metadata": {},
     "output_type": "display_data"
    },
    {
     "name": "stdout",
     "output_type": "stream",
     "text": [
      "Распределение пользователей из теста recommender_system_test по регионам:\n"
     ]
    },
    {
     "data": {
      "text/html": [
       "<div>\n",
       "<style scoped>\n",
       "    .dataframe tbody tr th:only-of-type {\n",
       "        vertical-align: middle;\n",
       "    }\n",
       "\n",
       "    .dataframe tbody tr th {\n",
       "        vertical-align: top;\n",
       "    }\n",
       "\n",
       "    .dataframe thead th {\n",
       "        text-align: right;\n",
       "    }\n",
       "</style>\n",
       "<table border=\"1\" class=\"dataframe\">\n",
       "  <thead>\n",
       "    <tr style=\"text-align: right;\">\n",
       "      <th></th>\n",
       "      <th>region</th>\n",
       "      <th>user_id</th>\n",
       "      <th>%</th>\n",
       "    </tr>\n",
       "  </thead>\n",
       "  <tbody>\n",
       "    <tr>\n",
       "      <th>0</th>\n",
       "      <td>APAC</td>\n",
       "      <td>72</td>\n",
       "      <td>2.0</td>\n",
       "    </tr>\n",
       "    <tr>\n",
       "      <th>1</th>\n",
       "      <td>CIS</td>\n",
       "      <td>55</td>\n",
       "      <td>2.0</td>\n",
       "    </tr>\n",
       "    <tr>\n",
       "      <th>2</th>\n",
       "      <td>EU</td>\n",
       "      <td>6351</td>\n",
       "      <td>15.0</td>\n",
       "    </tr>\n",
       "    <tr>\n",
       "      <th>3</th>\n",
       "      <td>N.America</td>\n",
       "      <td>223</td>\n",
       "      <td>3.0</td>\n",
       "    </tr>\n",
       "  </tbody>\n",
       "</table>\n",
       "</div>"
      ],
      "text/plain": [
       "      region  user_id     %\n",
       "0       APAC       72   2.0\n",
       "1        CIS       55   2.0\n",
       "2         EU     6351  15.0\n",
       "3  N.America      223   3.0"
      ]
     },
     "metadata": {},
     "output_type": "display_data"
    },
    {
     "name": "stdout",
     "output_type": "stream",
     "text": [
      "% новых пользователей из региона EU: 15.0\n"
     ]
    }
   ],
   "source": [
    "# запишем даты проведения теста в переменные\n",
    "test_start_date = pd.to_datetime('2020-12-7')\n",
    "registration_end_date =pd.to_datetime('2020-12-21')\n",
    "test_finish_date = pd.to_datetime('2021-1-4')\n",
    "\n",
    "all_new_users_region = new_users.query('@test_start_date < first_date < @test_finish_date').groupby('region')['user_id'].count().reset_index()\n",
    "print('Распределение всех новых пользователей по регионам:')\n",
    "display(all_new_users_region)\n",
    "\n",
    "test_new_users_region = test_users.groupby('region')['user_id'].count().reset_index()\n",
    "test_new_users_region['%']=round(test_new_users_region['user_id']/all_new_users_region['user_id']*100)\n",
    "print('Распределение пользователей из теста recommender_system_test по регионам:')\n",
    "display(test_new_users_region)\n",
    "print('% новых пользователей из региона EU:',test_new_users_region.loc[2,'%'])"
   ]
  },
  {
   "cell_type": "markdown",
   "metadata": {},
   "source": [
    "**В аудиторию теста** должны входить 15% новых пользователей из региона EU. \n",
    "Таких пользователей в данных также оказалось 15%, что соответствует ТЗ."
   ]
  },
  {
   "cell_type": "markdown",
   "metadata": {},
   "source": [
    "#### Ожидаемое количество участников теста"
   ]
  },
  {
   "cell_type": "code",
   "execution_count": 42,
   "metadata": {},
   "outputs": [
    {
     "data": {
      "text/html": [
       "<div>\n",
       "<style scoped>\n",
       "    .dataframe tbody tr th:only-of-type {\n",
       "        vertical-align: middle;\n",
       "    }\n",
       "\n",
       "    .dataframe tbody tr th {\n",
       "        vertical-align: top;\n",
       "    }\n",
       "\n",
       "    .dataframe thead th {\n",
       "        text-align: right;\n",
       "    }\n",
       "</style>\n",
       "<table border=\"1\" class=\"dataframe\">\n",
       "  <thead>\n",
       "    <tr style=\"text-align: right;\">\n",
       "      <th></th>\n",
       "      <th>user_id</th>\n",
       "      <th>group</th>\n",
       "      <th>ab_test</th>\n",
       "      <th>first_date</th>\n",
       "      <th>region</th>\n",
       "      <th>device</th>\n",
       "      <th>event_dt</th>\n",
       "      <th>event_name</th>\n",
       "      <th>details</th>\n",
       "    </tr>\n",
       "  </thead>\n",
       "  <tbody>\n",
       "    <tr>\n",
       "      <th>0</th>\n",
       "      <td>D1ABA3E2887B6A73</td>\n",
       "      <td>A</td>\n",
       "      <td>recommender_system_test</td>\n",
       "      <td>2020-12-07</td>\n",
       "      <td>EU</td>\n",
       "      <td>PC</td>\n",
       "      <td>2020-12-07 14:43:27</td>\n",
       "      <td>purchase</td>\n",
       "      <td>99.99</td>\n",
       "    </tr>\n",
       "    <tr>\n",
       "      <th>1</th>\n",
       "      <td>D1ABA3E2887B6A73</td>\n",
       "      <td>A</td>\n",
       "      <td>recommender_system_test</td>\n",
       "      <td>2020-12-07</td>\n",
       "      <td>EU</td>\n",
       "      <td>PC</td>\n",
       "      <td>2020-12-25 00:04:56</td>\n",
       "      <td>purchase</td>\n",
       "      <td>4.99</td>\n",
       "    </tr>\n",
       "    <tr>\n",
       "      <th>2</th>\n",
       "      <td>D1ABA3E2887B6A73</td>\n",
       "      <td>A</td>\n",
       "      <td>recommender_system_test</td>\n",
       "      <td>2020-12-07</td>\n",
       "      <td>EU</td>\n",
       "      <td>PC</td>\n",
       "      <td>2020-12-07 14:43:29</td>\n",
       "      <td>product_cart</td>\n",
       "      <td>NaN</td>\n",
       "    </tr>\n",
       "    <tr>\n",
       "      <th>3</th>\n",
       "      <td>D1ABA3E2887B6A73</td>\n",
       "      <td>A</td>\n",
       "      <td>recommender_system_test</td>\n",
       "      <td>2020-12-07</td>\n",
       "      <td>EU</td>\n",
       "      <td>PC</td>\n",
       "      <td>2020-12-25 00:04:57</td>\n",
       "      <td>product_cart</td>\n",
       "      <td>NaN</td>\n",
       "    </tr>\n",
       "    <tr>\n",
       "      <th>4</th>\n",
       "      <td>D1ABA3E2887B6A73</td>\n",
       "      <td>A</td>\n",
       "      <td>recommender_system_test</td>\n",
       "      <td>2020-12-07</td>\n",
       "      <td>EU</td>\n",
       "      <td>PC</td>\n",
       "      <td>2020-12-07 14:43:27</td>\n",
       "      <td>product_page</td>\n",
       "      <td>NaN</td>\n",
       "    </tr>\n",
       "  </tbody>\n",
       "</table>\n",
       "</div>"
      ],
      "text/plain": [
       "            user_id group                  ab_test first_date region device  \\\n",
       "0  D1ABA3E2887B6A73     A  recommender_system_test 2020-12-07     EU     PC   \n",
       "1  D1ABA3E2887B6A73     A  recommender_system_test 2020-12-07     EU     PC   \n",
       "2  D1ABA3E2887B6A73     A  recommender_system_test 2020-12-07     EU     PC   \n",
       "3  D1ABA3E2887B6A73     A  recommender_system_test 2020-12-07     EU     PC   \n",
       "4  D1ABA3E2887B6A73     A  recommender_system_test 2020-12-07     EU     PC   \n",
       "\n",
       "             event_dt    event_name  details  \n",
       "0 2020-12-07 14:43:27      purchase    99.99  \n",
       "1 2020-12-25 00:04:56      purchase     4.99  \n",
       "2 2020-12-07 14:43:29  product_cart      NaN  \n",
       "3 2020-12-25 00:04:57  product_cart      NaN  \n",
       "4 2020-12-07 14:43:27  product_page      NaN  "
      ]
     },
     "metadata": {},
     "output_type": "display_data"
    },
    {
     "name": "stdout",
     "output_type": "stream",
     "text": [
      "Количество событий в объединенной таблице: 27724\n",
      "Количество уникальных пользователей в объединенной таблице: 6701\n"
     ]
    }
   ],
   "source": [
    "# объединение таблицы с логами пользователей с таблицей с пользователями из тестовых групп\n",
    "test_users_merged = test_users.merge(ab_events, on='user_id', how='left') \n",
    "display(test_users_merged.head())\n",
    "print('Количество событий в объединенной таблице:', test_users_merged.shape[0])\n",
    "print('Количество уникальных пользователей в объединенной таблице:', test_users_merged['user_id'].nunique())"
   ]
  },
  {
   "cell_type": "markdown",
   "metadata": {},
   "source": [
    "**Количество уникальных пользователей** - 6701, что соответсвует ТЗ"
   ]
  },
  {
   "cell_type": "markdown",
   "metadata": {},
   "source": [
    "#### Ожидаемый эффект\n",
    "За 14 дней с момента регистрации пользователи покажут улучшение каждой метрики не менее, чем на 10%:\n",
    "- просмотр карточек товаров — событие `product_page`,\n",
    "- просмотры корзины — событие `product_cart`,\n",
    "- покупки — событие `purchase` \n",
    "\n",
    "Отберем события пользователей в рамках 14 дней с момента регистрации. Сравним в контрольной и тестовой группе "
   ]
  },
  {
   "cell_type": "code",
   "execution_count": 43,
   "metadata": {
    "scrolled": true
   },
   "outputs": [
    {
     "name": "stdout",
     "output_type": "stream",
     "text": [
      "Количество событий после фильтрации по лайфтайму: 24070\n",
      "Количество уникальных пользователей после фильтрации по лайфтайму: 3675\n"
     ]
    }
   ],
   "source": [
    "#удаляем события, старше 14 дней после регистрации\n",
    "test_users_merged['lifetime'] = test_users_merged['event_dt']-test_users_merged['first_date']\n",
    "test_users_merged['lifetime'] = test_users_merged['lifetime'].astype('timedelta64[D]')\n",
    "test_users_merged = test_users_merged.query('lifetime <= 14')\n",
    "print('Количество событий после фильтрации по лайфтайму:', test_users_merged.shape[0])\n",
    "print('Количество уникальных пользователей после фильтрации по лайфтайму:', test_users_merged['user_id'].nunique())"
   ]
  },
  {
   "cell_type": "code",
   "execution_count": 44,
   "metadata": {},
   "outputs": [
    {
     "data": {
      "text/html": [
       "<div>\n",
       "<style scoped>\n",
       "    .dataframe tbody tr th:only-of-type {\n",
       "        vertical-align: middle;\n",
       "    }\n",
       "\n",
       "    .dataframe tbody tr th {\n",
       "        vertical-align: top;\n",
       "    }\n",
       "\n",
       "    .dataframe thead th {\n",
       "        text-align: right;\n",
       "    }\n",
       "</style>\n",
       "<table border=\"1\" class=\"dataframe\">\n",
       "  <thead>\n",
       "    <tr style=\"text-align: right;\">\n",
       "      <th>group</th>\n",
       "      <th>event_name</th>\n",
       "      <th>A</th>\n",
       "      <th>B</th>\n",
       "    </tr>\n",
       "  </thead>\n",
       "  <tbody>\n",
       "    <tr>\n",
       "      <th>0</th>\n",
       "      <td>login</td>\n",
       "      <td>2747</td>\n",
       "      <td>927</td>\n",
       "    </tr>\n",
       "    <tr>\n",
       "      <th>2</th>\n",
       "      <td>product_page</td>\n",
       "      <td>1780</td>\n",
       "      <td>523</td>\n",
       "    </tr>\n",
       "    <tr>\n",
       "      <th>1</th>\n",
       "      <td>product_cart</td>\n",
       "      <td>824</td>\n",
       "      <td>255</td>\n",
       "    </tr>\n",
       "    <tr>\n",
       "      <th>3</th>\n",
       "      <td>purchase</td>\n",
       "      <td>872</td>\n",
       "      <td>256</td>\n",
       "    </tr>\n",
       "  </tbody>\n",
       "</table>\n",
       "</div>"
      ],
      "text/plain": [
       "group    event_name     A    B\n",
       "0             login  2747  927\n",
       "2      product_page  1780  523\n",
       "1      product_cart   824  255\n",
       "3          purchase   872  256"
      ]
     },
     "execution_count": 44,
     "metadata": {},
     "output_type": "execute_result"
    }
   ],
   "source": [
    "# распределение событий по тестовым группам\n",
    "groups_funnel = test_users_merged.pivot_table(index='event_name', columns='group', values='user_id', aggfunc='nunique').reset_index()\n",
    "groups_funnel1 = groups_funnel.reindex([0,2,1,3])\n",
    "groups_funnel1"
   ]
  },
  {
   "cell_type": "code",
   "execution_count": 45,
   "metadata": {},
   "outputs": [
    {
     "data": {
      "application/vnd.plotly.v1+json": {
       "config": {
        "plotlyServerURL": "https://plot.ly"
       },
       "data": [
        {
         "name": "group_A",
         "orientation": "h",
         "textinfo": "value+percent initial",
         "type": "funnel",
         "x": [
          2747,
          1780,
          824,
          872
         ],
         "y": [
          "login",
          "product_page",
          "product_cart",
          "purchase"
         ]
        },
        {
         "name": "group_B",
         "orientation": "h",
         "textinfo": "value+percent initial",
         "textposition": "inside",
         "type": "funnel",
         "x": [
          927,
          523,
          255,
          256
         ],
         "y": [
          "login",
          "product_page",
          "product_cart",
          "purchase"
         ]
        }
       ],
       "layout": {
        "template": {
         "data": {
          "bar": [
           {
            "error_x": {
             "color": "#2a3f5f"
            },
            "error_y": {
             "color": "#2a3f5f"
            },
            "marker": {
             "line": {
              "color": "#E5ECF6",
              "width": 0.5
             },
             "pattern": {
              "fillmode": "overlay",
              "size": 10,
              "solidity": 0.2
             }
            },
            "type": "bar"
           }
          ],
          "barpolar": [
           {
            "marker": {
             "line": {
              "color": "#E5ECF6",
              "width": 0.5
             },
             "pattern": {
              "fillmode": "overlay",
              "size": 10,
              "solidity": 0.2
             }
            },
            "type": "barpolar"
           }
          ],
          "carpet": [
           {
            "aaxis": {
             "endlinecolor": "#2a3f5f",
             "gridcolor": "white",
             "linecolor": "white",
             "minorgridcolor": "white",
             "startlinecolor": "#2a3f5f"
            },
            "baxis": {
             "endlinecolor": "#2a3f5f",
             "gridcolor": "white",
             "linecolor": "white",
             "minorgridcolor": "white",
             "startlinecolor": "#2a3f5f"
            },
            "type": "carpet"
           }
          ],
          "choropleth": [
           {
            "colorbar": {
             "outlinewidth": 0,
             "ticks": ""
            },
            "type": "choropleth"
           }
          ],
          "contour": [
           {
            "colorbar": {
             "outlinewidth": 0,
             "ticks": ""
            },
            "colorscale": [
             [
              0,
              "#0d0887"
             ],
             [
              0.1111111111111111,
              "#46039f"
             ],
             [
              0.2222222222222222,
              "#7201a8"
             ],
             [
              0.3333333333333333,
              "#9c179e"
             ],
             [
              0.4444444444444444,
              "#bd3786"
             ],
             [
              0.5555555555555556,
              "#d8576b"
             ],
             [
              0.6666666666666666,
              "#ed7953"
             ],
             [
              0.7777777777777778,
              "#fb9f3a"
             ],
             [
              0.8888888888888888,
              "#fdca26"
             ],
             [
              1,
              "#f0f921"
             ]
            ],
            "type": "contour"
           }
          ],
          "contourcarpet": [
           {
            "colorbar": {
             "outlinewidth": 0,
             "ticks": ""
            },
            "type": "contourcarpet"
           }
          ],
          "heatmap": [
           {
            "colorbar": {
             "outlinewidth": 0,
             "ticks": ""
            },
            "colorscale": [
             [
              0,
              "#0d0887"
             ],
             [
              0.1111111111111111,
              "#46039f"
             ],
             [
              0.2222222222222222,
              "#7201a8"
             ],
             [
              0.3333333333333333,
              "#9c179e"
             ],
             [
              0.4444444444444444,
              "#bd3786"
             ],
             [
              0.5555555555555556,
              "#d8576b"
             ],
             [
              0.6666666666666666,
              "#ed7953"
             ],
             [
              0.7777777777777778,
              "#fb9f3a"
             ],
             [
              0.8888888888888888,
              "#fdca26"
             ],
             [
              1,
              "#f0f921"
             ]
            ],
            "type": "heatmap"
           }
          ],
          "heatmapgl": [
           {
            "colorbar": {
             "outlinewidth": 0,
             "ticks": ""
            },
            "colorscale": [
             [
              0,
              "#0d0887"
             ],
             [
              0.1111111111111111,
              "#46039f"
             ],
             [
              0.2222222222222222,
              "#7201a8"
             ],
             [
              0.3333333333333333,
              "#9c179e"
             ],
             [
              0.4444444444444444,
              "#bd3786"
             ],
             [
              0.5555555555555556,
              "#d8576b"
             ],
             [
              0.6666666666666666,
              "#ed7953"
             ],
             [
              0.7777777777777778,
              "#fb9f3a"
             ],
             [
              0.8888888888888888,
              "#fdca26"
             ],
             [
              1,
              "#f0f921"
             ]
            ],
            "type": "heatmapgl"
           }
          ],
          "histogram": [
           {
            "marker": {
             "pattern": {
              "fillmode": "overlay",
              "size": 10,
              "solidity": 0.2
             }
            },
            "type": "histogram"
           }
          ],
          "histogram2d": [
           {
            "colorbar": {
             "outlinewidth": 0,
             "ticks": ""
            },
            "colorscale": [
             [
              0,
              "#0d0887"
             ],
             [
              0.1111111111111111,
              "#46039f"
             ],
             [
              0.2222222222222222,
              "#7201a8"
             ],
             [
              0.3333333333333333,
              "#9c179e"
             ],
             [
              0.4444444444444444,
              "#bd3786"
             ],
             [
              0.5555555555555556,
              "#d8576b"
             ],
             [
              0.6666666666666666,
              "#ed7953"
             ],
             [
              0.7777777777777778,
              "#fb9f3a"
             ],
             [
              0.8888888888888888,
              "#fdca26"
             ],
             [
              1,
              "#f0f921"
             ]
            ],
            "type": "histogram2d"
           }
          ],
          "histogram2dcontour": [
           {
            "colorbar": {
             "outlinewidth": 0,
             "ticks": ""
            },
            "colorscale": [
             [
              0,
              "#0d0887"
             ],
             [
              0.1111111111111111,
              "#46039f"
             ],
             [
              0.2222222222222222,
              "#7201a8"
             ],
             [
              0.3333333333333333,
              "#9c179e"
             ],
             [
              0.4444444444444444,
              "#bd3786"
             ],
             [
              0.5555555555555556,
              "#d8576b"
             ],
             [
              0.6666666666666666,
              "#ed7953"
             ],
             [
              0.7777777777777778,
              "#fb9f3a"
             ],
             [
              0.8888888888888888,
              "#fdca26"
             ],
             [
              1,
              "#f0f921"
             ]
            ],
            "type": "histogram2dcontour"
           }
          ],
          "mesh3d": [
           {
            "colorbar": {
             "outlinewidth": 0,
             "ticks": ""
            },
            "type": "mesh3d"
           }
          ],
          "parcoords": [
           {
            "line": {
             "colorbar": {
              "outlinewidth": 0,
              "ticks": ""
             }
            },
            "type": "parcoords"
           }
          ],
          "pie": [
           {
            "automargin": true,
            "type": "pie"
           }
          ],
          "scatter": [
           {
            "marker": {
             "colorbar": {
              "outlinewidth": 0,
              "ticks": ""
             }
            },
            "type": "scatter"
           }
          ],
          "scatter3d": [
           {
            "line": {
             "colorbar": {
              "outlinewidth": 0,
              "ticks": ""
             }
            },
            "marker": {
             "colorbar": {
              "outlinewidth": 0,
              "ticks": ""
             }
            },
            "type": "scatter3d"
           }
          ],
          "scattercarpet": [
           {
            "marker": {
             "colorbar": {
              "outlinewidth": 0,
              "ticks": ""
             }
            },
            "type": "scattercarpet"
           }
          ],
          "scattergeo": [
           {
            "marker": {
             "colorbar": {
              "outlinewidth": 0,
              "ticks": ""
             }
            },
            "type": "scattergeo"
           }
          ],
          "scattergl": [
           {
            "marker": {
             "colorbar": {
              "outlinewidth": 0,
              "ticks": ""
             }
            },
            "type": "scattergl"
           }
          ],
          "scattermapbox": [
           {
            "marker": {
             "colorbar": {
              "outlinewidth": 0,
              "ticks": ""
             }
            },
            "type": "scattermapbox"
           }
          ],
          "scatterpolar": [
           {
            "marker": {
             "colorbar": {
              "outlinewidth": 0,
              "ticks": ""
             }
            },
            "type": "scatterpolar"
           }
          ],
          "scatterpolargl": [
           {
            "marker": {
             "colorbar": {
              "outlinewidth": 0,
              "ticks": ""
             }
            },
            "type": "scatterpolargl"
           }
          ],
          "scatterternary": [
           {
            "marker": {
             "colorbar": {
              "outlinewidth": 0,
              "ticks": ""
             }
            },
            "type": "scatterternary"
           }
          ],
          "surface": [
           {
            "colorbar": {
             "outlinewidth": 0,
             "ticks": ""
            },
            "colorscale": [
             [
              0,
              "#0d0887"
             ],
             [
              0.1111111111111111,
              "#46039f"
             ],
             [
              0.2222222222222222,
              "#7201a8"
             ],
             [
              0.3333333333333333,
              "#9c179e"
             ],
             [
              0.4444444444444444,
              "#bd3786"
             ],
             [
              0.5555555555555556,
              "#d8576b"
             ],
             [
              0.6666666666666666,
              "#ed7953"
             ],
             [
              0.7777777777777778,
              "#fb9f3a"
             ],
             [
              0.8888888888888888,
              "#fdca26"
             ],
             [
              1,
              "#f0f921"
             ]
            ],
            "type": "surface"
           }
          ],
          "table": [
           {
            "cells": {
             "fill": {
              "color": "#EBF0F8"
             },
             "line": {
              "color": "white"
             }
            },
            "header": {
             "fill": {
              "color": "#C8D4E3"
             },
             "line": {
              "color": "white"
             }
            },
            "type": "table"
           }
          ]
         },
         "layout": {
          "annotationdefaults": {
           "arrowcolor": "#2a3f5f",
           "arrowhead": 0,
           "arrowwidth": 1
          },
          "autotypenumbers": "strict",
          "coloraxis": {
           "colorbar": {
            "outlinewidth": 0,
            "ticks": ""
           }
          },
          "colorscale": {
           "diverging": [
            [
             0,
             "#8e0152"
            ],
            [
             0.1,
             "#c51b7d"
            ],
            [
             0.2,
             "#de77ae"
            ],
            [
             0.3,
             "#f1b6da"
            ],
            [
             0.4,
             "#fde0ef"
            ],
            [
             0.5,
             "#f7f7f7"
            ],
            [
             0.6,
             "#e6f5d0"
            ],
            [
             0.7,
             "#b8e186"
            ],
            [
             0.8,
             "#7fbc41"
            ],
            [
             0.9,
             "#4d9221"
            ],
            [
             1,
             "#276419"
            ]
           ],
           "sequential": [
            [
             0,
             "#0d0887"
            ],
            [
             0.1111111111111111,
             "#46039f"
            ],
            [
             0.2222222222222222,
             "#7201a8"
            ],
            [
             0.3333333333333333,
             "#9c179e"
            ],
            [
             0.4444444444444444,
             "#bd3786"
            ],
            [
             0.5555555555555556,
             "#d8576b"
            ],
            [
             0.6666666666666666,
             "#ed7953"
            ],
            [
             0.7777777777777778,
             "#fb9f3a"
            ],
            [
             0.8888888888888888,
             "#fdca26"
            ],
            [
             1,
             "#f0f921"
            ]
           ],
           "sequentialminus": [
            [
             0,
             "#0d0887"
            ],
            [
             0.1111111111111111,
             "#46039f"
            ],
            [
             0.2222222222222222,
             "#7201a8"
            ],
            [
             0.3333333333333333,
             "#9c179e"
            ],
            [
             0.4444444444444444,
             "#bd3786"
            ],
            [
             0.5555555555555556,
             "#d8576b"
            ],
            [
             0.6666666666666666,
             "#ed7953"
            ],
            [
             0.7777777777777778,
             "#fb9f3a"
            ],
            [
             0.8888888888888888,
             "#fdca26"
            ],
            [
             1,
             "#f0f921"
            ]
           ]
          },
          "colorway": [
           "#636efa",
           "#EF553B",
           "#00cc96",
           "#ab63fa",
           "#FFA15A",
           "#19d3f3",
           "#FF6692",
           "#B6E880",
           "#FF97FF",
           "#FECB52"
          ],
          "font": {
           "color": "#2a3f5f"
          },
          "geo": {
           "bgcolor": "white",
           "lakecolor": "white",
           "landcolor": "#E5ECF6",
           "showlakes": true,
           "showland": true,
           "subunitcolor": "white"
          },
          "hoverlabel": {
           "align": "left"
          },
          "hovermode": "closest",
          "mapbox": {
           "style": "light"
          },
          "paper_bgcolor": "white",
          "plot_bgcolor": "#E5ECF6",
          "polar": {
           "angularaxis": {
            "gridcolor": "white",
            "linecolor": "white",
            "ticks": ""
           },
           "bgcolor": "#E5ECF6",
           "radialaxis": {
            "gridcolor": "white",
            "linecolor": "white",
            "ticks": ""
           }
          },
          "scene": {
           "xaxis": {
            "backgroundcolor": "#E5ECF6",
            "gridcolor": "white",
            "gridwidth": 2,
            "linecolor": "white",
            "showbackground": true,
            "ticks": "",
            "zerolinecolor": "white"
           },
           "yaxis": {
            "backgroundcolor": "#E5ECF6",
            "gridcolor": "white",
            "gridwidth": 2,
            "linecolor": "white",
            "showbackground": true,
            "ticks": "",
            "zerolinecolor": "white"
           },
           "zaxis": {
            "backgroundcolor": "#E5ECF6",
            "gridcolor": "white",
            "gridwidth": 2,
            "linecolor": "white",
            "showbackground": true,
            "ticks": "",
            "zerolinecolor": "white"
           }
          },
          "shapedefaults": {
           "line": {
            "color": "#2a3f5f"
           }
          },
          "ternary": {
           "aaxis": {
            "gridcolor": "white",
            "linecolor": "white",
            "ticks": ""
           },
           "baxis": {
            "gridcolor": "white",
            "linecolor": "white",
            "ticks": ""
           },
           "bgcolor": "#E5ECF6",
           "caxis": {
            "gridcolor": "white",
            "linecolor": "white",
            "ticks": ""
           }
          },
          "title": {
           "x": 0.05
          },
          "xaxis": {
           "automargin": true,
           "gridcolor": "white",
           "linecolor": "white",
           "ticks": "",
           "title": {
            "standoff": 15
           },
           "zerolinecolor": "white",
           "zerolinewidth": 2
          },
          "yaxis": {
           "automargin": true,
           "gridcolor": "white",
           "linecolor": "white",
           "ticks": "",
           "title": {
            "standoff": 15
           },
           "zerolinecolor": "white",
           "zerolinewidth": 2
          }
         }
        },
        "title": {
         "text": "Доля пользователей переходящих на следующий шаг воронки в разрезе групп"
        }
       }
      },
      "text/html": [
       "<div>                            <div id=\"3cb790a7-aaaa-4a45-ac34-81ce7c0f84d4\" class=\"plotly-graph-div\" style=\"height:525px; width:100%;\"></div>            <script type=\"text/javascript\">                require([\"plotly\"], function(Plotly) {                    window.PLOTLYENV=window.PLOTLYENV || {};                                    if (document.getElementById(\"3cb790a7-aaaa-4a45-ac34-81ce7c0f84d4\")) {                    Plotly.newPlot(                        \"3cb790a7-aaaa-4a45-ac34-81ce7c0f84d4\",                        [{\"name\":\"group_A\",\"orientation\":\"h\",\"textinfo\":\"value+percent initial\",\"x\":[2747,1780,824,872],\"y\":[\"login\",\"product_page\",\"product_cart\",\"purchase\"],\"type\":\"funnel\"},{\"name\":\"group_B\",\"orientation\":\"h\",\"textinfo\":\"value+percent initial\",\"textposition\":\"inside\",\"x\":[927,523,255,256],\"y\":[\"login\",\"product_page\",\"product_cart\",\"purchase\"],\"type\":\"funnel\"}],                        {\"template\":{\"data\":{\"bar\":[{\"error_x\":{\"color\":\"#2a3f5f\"},\"error_y\":{\"color\":\"#2a3f5f\"},\"marker\":{\"line\":{\"color\":\"#E5ECF6\",\"width\":0.5},\"pattern\":{\"fillmode\":\"overlay\",\"size\":10,\"solidity\":0.2}},\"type\":\"bar\"}],\"barpolar\":[{\"marker\":{\"line\":{\"color\":\"#E5ECF6\",\"width\":0.5},\"pattern\":{\"fillmode\":\"overlay\",\"size\":10,\"solidity\":0.2}},\"type\":\"barpolar\"}],\"carpet\":[{\"aaxis\":{\"endlinecolor\":\"#2a3f5f\",\"gridcolor\":\"white\",\"linecolor\":\"white\",\"minorgridcolor\":\"white\",\"startlinecolor\":\"#2a3f5f\"},\"baxis\":{\"endlinecolor\":\"#2a3f5f\",\"gridcolor\":\"white\",\"linecolor\":\"white\",\"minorgridcolor\":\"white\",\"startlinecolor\":\"#2a3f5f\"},\"type\":\"carpet\"}],\"choropleth\":[{\"colorbar\":{\"outlinewidth\":0,\"ticks\":\"\"},\"type\":\"choropleth\"}],\"contour\":[{\"colorbar\":{\"outlinewidth\":0,\"ticks\":\"\"},\"colorscale\":[[0.0,\"#0d0887\"],[0.1111111111111111,\"#46039f\"],[0.2222222222222222,\"#7201a8\"],[0.3333333333333333,\"#9c179e\"],[0.4444444444444444,\"#bd3786\"],[0.5555555555555556,\"#d8576b\"],[0.6666666666666666,\"#ed7953\"],[0.7777777777777778,\"#fb9f3a\"],[0.8888888888888888,\"#fdca26\"],[1.0,\"#f0f921\"]],\"type\":\"contour\"}],\"contourcarpet\":[{\"colorbar\":{\"outlinewidth\":0,\"ticks\":\"\"},\"type\":\"contourcarpet\"}],\"heatmap\":[{\"colorbar\":{\"outlinewidth\":0,\"ticks\":\"\"},\"colorscale\":[[0.0,\"#0d0887\"],[0.1111111111111111,\"#46039f\"],[0.2222222222222222,\"#7201a8\"],[0.3333333333333333,\"#9c179e\"],[0.4444444444444444,\"#bd3786\"],[0.5555555555555556,\"#d8576b\"],[0.6666666666666666,\"#ed7953\"],[0.7777777777777778,\"#fb9f3a\"],[0.8888888888888888,\"#fdca26\"],[1.0,\"#f0f921\"]],\"type\":\"heatmap\"}],\"heatmapgl\":[{\"colorbar\":{\"outlinewidth\":0,\"ticks\":\"\"},\"colorscale\":[[0.0,\"#0d0887\"],[0.1111111111111111,\"#46039f\"],[0.2222222222222222,\"#7201a8\"],[0.3333333333333333,\"#9c179e\"],[0.4444444444444444,\"#bd3786\"],[0.5555555555555556,\"#d8576b\"],[0.6666666666666666,\"#ed7953\"],[0.7777777777777778,\"#fb9f3a\"],[0.8888888888888888,\"#fdca26\"],[1.0,\"#f0f921\"]],\"type\":\"heatmapgl\"}],\"histogram\":[{\"marker\":{\"pattern\":{\"fillmode\":\"overlay\",\"size\":10,\"solidity\":0.2}},\"type\":\"histogram\"}],\"histogram2d\":[{\"colorbar\":{\"outlinewidth\":0,\"ticks\":\"\"},\"colorscale\":[[0.0,\"#0d0887\"],[0.1111111111111111,\"#46039f\"],[0.2222222222222222,\"#7201a8\"],[0.3333333333333333,\"#9c179e\"],[0.4444444444444444,\"#bd3786\"],[0.5555555555555556,\"#d8576b\"],[0.6666666666666666,\"#ed7953\"],[0.7777777777777778,\"#fb9f3a\"],[0.8888888888888888,\"#fdca26\"],[1.0,\"#f0f921\"]],\"type\":\"histogram2d\"}],\"histogram2dcontour\":[{\"colorbar\":{\"outlinewidth\":0,\"ticks\":\"\"},\"colorscale\":[[0.0,\"#0d0887\"],[0.1111111111111111,\"#46039f\"],[0.2222222222222222,\"#7201a8\"],[0.3333333333333333,\"#9c179e\"],[0.4444444444444444,\"#bd3786\"],[0.5555555555555556,\"#d8576b\"],[0.6666666666666666,\"#ed7953\"],[0.7777777777777778,\"#fb9f3a\"],[0.8888888888888888,\"#fdca26\"],[1.0,\"#f0f921\"]],\"type\":\"histogram2dcontour\"}],\"mesh3d\":[{\"colorbar\":{\"outlinewidth\":0,\"ticks\":\"\"},\"type\":\"mesh3d\"}],\"parcoords\":[{\"line\":{\"colorbar\":{\"outlinewidth\":0,\"ticks\":\"\"}},\"type\":\"parcoords\"}],\"pie\":[{\"automargin\":true,\"type\":\"pie\"}],\"scatter\":[{\"marker\":{\"colorbar\":{\"outlinewidth\":0,\"ticks\":\"\"}},\"type\":\"scatter\"}],\"scatter3d\":[{\"line\":{\"colorbar\":{\"outlinewidth\":0,\"ticks\":\"\"}},\"marker\":{\"colorbar\":{\"outlinewidth\":0,\"ticks\":\"\"}},\"type\":\"scatter3d\"}],\"scattercarpet\":[{\"marker\":{\"colorbar\":{\"outlinewidth\":0,\"ticks\":\"\"}},\"type\":\"scattercarpet\"}],\"scattergeo\":[{\"marker\":{\"colorbar\":{\"outlinewidth\":0,\"ticks\":\"\"}},\"type\":\"scattergeo\"}],\"scattergl\":[{\"marker\":{\"colorbar\":{\"outlinewidth\":0,\"ticks\":\"\"}},\"type\":\"scattergl\"}],\"scattermapbox\":[{\"marker\":{\"colorbar\":{\"outlinewidth\":0,\"ticks\":\"\"}},\"type\":\"scattermapbox\"}],\"scatterpolar\":[{\"marker\":{\"colorbar\":{\"outlinewidth\":0,\"ticks\":\"\"}},\"type\":\"scatterpolar\"}],\"scatterpolargl\":[{\"marker\":{\"colorbar\":{\"outlinewidth\":0,\"ticks\":\"\"}},\"type\":\"scatterpolargl\"}],\"scatterternary\":[{\"marker\":{\"colorbar\":{\"outlinewidth\":0,\"ticks\":\"\"}},\"type\":\"scatterternary\"}],\"surface\":[{\"colorbar\":{\"outlinewidth\":0,\"ticks\":\"\"},\"colorscale\":[[0.0,\"#0d0887\"],[0.1111111111111111,\"#46039f\"],[0.2222222222222222,\"#7201a8\"],[0.3333333333333333,\"#9c179e\"],[0.4444444444444444,\"#bd3786\"],[0.5555555555555556,\"#d8576b\"],[0.6666666666666666,\"#ed7953\"],[0.7777777777777778,\"#fb9f3a\"],[0.8888888888888888,\"#fdca26\"],[1.0,\"#f0f921\"]],\"type\":\"surface\"}],\"table\":[{\"cells\":{\"fill\":{\"color\":\"#EBF0F8\"},\"line\":{\"color\":\"white\"}},\"header\":{\"fill\":{\"color\":\"#C8D4E3\"},\"line\":{\"color\":\"white\"}},\"type\":\"table\"}]},\"layout\":{\"annotationdefaults\":{\"arrowcolor\":\"#2a3f5f\",\"arrowhead\":0,\"arrowwidth\":1},\"autotypenumbers\":\"strict\",\"coloraxis\":{\"colorbar\":{\"outlinewidth\":0,\"ticks\":\"\"}},\"colorscale\":{\"diverging\":[[0,\"#8e0152\"],[0.1,\"#c51b7d\"],[0.2,\"#de77ae\"],[0.3,\"#f1b6da\"],[0.4,\"#fde0ef\"],[0.5,\"#f7f7f7\"],[0.6,\"#e6f5d0\"],[0.7,\"#b8e186\"],[0.8,\"#7fbc41\"],[0.9,\"#4d9221\"],[1,\"#276419\"]],\"sequential\":[[0.0,\"#0d0887\"],[0.1111111111111111,\"#46039f\"],[0.2222222222222222,\"#7201a8\"],[0.3333333333333333,\"#9c179e\"],[0.4444444444444444,\"#bd3786\"],[0.5555555555555556,\"#d8576b\"],[0.6666666666666666,\"#ed7953\"],[0.7777777777777778,\"#fb9f3a\"],[0.8888888888888888,\"#fdca26\"],[1.0,\"#f0f921\"]],\"sequentialminus\":[[0.0,\"#0d0887\"],[0.1111111111111111,\"#46039f\"],[0.2222222222222222,\"#7201a8\"],[0.3333333333333333,\"#9c179e\"],[0.4444444444444444,\"#bd3786\"],[0.5555555555555556,\"#d8576b\"],[0.6666666666666666,\"#ed7953\"],[0.7777777777777778,\"#fb9f3a\"],[0.8888888888888888,\"#fdca26\"],[1.0,\"#f0f921\"]]},\"colorway\":[\"#636efa\",\"#EF553B\",\"#00cc96\",\"#ab63fa\",\"#FFA15A\",\"#19d3f3\",\"#FF6692\",\"#B6E880\",\"#FF97FF\",\"#FECB52\"],\"font\":{\"color\":\"#2a3f5f\"},\"geo\":{\"bgcolor\":\"white\",\"lakecolor\":\"white\",\"landcolor\":\"#E5ECF6\",\"showlakes\":true,\"showland\":true,\"subunitcolor\":\"white\"},\"hoverlabel\":{\"align\":\"left\"},\"hovermode\":\"closest\",\"mapbox\":{\"style\":\"light\"},\"paper_bgcolor\":\"white\",\"plot_bgcolor\":\"#E5ECF6\",\"polar\":{\"angularaxis\":{\"gridcolor\":\"white\",\"linecolor\":\"white\",\"ticks\":\"\"},\"bgcolor\":\"#E5ECF6\",\"radialaxis\":{\"gridcolor\":\"white\",\"linecolor\":\"white\",\"ticks\":\"\"}},\"scene\":{\"xaxis\":{\"backgroundcolor\":\"#E5ECF6\",\"gridcolor\":\"white\",\"gridwidth\":2,\"linecolor\":\"white\",\"showbackground\":true,\"ticks\":\"\",\"zerolinecolor\":\"white\"},\"yaxis\":{\"backgroundcolor\":\"#E5ECF6\",\"gridcolor\":\"white\",\"gridwidth\":2,\"linecolor\":\"white\",\"showbackground\":true,\"ticks\":\"\",\"zerolinecolor\":\"white\"},\"zaxis\":{\"backgroundcolor\":\"#E5ECF6\",\"gridcolor\":\"white\",\"gridwidth\":2,\"linecolor\":\"white\",\"showbackground\":true,\"ticks\":\"\",\"zerolinecolor\":\"white\"}},\"shapedefaults\":{\"line\":{\"color\":\"#2a3f5f\"}},\"ternary\":{\"aaxis\":{\"gridcolor\":\"white\",\"linecolor\":\"white\",\"ticks\":\"\"},\"baxis\":{\"gridcolor\":\"white\",\"linecolor\":\"white\",\"ticks\":\"\"},\"bgcolor\":\"#E5ECF6\",\"caxis\":{\"gridcolor\":\"white\",\"linecolor\":\"white\",\"ticks\":\"\"}},\"title\":{\"x\":0.05},\"xaxis\":{\"automargin\":true,\"gridcolor\":\"white\",\"linecolor\":\"white\",\"ticks\":\"\",\"title\":{\"standoff\":15},\"zerolinecolor\":\"white\",\"zerolinewidth\":2},\"yaxis\":{\"automargin\":true,\"gridcolor\":\"white\",\"linecolor\":\"white\",\"ticks\":\"\",\"title\":{\"standoff\":15},\"zerolinecolor\":\"white\",\"zerolinewidth\":2}}},\"title\":{\"text\":\"\\u0414\\u043e\\u043b\\u044f \\u043f\\u043e\\u043b\\u044c\\u0437\\u043e\\u0432\\u0430\\u0442\\u0435\\u043b\\u0435\\u0439 \\u043f\\u0435\\u0440\\u0435\\u0445\\u043e\\u0434\\u044f\\u0449\\u0438\\u0445 \\u043d\\u0430 \\u0441\\u043b\\u0435\\u0434\\u0443\\u044e\\u0449\\u0438\\u0439 \\u0448\\u0430\\u0433 \\u0432\\u043e\\u0440\\u043e\\u043d\\u043a\\u0438 \\u0432 \\u0440\\u0430\\u0437\\u0440\\u0435\\u0437\\u0435 \\u0433\\u0440\\u0443\\u043f\\u043f\"}},                        {\"responsive\": true}                    ).then(function(){\n",
       "                            \n",
       "var gd = document.getElementById('3cb790a7-aaaa-4a45-ac34-81ce7c0f84d4');\n",
       "var x = new MutationObserver(function (mutations, observer) {{\n",
       "        var display = window.getComputedStyle(gd).display;\n",
       "        if (!display || display === 'none') {{\n",
       "            console.log([gd, 'removed!']);\n",
       "            Plotly.purge(gd);\n",
       "            observer.disconnect();\n",
       "        }}\n",
       "}});\n",
       "\n",
       "// Listen for the removal of the full notebook cells\n",
       "var notebookContainer = gd.closest('#notebook-container');\n",
       "if (notebookContainer) {{\n",
       "    x.observe(notebookContainer, {childList: true});\n",
       "}}\n",
       "\n",
       "// Listen for the clearing of the current output cell\n",
       "var outputEl = gd.closest('.output');\n",
       "if (outputEl) {{\n",
       "    x.observe(outputEl, {childList: true});\n",
       "}}\n",
       "\n",
       "                        })                };                });            </script>        </div>"
      ]
     },
     "metadata": {},
     "output_type": "display_data"
    }
   ],
   "source": [
    "# визуализация последовательной воронки в разрезе групп\n",
    "fig = go.Figure()\n",
    "\n",
    "fig.add_trace(go.Funnel(\n",
    "    name = 'group_A',\n",
    "    orientation = \"h\",\n",
    "    y = groups_funnel1['event_name'],\n",
    "    x = groups_funnel1[\"A\"],\n",
    "    textinfo = \"value+percent initial\"))\n",
    "\n",
    "fig.add_trace(go.Funnel(\n",
    "    name = 'group_B',\n",
    "    orientation = \"h\",\n",
    "    y = groups_funnel1['event_name'],\n",
    "    x = groups_funnel1[\"B\"],\n",
    "    textposition = \"inside\",\n",
    "    textinfo = \"value+percent initial\"))\n",
    "\n",
    "fig.update_layout(\n",
    "        title='Доля пользователей переходящих на следующий шаг воронки в разрезе групп')\n",
    "fig.show()"
   ]
  },
  {
   "cell_type": "markdown",
   "metadata": {},
   "source": [
    "По воронке видим:\n",
    "- просмотр карточек товаров (product_page) у группы А составляет 65%, у группы В - 56%. Разница -9%\n",
    "- просмотры корзины (product_cart) у группы А составляет 30%, у группы В - 28%. Разница -2%\n",
    "- покупки (purchase) у группы А составляет 32%, у группы В - 28%. Разница -4%\n",
    "\n",
    "Таким образом, за 14 дней с момента регистрации пользователи из тестовой группы не показали улучшение метрик на 10%. Ожидаемый эффект за счет улучшения рекомендательной системы не достигнут.\n",
    "\n",
    "Отметим, что количество пользователей совершивших покупку больше, чем просмотревших корзину. Это значит, что на сайте реализована функция покупки товаров прямо из карты товаров и пользователю не обязательно заходить в корзину."
   ]
  },
  {
   "cell_type": "markdown",
   "metadata": {},
   "source": [
    "### Время проведения теста\n",
    "Период проведения нашего теста: с 07 декабря 2020г. по 04 января 2021г. Дата остановки набора новых пользователей: 2020-12-21   \n",
    "Посмотрим, имеются ли пересечения периода проведения теста с маркетинговыми активностями. Для этого построим диаграмму Ганта"
   ]
  },
  {
   "cell_type": "code",
   "execution_count": 46,
   "metadata": {},
   "outputs": [
    {
     "data": {
      "application/vnd.plotly.v1+json": {
       "config": {
        "plotlyServerURL": "https://plot.ly"
       },
       "data": [
        {
         "fill": "toself",
         "fillcolor": "rgb(127, 127, 127)",
         "hoverinfo": "name",
         "legendgroup": "rgb(127, 127, 127)",
         "mode": "none",
         "name": "Labor day (May 1st) Ads Campaign",
         "type": "scatter",
         "x": [
          "2020-05-01T00:00:00",
          "2020-05-03T00:00:00",
          "2020-05-03T00:00:00",
          "2020-05-01T00:00:00"
         ],
         "y": [
          6.8,
          6.8,
          7.2,
          7.2
         ]
        },
        {
         "fill": "toself",
         "fillcolor": "rgb(140, 86, 75)",
         "hoverinfo": "name",
         "legendgroup": "rgb(140, 86, 75)",
         "mode": "none",
         "name": "Black Friday Ads Campaign",
         "type": "scatter",
         "x": [
          "2020-11-26T00:00:00",
          "2020-12-01T00:00:00",
          "2020-12-01T00:00:00",
          "2020-11-26T00:00:00"
         ],
         "y": [
          4.8,
          4.8,
          5.2,
          5.2
         ]
        },
        {
         "fill": "toself",
         "fillcolor": "rgb(148, 103, 189)",
         "hoverinfo": "name",
         "legendgroup": "rgb(148, 103, 189)",
         "mode": "none",
         "name": "4th of July Promo",
         "type": "scatter",
         "x": [
          "2020-07-04T00:00:00",
          "2020-07-11T00:00:00",
          "2020-07-11T00:00:00",
          "2020-07-04T00:00:00"
         ],
         "y": [
          3.8,
          3.8,
          4.2,
          4.2
         ]
        },
        {
         "fill": "toself",
         "fillcolor": "rgb(188, 189, 34)",
         "hoverinfo": "name",
         "legendgroup": "rgb(188, 189, 34)",
         "mode": "none",
         "name": "International Women's Day Promo",
         "type": "scatter",
         "x": [
          "2020-03-08T00:00:00",
          "2020-03-10T00:00:00",
          "2020-03-10T00:00:00",
          "2020-03-08T00:00:00"
         ],
         "y": [
          7.8,
          7.8,
          8.2,
          8.2
         ]
        },
        {
         "fill": "toself",
         "fillcolor": "rgb(214, 39, 40)",
         "hoverinfo": "name",
         "legendgroup": "rgb(214, 39, 40)",
         "mode": "none",
         "name": "Chinese Moon Festival",
         "type": "scatter",
         "x": [
          "2020-04-12T00:00:00",
          "2020-04-19T00:00:00",
          "2020-04-19T00:00:00",
          "2020-04-12T00:00:00",
          "2020-04-12T00:00:00",
          "2020-10-01T00:00:00",
          "2020-10-07T00:00:00",
          "2020-10-07T00:00:00",
          "2020-10-01T00:00:00"
         ],
         "y": [
          2.8,
          2.8,
          3.2,
          3.2,
          null,
          12.8,
          12.8,
          13.2,
          13.2
         ]
        },
        {
         "fill": "toself",
         "fillcolor": "rgb(227, 119, 194)",
         "hoverinfo": "name",
         "legendgroup": "rgb(227, 119, 194)",
         "mode": "none",
         "name": "Chinese New Year Promo",
         "type": "scatter",
         "x": [
          "2020-01-25T00:00:00",
          "2020-02-07T00:00:00",
          "2020-02-07T00:00:00",
          "2020-01-25T00:00:00"
         ],
         "y": [
          5.8,
          5.8,
          6.2,
          6.2
         ]
        },
        {
         "fill": "toself",
         "fillcolor": "rgb(23, 190, 207)",
         "hoverinfo": "name",
         "legendgroup": "rgb(23, 190, 207)",
         "mode": "none",
         "name": "Victory Day CIS (May 9th) Event",
         "type": "scatter",
         "x": [
          "2020-05-09T00:00:00",
          "2020-05-11T00:00:00",
          "2020-05-11T00:00:00",
          "2020-05-09T00:00:00"
         ],
         "y": [
          8.8,
          8.8,
          9.2,
          9.2
         ]
        },
        {
         "fill": "toself",
         "fillcolor": "rgb(255, 127, 14)",
         "hoverinfo": "name",
         "legendgroup": "rgb(255, 127, 14)",
         "mode": "none",
         "name": "Dragon Boat Festival Giveaway",
         "type": "scatter",
         "x": [
          "2020-02-14T00:00:00",
          "2020-02-16T00:00:00",
          "2020-02-16T00:00:00",
          "2020-02-14T00:00:00",
          "2020-02-14T00:00:00",
          "2020-06-25T00:00:00",
          "2020-07-01T00:00:00",
          "2020-07-01T00:00:00",
          "2020-06-25T00:00:00"
         ],
         "y": [
          0.8,
          0.8,
          1.2,
          1.2,
          null,
          10.8,
          10.8,
          11.2,
          11.2
         ]
        },
        {
         "fill": "toself",
         "fillcolor": "rgb(31, 119, 180)",
         "hoverinfo": "name",
         "legendgroup": "rgb(31, 119, 180)",
         "mode": "none",
         "name": "CIS New Year Gift Lottery",
         "type": "scatter",
         "x": [
          "2020-12-25T00:00:00",
          "2021-01-03T00:00:00",
          "2021-01-03T00:00:00",
          "2020-12-25T00:00:00",
          "2020-12-25T00:00:00",
          "2020-12-30T00:00:00",
          "2021-01-07T00:00:00",
          "2021-01-07T00:00:00",
          "2020-12-30T00:00:00"
         ],
         "y": [
          -0.2,
          -0.2,
          0.2,
          0.2,
          null,
          9.8,
          9.8,
          10.2,
          10.2
         ]
        },
        {
         "fill": "toself",
         "fillcolor": "rgb(44, 160, 44)",
         "hoverinfo": "name",
         "legendgroup": "rgb(44, 160, 44)",
         "mode": "none",
         "name": "Single's Day Gift Promo",
         "type": "scatter",
         "x": [
          "2020-03-17T00:00:00",
          "2020-03-19T00:00:00",
          "2020-03-19T00:00:00",
          "2020-03-17T00:00:00",
          "2020-03-17T00:00:00",
          "2020-11-11T00:00:00",
          "2020-11-12T00:00:00",
          "2020-11-12T00:00:00",
          "2020-11-11T00:00:00"
         ],
         "y": [
          1.8,
          1.8,
          2.2,
          2.2,
          null,
          11.8,
          11.8,
          12.2,
          12.2
         ]
        },
        {
         "legendgroup": "rgb(127, 127, 127)",
         "marker": {
          "color": "rgb(127, 127, 127)",
          "opacity": 0,
          "size": 1
         },
         "mode": "markers",
         "name": "",
         "showlegend": false,
         "text": [
          null,
          null
         ],
         "type": "scatter",
         "x": [
          "2020-05-01T00:00:00",
          "2020-05-03T00:00:00"
         ],
         "y": [
          7,
          7
         ]
        },
        {
         "legendgroup": "rgb(140, 86, 75)",
         "marker": {
          "color": "rgb(140, 86, 75)",
          "opacity": 0,
          "size": 1
         },
         "mode": "markers",
         "name": "",
         "showlegend": false,
         "text": [
          null,
          null
         ],
         "type": "scatter",
         "x": [
          "2020-11-26T00:00:00",
          "2020-12-01T00:00:00"
         ],
         "y": [
          5,
          5
         ]
        },
        {
         "legendgroup": "rgb(148, 103, 189)",
         "marker": {
          "color": "rgb(148, 103, 189)",
          "opacity": 0,
          "size": 1
         },
         "mode": "markers",
         "name": "",
         "showlegend": false,
         "text": [
          null,
          null
         ],
         "type": "scatter",
         "x": [
          "2020-07-04T00:00:00",
          "2020-07-11T00:00:00"
         ],
         "y": [
          4,
          4
         ]
        },
        {
         "legendgroup": "rgb(188, 189, 34)",
         "marker": {
          "color": "rgb(188, 189, 34)",
          "opacity": 0,
          "size": 1
         },
         "mode": "markers",
         "name": "",
         "showlegend": false,
         "text": [
          null,
          null
         ],
         "type": "scatter",
         "x": [
          "2020-03-08T00:00:00",
          "2020-03-10T00:00:00"
         ],
         "y": [
          8,
          8
         ]
        },
        {
         "legendgroup": "rgb(214, 39, 40)",
         "marker": {
          "color": "rgb(214, 39, 40)",
          "opacity": 0,
          "size": 1
         },
         "mode": "markers",
         "name": "",
         "showlegend": false,
         "text": [
          null,
          null,
          null,
          null
         ],
         "type": "scatter",
         "x": [
          "2020-04-12T00:00:00",
          "2020-04-19T00:00:00",
          "2020-10-01T00:00:00",
          "2020-10-07T00:00:00"
         ],
         "y": [
          3,
          3,
          13,
          13
         ]
        },
        {
         "legendgroup": "rgb(227, 119, 194)",
         "marker": {
          "color": "rgb(227, 119, 194)",
          "opacity": 0,
          "size": 1
         },
         "mode": "markers",
         "name": "",
         "showlegend": false,
         "text": [
          null,
          null
         ],
         "type": "scatter",
         "x": [
          "2020-01-25T00:00:00",
          "2020-02-07T00:00:00"
         ],
         "y": [
          6,
          6
         ]
        },
        {
         "legendgroup": "rgb(23, 190, 207)",
         "marker": {
          "color": "rgb(23, 190, 207)",
          "opacity": 0,
          "size": 1
         },
         "mode": "markers",
         "name": "",
         "showlegend": false,
         "text": [
          null,
          null
         ],
         "type": "scatter",
         "x": [
          "2020-05-09T00:00:00",
          "2020-05-11T00:00:00"
         ],
         "y": [
          9,
          9
         ]
        },
        {
         "legendgroup": "rgb(255, 127, 14)",
         "marker": {
          "color": "rgb(255, 127, 14)",
          "opacity": 0,
          "size": 1
         },
         "mode": "markers",
         "name": "",
         "showlegend": false,
         "text": [
          null,
          null,
          null,
          null
         ],
         "type": "scatter",
         "x": [
          "2020-02-14T00:00:00",
          "2020-02-16T00:00:00",
          "2020-06-25T00:00:00",
          "2020-07-01T00:00:00"
         ],
         "y": [
          1,
          1,
          11,
          11
         ]
        },
        {
         "legendgroup": "rgb(31, 119, 180)",
         "marker": {
          "color": "rgb(31, 119, 180)",
          "opacity": 0,
          "size": 1
         },
         "mode": "markers",
         "name": "",
         "showlegend": false,
         "text": [
          null,
          null,
          null,
          null
         ],
         "type": "scatter",
         "x": [
          "2020-12-25T00:00:00",
          "2021-01-03T00:00:00",
          "2020-12-30T00:00:00",
          "2021-01-07T00:00:00"
         ],
         "y": [
          0,
          0,
          10,
          10
         ]
        },
        {
         "legendgroup": "rgb(44, 160, 44)",
         "marker": {
          "color": "rgb(44, 160, 44)",
          "opacity": 0,
          "size": 1
         },
         "mode": "markers",
         "name": "",
         "showlegend": false,
         "text": [
          null,
          null,
          null,
          null
         ],
         "type": "scatter",
         "x": [
          "2020-03-17T00:00:00",
          "2020-03-19T00:00:00",
          "2020-11-11T00:00:00",
          "2020-11-12T00:00:00"
         ],
         "y": [
          2,
          2,
          12,
          12
         ]
        }
       ],
       "layout": {
        "height": 600,
        "hovermode": "closest",
        "showlegend": false,
        "template": {
         "data": {
          "bar": [
           {
            "error_x": {
             "color": "#2a3f5f"
            },
            "error_y": {
             "color": "#2a3f5f"
            },
            "marker": {
             "line": {
              "color": "#E5ECF6",
              "width": 0.5
             },
             "pattern": {
              "fillmode": "overlay",
              "size": 10,
              "solidity": 0.2
             }
            },
            "type": "bar"
           }
          ],
          "barpolar": [
           {
            "marker": {
             "line": {
              "color": "#E5ECF6",
              "width": 0.5
             },
             "pattern": {
              "fillmode": "overlay",
              "size": 10,
              "solidity": 0.2
             }
            },
            "type": "barpolar"
           }
          ],
          "carpet": [
           {
            "aaxis": {
             "endlinecolor": "#2a3f5f",
             "gridcolor": "white",
             "linecolor": "white",
             "minorgridcolor": "white",
             "startlinecolor": "#2a3f5f"
            },
            "baxis": {
             "endlinecolor": "#2a3f5f",
             "gridcolor": "white",
             "linecolor": "white",
             "minorgridcolor": "white",
             "startlinecolor": "#2a3f5f"
            },
            "type": "carpet"
           }
          ],
          "choropleth": [
           {
            "colorbar": {
             "outlinewidth": 0,
             "ticks": ""
            },
            "type": "choropleth"
           }
          ],
          "contour": [
           {
            "colorbar": {
             "outlinewidth": 0,
             "ticks": ""
            },
            "colorscale": [
             [
              0,
              "#0d0887"
             ],
             [
              0.1111111111111111,
              "#46039f"
             ],
             [
              0.2222222222222222,
              "#7201a8"
             ],
             [
              0.3333333333333333,
              "#9c179e"
             ],
             [
              0.4444444444444444,
              "#bd3786"
             ],
             [
              0.5555555555555556,
              "#d8576b"
             ],
             [
              0.6666666666666666,
              "#ed7953"
             ],
             [
              0.7777777777777778,
              "#fb9f3a"
             ],
             [
              0.8888888888888888,
              "#fdca26"
             ],
             [
              1,
              "#f0f921"
             ]
            ],
            "type": "contour"
           }
          ],
          "contourcarpet": [
           {
            "colorbar": {
             "outlinewidth": 0,
             "ticks": ""
            },
            "type": "contourcarpet"
           }
          ],
          "heatmap": [
           {
            "colorbar": {
             "outlinewidth": 0,
             "ticks": ""
            },
            "colorscale": [
             [
              0,
              "#0d0887"
             ],
             [
              0.1111111111111111,
              "#46039f"
             ],
             [
              0.2222222222222222,
              "#7201a8"
             ],
             [
              0.3333333333333333,
              "#9c179e"
             ],
             [
              0.4444444444444444,
              "#bd3786"
             ],
             [
              0.5555555555555556,
              "#d8576b"
             ],
             [
              0.6666666666666666,
              "#ed7953"
             ],
             [
              0.7777777777777778,
              "#fb9f3a"
             ],
             [
              0.8888888888888888,
              "#fdca26"
             ],
             [
              1,
              "#f0f921"
             ]
            ],
            "type": "heatmap"
           }
          ],
          "heatmapgl": [
           {
            "colorbar": {
             "outlinewidth": 0,
             "ticks": ""
            },
            "colorscale": [
             [
              0,
              "#0d0887"
             ],
             [
              0.1111111111111111,
              "#46039f"
             ],
             [
              0.2222222222222222,
              "#7201a8"
             ],
             [
              0.3333333333333333,
              "#9c179e"
             ],
             [
              0.4444444444444444,
              "#bd3786"
             ],
             [
              0.5555555555555556,
              "#d8576b"
             ],
             [
              0.6666666666666666,
              "#ed7953"
             ],
             [
              0.7777777777777778,
              "#fb9f3a"
             ],
             [
              0.8888888888888888,
              "#fdca26"
             ],
             [
              1,
              "#f0f921"
             ]
            ],
            "type": "heatmapgl"
           }
          ],
          "histogram": [
           {
            "marker": {
             "pattern": {
              "fillmode": "overlay",
              "size": 10,
              "solidity": 0.2
             }
            },
            "type": "histogram"
           }
          ],
          "histogram2d": [
           {
            "colorbar": {
             "outlinewidth": 0,
             "ticks": ""
            },
            "colorscale": [
             [
              0,
              "#0d0887"
             ],
             [
              0.1111111111111111,
              "#46039f"
             ],
             [
              0.2222222222222222,
              "#7201a8"
             ],
             [
              0.3333333333333333,
              "#9c179e"
             ],
             [
              0.4444444444444444,
              "#bd3786"
             ],
             [
              0.5555555555555556,
              "#d8576b"
             ],
             [
              0.6666666666666666,
              "#ed7953"
             ],
             [
              0.7777777777777778,
              "#fb9f3a"
             ],
             [
              0.8888888888888888,
              "#fdca26"
             ],
             [
              1,
              "#f0f921"
             ]
            ],
            "type": "histogram2d"
           }
          ],
          "histogram2dcontour": [
           {
            "colorbar": {
             "outlinewidth": 0,
             "ticks": ""
            },
            "colorscale": [
             [
              0,
              "#0d0887"
             ],
             [
              0.1111111111111111,
              "#46039f"
             ],
             [
              0.2222222222222222,
              "#7201a8"
             ],
             [
              0.3333333333333333,
              "#9c179e"
             ],
             [
              0.4444444444444444,
              "#bd3786"
             ],
             [
              0.5555555555555556,
              "#d8576b"
             ],
             [
              0.6666666666666666,
              "#ed7953"
             ],
             [
              0.7777777777777778,
              "#fb9f3a"
             ],
             [
              0.8888888888888888,
              "#fdca26"
             ],
             [
              1,
              "#f0f921"
             ]
            ],
            "type": "histogram2dcontour"
           }
          ],
          "mesh3d": [
           {
            "colorbar": {
             "outlinewidth": 0,
             "ticks": ""
            },
            "type": "mesh3d"
           }
          ],
          "parcoords": [
           {
            "line": {
             "colorbar": {
              "outlinewidth": 0,
              "ticks": ""
             }
            },
            "type": "parcoords"
           }
          ],
          "pie": [
           {
            "automargin": true,
            "type": "pie"
           }
          ],
          "scatter": [
           {
            "marker": {
             "colorbar": {
              "outlinewidth": 0,
              "ticks": ""
             }
            },
            "type": "scatter"
           }
          ],
          "scatter3d": [
           {
            "line": {
             "colorbar": {
              "outlinewidth": 0,
              "ticks": ""
             }
            },
            "marker": {
             "colorbar": {
              "outlinewidth": 0,
              "ticks": ""
             }
            },
            "type": "scatter3d"
           }
          ],
          "scattercarpet": [
           {
            "marker": {
             "colorbar": {
              "outlinewidth": 0,
              "ticks": ""
             }
            },
            "type": "scattercarpet"
           }
          ],
          "scattergeo": [
           {
            "marker": {
             "colorbar": {
              "outlinewidth": 0,
              "ticks": ""
             }
            },
            "type": "scattergeo"
           }
          ],
          "scattergl": [
           {
            "marker": {
             "colorbar": {
              "outlinewidth": 0,
              "ticks": ""
             }
            },
            "type": "scattergl"
           }
          ],
          "scattermapbox": [
           {
            "marker": {
             "colorbar": {
              "outlinewidth": 0,
              "ticks": ""
             }
            },
            "type": "scattermapbox"
           }
          ],
          "scatterpolar": [
           {
            "marker": {
             "colorbar": {
              "outlinewidth": 0,
              "ticks": ""
             }
            },
            "type": "scatterpolar"
           }
          ],
          "scatterpolargl": [
           {
            "marker": {
             "colorbar": {
              "outlinewidth": 0,
              "ticks": ""
             }
            },
            "type": "scatterpolargl"
           }
          ],
          "scatterternary": [
           {
            "marker": {
             "colorbar": {
              "outlinewidth": 0,
              "ticks": ""
             }
            },
            "type": "scatterternary"
           }
          ],
          "surface": [
           {
            "colorbar": {
             "outlinewidth": 0,
             "ticks": ""
            },
            "colorscale": [
             [
              0,
              "#0d0887"
             ],
             [
              0.1111111111111111,
              "#46039f"
             ],
             [
              0.2222222222222222,
              "#7201a8"
             ],
             [
              0.3333333333333333,
              "#9c179e"
             ],
             [
              0.4444444444444444,
              "#bd3786"
             ],
             [
              0.5555555555555556,
              "#d8576b"
             ],
             [
              0.6666666666666666,
              "#ed7953"
             ],
             [
              0.7777777777777778,
              "#fb9f3a"
             ],
             [
              0.8888888888888888,
              "#fdca26"
             ],
             [
              1,
              "#f0f921"
             ]
            ],
            "type": "surface"
           }
          ],
          "table": [
           {
            "cells": {
             "fill": {
              "color": "#EBF0F8"
             },
             "line": {
              "color": "white"
             }
            },
            "header": {
             "fill": {
              "color": "#C8D4E3"
             },
             "line": {
              "color": "white"
             }
            },
            "type": "table"
           }
          ]
         },
         "layout": {
          "annotationdefaults": {
           "arrowcolor": "#2a3f5f",
           "arrowhead": 0,
           "arrowwidth": 1
          },
          "autotypenumbers": "strict",
          "coloraxis": {
           "colorbar": {
            "outlinewidth": 0,
            "ticks": ""
           }
          },
          "colorscale": {
           "diverging": [
            [
             0,
             "#8e0152"
            ],
            [
             0.1,
             "#c51b7d"
            ],
            [
             0.2,
             "#de77ae"
            ],
            [
             0.3,
             "#f1b6da"
            ],
            [
             0.4,
             "#fde0ef"
            ],
            [
             0.5,
             "#f7f7f7"
            ],
            [
             0.6,
             "#e6f5d0"
            ],
            [
             0.7,
             "#b8e186"
            ],
            [
             0.8,
             "#7fbc41"
            ],
            [
             0.9,
             "#4d9221"
            ],
            [
             1,
             "#276419"
            ]
           ],
           "sequential": [
            [
             0,
             "#0d0887"
            ],
            [
             0.1111111111111111,
             "#46039f"
            ],
            [
             0.2222222222222222,
             "#7201a8"
            ],
            [
             0.3333333333333333,
             "#9c179e"
            ],
            [
             0.4444444444444444,
             "#bd3786"
            ],
            [
             0.5555555555555556,
             "#d8576b"
            ],
            [
             0.6666666666666666,
             "#ed7953"
            ],
            [
             0.7777777777777778,
             "#fb9f3a"
            ],
            [
             0.8888888888888888,
             "#fdca26"
            ],
            [
             1,
             "#f0f921"
            ]
           ],
           "sequentialminus": [
            [
             0,
             "#0d0887"
            ],
            [
             0.1111111111111111,
             "#46039f"
            ],
            [
             0.2222222222222222,
             "#7201a8"
            ],
            [
             0.3333333333333333,
             "#9c179e"
            ],
            [
             0.4444444444444444,
             "#bd3786"
            ],
            [
             0.5555555555555556,
             "#d8576b"
            ],
            [
             0.6666666666666666,
             "#ed7953"
            ],
            [
             0.7777777777777778,
             "#fb9f3a"
            ],
            [
             0.8888888888888888,
             "#fdca26"
            ],
            [
             1,
             "#f0f921"
            ]
           ]
          },
          "colorway": [
           "#636efa",
           "#EF553B",
           "#00cc96",
           "#ab63fa",
           "#FFA15A",
           "#19d3f3",
           "#FF6692",
           "#B6E880",
           "#FF97FF",
           "#FECB52"
          ],
          "font": {
           "color": "#2a3f5f"
          },
          "geo": {
           "bgcolor": "white",
           "lakecolor": "white",
           "landcolor": "#E5ECF6",
           "showlakes": true,
           "showland": true,
           "subunitcolor": "white"
          },
          "hoverlabel": {
           "align": "left"
          },
          "hovermode": "closest",
          "mapbox": {
           "style": "light"
          },
          "paper_bgcolor": "white",
          "plot_bgcolor": "#E5ECF6",
          "polar": {
           "angularaxis": {
            "gridcolor": "white",
            "linecolor": "white",
            "ticks": ""
           },
           "bgcolor": "#E5ECF6",
           "radialaxis": {
            "gridcolor": "white",
            "linecolor": "white",
            "ticks": ""
           }
          },
          "scene": {
           "xaxis": {
            "backgroundcolor": "#E5ECF6",
            "gridcolor": "white",
            "gridwidth": 2,
            "linecolor": "white",
            "showbackground": true,
            "ticks": "",
            "zerolinecolor": "white"
           },
           "yaxis": {
            "backgroundcolor": "#E5ECF6",
            "gridcolor": "white",
            "gridwidth": 2,
            "linecolor": "white",
            "showbackground": true,
            "ticks": "",
            "zerolinecolor": "white"
           },
           "zaxis": {
            "backgroundcolor": "#E5ECF6",
            "gridcolor": "white",
            "gridwidth": 2,
            "linecolor": "white",
            "showbackground": true,
            "ticks": "",
            "zerolinecolor": "white"
           }
          },
          "shapedefaults": {
           "line": {
            "color": "#2a3f5f"
           }
          },
          "ternary": {
           "aaxis": {
            "gridcolor": "white",
            "linecolor": "white",
            "ticks": ""
           },
           "baxis": {
            "gridcolor": "white",
            "linecolor": "white",
            "ticks": ""
           },
           "bgcolor": "#E5ECF6",
           "caxis": {
            "gridcolor": "white",
            "linecolor": "white",
            "ticks": ""
           }
          },
          "title": {
           "x": 0.05
          },
          "xaxis": {
           "automargin": true,
           "gridcolor": "white",
           "linecolor": "white",
           "ticks": "",
           "title": {
            "standoff": 15
           },
           "zerolinecolor": "white",
           "zerolinewidth": 2
          },
          "yaxis": {
           "automargin": true,
           "gridcolor": "white",
           "linecolor": "white",
           "ticks": "",
           "title": {
            "standoff": 15
           },
           "zerolinecolor": "white",
           "zerolinewidth": 2
          }
         }
        },
        "title": {
         "text": "Gantt Chart"
        },
        "xaxis": {
         "rangeselector": {
          "buttons": [
           {
            "count": 7,
            "label": "1w",
            "step": "day",
            "stepmode": "backward"
           },
           {
            "count": 1,
            "label": "1m",
            "step": "month",
            "stepmode": "backward"
           },
           {
            "count": 6,
            "label": "6m",
            "step": "month",
            "stepmode": "backward"
           },
           {
            "count": 1,
            "label": "YTD",
            "step": "year",
            "stepmode": "todate"
           },
           {
            "count": 1,
            "label": "1y",
            "step": "year",
            "stepmode": "backward"
           },
           {
            "step": "all"
           }
          ]
         },
         "showgrid": false,
         "type": "date",
         "zeroline": false
        },
        "yaxis": {
         "autorange": false,
         "range": [
          -1,
          15
         ],
         "showgrid": false,
         "ticktext": [
          "Christmas&New Year Promo",
          "St. Valentine's Day Giveaway",
          "St. Patric's Day Promo",
          "Easter Promo",
          "4th of July Promo",
          "Black Friday Ads Campaign",
          "Chinese New Year Promo",
          "Labor day (May 1st) Ads Campaign",
          "International Women's Day Promo",
          "Victory Day CIS (May 9th) Event",
          "CIS New Year Gift Lottery",
          "Dragon Boat Festival Giveaway",
          "Single's Day Gift Promo",
          "Chinese Moon Festival"
         ],
         "tickvals": [
          0,
          1,
          2,
          3,
          4,
          5,
          6,
          7,
          8,
          9,
          10,
          11,
          12,
          13
         ],
         "zeroline": false
        }
       }
      },
      "text/html": [
       "<div>                            <div id=\"0d6b7886-0bfc-42af-ac27-1096bd233d4b\" class=\"plotly-graph-div\" style=\"height:600px; width:100%;\"></div>            <script type=\"text/javascript\">                require([\"plotly\"], function(Plotly) {                    window.PLOTLYENV=window.PLOTLYENV || {};                                    if (document.getElementById(\"0d6b7886-0bfc-42af-ac27-1096bd233d4b\")) {                    Plotly.newPlot(                        \"0d6b7886-0bfc-42af-ac27-1096bd233d4b\",                        [{\"fill\":\"toself\",\"fillcolor\":\"rgb(127, 127, 127)\",\"hoverinfo\":\"name\",\"legendgroup\":\"rgb(127, 127, 127)\",\"mode\":\"none\",\"name\":\"Labor day (May 1st) Ads Campaign\",\"x\":[\"2020-05-01T00:00:00\",\"2020-05-03T00:00:00\",\"2020-05-03T00:00:00\",\"2020-05-01T00:00:00\"],\"y\":[6.8,6.8,7.2,7.2],\"type\":\"scatter\"},{\"fill\":\"toself\",\"fillcolor\":\"rgb(140, 86, 75)\",\"hoverinfo\":\"name\",\"legendgroup\":\"rgb(140, 86, 75)\",\"mode\":\"none\",\"name\":\"Black Friday Ads Campaign\",\"x\":[\"2020-11-26T00:00:00\",\"2020-12-01T00:00:00\",\"2020-12-01T00:00:00\",\"2020-11-26T00:00:00\"],\"y\":[4.8,4.8,5.2,5.2],\"type\":\"scatter\"},{\"fill\":\"toself\",\"fillcolor\":\"rgb(148, 103, 189)\",\"hoverinfo\":\"name\",\"legendgroup\":\"rgb(148, 103, 189)\",\"mode\":\"none\",\"name\":\"4th of July Promo\",\"x\":[\"2020-07-04T00:00:00\",\"2020-07-11T00:00:00\",\"2020-07-11T00:00:00\",\"2020-07-04T00:00:00\"],\"y\":[3.8,3.8,4.2,4.2],\"type\":\"scatter\"},{\"fill\":\"toself\",\"fillcolor\":\"rgb(188, 189, 34)\",\"hoverinfo\":\"name\",\"legendgroup\":\"rgb(188, 189, 34)\",\"mode\":\"none\",\"name\":\"International Women's Day Promo\",\"x\":[\"2020-03-08T00:00:00\",\"2020-03-10T00:00:00\",\"2020-03-10T00:00:00\",\"2020-03-08T00:00:00\"],\"y\":[7.8,7.8,8.2,8.2],\"type\":\"scatter\"},{\"fill\":\"toself\",\"fillcolor\":\"rgb(214, 39, 40)\",\"hoverinfo\":\"name\",\"legendgroup\":\"rgb(214, 39, 40)\",\"mode\":\"none\",\"name\":\"Chinese Moon Festival\",\"x\":[\"2020-04-12T00:00:00\",\"2020-04-19T00:00:00\",\"2020-04-19T00:00:00\",\"2020-04-12T00:00:00\",\"2020-04-12T00:00:00\",\"2020-10-01T00:00:00\",\"2020-10-07T00:00:00\",\"2020-10-07T00:00:00\",\"2020-10-01T00:00:00\"],\"y\":[2.8,2.8,3.2,3.2,null,12.8,12.8,13.2,13.2],\"type\":\"scatter\"},{\"fill\":\"toself\",\"fillcolor\":\"rgb(227, 119, 194)\",\"hoverinfo\":\"name\",\"legendgroup\":\"rgb(227, 119, 194)\",\"mode\":\"none\",\"name\":\"Chinese New Year Promo\",\"x\":[\"2020-01-25T00:00:00\",\"2020-02-07T00:00:00\",\"2020-02-07T00:00:00\",\"2020-01-25T00:00:00\"],\"y\":[5.8,5.8,6.2,6.2],\"type\":\"scatter\"},{\"fill\":\"toself\",\"fillcolor\":\"rgb(23, 190, 207)\",\"hoverinfo\":\"name\",\"legendgroup\":\"rgb(23, 190, 207)\",\"mode\":\"none\",\"name\":\"Victory Day CIS (May 9th) Event\",\"x\":[\"2020-05-09T00:00:00\",\"2020-05-11T00:00:00\",\"2020-05-11T00:00:00\",\"2020-05-09T00:00:00\"],\"y\":[8.8,8.8,9.2,9.2],\"type\":\"scatter\"},{\"fill\":\"toself\",\"fillcolor\":\"rgb(255, 127, 14)\",\"hoverinfo\":\"name\",\"legendgroup\":\"rgb(255, 127, 14)\",\"mode\":\"none\",\"name\":\"Dragon Boat Festival Giveaway\",\"x\":[\"2020-02-14T00:00:00\",\"2020-02-16T00:00:00\",\"2020-02-16T00:00:00\",\"2020-02-14T00:00:00\",\"2020-02-14T00:00:00\",\"2020-06-25T00:00:00\",\"2020-07-01T00:00:00\",\"2020-07-01T00:00:00\",\"2020-06-25T00:00:00\"],\"y\":[0.8,0.8,1.2,1.2,null,10.8,10.8,11.2,11.2],\"type\":\"scatter\"},{\"fill\":\"toself\",\"fillcolor\":\"rgb(31, 119, 180)\",\"hoverinfo\":\"name\",\"legendgroup\":\"rgb(31, 119, 180)\",\"mode\":\"none\",\"name\":\"CIS New Year Gift Lottery\",\"x\":[\"2020-12-25T00:00:00\",\"2021-01-03T00:00:00\",\"2021-01-03T00:00:00\",\"2020-12-25T00:00:00\",\"2020-12-25T00:00:00\",\"2020-12-30T00:00:00\",\"2021-01-07T00:00:00\",\"2021-01-07T00:00:00\",\"2020-12-30T00:00:00\"],\"y\":[-0.2,-0.2,0.2,0.2,null,9.8,9.8,10.2,10.2],\"type\":\"scatter\"},{\"fill\":\"toself\",\"fillcolor\":\"rgb(44, 160, 44)\",\"hoverinfo\":\"name\",\"legendgroup\":\"rgb(44, 160, 44)\",\"mode\":\"none\",\"name\":\"Single's Day Gift Promo\",\"x\":[\"2020-03-17T00:00:00\",\"2020-03-19T00:00:00\",\"2020-03-19T00:00:00\",\"2020-03-17T00:00:00\",\"2020-03-17T00:00:00\",\"2020-11-11T00:00:00\",\"2020-11-12T00:00:00\",\"2020-11-12T00:00:00\",\"2020-11-11T00:00:00\"],\"y\":[1.8,1.8,2.2,2.2,null,11.8,11.8,12.2,12.2],\"type\":\"scatter\"},{\"legendgroup\":\"rgb(127, 127, 127)\",\"marker\":{\"color\":\"rgb(127, 127, 127)\",\"opacity\":0,\"size\":1},\"mode\":\"markers\",\"name\":\"\",\"showlegend\":false,\"text\":[null,null],\"x\":[\"2020-05-01T00:00:00\",\"2020-05-03T00:00:00\"],\"y\":[7,7],\"type\":\"scatter\"},{\"legendgroup\":\"rgb(140, 86, 75)\",\"marker\":{\"color\":\"rgb(140, 86, 75)\",\"opacity\":0,\"size\":1},\"mode\":\"markers\",\"name\":\"\",\"showlegend\":false,\"text\":[null,null],\"x\":[\"2020-11-26T00:00:00\",\"2020-12-01T00:00:00\"],\"y\":[5,5],\"type\":\"scatter\"},{\"legendgroup\":\"rgb(148, 103, 189)\",\"marker\":{\"color\":\"rgb(148, 103, 189)\",\"opacity\":0,\"size\":1},\"mode\":\"markers\",\"name\":\"\",\"showlegend\":false,\"text\":[null,null],\"x\":[\"2020-07-04T00:00:00\",\"2020-07-11T00:00:00\"],\"y\":[4,4],\"type\":\"scatter\"},{\"legendgroup\":\"rgb(188, 189, 34)\",\"marker\":{\"color\":\"rgb(188, 189, 34)\",\"opacity\":0,\"size\":1},\"mode\":\"markers\",\"name\":\"\",\"showlegend\":false,\"text\":[null,null],\"x\":[\"2020-03-08T00:00:00\",\"2020-03-10T00:00:00\"],\"y\":[8,8],\"type\":\"scatter\"},{\"legendgroup\":\"rgb(214, 39, 40)\",\"marker\":{\"color\":\"rgb(214, 39, 40)\",\"opacity\":0,\"size\":1},\"mode\":\"markers\",\"name\":\"\",\"showlegend\":false,\"text\":[null,null,null,null],\"x\":[\"2020-04-12T00:00:00\",\"2020-04-19T00:00:00\",\"2020-10-01T00:00:00\",\"2020-10-07T00:00:00\"],\"y\":[3,3,13,13],\"type\":\"scatter\"},{\"legendgroup\":\"rgb(227, 119, 194)\",\"marker\":{\"color\":\"rgb(227, 119, 194)\",\"opacity\":0,\"size\":1},\"mode\":\"markers\",\"name\":\"\",\"showlegend\":false,\"text\":[null,null],\"x\":[\"2020-01-25T00:00:00\",\"2020-02-07T00:00:00\"],\"y\":[6,6],\"type\":\"scatter\"},{\"legendgroup\":\"rgb(23, 190, 207)\",\"marker\":{\"color\":\"rgb(23, 190, 207)\",\"opacity\":0,\"size\":1},\"mode\":\"markers\",\"name\":\"\",\"showlegend\":false,\"text\":[null,null],\"x\":[\"2020-05-09T00:00:00\",\"2020-05-11T00:00:00\"],\"y\":[9,9],\"type\":\"scatter\"},{\"legendgroup\":\"rgb(255, 127, 14)\",\"marker\":{\"color\":\"rgb(255, 127, 14)\",\"opacity\":0,\"size\":1},\"mode\":\"markers\",\"name\":\"\",\"showlegend\":false,\"text\":[null,null,null,null],\"x\":[\"2020-02-14T00:00:00\",\"2020-02-16T00:00:00\",\"2020-06-25T00:00:00\",\"2020-07-01T00:00:00\"],\"y\":[1,1,11,11],\"type\":\"scatter\"},{\"legendgroup\":\"rgb(31, 119, 180)\",\"marker\":{\"color\":\"rgb(31, 119, 180)\",\"opacity\":0,\"size\":1},\"mode\":\"markers\",\"name\":\"\",\"showlegend\":false,\"text\":[null,null,null,null],\"x\":[\"2020-12-25T00:00:00\",\"2021-01-03T00:00:00\",\"2020-12-30T00:00:00\",\"2021-01-07T00:00:00\"],\"y\":[0,0,10,10],\"type\":\"scatter\"},{\"legendgroup\":\"rgb(44, 160, 44)\",\"marker\":{\"color\":\"rgb(44, 160, 44)\",\"opacity\":0,\"size\":1},\"mode\":\"markers\",\"name\":\"\",\"showlegend\":false,\"text\":[null,null,null,null],\"x\":[\"2020-03-17T00:00:00\",\"2020-03-19T00:00:00\",\"2020-11-11T00:00:00\",\"2020-11-12T00:00:00\"],\"y\":[2,2,12,12],\"type\":\"scatter\"}],                        {\"height\":600,\"hovermode\":\"closest\",\"showlegend\":false,\"title\":{\"text\":\"Gantt Chart\"},\"xaxis\":{\"rangeselector\":{\"buttons\":[{\"count\":7,\"label\":\"1w\",\"step\":\"day\",\"stepmode\":\"backward\"},{\"count\":1,\"label\":\"1m\",\"step\":\"month\",\"stepmode\":\"backward\"},{\"count\":6,\"label\":\"6m\",\"step\":\"month\",\"stepmode\":\"backward\"},{\"count\":1,\"label\":\"YTD\",\"step\":\"year\",\"stepmode\":\"todate\"},{\"count\":1,\"label\":\"1y\",\"step\":\"year\",\"stepmode\":\"backward\"},{\"step\":\"all\"}]},\"showgrid\":false,\"type\":\"date\",\"zeroline\":false},\"yaxis\":{\"autorange\":false,\"range\":[-1,15],\"showgrid\":false,\"ticktext\":[\"Christmas&New Year Promo\",\"St. Valentine's Day Giveaway\",\"St. Patric's Day Promo\",\"Easter Promo\",\"4th of July Promo\",\"Black Friday Ads Campaign\",\"Chinese New Year Promo\",\"Labor day (May 1st) Ads Campaign\",\"International Women's Day Promo\",\"Victory Day CIS (May 9th) Event\",\"CIS New Year Gift Lottery\",\"Dragon Boat Festival Giveaway\",\"Single's Day Gift Promo\",\"Chinese Moon Festival\"],\"tickvals\":[0,1,2,3,4,5,6,7,8,9,10,11,12,13],\"zeroline\":false},\"template\":{\"data\":{\"bar\":[{\"error_x\":{\"color\":\"#2a3f5f\"},\"error_y\":{\"color\":\"#2a3f5f\"},\"marker\":{\"line\":{\"color\":\"#E5ECF6\",\"width\":0.5},\"pattern\":{\"fillmode\":\"overlay\",\"size\":10,\"solidity\":0.2}},\"type\":\"bar\"}],\"barpolar\":[{\"marker\":{\"line\":{\"color\":\"#E5ECF6\",\"width\":0.5},\"pattern\":{\"fillmode\":\"overlay\",\"size\":10,\"solidity\":0.2}},\"type\":\"barpolar\"}],\"carpet\":[{\"aaxis\":{\"endlinecolor\":\"#2a3f5f\",\"gridcolor\":\"white\",\"linecolor\":\"white\",\"minorgridcolor\":\"white\",\"startlinecolor\":\"#2a3f5f\"},\"baxis\":{\"endlinecolor\":\"#2a3f5f\",\"gridcolor\":\"white\",\"linecolor\":\"white\",\"minorgridcolor\":\"white\",\"startlinecolor\":\"#2a3f5f\"},\"type\":\"carpet\"}],\"choropleth\":[{\"colorbar\":{\"outlinewidth\":0,\"ticks\":\"\"},\"type\":\"choropleth\"}],\"contour\":[{\"colorbar\":{\"outlinewidth\":0,\"ticks\":\"\"},\"colorscale\":[[0.0,\"#0d0887\"],[0.1111111111111111,\"#46039f\"],[0.2222222222222222,\"#7201a8\"],[0.3333333333333333,\"#9c179e\"],[0.4444444444444444,\"#bd3786\"],[0.5555555555555556,\"#d8576b\"],[0.6666666666666666,\"#ed7953\"],[0.7777777777777778,\"#fb9f3a\"],[0.8888888888888888,\"#fdca26\"],[1.0,\"#f0f921\"]],\"type\":\"contour\"}],\"contourcarpet\":[{\"colorbar\":{\"outlinewidth\":0,\"ticks\":\"\"},\"type\":\"contourcarpet\"}],\"heatmap\":[{\"colorbar\":{\"outlinewidth\":0,\"ticks\":\"\"},\"colorscale\":[[0.0,\"#0d0887\"],[0.1111111111111111,\"#46039f\"],[0.2222222222222222,\"#7201a8\"],[0.3333333333333333,\"#9c179e\"],[0.4444444444444444,\"#bd3786\"],[0.5555555555555556,\"#d8576b\"],[0.6666666666666666,\"#ed7953\"],[0.7777777777777778,\"#fb9f3a\"],[0.8888888888888888,\"#fdca26\"],[1.0,\"#f0f921\"]],\"type\":\"heatmap\"}],\"heatmapgl\":[{\"colorbar\":{\"outlinewidth\":0,\"ticks\":\"\"},\"colorscale\":[[0.0,\"#0d0887\"],[0.1111111111111111,\"#46039f\"],[0.2222222222222222,\"#7201a8\"],[0.3333333333333333,\"#9c179e\"],[0.4444444444444444,\"#bd3786\"],[0.5555555555555556,\"#d8576b\"],[0.6666666666666666,\"#ed7953\"],[0.7777777777777778,\"#fb9f3a\"],[0.8888888888888888,\"#fdca26\"],[1.0,\"#f0f921\"]],\"type\":\"heatmapgl\"}],\"histogram\":[{\"marker\":{\"pattern\":{\"fillmode\":\"overlay\",\"size\":10,\"solidity\":0.2}},\"type\":\"histogram\"}],\"histogram2d\":[{\"colorbar\":{\"outlinewidth\":0,\"ticks\":\"\"},\"colorscale\":[[0.0,\"#0d0887\"],[0.1111111111111111,\"#46039f\"],[0.2222222222222222,\"#7201a8\"],[0.3333333333333333,\"#9c179e\"],[0.4444444444444444,\"#bd3786\"],[0.5555555555555556,\"#d8576b\"],[0.6666666666666666,\"#ed7953\"],[0.7777777777777778,\"#fb9f3a\"],[0.8888888888888888,\"#fdca26\"],[1.0,\"#f0f921\"]],\"type\":\"histogram2d\"}],\"histogram2dcontour\":[{\"colorbar\":{\"outlinewidth\":0,\"ticks\":\"\"},\"colorscale\":[[0.0,\"#0d0887\"],[0.1111111111111111,\"#46039f\"],[0.2222222222222222,\"#7201a8\"],[0.3333333333333333,\"#9c179e\"],[0.4444444444444444,\"#bd3786\"],[0.5555555555555556,\"#d8576b\"],[0.6666666666666666,\"#ed7953\"],[0.7777777777777778,\"#fb9f3a\"],[0.8888888888888888,\"#fdca26\"],[1.0,\"#f0f921\"]],\"type\":\"histogram2dcontour\"}],\"mesh3d\":[{\"colorbar\":{\"outlinewidth\":0,\"ticks\":\"\"},\"type\":\"mesh3d\"}],\"parcoords\":[{\"line\":{\"colorbar\":{\"outlinewidth\":0,\"ticks\":\"\"}},\"type\":\"parcoords\"}],\"pie\":[{\"automargin\":true,\"type\":\"pie\"}],\"scatter\":[{\"marker\":{\"colorbar\":{\"outlinewidth\":0,\"ticks\":\"\"}},\"type\":\"scatter\"}],\"scatter3d\":[{\"line\":{\"colorbar\":{\"outlinewidth\":0,\"ticks\":\"\"}},\"marker\":{\"colorbar\":{\"outlinewidth\":0,\"ticks\":\"\"}},\"type\":\"scatter3d\"}],\"scattercarpet\":[{\"marker\":{\"colorbar\":{\"outlinewidth\":0,\"ticks\":\"\"}},\"type\":\"scattercarpet\"}],\"scattergeo\":[{\"marker\":{\"colorbar\":{\"outlinewidth\":0,\"ticks\":\"\"}},\"type\":\"scattergeo\"}],\"scattergl\":[{\"marker\":{\"colorbar\":{\"outlinewidth\":0,\"ticks\":\"\"}},\"type\":\"scattergl\"}],\"scattermapbox\":[{\"marker\":{\"colorbar\":{\"outlinewidth\":0,\"ticks\":\"\"}},\"type\":\"scattermapbox\"}],\"scatterpolar\":[{\"marker\":{\"colorbar\":{\"outlinewidth\":0,\"ticks\":\"\"}},\"type\":\"scatterpolar\"}],\"scatterpolargl\":[{\"marker\":{\"colorbar\":{\"outlinewidth\":0,\"ticks\":\"\"}},\"type\":\"scatterpolargl\"}],\"scatterternary\":[{\"marker\":{\"colorbar\":{\"outlinewidth\":0,\"ticks\":\"\"}},\"type\":\"scatterternary\"}],\"surface\":[{\"colorbar\":{\"outlinewidth\":0,\"ticks\":\"\"},\"colorscale\":[[0.0,\"#0d0887\"],[0.1111111111111111,\"#46039f\"],[0.2222222222222222,\"#7201a8\"],[0.3333333333333333,\"#9c179e\"],[0.4444444444444444,\"#bd3786\"],[0.5555555555555556,\"#d8576b\"],[0.6666666666666666,\"#ed7953\"],[0.7777777777777778,\"#fb9f3a\"],[0.8888888888888888,\"#fdca26\"],[1.0,\"#f0f921\"]],\"type\":\"surface\"}],\"table\":[{\"cells\":{\"fill\":{\"color\":\"#EBF0F8\"},\"line\":{\"color\":\"white\"}},\"header\":{\"fill\":{\"color\":\"#C8D4E3\"},\"line\":{\"color\":\"white\"}},\"type\":\"table\"}]},\"layout\":{\"annotationdefaults\":{\"arrowcolor\":\"#2a3f5f\",\"arrowhead\":0,\"arrowwidth\":1},\"autotypenumbers\":\"strict\",\"coloraxis\":{\"colorbar\":{\"outlinewidth\":0,\"ticks\":\"\"}},\"colorscale\":{\"diverging\":[[0,\"#8e0152\"],[0.1,\"#c51b7d\"],[0.2,\"#de77ae\"],[0.3,\"#f1b6da\"],[0.4,\"#fde0ef\"],[0.5,\"#f7f7f7\"],[0.6,\"#e6f5d0\"],[0.7,\"#b8e186\"],[0.8,\"#7fbc41\"],[0.9,\"#4d9221\"],[1,\"#276419\"]],\"sequential\":[[0.0,\"#0d0887\"],[0.1111111111111111,\"#46039f\"],[0.2222222222222222,\"#7201a8\"],[0.3333333333333333,\"#9c179e\"],[0.4444444444444444,\"#bd3786\"],[0.5555555555555556,\"#d8576b\"],[0.6666666666666666,\"#ed7953\"],[0.7777777777777778,\"#fb9f3a\"],[0.8888888888888888,\"#fdca26\"],[1.0,\"#f0f921\"]],\"sequentialminus\":[[0.0,\"#0d0887\"],[0.1111111111111111,\"#46039f\"],[0.2222222222222222,\"#7201a8\"],[0.3333333333333333,\"#9c179e\"],[0.4444444444444444,\"#bd3786\"],[0.5555555555555556,\"#d8576b\"],[0.6666666666666666,\"#ed7953\"],[0.7777777777777778,\"#fb9f3a\"],[0.8888888888888888,\"#fdca26\"],[1.0,\"#f0f921\"]]},\"colorway\":[\"#636efa\",\"#EF553B\",\"#00cc96\",\"#ab63fa\",\"#FFA15A\",\"#19d3f3\",\"#FF6692\",\"#B6E880\",\"#FF97FF\",\"#FECB52\"],\"font\":{\"color\":\"#2a3f5f\"},\"geo\":{\"bgcolor\":\"white\",\"lakecolor\":\"white\",\"landcolor\":\"#E5ECF6\",\"showlakes\":true,\"showland\":true,\"subunitcolor\":\"white\"},\"hoverlabel\":{\"align\":\"left\"},\"hovermode\":\"closest\",\"mapbox\":{\"style\":\"light\"},\"paper_bgcolor\":\"white\",\"plot_bgcolor\":\"#E5ECF6\",\"polar\":{\"angularaxis\":{\"gridcolor\":\"white\",\"linecolor\":\"white\",\"ticks\":\"\"},\"bgcolor\":\"#E5ECF6\",\"radialaxis\":{\"gridcolor\":\"white\",\"linecolor\":\"white\",\"ticks\":\"\"}},\"scene\":{\"xaxis\":{\"backgroundcolor\":\"#E5ECF6\",\"gridcolor\":\"white\",\"gridwidth\":2,\"linecolor\":\"white\",\"showbackground\":true,\"ticks\":\"\",\"zerolinecolor\":\"white\"},\"yaxis\":{\"backgroundcolor\":\"#E5ECF6\",\"gridcolor\":\"white\",\"gridwidth\":2,\"linecolor\":\"white\",\"showbackground\":true,\"ticks\":\"\",\"zerolinecolor\":\"white\"},\"zaxis\":{\"backgroundcolor\":\"#E5ECF6\",\"gridcolor\":\"white\",\"gridwidth\":2,\"linecolor\":\"white\",\"showbackground\":true,\"ticks\":\"\",\"zerolinecolor\":\"white\"}},\"shapedefaults\":{\"line\":{\"color\":\"#2a3f5f\"}},\"ternary\":{\"aaxis\":{\"gridcolor\":\"white\",\"linecolor\":\"white\",\"ticks\":\"\"},\"baxis\":{\"gridcolor\":\"white\",\"linecolor\":\"white\",\"ticks\":\"\"},\"bgcolor\":\"#E5ECF6\",\"caxis\":{\"gridcolor\":\"white\",\"linecolor\":\"white\",\"ticks\":\"\"}},\"title\":{\"x\":0.05},\"xaxis\":{\"automargin\":true,\"gridcolor\":\"white\",\"linecolor\":\"white\",\"ticks\":\"\",\"title\":{\"standoff\":15},\"zerolinecolor\":\"white\",\"zerolinewidth\":2},\"yaxis\":{\"automargin\":true,\"gridcolor\":\"white\",\"linecolor\":\"white\",\"ticks\":\"\",\"title\":{\"standoff\":15},\"zerolinecolor\":\"white\",\"zerolinewidth\":2}}}},                        {\"responsive\": true}                    ).then(function(){\n",
       "                            \n",
       "var gd = document.getElementById('0d6b7886-0bfc-42af-ac27-1096bd233d4b');\n",
       "var x = new MutationObserver(function (mutations, observer) {{\n",
       "        var display = window.getComputedStyle(gd).display;\n",
       "        if (!display || display === 'none') {{\n",
       "            console.log([gd, 'removed!']);\n",
       "            Plotly.purge(gd);\n",
       "            observer.disconnect();\n",
       "        }}\n",
       "}});\n",
       "\n",
       "// Listen for the removal of the full notebook cells\n",
       "var notebookContainer = gd.closest('#notebook-container');\n",
       "if (notebookContainer) {{\n",
       "    x.observe(notebookContainer, {childList: true});\n",
       "}}\n",
       "\n",
       "// Listen for the clearing of the current output cell\n",
       "var outputEl = gd.closest('.output');\n",
       "if (outputEl) {{\n",
       "    x.observe(outputEl, {childList: true});\n",
       "}}\n",
       "\n",
       "                        })                };                });            </script>        </div>"
      ]
     },
     "metadata": {},
     "output_type": "display_data"
    }
   ],
   "source": [
    "marketing_events = marketing_events.rename(columns={'name': 'Task', 'start_dt': 'Start', 'finish_dt': 'Finish'}) \n",
    "fig = ff.create_gantt(marketing_events)\n",
    "fig.show()"
   ]
  },
  {
   "cell_type": "code",
   "execution_count": 47,
   "metadata": {
    "scrolled": true
   },
   "outputs": [
    {
     "name": "stdout",
     "output_type": "stream",
     "text": [
      "Пересечение периода проведения теста с маркетинговыми активностями\n"
     ]
    },
    {
     "data": {
      "text/html": [
       "<div>\n",
       "<style scoped>\n",
       "    .dataframe tbody tr th:only-of-type {\n",
       "        vertical-align: middle;\n",
       "    }\n",
       "\n",
       "    .dataframe tbody tr th {\n",
       "        vertical-align: top;\n",
       "    }\n",
       "\n",
       "    .dataframe thead th {\n",
       "        text-align: right;\n",
       "    }\n",
       "</style>\n",
       "<table border=\"1\" class=\"dataframe\">\n",
       "  <thead>\n",
       "    <tr style=\"text-align: right;\">\n",
       "      <th></th>\n",
       "      <th>Task</th>\n",
       "      <th>regions</th>\n",
       "      <th>Start</th>\n",
       "      <th>Finish</th>\n",
       "    </tr>\n",
       "  </thead>\n",
       "  <tbody>\n",
       "    <tr>\n",
       "      <th>0</th>\n",
       "      <td>Christmas&amp;New Year Promo</td>\n",
       "      <td>EU, N.America</td>\n",
       "      <td>2020-12-25</td>\n",
       "      <td>2021-01-03</td>\n",
       "    </tr>\n",
       "    <tr>\n",
       "      <th>10</th>\n",
       "      <td>CIS New Year Gift Lottery</td>\n",
       "      <td>CIS</td>\n",
       "      <td>2020-12-30</td>\n",
       "      <td>2021-01-07</td>\n",
       "    </tr>\n",
       "  </tbody>\n",
       "</table>\n",
       "</div>"
      ],
      "text/plain": [
       "                         Task        regions      Start     Finish\n",
       "0    Christmas&New Year Promo  EU, N.America 2020-12-25 2021-01-03\n",
       "10  CIS New Year Gift Lottery            CIS 2020-12-30 2021-01-07"
      ]
     },
     "execution_count": 47,
     "metadata": {},
     "output_type": "execute_result"
    }
   ],
   "source": [
    "print('Пересечение периода проведения теста с маркетинговыми активностями')\n",
    "marketing_events1 = marketing_events.query('not(Start >= @test_finish_date or Finish <=@test_start_date)')\n",
    "marketing_events1"
   ]
  },
  {
   "cell_type": "markdown",
   "metadata": {},
   "source": [
    "**Вывод:** С 07 декабря по 21 декабря, в период набора новых пользователей в тестовые группы, маркетинговых активностей не было.\n",
    "\n",
    "На диаграмме Ганта видно, что в декабре-январе проводилось 2 промо:\n",
    "- Christmas&New Year Promo с 25 декабря по 03 января в EU, N.America\n",
    "- CIS New Year Gift Lottery\tс 30 декабря по 07 января в CIS\n",
    "\n",
    "Промо наложились на вторую половину периода проведения теста. Согласно ТЗ, учитываются пользователи из EU, то есть на тестовую и контрольную группы могло повлиять Christmas&New Year Promo с 25 декабря по 03 января. Это необходимо будет учесть при оценке результатов A/B-тестирования."
   ]
  },
  {
   "cell_type": "markdown",
   "metadata": {},
   "source": [
    "### Аудитория теста \n",
    "- не пересекается с конкурирующим тестом и нет пользователей, участвующих в двух группах теста одновременно. \n",
    "- Проверка равномерности распределения по тестовым группам и правильность их формирования."
   ]
  },
  {
   "cell_type": "code",
   "execution_count": 48,
   "metadata": {},
   "outputs": [
    {
     "name": "stdout",
     "output_type": "stream",
     "text": [
      "Пользователи, которые попали в обе группы теста recommender_system_test: 0\n"
     ]
    }
   ],
   "source": [
    "#проверка на пользователей, попавших в обе группы теста recommender_system_test\n",
    "group_nunique = participants.query('ab_test== \"recommender_system_test\"').groupby('user_id').agg({'group':'nunique'}).reset_index()\n",
    "print('Пользователи, которые попали в обе группы теста recommender_system_test:',len(group_nunique.query('group > 1')))"
   ]
  },
  {
   "cell_type": "code",
   "execution_count": 49,
   "metadata": {},
   "outputs": [
    {
     "name": "stdout",
     "output_type": "stream",
     "text": [
      "Пользователи участвующие в обоих тестах: 1602\n"
     ]
    }
   ],
   "source": [
    "# проверка на пользователей, участвующих в нескольких тестах\n",
    "print('Пользователи участвующие в обоих тестах:', len(participants.groupby('user_id')['ab_test'].nunique().reset_index().query('ab_test > 1')))"
   ]
  },
  {
   "cell_type": "code",
   "execution_count": 50,
   "metadata": {},
   "outputs": [
    {
     "name": "stdout",
     "output_type": "stream",
     "text": [
      "Доля пользователей, участвующих в 2х тестах:\n"
     ]
    },
    {
     "data": {
      "text/html": [
       "<div>\n",
       "<style scoped>\n",
       "    .dataframe tbody tr th:only-of-type {\n",
       "        vertical-align: middle;\n",
       "    }\n",
       "\n",
       "    .dataframe tbody tr th {\n",
       "        vertical-align: top;\n",
       "    }\n",
       "\n",
       "    .dataframe thead th {\n",
       "        text-align: right;\n",
       "    }\n",
       "</style>\n",
       "<table border=\"1\" class=\"dataframe\">\n",
       "  <thead>\n",
       "    <tr style=\"text-align: right;\">\n",
       "      <th></th>\n",
       "      <th>ab_test</th>\n",
       "      <th>user_id</th>\n",
       "      <th>%</th>\n",
       "    </tr>\n",
       "  </thead>\n",
       "  <tbody>\n",
       "    <tr>\n",
       "      <th>0</th>\n",
       "      <td>interface_eu_test</td>\n",
       "      <td>11567</td>\n",
       "      <td>14.0</td>\n",
       "    </tr>\n",
       "    <tr>\n",
       "      <th>1</th>\n",
       "      <td>recommender_system_test</td>\n",
       "      <td>6701</td>\n",
       "      <td>24.0</td>\n",
       "    </tr>\n",
       "  </tbody>\n",
       "</table>\n",
       "</div>"
      ],
      "text/plain": [
       "                   ab_test  user_id     %\n",
       "0        interface_eu_test    11567  14.0\n",
       "1  recommender_system_test     6701  24.0"
      ]
     },
     "execution_count": 50,
     "metadata": {},
     "output_type": "execute_result"
    }
   ],
   "source": [
    "print('Доля пользователей, участвующих в 2х тестах:')\n",
    "both_tests = participants.groupby('ab_test')['user_id'].count().reset_index()\n",
    "both_tests['%']=round(len(participants.groupby('user_id')['ab_test'].nunique().reset_index().query('ab_test > 1'))/both_tests['user_id']*100)\n",
    "both_tests"
   ]
  },
  {
   "cell_type": "markdown",
   "metadata": {},
   "source": [
    "Всего в тесте `recommender_system_test` участвуют 6 701 пользователь. Из них, 1602 пользователя (24%) также попали в тест другой тест. Посмотрим как распределены данные пользователи в обеих тестах по группам А (контрольной) и Б (тестовой) "
   ]
  },
  {
   "cell_type": "code",
   "execution_count": 51,
   "metadata": {
    "scrolled": true
   },
   "outputs": [],
   "source": [
    "#пользователи, попавшие в оба теста\n",
    "both_test_participants = participants.groupby('user_id')['ab_test'].nunique().reset_index().query('ab_test > 1')['user_id']\n",
    "\n",
    "#пользователи из 2х тестов, попавшие в тестовую группу B теста interface_eu_test:\n",
    "interface = participants.query(\n",
    "    'ab_test== \"interface_eu_test\" and group == \"B\"').loc[participants['user_id'].isin(both_test_participants)]['user_id']"
   ]
  },
  {
   "cell_type": "code",
   "execution_count": 52,
   "metadata": {},
   "outputs": [
    {
     "name": "stdout",
     "output_type": "stream",
     "text": [
      "Распределние всех пользователей теста interface_eu_test по группам:\n"
     ]
    },
    {
     "data": {
      "text/html": [
       "<div>\n",
       "<style scoped>\n",
       "    .dataframe tbody tr th:only-of-type {\n",
       "        vertical-align: middle;\n",
       "    }\n",
       "\n",
       "    .dataframe tbody tr th {\n",
       "        vertical-align: top;\n",
       "    }\n",
       "\n",
       "    .dataframe thead th {\n",
       "        text-align: right;\n",
       "    }\n",
       "</style>\n",
       "<table border=\"1\" class=\"dataframe\">\n",
       "  <thead>\n",
       "    <tr style=\"text-align: right;\">\n",
       "      <th></th>\n",
       "      <th>group</th>\n",
       "      <th>ab_test</th>\n",
       "      <th>%</th>\n",
       "    </tr>\n",
       "  </thead>\n",
       "  <tbody>\n",
       "    <tr>\n",
       "      <th>0</th>\n",
       "      <td>A</td>\n",
       "      <td>5831</td>\n",
       "      <td>50.0</td>\n",
       "    </tr>\n",
       "    <tr>\n",
       "      <th>1</th>\n",
       "      <td>B</td>\n",
       "      <td>5736</td>\n",
       "      <td>50.0</td>\n",
       "    </tr>\n",
       "  </tbody>\n",
       "</table>\n",
       "</div>"
      ],
      "text/plain": [
       "  group  ab_test     %\n",
       "0     A     5831  50.0\n",
       "1     B     5736  50.0"
      ]
     },
     "metadata": {},
     "output_type": "display_data"
    },
    {
     "name": "stdout",
     "output_type": "stream",
     "text": [
      "Распределение пользователей, участвующих в 2х тестах, в interface_eu_test:\n"
     ]
    },
    {
     "data": {
      "text/html": [
       "<div>\n",
       "<style scoped>\n",
       "    .dataframe tbody tr th:only-of-type {\n",
       "        vertical-align: middle;\n",
       "    }\n",
       "\n",
       "    .dataframe tbody tr th {\n",
       "        vertical-align: top;\n",
       "    }\n",
       "\n",
       "    .dataframe thead th {\n",
       "        text-align: right;\n",
       "    }\n",
       "</style>\n",
       "<table border=\"1\" class=\"dataframe\">\n",
       "  <thead>\n",
       "    <tr style=\"text-align: right;\">\n",
       "      <th></th>\n",
       "      <th>group</th>\n",
       "      <th>user_id</th>\n",
       "      <th>%</th>\n",
       "    </tr>\n",
       "  </thead>\n",
       "  <tbody>\n",
       "    <tr>\n",
       "      <th>0</th>\n",
       "      <td>A</td>\n",
       "      <td>819</td>\n",
       "      <td>7.0</td>\n",
       "    </tr>\n",
       "    <tr>\n",
       "      <th>1</th>\n",
       "      <td>B</td>\n",
       "      <td>783</td>\n",
       "      <td>7.0</td>\n",
       "    </tr>\n",
       "  </tbody>\n",
       "</table>\n",
       "</div>"
      ],
      "text/plain": [
       "  group  user_id    %\n",
       "0     A      819  7.0\n",
       "1     B      783  7.0"
      ]
     },
     "execution_count": 52,
     "metadata": {},
     "output_type": "execute_result"
    }
   ],
   "source": [
    "print('Распределние всех пользователей теста interface_eu_test по группам:')\n",
    "interface_eu_test = participants.query('ab_test== \"interface_eu_test\"').groupby('group')['ab_test'].count().reset_index()\n",
    "interface_eu_test['%']=round(interface_eu_test['ab_test']/both_tests.loc[0, 'user_id']*100)\n",
    "display(interface_eu_test)\n",
    "\n",
    "print('Распределение пользователей, участвующих в 2х тестах, в interface_eu_test:')\n",
    "both_test_interface = participants.query(\n",
    "    'ab_test== \"interface_eu_test\"').loc[participants['user_id'].isin(both_test_participants)].groupby(\n",
    "    'group')['user_id'].count().reset_index()\n",
    "# добавление столбца с расчётом доли\n",
    "both_test_interface['%'] = round(both_test_interface['user_id']/participants.query('ab_test== \"interface_eu_test\"')['user_id'].count()*100)\n",
    "both_test_interface"
   ]
  },
  {
   "cell_type": "code",
   "execution_count": 53,
   "metadata": {},
   "outputs": [
    {
     "name": "stdout",
     "output_type": "stream",
     "text": [
      "Распределние всех пользователей теста recommender_system_test по группам:\n"
     ]
    },
    {
     "data": {
      "text/html": [
       "<div>\n",
       "<style scoped>\n",
       "    .dataframe tbody tr th:only-of-type {\n",
       "        vertical-align: middle;\n",
       "    }\n",
       "\n",
       "    .dataframe tbody tr th {\n",
       "        vertical-align: top;\n",
       "    }\n",
       "\n",
       "    .dataframe thead th {\n",
       "        text-align: right;\n",
       "    }\n",
       "</style>\n",
       "<table border=\"1\" class=\"dataframe\">\n",
       "  <thead>\n",
       "    <tr style=\"text-align: right;\">\n",
       "      <th></th>\n",
       "      <th>group</th>\n",
       "      <th>ab_test</th>\n",
       "      <th>%</th>\n",
       "    </tr>\n",
       "  </thead>\n",
       "  <tbody>\n",
       "    <tr>\n",
       "      <th>0</th>\n",
       "      <td>A</td>\n",
       "      <td>3824</td>\n",
       "      <td>57.0</td>\n",
       "    </tr>\n",
       "    <tr>\n",
       "      <th>1</th>\n",
       "      <td>B</td>\n",
       "      <td>2877</td>\n",
       "      <td>43.0</td>\n",
       "    </tr>\n",
       "  </tbody>\n",
       "</table>\n",
       "</div>"
      ],
      "text/plain": [
       "  group  ab_test     %\n",
       "0     A     3824  57.0\n",
       "1     B     2877  43.0"
      ]
     },
     "metadata": {},
     "output_type": "display_data"
    },
    {
     "name": "stdout",
     "output_type": "stream",
     "text": [
      "Распределение пользователей, участвующих в 2х тестах, в recommender_system_test:\n"
     ]
    },
    {
     "data": {
      "text/html": [
       "<div>\n",
       "<style scoped>\n",
       "    .dataframe tbody tr th:only-of-type {\n",
       "        vertical-align: middle;\n",
       "    }\n",
       "\n",
       "    .dataframe tbody tr th {\n",
       "        vertical-align: top;\n",
       "    }\n",
       "\n",
       "    .dataframe thead th {\n",
       "        text-align: right;\n",
       "    }\n",
       "</style>\n",
       "<table border=\"1\" class=\"dataframe\">\n",
       "  <thead>\n",
       "    <tr style=\"text-align: right;\">\n",
       "      <th></th>\n",
       "      <th>group</th>\n",
       "      <th>user_id</th>\n",
       "      <th>%</th>\n",
       "    </tr>\n",
       "  </thead>\n",
       "  <tbody>\n",
       "    <tr>\n",
       "      <th>0</th>\n",
       "      <td>A</td>\n",
       "      <td>921</td>\n",
       "      <td>0.14</td>\n",
       "    </tr>\n",
       "    <tr>\n",
       "      <th>1</th>\n",
       "      <td>B</td>\n",
       "      <td>681</td>\n",
       "      <td>0.10</td>\n",
       "    </tr>\n",
       "  </tbody>\n",
       "</table>\n",
       "</div>"
      ],
      "text/plain": [
       "  group  user_id     %\n",
       "0     A      921  0.14\n",
       "1     B      681  0.10"
      ]
     },
     "metadata": {},
     "output_type": "display_data"
    },
    {
     "name": "stdout",
     "output_type": "stream",
     "text": [
      "Распределение пользователей тестовой группы interface_eu_test, в тесте recommender_system_test:\n"
     ]
    },
    {
     "data": {
      "text/html": [
       "<div>\n",
       "<style scoped>\n",
       "    .dataframe tbody tr th:only-of-type {\n",
       "        vertical-align: middle;\n",
       "    }\n",
       "\n",
       "    .dataframe tbody tr th {\n",
       "        vertical-align: top;\n",
       "    }\n",
       "\n",
       "    .dataframe thead th {\n",
       "        text-align: right;\n",
       "    }\n",
       "</style>\n",
       "<table border=\"1\" class=\"dataframe\">\n",
       "  <thead>\n",
       "    <tr style=\"text-align: right;\">\n",
       "      <th></th>\n",
       "      <th>group</th>\n",
       "      <th>user_id</th>\n",
       "      <th>%</th>\n",
       "    </tr>\n",
       "  </thead>\n",
       "  <tbody>\n",
       "    <tr>\n",
       "      <th>0</th>\n",
       "      <td>A</td>\n",
       "      <td>439</td>\n",
       "      <td>56.0</td>\n",
       "    </tr>\n",
       "    <tr>\n",
       "      <th>1</th>\n",
       "      <td>B</td>\n",
       "      <td>344</td>\n",
       "      <td>44.0</td>\n",
       "    </tr>\n",
       "  </tbody>\n",
       "</table>\n",
       "</div>"
      ],
      "text/plain": [
       "  group  user_id     %\n",
       "0     A      439  56.0\n",
       "1     B      344  44.0"
      ]
     },
     "execution_count": 53,
     "metadata": {},
     "output_type": "execute_result"
    }
   ],
   "source": [
    "print('Распределние всех пользователей теста recommender_system_test по группам:')\n",
    "recommender_system_test = participants.query('ab_test== \"recommender_system_test\"').groupby('group')['ab_test'].count().reset_index()\n",
    "recommender_system_test['%']=round(recommender_system_test['ab_test']/both_tests.loc[1, 'user_id']*100)\n",
    "display(recommender_system_test)\n",
    "\n",
    "print('Распределение пользователей, участвующих в 2х тестах, в recommender_system_test:')\n",
    "#распределение пользователей в тесте 'recommender_system_test'\n",
    "both_test_recommender = participants.query(\n",
    "    'ab_test== \"recommender_system_test\"').loc[participants['user_id'].isin(both_test_participants)].groupby(\n",
    "    'group')['user_id'].count().reset_index()\n",
    "# добавление столбца с расчётом доли\n",
    "both_test_recommender['%'] = round(both_test_recommender['user_id']/participants.query('ab_test== \"recommender_system_test\"')['user_id'].count(),2)\n",
    "display(both_test_recommender)\n",
    "\n",
    "print('Распределение пользователей тестовой группы interface_eu_test, в тесте recommender_system_test:')\n",
    "recommender = participants.query('ab_test== \"recommender_system_test\"').loc[participants['user_id'].isin(interface)].groupby(\n",
    "    'group')['user_id'].count().reset_index()\n",
    "recommender['%']=round(recommender['user_id']/both_test_interface.loc[1, 'user_id']*100)\n",
    "recommender"
   ]
  },
  {
   "cell_type": "markdown",
   "metadata": {},
   "source": [
    "**Вывод:** По таблице распределения пользователей тестовой группы interface_eu_test, в тесте recommender_system_test видим, что доли (А = 56%, В = 44%) практически совпадают с общим распределением, где А = 57% и В = 43%. \n",
    "\n",
    "Таким образом, пользователи тестовой группы конкурирующего теста равномерно распределены в тесте recommender_system_test и одинаково влияют на контрольную и тестовую группы нашего теста recommender_system_test. Поэтому удалять таких пользователей не будем."
   ]
  },
  {
   "cell_type": "markdown",
   "metadata": {},
   "source": [
    "### Вывод\n",
    "\n",
    "При оценке корректности проведения теста мы увидели, что аудитория пересекается с конкурирующим тестом (1602 пользователя). Так как пользователи группы B теста изменений интерфейса равномерно распределены в нашем тесте улучшений рекомендательной системы, то они одинаково влияют на нашу контрольную и тестовые группы, поэтому решено оставить таких пользователей.\n",
    "\n",
    "Время проведения теста пересекается с маркетинговой активностью Christmas&New Year Promo, что могло повлиять на поведение пользователей с 25 декабря.\n",
    "\n",
    "Дата запуска и остановки набора новых пользователей соответствует  техническому заданию. Но при этом, до даты остановки теста, 04 января 2021г., событий не хватает — последний лог датирован 30 декабря. Возможно произошел сбой в выгрузке данных. Это также могло повлиять на результаты теста\n",
    "\n",
    "В аудиторию теста входият 15% новых пользователей из региона EU, как и заявлено в ТЗ. \n",
    "\n",
    "Количество уникальных пользователей, попавших в тест составляет 6701, что соответствует ТЗ об ожидании 6000 участников теста\n",
    "\n",
    "Количество пользователей по группам распределены неравномерно, то есть изменения смотрятся на малой тестовой выборке (в контрольно группе А 2747 пользователей, в тестовой группе В — 927 пользователей). За 14 дней с момента регистрации пользователи из группы В не показали улучшение метрик, в сравнении в контрольной группой показатели выглядят хуже. \n",
    "\n",
    "По воронке видно, что не все пользователи переходят в корзину для покупки, а могут это сделать прямо со страницы просмотра карточек товаров  "
   ]
  },
  {
   "cell_type": "markdown",
   "metadata": {},
   "source": [
    "## Исследовательский анализ данных:\n",
    "### Равномерность распределения количества событий на пользователя в выборках\n",
    "Проверим одинаково ли распределены в выборках количество событий на пользователя "
   ]
  },
  {
   "cell_type": "code",
   "execution_count": 54,
   "metadata": {},
   "outputs": [
    {
     "data": {
      "text/html": [
       "<div>\n",
       "<style scoped>\n",
       "    .dataframe tbody tr th:only-of-type {\n",
       "        vertical-align: middle;\n",
       "    }\n",
       "\n",
       "    .dataframe tbody tr th {\n",
       "        vertical-align: top;\n",
       "    }\n",
       "\n",
       "    .dataframe thead th {\n",
       "        text-align: right;\n",
       "    }\n",
       "</style>\n",
       "<table border=\"1\" class=\"dataframe\">\n",
       "  <thead>\n",
       "    <tr style=\"text-align: right;\">\n",
       "      <th></th>\n",
       "      <th>user_id</th>\n",
       "      <th>group</th>\n",
       "      <th>event_name</th>\n",
       "    </tr>\n",
       "  </thead>\n",
       "  <tbody>\n",
       "    <tr>\n",
       "      <th>0</th>\n",
       "      <td>001064FEAAB631A1</td>\n",
       "      <td>B</td>\n",
       "      <td>6</td>\n",
       "    </tr>\n",
       "    <tr>\n",
       "      <th>1</th>\n",
       "      <td>0010A1C096941592</td>\n",
       "      <td>A</td>\n",
       "      <td>12</td>\n",
       "    </tr>\n",
       "    <tr>\n",
       "      <th>2</th>\n",
       "      <td>00341D8401F0F665</td>\n",
       "      <td>A</td>\n",
       "      <td>2</td>\n",
       "    </tr>\n",
       "    <tr>\n",
       "      <th>3</th>\n",
       "      <td>003DF44D7589BBD4</td>\n",
       "      <td>A</td>\n",
       "      <td>15</td>\n",
       "    </tr>\n",
       "    <tr>\n",
       "      <th>4</th>\n",
       "      <td>00505E15A9D81546</td>\n",
       "      <td>A</td>\n",
       "      <td>5</td>\n",
       "    </tr>\n",
       "  </tbody>\n",
       "</table>\n",
       "</div>"
      ],
      "text/plain": [
       "            user_id group  event_name\n",
       "0  001064FEAAB631A1     B           6\n",
       "1  0010A1C096941592     A          12\n",
       "2  00341D8401F0F665     A           2\n",
       "3  003DF44D7589BBD4     A          15\n",
       "4  00505E15A9D81546     A           5"
      ]
     },
     "execution_count": 54,
     "metadata": {},
     "output_type": "execute_result"
    }
   ],
   "source": [
    "#количество событий пользователя групп теста\n",
    "events_per_user = test_users_merged.pivot_table(index=['user_id','group'], values = 'event_name', aggfunc='count').reset_index()\n",
    "events_per_user.head()"
   ]
  },
  {
   "cell_type": "code",
   "execution_count": 55,
   "metadata": {},
   "outputs": [
    {
     "data": {
      "application/vnd.plotly.v1+json": {
       "config": {
        "plotlyServerURL": "https://plot.ly"
       },
       "data": [
        {
         "alignmentgroup": "True",
         "bingroup": "x",
         "hovertemplate": "group=B<br>event_name=%{x}<br>count=%{y}<extra></extra>",
         "legendgroup": "B",
         "marker": {
          "color": "#B279A2",
          "pattern": {
           "shape": ""
          }
         },
         "name": "B",
         "offsetgroup": "B",
         "orientation": "v",
         "showlegend": true,
         "type": "histogram",
         "x": [
          6,
          4,
          6,
          2,
          12,
          5,
          6,
          8,
          3,
          2,
          5,
          6,
          8,
          3,
          3,
          2,
          3,
          6,
          2,
          3,
          3,
          4,
          3,
          8,
          6,
          9,
          9,
          2,
          4,
          7,
          9,
          2,
          4,
          1,
          2,
          12,
          9,
          12,
          9,
          6,
          3,
          5,
          2,
          4,
          3,
          9,
          12,
          3,
          6,
          3,
          6,
          6,
          24,
          8,
          24,
          2,
          12,
          2,
          4,
          10,
          4,
          6,
          6,
          5,
          6,
          6,
          9,
          3,
          8,
          2,
          3,
          6,
          8,
          3,
          9,
          6,
          9,
          6,
          6,
          2,
          8,
          4,
          1,
          3,
          4,
          5,
          9,
          3,
          8,
          4,
          4,
          9,
          9,
          4,
          6,
          2,
          2,
          9,
          6,
          3,
          4,
          8,
          3,
          9,
          9,
          4,
          4,
          5,
          1,
          4,
          6,
          5,
          4,
          4,
          6,
          4,
          4,
          8,
          8,
          3,
          4,
          4,
          4,
          6,
          4,
          6,
          12,
          3,
          2,
          9,
          6,
          2,
          2,
          6,
          4,
          4,
          9,
          2,
          6,
          12,
          4,
          4,
          4,
          4,
          8,
          2,
          3,
          4,
          2,
          15,
          3,
          6,
          4,
          12,
          12,
          10,
          20,
          3,
          4,
          4,
          1,
          4,
          6,
          8,
          4,
          5,
          8,
          4,
          6,
          3,
          8,
          9,
          4,
          2,
          4,
          8,
          7,
          6,
          6,
          6,
          3,
          6,
          4,
          3,
          2,
          2,
          6,
          9,
          4,
          6,
          8,
          10,
          16,
          10,
          9,
          3,
          4,
          6,
          4,
          6,
          3,
          9,
          3,
          3,
          4,
          6,
          8,
          6,
          8,
          3,
          3,
          4,
          4,
          11,
          2,
          6,
          6,
          2,
          12,
          9,
          1,
          4,
          12,
          2,
          2,
          6,
          2,
          4,
          2,
          3,
          4,
          9,
          6,
          8,
          2,
          4,
          4,
          4,
          4,
          6,
          4,
          4,
          12,
          6,
          2,
          4,
          4,
          6,
          2,
          6,
          2,
          8,
          2,
          4,
          9,
          4,
          3,
          4,
          8,
          5,
          9,
          4,
          4,
          15,
          4,
          4,
          8,
          4,
          6,
          4,
          4,
          6,
          4,
          8,
          2,
          3,
          4,
          12,
          2,
          5,
          20,
          2,
          4,
          6,
          8,
          4,
          4,
          8,
          4,
          4,
          3,
          2,
          8,
          2,
          8,
          4,
          9,
          4,
          10,
          3,
          4,
          6,
          6,
          1,
          8,
          9,
          12,
          2,
          8,
          3,
          12,
          9,
          1,
          6,
          2,
          2,
          4,
          8,
          4,
          9,
          6,
          6,
          4,
          4,
          2,
          6,
          5,
          10,
          3,
          6,
          3,
          12,
          8,
          4,
          6,
          6,
          6,
          6,
          4,
          6,
          3,
          4,
          3,
          4,
          3,
          1,
          8,
          15,
          6,
          9,
          2,
          6,
          2,
          8,
          15,
          4,
          10,
          3,
          9,
          3,
          9,
          10,
          8,
          4,
          3,
          2,
          2,
          15,
          2,
          6,
          3,
          4,
          6,
          8,
          6,
          2,
          2,
          4,
          1,
          2,
          6,
          4,
          2,
          9,
          3,
          6,
          6,
          6,
          6,
          9,
          3,
          4,
          15,
          12,
          12,
          6,
          9,
          6,
          3,
          6,
          9,
          8,
          6,
          12,
          8,
          12,
          5,
          2,
          6,
          6,
          2,
          12,
          12,
          6,
          6,
          3,
          2,
          4,
          12,
          10,
          6,
          9,
          5,
          10,
          12,
          3,
          4,
          8,
          4,
          4,
          2,
          2,
          3,
          2,
          1,
          8,
          4,
          12,
          3,
          6,
          3,
          7,
          3,
          12,
          4,
          6,
          12,
          6,
          20,
          9,
          4,
          4,
          4,
          10,
          6,
          4,
          11,
          2,
          6,
          3,
          12,
          2,
          4,
          3,
          2,
          6,
          8,
          3,
          6,
          6,
          3,
          2,
          6,
          6,
          6,
          9,
          1,
          6,
          6,
          2,
          6,
          2,
          8,
          10,
          9,
          5,
          6,
          21,
          10,
          3,
          8,
          2,
          9,
          4,
          9,
          3,
          2,
          4,
          4,
          3,
          6,
          4,
          6,
          12,
          3,
          3,
          6,
          3,
          2,
          2,
          8,
          4,
          6,
          5,
          6,
          2,
          12,
          2,
          3,
          8,
          4,
          6,
          4,
          2,
          8,
          1,
          3,
          8,
          6,
          6,
          6,
          9,
          6,
          2,
          4,
          3,
          1,
          4,
          6,
          3,
          2,
          4,
          4,
          12,
          9,
          6,
          6,
          4,
          4,
          4,
          3,
          4,
          8,
          3,
          4,
          8,
          1,
          3,
          3,
          8,
          4,
          6,
          10,
          3,
          2,
          6,
          6,
          6,
          6,
          6,
          2,
          6,
          16,
          3,
          2,
          4,
          6,
          6,
          12,
          4,
          2,
          4,
          6,
          3,
          12,
          3,
          7,
          6,
          5,
          4,
          8,
          9,
          3,
          4,
          8,
          3,
          3,
          6,
          8,
          6,
          6,
          3,
          6,
          4,
          4,
          6,
          5,
          2,
          3,
          3,
          2,
          6,
          6,
          16,
          6,
          2,
          8,
          4,
          4,
          2,
          4,
          6,
          2,
          6,
          6,
          6,
          3,
          3,
          8,
          3,
          12,
          4,
          3,
          4,
          3,
          15,
          3,
          6,
          4,
          2,
          6,
          5,
          1,
          8,
          1,
          4,
          4,
          1,
          12,
          6,
          11,
          4,
          9,
          3,
          8,
          3,
          8,
          12,
          2,
          6,
          8,
          9,
          6,
          2,
          3,
          2,
          8,
          3,
          2,
          8,
          2,
          2,
          3,
          3,
          4,
          4,
          2,
          4,
          6,
          6,
          9,
          3,
          3,
          4,
          6,
          4,
          2,
          2,
          9,
          4,
          3,
          6,
          4,
          3,
          9,
          3,
          2,
          6,
          4,
          4,
          4,
          9,
          7,
          9,
          15,
          4,
          3,
          4,
          4,
          6,
          4,
          3,
          2,
          6,
          3,
          9,
          3,
          4,
          6,
          3,
          3,
          13,
          5,
          18,
          5,
          3,
          4,
          9,
          4,
          6,
          6,
          4,
          6,
          5,
          4,
          10,
          6,
          8,
          2,
          8,
          3,
          3,
          8,
          6,
          4,
          4,
          3,
          4,
          2,
          6,
          2,
          6,
          4,
          9,
          3,
          2,
          8,
          10,
          8,
          1,
          2,
          6,
          14,
          3,
          4,
          4,
          6,
          4,
          3,
          3,
          2,
          2,
          3,
          6,
          9,
          10,
          9,
          4,
          6,
          9,
          4,
          4,
          9,
          8,
          8,
          6,
          4,
          6,
          6,
          10,
          12,
          1,
          9,
          2,
          6,
          2,
          12,
          1,
          3,
          10,
          2,
          12,
          6,
          8,
          9,
          5,
          4,
          6,
          2,
          6,
          4,
          4,
          2,
          4,
          6,
          4,
          8,
          2,
          6,
          8,
          4,
          4,
          6,
          2,
          8,
          3,
          4,
          6,
          8,
          2,
          3,
          3,
          6,
          8,
          2,
          9,
          3,
          10,
          6,
          15,
          6,
          8,
          1,
          1,
          6,
          6,
          4,
          6,
          8,
          3,
          6,
          3,
          8,
          4,
          10,
          9,
          5,
          9,
          6,
          8,
          6,
          8,
          3,
          6,
          9,
          4,
          3,
          6,
          4,
          3,
          4,
          4,
          6,
          2,
          4,
          4,
          12,
          2,
          3,
          1,
          3,
          6,
          3,
          7,
          5,
          6,
          6,
          5,
          2,
          2,
          9,
          3,
          3,
          12,
          2,
          4,
          2,
          2,
          4,
          4,
          5,
          4,
          4,
          6,
          4,
          2,
          6,
          9,
          6,
          6,
          1,
          2,
          12,
          6,
          8,
          6,
          3,
          4,
          4,
          4,
          6,
          6,
          2,
          20,
          2,
          3,
          4,
          9
         ],
         "xaxis": "x",
         "yaxis": "y"
        },
        {
         "alignmentgroup": "True",
         "bingroup": "x",
         "hovertemplate": "group=A<br>event_name=%{x}<br>count=%{y}<extra></extra>",
         "legendgroup": "A",
         "marker": {
          "color": "#72B7B2",
          "pattern": {
           "shape": ""
          }
         },
         "name": "A",
         "offsetgroup": "A",
         "orientation": "v",
         "showlegend": true,
         "type": "histogram",
         "x": [
          12,
          2,
          15,
          5,
          6,
          20,
          2,
          9,
          9,
          9,
          4,
          9,
          4,
          8,
          4,
          3,
          9,
          6,
          9,
          1,
          2,
          4,
          8,
          9,
          9,
          6,
          6,
          4,
          10,
          6,
          9,
          8,
          4,
          4,
          12,
          6,
          8,
          9,
          8,
          15,
          12,
          10,
          4,
          8,
          4,
          8,
          5,
          3,
          8,
          6,
          10,
          8,
          3,
          6,
          9,
          6,
          3,
          12,
          2,
          6,
          12,
          3,
          4,
          8,
          6,
          2,
          9,
          4,
          4,
          3,
          8,
          6,
          5,
          9,
          6,
          6,
          6,
          4,
          10,
          6,
          12,
          9,
          3,
          9,
          9,
          8,
          4,
          12,
          10,
          9,
          9,
          6,
          3,
          9,
          12,
          15,
          6,
          12,
          6,
          6,
          8,
          16,
          9,
          2,
          9,
          12,
          15,
          15,
          6,
          4,
          9,
          5,
          6,
          4,
          3,
          6,
          4,
          4,
          8,
          4,
          10,
          3,
          6,
          10,
          8,
          15,
          6,
          9,
          2,
          8,
          3,
          9,
          4,
          8,
          12,
          9,
          2,
          6,
          10,
          8,
          6,
          12,
          4,
          9,
          8,
          8,
          6,
          6,
          10,
          6,
          9,
          3,
          3,
          6,
          4,
          4,
          4,
          5,
          3,
          6,
          1,
          4,
          3,
          8,
          6,
          8,
          10,
          12,
          20,
          4,
          4,
          4,
          8,
          9,
          2,
          8,
          6,
          6,
          4,
          6,
          4,
          8,
          2,
          6,
          10,
          9,
          2,
          6,
          8,
          4,
          5,
          8,
          12,
          8,
          4,
          10,
          6,
          4,
          3,
          4,
          10,
          12,
          5,
          12,
          12,
          4,
          9,
          10,
          4,
          9,
          3,
          6,
          2,
          6,
          6,
          12,
          2,
          3,
          12,
          2,
          12,
          3,
          16,
          6,
          15,
          8,
          12,
          8,
          8,
          6,
          9,
          3,
          9,
          12,
          3,
          6,
          6,
          12,
          4,
          4,
          8,
          4,
          4,
          6,
          6,
          10,
          12,
          3,
          4,
          4,
          6,
          6,
          9,
          6,
          6,
          15,
          9,
          4,
          2,
          12,
          2,
          3,
          6,
          6,
          9,
          20,
          3,
          4,
          20,
          15,
          6,
          8,
          3,
          12,
          6,
          8,
          16,
          8,
          9,
          4,
          4,
          4,
          9,
          8,
          6,
          6,
          8,
          16,
          6,
          20,
          15,
          2,
          8,
          12,
          6,
          16,
          4,
          4,
          4,
          8,
          8,
          9,
          9,
          2,
          4,
          4,
          6,
          24,
          9,
          6,
          4,
          4,
          3,
          9,
          2,
          3,
          4,
          12,
          6,
          2,
          8,
          3,
          9,
          6,
          4,
          12,
          6,
          1,
          6,
          10,
          12,
          12,
          6,
          2,
          4,
          4,
          9,
          2,
          8,
          6,
          1,
          6,
          12,
          4,
          2,
          9,
          8,
          3,
          9,
          4,
          18,
          8,
          6,
          15,
          2,
          9,
          6,
          3,
          9,
          4,
          12,
          6,
          2,
          3,
          6,
          6,
          5,
          3,
          6,
          2,
          6,
          4,
          8,
          4,
          8,
          8,
          6,
          6,
          8,
          6,
          10,
          12,
          4,
          9,
          4,
          1,
          4,
          6,
          4,
          8,
          9,
          16,
          3,
          9,
          8,
          2,
          3,
          3,
          12,
          15,
          2,
          4,
          2,
          8,
          3,
          6,
          2,
          1,
          4,
          9,
          15,
          6,
          8,
          3,
          12,
          4,
          6,
          9,
          6,
          12,
          12,
          8,
          9,
          4,
          3,
          8,
          9,
          12,
          4,
          9,
          9,
          3,
          4,
          8,
          8,
          9,
          6,
          6,
          12,
          8,
          6,
          6,
          4,
          6,
          15,
          8,
          12,
          3,
          8,
          2,
          4,
          15,
          8,
          6,
          6,
          8,
          6,
          4,
          6,
          12,
          8,
          10,
          20,
          4,
          6,
          6,
          8,
          6,
          4,
          8,
          3,
          2,
          6,
          3,
          3,
          5,
          8,
          12,
          10,
          5,
          9,
          6,
          6,
          6,
          6,
          6,
          6,
          4,
          12,
          6,
          12,
          4,
          4,
          3,
          6,
          6,
          3,
          6,
          20,
          12,
          6,
          6,
          12,
          6,
          9,
          3,
          3,
          8,
          6,
          15,
          6,
          8,
          6,
          8,
          8,
          3,
          6,
          8,
          3,
          9,
          6,
          2,
          15,
          3,
          12,
          6,
          9,
          6,
          15,
          8,
          6,
          4,
          4,
          9,
          8,
          15,
          6,
          5,
          6,
          6,
          8,
          4,
          9,
          8,
          9,
          9,
          15,
          2,
          3,
          6,
          6,
          4,
          8,
          12,
          4,
          8,
          2,
          5,
          8,
          12,
          8,
          3,
          5,
          8,
          12,
          6,
          4,
          4,
          4,
          4,
          10,
          6,
          12,
          9,
          10,
          6,
          9,
          6,
          4,
          2,
          15,
          1,
          15,
          4,
          6,
          6,
          10,
          3,
          9,
          12,
          6,
          8,
          5,
          9,
          16,
          5,
          10,
          15,
          4,
          12,
          12,
          6,
          18,
          2,
          6,
          6,
          2,
          6,
          4,
          4,
          8,
          6,
          12,
          12,
          2,
          3,
          10,
          20,
          3,
          6,
          2,
          8,
          1,
          4,
          4,
          4,
          2,
          6,
          12,
          6,
          4,
          8,
          16,
          3,
          5,
          4,
          4,
          3,
          4,
          9,
          3,
          8,
          8,
          15,
          3,
          6,
          4,
          1,
          4,
          12,
          6,
          12,
          4,
          6,
          9,
          4,
          12,
          3,
          9,
          12,
          9,
          12,
          4,
          8,
          6,
          9,
          8,
          6,
          2,
          3,
          6,
          6,
          6,
          12,
          8,
          12,
          9,
          9,
          6,
          3,
          6,
          6,
          6,
          6,
          3,
          9,
          4,
          12,
          4,
          6,
          14,
          2,
          12,
          8,
          2,
          6,
          18,
          6,
          9,
          3,
          2,
          2,
          6,
          8,
          8,
          4,
          4,
          8,
          4,
          4,
          6,
          1,
          2,
          9,
          1,
          12,
          9,
          6,
          12,
          4,
          8,
          8,
          3,
          6,
          3,
          4,
          2,
          8,
          6,
          12,
          4,
          6,
          8,
          6,
          2,
          15,
          3,
          3,
          6,
          8,
          15,
          4,
          9,
          9,
          8,
          9,
          2,
          2,
          6,
          4,
          6,
          3,
          16,
          9,
          2,
          2,
          6,
          15,
          6,
          8,
          9,
          6,
          8,
          9,
          9,
          3,
          9,
          2,
          9,
          4,
          9,
          8,
          6,
          8,
          16,
          12,
          1,
          4,
          6,
          8,
          12,
          4,
          3,
          15,
          3,
          6,
          15,
          8,
          6,
          20,
          6,
          4,
          6,
          12,
          12,
          6,
          16,
          6,
          3,
          2,
          8,
          4,
          8,
          9,
          8,
          4,
          9,
          9,
          10,
          6,
          4,
          12,
          4,
          4,
          4,
          5,
          9,
          6,
          9,
          9,
          6,
          3,
          2,
          12,
          8,
          3,
          9,
          5,
          12,
          4,
          12,
          2,
          9,
          6,
          4,
          10,
          12,
          5,
          3,
          8,
          4,
          12,
          12,
          2,
          12,
          4,
          4,
          8,
          6,
          12,
          4,
          10,
          12,
          6,
          2,
          4,
          9,
          4,
          12,
          4,
          6,
          6,
          2,
          10,
          12,
          9,
          15,
          2,
          6,
          6,
          4,
          6,
          12,
          5,
          6,
          6,
          2,
          4,
          9,
          12,
          4,
          3,
          4,
          4,
          8,
          4,
          4,
          2,
          2,
          6,
          9,
          6,
          6,
          6,
          9,
          3,
          2,
          3,
          6,
          2,
          6,
          6,
          6,
          6,
          4,
          4,
          6,
          2,
          2,
          6,
          9,
          9,
          4,
          12,
          10,
          4,
          8,
          9,
          8,
          4,
          12,
          6,
          3,
          4,
          2,
          6,
          16,
          9,
          12,
          12,
          6,
          1,
          8,
          8,
          4,
          6,
          4,
          12,
          8,
          8,
          3,
          4,
          12,
          1,
          9,
          4,
          12,
          8,
          4,
          2,
          9,
          4,
          6,
          10,
          6,
          9,
          9,
          8,
          9,
          3,
          9,
          6,
          12,
          1,
          9,
          6,
          1,
          9,
          3,
          6,
          8,
          2,
          9,
          8,
          9,
          6,
          2,
          6,
          3,
          8,
          3,
          5,
          4,
          8,
          8,
          4,
          4,
          12,
          6,
          10,
          10,
          8,
          12,
          12,
          9,
          8,
          4,
          3,
          15,
          3,
          6,
          2,
          4,
          8,
          10,
          18,
          3,
          6,
          10,
          4,
          8,
          8,
          8,
          3,
          3,
          9,
          2,
          8,
          8,
          9,
          15,
          14,
          6,
          8,
          6,
          4,
          6,
          3,
          4,
          8,
          4,
          12,
          14,
          4,
          9,
          8,
          12,
          4,
          9,
          12,
          8,
          6,
          12,
          3,
          6,
          3,
          12,
          2,
          4,
          4,
          8,
          4,
          12,
          18,
          9,
          4,
          2,
          8,
          6,
          5,
          10,
          16,
          9,
          4,
          8,
          4,
          6,
          4,
          2,
          6,
          12,
          2,
          8,
          12,
          12,
          6,
          6,
          12,
          6,
          4,
          9,
          6,
          12,
          2,
          3,
          8,
          6,
          8,
          6,
          6,
          3,
          4,
          4,
          4,
          6,
          15,
          4,
          16,
          4,
          3,
          6,
          3,
          10,
          3,
          9,
          4,
          2,
          12,
          8,
          6,
          6,
          9,
          12,
          6,
          4,
          12,
          9,
          3,
          4,
          4,
          15,
          8,
          9,
          6,
          9,
          6,
          4,
          2,
          6,
          4,
          12,
          2,
          4,
          2,
          6,
          3,
          6,
          3,
          6,
          4,
          8,
          4,
          3,
          9,
          4,
          20,
          10,
          12,
          3,
          2,
          6,
          12,
          6,
          6,
          15,
          6,
          12,
          8,
          9,
          10,
          10,
          5,
          6,
          9,
          2,
          9,
          8,
          1,
          4,
          3,
          6,
          9,
          9,
          6,
          8,
          21,
          2,
          3,
          2,
          15,
          12,
          2,
          3,
          2,
          18,
          10,
          6,
          9,
          5,
          6,
          9,
          6,
          6,
          4,
          9,
          4,
          2,
          3,
          8,
          3,
          6,
          6,
          2,
          6,
          5,
          4,
          18,
          12,
          4,
          14,
          6,
          9,
          3,
          9,
          6,
          8,
          4,
          6,
          6,
          10,
          12,
          5,
          12,
          20,
          9,
          9,
          4,
          7,
          5,
          3,
          12,
          4,
          3,
          6,
          9,
          8,
          12,
          9,
          12,
          3,
          8,
          12,
          3,
          9,
          6,
          15,
          6,
          9,
          12,
          3,
          3,
          3,
          2,
          3,
          4,
          8,
          2,
          4,
          6,
          3,
          4,
          3,
          6,
          9,
          6,
          4,
          11,
          6,
          12,
          6,
          20,
          10,
          3,
          6,
          9,
          1,
          15,
          6,
          5,
          8,
          12,
          6,
          12,
          15,
          2,
          12,
          9,
          4,
          10,
          12,
          12,
          4,
          3,
          6,
          4,
          20,
          9,
          6,
          12,
          8,
          3,
          3,
          2,
          8,
          6,
          3,
          2,
          6,
          6,
          12,
          10,
          2,
          2,
          4,
          6,
          6,
          5,
          2,
          4,
          6,
          6,
          3,
          2,
          3,
          8,
          6,
          9,
          12,
          6,
          4,
          8,
          1,
          6,
          4,
          2,
          2,
          14,
          2,
          6,
          4,
          8,
          6,
          1,
          6,
          3,
          8,
          2,
          4,
          3,
          4,
          6,
          4,
          4,
          4,
          6,
          12,
          9,
          9,
          12,
          2,
          6,
          3,
          8,
          6,
          6,
          10,
          3,
          4,
          4,
          9,
          12,
          4,
          12,
          3,
          3,
          4,
          8,
          12,
          2,
          4,
          8,
          6,
          8,
          4,
          4,
          8,
          4,
          10,
          20,
          6,
          4,
          1,
          10,
          8,
          6,
          6,
          9,
          20,
          6,
          4,
          9,
          12,
          10,
          6,
          3,
          4,
          4,
          3,
          3,
          4,
          12,
          2,
          12,
          2,
          9,
          6,
          6,
          6,
          2,
          12,
          6,
          12,
          2,
          6,
          4,
          18,
          9,
          6,
          8,
          8,
          4,
          6,
          6,
          3,
          6,
          16,
          16,
          4,
          3,
          8,
          16,
          9,
          12,
          3,
          10,
          14,
          9,
          6,
          8,
          8,
          3,
          3,
          4,
          8,
          2,
          4,
          12,
          2,
          4,
          8,
          4,
          2,
          6,
          3,
          8,
          4,
          8,
          4,
          2,
          4,
          6,
          4,
          6,
          3,
          4,
          4,
          18,
          9,
          8,
          1,
          4,
          10,
          4,
          9,
          3,
          6,
          9,
          9,
          6,
          8,
          9,
          2,
          4,
          3,
          6,
          2,
          6,
          12,
          3,
          12,
          12,
          6,
          8,
          18,
          2,
          4,
          6,
          1,
          8,
          2,
          3,
          3,
          8,
          3,
          12,
          16,
          13,
          6,
          4,
          12,
          4,
          8,
          4,
          15,
          8,
          2,
          4,
          12,
          4,
          4,
          8,
          12,
          6,
          10,
          9,
          2,
          4,
          6,
          6,
          9,
          1,
          8,
          8,
          9,
          8,
          6,
          2,
          2,
          12,
          16,
          6,
          9,
          3,
          6,
          3,
          3,
          8,
          9,
          4,
          6,
          9,
          6,
          9,
          9,
          10,
          6,
          4,
          4,
          9,
          6,
          6,
          8,
          6,
          6,
          2,
          4,
          6,
          8,
          3,
          2,
          6,
          4,
          6,
          4,
          6,
          2,
          9,
          2,
          2,
          3,
          8,
          4,
          4,
          9,
          8,
          2,
          4,
          9,
          5,
          12,
          9,
          20,
          9,
          6,
          4,
          2,
          6,
          3,
          12,
          9,
          6,
          4,
          15,
          5,
          18,
          9,
          4,
          2,
          6,
          9,
          12,
          12,
          6,
          4,
          6,
          12,
          6,
          9,
          15,
          8,
          15,
          19,
          3,
          3,
          6,
          4,
          16,
          12,
          4,
          4,
          9,
          10,
          3,
          12,
          6,
          6,
          12,
          9,
          10,
          10,
          6,
          6,
          4,
          5,
          16,
          6,
          4,
          8,
          9,
          4,
          4,
          9,
          3,
          12,
          6,
          4,
          2,
          9,
          4,
          8,
          8,
          6,
          4,
          2,
          4,
          12,
          6,
          4,
          6,
          3,
          4,
          3,
          6,
          3,
          3,
          6,
          15,
          12,
          4,
          6,
          6,
          9,
          10,
          6,
          2,
          10,
          4,
          6,
          8,
          10,
          15,
          8,
          3,
          5,
          6,
          15,
          2,
          2,
          4,
          4,
          6,
          1,
          2,
          6,
          12,
          12,
          6,
          4,
          9,
          6,
          4,
          15,
          10,
          4,
          9,
          4,
          4,
          2,
          20,
          6,
          2,
          6,
          12,
          6,
          20,
          6,
          9,
          4,
          6,
          15,
          15,
          4,
          18,
          11,
          8,
          6,
          3,
          8,
          4,
          9,
          18,
          4,
          4,
          9,
          10,
          8,
          15,
          6,
          8,
          2,
          4,
          14,
          8,
          3,
          4,
          4,
          12,
          15,
          1,
          6,
          9,
          8,
          8,
          6,
          4,
          6,
          3,
          15,
          6,
          6,
          4,
          4,
          4,
          14,
          6,
          4,
          9,
          2,
          6,
          6,
          12,
          6,
          3,
          6,
          10,
          15,
          6,
          4,
          4,
          9,
          12,
          16,
          10,
          4,
          4,
          2,
          8,
          8,
          9,
          12,
          6,
          6,
          16,
          16,
          9,
          6,
          6,
          12,
          6,
          2,
          3,
          9,
          10,
          6,
          4,
          2,
          6,
          10,
          6,
          12,
          9,
          2,
          6,
          6,
          8,
          6,
          16,
          8,
          6,
          12,
          10,
          10,
          4,
          2,
          2,
          6,
          4,
          8,
          12,
          4,
          20,
          8,
          6,
          6,
          12,
          8,
          6,
          16,
          9,
          4,
          3,
          5,
          6,
          3,
          4,
          9,
          6,
          4,
          6,
          9,
          6,
          12,
          12,
          10,
          15,
          4,
          9,
          6,
          6,
          10,
          6,
          2,
          4,
          8,
          10,
          10,
          3,
          4,
          1,
          10,
          6,
          5,
          8,
          8,
          3,
          12,
          6,
          12,
          6,
          9,
          8,
          2,
          9,
          15,
          8,
          4,
          6,
          9,
          2,
          3,
          12,
          6,
          2,
          3,
          6,
          6,
          4,
          4,
          6,
          4,
          3,
          6,
          6,
          8,
          10,
          15,
          3,
          4,
          4,
          6,
          9,
          14,
          8,
          12,
          6,
          6,
          3,
          6,
          15,
          4,
          6,
          4,
          15,
          6,
          10,
          6,
          4,
          4,
          9,
          12,
          2,
          2,
          6,
          6,
          8,
          2,
          8,
          4,
          3,
          3,
          12,
          10,
          15,
          5,
          4,
          9,
          12,
          3,
          4,
          8,
          9,
          4,
          4,
          12,
          3,
          2,
          3,
          6,
          10,
          4,
          6,
          15,
          4,
          4,
          2,
          4,
          15,
          15,
          15,
          3,
          2,
          8,
          4,
          8,
          9,
          8,
          12,
          6,
          15,
          21,
          4,
          8,
          6,
          6,
          12,
          8,
          8,
          6,
          4,
          6,
          15,
          6,
          12,
          16,
          4,
          6,
          8,
          8,
          5,
          8,
          20,
          18,
          8,
          12,
          8,
          6,
          4,
          6,
          4,
          5,
          8,
          4,
          4,
          8,
          4,
          5,
          9,
          10,
          12,
          4,
          4,
          4,
          6,
          4,
          4,
          1,
          3,
          8,
          8,
          6,
          15,
          8,
          10,
          4,
          8,
          8,
          4,
          3,
          9,
          9,
          6,
          12,
          8,
          4,
          6,
          6,
          12,
          3,
          4,
          6,
          3,
          6,
          6,
          6,
          6,
          4,
          20,
          6,
          2,
          18,
          5,
          6,
          4,
          5,
          6,
          8,
          3,
          20,
          9,
          12,
          8,
          4,
          9,
          6,
          4,
          2,
          4,
          8,
          6,
          6,
          2,
          2,
          6,
          4,
          6,
          9,
          3,
          8,
          3,
          4,
          4,
          9,
          2,
          8,
          9,
          6,
          3,
          6,
          9,
          6,
          6,
          9,
          6,
          16,
          8,
          10,
          8,
          3,
          4,
          8,
          9,
          12,
          9,
          4,
          9,
          1,
          6,
          8,
          6,
          9,
          4,
          6,
          6,
          8,
          2,
          2,
          6,
          9,
          12,
          2,
          6,
          16,
          9,
          4,
          6,
          3,
          6,
          12,
          2,
          8,
          3,
          6,
          3,
          18,
          6,
          12,
          6,
          4,
          6,
          12,
          8,
          8,
          2,
          3,
          12,
          4,
          4,
          12,
          2,
          6,
          6,
          6,
          8,
          6,
          9,
          6,
          6,
          12,
          1,
          3,
          8,
          10,
          6,
          12,
          8,
          2,
          4,
          9,
          4,
          12,
          4,
          4,
          6,
          9,
          1,
          6,
          12,
          8,
          2,
          4,
          9,
          18,
          6,
          8,
          12,
          12,
          9,
          8,
          4,
          15,
          4,
          6,
          3,
          1,
          4,
          8,
          12,
          12,
          6,
          6,
          24,
          6,
          8,
          6,
          2,
          8,
          6,
          9,
          6,
          4,
          5,
          3,
          6,
          6,
          2,
          8,
          4,
          6,
          9,
          5,
          2,
          9,
          8,
          9,
          2,
          12,
          4,
          6,
          6,
          6,
          6,
          6,
          8,
          4,
          2,
          1,
          2,
          4,
          8,
          4,
          6,
          12,
          1,
          4,
          2,
          2,
          9,
          5,
          12,
          12,
          3,
          9,
          6,
          6,
          9,
          6,
          4,
          4,
          6,
          4,
          2,
          6,
          8,
          4,
          6,
          12,
          6,
          10,
          2,
          2,
          4,
          8,
          4,
          12,
          6,
          6,
          3,
          12,
          9,
          12,
          2,
          4,
          15,
          6,
          3,
          10,
          2,
          4,
          4,
          12,
          4,
          12,
          4,
          6,
          10,
          2,
          6,
          15,
          6,
          12,
          4,
          2,
          6,
          6,
          4,
          12,
          15,
          4,
          6,
          12,
          16,
          6,
          9,
          4,
          4,
          6,
          18,
          4,
          6,
          9,
          2,
          3,
          6,
          8,
          15,
          6,
          16,
          12,
          4,
          1,
          8,
          2,
          3,
          4,
          8,
          6,
          6,
          8,
          8,
          9,
          6,
          9,
          3,
          15,
          6,
          9,
          6,
          4,
          6,
          12,
          6,
          6,
          4,
          8,
          4,
          12,
          12,
          1,
          6,
          6,
          6,
          4,
          4,
          6,
          6,
          12,
          6,
          9,
          4,
          3,
          6,
          6,
          12,
          2,
          9,
          8,
          12,
          16,
          8,
          4,
          10,
          3,
          6,
          6,
          12,
          6,
          3,
          6,
          4,
          3,
          4,
          15,
          4,
          6,
          12,
          6,
          20,
          6,
          6,
          12,
          6,
          9,
          3,
          6,
          6,
          3,
          2,
          3,
          2,
          4,
          3,
          18,
          4,
          2,
          3,
          6,
          4,
          8,
          6,
          6,
          4,
          6,
          2,
          1,
          4,
          9,
          2,
          8,
          12,
          10,
          4,
          2,
          8,
          9,
          16,
          9,
          3,
          4,
          4,
          8,
          6,
          4,
          6,
          3,
          8,
          3,
          8,
          6,
          3,
          2,
          6,
          3,
          6,
          3,
          3,
          15,
          6,
          9,
          9,
          4,
          8,
          9,
          2,
          4,
          6,
          3,
          2,
          4,
          6,
          2,
          18,
          3,
          6,
          8,
          9,
          9,
          12,
          9,
          6,
          6,
          6,
          8,
          6,
          3,
          6,
          9,
          6,
          2,
          3,
          6,
          3,
          8,
          6,
          6,
          6,
          3,
          9,
          4,
          2,
          6,
          12,
          2,
          4,
          2,
          6,
          4,
          6,
          4,
          3,
          2,
          15,
          6,
          4,
          6,
          6,
          2,
          8,
          9,
          6,
          12,
          6,
          6,
          9,
          6,
          6,
          9,
          2,
          2,
          4,
          4,
          8,
          6,
          9,
          8,
          6,
          8,
          8,
          6,
          9,
          6,
          6,
          2,
          6,
          2,
          9,
          8,
          8,
          8,
          3,
          2,
          9,
          6,
          3,
          12,
          15,
          3,
          10,
          10,
          4,
          12,
          12,
          12,
          12,
          9,
          9,
          6,
          15,
          8,
          15,
          2,
          4,
          3,
          3,
          4,
          3,
          8,
          5,
          1,
          9,
          6,
          8,
          4,
          9,
          4,
          4,
          4,
          4,
          8,
          4,
          9,
          6,
          6,
          6,
          6,
          4,
          9,
          6,
          15,
          6,
          9,
          8,
          10,
          9,
          9,
          6,
          8,
          2,
          2,
          3,
          8,
          2,
          8,
          6,
          6,
          6,
          10,
          8,
          4,
          8,
          4,
          3,
          3,
          6,
          6,
          4,
          3,
          8,
          4,
          8,
          14,
          10,
          20,
          12,
          4,
          6,
          9,
          9,
          4,
          4,
          12,
          8,
          6,
          12,
          6,
          12,
          12,
          15,
          2,
          8,
          8,
          20,
          6,
          12,
          3,
          8,
          6,
          6,
          9,
          8,
          9,
          4,
          4,
          6,
          2,
          6,
          9,
          12,
          6,
          6,
          12,
          3,
          4,
          2,
          1,
          6,
          4,
          4,
          8,
          4,
          6,
          8,
          8,
          8,
          4,
          6,
          9,
          12,
          2,
          8,
          4,
          3,
          16,
          12,
          3,
          3,
          4,
          8,
          3,
          6,
          1,
          9,
          6,
          9,
          12,
          6,
          9,
          10,
          4,
          4,
          4,
          4,
          12,
          6,
          10,
          9,
          8,
          6
         ],
         "xaxis": "x",
         "yaxis": "y"
        }
       ],
       "layout": {
        "barmode": "relative",
        "legend": {
         "title": {
          "text": "group"
         },
         "tracegroupgap": 0
        },
        "margin": {
         "t": 60
        },
        "template": {
         "data": {
          "bar": [
           {
            "error_x": {
             "color": "#2a3f5f"
            },
            "error_y": {
             "color": "#2a3f5f"
            },
            "marker": {
             "line": {
              "color": "#E5ECF6",
              "width": 0.5
             },
             "pattern": {
              "fillmode": "overlay",
              "size": 10,
              "solidity": 0.2
             }
            },
            "type": "bar"
           }
          ],
          "barpolar": [
           {
            "marker": {
             "line": {
              "color": "#E5ECF6",
              "width": 0.5
             },
             "pattern": {
              "fillmode": "overlay",
              "size": 10,
              "solidity": 0.2
             }
            },
            "type": "barpolar"
           }
          ],
          "carpet": [
           {
            "aaxis": {
             "endlinecolor": "#2a3f5f",
             "gridcolor": "white",
             "linecolor": "white",
             "minorgridcolor": "white",
             "startlinecolor": "#2a3f5f"
            },
            "baxis": {
             "endlinecolor": "#2a3f5f",
             "gridcolor": "white",
             "linecolor": "white",
             "minorgridcolor": "white",
             "startlinecolor": "#2a3f5f"
            },
            "type": "carpet"
           }
          ],
          "choropleth": [
           {
            "colorbar": {
             "outlinewidth": 0,
             "ticks": ""
            },
            "type": "choropleth"
           }
          ],
          "contour": [
           {
            "colorbar": {
             "outlinewidth": 0,
             "ticks": ""
            },
            "colorscale": [
             [
              0,
              "#0d0887"
             ],
             [
              0.1111111111111111,
              "#46039f"
             ],
             [
              0.2222222222222222,
              "#7201a8"
             ],
             [
              0.3333333333333333,
              "#9c179e"
             ],
             [
              0.4444444444444444,
              "#bd3786"
             ],
             [
              0.5555555555555556,
              "#d8576b"
             ],
             [
              0.6666666666666666,
              "#ed7953"
             ],
             [
              0.7777777777777778,
              "#fb9f3a"
             ],
             [
              0.8888888888888888,
              "#fdca26"
             ],
             [
              1,
              "#f0f921"
             ]
            ],
            "type": "contour"
           }
          ],
          "contourcarpet": [
           {
            "colorbar": {
             "outlinewidth": 0,
             "ticks": ""
            },
            "type": "contourcarpet"
           }
          ],
          "heatmap": [
           {
            "colorbar": {
             "outlinewidth": 0,
             "ticks": ""
            },
            "colorscale": [
             [
              0,
              "#0d0887"
             ],
             [
              0.1111111111111111,
              "#46039f"
             ],
             [
              0.2222222222222222,
              "#7201a8"
             ],
             [
              0.3333333333333333,
              "#9c179e"
             ],
             [
              0.4444444444444444,
              "#bd3786"
             ],
             [
              0.5555555555555556,
              "#d8576b"
             ],
             [
              0.6666666666666666,
              "#ed7953"
             ],
             [
              0.7777777777777778,
              "#fb9f3a"
             ],
             [
              0.8888888888888888,
              "#fdca26"
             ],
             [
              1,
              "#f0f921"
             ]
            ],
            "type": "heatmap"
           }
          ],
          "heatmapgl": [
           {
            "colorbar": {
             "outlinewidth": 0,
             "ticks": ""
            },
            "colorscale": [
             [
              0,
              "#0d0887"
             ],
             [
              0.1111111111111111,
              "#46039f"
             ],
             [
              0.2222222222222222,
              "#7201a8"
             ],
             [
              0.3333333333333333,
              "#9c179e"
             ],
             [
              0.4444444444444444,
              "#bd3786"
             ],
             [
              0.5555555555555556,
              "#d8576b"
             ],
             [
              0.6666666666666666,
              "#ed7953"
             ],
             [
              0.7777777777777778,
              "#fb9f3a"
             ],
             [
              0.8888888888888888,
              "#fdca26"
             ],
             [
              1,
              "#f0f921"
             ]
            ],
            "type": "heatmapgl"
           }
          ],
          "histogram": [
           {
            "marker": {
             "pattern": {
              "fillmode": "overlay",
              "size": 10,
              "solidity": 0.2
             }
            },
            "type": "histogram"
           }
          ],
          "histogram2d": [
           {
            "colorbar": {
             "outlinewidth": 0,
             "ticks": ""
            },
            "colorscale": [
             [
              0,
              "#0d0887"
             ],
             [
              0.1111111111111111,
              "#46039f"
             ],
             [
              0.2222222222222222,
              "#7201a8"
             ],
             [
              0.3333333333333333,
              "#9c179e"
             ],
             [
              0.4444444444444444,
              "#bd3786"
             ],
             [
              0.5555555555555556,
              "#d8576b"
             ],
             [
              0.6666666666666666,
              "#ed7953"
             ],
             [
              0.7777777777777778,
              "#fb9f3a"
             ],
             [
              0.8888888888888888,
              "#fdca26"
             ],
             [
              1,
              "#f0f921"
             ]
            ],
            "type": "histogram2d"
           }
          ],
          "histogram2dcontour": [
           {
            "colorbar": {
             "outlinewidth": 0,
             "ticks": ""
            },
            "colorscale": [
             [
              0,
              "#0d0887"
             ],
             [
              0.1111111111111111,
              "#46039f"
             ],
             [
              0.2222222222222222,
              "#7201a8"
             ],
             [
              0.3333333333333333,
              "#9c179e"
             ],
             [
              0.4444444444444444,
              "#bd3786"
             ],
             [
              0.5555555555555556,
              "#d8576b"
             ],
             [
              0.6666666666666666,
              "#ed7953"
             ],
             [
              0.7777777777777778,
              "#fb9f3a"
             ],
             [
              0.8888888888888888,
              "#fdca26"
             ],
             [
              1,
              "#f0f921"
             ]
            ],
            "type": "histogram2dcontour"
           }
          ],
          "mesh3d": [
           {
            "colorbar": {
             "outlinewidth": 0,
             "ticks": ""
            },
            "type": "mesh3d"
           }
          ],
          "parcoords": [
           {
            "line": {
             "colorbar": {
              "outlinewidth": 0,
              "ticks": ""
             }
            },
            "type": "parcoords"
           }
          ],
          "pie": [
           {
            "automargin": true,
            "type": "pie"
           }
          ],
          "scatter": [
           {
            "marker": {
             "colorbar": {
              "outlinewidth": 0,
              "ticks": ""
             }
            },
            "type": "scatter"
           }
          ],
          "scatter3d": [
           {
            "line": {
             "colorbar": {
              "outlinewidth": 0,
              "ticks": ""
             }
            },
            "marker": {
             "colorbar": {
              "outlinewidth": 0,
              "ticks": ""
             }
            },
            "type": "scatter3d"
           }
          ],
          "scattercarpet": [
           {
            "marker": {
             "colorbar": {
              "outlinewidth": 0,
              "ticks": ""
             }
            },
            "type": "scattercarpet"
           }
          ],
          "scattergeo": [
           {
            "marker": {
             "colorbar": {
              "outlinewidth": 0,
              "ticks": ""
             }
            },
            "type": "scattergeo"
           }
          ],
          "scattergl": [
           {
            "marker": {
             "colorbar": {
              "outlinewidth": 0,
              "ticks": ""
             }
            },
            "type": "scattergl"
           }
          ],
          "scattermapbox": [
           {
            "marker": {
             "colorbar": {
              "outlinewidth": 0,
              "ticks": ""
             }
            },
            "type": "scattermapbox"
           }
          ],
          "scatterpolar": [
           {
            "marker": {
             "colorbar": {
              "outlinewidth": 0,
              "ticks": ""
             }
            },
            "type": "scatterpolar"
           }
          ],
          "scatterpolargl": [
           {
            "marker": {
             "colorbar": {
              "outlinewidth": 0,
              "ticks": ""
             }
            },
            "type": "scatterpolargl"
           }
          ],
          "scatterternary": [
           {
            "marker": {
             "colorbar": {
              "outlinewidth": 0,
              "ticks": ""
             }
            },
            "type": "scatterternary"
           }
          ],
          "surface": [
           {
            "colorbar": {
             "outlinewidth": 0,
             "ticks": ""
            },
            "colorscale": [
             [
              0,
              "#0d0887"
             ],
             [
              0.1111111111111111,
              "#46039f"
             ],
             [
              0.2222222222222222,
              "#7201a8"
             ],
             [
              0.3333333333333333,
              "#9c179e"
             ],
             [
              0.4444444444444444,
              "#bd3786"
             ],
             [
              0.5555555555555556,
              "#d8576b"
             ],
             [
              0.6666666666666666,
              "#ed7953"
             ],
             [
              0.7777777777777778,
              "#fb9f3a"
             ],
             [
              0.8888888888888888,
              "#fdca26"
             ],
             [
              1,
              "#f0f921"
             ]
            ],
            "type": "surface"
           }
          ],
          "table": [
           {
            "cells": {
             "fill": {
              "color": "#EBF0F8"
             },
             "line": {
              "color": "white"
             }
            },
            "header": {
             "fill": {
              "color": "#C8D4E3"
             },
             "line": {
              "color": "white"
             }
            },
            "type": "table"
           }
          ]
         },
         "layout": {
          "annotationdefaults": {
           "arrowcolor": "#2a3f5f",
           "arrowhead": 0,
           "arrowwidth": 1
          },
          "autotypenumbers": "strict",
          "coloraxis": {
           "colorbar": {
            "outlinewidth": 0,
            "ticks": ""
           }
          },
          "colorscale": {
           "diverging": [
            [
             0,
             "#8e0152"
            ],
            [
             0.1,
             "#c51b7d"
            ],
            [
             0.2,
             "#de77ae"
            ],
            [
             0.3,
             "#f1b6da"
            ],
            [
             0.4,
             "#fde0ef"
            ],
            [
             0.5,
             "#f7f7f7"
            ],
            [
             0.6,
             "#e6f5d0"
            ],
            [
             0.7,
             "#b8e186"
            ],
            [
             0.8,
             "#7fbc41"
            ],
            [
             0.9,
             "#4d9221"
            ],
            [
             1,
             "#276419"
            ]
           ],
           "sequential": [
            [
             0,
             "#0d0887"
            ],
            [
             0.1111111111111111,
             "#46039f"
            ],
            [
             0.2222222222222222,
             "#7201a8"
            ],
            [
             0.3333333333333333,
             "#9c179e"
            ],
            [
             0.4444444444444444,
             "#bd3786"
            ],
            [
             0.5555555555555556,
             "#d8576b"
            ],
            [
             0.6666666666666666,
             "#ed7953"
            ],
            [
             0.7777777777777778,
             "#fb9f3a"
            ],
            [
             0.8888888888888888,
             "#fdca26"
            ],
            [
             1,
             "#f0f921"
            ]
           ],
           "sequentialminus": [
            [
             0,
             "#0d0887"
            ],
            [
             0.1111111111111111,
             "#46039f"
            ],
            [
             0.2222222222222222,
             "#7201a8"
            ],
            [
             0.3333333333333333,
             "#9c179e"
            ],
            [
             0.4444444444444444,
             "#bd3786"
            ],
            [
             0.5555555555555556,
             "#d8576b"
            ],
            [
             0.6666666666666666,
             "#ed7953"
            ],
            [
             0.7777777777777778,
             "#fb9f3a"
            ],
            [
             0.8888888888888888,
             "#fdca26"
            ],
            [
             1,
             "#f0f921"
            ]
           ]
          },
          "colorway": [
           "#636efa",
           "#EF553B",
           "#00cc96",
           "#ab63fa",
           "#FFA15A",
           "#19d3f3",
           "#FF6692",
           "#B6E880",
           "#FF97FF",
           "#FECB52"
          ],
          "font": {
           "color": "#2a3f5f"
          },
          "geo": {
           "bgcolor": "white",
           "lakecolor": "white",
           "landcolor": "#E5ECF6",
           "showlakes": true,
           "showland": true,
           "subunitcolor": "white"
          },
          "hoverlabel": {
           "align": "left"
          },
          "hovermode": "closest",
          "mapbox": {
           "style": "light"
          },
          "paper_bgcolor": "white",
          "plot_bgcolor": "#E5ECF6",
          "polar": {
           "angularaxis": {
            "gridcolor": "white",
            "linecolor": "white",
            "ticks": ""
           },
           "bgcolor": "#E5ECF6",
           "radialaxis": {
            "gridcolor": "white",
            "linecolor": "white",
            "ticks": ""
           }
          },
          "scene": {
           "xaxis": {
            "backgroundcolor": "#E5ECF6",
            "gridcolor": "white",
            "gridwidth": 2,
            "linecolor": "white",
            "showbackground": true,
            "ticks": "",
            "zerolinecolor": "white"
           },
           "yaxis": {
            "backgroundcolor": "#E5ECF6",
            "gridcolor": "white",
            "gridwidth": 2,
            "linecolor": "white",
            "showbackground": true,
            "ticks": "",
            "zerolinecolor": "white"
           },
           "zaxis": {
            "backgroundcolor": "#E5ECF6",
            "gridcolor": "white",
            "gridwidth": 2,
            "linecolor": "white",
            "showbackground": true,
            "ticks": "",
            "zerolinecolor": "white"
           }
          },
          "shapedefaults": {
           "line": {
            "color": "#2a3f5f"
           }
          },
          "ternary": {
           "aaxis": {
            "gridcolor": "white",
            "linecolor": "white",
            "ticks": ""
           },
           "baxis": {
            "gridcolor": "white",
            "linecolor": "white",
            "ticks": ""
           },
           "bgcolor": "#E5ECF6",
           "caxis": {
            "gridcolor": "white",
            "linecolor": "white",
            "ticks": ""
           }
          },
          "title": {
           "x": 0.05
          },
          "xaxis": {
           "automargin": true,
           "gridcolor": "white",
           "linecolor": "white",
           "ticks": "",
           "title": {
            "standoff": 15
           },
           "zerolinecolor": "white",
           "zerolinewidth": 2
          },
          "yaxis": {
           "automargin": true,
           "gridcolor": "white",
           "linecolor": "white",
           "ticks": "",
           "title": {
            "standoff": 15
           },
           "zerolinecolor": "white",
           "zerolinewidth": 2
          }
         }
        },
        "title": {
         "text": "Распределение пользователей по количеству событий "
        },
        "xaxis": {
         "anchor": "y",
         "domain": [
          0,
          1
         ],
         "title": {
          "text": "Количество событий"
         }
        },
        "yaxis": {
         "anchor": "x",
         "domain": [
          0,
          1
         ],
         "title": {
          "text": "Количество пользователей"
         }
        }
       }
      },
      "text/html": [
       "<div>                            <div id=\"8c03838f-49d9-4c0b-92e9-28623b9d50cb\" class=\"plotly-graph-div\" style=\"height:525px; width:100%;\"></div>            <script type=\"text/javascript\">                require([\"plotly\"], function(Plotly) {                    window.PLOTLYENV=window.PLOTLYENV || {};                                    if (document.getElementById(\"8c03838f-49d9-4c0b-92e9-28623b9d50cb\")) {                    Plotly.newPlot(                        \"8c03838f-49d9-4c0b-92e9-28623b9d50cb\",                        [{\"alignmentgroup\":\"True\",\"bingroup\":\"x\",\"hovertemplate\":\"group=B<br>event_name=%{x}<br>count=%{y}<extra></extra>\",\"legendgroup\":\"B\",\"marker\":{\"color\":\"#B279A2\",\"pattern\":{\"shape\":\"\"}},\"name\":\"B\",\"offsetgroup\":\"B\",\"orientation\":\"v\",\"showlegend\":true,\"x\":[6,4,6,2,12,5,6,8,3,2,5,6,8,3,3,2,3,6,2,3,3,4,3,8,6,9,9,2,4,7,9,2,4,1,2,12,9,12,9,6,3,5,2,4,3,9,12,3,6,3,6,6,24,8,24,2,12,2,4,10,4,6,6,5,6,6,9,3,8,2,3,6,8,3,9,6,9,6,6,2,8,4,1,3,4,5,9,3,8,4,4,9,9,4,6,2,2,9,6,3,4,8,3,9,9,4,4,5,1,4,6,5,4,4,6,4,4,8,8,3,4,4,4,6,4,6,12,3,2,9,6,2,2,6,4,4,9,2,6,12,4,4,4,4,8,2,3,4,2,15,3,6,4,12,12,10,20,3,4,4,1,4,6,8,4,5,8,4,6,3,8,9,4,2,4,8,7,6,6,6,3,6,4,3,2,2,6,9,4,6,8,10,16,10,9,3,4,6,4,6,3,9,3,3,4,6,8,6,8,3,3,4,4,11,2,6,6,2,12,9,1,4,12,2,2,6,2,4,2,3,4,9,6,8,2,4,4,4,4,6,4,4,12,6,2,4,4,6,2,6,2,8,2,4,9,4,3,4,8,5,9,4,4,15,4,4,8,4,6,4,4,6,4,8,2,3,4,12,2,5,20,2,4,6,8,4,4,8,4,4,3,2,8,2,8,4,9,4,10,3,4,6,6,1,8,9,12,2,8,3,12,9,1,6,2,2,4,8,4,9,6,6,4,4,2,6,5,10,3,6,3,12,8,4,6,6,6,6,4,6,3,4,3,4,3,1,8,15,6,9,2,6,2,8,15,4,10,3,9,3,9,10,8,4,3,2,2,15,2,6,3,4,6,8,6,2,2,4,1,2,6,4,2,9,3,6,6,6,6,9,3,4,15,12,12,6,9,6,3,6,9,8,6,12,8,12,5,2,6,6,2,12,12,6,6,3,2,4,12,10,6,9,5,10,12,3,4,8,4,4,2,2,3,2,1,8,4,12,3,6,3,7,3,12,4,6,12,6,20,9,4,4,4,10,6,4,11,2,6,3,12,2,4,3,2,6,8,3,6,6,3,2,6,6,6,9,1,6,6,2,6,2,8,10,9,5,6,21,10,3,8,2,9,4,9,3,2,4,4,3,6,4,6,12,3,3,6,3,2,2,8,4,6,5,6,2,12,2,3,8,4,6,4,2,8,1,3,8,6,6,6,9,6,2,4,3,1,4,6,3,2,4,4,12,9,6,6,4,4,4,3,4,8,3,4,8,1,3,3,8,4,6,10,3,2,6,6,6,6,6,2,6,16,3,2,4,6,6,12,4,2,4,6,3,12,3,7,6,5,4,8,9,3,4,8,3,3,6,8,6,6,3,6,4,4,6,5,2,3,3,2,6,6,16,6,2,8,4,4,2,4,6,2,6,6,6,3,3,8,3,12,4,3,4,3,15,3,6,4,2,6,5,1,8,1,4,4,1,12,6,11,4,9,3,8,3,8,12,2,6,8,9,6,2,3,2,8,3,2,8,2,2,3,3,4,4,2,4,6,6,9,3,3,4,6,4,2,2,9,4,3,6,4,3,9,3,2,6,4,4,4,9,7,9,15,4,3,4,4,6,4,3,2,6,3,9,3,4,6,3,3,13,5,18,5,3,4,9,4,6,6,4,6,5,4,10,6,8,2,8,3,3,8,6,4,4,3,4,2,6,2,6,4,9,3,2,8,10,8,1,2,6,14,3,4,4,6,4,3,3,2,2,3,6,9,10,9,4,6,9,4,4,9,8,8,6,4,6,6,10,12,1,9,2,6,2,12,1,3,10,2,12,6,8,9,5,4,6,2,6,4,4,2,4,6,4,8,2,6,8,4,4,6,2,8,3,4,6,8,2,3,3,6,8,2,9,3,10,6,15,6,8,1,1,6,6,4,6,8,3,6,3,8,4,10,9,5,9,6,8,6,8,3,6,9,4,3,6,4,3,4,4,6,2,4,4,12,2,3,1,3,6,3,7,5,6,6,5,2,2,9,3,3,12,2,4,2,2,4,4,5,4,4,6,4,2,6,9,6,6,1,2,12,6,8,6,3,4,4,4,6,6,2,20,2,3,4,9],\"xaxis\":\"x\",\"yaxis\":\"y\",\"type\":\"histogram\"},{\"alignmentgroup\":\"True\",\"bingroup\":\"x\",\"hovertemplate\":\"group=A<br>event_name=%{x}<br>count=%{y}<extra></extra>\",\"legendgroup\":\"A\",\"marker\":{\"color\":\"#72B7B2\",\"pattern\":{\"shape\":\"\"}},\"name\":\"A\",\"offsetgroup\":\"A\",\"orientation\":\"v\",\"showlegend\":true,\"x\":[12,2,15,5,6,20,2,9,9,9,4,9,4,8,4,3,9,6,9,1,2,4,8,9,9,6,6,4,10,6,9,8,4,4,12,6,8,9,8,15,12,10,4,8,4,8,5,3,8,6,10,8,3,6,9,6,3,12,2,6,12,3,4,8,6,2,9,4,4,3,8,6,5,9,6,6,6,4,10,6,12,9,3,9,9,8,4,12,10,9,9,6,3,9,12,15,6,12,6,6,8,16,9,2,9,12,15,15,6,4,9,5,6,4,3,6,4,4,8,4,10,3,6,10,8,15,6,9,2,8,3,9,4,8,12,9,2,6,10,8,6,12,4,9,8,8,6,6,10,6,9,3,3,6,4,4,4,5,3,6,1,4,3,8,6,8,10,12,20,4,4,4,8,9,2,8,6,6,4,6,4,8,2,6,10,9,2,6,8,4,5,8,12,8,4,10,6,4,3,4,10,12,5,12,12,4,9,10,4,9,3,6,2,6,6,12,2,3,12,2,12,3,16,6,15,8,12,8,8,6,9,3,9,12,3,6,6,12,4,4,8,4,4,6,6,10,12,3,4,4,6,6,9,6,6,15,9,4,2,12,2,3,6,6,9,20,3,4,20,15,6,8,3,12,6,8,16,8,9,4,4,4,9,8,6,6,8,16,6,20,15,2,8,12,6,16,4,4,4,8,8,9,9,2,4,4,6,24,9,6,4,4,3,9,2,3,4,12,6,2,8,3,9,6,4,12,6,1,6,10,12,12,6,2,4,4,9,2,8,6,1,6,12,4,2,9,8,3,9,4,18,8,6,15,2,9,6,3,9,4,12,6,2,3,6,6,5,3,6,2,6,4,8,4,8,8,6,6,8,6,10,12,4,9,4,1,4,6,4,8,9,16,3,9,8,2,3,3,12,15,2,4,2,8,3,6,2,1,4,9,15,6,8,3,12,4,6,9,6,12,12,8,9,4,3,8,9,12,4,9,9,3,4,8,8,9,6,6,12,8,6,6,4,6,15,8,12,3,8,2,4,15,8,6,6,8,6,4,6,12,8,10,20,4,6,6,8,6,4,8,3,2,6,3,3,5,8,12,10,5,9,6,6,6,6,6,6,4,12,6,12,4,4,3,6,6,3,6,20,12,6,6,12,6,9,3,3,8,6,15,6,8,6,8,8,3,6,8,3,9,6,2,15,3,12,6,9,6,15,8,6,4,4,9,8,15,6,5,6,6,8,4,9,8,9,9,15,2,3,6,6,4,8,12,4,8,2,5,8,12,8,3,5,8,12,6,4,4,4,4,10,6,12,9,10,6,9,6,4,2,15,1,15,4,6,6,10,3,9,12,6,8,5,9,16,5,10,15,4,12,12,6,18,2,6,6,2,6,4,4,8,6,12,12,2,3,10,20,3,6,2,8,1,4,4,4,2,6,12,6,4,8,16,3,5,4,4,3,4,9,3,8,8,15,3,6,4,1,4,12,6,12,4,6,9,4,12,3,9,12,9,12,4,8,6,9,8,6,2,3,6,6,6,12,8,12,9,9,6,3,6,6,6,6,3,9,4,12,4,6,14,2,12,8,2,6,18,6,9,3,2,2,6,8,8,4,4,8,4,4,6,1,2,9,1,12,9,6,12,4,8,8,3,6,3,4,2,8,6,12,4,6,8,6,2,15,3,3,6,8,15,4,9,9,8,9,2,2,6,4,6,3,16,9,2,2,6,15,6,8,9,6,8,9,9,3,9,2,9,4,9,8,6,8,16,12,1,4,6,8,12,4,3,15,3,6,15,8,6,20,6,4,6,12,12,6,16,6,3,2,8,4,8,9,8,4,9,9,10,6,4,12,4,4,4,5,9,6,9,9,6,3,2,12,8,3,9,5,12,4,12,2,9,6,4,10,12,5,3,8,4,12,12,2,12,4,4,8,6,12,4,10,12,6,2,4,9,4,12,4,6,6,2,10,12,9,15,2,6,6,4,6,12,5,6,6,2,4,9,12,4,3,4,4,8,4,4,2,2,6,9,6,6,6,9,3,2,3,6,2,6,6,6,6,4,4,6,2,2,6,9,9,4,12,10,4,8,9,8,4,12,6,3,4,2,6,16,9,12,12,6,1,8,8,4,6,4,12,8,8,3,4,12,1,9,4,12,8,4,2,9,4,6,10,6,9,9,8,9,3,9,6,12,1,9,6,1,9,3,6,8,2,9,8,9,6,2,6,3,8,3,5,4,8,8,4,4,12,6,10,10,8,12,12,9,8,4,3,15,3,6,2,4,8,10,18,3,6,10,4,8,8,8,3,3,9,2,8,8,9,15,14,6,8,6,4,6,3,4,8,4,12,14,4,9,8,12,4,9,12,8,6,12,3,6,3,12,2,4,4,8,4,12,18,9,4,2,8,6,5,10,16,9,4,8,4,6,4,2,6,12,2,8,12,12,6,6,12,6,4,9,6,12,2,3,8,6,8,6,6,3,4,4,4,6,15,4,16,4,3,6,3,10,3,9,4,2,12,8,6,6,9,12,6,4,12,9,3,4,4,15,8,9,6,9,6,4,2,6,4,12,2,4,2,6,3,6,3,6,4,8,4,3,9,4,20,10,12,3,2,6,12,6,6,15,6,12,8,9,10,10,5,6,9,2,9,8,1,4,3,6,9,9,6,8,21,2,3,2,15,12,2,3,2,18,10,6,9,5,6,9,6,6,4,9,4,2,3,8,3,6,6,2,6,5,4,18,12,4,14,6,9,3,9,6,8,4,6,6,10,12,5,12,20,9,9,4,7,5,3,12,4,3,6,9,8,12,9,12,3,8,12,3,9,6,15,6,9,12,3,3,3,2,3,4,8,2,4,6,3,4,3,6,9,6,4,11,6,12,6,20,10,3,6,9,1,15,6,5,8,12,6,12,15,2,12,9,4,10,12,12,4,3,6,4,20,9,6,12,8,3,3,2,8,6,3,2,6,6,12,10,2,2,4,6,6,5,2,4,6,6,3,2,3,8,6,9,12,6,4,8,1,6,4,2,2,14,2,6,4,8,6,1,6,3,8,2,4,3,4,6,4,4,4,6,12,9,9,12,2,6,3,8,6,6,10,3,4,4,9,12,4,12,3,3,4,8,12,2,4,8,6,8,4,4,8,4,10,20,6,4,1,10,8,6,6,9,20,6,4,9,12,10,6,3,4,4,3,3,4,12,2,12,2,9,6,6,6,2,12,6,12,2,6,4,18,9,6,8,8,4,6,6,3,6,16,16,4,3,8,16,9,12,3,10,14,9,6,8,8,3,3,4,8,2,4,12,2,4,8,4,2,6,3,8,4,8,4,2,4,6,4,6,3,4,4,18,9,8,1,4,10,4,9,3,6,9,9,6,8,9,2,4,3,6,2,6,12,3,12,12,6,8,18,2,4,6,1,8,2,3,3,8,3,12,16,13,6,4,12,4,8,4,15,8,2,4,12,4,4,8,12,6,10,9,2,4,6,6,9,1,8,8,9,8,6,2,2,12,16,6,9,3,6,3,3,8,9,4,6,9,6,9,9,10,6,4,4,9,6,6,8,6,6,2,4,6,8,3,2,6,4,6,4,6,2,9,2,2,3,8,4,4,9,8,2,4,9,5,12,9,20,9,6,4,2,6,3,12,9,6,4,15,5,18,9,4,2,6,9,12,12,6,4,6,12,6,9,15,8,15,19,3,3,6,4,16,12,4,4,9,10,3,12,6,6,12,9,10,10,6,6,4,5,16,6,4,8,9,4,4,9,3,12,6,4,2,9,4,8,8,6,4,2,4,12,6,4,6,3,4,3,6,3,3,6,15,12,4,6,6,9,10,6,2,10,4,6,8,10,15,8,3,5,6,15,2,2,4,4,6,1,2,6,12,12,6,4,9,6,4,15,10,4,9,4,4,2,20,6,2,6,12,6,20,6,9,4,6,15,15,4,18,11,8,6,3,8,4,9,18,4,4,9,10,8,15,6,8,2,4,14,8,3,4,4,12,15,1,6,9,8,8,6,4,6,3,15,6,6,4,4,4,14,6,4,9,2,6,6,12,6,3,6,10,15,6,4,4,9,12,16,10,4,4,2,8,8,9,12,6,6,16,16,9,6,6,12,6,2,3,9,10,6,4,2,6,10,6,12,9,2,6,6,8,6,16,8,6,12,10,10,4,2,2,6,4,8,12,4,20,8,6,6,12,8,6,16,9,4,3,5,6,3,4,9,6,4,6,9,6,12,12,10,15,4,9,6,6,10,6,2,4,8,10,10,3,4,1,10,6,5,8,8,3,12,6,12,6,9,8,2,9,15,8,4,6,9,2,3,12,6,2,3,6,6,4,4,6,4,3,6,6,8,10,15,3,4,4,6,9,14,8,12,6,6,3,6,15,4,6,4,15,6,10,6,4,4,9,12,2,2,6,6,8,2,8,4,3,3,12,10,15,5,4,9,12,3,4,8,9,4,4,12,3,2,3,6,10,4,6,15,4,4,2,4,15,15,15,3,2,8,4,8,9,8,12,6,15,21,4,8,6,6,12,8,8,6,4,6,15,6,12,16,4,6,8,8,5,8,20,18,8,12,8,6,4,6,4,5,8,4,4,8,4,5,9,10,12,4,4,4,6,4,4,1,3,8,8,6,15,8,10,4,8,8,4,3,9,9,6,12,8,4,6,6,12,3,4,6,3,6,6,6,6,4,20,6,2,18,5,6,4,5,6,8,3,20,9,12,8,4,9,6,4,2,4,8,6,6,2,2,6,4,6,9,3,8,3,4,4,9,2,8,9,6,3,6,9,6,6,9,6,16,8,10,8,3,4,8,9,12,9,4,9,1,6,8,6,9,4,6,6,8,2,2,6,9,12,2,6,16,9,4,6,3,6,12,2,8,3,6,3,18,6,12,6,4,6,12,8,8,2,3,12,4,4,12,2,6,6,6,8,6,9,6,6,12,1,3,8,10,6,12,8,2,4,9,4,12,4,4,6,9,1,6,12,8,2,4,9,18,6,8,12,12,9,8,4,15,4,6,3,1,4,8,12,12,6,6,24,6,8,6,2,8,6,9,6,4,5,3,6,6,2,8,4,6,9,5,2,9,8,9,2,12,4,6,6,6,6,6,8,4,2,1,2,4,8,4,6,12,1,4,2,2,9,5,12,12,3,9,6,6,9,6,4,4,6,4,2,6,8,4,6,12,6,10,2,2,4,8,4,12,6,6,3,12,9,12,2,4,15,6,3,10,2,4,4,12,4,12,4,6,10,2,6,15,6,12,4,2,6,6,4,12,15,4,6,12,16,6,9,4,4,6,18,4,6,9,2,3,6,8,15,6,16,12,4,1,8,2,3,4,8,6,6,8,8,9,6,9,3,15,6,9,6,4,6,12,6,6,4,8,4,12,12,1,6,6,6,4,4,6,6,12,6,9,4,3,6,6,12,2,9,8,12,16,8,4,10,3,6,6,12,6,3,6,4,3,4,15,4,6,12,6,20,6,6,12,6,9,3,6,6,3,2,3,2,4,3,18,4,2,3,6,4,8,6,6,4,6,2,1,4,9,2,8,12,10,4,2,8,9,16,9,3,4,4,8,6,4,6,3,8,3,8,6,3,2,6,3,6,3,3,15,6,9,9,4,8,9,2,4,6,3,2,4,6,2,18,3,6,8,9,9,12,9,6,6,6,8,6,3,6,9,6,2,3,6,3,8,6,6,6,3,9,4,2,6,12,2,4,2,6,4,6,4,3,2,15,6,4,6,6,2,8,9,6,12,6,6,9,6,6,9,2,2,4,4,8,6,9,8,6,8,8,6,9,6,6,2,6,2,9,8,8,8,3,2,9,6,3,12,15,3,10,10,4,12,12,12,12,9,9,6,15,8,15,2,4,3,3,4,3,8,5,1,9,6,8,4,9,4,4,4,4,8,4,9,6,6,6,6,4,9,6,15,6,9,8,10,9,9,6,8,2,2,3,8,2,8,6,6,6,10,8,4,8,4,3,3,6,6,4,3,8,4,8,14,10,20,12,4,6,9,9,4,4,12,8,6,12,6,12,12,15,2,8,8,20,6,12,3,8,6,6,9,8,9,4,4,6,2,6,9,12,6,6,12,3,4,2,1,6,4,4,8,4,6,8,8,8,4,6,9,12,2,8,4,3,16,12,3,3,4,8,3,6,1,9,6,9,12,6,9,10,4,4,4,4,12,6,10,9,8,6],\"xaxis\":\"x\",\"yaxis\":\"y\",\"type\":\"histogram\"}],                        {\"template\":{\"data\":{\"bar\":[{\"error_x\":{\"color\":\"#2a3f5f\"},\"error_y\":{\"color\":\"#2a3f5f\"},\"marker\":{\"line\":{\"color\":\"#E5ECF6\",\"width\":0.5},\"pattern\":{\"fillmode\":\"overlay\",\"size\":10,\"solidity\":0.2}},\"type\":\"bar\"}],\"barpolar\":[{\"marker\":{\"line\":{\"color\":\"#E5ECF6\",\"width\":0.5},\"pattern\":{\"fillmode\":\"overlay\",\"size\":10,\"solidity\":0.2}},\"type\":\"barpolar\"}],\"carpet\":[{\"aaxis\":{\"endlinecolor\":\"#2a3f5f\",\"gridcolor\":\"white\",\"linecolor\":\"white\",\"minorgridcolor\":\"white\",\"startlinecolor\":\"#2a3f5f\"},\"baxis\":{\"endlinecolor\":\"#2a3f5f\",\"gridcolor\":\"white\",\"linecolor\":\"white\",\"minorgridcolor\":\"white\",\"startlinecolor\":\"#2a3f5f\"},\"type\":\"carpet\"}],\"choropleth\":[{\"colorbar\":{\"outlinewidth\":0,\"ticks\":\"\"},\"type\":\"choropleth\"}],\"contour\":[{\"colorbar\":{\"outlinewidth\":0,\"ticks\":\"\"},\"colorscale\":[[0.0,\"#0d0887\"],[0.1111111111111111,\"#46039f\"],[0.2222222222222222,\"#7201a8\"],[0.3333333333333333,\"#9c179e\"],[0.4444444444444444,\"#bd3786\"],[0.5555555555555556,\"#d8576b\"],[0.6666666666666666,\"#ed7953\"],[0.7777777777777778,\"#fb9f3a\"],[0.8888888888888888,\"#fdca26\"],[1.0,\"#f0f921\"]],\"type\":\"contour\"}],\"contourcarpet\":[{\"colorbar\":{\"outlinewidth\":0,\"ticks\":\"\"},\"type\":\"contourcarpet\"}],\"heatmap\":[{\"colorbar\":{\"outlinewidth\":0,\"ticks\":\"\"},\"colorscale\":[[0.0,\"#0d0887\"],[0.1111111111111111,\"#46039f\"],[0.2222222222222222,\"#7201a8\"],[0.3333333333333333,\"#9c179e\"],[0.4444444444444444,\"#bd3786\"],[0.5555555555555556,\"#d8576b\"],[0.6666666666666666,\"#ed7953\"],[0.7777777777777778,\"#fb9f3a\"],[0.8888888888888888,\"#fdca26\"],[1.0,\"#f0f921\"]],\"type\":\"heatmap\"}],\"heatmapgl\":[{\"colorbar\":{\"outlinewidth\":0,\"ticks\":\"\"},\"colorscale\":[[0.0,\"#0d0887\"],[0.1111111111111111,\"#46039f\"],[0.2222222222222222,\"#7201a8\"],[0.3333333333333333,\"#9c179e\"],[0.4444444444444444,\"#bd3786\"],[0.5555555555555556,\"#d8576b\"],[0.6666666666666666,\"#ed7953\"],[0.7777777777777778,\"#fb9f3a\"],[0.8888888888888888,\"#fdca26\"],[1.0,\"#f0f921\"]],\"type\":\"heatmapgl\"}],\"histogram\":[{\"marker\":{\"pattern\":{\"fillmode\":\"overlay\",\"size\":10,\"solidity\":0.2}},\"type\":\"histogram\"}],\"histogram2d\":[{\"colorbar\":{\"outlinewidth\":0,\"ticks\":\"\"},\"colorscale\":[[0.0,\"#0d0887\"],[0.1111111111111111,\"#46039f\"],[0.2222222222222222,\"#7201a8\"],[0.3333333333333333,\"#9c179e\"],[0.4444444444444444,\"#bd3786\"],[0.5555555555555556,\"#d8576b\"],[0.6666666666666666,\"#ed7953\"],[0.7777777777777778,\"#fb9f3a\"],[0.8888888888888888,\"#fdca26\"],[1.0,\"#f0f921\"]],\"type\":\"histogram2d\"}],\"histogram2dcontour\":[{\"colorbar\":{\"outlinewidth\":0,\"ticks\":\"\"},\"colorscale\":[[0.0,\"#0d0887\"],[0.1111111111111111,\"#46039f\"],[0.2222222222222222,\"#7201a8\"],[0.3333333333333333,\"#9c179e\"],[0.4444444444444444,\"#bd3786\"],[0.5555555555555556,\"#d8576b\"],[0.6666666666666666,\"#ed7953\"],[0.7777777777777778,\"#fb9f3a\"],[0.8888888888888888,\"#fdca26\"],[1.0,\"#f0f921\"]],\"type\":\"histogram2dcontour\"}],\"mesh3d\":[{\"colorbar\":{\"outlinewidth\":0,\"ticks\":\"\"},\"type\":\"mesh3d\"}],\"parcoords\":[{\"line\":{\"colorbar\":{\"outlinewidth\":0,\"ticks\":\"\"}},\"type\":\"parcoords\"}],\"pie\":[{\"automargin\":true,\"type\":\"pie\"}],\"scatter\":[{\"marker\":{\"colorbar\":{\"outlinewidth\":0,\"ticks\":\"\"}},\"type\":\"scatter\"}],\"scatter3d\":[{\"line\":{\"colorbar\":{\"outlinewidth\":0,\"ticks\":\"\"}},\"marker\":{\"colorbar\":{\"outlinewidth\":0,\"ticks\":\"\"}},\"type\":\"scatter3d\"}],\"scattercarpet\":[{\"marker\":{\"colorbar\":{\"outlinewidth\":0,\"ticks\":\"\"}},\"type\":\"scattercarpet\"}],\"scattergeo\":[{\"marker\":{\"colorbar\":{\"outlinewidth\":0,\"ticks\":\"\"}},\"type\":\"scattergeo\"}],\"scattergl\":[{\"marker\":{\"colorbar\":{\"outlinewidth\":0,\"ticks\":\"\"}},\"type\":\"scattergl\"}],\"scattermapbox\":[{\"marker\":{\"colorbar\":{\"outlinewidth\":0,\"ticks\":\"\"}},\"type\":\"scattermapbox\"}],\"scatterpolar\":[{\"marker\":{\"colorbar\":{\"outlinewidth\":0,\"ticks\":\"\"}},\"type\":\"scatterpolar\"}],\"scatterpolargl\":[{\"marker\":{\"colorbar\":{\"outlinewidth\":0,\"ticks\":\"\"}},\"type\":\"scatterpolargl\"}],\"scatterternary\":[{\"marker\":{\"colorbar\":{\"outlinewidth\":0,\"ticks\":\"\"}},\"type\":\"scatterternary\"}],\"surface\":[{\"colorbar\":{\"outlinewidth\":0,\"ticks\":\"\"},\"colorscale\":[[0.0,\"#0d0887\"],[0.1111111111111111,\"#46039f\"],[0.2222222222222222,\"#7201a8\"],[0.3333333333333333,\"#9c179e\"],[0.4444444444444444,\"#bd3786\"],[0.5555555555555556,\"#d8576b\"],[0.6666666666666666,\"#ed7953\"],[0.7777777777777778,\"#fb9f3a\"],[0.8888888888888888,\"#fdca26\"],[1.0,\"#f0f921\"]],\"type\":\"surface\"}],\"table\":[{\"cells\":{\"fill\":{\"color\":\"#EBF0F8\"},\"line\":{\"color\":\"white\"}},\"header\":{\"fill\":{\"color\":\"#C8D4E3\"},\"line\":{\"color\":\"white\"}},\"type\":\"table\"}]},\"layout\":{\"annotationdefaults\":{\"arrowcolor\":\"#2a3f5f\",\"arrowhead\":0,\"arrowwidth\":1},\"autotypenumbers\":\"strict\",\"coloraxis\":{\"colorbar\":{\"outlinewidth\":0,\"ticks\":\"\"}},\"colorscale\":{\"diverging\":[[0,\"#8e0152\"],[0.1,\"#c51b7d\"],[0.2,\"#de77ae\"],[0.3,\"#f1b6da\"],[0.4,\"#fde0ef\"],[0.5,\"#f7f7f7\"],[0.6,\"#e6f5d0\"],[0.7,\"#b8e186\"],[0.8,\"#7fbc41\"],[0.9,\"#4d9221\"],[1,\"#276419\"]],\"sequential\":[[0.0,\"#0d0887\"],[0.1111111111111111,\"#46039f\"],[0.2222222222222222,\"#7201a8\"],[0.3333333333333333,\"#9c179e\"],[0.4444444444444444,\"#bd3786\"],[0.5555555555555556,\"#d8576b\"],[0.6666666666666666,\"#ed7953\"],[0.7777777777777778,\"#fb9f3a\"],[0.8888888888888888,\"#fdca26\"],[1.0,\"#f0f921\"]],\"sequentialminus\":[[0.0,\"#0d0887\"],[0.1111111111111111,\"#46039f\"],[0.2222222222222222,\"#7201a8\"],[0.3333333333333333,\"#9c179e\"],[0.4444444444444444,\"#bd3786\"],[0.5555555555555556,\"#d8576b\"],[0.6666666666666666,\"#ed7953\"],[0.7777777777777778,\"#fb9f3a\"],[0.8888888888888888,\"#fdca26\"],[1.0,\"#f0f921\"]]},\"colorway\":[\"#636efa\",\"#EF553B\",\"#00cc96\",\"#ab63fa\",\"#FFA15A\",\"#19d3f3\",\"#FF6692\",\"#B6E880\",\"#FF97FF\",\"#FECB52\"],\"font\":{\"color\":\"#2a3f5f\"},\"geo\":{\"bgcolor\":\"white\",\"lakecolor\":\"white\",\"landcolor\":\"#E5ECF6\",\"showlakes\":true,\"showland\":true,\"subunitcolor\":\"white\"},\"hoverlabel\":{\"align\":\"left\"},\"hovermode\":\"closest\",\"mapbox\":{\"style\":\"light\"},\"paper_bgcolor\":\"white\",\"plot_bgcolor\":\"#E5ECF6\",\"polar\":{\"angularaxis\":{\"gridcolor\":\"white\",\"linecolor\":\"white\",\"ticks\":\"\"},\"bgcolor\":\"#E5ECF6\",\"radialaxis\":{\"gridcolor\":\"white\",\"linecolor\":\"white\",\"ticks\":\"\"}},\"scene\":{\"xaxis\":{\"backgroundcolor\":\"#E5ECF6\",\"gridcolor\":\"white\",\"gridwidth\":2,\"linecolor\":\"white\",\"showbackground\":true,\"ticks\":\"\",\"zerolinecolor\":\"white\"},\"yaxis\":{\"backgroundcolor\":\"#E5ECF6\",\"gridcolor\":\"white\",\"gridwidth\":2,\"linecolor\":\"white\",\"showbackground\":true,\"ticks\":\"\",\"zerolinecolor\":\"white\"},\"zaxis\":{\"backgroundcolor\":\"#E5ECF6\",\"gridcolor\":\"white\",\"gridwidth\":2,\"linecolor\":\"white\",\"showbackground\":true,\"ticks\":\"\",\"zerolinecolor\":\"white\"}},\"shapedefaults\":{\"line\":{\"color\":\"#2a3f5f\"}},\"ternary\":{\"aaxis\":{\"gridcolor\":\"white\",\"linecolor\":\"white\",\"ticks\":\"\"},\"baxis\":{\"gridcolor\":\"white\",\"linecolor\":\"white\",\"ticks\":\"\"},\"bgcolor\":\"#E5ECF6\",\"caxis\":{\"gridcolor\":\"white\",\"linecolor\":\"white\",\"ticks\":\"\"}},\"title\":{\"x\":0.05},\"xaxis\":{\"automargin\":true,\"gridcolor\":\"white\",\"linecolor\":\"white\",\"ticks\":\"\",\"title\":{\"standoff\":15},\"zerolinecolor\":\"white\",\"zerolinewidth\":2},\"yaxis\":{\"automargin\":true,\"gridcolor\":\"white\",\"linecolor\":\"white\",\"ticks\":\"\",\"title\":{\"standoff\":15},\"zerolinecolor\":\"white\",\"zerolinewidth\":2}}},\"xaxis\":{\"anchor\":\"y\",\"domain\":[0.0,1.0],\"title\":{\"text\":\"\\u041a\\u043e\\u043b\\u0438\\u0447\\u0435\\u0441\\u0442\\u0432\\u043e \\u0441\\u043e\\u0431\\u044b\\u0442\\u0438\\u0439\"}},\"yaxis\":{\"anchor\":\"x\",\"domain\":[0.0,1.0],\"title\":{\"text\":\"\\u041a\\u043e\\u043b\\u0438\\u0447\\u0435\\u0441\\u0442\\u0432\\u043e \\u043f\\u043e\\u043b\\u044c\\u0437\\u043e\\u0432\\u0430\\u0442\\u0435\\u043b\\u0435\\u0439\"}},\"legend\":{\"title\":{\"text\":\"group\"},\"tracegroupgap\":0},\"margin\":{\"t\":60},\"barmode\":\"relative\",\"title\":{\"text\":\"\\u0420\\u0430\\u0441\\u043f\\u0440\\u0435\\u0434\\u0435\\u043b\\u0435\\u043d\\u0438\\u0435 \\u043f\\u043e\\u043b\\u044c\\u0437\\u043e\\u0432\\u0430\\u0442\\u0435\\u043b\\u0435\\u0439 \\u043f\\u043e \\u043a\\u043e\\u043b\\u0438\\u0447\\u0435\\u0441\\u0442\\u0432\\u0443 \\u0441\\u043e\\u0431\\u044b\\u0442\\u0438\\u0439 \"}},                        {\"responsive\": true}                    ).then(function(){\n",
       "                            \n",
       "var gd = document.getElementById('8c03838f-49d9-4c0b-92e9-28623b9d50cb');\n",
       "var x = new MutationObserver(function (mutations, observer) {{\n",
       "        var display = window.getComputedStyle(gd).display;\n",
       "        if (!display || display === 'none') {{\n",
       "            console.log([gd, 'removed!']);\n",
       "            Plotly.purge(gd);\n",
       "            observer.disconnect();\n",
       "        }}\n",
       "}});\n",
       "\n",
       "// Listen for the removal of the full notebook cells\n",
       "var notebookContainer = gd.closest('#notebook-container');\n",
       "if (notebookContainer) {{\n",
       "    x.observe(notebookContainer, {childList: true});\n",
       "}}\n",
       "\n",
       "// Listen for the clearing of the current output cell\n",
       "var outputEl = gd.closest('.output');\n",
       "if (outputEl) {{\n",
       "    x.observe(outputEl, {childList: true});\n",
       "}}\n",
       "\n",
       "                        })                };                });            </script>        </div>"
      ]
     },
     "metadata": {},
     "output_type": "display_data"
    }
   ],
   "source": [
    "fig = px.histogram(events_per_user, x=\"event_name\", color=\"group\", color_discrete_sequence= ['#B279A2','#72B7B2'])\n",
    "fig.update_layout(\n",
    "    title_text='Распределение пользователей по количеству событий ', \n",
    "    xaxis_title_text='Количество событий', \n",
    "    yaxis_title_text='Количество пользователей')\n",
    "\n",
    "fig.show()"
   ]
  },
  {
   "cell_type": "code",
   "execution_count": 56,
   "metadata": {},
   "outputs": [
    {
     "data": {
      "text/html": [
       "<div>\n",
       "<style scoped>\n",
       "    .dataframe tbody tr th:only-of-type {\n",
       "        vertical-align: middle;\n",
       "    }\n",
       "\n",
       "    .dataframe tbody tr th {\n",
       "        vertical-align: top;\n",
       "    }\n",
       "\n",
       "    .dataframe thead th {\n",
       "        text-align: right;\n",
       "    }\n",
       "</style>\n",
       "<table border=\"1\" class=\"dataframe\">\n",
       "  <thead>\n",
       "    <tr style=\"text-align: right;\">\n",
       "      <th></th>\n",
       "      <th>group</th>\n",
       "      <th>count</th>\n",
       "      <th>mean</th>\n",
       "      <th>std</th>\n",
       "      <th>min</th>\n",
       "      <th>25%</th>\n",
       "      <th>50%</th>\n",
       "      <th>75%</th>\n",
       "      <th>max</th>\n",
       "    </tr>\n",
       "  </thead>\n",
       "  <tbody>\n",
       "    <tr>\n",
       "      <th>0</th>\n",
       "      <td>A</td>\n",
       "      <td>2747.0</td>\n",
       "      <td>7.0</td>\n",
       "      <td>4.0</td>\n",
       "      <td>1.0</td>\n",
       "      <td>4.0</td>\n",
       "      <td>6.0</td>\n",
       "      <td>9.0</td>\n",
       "      <td>24.0</td>\n",
       "    </tr>\n",
       "    <tr>\n",
       "      <th>1</th>\n",
       "      <td>B</td>\n",
       "      <td>928.0</td>\n",
       "      <td>6.0</td>\n",
       "      <td>3.0</td>\n",
       "      <td>1.0</td>\n",
       "      <td>3.0</td>\n",
       "      <td>4.0</td>\n",
       "      <td>8.0</td>\n",
       "      <td>24.0</td>\n",
       "    </tr>\n",
       "  </tbody>\n",
       "</table>\n",
       "</div>"
      ],
      "text/plain": [
       "  group   count  mean  std  min  25%  50%  75%   max\n",
       "0     A  2747.0   7.0  4.0  1.0  4.0  6.0  9.0  24.0\n",
       "1     B   928.0   6.0  3.0  1.0  3.0  4.0  8.0  24.0"
      ]
     },
     "execution_count": 56,
     "metadata": {},
     "output_type": "execute_result"
    }
   ],
   "source": [
    "round(events_per_user.groupby('group')['event_name'].describe().reset_index())"
   ]
  },
  {
   "cell_type": "markdown",
   "metadata": {},
   "source": [
    "Количество событий на пользователя в выборках распределено неравномерно. По графику видим, что у пользователей группы А больше событий. В среднем на 1 пользователя группы А приходится 7 событий, группы В - 5 событий. "
   ]
  },
  {
   "cell_type": "markdown",
   "metadata": {},
   "source": [
    "### Распределение числа событий в выборках по дням "
   ]
  },
  {
   "cell_type": "code",
   "execution_count": 57,
   "metadata": {},
   "outputs": [
    {
     "data": {
      "text/html": [
       "<div>\n",
       "<style scoped>\n",
       "    .dataframe tbody tr th:only-of-type {\n",
       "        vertical-align: middle;\n",
       "    }\n",
       "\n",
       "    .dataframe tbody tr th {\n",
       "        vertical-align: top;\n",
       "    }\n",
       "\n",
       "    .dataframe thead th {\n",
       "        text-align: right;\n",
       "    }\n",
       "</style>\n",
       "<table border=\"1\" class=\"dataframe\">\n",
       "  <thead>\n",
       "    <tr style=\"text-align: right;\">\n",
       "      <th></th>\n",
       "      <th>event_dt</th>\n",
       "      <th>group</th>\n",
       "      <th>event_name</th>\n",
       "    </tr>\n",
       "  </thead>\n",
       "  <tbody>\n",
       "    <tr>\n",
       "      <th>0</th>\n",
       "      <td>2020-12-07</td>\n",
       "      <td>A</td>\n",
       "      <td>331</td>\n",
       "    </tr>\n",
       "    <tr>\n",
       "      <th>1</th>\n",
       "      <td>2020-12-07</td>\n",
       "      <td>B</td>\n",
       "      <td>378</td>\n",
       "    </tr>\n",
       "    <tr>\n",
       "      <th>2</th>\n",
       "      <td>2020-12-08</td>\n",
       "      <td>A</td>\n",
       "      <td>341</td>\n",
       "    </tr>\n",
       "    <tr>\n",
       "      <th>3</th>\n",
       "      <td>2020-12-08</td>\n",
       "      <td>B</td>\n",
       "      <td>252</td>\n",
       "    </tr>\n",
       "    <tr>\n",
       "      <th>4</th>\n",
       "      <td>2020-12-09</td>\n",
       "      <td>A</td>\n",
       "      <td>385</td>\n",
       "    </tr>\n",
       "  </tbody>\n",
       "</table>\n",
       "</div>"
      ],
      "text/plain": [
       "     event_dt group  event_name\n",
       "0  2020-12-07     A         331\n",
       "1  2020-12-07     B         378\n",
       "2  2020-12-08     A         341\n",
       "3  2020-12-08     B         252\n",
       "4  2020-12-09     A         385"
      ]
     },
     "execution_count": 57,
     "metadata": {},
     "output_type": "execute_result"
    }
   ],
   "source": [
    "#количество событий в тестовых группах по дням \n",
    "test_users_merged['event_dt'] = test_users_merged['event_dt'].dt.date\n",
    "events_per_date = test_users_merged.pivot_table(index=['event_dt','group'], values = 'event_name', aggfunc='count').reset_index()\n",
    "events_per_date.head()"
   ]
  },
  {
   "cell_type": "code",
   "execution_count": 58,
   "metadata": {},
   "outputs": [
    {
     "data": {
      "application/vnd.plotly.v1+json": {
       "config": {
        "plotlyServerURL": "https://plot.ly"
       },
       "data": [
        {
         "alignmentgroup": "True",
         "hovertemplate": "group=A<br>event_dt=%{x}<br>event_name=%{y}<extra></extra>",
         "legendgroup": "A",
         "marker": {
          "color": "#B279A2",
          "pattern": {
           "shape": ""
          }
         },
         "name": "A",
         "offsetgroup": "A",
         "orientation": "v",
         "showlegend": true,
         "textposition": "auto",
         "type": "bar",
         "x": [
          "2020-12-07",
          "2020-12-08",
          "2020-12-09",
          "2020-12-10",
          "2020-12-11",
          "2020-12-12",
          "2020-12-13",
          "2020-12-14",
          "2020-12-15",
          "2020-12-16",
          "2020-12-17",
          "2020-12-18",
          "2020-12-19",
          "2020-12-20",
          "2020-12-21",
          "2020-12-22",
          "2020-12-23",
          "2020-12-24",
          "2020-12-25",
          "2020-12-26",
          "2020-12-27",
          "2020-12-28",
          "2020-12-29"
         ],
         "xaxis": "x",
         "y": [
          331,
          341,
          385,
          350,
          374,
          355,
          328,
          1083,
          1084,
          1069,
          1252,
          1312,
          1506,
          1528,
          2011,
          1290,
          997,
          842,
          632,
          571,
          532,
          470,
          304
         ],
         "yaxis": "y"
        },
        {
         "alignmentgroup": "True",
         "hovertemplate": "group=B<br>event_dt=%{x}<br>event_name=%{y}<extra></extra>",
         "legendgroup": "B",
         "marker": {
          "color": "#72B7B2",
          "pattern": {
           "shape": ""
          }
         },
         "name": "B",
         "offsetgroup": "B",
         "orientation": "v",
         "showlegend": true,
         "textposition": "auto",
         "type": "bar",
         "x": [
          "2020-12-07",
          "2020-12-08",
          "2020-12-09",
          "2020-12-10",
          "2020-12-11",
          "2020-12-12",
          "2020-12-13",
          "2020-12-14",
          "2020-12-15",
          "2020-12-16",
          "2020-12-17",
          "2020-12-18",
          "2020-12-19",
          "2020-12-20",
          "2020-12-21",
          "2020-12-22",
          "2020-12-23",
          "2020-12-24",
          "2020-12-25",
          "2020-12-26",
          "2020-12-27",
          "2020-12-28",
          "2020-12-29"
         ],
         "xaxis": "x",
         "y": [
          378,
          252,
          361,
          263,
          168,
          203,
          176,
          272,
          232,
          385,
          296,
          272,
          304,
          320,
          430,
          179,
          172,
          126,
          76,
          73,
          71,
          72,
          42
         ],
         "yaxis": "y"
        }
       ],
       "layout": {
        "barmode": "group",
        "legend": {
         "title": {
          "text": "group"
         },
         "tracegroupgap": 0
        },
        "margin": {
         "t": 60
        },
        "template": {
         "data": {
          "bar": [
           {
            "error_x": {
             "color": "#2a3f5f"
            },
            "error_y": {
             "color": "#2a3f5f"
            },
            "marker": {
             "line": {
              "color": "#E5ECF6",
              "width": 0.5
             },
             "pattern": {
              "fillmode": "overlay",
              "size": 10,
              "solidity": 0.2
             }
            },
            "type": "bar"
           }
          ],
          "barpolar": [
           {
            "marker": {
             "line": {
              "color": "#E5ECF6",
              "width": 0.5
             },
             "pattern": {
              "fillmode": "overlay",
              "size": 10,
              "solidity": 0.2
             }
            },
            "type": "barpolar"
           }
          ],
          "carpet": [
           {
            "aaxis": {
             "endlinecolor": "#2a3f5f",
             "gridcolor": "white",
             "linecolor": "white",
             "minorgridcolor": "white",
             "startlinecolor": "#2a3f5f"
            },
            "baxis": {
             "endlinecolor": "#2a3f5f",
             "gridcolor": "white",
             "linecolor": "white",
             "minorgridcolor": "white",
             "startlinecolor": "#2a3f5f"
            },
            "type": "carpet"
           }
          ],
          "choropleth": [
           {
            "colorbar": {
             "outlinewidth": 0,
             "ticks": ""
            },
            "type": "choropleth"
           }
          ],
          "contour": [
           {
            "colorbar": {
             "outlinewidth": 0,
             "ticks": ""
            },
            "colorscale": [
             [
              0,
              "#0d0887"
             ],
             [
              0.1111111111111111,
              "#46039f"
             ],
             [
              0.2222222222222222,
              "#7201a8"
             ],
             [
              0.3333333333333333,
              "#9c179e"
             ],
             [
              0.4444444444444444,
              "#bd3786"
             ],
             [
              0.5555555555555556,
              "#d8576b"
             ],
             [
              0.6666666666666666,
              "#ed7953"
             ],
             [
              0.7777777777777778,
              "#fb9f3a"
             ],
             [
              0.8888888888888888,
              "#fdca26"
             ],
             [
              1,
              "#f0f921"
             ]
            ],
            "type": "contour"
           }
          ],
          "contourcarpet": [
           {
            "colorbar": {
             "outlinewidth": 0,
             "ticks": ""
            },
            "type": "contourcarpet"
           }
          ],
          "heatmap": [
           {
            "colorbar": {
             "outlinewidth": 0,
             "ticks": ""
            },
            "colorscale": [
             [
              0,
              "#0d0887"
             ],
             [
              0.1111111111111111,
              "#46039f"
             ],
             [
              0.2222222222222222,
              "#7201a8"
             ],
             [
              0.3333333333333333,
              "#9c179e"
             ],
             [
              0.4444444444444444,
              "#bd3786"
             ],
             [
              0.5555555555555556,
              "#d8576b"
             ],
             [
              0.6666666666666666,
              "#ed7953"
             ],
             [
              0.7777777777777778,
              "#fb9f3a"
             ],
             [
              0.8888888888888888,
              "#fdca26"
             ],
             [
              1,
              "#f0f921"
             ]
            ],
            "type": "heatmap"
           }
          ],
          "heatmapgl": [
           {
            "colorbar": {
             "outlinewidth": 0,
             "ticks": ""
            },
            "colorscale": [
             [
              0,
              "#0d0887"
             ],
             [
              0.1111111111111111,
              "#46039f"
             ],
             [
              0.2222222222222222,
              "#7201a8"
             ],
             [
              0.3333333333333333,
              "#9c179e"
             ],
             [
              0.4444444444444444,
              "#bd3786"
             ],
             [
              0.5555555555555556,
              "#d8576b"
             ],
             [
              0.6666666666666666,
              "#ed7953"
             ],
             [
              0.7777777777777778,
              "#fb9f3a"
             ],
             [
              0.8888888888888888,
              "#fdca26"
             ],
             [
              1,
              "#f0f921"
             ]
            ],
            "type": "heatmapgl"
           }
          ],
          "histogram": [
           {
            "marker": {
             "pattern": {
              "fillmode": "overlay",
              "size": 10,
              "solidity": 0.2
             }
            },
            "type": "histogram"
           }
          ],
          "histogram2d": [
           {
            "colorbar": {
             "outlinewidth": 0,
             "ticks": ""
            },
            "colorscale": [
             [
              0,
              "#0d0887"
             ],
             [
              0.1111111111111111,
              "#46039f"
             ],
             [
              0.2222222222222222,
              "#7201a8"
             ],
             [
              0.3333333333333333,
              "#9c179e"
             ],
             [
              0.4444444444444444,
              "#bd3786"
             ],
             [
              0.5555555555555556,
              "#d8576b"
             ],
             [
              0.6666666666666666,
              "#ed7953"
             ],
             [
              0.7777777777777778,
              "#fb9f3a"
             ],
             [
              0.8888888888888888,
              "#fdca26"
             ],
             [
              1,
              "#f0f921"
             ]
            ],
            "type": "histogram2d"
           }
          ],
          "histogram2dcontour": [
           {
            "colorbar": {
             "outlinewidth": 0,
             "ticks": ""
            },
            "colorscale": [
             [
              0,
              "#0d0887"
             ],
             [
              0.1111111111111111,
              "#46039f"
             ],
             [
              0.2222222222222222,
              "#7201a8"
             ],
             [
              0.3333333333333333,
              "#9c179e"
             ],
             [
              0.4444444444444444,
              "#bd3786"
             ],
             [
              0.5555555555555556,
              "#d8576b"
             ],
             [
              0.6666666666666666,
              "#ed7953"
             ],
             [
              0.7777777777777778,
              "#fb9f3a"
             ],
             [
              0.8888888888888888,
              "#fdca26"
             ],
             [
              1,
              "#f0f921"
             ]
            ],
            "type": "histogram2dcontour"
           }
          ],
          "mesh3d": [
           {
            "colorbar": {
             "outlinewidth": 0,
             "ticks": ""
            },
            "type": "mesh3d"
           }
          ],
          "parcoords": [
           {
            "line": {
             "colorbar": {
              "outlinewidth": 0,
              "ticks": ""
             }
            },
            "type": "parcoords"
           }
          ],
          "pie": [
           {
            "automargin": true,
            "type": "pie"
           }
          ],
          "scatter": [
           {
            "marker": {
             "colorbar": {
              "outlinewidth": 0,
              "ticks": ""
             }
            },
            "type": "scatter"
           }
          ],
          "scatter3d": [
           {
            "line": {
             "colorbar": {
              "outlinewidth": 0,
              "ticks": ""
             }
            },
            "marker": {
             "colorbar": {
              "outlinewidth": 0,
              "ticks": ""
             }
            },
            "type": "scatter3d"
           }
          ],
          "scattercarpet": [
           {
            "marker": {
             "colorbar": {
              "outlinewidth": 0,
              "ticks": ""
             }
            },
            "type": "scattercarpet"
           }
          ],
          "scattergeo": [
           {
            "marker": {
             "colorbar": {
              "outlinewidth": 0,
              "ticks": ""
             }
            },
            "type": "scattergeo"
           }
          ],
          "scattergl": [
           {
            "marker": {
             "colorbar": {
              "outlinewidth": 0,
              "ticks": ""
             }
            },
            "type": "scattergl"
           }
          ],
          "scattermapbox": [
           {
            "marker": {
             "colorbar": {
              "outlinewidth": 0,
              "ticks": ""
             }
            },
            "type": "scattermapbox"
           }
          ],
          "scatterpolar": [
           {
            "marker": {
             "colorbar": {
              "outlinewidth": 0,
              "ticks": ""
             }
            },
            "type": "scatterpolar"
           }
          ],
          "scatterpolargl": [
           {
            "marker": {
             "colorbar": {
              "outlinewidth": 0,
              "ticks": ""
             }
            },
            "type": "scatterpolargl"
           }
          ],
          "scatterternary": [
           {
            "marker": {
             "colorbar": {
              "outlinewidth": 0,
              "ticks": ""
             }
            },
            "type": "scatterternary"
           }
          ],
          "surface": [
           {
            "colorbar": {
             "outlinewidth": 0,
             "ticks": ""
            },
            "colorscale": [
             [
              0,
              "#0d0887"
             ],
             [
              0.1111111111111111,
              "#46039f"
             ],
             [
              0.2222222222222222,
              "#7201a8"
             ],
             [
              0.3333333333333333,
              "#9c179e"
             ],
             [
              0.4444444444444444,
              "#bd3786"
             ],
             [
              0.5555555555555556,
              "#d8576b"
             ],
             [
              0.6666666666666666,
              "#ed7953"
             ],
             [
              0.7777777777777778,
              "#fb9f3a"
             ],
             [
              0.8888888888888888,
              "#fdca26"
             ],
             [
              1,
              "#f0f921"
             ]
            ],
            "type": "surface"
           }
          ],
          "table": [
           {
            "cells": {
             "fill": {
              "color": "#EBF0F8"
             },
             "line": {
              "color": "white"
             }
            },
            "header": {
             "fill": {
              "color": "#C8D4E3"
             },
             "line": {
              "color": "white"
             }
            },
            "type": "table"
           }
          ]
         },
         "layout": {
          "annotationdefaults": {
           "arrowcolor": "#2a3f5f",
           "arrowhead": 0,
           "arrowwidth": 1
          },
          "autotypenumbers": "strict",
          "coloraxis": {
           "colorbar": {
            "outlinewidth": 0,
            "ticks": ""
           }
          },
          "colorscale": {
           "diverging": [
            [
             0,
             "#8e0152"
            ],
            [
             0.1,
             "#c51b7d"
            ],
            [
             0.2,
             "#de77ae"
            ],
            [
             0.3,
             "#f1b6da"
            ],
            [
             0.4,
             "#fde0ef"
            ],
            [
             0.5,
             "#f7f7f7"
            ],
            [
             0.6,
             "#e6f5d0"
            ],
            [
             0.7,
             "#b8e186"
            ],
            [
             0.8,
             "#7fbc41"
            ],
            [
             0.9,
             "#4d9221"
            ],
            [
             1,
             "#276419"
            ]
           ],
           "sequential": [
            [
             0,
             "#0d0887"
            ],
            [
             0.1111111111111111,
             "#46039f"
            ],
            [
             0.2222222222222222,
             "#7201a8"
            ],
            [
             0.3333333333333333,
             "#9c179e"
            ],
            [
             0.4444444444444444,
             "#bd3786"
            ],
            [
             0.5555555555555556,
             "#d8576b"
            ],
            [
             0.6666666666666666,
             "#ed7953"
            ],
            [
             0.7777777777777778,
             "#fb9f3a"
            ],
            [
             0.8888888888888888,
             "#fdca26"
            ],
            [
             1,
             "#f0f921"
            ]
           ],
           "sequentialminus": [
            [
             0,
             "#0d0887"
            ],
            [
             0.1111111111111111,
             "#46039f"
            ],
            [
             0.2222222222222222,
             "#7201a8"
            ],
            [
             0.3333333333333333,
             "#9c179e"
            ],
            [
             0.4444444444444444,
             "#bd3786"
            ],
            [
             0.5555555555555556,
             "#d8576b"
            ],
            [
             0.6666666666666666,
             "#ed7953"
            ],
            [
             0.7777777777777778,
             "#fb9f3a"
            ],
            [
             0.8888888888888888,
             "#fdca26"
            ],
            [
             1,
             "#f0f921"
            ]
           ]
          },
          "colorway": [
           "#636efa",
           "#EF553B",
           "#00cc96",
           "#ab63fa",
           "#FFA15A",
           "#19d3f3",
           "#FF6692",
           "#B6E880",
           "#FF97FF",
           "#FECB52"
          ],
          "font": {
           "color": "#2a3f5f"
          },
          "geo": {
           "bgcolor": "white",
           "lakecolor": "white",
           "landcolor": "#E5ECF6",
           "showlakes": true,
           "showland": true,
           "subunitcolor": "white"
          },
          "hoverlabel": {
           "align": "left"
          },
          "hovermode": "closest",
          "mapbox": {
           "style": "light"
          },
          "paper_bgcolor": "white",
          "plot_bgcolor": "#E5ECF6",
          "polar": {
           "angularaxis": {
            "gridcolor": "white",
            "linecolor": "white",
            "ticks": ""
           },
           "bgcolor": "#E5ECF6",
           "radialaxis": {
            "gridcolor": "white",
            "linecolor": "white",
            "ticks": ""
           }
          },
          "scene": {
           "xaxis": {
            "backgroundcolor": "#E5ECF6",
            "gridcolor": "white",
            "gridwidth": 2,
            "linecolor": "white",
            "showbackground": true,
            "ticks": "",
            "zerolinecolor": "white"
           },
           "yaxis": {
            "backgroundcolor": "#E5ECF6",
            "gridcolor": "white",
            "gridwidth": 2,
            "linecolor": "white",
            "showbackground": true,
            "ticks": "",
            "zerolinecolor": "white"
           },
           "zaxis": {
            "backgroundcolor": "#E5ECF6",
            "gridcolor": "white",
            "gridwidth": 2,
            "linecolor": "white",
            "showbackground": true,
            "ticks": "",
            "zerolinecolor": "white"
           }
          },
          "shapedefaults": {
           "line": {
            "color": "#2a3f5f"
           }
          },
          "ternary": {
           "aaxis": {
            "gridcolor": "white",
            "linecolor": "white",
            "ticks": ""
           },
           "baxis": {
            "gridcolor": "white",
            "linecolor": "white",
            "ticks": ""
           },
           "bgcolor": "#E5ECF6",
           "caxis": {
            "gridcolor": "white",
            "linecolor": "white",
            "ticks": ""
           }
          },
          "title": {
           "x": 0.05
          },
          "xaxis": {
           "automargin": true,
           "gridcolor": "white",
           "linecolor": "white",
           "ticks": "",
           "title": {
            "standoff": 15
           },
           "zerolinecolor": "white",
           "zerolinewidth": 2
          },
          "yaxis": {
           "automargin": true,
           "gridcolor": "white",
           "linecolor": "white",
           "ticks": "",
           "title": {
            "standoff": 15
           },
           "zerolinecolor": "white",
           "zerolinewidth": 2
          }
         }
        },
        "title": {
         "text": "Распределение числа событий в выборках по дням"
        },
        "xaxis": {
         "anchor": "y",
         "domain": [
          0,
          1
         ],
         "title": {
          "text": "Даты"
         }
        },
        "yaxis": {
         "anchor": "x",
         "domain": [
          0,
          1
         ],
         "title": {
          "text": "Количество событий"
         }
        }
       }
      },
      "text/html": [
       "<div>                            <div id=\"30f44ff7-4968-484f-8cb0-5a8298931547\" class=\"plotly-graph-div\" style=\"height:525px; width:100%;\"></div>            <script type=\"text/javascript\">                require([\"plotly\"], function(Plotly) {                    window.PLOTLYENV=window.PLOTLYENV || {};                                    if (document.getElementById(\"30f44ff7-4968-484f-8cb0-5a8298931547\")) {                    Plotly.newPlot(                        \"30f44ff7-4968-484f-8cb0-5a8298931547\",                        [{\"alignmentgroup\":\"True\",\"hovertemplate\":\"group=A<br>event_dt=%{x}<br>event_name=%{y}<extra></extra>\",\"legendgroup\":\"A\",\"marker\":{\"color\":\"#B279A2\",\"pattern\":{\"shape\":\"\"}},\"name\":\"A\",\"offsetgroup\":\"A\",\"orientation\":\"v\",\"showlegend\":true,\"textposition\":\"auto\",\"x\":[\"2020-12-07\",\"2020-12-08\",\"2020-12-09\",\"2020-12-10\",\"2020-12-11\",\"2020-12-12\",\"2020-12-13\",\"2020-12-14\",\"2020-12-15\",\"2020-12-16\",\"2020-12-17\",\"2020-12-18\",\"2020-12-19\",\"2020-12-20\",\"2020-12-21\",\"2020-12-22\",\"2020-12-23\",\"2020-12-24\",\"2020-12-25\",\"2020-12-26\",\"2020-12-27\",\"2020-12-28\",\"2020-12-29\"],\"xaxis\":\"x\",\"y\":[331,341,385,350,374,355,328,1083,1084,1069,1252,1312,1506,1528,2011,1290,997,842,632,571,532,470,304],\"yaxis\":\"y\",\"type\":\"bar\"},{\"alignmentgroup\":\"True\",\"hovertemplate\":\"group=B<br>event_dt=%{x}<br>event_name=%{y}<extra></extra>\",\"legendgroup\":\"B\",\"marker\":{\"color\":\"#72B7B2\",\"pattern\":{\"shape\":\"\"}},\"name\":\"B\",\"offsetgroup\":\"B\",\"orientation\":\"v\",\"showlegend\":true,\"textposition\":\"auto\",\"x\":[\"2020-12-07\",\"2020-12-08\",\"2020-12-09\",\"2020-12-10\",\"2020-12-11\",\"2020-12-12\",\"2020-12-13\",\"2020-12-14\",\"2020-12-15\",\"2020-12-16\",\"2020-12-17\",\"2020-12-18\",\"2020-12-19\",\"2020-12-20\",\"2020-12-21\",\"2020-12-22\",\"2020-12-23\",\"2020-12-24\",\"2020-12-25\",\"2020-12-26\",\"2020-12-27\",\"2020-12-28\",\"2020-12-29\"],\"xaxis\":\"x\",\"y\":[378,252,361,263,168,203,176,272,232,385,296,272,304,320,430,179,172,126,76,73,71,72,42],\"yaxis\":\"y\",\"type\":\"bar\"}],                        {\"template\":{\"data\":{\"bar\":[{\"error_x\":{\"color\":\"#2a3f5f\"},\"error_y\":{\"color\":\"#2a3f5f\"},\"marker\":{\"line\":{\"color\":\"#E5ECF6\",\"width\":0.5},\"pattern\":{\"fillmode\":\"overlay\",\"size\":10,\"solidity\":0.2}},\"type\":\"bar\"}],\"barpolar\":[{\"marker\":{\"line\":{\"color\":\"#E5ECF6\",\"width\":0.5},\"pattern\":{\"fillmode\":\"overlay\",\"size\":10,\"solidity\":0.2}},\"type\":\"barpolar\"}],\"carpet\":[{\"aaxis\":{\"endlinecolor\":\"#2a3f5f\",\"gridcolor\":\"white\",\"linecolor\":\"white\",\"minorgridcolor\":\"white\",\"startlinecolor\":\"#2a3f5f\"},\"baxis\":{\"endlinecolor\":\"#2a3f5f\",\"gridcolor\":\"white\",\"linecolor\":\"white\",\"minorgridcolor\":\"white\",\"startlinecolor\":\"#2a3f5f\"},\"type\":\"carpet\"}],\"choropleth\":[{\"colorbar\":{\"outlinewidth\":0,\"ticks\":\"\"},\"type\":\"choropleth\"}],\"contour\":[{\"colorbar\":{\"outlinewidth\":0,\"ticks\":\"\"},\"colorscale\":[[0.0,\"#0d0887\"],[0.1111111111111111,\"#46039f\"],[0.2222222222222222,\"#7201a8\"],[0.3333333333333333,\"#9c179e\"],[0.4444444444444444,\"#bd3786\"],[0.5555555555555556,\"#d8576b\"],[0.6666666666666666,\"#ed7953\"],[0.7777777777777778,\"#fb9f3a\"],[0.8888888888888888,\"#fdca26\"],[1.0,\"#f0f921\"]],\"type\":\"contour\"}],\"contourcarpet\":[{\"colorbar\":{\"outlinewidth\":0,\"ticks\":\"\"},\"type\":\"contourcarpet\"}],\"heatmap\":[{\"colorbar\":{\"outlinewidth\":0,\"ticks\":\"\"},\"colorscale\":[[0.0,\"#0d0887\"],[0.1111111111111111,\"#46039f\"],[0.2222222222222222,\"#7201a8\"],[0.3333333333333333,\"#9c179e\"],[0.4444444444444444,\"#bd3786\"],[0.5555555555555556,\"#d8576b\"],[0.6666666666666666,\"#ed7953\"],[0.7777777777777778,\"#fb9f3a\"],[0.8888888888888888,\"#fdca26\"],[1.0,\"#f0f921\"]],\"type\":\"heatmap\"}],\"heatmapgl\":[{\"colorbar\":{\"outlinewidth\":0,\"ticks\":\"\"},\"colorscale\":[[0.0,\"#0d0887\"],[0.1111111111111111,\"#46039f\"],[0.2222222222222222,\"#7201a8\"],[0.3333333333333333,\"#9c179e\"],[0.4444444444444444,\"#bd3786\"],[0.5555555555555556,\"#d8576b\"],[0.6666666666666666,\"#ed7953\"],[0.7777777777777778,\"#fb9f3a\"],[0.8888888888888888,\"#fdca26\"],[1.0,\"#f0f921\"]],\"type\":\"heatmapgl\"}],\"histogram\":[{\"marker\":{\"pattern\":{\"fillmode\":\"overlay\",\"size\":10,\"solidity\":0.2}},\"type\":\"histogram\"}],\"histogram2d\":[{\"colorbar\":{\"outlinewidth\":0,\"ticks\":\"\"},\"colorscale\":[[0.0,\"#0d0887\"],[0.1111111111111111,\"#46039f\"],[0.2222222222222222,\"#7201a8\"],[0.3333333333333333,\"#9c179e\"],[0.4444444444444444,\"#bd3786\"],[0.5555555555555556,\"#d8576b\"],[0.6666666666666666,\"#ed7953\"],[0.7777777777777778,\"#fb9f3a\"],[0.8888888888888888,\"#fdca26\"],[1.0,\"#f0f921\"]],\"type\":\"histogram2d\"}],\"histogram2dcontour\":[{\"colorbar\":{\"outlinewidth\":0,\"ticks\":\"\"},\"colorscale\":[[0.0,\"#0d0887\"],[0.1111111111111111,\"#46039f\"],[0.2222222222222222,\"#7201a8\"],[0.3333333333333333,\"#9c179e\"],[0.4444444444444444,\"#bd3786\"],[0.5555555555555556,\"#d8576b\"],[0.6666666666666666,\"#ed7953\"],[0.7777777777777778,\"#fb9f3a\"],[0.8888888888888888,\"#fdca26\"],[1.0,\"#f0f921\"]],\"type\":\"histogram2dcontour\"}],\"mesh3d\":[{\"colorbar\":{\"outlinewidth\":0,\"ticks\":\"\"},\"type\":\"mesh3d\"}],\"parcoords\":[{\"line\":{\"colorbar\":{\"outlinewidth\":0,\"ticks\":\"\"}},\"type\":\"parcoords\"}],\"pie\":[{\"automargin\":true,\"type\":\"pie\"}],\"scatter\":[{\"marker\":{\"colorbar\":{\"outlinewidth\":0,\"ticks\":\"\"}},\"type\":\"scatter\"}],\"scatter3d\":[{\"line\":{\"colorbar\":{\"outlinewidth\":0,\"ticks\":\"\"}},\"marker\":{\"colorbar\":{\"outlinewidth\":0,\"ticks\":\"\"}},\"type\":\"scatter3d\"}],\"scattercarpet\":[{\"marker\":{\"colorbar\":{\"outlinewidth\":0,\"ticks\":\"\"}},\"type\":\"scattercarpet\"}],\"scattergeo\":[{\"marker\":{\"colorbar\":{\"outlinewidth\":0,\"ticks\":\"\"}},\"type\":\"scattergeo\"}],\"scattergl\":[{\"marker\":{\"colorbar\":{\"outlinewidth\":0,\"ticks\":\"\"}},\"type\":\"scattergl\"}],\"scattermapbox\":[{\"marker\":{\"colorbar\":{\"outlinewidth\":0,\"ticks\":\"\"}},\"type\":\"scattermapbox\"}],\"scatterpolar\":[{\"marker\":{\"colorbar\":{\"outlinewidth\":0,\"ticks\":\"\"}},\"type\":\"scatterpolar\"}],\"scatterpolargl\":[{\"marker\":{\"colorbar\":{\"outlinewidth\":0,\"ticks\":\"\"}},\"type\":\"scatterpolargl\"}],\"scatterternary\":[{\"marker\":{\"colorbar\":{\"outlinewidth\":0,\"ticks\":\"\"}},\"type\":\"scatterternary\"}],\"surface\":[{\"colorbar\":{\"outlinewidth\":0,\"ticks\":\"\"},\"colorscale\":[[0.0,\"#0d0887\"],[0.1111111111111111,\"#46039f\"],[0.2222222222222222,\"#7201a8\"],[0.3333333333333333,\"#9c179e\"],[0.4444444444444444,\"#bd3786\"],[0.5555555555555556,\"#d8576b\"],[0.6666666666666666,\"#ed7953\"],[0.7777777777777778,\"#fb9f3a\"],[0.8888888888888888,\"#fdca26\"],[1.0,\"#f0f921\"]],\"type\":\"surface\"}],\"table\":[{\"cells\":{\"fill\":{\"color\":\"#EBF0F8\"},\"line\":{\"color\":\"white\"}},\"header\":{\"fill\":{\"color\":\"#C8D4E3\"},\"line\":{\"color\":\"white\"}},\"type\":\"table\"}]},\"layout\":{\"annotationdefaults\":{\"arrowcolor\":\"#2a3f5f\",\"arrowhead\":0,\"arrowwidth\":1},\"autotypenumbers\":\"strict\",\"coloraxis\":{\"colorbar\":{\"outlinewidth\":0,\"ticks\":\"\"}},\"colorscale\":{\"diverging\":[[0,\"#8e0152\"],[0.1,\"#c51b7d\"],[0.2,\"#de77ae\"],[0.3,\"#f1b6da\"],[0.4,\"#fde0ef\"],[0.5,\"#f7f7f7\"],[0.6,\"#e6f5d0\"],[0.7,\"#b8e186\"],[0.8,\"#7fbc41\"],[0.9,\"#4d9221\"],[1,\"#276419\"]],\"sequential\":[[0.0,\"#0d0887\"],[0.1111111111111111,\"#46039f\"],[0.2222222222222222,\"#7201a8\"],[0.3333333333333333,\"#9c179e\"],[0.4444444444444444,\"#bd3786\"],[0.5555555555555556,\"#d8576b\"],[0.6666666666666666,\"#ed7953\"],[0.7777777777777778,\"#fb9f3a\"],[0.8888888888888888,\"#fdca26\"],[1.0,\"#f0f921\"]],\"sequentialminus\":[[0.0,\"#0d0887\"],[0.1111111111111111,\"#46039f\"],[0.2222222222222222,\"#7201a8\"],[0.3333333333333333,\"#9c179e\"],[0.4444444444444444,\"#bd3786\"],[0.5555555555555556,\"#d8576b\"],[0.6666666666666666,\"#ed7953\"],[0.7777777777777778,\"#fb9f3a\"],[0.8888888888888888,\"#fdca26\"],[1.0,\"#f0f921\"]]},\"colorway\":[\"#636efa\",\"#EF553B\",\"#00cc96\",\"#ab63fa\",\"#FFA15A\",\"#19d3f3\",\"#FF6692\",\"#B6E880\",\"#FF97FF\",\"#FECB52\"],\"font\":{\"color\":\"#2a3f5f\"},\"geo\":{\"bgcolor\":\"white\",\"lakecolor\":\"white\",\"landcolor\":\"#E5ECF6\",\"showlakes\":true,\"showland\":true,\"subunitcolor\":\"white\"},\"hoverlabel\":{\"align\":\"left\"},\"hovermode\":\"closest\",\"mapbox\":{\"style\":\"light\"},\"paper_bgcolor\":\"white\",\"plot_bgcolor\":\"#E5ECF6\",\"polar\":{\"angularaxis\":{\"gridcolor\":\"white\",\"linecolor\":\"white\",\"ticks\":\"\"},\"bgcolor\":\"#E5ECF6\",\"radialaxis\":{\"gridcolor\":\"white\",\"linecolor\":\"white\",\"ticks\":\"\"}},\"scene\":{\"xaxis\":{\"backgroundcolor\":\"#E5ECF6\",\"gridcolor\":\"white\",\"gridwidth\":2,\"linecolor\":\"white\",\"showbackground\":true,\"ticks\":\"\",\"zerolinecolor\":\"white\"},\"yaxis\":{\"backgroundcolor\":\"#E5ECF6\",\"gridcolor\":\"white\",\"gridwidth\":2,\"linecolor\":\"white\",\"showbackground\":true,\"ticks\":\"\",\"zerolinecolor\":\"white\"},\"zaxis\":{\"backgroundcolor\":\"#E5ECF6\",\"gridcolor\":\"white\",\"gridwidth\":2,\"linecolor\":\"white\",\"showbackground\":true,\"ticks\":\"\",\"zerolinecolor\":\"white\"}},\"shapedefaults\":{\"line\":{\"color\":\"#2a3f5f\"}},\"ternary\":{\"aaxis\":{\"gridcolor\":\"white\",\"linecolor\":\"white\",\"ticks\":\"\"},\"baxis\":{\"gridcolor\":\"white\",\"linecolor\":\"white\",\"ticks\":\"\"},\"bgcolor\":\"#E5ECF6\",\"caxis\":{\"gridcolor\":\"white\",\"linecolor\":\"white\",\"ticks\":\"\"}},\"title\":{\"x\":0.05},\"xaxis\":{\"automargin\":true,\"gridcolor\":\"white\",\"linecolor\":\"white\",\"ticks\":\"\",\"title\":{\"standoff\":15},\"zerolinecolor\":\"white\",\"zerolinewidth\":2},\"yaxis\":{\"automargin\":true,\"gridcolor\":\"white\",\"linecolor\":\"white\",\"ticks\":\"\",\"title\":{\"standoff\":15},\"zerolinecolor\":\"white\",\"zerolinewidth\":2}}},\"xaxis\":{\"anchor\":\"y\",\"domain\":[0.0,1.0],\"title\":{\"text\":\"\\u0414\\u0430\\u0442\\u044b\"}},\"yaxis\":{\"anchor\":\"x\",\"domain\":[0.0,1.0],\"title\":{\"text\":\"\\u041a\\u043e\\u043b\\u0438\\u0447\\u0435\\u0441\\u0442\\u0432\\u043e \\u0441\\u043e\\u0431\\u044b\\u0442\\u0438\\u0439\"}},\"legend\":{\"title\":{\"text\":\"group\"},\"tracegroupgap\":0},\"margin\":{\"t\":60},\"barmode\":\"group\",\"title\":{\"text\":\"\\u0420\\u0430\\u0441\\u043f\\u0440\\u0435\\u0434\\u0435\\u043b\\u0435\\u043d\\u0438\\u0435 \\u0447\\u0438\\u0441\\u043b\\u0430 \\u0441\\u043e\\u0431\\u044b\\u0442\\u0438\\u0439 \\u0432 \\u0432\\u044b\\u0431\\u043e\\u0440\\u043a\\u0430\\u0445 \\u043f\\u043e \\u0434\\u043d\\u044f\\u043c\"}},                        {\"responsive\": true}                    ).then(function(){\n",
       "                            \n",
       "var gd = document.getElementById('30f44ff7-4968-484f-8cb0-5a8298931547');\n",
       "var x = new MutationObserver(function (mutations, observer) {{\n",
       "        var display = window.getComputedStyle(gd).display;\n",
       "        if (!display || display === 'none') {{\n",
       "            console.log([gd, 'removed!']);\n",
       "            Plotly.purge(gd);\n",
       "            observer.disconnect();\n",
       "        }}\n",
       "}});\n",
       "\n",
       "// Listen for the removal of the full notebook cells\n",
       "var notebookContainer = gd.closest('#notebook-container');\n",
       "if (notebookContainer) {{\n",
       "    x.observe(notebookContainer, {childList: true});\n",
       "}}\n",
       "\n",
       "// Listen for the clearing of the current output cell\n",
       "var outputEl = gd.closest('.output');\n",
       "if (outputEl) {{\n",
       "    x.observe(outputEl, {childList: true});\n",
       "}}\n",
       "\n",
       "                        })                };                });            </script>        </div>"
      ]
     },
     "metadata": {},
     "output_type": "display_data"
    }
   ],
   "source": [
    "fig = px.bar(events_per_date, x=\"event_dt\", y ='event_name', color=\"group\", barmode='group', color_discrete_sequence= ['#B279A2','#72B7B2'])\n",
    "fig.update_layout(\n",
    "    title_text='Распределение числа событий в выборках по дням', \n",
    "    xaxis_title_text='Даты', \n",
    "    yaxis_title_text='Количество событий')\n",
    "\n",
    "fig.show()"
   ]
  },
  {
   "cell_type": "markdown",
   "metadata": {},
   "source": [
    "По графику видим, что в первые 7 дней теста распределение числа событий в выборках было сопоставимым, но 14 декабря в группе А резко возросло количество событий и они далее растут до 21 декабря до пикового количества 1995 действий. После этого количество событий стало сокращаться. По группе В резких перепадов не наблюдается, но после 21 декабря график событий тоже идет на спад. \n",
    "\n",
    "Больше количество событий можно связать с попаданием проведения теста в предновогодние недели, на которых активность пользователей всегда растет. Но в группе В всплеска не наблюдается, поэтому к определяющему фактору отнести предпразничные закупки не можем. \n",
    "\n",
    "Судя по тому, что снижение активности по обеим группам совпадает с днём остановки набора новых пользователей, можно предположить, что всплекс событий в группе А связан с регистрацией новых пользователей и их попаданием в основном в группу А, а не в группу В. Посмотрим как распределены данные по регистрации пользователей"
   ]
  },
  {
   "cell_type": "code",
   "execution_count": 59,
   "metadata": {},
   "outputs": [
    {
     "data": {
      "text/html": [
       "<div>\n",
       "<style scoped>\n",
       "    .dataframe tbody tr th:only-of-type {\n",
       "        vertical-align: middle;\n",
       "    }\n",
       "\n",
       "    .dataframe tbody tr th {\n",
       "        vertical-align: top;\n",
       "    }\n",
       "\n",
       "    .dataframe thead th {\n",
       "        text-align: right;\n",
       "    }\n",
       "</style>\n",
       "<table border=\"1\" class=\"dataframe\">\n",
       "  <thead>\n",
       "    <tr style=\"text-align: right;\">\n",
       "      <th></th>\n",
       "      <th>first_date</th>\n",
       "      <th>group</th>\n",
       "      <th>user_id</th>\n",
       "    </tr>\n",
       "  </thead>\n",
       "  <tbody>\n",
       "    <tr>\n",
       "      <th>0</th>\n",
       "      <td>2020-12-07</td>\n",
       "      <td>A</td>\n",
       "      <td>163</td>\n",
       "    </tr>\n",
       "    <tr>\n",
       "      <th>1</th>\n",
       "      <td>2020-12-07</td>\n",
       "      <td>B</td>\n",
       "      <td>182</td>\n",
       "    </tr>\n",
       "    <tr>\n",
       "      <th>2</th>\n",
       "      <td>2020-12-08</td>\n",
       "      <td>A</td>\n",
       "      <td>98</td>\n",
       "    </tr>\n",
       "    <tr>\n",
       "      <th>3</th>\n",
       "      <td>2020-12-08</td>\n",
       "      <td>B</td>\n",
       "      <td>44</td>\n",
       "    </tr>\n",
       "    <tr>\n",
       "      <th>4</th>\n",
       "      <td>2020-12-09</td>\n",
       "      <td>A</td>\n",
       "      <td>82</td>\n",
       "    </tr>\n",
       "  </tbody>\n",
       "</table>\n",
       "</div>"
      ],
      "text/plain": [
       "  first_date group  user_id\n",
       "0 2020-12-07     A      163\n",
       "1 2020-12-07     B      182\n",
       "2 2020-12-08     A       98\n",
       "3 2020-12-08     B       44\n",
       "4 2020-12-09     A       82"
      ]
     },
     "execution_count": 59,
     "metadata": {},
     "output_type": "execute_result"
    }
   ],
   "source": [
    "#количество событий в тестовых группах по дням \n",
    "first_date = test_users_merged.pivot_table(index=['first_date','group'], values = 'user_id', aggfunc='nunique').reset_index()\n",
    "first_date.head()"
   ]
  },
  {
   "cell_type": "code",
   "execution_count": 60,
   "metadata": {},
   "outputs": [
    {
     "data": {
      "application/vnd.plotly.v1+json": {
       "config": {
        "plotlyServerURL": "https://plot.ly"
       },
       "data": [
        {
         "alignmentgroup": "True",
         "hovertemplate": "group=A<br>first_date=%{x}<br>user_id=%{y}<extra></extra>",
         "legendgroup": "A",
         "marker": {
          "color": "#B279A2",
          "pattern": {
           "shape": ""
          }
         },
         "name": "A",
         "offsetgroup": "A",
         "orientation": "v",
         "showlegend": true,
         "textposition": "auto",
         "type": "bar",
         "x": [
          "2020-12-07T00:00:00",
          "2020-12-08T00:00:00",
          "2020-12-09T00:00:00",
          "2020-12-10T00:00:00",
          "2020-12-11T00:00:00",
          "2020-12-12T00:00:00",
          "2020-12-13T00:00:00",
          "2020-12-14T00:00:00",
          "2020-12-15T00:00:00",
          "2020-12-16T00:00:00",
          "2020-12-17T00:00:00",
          "2020-12-18T00:00:00",
          "2020-12-19T00:00:00",
          "2020-12-20T00:00:00",
          "2020-12-21T00:00:00"
         ],
         "xaxis": "x",
         "y": [
          163,
          98,
          82,
          66,
          92,
          64,
          56,
          387,
          208,
          169,
          212,
          220,
          239,
          274,
          417
         ],
         "yaxis": "y"
        },
        {
         "alignmentgroup": "True",
         "hovertemplate": "group=B<br>first_date=%{x}<br>user_id=%{y}<extra></extra>",
         "legendgroup": "B",
         "marker": {
          "color": "#72B7B2",
          "pattern": {
           "shape": ""
          }
         },
         "name": "B",
         "offsetgroup": "B",
         "orientation": "v",
         "showlegend": true,
         "textposition": "auto",
         "type": "bar",
         "x": [
          "2020-12-07T00:00:00",
          "2020-12-08T00:00:00",
          "2020-12-09T00:00:00",
          "2020-12-10T00:00:00",
          "2020-12-11T00:00:00",
          "2020-12-12T00:00:00",
          "2020-12-13T00:00:00",
          "2020-12-14T00:00:00",
          "2020-12-15T00:00:00",
          "2020-12-16T00:00:00",
          "2020-12-17T00:00:00",
          "2020-12-18T00:00:00",
          "2020-12-19T00:00:00",
          "2020-12-20T00:00:00",
          "2020-12-21T00:00:00"
         ],
         "xaxis": "x",
         "y": [
          182,
          44,
          85,
          33,
          21,
          53,
          15,
          72,
          32,
          99,
          39,
          50,
          47,
          63,
          93
         ],
         "yaxis": "y"
        }
       ],
       "layout": {
        "barmode": "group",
        "legend": {
         "title": {
          "text": "group"
         },
         "tracegroupgap": 0
        },
        "margin": {
         "t": 60
        },
        "template": {
         "data": {
          "bar": [
           {
            "error_x": {
             "color": "#2a3f5f"
            },
            "error_y": {
             "color": "#2a3f5f"
            },
            "marker": {
             "line": {
              "color": "#E5ECF6",
              "width": 0.5
             },
             "pattern": {
              "fillmode": "overlay",
              "size": 10,
              "solidity": 0.2
             }
            },
            "type": "bar"
           }
          ],
          "barpolar": [
           {
            "marker": {
             "line": {
              "color": "#E5ECF6",
              "width": 0.5
             },
             "pattern": {
              "fillmode": "overlay",
              "size": 10,
              "solidity": 0.2
             }
            },
            "type": "barpolar"
           }
          ],
          "carpet": [
           {
            "aaxis": {
             "endlinecolor": "#2a3f5f",
             "gridcolor": "white",
             "linecolor": "white",
             "minorgridcolor": "white",
             "startlinecolor": "#2a3f5f"
            },
            "baxis": {
             "endlinecolor": "#2a3f5f",
             "gridcolor": "white",
             "linecolor": "white",
             "minorgridcolor": "white",
             "startlinecolor": "#2a3f5f"
            },
            "type": "carpet"
           }
          ],
          "choropleth": [
           {
            "colorbar": {
             "outlinewidth": 0,
             "ticks": ""
            },
            "type": "choropleth"
           }
          ],
          "contour": [
           {
            "colorbar": {
             "outlinewidth": 0,
             "ticks": ""
            },
            "colorscale": [
             [
              0,
              "#0d0887"
             ],
             [
              0.1111111111111111,
              "#46039f"
             ],
             [
              0.2222222222222222,
              "#7201a8"
             ],
             [
              0.3333333333333333,
              "#9c179e"
             ],
             [
              0.4444444444444444,
              "#bd3786"
             ],
             [
              0.5555555555555556,
              "#d8576b"
             ],
             [
              0.6666666666666666,
              "#ed7953"
             ],
             [
              0.7777777777777778,
              "#fb9f3a"
             ],
             [
              0.8888888888888888,
              "#fdca26"
             ],
             [
              1,
              "#f0f921"
             ]
            ],
            "type": "contour"
           }
          ],
          "contourcarpet": [
           {
            "colorbar": {
             "outlinewidth": 0,
             "ticks": ""
            },
            "type": "contourcarpet"
           }
          ],
          "heatmap": [
           {
            "colorbar": {
             "outlinewidth": 0,
             "ticks": ""
            },
            "colorscale": [
             [
              0,
              "#0d0887"
             ],
             [
              0.1111111111111111,
              "#46039f"
             ],
             [
              0.2222222222222222,
              "#7201a8"
             ],
             [
              0.3333333333333333,
              "#9c179e"
             ],
             [
              0.4444444444444444,
              "#bd3786"
             ],
             [
              0.5555555555555556,
              "#d8576b"
             ],
             [
              0.6666666666666666,
              "#ed7953"
             ],
             [
              0.7777777777777778,
              "#fb9f3a"
             ],
             [
              0.8888888888888888,
              "#fdca26"
             ],
             [
              1,
              "#f0f921"
             ]
            ],
            "type": "heatmap"
           }
          ],
          "heatmapgl": [
           {
            "colorbar": {
             "outlinewidth": 0,
             "ticks": ""
            },
            "colorscale": [
             [
              0,
              "#0d0887"
             ],
             [
              0.1111111111111111,
              "#46039f"
             ],
             [
              0.2222222222222222,
              "#7201a8"
             ],
             [
              0.3333333333333333,
              "#9c179e"
             ],
             [
              0.4444444444444444,
              "#bd3786"
             ],
             [
              0.5555555555555556,
              "#d8576b"
             ],
             [
              0.6666666666666666,
              "#ed7953"
             ],
             [
              0.7777777777777778,
              "#fb9f3a"
             ],
             [
              0.8888888888888888,
              "#fdca26"
             ],
             [
              1,
              "#f0f921"
             ]
            ],
            "type": "heatmapgl"
           }
          ],
          "histogram": [
           {
            "marker": {
             "pattern": {
              "fillmode": "overlay",
              "size": 10,
              "solidity": 0.2
             }
            },
            "type": "histogram"
           }
          ],
          "histogram2d": [
           {
            "colorbar": {
             "outlinewidth": 0,
             "ticks": ""
            },
            "colorscale": [
             [
              0,
              "#0d0887"
             ],
             [
              0.1111111111111111,
              "#46039f"
             ],
             [
              0.2222222222222222,
              "#7201a8"
             ],
             [
              0.3333333333333333,
              "#9c179e"
             ],
             [
              0.4444444444444444,
              "#bd3786"
             ],
             [
              0.5555555555555556,
              "#d8576b"
             ],
             [
              0.6666666666666666,
              "#ed7953"
             ],
             [
              0.7777777777777778,
              "#fb9f3a"
             ],
             [
              0.8888888888888888,
              "#fdca26"
             ],
             [
              1,
              "#f0f921"
             ]
            ],
            "type": "histogram2d"
           }
          ],
          "histogram2dcontour": [
           {
            "colorbar": {
             "outlinewidth": 0,
             "ticks": ""
            },
            "colorscale": [
             [
              0,
              "#0d0887"
             ],
             [
              0.1111111111111111,
              "#46039f"
             ],
             [
              0.2222222222222222,
              "#7201a8"
             ],
             [
              0.3333333333333333,
              "#9c179e"
             ],
             [
              0.4444444444444444,
              "#bd3786"
             ],
             [
              0.5555555555555556,
              "#d8576b"
             ],
             [
              0.6666666666666666,
              "#ed7953"
             ],
             [
              0.7777777777777778,
              "#fb9f3a"
             ],
             [
              0.8888888888888888,
              "#fdca26"
             ],
             [
              1,
              "#f0f921"
             ]
            ],
            "type": "histogram2dcontour"
           }
          ],
          "mesh3d": [
           {
            "colorbar": {
             "outlinewidth": 0,
             "ticks": ""
            },
            "type": "mesh3d"
           }
          ],
          "parcoords": [
           {
            "line": {
             "colorbar": {
              "outlinewidth": 0,
              "ticks": ""
             }
            },
            "type": "parcoords"
           }
          ],
          "pie": [
           {
            "automargin": true,
            "type": "pie"
           }
          ],
          "scatter": [
           {
            "marker": {
             "colorbar": {
              "outlinewidth": 0,
              "ticks": ""
             }
            },
            "type": "scatter"
           }
          ],
          "scatter3d": [
           {
            "line": {
             "colorbar": {
              "outlinewidth": 0,
              "ticks": ""
             }
            },
            "marker": {
             "colorbar": {
              "outlinewidth": 0,
              "ticks": ""
             }
            },
            "type": "scatter3d"
           }
          ],
          "scattercarpet": [
           {
            "marker": {
             "colorbar": {
              "outlinewidth": 0,
              "ticks": ""
             }
            },
            "type": "scattercarpet"
           }
          ],
          "scattergeo": [
           {
            "marker": {
             "colorbar": {
              "outlinewidth": 0,
              "ticks": ""
             }
            },
            "type": "scattergeo"
           }
          ],
          "scattergl": [
           {
            "marker": {
             "colorbar": {
              "outlinewidth": 0,
              "ticks": ""
             }
            },
            "type": "scattergl"
           }
          ],
          "scattermapbox": [
           {
            "marker": {
             "colorbar": {
              "outlinewidth": 0,
              "ticks": ""
             }
            },
            "type": "scattermapbox"
           }
          ],
          "scatterpolar": [
           {
            "marker": {
             "colorbar": {
              "outlinewidth": 0,
              "ticks": ""
             }
            },
            "type": "scatterpolar"
           }
          ],
          "scatterpolargl": [
           {
            "marker": {
             "colorbar": {
              "outlinewidth": 0,
              "ticks": ""
             }
            },
            "type": "scatterpolargl"
           }
          ],
          "scatterternary": [
           {
            "marker": {
             "colorbar": {
              "outlinewidth": 0,
              "ticks": ""
             }
            },
            "type": "scatterternary"
           }
          ],
          "surface": [
           {
            "colorbar": {
             "outlinewidth": 0,
             "ticks": ""
            },
            "colorscale": [
             [
              0,
              "#0d0887"
             ],
             [
              0.1111111111111111,
              "#46039f"
             ],
             [
              0.2222222222222222,
              "#7201a8"
             ],
             [
              0.3333333333333333,
              "#9c179e"
             ],
             [
              0.4444444444444444,
              "#bd3786"
             ],
             [
              0.5555555555555556,
              "#d8576b"
             ],
             [
              0.6666666666666666,
              "#ed7953"
             ],
             [
              0.7777777777777778,
              "#fb9f3a"
             ],
             [
              0.8888888888888888,
              "#fdca26"
             ],
             [
              1,
              "#f0f921"
             ]
            ],
            "type": "surface"
           }
          ],
          "table": [
           {
            "cells": {
             "fill": {
              "color": "#EBF0F8"
             },
             "line": {
              "color": "white"
             }
            },
            "header": {
             "fill": {
              "color": "#C8D4E3"
             },
             "line": {
              "color": "white"
             }
            },
            "type": "table"
           }
          ]
         },
         "layout": {
          "annotationdefaults": {
           "arrowcolor": "#2a3f5f",
           "arrowhead": 0,
           "arrowwidth": 1
          },
          "autotypenumbers": "strict",
          "coloraxis": {
           "colorbar": {
            "outlinewidth": 0,
            "ticks": ""
           }
          },
          "colorscale": {
           "diverging": [
            [
             0,
             "#8e0152"
            ],
            [
             0.1,
             "#c51b7d"
            ],
            [
             0.2,
             "#de77ae"
            ],
            [
             0.3,
             "#f1b6da"
            ],
            [
             0.4,
             "#fde0ef"
            ],
            [
             0.5,
             "#f7f7f7"
            ],
            [
             0.6,
             "#e6f5d0"
            ],
            [
             0.7,
             "#b8e186"
            ],
            [
             0.8,
             "#7fbc41"
            ],
            [
             0.9,
             "#4d9221"
            ],
            [
             1,
             "#276419"
            ]
           ],
           "sequential": [
            [
             0,
             "#0d0887"
            ],
            [
             0.1111111111111111,
             "#46039f"
            ],
            [
             0.2222222222222222,
             "#7201a8"
            ],
            [
             0.3333333333333333,
             "#9c179e"
            ],
            [
             0.4444444444444444,
             "#bd3786"
            ],
            [
             0.5555555555555556,
             "#d8576b"
            ],
            [
             0.6666666666666666,
             "#ed7953"
            ],
            [
             0.7777777777777778,
             "#fb9f3a"
            ],
            [
             0.8888888888888888,
             "#fdca26"
            ],
            [
             1,
             "#f0f921"
            ]
           ],
           "sequentialminus": [
            [
             0,
             "#0d0887"
            ],
            [
             0.1111111111111111,
             "#46039f"
            ],
            [
             0.2222222222222222,
             "#7201a8"
            ],
            [
             0.3333333333333333,
             "#9c179e"
            ],
            [
             0.4444444444444444,
             "#bd3786"
            ],
            [
             0.5555555555555556,
             "#d8576b"
            ],
            [
             0.6666666666666666,
             "#ed7953"
            ],
            [
             0.7777777777777778,
             "#fb9f3a"
            ],
            [
             0.8888888888888888,
             "#fdca26"
            ],
            [
             1,
             "#f0f921"
            ]
           ]
          },
          "colorway": [
           "#636efa",
           "#EF553B",
           "#00cc96",
           "#ab63fa",
           "#FFA15A",
           "#19d3f3",
           "#FF6692",
           "#B6E880",
           "#FF97FF",
           "#FECB52"
          ],
          "font": {
           "color": "#2a3f5f"
          },
          "geo": {
           "bgcolor": "white",
           "lakecolor": "white",
           "landcolor": "#E5ECF6",
           "showlakes": true,
           "showland": true,
           "subunitcolor": "white"
          },
          "hoverlabel": {
           "align": "left"
          },
          "hovermode": "closest",
          "mapbox": {
           "style": "light"
          },
          "paper_bgcolor": "white",
          "plot_bgcolor": "#E5ECF6",
          "polar": {
           "angularaxis": {
            "gridcolor": "white",
            "linecolor": "white",
            "ticks": ""
           },
           "bgcolor": "#E5ECF6",
           "radialaxis": {
            "gridcolor": "white",
            "linecolor": "white",
            "ticks": ""
           }
          },
          "scene": {
           "xaxis": {
            "backgroundcolor": "#E5ECF6",
            "gridcolor": "white",
            "gridwidth": 2,
            "linecolor": "white",
            "showbackground": true,
            "ticks": "",
            "zerolinecolor": "white"
           },
           "yaxis": {
            "backgroundcolor": "#E5ECF6",
            "gridcolor": "white",
            "gridwidth": 2,
            "linecolor": "white",
            "showbackground": true,
            "ticks": "",
            "zerolinecolor": "white"
           },
           "zaxis": {
            "backgroundcolor": "#E5ECF6",
            "gridcolor": "white",
            "gridwidth": 2,
            "linecolor": "white",
            "showbackground": true,
            "ticks": "",
            "zerolinecolor": "white"
           }
          },
          "shapedefaults": {
           "line": {
            "color": "#2a3f5f"
           }
          },
          "ternary": {
           "aaxis": {
            "gridcolor": "white",
            "linecolor": "white",
            "ticks": ""
           },
           "baxis": {
            "gridcolor": "white",
            "linecolor": "white",
            "ticks": ""
           },
           "bgcolor": "#E5ECF6",
           "caxis": {
            "gridcolor": "white",
            "linecolor": "white",
            "ticks": ""
           }
          },
          "title": {
           "x": 0.05
          },
          "xaxis": {
           "automargin": true,
           "gridcolor": "white",
           "linecolor": "white",
           "ticks": "",
           "title": {
            "standoff": 15
           },
           "zerolinecolor": "white",
           "zerolinewidth": 2
          },
          "yaxis": {
           "automargin": true,
           "gridcolor": "white",
           "linecolor": "white",
           "ticks": "",
           "title": {
            "standoff": 15
           },
           "zerolinecolor": "white",
           "zerolinewidth": 2
          }
         }
        },
        "title": {
         "text": "Регистрация пользователей в выборках по дням"
        },
        "xaxis": {
         "anchor": "y",
         "domain": [
          0,
          1
         ],
         "title": {
          "text": "Даты"
         }
        },
        "yaxis": {
         "anchor": "x",
         "domain": [
          0,
          1
         ],
         "title": {
          "text": "Количество событий"
         }
        }
       }
      },
      "text/html": [
       "<div>                            <div id=\"5ec47936-8587-4b91-9421-4991aa3d8617\" class=\"plotly-graph-div\" style=\"height:525px; width:100%;\"></div>            <script type=\"text/javascript\">                require([\"plotly\"], function(Plotly) {                    window.PLOTLYENV=window.PLOTLYENV || {};                                    if (document.getElementById(\"5ec47936-8587-4b91-9421-4991aa3d8617\")) {                    Plotly.newPlot(                        \"5ec47936-8587-4b91-9421-4991aa3d8617\",                        [{\"alignmentgroup\":\"True\",\"hovertemplate\":\"group=A<br>first_date=%{x}<br>user_id=%{y}<extra></extra>\",\"legendgroup\":\"A\",\"marker\":{\"color\":\"#B279A2\",\"pattern\":{\"shape\":\"\"}},\"name\":\"A\",\"offsetgroup\":\"A\",\"orientation\":\"v\",\"showlegend\":true,\"textposition\":\"auto\",\"x\":[\"2020-12-07T00:00:00\",\"2020-12-08T00:00:00\",\"2020-12-09T00:00:00\",\"2020-12-10T00:00:00\",\"2020-12-11T00:00:00\",\"2020-12-12T00:00:00\",\"2020-12-13T00:00:00\",\"2020-12-14T00:00:00\",\"2020-12-15T00:00:00\",\"2020-12-16T00:00:00\",\"2020-12-17T00:00:00\",\"2020-12-18T00:00:00\",\"2020-12-19T00:00:00\",\"2020-12-20T00:00:00\",\"2020-12-21T00:00:00\"],\"xaxis\":\"x\",\"y\":[163,98,82,66,92,64,56,387,208,169,212,220,239,274,417],\"yaxis\":\"y\",\"type\":\"bar\"},{\"alignmentgroup\":\"True\",\"hovertemplate\":\"group=B<br>first_date=%{x}<br>user_id=%{y}<extra></extra>\",\"legendgroup\":\"B\",\"marker\":{\"color\":\"#72B7B2\",\"pattern\":{\"shape\":\"\"}},\"name\":\"B\",\"offsetgroup\":\"B\",\"orientation\":\"v\",\"showlegend\":true,\"textposition\":\"auto\",\"x\":[\"2020-12-07T00:00:00\",\"2020-12-08T00:00:00\",\"2020-12-09T00:00:00\",\"2020-12-10T00:00:00\",\"2020-12-11T00:00:00\",\"2020-12-12T00:00:00\",\"2020-12-13T00:00:00\",\"2020-12-14T00:00:00\",\"2020-12-15T00:00:00\",\"2020-12-16T00:00:00\",\"2020-12-17T00:00:00\",\"2020-12-18T00:00:00\",\"2020-12-19T00:00:00\",\"2020-12-20T00:00:00\",\"2020-12-21T00:00:00\"],\"xaxis\":\"x\",\"y\":[182,44,85,33,21,53,15,72,32,99,39,50,47,63,93],\"yaxis\":\"y\",\"type\":\"bar\"}],                        {\"template\":{\"data\":{\"bar\":[{\"error_x\":{\"color\":\"#2a3f5f\"},\"error_y\":{\"color\":\"#2a3f5f\"},\"marker\":{\"line\":{\"color\":\"#E5ECF6\",\"width\":0.5},\"pattern\":{\"fillmode\":\"overlay\",\"size\":10,\"solidity\":0.2}},\"type\":\"bar\"}],\"barpolar\":[{\"marker\":{\"line\":{\"color\":\"#E5ECF6\",\"width\":0.5},\"pattern\":{\"fillmode\":\"overlay\",\"size\":10,\"solidity\":0.2}},\"type\":\"barpolar\"}],\"carpet\":[{\"aaxis\":{\"endlinecolor\":\"#2a3f5f\",\"gridcolor\":\"white\",\"linecolor\":\"white\",\"minorgridcolor\":\"white\",\"startlinecolor\":\"#2a3f5f\"},\"baxis\":{\"endlinecolor\":\"#2a3f5f\",\"gridcolor\":\"white\",\"linecolor\":\"white\",\"minorgridcolor\":\"white\",\"startlinecolor\":\"#2a3f5f\"},\"type\":\"carpet\"}],\"choropleth\":[{\"colorbar\":{\"outlinewidth\":0,\"ticks\":\"\"},\"type\":\"choropleth\"}],\"contour\":[{\"colorbar\":{\"outlinewidth\":0,\"ticks\":\"\"},\"colorscale\":[[0.0,\"#0d0887\"],[0.1111111111111111,\"#46039f\"],[0.2222222222222222,\"#7201a8\"],[0.3333333333333333,\"#9c179e\"],[0.4444444444444444,\"#bd3786\"],[0.5555555555555556,\"#d8576b\"],[0.6666666666666666,\"#ed7953\"],[0.7777777777777778,\"#fb9f3a\"],[0.8888888888888888,\"#fdca26\"],[1.0,\"#f0f921\"]],\"type\":\"contour\"}],\"contourcarpet\":[{\"colorbar\":{\"outlinewidth\":0,\"ticks\":\"\"},\"type\":\"contourcarpet\"}],\"heatmap\":[{\"colorbar\":{\"outlinewidth\":0,\"ticks\":\"\"},\"colorscale\":[[0.0,\"#0d0887\"],[0.1111111111111111,\"#46039f\"],[0.2222222222222222,\"#7201a8\"],[0.3333333333333333,\"#9c179e\"],[0.4444444444444444,\"#bd3786\"],[0.5555555555555556,\"#d8576b\"],[0.6666666666666666,\"#ed7953\"],[0.7777777777777778,\"#fb9f3a\"],[0.8888888888888888,\"#fdca26\"],[1.0,\"#f0f921\"]],\"type\":\"heatmap\"}],\"heatmapgl\":[{\"colorbar\":{\"outlinewidth\":0,\"ticks\":\"\"},\"colorscale\":[[0.0,\"#0d0887\"],[0.1111111111111111,\"#46039f\"],[0.2222222222222222,\"#7201a8\"],[0.3333333333333333,\"#9c179e\"],[0.4444444444444444,\"#bd3786\"],[0.5555555555555556,\"#d8576b\"],[0.6666666666666666,\"#ed7953\"],[0.7777777777777778,\"#fb9f3a\"],[0.8888888888888888,\"#fdca26\"],[1.0,\"#f0f921\"]],\"type\":\"heatmapgl\"}],\"histogram\":[{\"marker\":{\"pattern\":{\"fillmode\":\"overlay\",\"size\":10,\"solidity\":0.2}},\"type\":\"histogram\"}],\"histogram2d\":[{\"colorbar\":{\"outlinewidth\":0,\"ticks\":\"\"},\"colorscale\":[[0.0,\"#0d0887\"],[0.1111111111111111,\"#46039f\"],[0.2222222222222222,\"#7201a8\"],[0.3333333333333333,\"#9c179e\"],[0.4444444444444444,\"#bd3786\"],[0.5555555555555556,\"#d8576b\"],[0.6666666666666666,\"#ed7953\"],[0.7777777777777778,\"#fb9f3a\"],[0.8888888888888888,\"#fdca26\"],[1.0,\"#f0f921\"]],\"type\":\"histogram2d\"}],\"histogram2dcontour\":[{\"colorbar\":{\"outlinewidth\":0,\"ticks\":\"\"},\"colorscale\":[[0.0,\"#0d0887\"],[0.1111111111111111,\"#46039f\"],[0.2222222222222222,\"#7201a8\"],[0.3333333333333333,\"#9c179e\"],[0.4444444444444444,\"#bd3786\"],[0.5555555555555556,\"#d8576b\"],[0.6666666666666666,\"#ed7953\"],[0.7777777777777778,\"#fb9f3a\"],[0.8888888888888888,\"#fdca26\"],[1.0,\"#f0f921\"]],\"type\":\"histogram2dcontour\"}],\"mesh3d\":[{\"colorbar\":{\"outlinewidth\":0,\"ticks\":\"\"},\"type\":\"mesh3d\"}],\"parcoords\":[{\"line\":{\"colorbar\":{\"outlinewidth\":0,\"ticks\":\"\"}},\"type\":\"parcoords\"}],\"pie\":[{\"automargin\":true,\"type\":\"pie\"}],\"scatter\":[{\"marker\":{\"colorbar\":{\"outlinewidth\":0,\"ticks\":\"\"}},\"type\":\"scatter\"}],\"scatter3d\":[{\"line\":{\"colorbar\":{\"outlinewidth\":0,\"ticks\":\"\"}},\"marker\":{\"colorbar\":{\"outlinewidth\":0,\"ticks\":\"\"}},\"type\":\"scatter3d\"}],\"scattercarpet\":[{\"marker\":{\"colorbar\":{\"outlinewidth\":0,\"ticks\":\"\"}},\"type\":\"scattercarpet\"}],\"scattergeo\":[{\"marker\":{\"colorbar\":{\"outlinewidth\":0,\"ticks\":\"\"}},\"type\":\"scattergeo\"}],\"scattergl\":[{\"marker\":{\"colorbar\":{\"outlinewidth\":0,\"ticks\":\"\"}},\"type\":\"scattergl\"}],\"scattermapbox\":[{\"marker\":{\"colorbar\":{\"outlinewidth\":0,\"ticks\":\"\"}},\"type\":\"scattermapbox\"}],\"scatterpolar\":[{\"marker\":{\"colorbar\":{\"outlinewidth\":0,\"ticks\":\"\"}},\"type\":\"scatterpolar\"}],\"scatterpolargl\":[{\"marker\":{\"colorbar\":{\"outlinewidth\":0,\"ticks\":\"\"}},\"type\":\"scatterpolargl\"}],\"scatterternary\":[{\"marker\":{\"colorbar\":{\"outlinewidth\":0,\"ticks\":\"\"}},\"type\":\"scatterternary\"}],\"surface\":[{\"colorbar\":{\"outlinewidth\":0,\"ticks\":\"\"},\"colorscale\":[[0.0,\"#0d0887\"],[0.1111111111111111,\"#46039f\"],[0.2222222222222222,\"#7201a8\"],[0.3333333333333333,\"#9c179e\"],[0.4444444444444444,\"#bd3786\"],[0.5555555555555556,\"#d8576b\"],[0.6666666666666666,\"#ed7953\"],[0.7777777777777778,\"#fb9f3a\"],[0.8888888888888888,\"#fdca26\"],[1.0,\"#f0f921\"]],\"type\":\"surface\"}],\"table\":[{\"cells\":{\"fill\":{\"color\":\"#EBF0F8\"},\"line\":{\"color\":\"white\"}},\"header\":{\"fill\":{\"color\":\"#C8D4E3\"},\"line\":{\"color\":\"white\"}},\"type\":\"table\"}]},\"layout\":{\"annotationdefaults\":{\"arrowcolor\":\"#2a3f5f\",\"arrowhead\":0,\"arrowwidth\":1},\"autotypenumbers\":\"strict\",\"coloraxis\":{\"colorbar\":{\"outlinewidth\":0,\"ticks\":\"\"}},\"colorscale\":{\"diverging\":[[0,\"#8e0152\"],[0.1,\"#c51b7d\"],[0.2,\"#de77ae\"],[0.3,\"#f1b6da\"],[0.4,\"#fde0ef\"],[0.5,\"#f7f7f7\"],[0.6,\"#e6f5d0\"],[0.7,\"#b8e186\"],[0.8,\"#7fbc41\"],[0.9,\"#4d9221\"],[1,\"#276419\"]],\"sequential\":[[0.0,\"#0d0887\"],[0.1111111111111111,\"#46039f\"],[0.2222222222222222,\"#7201a8\"],[0.3333333333333333,\"#9c179e\"],[0.4444444444444444,\"#bd3786\"],[0.5555555555555556,\"#d8576b\"],[0.6666666666666666,\"#ed7953\"],[0.7777777777777778,\"#fb9f3a\"],[0.8888888888888888,\"#fdca26\"],[1.0,\"#f0f921\"]],\"sequentialminus\":[[0.0,\"#0d0887\"],[0.1111111111111111,\"#46039f\"],[0.2222222222222222,\"#7201a8\"],[0.3333333333333333,\"#9c179e\"],[0.4444444444444444,\"#bd3786\"],[0.5555555555555556,\"#d8576b\"],[0.6666666666666666,\"#ed7953\"],[0.7777777777777778,\"#fb9f3a\"],[0.8888888888888888,\"#fdca26\"],[1.0,\"#f0f921\"]]},\"colorway\":[\"#636efa\",\"#EF553B\",\"#00cc96\",\"#ab63fa\",\"#FFA15A\",\"#19d3f3\",\"#FF6692\",\"#B6E880\",\"#FF97FF\",\"#FECB52\"],\"font\":{\"color\":\"#2a3f5f\"},\"geo\":{\"bgcolor\":\"white\",\"lakecolor\":\"white\",\"landcolor\":\"#E5ECF6\",\"showlakes\":true,\"showland\":true,\"subunitcolor\":\"white\"},\"hoverlabel\":{\"align\":\"left\"},\"hovermode\":\"closest\",\"mapbox\":{\"style\":\"light\"},\"paper_bgcolor\":\"white\",\"plot_bgcolor\":\"#E5ECF6\",\"polar\":{\"angularaxis\":{\"gridcolor\":\"white\",\"linecolor\":\"white\",\"ticks\":\"\"},\"bgcolor\":\"#E5ECF6\",\"radialaxis\":{\"gridcolor\":\"white\",\"linecolor\":\"white\",\"ticks\":\"\"}},\"scene\":{\"xaxis\":{\"backgroundcolor\":\"#E5ECF6\",\"gridcolor\":\"white\",\"gridwidth\":2,\"linecolor\":\"white\",\"showbackground\":true,\"ticks\":\"\",\"zerolinecolor\":\"white\"},\"yaxis\":{\"backgroundcolor\":\"#E5ECF6\",\"gridcolor\":\"white\",\"gridwidth\":2,\"linecolor\":\"white\",\"showbackground\":true,\"ticks\":\"\",\"zerolinecolor\":\"white\"},\"zaxis\":{\"backgroundcolor\":\"#E5ECF6\",\"gridcolor\":\"white\",\"gridwidth\":2,\"linecolor\":\"white\",\"showbackground\":true,\"ticks\":\"\",\"zerolinecolor\":\"white\"}},\"shapedefaults\":{\"line\":{\"color\":\"#2a3f5f\"}},\"ternary\":{\"aaxis\":{\"gridcolor\":\"white\",\"linecolor\":\"white\",\"ticks\":\"\"},\"baxis\":{\"gridcolor\":\"white\",\"linecolor\":\"white\",\"ticks\":\"\"},\"bgcolor\":\"#E5ECF6\",\"caxis\":{\"gridcolor\":\"white\",\"linecolor\":\"white\",\"ticks\":\"\"}},\"title\":{\"x\":0.05},\"xaxis\":{\"automargin\":true,\"gridcolor\":\"white\",\"linecolor\":\"white\",\"ticks\":\"\",\"title\":{\"standoff\":15},\"zerolinecolor\":\"white\",\"zerolinewidth\":2},\"yaxis\":{\"automargin\":true,\"gridcolor\":\"white\",\"linecolor\":\"white\",\"ticks\":\"\",\"title\":{\"standoff\":15},\"zerolinecolor\":\"white\",\"zerolinewidth\":2}}},\"xaxis\":{\"anchor\":\"y\",\"domain\":[0.0,1.0],\"title\":{\"text\":\"\\u0414\\u0430\\u0442\\u044b\"}},\"yaxis\":{\"anchor\":\"x\",\"domain\":[0.0,1.0],\"title\":{\"text\":\"\\u041a\\u043e\\u043b\\u0438\\u0447\\u0435\\u0441\\u0442\\u0432\\u043e \\u0441\\u043e\\u0431\\u044b\\u0442\\u0438\\u0439\"}},\"legend\":{\"title\":{\"text\":\"group\"},\"tracegroupgap\":0},\"margin\":{\"t\":60},\"barmode\":\"group\",\"title\":{\"text\":\"\\u0420\\u0435\\u0433\\u0438\\u0441\\u0442\\u0440\\u0430\\u0446\\u0438\\u044f \\u043f\\u043e\\u043b\\u044c\\u0437\\u043e\\u0432\\u0430\\u0442\\u0435\\u043b\\u0435\\u0439 \\u0432 \\u0432\\u044b\\u0431\\u043e\\u0440\\u043a\\u0430\\u0445 \\u043f\\u043e \\u0434\\u043d\\u044f\\u043c\"}},                        {\"responsive\": true}                    ).then(function(){\n",
       "                            \n",
       "var gd = document.getElementById('5ec47936-8587-4b91-9421-4991aa3d8617');\n",
       "var x = new MutationObserver(function (mutations, observer) {{\n",
       "        var display = window.getComputedStyle(gd).display;\n",
       "        if (!display || display === 'none') {{\n",
       "            console.log([gd, 'removed!']);\n",
       "            Plotly.purge(gd);\n",
       "            observer.disconnect();\n",
       "        }}\n",
       "}});\n",
       "\n",
       "// Listen for the removal of the full notebook cells\n",
       "var notebookContainer = gd.closest('#notebook-container');\n",
       "if (notebookContainer) {{\n",
       "    x.observe(notebookContainer, {childList: true});\n",
       "}}\n",
       "\n",
       "// Listen for the clearing of the current output cell\n",
       "var outputEl = gd.closest('.output');\n",
       "if (outputEl) {{\n",
       "    x.observe(outputEl, {childList: true});\n",
       "}}\n",
       "\n",
       "                        })                };                });            </script>        </div>"
      ]
     },
     "metadata": {},
     "output_type": "display_data"
    }
   ],
   "source": [
    "fig = px.bar(first_date, x=\"first_date\", y ='user_id', color=\"group\", barmode='group', color_discrete_sequence= ['#B279A2','#72B7B2'])\n",
    "fig.update_layout(\n",
    "    title_text='Регистрация пользователей в выборках по дням', \n",
    "    xaxis_title_text='Даты', \n",
    "    yaxis_title_text='Количество событий')\n",
    "\n",
    "fig.show()"
   ]
  },
  {
   "cell_type": "markdown",
   "metadata": {},
   "source": [
    "На графике набора пользователей видно, что пик регистрации пользователей приходится на 14 и 21 декабря, причем большая часть пользователей попадает в контрольную группу. Это коррелируется со всплеском числа событий в группе А в те же даты."
   ]
  },
  {
   "cell_type": "markdown",
   "metadata": {},
   "source": [
    "### Изменение конверсии в воронке в выборках на разных этапах"
   ]
  },
  {
   "cell_type": "code",
   "execution_count": 61,
   "metadata": {},
   "outputs": [
    {
     "data": {
      "application/vnd.plotly.v1+json": {
       "config": {
        "plotlyServerURL": "https://plot.ly"
       },
       "data": [
        {
         "name": "group_A",
         "orientation": "h",
         "textinfo": "value+percent previous",
         "type": "funnel",
         "x": [
          2747,
          1780,
          824,
          872
         ],
         "y": [
          "login",
          "product_page",
          "product_cart",
          "purchase"
         ]
        },
        {
         "name": "group_B",
         "orientation": "h",
         "textinfo": "value+percent previous",
         "textposition": "inside",
         "type": "funnel",
         "x": [
          927,
          523,
          255,
          256
         ],
         "y": [
          "login",
          "product_page",
          "product_cart",
          "purchase"
         ]
        }
       ],
       "layout": {
        "template": {
         "data": {
          "bar": [
           {
            "error_x": {
             "color": "#2a3f5f"
            },
            "error_y": {
             "color": "#2a3f5f"
            },
            "marker": {
             "line": {
              "color": "#E5ECF6",
              "width": 0.5
             },
             "pattern": {
              "fillmode": "overlay",
              "size": 10,
              "solidity": 0.2
             }
            },
            "type": "bar"
           }
          ],
          "barpolar": [
           {
            "marker": {
             "line": {
              "color": "#E5ECF6",
              "width": 0.5
             },
             "pattern": {
              "fillmode": "overlay",
              "size": 10,
              "solidity": 0.2
             }
            },
            "type": "barpolar"
           }
          ],
          "carpet": [
           {
            "aaxis": {
             "endlinecolor": "#2a3f5f",
             "gridcolor": "white",
             "linecolor": "white",
             "minorgridcolor": "white",
             "startlinecolor": "#2a3f5f"
            },
            "baxis": {
             "endlinecolor": "#2a3f5f",
             "gridcolor": "white",
             "linecolor": "white",
             "minorgridcolor": "white",
             "startlinecolor": "#2a3f5f"
            },
            "type": "carpet"
           }
          ],
          "choropleth": [
           {
            "colorbar": {
             "outlinewidth": 0,
             "ticks": ""
            },
            "type": "choropleth"
           }
          ],
          "contour": [
           {
            "colorbar": {
             "outlinewidth": 0,
             "ticks": ""
            },
            "colorscale": [
             [
              0,
              "#0d0887"
             ],
             [
              0.1111111111111111,
              "#46039f"
             ],
             [
              0.2222222222222222,
              "#7201a8"
             ],
             [
              0.3333333333333333,
              "#9c179e"
             ],
             [
              0.4444444444444444,
              "#bd3786"
             ],
             [
              0.5555555555555556,
              "#d8576b"
             ],
             [
              0.6666666666666666,
              "#ed7953"
             ],
             [
              0.7777777777777778,
              "#fb9f3a"
             ],
             [
              0.8888888888888888,
              "#fdca26"
             ],
             [
              1,
              "#f0f921"
             ]
            ],
            "type": "contour"
           }
          ],
          "contourcarpet": [
           {
            "colorbar": {
             "outlinewidth": 0,
             "ticks": ""
            },
            "type": "contourcarpet"
           }
          ],
          "heatmap": [
           {
            "colorbar": {
             "outlinewidth": 0,
             "ticks": ""
            },
            "colorscale": [
             [
              0,
              "#0d0887"
             ],
             [
              0.1111111111111111,
              "#46039f"
             ],
             [
              0.2222222222222222,
              "#7201a8"
             ],
             [
              0.3333333333333333,
              "#9c179e"
             ],
             [
              0.4444444444444444,
              "#bd3786"
             ],
             [
              0.5555555555555556,
              "#d8576b"
             ],
             [
              0.6666666666666666,
              "#ed7953"
             ],
             [
              0.7777777777777778,
              "#fb9f3a"
             ],
             [
              0.8888888888888888,
              "#fdca26"
             ],
             [
              1,
              "#f0f921"
             ]
            ],
            "type": "heatmap"
           }
          ],
          "heatmapgl": [
           {
            "colorbar": {
             "outlinewidth": 0,
             "ticks": ""
            },
            "colorscale": [
             [
              0,
              "#0d0887"
             ],
             [
              0.1111111111111111,
              "#46039f"
             ],
             [
              0.2222222222222222,
              "#7201a8"
             ],
             [
              0.3333333333333333,
              "#9c179e"
             ],
             [
              0.4444444444444444,
              "#bd3786"
             ],
             [
              0.5555555555555556,
              "#d8576b"
             ],
             [
              0.6666666666666666,
              "#ed7953"
             ],
             [
              0.7777777777777778,
              "#fb9f3a"
             ],
             [
              0.8888888888888888,
              "#fdca26"
             ],
             [
              1,
              "#f0f921"
             ]
            ],
            "type": "heatmapgl"
           }
          ],
          "histogram": [
           {
            "marker": {
             "pattern": {
              "fillmode": "overlay",
              "size": 10,
              "solidity": 0.2
             }
            },
            "type": "histogram"
           }
          ],
          "histogram2d": [
           {
            "colorbar": {
             "outlinewidth": 0,
             "ticks": ""
            },
            "colorscale": [
             [
              0,
              "#0d0887"
             ],
             [
              0.1111111111111111,
              "#46039f"
             ],
             [
              0.2222222222222222,
              "#7201a8"
             ],
             [
              0.3333333333333333,
              "#9c179e"
             ],
             [
              0.4444444444444444,
              "#bd3786"
             ],
             [
              0.5555555555555556,
              "#d8576b"
             ],
             [
              0.6666666666666666,
              "#ed7953"
             ],
             [
              0.7777777777777778,
              "#fb9f3a"
             ],
             [
              0.8888888888888888,
              "#fdca26"
             ],
             [
              1,
              "#f0f921"
             ]
            ],
            "type": "histogram2d"
           }
          ],
          "histogram2dcontour": [
           {
            "colorbar": {
             "outlinewidth": 0,
             "ticks": ""
            },
            "colorscale": [
             [
              0,
              "#0d0887"
             ],
             [
              0.1111111111111111,
              "#46039f"
             ],
             [
              0.2222222222222222,
              "#7201a8"
             ],
             [
              0.3333333333333333,
              "#9c179e"
             ],
             [
              0.4444444444444444,
              "#bd3786"
             ],
             [
              0.5555555555555556,
              "#d8576b"
             ],
             [
              0.6666666666666666,
              "#ed7953"
             ],
             [
              0.7777777777777778,
              "#fb9f3a"
             ],
             [
              0.8888888888888888,
              "#fdca26"
             ],
             [
              1,
              "#f0f921"
             ]
            ],
            "type": "histogram2dcontour"
           }
          ],
          "mesh3d": [
           {
            "colorbar": {
             "outlinewidth": 0,
             "ticks": ""
            },
            "type": "mesh3d"
           }
          ],
          "parcoords": [
           {
            "line": {
             "colorbar": {
              "outlinewidth": 0,
              "ticks": ""
             }
            },
            "type": "parcoords"
           }
          ],
          "pie": [
           {
            "automargin": true,
            "type": "pie"
           }
          ],
          "scatter": [
           {
            "marker": {
             "colorbar": {
              "outlinewidth": 0,
              "ticks": ""
             }
            },
            "type": "scatter"
           }
          ],
          "scatter3d": [
           {
            "line": {
             "colorbar": {
              "outlinewidth": 0,
              "ticks": ""
             }
            },
            "marker": {
             "colorbar": {
              "outlinewidth": 0,
              "ticks": ""
             }
            },
            "type": "scatter3d"
           }
          ],
          "scattercarpet": [
           {
            "marker": {
             "colorbar": {
              "outlinewidth": 0,
              "ticks": ""
             }
            },
            "type": "scattercarpet"
           }
          ],
          "scattergeo": [
           {
            "marker": {
             "colorbar": {
              "outlinewidth": 0,
              "ticks": ""
             }
            },
            "type": "scattergeo"
           }
          ],
          "scattergl": [
           {
            "marker": {
             "colorbar": {
              "outlinewidth": 0,
              "ticks": ""
             }
            },
            "type": "scattergl"
           }
          ],
          "scattermapbox": [
           {
            "marker": {
             "colorbar": {
              "outlinewidth": 0,
              "ticks": ""
             }
            },
            "type": "scattermapbox"
           }
          ],
          "scatterpolar": [
           {
            "marker": {
             "colorbar": {
              "outlinewidth": 0,
              "ticks": ""
             }
            },
            "type": "scatterpolar"
           }
          ],
          "scatterpolargl": [
           {
            "marker": {
             "colorbar": {
              "outlinewidth": 0,
              "ticks": ""
             }
            },
            "type": "scatterpolargl"
           }
          ],
          "scatterternary": [
           {
            "marker": {
             "colorbar": {
              "outlinewidth": 0,
              "ticks": ""
             }
            },
            "type": "scatterternary"
           }
          ],
          "surface": [
           {
            "colorbar": {
             "outlinewidth": 0,
             "ticks": ""
            },
            "colorscale": [
             [
              0,
              "#0d0887"
             ],
             [
              0.1111111111111111,
              "#46039f"
             ],
             [
              0.2222222222222222,
              "#7201a8"
             ],
             [
              0.3333333333333333,
              "#9c179e"
             ],
             [
              0.4444444444444444,
              "#bd3786"
             ],
             [
              0.5555555555555556,
              "#d8576b"
             ],
             [
              0.6666666666666666,
              "#ed7953"
             ],
             [
              0.7777777777777778,
              "#fb9f3a"
             ],
             [
              0.8888888888888888,
              "#fdca26"
             ],
             [
              1,
              "#f0f921"
             ]
            ],
            "type": "surface"
           }
          ],
          "table": [
           {
            "cells": {
             "fill": {
              "color": "#EBF0F8"
             },
             "line": {
              "color": "white"
             }
            },
            "header": {
             "fill": {
              "color": "#C8D4E3"
             },
             "line": {
              "color": "white"
             }
            },
            "type": "table"
           }
          ]
         },
         "layout": {
          "annotationdefaults": {
           "arrowcolor": "#2a3f5f",
           "arrowhead": 0,
           "arrowwidth": 1
          },
          "autotypenumbers": "strict",
          "coloraxis": {
           "colorbar": {
            "outlinewidth": 0,
            "ticks": ""
           }
          },
          "colorscale": {
           "diverging": [
            [
             0,
             "#8e0152"
            ],
            [
             0.1,
             "#c51b7d"
            ],
            [
             0.2,
             "#de77ae"
            ],
            [
             0.3,
             "#f1b6da"
            ],
            [
             0.4,
             "#fde0ef"
            ],
            [
             0.5,
             "#f7f7f7"
            ],
            [
             0.6,
             "#e6f5d0"
            ],
            [
             0.7,
             "#b8e186"
            ],
            [
             0.8,
             "#7fbc41"
            ],
            [
             0.9,
             "#4d9221"
            ],
            [
             1,
             "#276419"
            ]
           ],
           "sequential": [
            [
             0,
             "#0d0887"
            ],
            [
             0.1111111111111111,
             "#46039f"
            ],
            [
             0.2222222222222222,
             "#7201a8"
            ],
            [
             0.3333333333333333,
             "#9c179e"
            ],
            [
             0.4444444444444444,
             "#bd3786"
            ],
            [
             0.5555555555555556,
             "#d8576b"
            ],
            [
             0.6666666666666666,
             "#ed7953"
            ],
            [
             0.7777777777777778,
             "#fb9f3a"
            ],
            [
             0.8888888888888888,
             "#fdca26"
            ],
            [
             1,
             "#f0f921"
            ]
           ],
           "sequentialminus": [
            [
             0,
             "#0d0887"
            ],
            [
             0.1111111111111111,
             "#46039f"
            ],
            [
             0.2222222222222222,
             "#7201a8"
            ],
            [
             0.3333333333333333,
             "#9c179e"
            ],
            [
             0.4444444444444444,
             "#bd3786"
            ],
            [
             0.5555555555555556,
             "#d8576b"
            ],
            [
             0.6666666666666666,
             "#ed7953"
            ],
            [
             0.7777777777777778,
             "#fb9f3a"
            ],
            [
             0.8888888888888888,
             "#fdca26"
            ],
            [
             1,
             "#f0f921"
            ]
           ]
          },
          "colorway": [
           "#636efa",
           "#EF553B",
           "#00cc96",
           "#ab63fa",
           "#FFA15A",
           "#19d3f3",
           "#FF6692",
           "#B6E880",
           "#FF97FF",
           "#FECB52"
          ],
          "font": {
           "color": "#2a3f5f"
          },
          "geo": {
           "bgcolor": "white",
           "lakecolor": "white",
           "landcolor": "#E5ECF6",
           "showlakes": true,
           "showland": true,
           "subunitcolor": "white"
          },
          "hoverlabel": {
           "align": "left"
          },
          "hovermode": "closest",
          "mapbox": {
           "style": "light"
          },
          "paper_bgcolor": "white",
          "plot_bgcolor": "#E5ECF6",
          "polar": {
           "angularaxis": {
            "gridcolor": "white",
            "linecolor": "white",
            "ticks": ""
           },
           "bgcolor": "#E5ECF6",
           "radialaxis": {
            "gridcolor": "white",
            "linecolor": "white",
            "ticks": ""
           }
          },
          "scene": {
           "xaxis": {
            "backgroundcolor": "#E5ECF6",
            "gridcolor": "white",
            "gridwidth": 2,
            "linecolor": "white",
            "showbackground": true,
            "ticks": "",
            "zerolinecolor": "white"
           },
           "yaxis": {
            "backgroundcolor": "#E5ECF6",
            "gridcolor": "white",
            "gridwidth": 2,
            "linecolor": "white",
            "showbackground": true,
            "ticks": "",
            "zerolinecolor": "white"
           },
           "zaxis": {
            "backgroundcolor": "#E5ECF6",
            "gridcolor": "white",
            "gridwidth": 2,
            "linecolor": "white",
            "showbackground": true,
            "ticks": "",
            "zerolinecolor": "white"
           }
          },
          "shapedefaults": {
           "line": {
            "color": "#2a3f5f"
           }
          },
          "ternary": {
           "aaxis": {
            "gridcolor": "white",
            "linecolor": "white",
            "ticks": ""
           },
           "baxis": {
            "gridcolor": "white",
            "linecolor": "white",
            "ticks": ""
           },
           "bgcolor": "#E5ECF6",
           "caxis": {
            "gridcolor": "white",
            "linecolor": "white",
            "ticks": ""
           }
          },
          "title": {
           "x": 0.05
          },
          "xaxis": {
           "automargin": true,
           "gridcolor": "white",
           "linecolor": "white",
           "ticks": "",
           "title": {
            "standoff": 15
           },
           "zerolinecolor": "white",
           "zerolinewidth": 2
          },
          "yaxis": {
           "automargin": true,
           "gridcolor": "white",
           "linecolor": "white",
           "ticks": "",
           "title": {
            "standoff": 15
           },
           "zerolinecolor": "white",
           "zerolinewidth": 2
          }
         }
        },
        "title": {
         "text": "Доля пользователей переходящих на следующий шаг воронки в разрезе групп"
        }
       }
      },
      "text/html": [
       "<div>                            <div id=\"6c8a6124-e67f-4e89-8f53-3e77882a691a\" class=\"plotly-graph-div\" style=\"height:525px; width:100%;\"></div>            <script type=\"text/javascript\">                require([\"plotly\"], function(Plotly) {                    window.PLOTLYENV=window.PLOTLYENV || {};                                    if (document.getElementById(\"6c8a6124-e67f-4e89-8f53-3e77882a691a\")) {                    Plotly.newPlot(                        \"6c8a6124-e67f-4e89-8f53-3e77882a691a\",                        [{\"name\":\"group_A\",\"orientation\":\"h\",\"textinfo\":\"value+percent previous\",\"x\":[2747,1780,824,872],\"y\":[\"login\",\"product_page\",\"product_cart\",\"purchase\"],\"type\":\"funnel\"},{\"name\":\"group_B\",\"orientation\":\"h\",\"textinfo\":\"value+percent previous\",\"textposition\":\"inside\",\"x\":[927,523,255,256],\"y\":[\"login\",\"product_page\",\"product_cart\",\"purchase\"],\"type\":\"funnel\"}],                        {\"template\":{\"data\":{\"bar\":[{\"error_x\":{\"color\":\"#2a3f5f\"},\"error_y\":{\"color\":\"#2a3f5f\"},\"marker\":{\"line\":{\"color\":\"#E5ECF6\",\"width\":0.5},\"pattern\":{\"fillmode\":\"overlay\",\"size\":10,\"solidity\":0.2}},\"type\":\"bar\"}],\"barpolar\":[{\"marker\":{\"line\":{\"color\":\"#E5ECF6\",\"width\":0.5},\"pattern\":{\"fillmode\":\"overlay\",\"size\":10,\"solidity\":0.2}},\"type\":\"barpolar\"}],\"carpet\":[{\"aaxis\":{\"endlinecolor\":\"#2a3f5f\",\"gridcolor\":\"white\",\"linecolor\":\"white\",\"minorgridcolor\":\"white\",\"startlinecolor\":\"#2a3f5f\"},\"baxis\":{\"endlinecolor\":\"#2a3f5f\",\"gridcolor\":\"white\",\"linecolor\":\"white\",\"minorgridcolor\":\"white\",\"startlinecolor\":\"#2a3f5f\"},\"type\":\"carpet\"}],\"choropleth\":[{\"colorbar\":{\"outlinewidth\":0,\"ticks\":\"\"},\"type\":\"choropleth\"}],\"contour\":[{\"colorbar\":{\"outlinewidth\":0,\"ticks\":\"\"},\"colorscale\":[[0.0,\"#0d0887\"],[0.1111111111111111,\"#46039f\"],[0.2222222222222222,\"#7201a8\"],[0.3333333333333333,\"#9c179e\"],[0.4444444444444444,\"#bd3786\"],[0.5555555555555556,\"#d8576b\"],[0.6666666666666666,\"#ed7953\"],[0.7777777777777778,\"#fb9f3a\"],[0.8888888888888888,\"#fdca26\"],[1.0,\"#f0f921\"]],\"type\":\"contour\"}],\"contourcarpet\":[{\"colorbar\":{\"outlinewidth\":0,\"ticks\":\"\"},\"type\":\"contourcarpet\"}],\"heatmap\":[{\"colorbar\":{\"outlinewidth\":0,\"ticks\":\"\"},\"colorscale\":[[0.0,\"#0d0887\"],[0.1111111111111111,\"#46039f\"],[0.2222222222222222,\"#7201a8\"],[0.3333333333333333,\"#9c179e\"],[0.4444444444444444,\"#bd3786\"],[0.5555555555555556,\"#d8576b\"],[0.6666666666666666,\"#ed7953\"],[0.7777777777777778,\"#fb9f3a\"],[0.8888888888888888,\"#fdca26\"],[1.0,\"#f0f921\"]],\"type\":\"heatmap\"}],\"heatmapgl\":[{\"colorbar\":{\"outlinewidth\":0,\"ticks\":\"\"},\"colorscale\":[[0.0,\"#0d0887\"],[0.1111111111111111,\"#46039f\"],[0.2222222222222222,\"#7201a8\"],[0.3333333333333333,\"#9c179e\"],[0.4444444444444444,\"#bd3786\"],[0.5555555555555556,\"#d8576b\"],[0.6666666666666666,\"#ed7953\"],[0.7777777777777778,\"#fb9f3a\"],[0.8888888888888888,\"#fdca26\"],[1.0,\"#f0f921\"]],\"type\":\"heatmapgl\"}],\"histogram\":[{\"marker\":{\"pattern\":{\"fillmode\":\"overlay\",\"size\":10,\"solidity\":0.2}},\"type\":\"histogram\"}],\"histogram2d\":[{\"colorbar\":{\"outlinewidth\":0,\"ticks\":\"\"},\"colorscale\":[[0.0,\"#0d0887\"],[0.1111111111111111,\"#46039f\"],[0.2222222222222222,\"#7201a8\"],[0.3333333333333333,\"#9c179e\"],[0.4444444444444444,\"#bd3786\"],[0.5555555555555556,\"#d8576b\"],[0.6666666666666666,\"#ed7953\"],[0.7777777777777778,\"#fb9f3a\"],[0.8888888888888888,\"#fdca26\"],[1.0,\"#f0f921\"]],\"type\":\"histogram2d\"}],\"histogram2dcontour\":[{\"colorbar\":{\"outlinewidth\":0,\"ticks\":\"\"},\"colorscale\":[[0.0,\"#0d0887\"],[0.1111111111111111,\"#46039f\"],[0.2222222222222222,\"#7201a8\"],[0.3333333333333333,\"#9c179e\"],[0.4444444444444444,\"#bd3786\"],[0.5555555555555556,\"#d8576b\"],[0.6666666666666666,\"#ed7953\"],[0.7777777777777778,\"#fb9f3a\"],[0.8888888888888888,\"#fdca26\"],[1.0,\"#f0f921\"]],\"type\":\"histogram2dcontour\"}],\"mesh3d\":[{\"colorbar\":{\"outlinewidth\":0,\"ticks\":\"\"},\"type\":\"mesh3d\"}],\"parcoords\":[{\"line\":{\"colorbar\":{\"outlinewidth\":0,\"ticks\":\"\"}},\"type\":\"parcoords\"}],\"pie\":[{\"automargin\":true,\"type\":\"pie\"}],\"scatter\":[{\"marker\":{\"colorbar\":{\"outlinewidth\":0,\"ticks\":\"\"}},\"type\":\"scatter\"}],\"scatter3d\":[{\"line\":{\"colorbar\":{\"outlinewidth\":0,\"ticks\":\"\"}},\"marker\":{\"colorbar\":{\"outlinewidth\":0,\"ticks\":\"\"}},\"type\":\"scatter3d\"}],\"scattercarpet\":[{\"marker\":{\"colorbar\":{\"outlinewidth\":0,\"ticks\":\"\"}},\"type\":\"scattercarpet\"}],\"scattergeo\":[{\"marker\":{\"colorbar\":{\"outlinewidth\":0,\"ticks\":\"\"}},\"type\":\"scattergeo\"}],\"scattergl\":[{\"marker\":{\"colorbar\":{\"outlinewidth\":0,\"ticks\":\"\"}},\"type\":\"scattergl\"}],\"scattermapbox\":[{\"marker\":{\"colorbar\":{\"outlinewidth\":0,\"ticks\":\"\"}},\"type\":\"scattermapbox\"}],\"scatterpolar\":[{\"marker\":{\"colorbar\":{\"outlinewidth\":0,\"ticks\":\"\"}},\"type\":\"scatterpolar\"}],\"scatterpolargl\":[{\"marker\":{\"colorbar\":{\"outlinewidth\":0,\"ticks\":\"\"}},\"type\":\"scatterpolargl\"}],\"scatterternary\":[{\"marker\":{\"colorbar\":{\"outlinewidth\":0,\"ticks\":\"\"}},\"type\":\"scatterternary\"}],\"surface\":[{\"colorbar\":{\"outlinewidth\":0,\"ticks\":\"\"},\"colorscale\":[[0.0,\"#0d0887\"],[0.1111111111111111,\"#46039f\"],[0.2222222222222222,\"#7201a8\"],[0.3333333333333333,\"#9c179e\"],[0.4444444444444444,\"#bd3786\"],[0.5555555555555556,\"#d8576b\"],[0.6666666666666666,\"#ed7953\"],[0.7777777777777778,\"#fb9f3a\"],[0.8888888888888888,\"#fdca26\"],[1.0,\"#f0f921\"]],\"type\":\"surface\"}],\"table\":[{\"cells\":{\"fill\":{\"color\":\"#EBF0F8\"},\"line\":{\"color\":\"white\"}},\"header\":{\"fill\":{\"color\":\"#C8D4E3\"},\"line\":{\"color\":\"white\"}},\"type\":\"table\"}]},\"layout\":{\"annotationdefaults\":{\"arrowcolor\":\"#2a3f5f\",\"arrowhead\":0,\"arrowwidth\":1},\"autotypenumbers\":\"strict\",\"coloraxis\":{\"colorbar\":{\"outlinewidth\":0,\"ticks\":\"\"}},\"colorscale\":{\"diverging\":[[0,\"#8e0152\"],[0.1,\"#c51b7d\"],[0.2,\"#de77ae\"],[0.3,\"#f1b6da\"],[0.4,\"#fde0ef\"],[0.5,\"#f7f7f7\"],[0.6,\"#e6f5d0\"],[0.7,\"#b8e186\"],[0.8,\"#7fbc41\"],[0.9,\"#4d9221\"],[1,\"#276419\"]],\"sequential\":[[0.0,\"#0d0887\"],[0.1111111111111111,\"#46039f\"],[0.2222222222222222,\"#7201a8\"],[0.3333333333333333,\"#9c179e\"],[0.4444444444444444,\"#bd3786\"],[0.5555555555555556,\"#d8576b\"],[0.6666666666666666,\"#ed7953\"],[0.7777777777777778,\"#fb9f3a\"],[0.8888888888888888,\"#fdca26\"],[1.0,\"#f0f921\"]],\"sequentialminus\":[[0.0,\"#0d0887\"],[0.1111111111111111,\"#46039f\"],[0.2222222222222222,\"#7201a8\"],[0.3333333333333333,\"#9c179e\"],[0.4444444444444444,\"#bd3786\"],[0.5555555555555556,\"#d8576b\"],[0.6666666666666666,\"#ed7953\"],[0.7777777777777778,\"#fb9f3a\"],[0.8888888888888888,\"#fdca26\"],[1.0,\"#f0f921\"]]},\"colorway\":[\"#636efa\",\"#EF553B\",\"#00cc96\",\"#ab63fa\",\"#FFA15A\",\"#19d3f3\",\"#FF6692\",\"#B6E880\",\"#FF97FF\",\"#FECB52\"],\"font\":{\"color\":\"#2a3f5f\"},\"geo\":{\"bgcolor\":\"white\",\"lakecolor\":\"white\",\"landcolor\":\"#E5ECF6\",\"showlakes\":true,\"showland\":true,\"subunitcolor\":\"white\"},\"hoverlabel\":{\"align\":\"left\"},\"hovermode\":\"closest\",\"mapbox\":{\"style\":\"light\"},\"paper_bgcolor\":\"white\",\"plot_bgcolor\":\"#E5ECF6\",\"polar\":{\"angularaxis\":{\"gridcolor\":\"white\",\"linecolor\":\"white\",\"ticks\":\"\"},\"bgcolor\":\"#E5ECF6\",\"radialaxis\":{\"gridcolor\":\"white\",\"linecolor\":\"white\",\"ticks\":\"\"}},\"scene\":{\"xaxis\":{\"backgroundcolor\":\"#E5ECF6\",\"gridcolor\":\"white\",\"gridwidth\":2,\"linecolor\":\"white\",\"showbackground\":true,\"ticks\":\"\",\"zerolinecolor\":\"white\"},\"yaxis\":{\"backgroundcolor\":\"#E5ECF6\",\"gridcolor\":\"white\",\"gridwidth\":2,\"linecolor\":\"white\",\"showbackground\":true,\"ticks\":\"\",\"zerolinecolor\":\"white\"},\"zaxis\":{\"backgroundcolor\":\"#E5ECF6\",\"gridcolor\":\"white\",\"gridwidth\":2,\"linecolor\":\"white\",\"showbackground\":true,\"ticks\":\"\",\"zerolinecolor\":\"white\"}},\"shapedefaults\":{\"line\":{\"color\":\"#2a3f5f\"}},\"ternary\":{\"aaxis\":{\"gridcolor\":\"white\",\"linecolor\":\"white\",\"ticks\":\"\"},\"baxis\":{\"gridcolor\":\"white\",\"linecolor\":\"white\",\"ticks\":\"\"},\"bgcolor\":\"#E5ECF6\",\"caxis\":{\"gridcolor\":\"white\",\"linecolor\":\"white\",\"ticks\":\"\"}},\"title\":{\"x\":0.05},\"xaxis\":{\"automargin\":true,\"gridcolor\":\"white\",\"linecolor\":\"white\",\"ticks\":\"\",\"title\":{\"standoff\":15},\"zerolinecolor\":\"white\",\"zerolinewidth\":2},\"yaxis\":{\"automargin\":true,\"gridcolor\":\"white\",\"linecolor\":\"white\",\"ticks\":\"\",\"title\":{\"standoff\":15},\"zerolinecolor\":\"white\",\"zerolinewidth\":2}}},\"title\":{\"text\":\"\\u0414\\u043e\\u043b\\u044f \\u043f\\u043e\\u043b\\u044c\\u0437\\u043e\\u0432\\u0430\\u0442\\u0435\\u043b\\u0435\\u0439 \\u043f\\u0435\\u0440\\u0435\\u0445\\u043e\\u0434\\u044f\\u0449\\u0438\\u0445 \\u043d\\u0430 \\u0441\\u043b\\u0435\\u0434\\u0443\\u044e\\u0449\\u0438\\u0439 \\u0448\\u0430\\u0433 \\u0432\\u043e\\u0440\\u043e\\u043d\\u043a\\u0438 \\u0432 \\u0440\\u0430\\u0437\\u0440\\u0435\\u0437\\u0435 \\u0433\\u0440\\u0443\\u043f\\u043f\"}},                        {\"responsive\": true}                    ).then(function(){\n",
       "                            \n",
       "var gd = document.getElementById('6c8a6124-e67f-4e89-8f53-3e77882a691a');\n",
       "var x = new MutationObserver(function (mutations, observer) {{\n",
       "        var display = window.getComputedStyle(gd).display;\n",
       "        if (!display || display === 'none') {{\n",
       "            console.log([gd, 'removed!']);\n",
       "            Plotly.purge(gd);\n",
       "            observer.disconnect();\n",
       "        }}\n",
       "}});\n",
       "\n",
       "// Listen for the removal of the full notebook cells\n",
       "var notebookContainer = gd.closest('#notebook-container');\n",
       "if (notebookContainer) {{\n",
       "    x.observe(notebookContainer, {childList: true});\n",
       "}}\n",
       "\n",
       "// Listen for the clearing of the current output cell\n",
       "var outputEl = gd.closest('.output');\n",
       "if (outputEl) {{\n",
       "    x.observe(outputEl, {childList: true});\n",
       "}}\n",
       "\n",
       "                        })                };                });            </script>        </div>"
      ]
     },
     "metadata": {},
     "output_type": "display_data"
    }
   ],
   "source": [
    "# визуализация последовательной воронки в разрезе групп\n",
    "fig = go.Figure()\n",
    "\n",
    "fig.add_trace(go.Funnel(\n",
    "    name = 'group_A',\n",
    "    orientation = \"h\",\n",
    "    y = groups_funnel1['event_name'],\n",
    "    x = groups_funnel1[\"A\"],\n",
    "    textinfo = \"value+percent previous\"))\n",
    "\n",
    "fig.add_trace(go.Funnel(\n",
    "    name = 'group_B',\n",
    "    orientation = \"h\",\n",
    "    y = groups_funnel1['event_name'],\n",
    "    x = groups_funnel1[\"B\"],\n",
    "    textposition = \"inside\",\n",
    "    textinfo = \"value+percent previous\"))\n",
    "\n",
    "fig.update_layout(\n",
    "        title='Доля пользователей переходящих на следующий шаг воронки в разрезе групп')\n",
    "fig.show()"
   ]
  },
  {
   "cell_type": "markdown",
   "metadata": {},
   "source": [
    "Рассмотрим воронку событий более подробно на предмет изменения конверсии на разных этапах.\n",
    "\n",
    "Воронка состоит из четырех этапов:\n",
    "1. заход пользователя на сайт - событие login\n",
    "2. просмотр карточек товаров — событие product_page,\n",
    "3. просмотры корзины — событие product_cart,\n",
    "4. покупка — событие purchase\n",
    "\n",
    "Больше всего пользователей теряются на 2х этапах:\n",
    "- на этапе просмотра карточек: в группе А -35%, в группе В - 44% от зашедших на сайт\n",
    "- на этапе просмотра корзины: в группe А только 46% переходят из второго этапа в третий, в группе В показатель чуть лучше - 49% пользователей просмотревших карту товара переходят в корзину.   \n",
    "\n",
    "Ранее мы отметили, что пользователи могут совершить покупку из карты товаров, минуя третий этап, поэтому просмотревших корзину даже меньше чем совершивших покупку. \n",
    "\n",
    "В целом, от первого события до оплаты в контрольной группе дошло 32% пользователей, а в экспериментальной группе только 28%. Улучшение метрик не наблюдается"
   ]
  },
  {
   "cell_type": "markdown",
   "metadata": {},
   "source": [
    "### Особенности данных, которые нужно учесть, прежде чем приступать к A/B-тестированию"
   ]
  },
  {
   "cell_type": "markdown",
   "metadata": {},
   "source": [
    "При оценке корректности проведения теста мы увидели, что дата запуска и остановки набора новых пользователей соответствует  техническому заданию. Но при этом, до даты остановки теста, 04 января 2021г., событий не хватает — последний лог датирован 30 декабря. Возможно, произошел сбой в выгрузке данных. Это могло повлиять на результаты теста\n",
    "\n",
    "Количество уникальных пользователей, попавших в тест составляет 6701, что соответствует ТЗ об ожидании 6000 участников теста. Однако, после отбора событий в течение 14 дней после регистрации, пользователей остается только  3675человек.\n",
    "\n",
    "Время проведения теста пересекается с маркетинговой активностью Christmas&New Year Promo, что могло повлиять на поведение пользователей с 25 декабря.\n",
    "\n",
    "Аудитория пересекается с конкурирующим тестом (1602 пользователя). Так как пользователи группы B теста изменений интерфейса равномерно распределены в нашем тесте улучшений рекомендательной системы, то они одинаково влияют на нашу контрольную и тестовые группы, поэтому решено оставить таких пользователей.\n",
    "\n",
    "Количество пользователей по группам распределены неравномерно, то есть изменения смотрятся на малой тестовой выборке (в контрольно группе А - 2747 пользователей, в тестовой группе В — 927 пользователей). \n",
    "\n",
    "В период набора новых пользователей, большинство попадает в контрольную группу А. Пики регистрации приходятся на начало недели 7,14,21 декабря, что может быть связано с закупкой рекламы. Из-за действий новых пользователей и наблюдаются всплески количества событий 14 и 21 декабря. При этом в тестовой группе В всплески не наблюдаются, события распределены более равномерно. В среднем на 1 пользователя группы А приходится 7 событий, группы В - 5 событий. \n",
    "\n",
    "За 14 дней с момента регистрации пользователи из группы В не показали улучшение метрик на целевое значение 10%. В сравнении в контрольной группой показатели выглядят хуже. При этом по воронке замечено, что не все пользователи переходят в корзину для покупки, а могут это сделать прямо со страницы просмотра карточек товаров.  "
   ]
  },
  {
   "cell_type": "markdown",
   "metadata": {},
   "source": [
    "## Оценка результатов A/B-тестирования\n",
    "Рассчитаем долю пользователей из контрольной и тестовой групп, совершивших каждое действие.  \n",
    "Так как на первом этапе `login` в обеих группах конверсия 100%, исключим шаг из проверки.  \n",
    "Таким образом, будет проведен множественный тест из 3х проверок"
   ]
  },
  {
   "cell_type": "code",
   "execution_count": 62,
   "metadata": {},
   "outputs": [
    {
     "data": {
      "text/html": [
       "<div>\n",
       "<style scoped>\n",
       "    .dataframe tbody tr th:only-of-type {\n",
       "        vertical-align: middle;\n",
       "    }\n",
       "\n",
       "    .dataframe tbody tr th {\n",
       "        vertical-align: top;\n",
       "    }\n",
       "\n",
       "    .dataframe thead th {\n",
       "        text-align: right;\n",
       "    }\n",
       "</style>\n",
       "<table border=\"1\" class=\"dataframe\">\n",
       "  <thead>\n",
       "    <tr style=\"text-align: right;\">\n",
       "      <th>group</th>\n",
       "      <th>event_name</th>\n",
       "      <th>A</th>\n",
       "      <th>B</th>\n",
       "    </tr>\n",
       "  </thead>\n",
       "  <tbody>\n",
       "    <tr>\n",
       "      <th>2</th>\n",
       "      <td>product_page</td>\n",
       "      <td>1780</td>\n",
       "      <td>523</td>\n",
       "    </tr>\n",
       "    <tr>\n",
       "      <th>1</th>\n",
       "      <td>product_cart</td>\n",
       "      <td>824</td>\n",
       "      <td>255</td>\n",
       "    </tr>\n",
       "    <tr>\n",
       "      <th>3</th>\n",
       "      <td>purchase</td>\n",
       "      <td>872</td>\n",
       "      <td>256</td>\n",
       "    </tr>\n",
       "  </tbody>\n",
       "</table>\n",
       "</div>"
      ],
      "text/plain": [
       "group    event_name     A    B\n",
       "2      product_page  1780  523\n",
       "1      product_cart   824  255\n",
       "3          purchase   872  256"
      ]
     },
     "execution_count": 62,
     "metadata": {},
     "output_type": "execute_result"
    }
   ],
   "source": [
    "# количество пользователей на каждом шаге\n",
    "groups_funnel = test_users_merged.pivot_table(index='event_name', columns='group', values='user_id', aggfunc='nunique').reset_index()\n",
    "groups_funnel1 = groups_funnel.query('event_name != \"login\"').reindex([2,1,3])\n",
    "groups_funnel1"
   ]
  },
  {
   "cell_type": "code",
   "execution_count": 63,
   "metadata": {},
   "outputs": [
    {
     "data": {
      "text/html": [
       "<div>\n",
       "<style scoped>\n",
       "    .dataframe tbody tr th:only-of-type {\n",
       "        vertical-align: middle;\n",
       "    }\n",
       "\n",
       "    .dataframe tbody tr th {\n",
       "        vertical-align: top;\n",
       "    }\n",
       "\n",
       "    .dataframe thead th {\n",
       "        text-align: right;\n",
       "    }\n",
       "</style>\n",
       "<table border=\"1\" class=\"dataframe\">\n",
       "  <thead>\n",
       "    <tr style=\"text-align: right;\">\n",
       "      <th>group</th>\n",
       "      <th>A</th>\n",
       "      <th>B</th>\n",
       "    </tr>\n",
       "  </thead>\n",
       "  <tbody>\n",
       "    <tr>\n",
       "      <th>user_id</th>\n",
       "      <td>2747</td>\n",
       "      <td>928</td>\n",
       "    </tr>\n",
       "  </tbody>\n",
       "</table>\n",
       "</div>"
      ],
      "text/plain": [
       "group       A    B\n",
       "user_id  2747  928"
      ]
     },
     "execution_count": 63,
     "metadata": {},
     "output_type": "execute_result"
    }
   ],
   "source": [
    "# количество пользователей в группе\n",
    "users_in_group = test_users_merged.groupby('group').agg({'user_id':'nunique'}).T\n",
    "users_in_group"
   ]
  },
  {
   "cell_type": "markdown",
   "metadata": {},
   "source": [
    "### Проверка статистической разницы долей z-критерием."
   ]
  },
  {
   "cell_type": "markdown",
   "metadata": {},
   "source": [
    "Проверим, является ли  отличие между группами статистически достоверным.\n",
    "\n",
    "Сформулируем гипотезы:\n",
    "\n",
    "**Нулевая гипотеза**: в сраниваемых группах, между долями пользователей, совершивших событие, разницы нет.  \n",
    "**Альтернативная гипотеза**: в сраниваемых группах между долями пользователей, совершивших событие, есть значимая разница.\n",
    "\n",
    "* alpha - за уровень статистической значимости примем 1%\n",
    "\n",
    "Так как предполагается множественная проверка гипотез, применим метод Шидака для корректировки уровня значимости, чтобы снизить вероятность ложнопозитивного результата."
   ]
  },
  {
   "cell_type": "code",
   "execution_count": 64,
   "metadata": {},
   "outputs": [
    {
     "name": "stdout",
     "output_type": "stream",
     "text": [
      "Уровень значимости с поправкой Шидака: 0.01695\n"
     ]
    }
   ],
   "source": [
    "alpha = 0.05\n",
    "shidak_alpha = round(1 - (1 - alpha)**(1/3),5)\n",
    "print('Уровень значимости с поправкой Шидака:', shidak_alpha)"
   ]
  },
  {
   "cell_type": "code",
   "execution_count": 65,
   "metadata": {},
   "outputs": [],
   "source": [
    "from statsmodels.stats.proportion import proportions_ztest \n",
    "\n",
    "def proportions(c1, c2, n1, n2):\n",
    "    count=[c1, c2] \n",
    "    nobs=[n1, n2]\n",
    "    \n",
    "    stat, p_value = proportions_ztest(count=count,nobs=nobs, alternative='two-sided')\n",
    "    \n",
    "    print('p-значение события {} : {}'.format(groups_funnel['event_name'][i], p_value))\n",
    "    \n",
    "    if (p_value < shidak_alpha):\n",
    "        print('Отвергаем нулевую гипотезу: между долями есть значимая разница')\n",
    "    else:\n",
    "        print('Не получилось отвергнуть нулевую гипотезу, нет оснований считать доли разными') "
   ]
  },
  {
   "cell_type": "code",
   "execution_count": 66,
   "metadata": {},
   "outputs": [
    {
     "name": "stdout",
     "output_type": "stream",
     "text": [
      "p-значение события product_page : 4.310980554712425e-06\n",
      "Отвергаем нулевую гипотезу: между долями есть значимая разница\n",
      "\n",
      "p-значение события product_cart : 0.14534814557238196\n",
      "Не получилось отвергнуть нулевую гипотезу, нет оснований считать доли разными\n",
      "\n",
      "p-значение события purchase : 0.017592402663314678\n",
      "Не получилось отвергнуть нулевую гипотезу, нет оснований считать доли разными\n",
      "\n"
     ]
    }
   ],
   "source": [
    "for i in groups_funnel1.index:\n",
    "    proportions(groups_funnel1.loc[i,'A'], groups_funnel1.loc[i,'B'],users_in_group['A'][0],users_in_group['B'][0])\n",
    "    print()"
   ]
  },
  {
   "cell_type": "markdown",
   "metadata": {},
   "source": [
    "Результаты A/B-тестирования говорят о том, что:\n",
    "- в сраниваемых группах, между долями пользователей, совершивших события `product_cart` и `purchase`, отличия нельзя считать статистически достоверными (между долями разницы нет).\n",
    "- а между долями пользователей групп А и В, совершивших событие `product_page` различие статистически значимо"
   ]
  },
  {
   "cell_type": "markdown",
   "metadata": {},
   "source": [
    "### Выводы по оценке результатов A/B-тестирования."
   ]
  },
  {
   "cell_type": "markdown",
   "metadata": {},
   "source": [
    "При проведении множественного теста, мы применили поправку Шидака, чтобы снизить вероятность ложнопозитивного результата.\n",
    "Тесты не выявили значимой разницы между группами на этапах: `product_cart` и `purchase`.\n",
    "При этом, между долями пользователей групп А и В, совершивших событие `product_page` есть значимая разница.\n",
    "\n",
    "В целом, выводы остаются прежними: пользователи тестовой группы В не показали улучшение конверсии на целевые 10%. У группы А конверсия выше. "
   ]
  },
  {
   "cell_type": "markdown",
   "metadata": {},
   "source": [
    "## Общее заключение о корректности проведения теста."
   ]
  },
  {
   "cell_type": "markdown",
   "metadata": {},
   "source": [
    "В данном проекте мы провели оценку результатов A/B-теста, направленного на тестирование изменений, связанных с внедрением улучшенной рекомендательной системы. \n",
    "\n",
    "На этапе исследования данных изменили тип данных в столбцах с датами.   \n",
    "Также изучили найденные пропусков в дополнительных данных о событиях. На дальнейший анализ пропуски не влияют, строки решили не трогать.\n",
    "\n",
    "При сверке данных с требованиями технического задания были выявлены следующие несоответствия, которые могли повлиять на результаты:\n",
    "- не хватает данных с 30 декабря по 04 января, хотя заявленный период проведения теста должен охватывать даты с 07 декабря 2020г. по 04 января 2021г. \n",
    "- С 25 декабря на поведение пользователей мог повлиять запуск маркетинговой активности Christmas&New Year Promo\n",
    "- аудитория пересекается с конкурирующим тестом, но пользователи из парралельной тетсовой группы равномерно распределены между группами в нашем тесте\n",
    "- Количество пользователей по группам распределены неравномерно. В группе А почти в 3 раза больше пользователей, чем в группе В. \n",
    "- За 14 дней с момента регистрации пользователи из группы В не показали улучшение метрик. В сравнении в контрольной группой показатели выглядят хуже.\n",
    "- Для совершения покупки пользователям не требуется переходить в корзину, есть возможность со страницы просмотра карточек товаров перейти сразу к оплате\n",
    "\n",
    "Кроме этого, дальнейший анализ показал, что:\n",
    "- Количество событий на пользователя в выборках распределено неравномерно.  В среднем на 1 пользователя группы А приходится 7 событий, группы В - 5 событий. \n",
    "- В разрезе недели активнее всего регистрация новых пользователей происходит в понедельники. \n",
    "- В группу А попадает больше новых пользователей, чем в группу В. 14 и 21 декабря регистрируется больше всего пользователей, что отражается резким ростом количества событий в группе А с 14 по 21 декабря  \n",
    "\n",
    "Воронка состоит из четырех этапов:\n",
    "1. заход пользователя на сайт - событие login\n",
    "2. просмотр карточек товаров — событие product_page,\n",
    "3. просмотры корзины — событие product_cart,\n",
    "4. покупка — событие purchase\n",
    "\n",
    "Больше всего пользователей отваливаются на втором и третьем шаге (просмотр карточек и просмотр корзины).\n",
    "Конверсия зарегистрировавших пользователей в покупателей в группе А 32%, а в группе В — 28%. \n",
    "\n",
    "Проверка статистической разницы долей z-критерием выявила статистически значимое различие между долями пользователей групп А и В только для события просмотра карточек товаров (product_page)\n",
    "\n",
    "Таким образом, улучшенная рекомендательная система не показала ожидаемый уровень улучшения метрик на 10%. Однако на результаты могли значительно повлиять указанные выше отклонения условий проведения теста. \n",
    "\n",
    "В данной ситуации стоит рассмотреть вариант проведения повторного теста в более изолированных условиях с соблюдением ТЗ. Однако заказчику исследования следует учесть фактор дороговизны и ресурсоёмкости проведения A/B-теста и оценить важность тестируемой фичи, поскольку в тестовой группе наблюдалось не недостаточное улучшение, а именно ухудшение показателей. "
   ]
  }
 ],
 "metadata": {
  "ExecuteTimeLog": [
   {
    "duration": 1399,
    "start_time": "2023-04-15T18:46:48.123Z"
   },
   {
    "duration": 4,
    "start_time": "2023-04-15T18:46:59.518Z"
   },
   {
    "duration": 1022,
    "start_time": "2023-04-15T18:47:03.371Z"
   },
   {
    "duration": 777,
    "start_time": "2023-04-15T18:47:10.547Z"
   },
   {
    "duration": 1179,
    "start_time": "2023-04-15T18:48:02.855Z"
   },
   {
    "duration": 612,
    "start_time": "2023-04-15T18:48:04.036Z"
   },
   {
    "duration": 736,
    "start_time": "2023-04-15T18:48:04.650Z"
   },
   {
    "duration": 3,
    "start_time": "2023-04-15T18:49:05.948Z"
   },
   {
    "duration": 572,
    "start_time": "2023-04-15T18:49:06.211Z"
   },
   {
    "duration": 676,
    "start_time": "2023-04-15T18:49:06.785Z"
   },
   {
    "duration": 2,
    "start_time": "2023-04-15T18:50:53.219Z"
   },
   {
    "duration": 54,
    "start_time": "2023-04-15T18:51:04.227Z"
   },
   {
    "duration": 4,
    "start_time": "2023-04-15T18:51:29.210Z"
   },
   {
    "duration": 569,
    "start_time": "2023-04-15T18:51:36.419Z"
   },
   {
    "duration": 708,
    "start_time": "2023-04-15T18:51:42.061Z"
   },
   {
    "duration": 548,
    "start_time": "2023-04-15T18:59:13.215Z"
   },
   {
    "duration": 15,
    "start_time": "2023-04-15T19:01:03.449Z"
   },
   {
    "duration": 4,
    "start_time": "2023-04-15T19:01:15.236Z"
   },
   {
    "duration": 587,
    "start_time": "2023-04-15T19:03:42.941Z"
   },
   {
    "duration": 9,
    "start_time": "2023-04-15T19:10:24.326Z"
   },
   {
    "duration": 96,
    "start_time": "2023-04-15T19:11:10.385Z"
   },
   {
    "duration": 84,
    "start_time": "2023-04-15T19:11:16.422Z"
   },
   {
    "duration": 44,
    "start_time": "2023-04-15T19:12:11.222Z"
   },
   {
    "duration": 25,
    "start_time": "2023-04-15T19:12:16.558Z"
   },
   {
    "duration": 31,
    "start_time": "2023-04-15T19:27:05.335Z"
   },
   {
    "duration": 46,
    "start_time": "2023-04-15T19:28:33.478Z"
   },
   {
    "duration": 49,
    "start_time": "2023-04-15T19:29:25.904Z"
   },
   {
    "duration": 24,
    "start_time": "2023-04-15T19:30:30.565Z"
   },
   {
    "duration": 18,
    "start_time": "2023-04-15T19:31:06.234Z"
   },
   {
    "duration": 33,
    "start_time": "2023-04-15T19:31:21.821Z"
   },
   {
    "duration": 20,
    "start_time": "2023-04-15T19:31:51.827Z"
   },
   {
    "duration": 22,
    "start_time": "2023-04-15T19:32:14.339Z"
   },
   {
    "duration": 28,
    "start_time": "2023-04-15T19:33:08.713Z"
   },
   {
    "duration": 45,
    "start_time": "2023-04-15T19:38:53.048Z"
   },
   {
    "duration": 2,
    "start_time": "2023-04-15T19:39:54.463Z"
   },
   {
    "duration": 3,
    "start_time": "2023-04-15T19:40:43.974Z"
   },
   {
    "duration": 221,
    "start_time": "2023-04-15T20:58:01.846Z"
   },
   {
    "duration": 425,
    "start_time": "2023-04-15T21:04:27.326Z"
   },
   {
    "duration": 79,
    "start_time": "2023-04-15T21:04:59.253Z"
   },
   {
    "duration": 270,
    "start_time": "2023-04-15T21:07:38.669Z"
   },
   {
    "duration": 228,
    "start_time": "2023-04-15T21:17:23.707Z"
   },
   {
    "duration": 1128,
    "start_time": "2023-04-15T21:17:37.030Z"
   },
   {
    "duration": 617,
    "start_time": "2023-04-15T21:17:38.160Z"
   },
   {
    "duration": 646,
    "start_time": "2023-04-15T21:17:38.778Z"
   },
   {
    "duration": 40,
    "start_time": "2023-04-15T21:17:39.426Z"
   },
   {
    "duration": 477,
    "start_time": "2023-04-15T21:17:39.469Z"
   },
   {
    "duration": 78,
    "start_time": "2023-04-15T21:18:08.950Z"
   },
   {
    "duration": 48,
    "start_time": "2023-04-15T21:18:14.921Z"
   },
   {
    "duration": 76,
    "start_time": "2023-04-15T21:18:18.465Z"
   },
   {
    "duration": 80,
    "start_time": "2023-04-15T21:18:25.030Z"
   },
   {
    "duration": 6,
    "start_time": "2023-04-15T21:25:08.396Z"
   },
   {
    "duration": 10,
    "start_time": "2023-04-15T21:25:35.924Z"
   },
   {
    "duration": 8,
    "start_time": "2023-04-15T21:25:40.455Z"
   },
   {
    "duration": 10,
    "start_time": "2023-04-15T21:26:27.735Z"
   },
   {
    "duration": 45,
    "start_time": "2023-04-15T21:34:01.120Z"
   },
   {
    "duration": 6,
    "start_time": "2023-04-15T21:34:13.644Z"
   },
   {
    "duration": 13,
    "start_time": "2023-04-15T21:34:17.970Z"
   },
   {
    "duration": 105,
    "start_time": "2023-04-15T21:35:54.394Z"
   },
   {
    "duration": 12,
    "start_time": "2023-04-15T21:36:10.567Z"
   },
   {
    "duration": 6,
    "start_time": "2023-04-15T21:36:15.055Z"
   },
   {
    "duration": 44,
    "start_time": "2023-04-15T21:36:22.542Z"
   },
   {
    "duration": 47,
    "start_time": "2023-04-15T21:36:32.202Z"
   },
   {
    "duration": 7,
    "start_time": "2023-04-15T21:36:38.497Z"
   },
   {
    "duration": 9,
    "start_time": "2023-04-15T21:36:48.225Z"
   },
   {
    "duration": 8,
    "start_time": "2023-04-15T21:36:57.262Z"
   },
   {
    "duration": 6,
    "start_time": "2023-04-15T21:37:34.405Z"
   },
   {
    "duration": 7,
    "start_time": "2023-04-15T21:37:37.606Z"
   },
   {
    "duration": 8,
    "start_time": "2023-04-15T21:46:44.199Z"
   },
   {
    "duration": 6,
    "start_time": "2023-04-15T21:47:44.978Z"
   },
   {
    "duration": 7,
    "start_time": "2023-04-15T21:48:06.501Z"
   },
   {
    "duration": 1112,
    "start_time": "2023-04-15T21:48:10.656Z"
   },
   {
    "duration": 626,
    "start_time": "2023-04-15T21:48:11.770Z"
   },
   {
    "duration": 622,
    "start_time": "2023-04-15T21:48:12.398Z"
   },
   {
    "duration": 38,
    "start_time": "2023-04-15T21:48:13.022Z"
   },
   {
    "duration": 486,
    "start_time": "2023-04-15T21:48:13.062Z"
   },
   {
    "duration": 10,
    "start_time": "2023-04-15T21:48:13.550Z"
   },
   {
    "duration": 119,
    "start_time": "2023-04-15T21:48:13.562Z"
   },
   {
    "duration": 0,
    "start_time": "2023-04-15T21:48:13.683Z"
   },
   {
    "duration": 8,
    "start_time": "2023-04-15T21:48:36.560Z"
   },
   {
    "duration": 7,
    "start_time": "2023-04-15T21:49:00.073Z"
   },
   {
    "duration": 6,
    "start_time": "2023-04-15T21:49:13.297Z"
   },
   {
    "duration": 31,
    "start_time": "2023-04-15T21:49:56.831Z"
   },
   {
    "duration": 28,
    "start_time": "2023-04-15T21:50:01.656Z"
   },
   {
    "duration": 9,
    "start_time": "2023-04-15T21:50:10.014Z"
   },
   {
    "duration": 8,
    "start_time": "2023-04-15T21:50:18.084Z"
   },
   {
    "duration": 6,
    "start_time": "2023-04-15T21:50:20.356Z"
   },
   {
    "duration": 53,
    "start_time": "2023-04-15T21:53:15.359Z"
   },
   {
    "duration": 28,
    "start_time": "2023-04-15T21:53:23.008Z"
   },
   {
    "duration": 12,
    "start_time": "2023-04-15T21:53:36.283Z"
   },
   {
    "duration": 9,
    "start_time": "2023-04-15T21:54:06.549Z"
   },
   {
    "duration": 30,
    "start_time": "2023-04-15T21:55:46.131Z"
   },
   {
    "duration": 11,
    "start_time": "2023-04-15T21:57:27.811Z"
   },
   {
    "duration": 2,
    "start_time": "2023-04-15T21:59:24.809Z"
   },
   {
    "duration": 4,
    "start_time": "2023-04-15T21:59:30.466Z"
   },
   {
    "duration": 8,
    "start_time": "2023-04-15T22:00:09.218Z"
   },
   {
    "duration": 29,
    "start_time": "2023-04-15T22:00:26.976Z"
   },
   {
    "duration": 24,
    "start_time": "2023-04-15T22:05:14.893Z"
   },
   {
    "duration": 21,
    "start_time": "2023-04-15T22:07:35.302Z"
   },
   {
    "duration": 32,
    "start_time": "2023-04-15T22:07:42.802Z"
   },
   {
    "duration": 32,
    "start_time": "2023-04-15T22:08:07.444Z"
   },
   {
    "duration": 21,
    "start_time": "2023-04-15T22:08:12.234Z"
   },
   {
    "duration": 24,
    "start_time": "2023-04-15T22:08:20.853Z"
   },
   {
    "duration": 29,
    "start_time": "2023-04-15T22:08:25.010Z"
   },
   {
    "duration": 24,
    "start_time": "2023-04-15T22:08:39.379Z"
   },
   {
    "duration": 29,
    "start_time": "2023-04-15T22:08:53.672Z"
   },
   {
    "duration": 29,
    "start_time": "2023-04-15T22:10:51.897Z"
   },
   {
    "duration": 10,
    "start_time": "2023-04-15T22:10:54.797Z"
   },
   {
    "duration": 11,
    "start_time": "2023-04-15T22:10:55.590Z"
   },
   {
    "duration": 11,
    "start_time": "2023-04-15T22:11:23.957Z"
   },
   {
    "duration": 27,
    "start_time": "2023-04-15T22:12:20.992Z"
   },
   {
    "duration": 9,
    "start_time": "2023-04-15T22:13:45.892Z"
   },
   {
    "duration": 8,
    "start_time": "2023-04-15T22:13:54.570Z"
   },
   {
    "duration": 10,
    "start_time": "2023-04-15T22:15:01.982Z"
   },
   {
    "duration": 9,
    "start_time": "2023-04-15T22:15:12.493Z"
   },
   {
    "duration": 5,
    "start_time": "2023-04-15T22:15:17.754Z"
   },
   {
    "duration": 9,
    "start_time": "2023-04-15T22:15:31.310Z"
   },
   {
    "duration": 13,
    "start_time": "2023-04-15T22:25:44.235Z"
   },
   {
    "duration": 29,
    "start_time": "2023-04-15T22:25:51.062Z"
   },
   {
    "duration": 30,
    "start_time": "2023-04-15T22:26:29.827Z"
   },
   {
    "duration": 28,
    "start_time": "2023-04-15T22:27:31.358Z"
   },
   {
    "duration": 8,
    "start_time": "2023-04-15T22:27:32.085Z"
   },
   {
    "duration": 29,
    "start_time": "2023-04-15T22:27:42.031Z"
   },
   {
    "duration": 27,
    "start_time": "2023-04-15T22:27:55.532Z"
   },
   {
    "duration": 48,
    "start_time": "2023-04-15T22:35:09.613Z"
   },
   {
    "duration": 29,
    "start_time": "2023-04-15T22:35:16.148Z"
   },
   {
    "duration": 52,
    "start_time": "2023-04-15T22:35:43.161Z"
   },
   {
    "duration": 24,
    "start_time": "2023-04-15T22:35:50.909Z"
   },
   {
    "duration": 27,
    "start_time": "2023-04-15T22:35:58.698Z"
   },
   {
    "duration": 25,
    "start_time": "2023-04-15T22:36:19.333Z"
   },
   {
    "duration": 27,
    "start_time": "2023-04-15T22:36:28.024Z"
   },
   {
    "duration": 25,
    "start_time": "2023-04-15T22:36:49.555Z"
   },
   {
    "duration": 26,
    "start_time": "2023-04-15T22:37:05.553Z"
   },
   {
    "duration": 25,
    "start_time": "2023-04-15T22:37:16.635Z"
   },
   {
    "duration": 21,
    "start_time": "2023-04-15T22:37:51.950Z"
   },
   {
    "duration": 7,
    "start_time": "2023-04-15T22:38:01.464Z"
   },
   {
    "duration": 11,
    "start_time": "2023-04-15T22:38:07.856Z"
   },
   {
    "duration": 27,
    "start_time": "2023-04-15T22:39:15.886Z"
   },
   {
    "duration": 30,
    "start_time": "2023-04-15T22:41:50.220Z"
   },
   {
    "duration": 36,
    "start_time": "2023-04-15T22:43:38.854Z"
   },
   {
    "duration": 31,
    "start_time": "2023-04-15T22:43:45.883Z"
   },
   {
    "duration": 11,
    "start_time": "2023-04-15T22:44:17.556Z"
   },
   {
    "duration": 49,
    "start_time": "2023-04-15T22:57:16.535Z"
   },
   {
    "duration": 4,
    "start_time": "2023-04-15T22:58:42.865Z"
   },
   {
    "duration": 29,
    "start_time": "2023-04-15T22:58:46.618Z"
   },
   {
    "duration": 24,
    "start_time": "2023-04-15T22:59:26.905Z"
   },
   {
    "duration": 7,
    "start_time": "2023-04-15T23:02:41.454Z"
   },
   {
    "duration": 17,
    "start_time": "2023-04-15T23:03:19.212Z"
   },
   {
    "duration": 26,
    "start_time": "2023-04-15T23:04:05.798Z"
   },
   {
    "duration": 20,
    "start_time": "2023-04-15T23:05:11.517Z"
   },
   {
    "duration": 17,
    "start_time": "2023-04-15T23:05:42.250Z"
   },
   {
    "duration": 9,
    "start_time": "2023-04-15T23:05:57.396Z"
   },
   {
    "duration": 37,
    "start_time": "2023-04-15T23:06:39.539Z"
   },
   {
    "duration": 10,
    "start_time": "2023-04-15T23:06:54.092Z"
   },
   {
    "duration": 12,
    "start_time": "2023-04-15T23:07:11.872Z"
   },
   {
    "duration": 16,
    "start_time": "2023-04-15T23:07:31.532Z"
   },
   {
    "duration": 15,
    "start_time": "2023-04-15T23:08:10.724Z"
   },
   {
    "duration": 11,
    "start_time": "2023-04-15T23:08:31.391Z"
   },
   {
    "duration": 9,
    "start_time": "2023-04-15T23:09:03.730Z"
   },
   {
    "duration": 14,
    "start_time": "2023-04-15T23:09:06.727Z"
   },
   {
    "duration": 12,
    "start_time": "2023-04-15T23:09:21.988Z"
   },
   {
    "duration": 14,
    "start_time": "2023-04-15T23:09:29.994Z"
   },
   {
    "duration": 29,
    "start_time": "2023-04-15T23:10:25.908Z"
   },
   {
    "duration": 10,
    "start_time": "2023-04-15T23:11:09.105Z"
   },
   {
    "duration": 15,
    "start_time": "2023-04-15T23:11:13.396Z"
   },
   {
    "duration": 14,
    "start_time": "2023-04-15T23:11:30.311Z"
   },
   {
    "duration": 10,
    "start_time": "2023-04-15T23:14:12.349Z"
   },
   {
    "duration": 13,
    "start_time": "2023-04-15T23:14:48.754Z"
   },
   {
    "duration": 13,
    "start_time": "2023-04-15T23:14:59.258Z"
   },
   {
    "duration": 10,
    "start_time": "2023-04-15T23:15:03.831Z"
   },
   {
    "duration": 7,
    "start_time": "2023-04-15T23:15:07.793Z"
   },
   {
    "duration": 19,
    "start_time": "2023-04-15T23:15:25.151Z"
   },
   {
    "duration": 20,
    "start_time": "2023-04-15T23:15:37.196Z"
   },
   {
    "duration": 19,
    "start_time": "2023-04-15T23:16:07.437Z"
   },
   {
    "duration": 11,
    "start_time": "2023-04-15T23:17:54.831Z"
   },
   {
    "duration": 4,
    "start_time": "2023-04-15T23:18:52.570Z"
   },
   {
    "duration": 39,
    "start_time": "2023-04-15T23:19:00.657Z"
   },
   {
    "duration": 33,
    "start_time": "2023-04-15T23:19:10.030Z"
   },
   {
    "duration": 21,
    "start_time": "2023-04-15T23:20:37.015Z"
   },
   {
    "duration": 10,
    "start_time": "2023-04-15T23:20:41.428Z"
   },
   {
    "duration": 23,
    "start_time": "2023-04-15T23:20:42.031Z"
   },
   {
    "duration": 32,
    "start_time": "2023-04-15T23:20:42.680Z"
   },
   {
    "duration": 26,
    "start_time": "2023-04-15T23:20:44.907Z"
   },
   {
    "duration": 19,
    "start_time": "2023-04-15T23:20:45.870Z"
   },
   {
    "duration": 12,
    "start_time": "2023-04-15T23:23:22.274Z"
   },
   {
    "duration": 10,
    "start_time": "2023-04-15T23:23:45.767Z"
   },
   {
    "duration": 13,
    "start_time": "2023-04-15T23:23:51.335Z"
   },
   {
    "duration": 11,
    "start_time": "2023-04-15T23:24:07.472Z"
   },
   {
    "duration": 12,
    "start_time": "2023-04-15T23:24:17.686Z"
   },
   {
    "duration": 10,
    "start_time": "2023-04-15T23:26:44.887Z"
   },
   {
    "duration": 25,
    "start_time": "2023-04-15T23:27:13.368Z"
   },
   {
    "duration": 24,
    "start_time": "2023-04-15T23:27:29.764Z"
   },
   {
    "duration": 8,
    "start_time": "2023-04-15T23:28:23.916Z"
   },
   {
    "duration": 32,
    "start_time": "2023-04-15T23:29:50.022Z"
   },
   {
    "duration": 18,
    "start_time": "2023-04-15T23:38:10.321Z"
   },
   {
    "duration": 12,
    "start_time": "2023-04-15T23:38:39.781Z"
   },
   {
    "duration": 12,
    "start_time": "2023-04-15T23:39:04.716Z"
   },
   {
    "duration": 11,
    "start_time": "2023-04-15T23:39:09.340Z"
   },
   {
    "duration": 18,
    "start_time": "2023-04-15T23:40:11.531Z"
   },
   {
    "duration": 9,
    "start_time": "2023-04-15T23:40:23.013Z"
   },
   {
    "duration": 20,
    "start_time": "2023-04-15T23:40:51.539Z"
   },
   {
    "duration": 8,
    "start_time": "2023-04-15T23:40:59.085Z"
   },
   {
    "duration": 13,
    "start_time": "2023-04-15T23:41:56.679Z"
   },
   {
    "duration": 12,
    "start_time": "2023-04-15T23:42:22.083Z"
   },
   {
    "duration": 62,
    "start_time": "2023-04-16T16:53:42.852Z"
   },
   {
    "duration": 1654,
    "start_time": "2023-04-16T16:53:49.873Z"
   },
   {
    "duration": 1947,
    "start_time": "2023-04-16T16:53:51.532Z"
   },
   {
    "duration": 846,
    "start_time": "2023-04-16T16:53:53.481Z"
   },
   {
    "duration": 59,
    "start_time": "2023-04-16T16:53:54.329Z"
   },
   {
    "duration": 783,
    "start_time": "2023-04-16T16:53:54.391Z"
   },
   {
    "duration": 38,
    "start_time": "2023-04-16T16:53:55.177Z"
   },
   {
    "duration": 16,
    "start_time": "2023-04-16T16:53:55.224Z"
   },
   {
    "duration": 26,
    "start_time": "2023-04-16T16:53:55.242Z"
   },
   {
    "duration": 56,
    "start_time": "2023-04-16T16:53:55.270Z"
   },
   {
    "duration": 40,
    "start_time": "2023-04-16T16:53:55.328Z"
   },
   {
    "duration": 50,
    "start_time": "2023-04-16T16:53:55.370Z"
   },
   {
    "duration": 24,
    "start_time": "2023-04-16T16:53:55.429Z"
   },
   {
    "duration": 38,
    "start_time": "2023-04-16T16:53:55.455Z"
   },
   {
    "duration": 25,
    "start_time": "2023-04-16T16:53:55.499Z"
   },
   {
    "duration": 75,
    "start_time": "2023-04-16T17:19:44.842Z"
   },
   {
    "duration": 60,
    "start_time": "2023-04-16T17:19:51.359Z"
   },
   {
    "duration": 40,
    "start_time": "2023-04-16T17:19:57.060Z"
   },
   {
    "duration": 41,
    "start_time": "2023-04-16T17:20:02.538Z"
   },
   {
    "duration": 19,
    "start_time": "2023-04-16T17:20:13.450Z"
   },
   {
    "duration": 15,
    "start_time": "2023-04-16T17:21:02.029Z"
   },
   {
    "duration": 11,
    "start_time": "2023-04-16T17:21:11.344Z"
   },
   {
    "duration": 12,
    "start_time": "2023-04-16T17:21:16.246Z"
   },
   {
    "duration": 79,
    "start_time": "2023-04-16T17:21:44.936Z"
   },
   {
    "duration": 40,
    "start_time": "2023-04-16T17:22:37.755Z"
   },
   {
    "duration": 29,
    "start_time": "2023-04-16T17:23:00.148Z"
   },
   {
    "duration": 30,
    "start_time": "2023-04-16T17:23:08.948Z"
   },
   {
    "duration": 26,
    "start_time": "2023-04-16T17:23:35.436Z"
   },
   {
    "duration": 19,
    "start_time": "2023-04-16T17:23:50.332Z"
   },
   {
    "duration": 43,
    "start_time": "2023-04-16T17:24:11.342Z"
   },
   {
    "duration": 47,
    "start_time": "2023-04-16T17:25:37.661Z"
   },
   {
    "duration": 29,
    "start_time": "2023-04-16T17:28:43.629Z"
   },
   {
    "duration": 5,
    "start_time": "2023-04-16T17:36:57.315Z"
   },
   {
    "duration": 46,
    "start_time": "2023-04-16T17:37:07.860Z"
   },
   {
    "duration": 31,
    "start_time": "2023-04-16T17:37:17.918Z"
   },
   {
    "duration": 31,
    "start_time": "2023-04-16T17:37:25.614Z"
   },
   {
    "duration": 29,
    "start_time": "2023-04-16T17:37:55.544Z"
   },
   {
    "duration": 84,
    "start_time": "2023-04-16T17:46:34.429Z"
   },
   {
    "duration": 22,
    "start_time": "2023-04-16T17:47:10.485Z"
   },
   {
    "duration": 73,
    "start_time": "2023-04-16T17:47:15.883Z"
   },
   {
    "duration": 10,
    "start_time": "2023-04-16T17:47:20.025Z"
   },
   {
    "duration": 48,
    "start_time": "2023-04-16T17:47:43.780Z"
   },
   {
    "duration": 17,
    "start_time": "2023-04-16T17:48:05.884Z"
   },
   {
    "duration": 25,
    "start_time": "2023-04-16T17:48:11.475Z"
   },
   {
    "duration": 62,
    "start_time": "2023-04-16T17:48:57.376Z"
   },
   {
    "duration": 58,
    "start_time": "2023-04-16T17:49:07.978Z"
   },
   {
    "duration": 16,
    "start_time": "2023-04-16T17:49:30.627Z"
   },
   {
    "duration": 15,
    "start_time": "2023-04-16T17:49:40.652Z"
   },
   {
    "duration": 17,
    "start_time": "2023-04-16T17:49:49.254Z"
   },
   {
    "duration": 33,
    "start_time": "2023-04-16T17:50:05.973Z"
   },
   {
    "duration": 29,
    "start_time": "2023-04-16T17:51:08.975Z"
   },
   {
    "duration": 34,
    "start_time": "2023-04-16T17:51:52.881Z"
   },
   {
    "duration": 9,
    "start_time": "2023-04-16T17:51:59.229Z"
   },
   {
    "duration": 48,
    "start_time": "2023-04-16T17:52:07.279Z"
   },
   {
    "duration": 15,
    "start_time": "2023-04-16T17:52:24.145Z"
   },
   {
    "duration": 22,
    "start_time": "2023-04-16T17:53:17.280Z"
   },
   {
    "duration": 53,
    "start_time": "2023-04-16T17:53:29.413Z"
   },
   {
    "duration": 3,
    "start_time": "2023-04-16T17:53:33.465Z"
   },
   {
    "duration": 12,
    "start_time": "2023-04-16T17:53:41.833Z"
   },
   {
    "duration": 26,
    "start_time": "2023-04-16T17:53:56.674Z"
   },
   {
    "duration": 17,
    "start_time": "2023-04-16T17:54:30.620Z"
   },
   {
    "duration": 11,
    "start_time": "2023-04-16T17:54:35.380Z"
   },
   {
    "duration": 24,
    "start_time": "2023-04-16T17:55:16.079Z"
   },
   {
    "duration": 17,
    "start_time": "2023-04-16T17:55:19.014Z"
   },
   {
    "duration": 8,
    "start_time": "2023-04-16T17:55:19.914Z"
   },
   {
    "duration": 17,
    "start_time": "2023-04-16T17:55:28.433Z"
   },
   {
    "duration": 9,
    "start_time": "2023-04-16T17:55:30.919Z"
   },
   {
    "duration": 29,
    "start_time": "2023-04-16T17:56:42.718Z"
   },
   {
    "duration": 647,
    "start_time": "2023-04-16T17:57:13.328Z"
   },
   {
    "duration": 10,
    "start_time": "2023-04-16T17:57:19.634Z"
   },
   {
    "duration": 19,
    "start_time": "2023-04-16T17:57:20.404Z"
   },
   {
    "duration": 17,
    "start_time": "2023-04-16T17:57:37.526Z"
   },
   {
    "duration": 13,
    "start_time": "2023-04-16T17:57:44.416Z"
   },
   {
    "duration": 13,
    "start_time": "2023-04-16T17:57:46.442Z"
   },
   {
    "duration": 14,
    "start_time": "2023-04-16T17:58:46.519Z"
   },
   {
    "duration": 14,
    "start_time": "2023-04-16T17:58:58.614Z"
   },
   {
    "duration": 19,
    "start_time": "2023-04-16T17:59:30.300Z"
   },
   {
    "duration": 13,
    "start_time": "2023-04-16T18:03:34.879Z"
   },
   {
    "duration": 14,
    "start_time": "2023-04-16T18:07:32.503Z"
   },
   {
    "duration": 17,
    "start_time": "2023-04-16T18:08:20.309Z"
   },
   {
    "duration": 8,
    "start_time": "2023-04-16T18:08:52.046Z"
   },
   {
    "duration": 18,
    "start_time": "2023-04-16T18:08:58.383Z"
   },
   {
    "duration": 12,
    "start_time": "2023-04-16T18:09:11.067Z"
   },
   {
    "duration": 14,
    "start_time": "2023-04-16T18:09:14.834Z"
   },
   {
    "duration": 25,
    "start_time": "2023-04-16T18:09:35.598Z"
   },
   {
    "duration": 24,
    "start_time": "2023-04-16T18:09:42.513Z"
   },
   {
    "duration": 24,
    "start_time": "2023-04-16T18:09:45.214Z"
   },
   {
    "duration": 16,
    "start_time": "2023-04-16T18:10:00.110Z"
   },
   {
    "duration": 20,
    "start_time": "2023-04-16T18:10:01.135Z"
   },
   {
    "duration": 17,
    "start_time": "2023-04-16T18:10:52.727Z"
   },
   {
    "duration": 12,
    "start_time": "2023-04-16T18:12:43.702Z"
   },
   {
    "duration": 19,
    "start_time": "2023-04-16T18:13:24.121Z"
   },
   {
    "duration": 19,
    "start_time": "2023-04-16T18:13:30.022Z"
   },
   {
    "duration": 29,
    "start_time": "2023-04-16T18:14:35.042Z"
   },
   {
    "duration": 18,
    "start_time": "2023-04-16T18:16:04.353Z"
   },
   {
    "duration": 46,
    "start_time": "2023-04-16T18:16:20.104Z"
   },
   {
    "duration": 8,
    "start_time": "2023-04-16T18:25:05.528Z"
   },
   {
    "duration": 12,
    "start_time": "2023-04-16T18:26:25.631Z"
   },
   {
    "duration": 17,
    "start_time": "2023-04-16T18:26:58.005Z"
   },
   {
    "duration": 27,
    "start_time": "2023-04-16T18:27:55.202Z"
   },
   {
    "duration": 19,
    "start_time": "2023-04-16T18:28:07.241Z"
   },
   {
    "duration": 17,
    "start_time": "2023-04-16T18:28:12.535Z"
   },
   {
    "duration": 46,
    "start_time": "2023-04-16T18:28:46.214Z"
   },
   {
    "duration": 29,
    "start_time": "2023-04-16T18:28:57.114Z"
   },
   {
    "duration": 27,
    "start_time": "2023-04-16T18:29:09.717Z"
   },
   {
    "duration": 36,
    "start_time": "2023-04-16T18:29:39.302Z"
   },
   {
    "duration": 24,
    "start_time": "2023-04-16T18:30:08.549Z"
   },
   {
    "duration": 54,
    "start_time": "2023-04-16T18:31:02.547Z"
   },
   {
    "duration": 5,
    "start_time": "2023-04-16T18:39:58.314Z"
   },
   {
    "duration": 13,
    "start_time": "2023-04-16T18:41:40.626Z"
   },
   {
    "duration": 6,
    "start_time": "2023-04-16T18:44:24.474Z"
   },
   {
    "duration": 14,
    "start_time": "2023-04-16T18:44:28.830Z"
   },
   {
    "duration": 10,
    "start_time": "2023-04-16T18:44:45.130Z"
   },
   {
    "duration": 11,
    "start_time": "2023-04-16T18:45:05.626Z"
   },
   {
    "duration": 10,
    "start_time": "2023-04-16T18:45:27.445Z"
   },
   {
    "duration": 10,
    "start_time": "2023-04-16T18:58:43.754Z"
   },
   {
    "duration": 441,
    "start_time": "2023-04-16T19:12:28.927Z"
   },
   {
    "duration": 305,
    "start_time": "2023-04-16T19:12:41.530Z"
   },
   {
    "duration": 343,
    "start_time": "2023-04-16T19:14:49.506Z"
   },
   {
    "duration": 10,
    "start_time": "2023-04-16T19:18:49.951Z"
   },
   {
    "duration": 12,
    "start_time": "2023-04-16T19:19:09.673Z"
   },
   {
    "duration": 254,
    "start_time": "2023-04-16T19:20:52.872Z"
   },
   {
    "duration": 389,
    "start_time": "2023-04-16T19:22:10.366Z"
   },
   {
    "duration": 271,
    "start_time": "2023-04-16T19:22:27.634Z"
   },
   {
    "duration": 279,
    "start_time": "2023-04-16T19:22:50.160Z"
   },
   {
    "duration": 286,
    "start_time": "2023-04-16T19:25:53.008Z"
   },
   {
    "duration": 274,
    "start_time": "2023-04-16T19:28:26.530Z"
   },
   {
    "duration": 2705,
    "start_time": "2023-04-16T19:28:49.735Z"
   },
   {
    "duration": 17,
    "start_time": "2023-04-16T19:29:38.157Z"
   },
   {
    "duration": 269,
    "start_time": "2023-04-16T19:29:52.918Z"
   },
   {
    "duration": 251,
    "start_time": "2023-04-16T19:30:35.619Z"
   },
   {
    "duration": 263,
    "start_time": "2023-04-16T19:31:19.364Z"
   },
   {
    "duration": 284,
    "start_time": "2023-04-16T19:31:35.777Z"
   },
   {
    "duration": 2771,
    "start_time": "2023-04-16T19:31:45.126Z"
   },
   {
    "duration": 5134,
    "start_time": "2023-04-16T19:31:59.527Z"
   },
   {
    "duration": 2917,
    "start_time": "2023-04-16T19:32:08.057Z"
   },
   {
    "duration": 2577,
    "start_time": "2023-04-16T19:33:21.559Z"
   },
   {
    "duration": 245,
    "start_time": "2023-04-16T19:35:09.330Z"
   },
   {
    "duration": 1665,
    "start_time": "2023-04-16T19:36:04.946Z"
   },
   {
    "duration": 4670,
    "start_time": "2023-04-16T19:36:34.684Z"
   },
   {
    "duration": 4363,
    "start_time": "2023-04-16T19:36:57.703Z"
   },
   {
    "duration": 4469,
    "start_time": "2023-04-16T19:37:25.743Z"
   },
   {
    "duration": 1561,
    "start_time": "2023-04-16T19:37:39.872Z"
   },
   {
    "duration": 239,
    "start_time": "2023-04-16T19:37:59.115Z"
   },
   {
    "duration": 1595,
    "start_time": "2023-04-16T19:39:34.647Z"
   },
   {
    "duration": 275,
    "start_time": "2023-04-16T19:40:02.357Z"
   },
   {
    "duration": 4618,
    "start_time": "2023-04-16T19:40:17.741Z"
   },
   {
    "duration": 80,
    "start_time": "2023-04-16T19:41:39.626Z"
   },
   {
    "duration": 641,
    "start_time": "2023-04-16T19:42:31.471Z"
   },
   {
    "duration": 1620,
    "start_time": "2023-04-16T19:42:54.630Z"
   },
   {
    "duration": 509,
    "start_time": "2023-04-16T19:46:52.544Z"
   },
   {
    "duration": 37,
    "start_time": "2023-04-16T19:48:52.945Z"
   },
   {
    "duration": 28,
    "start_time": "2023-04-16T19:49:31.375Z"
   },
   {
    "duration": 8,
    "start_time": "2023-04-16T19:49:56.917Z"
   },
   {
    "duration": 15,
    "start_time": "2023-04-16T19:51:30.419Z"
   },
   {
    "duration": 7,
    "start_time": "2023-04-16T19:53:04.126Z"
   },
   {
    "duration": 12,
    "start_time": "2023-04-16T19:53:08.729Z"
   },
   {
    "duration": 24,
    "start_time": "2023-04-16T19:53:16.337Z"
   },
   {
    "duration": 29,
    "start_time": "2023-04-16T19:53:22.735Z"
   },
   {
    "duration": 12,
    "start_time": "2023-04-16T19:54:03.320Z"
   },
   {
    "duration": 3,
    "start_time": "2023-04-16T19:56:31.173Z"
   },
   {
    "duration": 3,
    "start_time": "2023-04-16T19:56:33.661Z"
   },
   {
    "duration": 49,
    "start_time": "2023-04-16T20:00:00.719Z"
   },
   {
    "duration": 4,
    "start_time": "2023-04-16T20:00:12.934Z"
   },
   {
    "duration": 11,
    "start_time": "2023-04-16T20:00:15.719Z"
   },
   {
    "duration": 41,
    "start_time": "2023-04-16T20:00:39.659Z"
   },
   {
    "duration": 21,
    "start_time": "2023-04-16T20:02:27.350Z"
   },
   {
    "duration": 19,
    "start_time": "2023-04-16T20:03:09.838Z"
   },
   {
    "duration": 5,
    "start_time": "2023-04-16T20:05:15.954Z"
   },
   {
    "duration": 16,
    "start_time": "2023-04-16T20:05:16.615Z"
   },
   {
    "duration": 6,
    "start_time": "2023-04-16T20:05:17.415Z"
   },
   {
    "duration": 8,
    "start_time": "2023-04-16T20:05:25.334Z"
   },
   {
    "duration": 11,
    "start_time": "2023-04-16T20:06:00.326Z"
   },
   {
    "duration": 60,
    "start_time": "2023-04-16T20:07:13.749Z"
   },
   {
    "duration": 49,
    "start_time": "2023-04-16T20:07:19.934Z"
   },
   {
    "duration": 45,
    "start_time": "2023-04-16T20:07:34.765Z"
   },
   {
    "duration": 14,
    "start_time": "2023-04-16T20:07:49.166Z"
   },
   {
    "duration": 15,
    "start_time": "2023-04-16T20:08:38.822Z"
   },
   {
    "duration": 12,
    "start_time": "2023-04-16T20:12:21.007Z"
   },
   {
    "duration": 19,
    "start_time": "2023-04-16T20:13:20.878Z"
   },
   {
    "duration": 5,
    "start_time": "2023-04-16T20:13:23.919Z"
   },
   {
    "duration": 53,
    "start_time": "2023-04-16T20:13:30.358Z"
   },
   {
    "duration": 17,
    "start_time": "2023-04-16T20:13:33.336Z"
   },
   {
    "duration": 27,
    "start_time": "2023-04-16T20:13:43.305Z"
   },
   {
    "duration": 52,
    "start_time": "2023-04-16T20:13:46.578Z"
   },
   {
    "duration": 19,
    "start_time": "2023-04-16T20:14:02.114Z"
   },
   {
    "duration": 18,
    "start_time": "2023-04-16T20:14:03.066Z"
   },
   {
    "duration": 1655,
    "start_time": "2023-04-16T20:14:12.136Z"
   },
   {
    "duration": 1101,
    "start_time": "2023-04-16T20:14:13.794Z"
   },
   {
    "duration": 896,
    "start_time": "2023-04-16T20:14:14.907Z"
   },
   {
    "duration": 54,
    "start_time": "2023-04-16T20:14:15.805Z"
   },
   {
    "duration": 641,
    "start_time": "2023-04-16T20:14:15.862Z"
   },
   {
    "duration": 29,
    "start_time": "2023-04-16T20:14:16.505Z"
   },
   {
    "duration": 29,
    "start_time": "2023-04-16T20:14:16.536Z"
   },
   {
    "duration": 156,
    "start_time": "2023-04-16T20:14:16.585Z"
   },
   {
    "duration": 0,
    "start_time": "2023-04-16T20:14:16.744Z"
   },
   {
    "duration": 0,
    "start_time": "2023-04-16T20:14:16.746Z"
   },
   {
    "duration": 0,
    "start_time": "2023-04-16T20:14:16.747Z"
   },
   {
    "duration": 0,
    "start_time": "2023-04-16T20:14:16.748Z"
   },
   {
    "duration": 0,
    "start_time": "2023-04-16T20:14:16.750Z"
   },
   {
    "duration": 0,
    "start_time": "2023-04-16T20:14:16.752Z"
   },
   {
    "duration": 0,
    "start_time": "2023-04-16T20:14:16.753Z"
   },
   {
    "duration": 0,
    "start_time": "2023-04-16T20:14:16.753Z"
   },
   {
    "duration": 0,
    "start_time": "2023-04-16T20:14:16.754Z"
   },
   {
    "duration": 0,
    "start_time": "2023-04-16T20:14:16.755Z"
   },
   {
    "duration": 14,
    "start_time": "2023-04-16T20:14:51.620Z"
   },
   {
    "duration": 6,
    "start_time": "2023-04-16T20:14:53.223Z"
   },
   {
    "duration": 13,
    "start_time": "2023-04-16T20:14:55.552Z"
   },
   {
    "duration": 7,
    "start_time": "2023-04-16T20:16:35.219Z"
   },
   {
    "duration": 12,
    "start_time": "2023-04-16T20:16:39.615Z"
   },
   {
    "duration": 16,
    "start_time": "2023-04-16T20:17:34.483Z"
   },
   {
    "duration": 15,
    "start_time": "2023-04-16T20:17:37.332Z"
   },
   {
    "duration": 11,
    "start_time": "2023-04-16T20:18:20.656Z"
   },
   {
    "duration": 12,
    "start_time": "2023-04-16T20:18:27.151Z"
   },
   {
    "duration": 363,
    "start_time": "2023-04-16T20:18:31.313Z"
   },
   {
    "duration": 11,
    "start_time": "2023-04-16T20:19:39.067Z"
   },
   {
    "duration": 9,
    "start_time": "2023-04-16T20:19:58.229Z"
   },
   {
    "duration": 5,
    "start_time": "2023-04-16T20:20:34.512Z"
   },
   {
    "duration": 5,
    "start_time": "2023-04-16T20:20:55.563Z"
   },
   {
    "duration": 7,
    "start_time": "2023-04-16T20:21:44.152Z"
   },
   {
    "duration": 6,
    "start_time": "2023-04-16T20:22:29.461Z"
   },
   {
    "duration": 3,
    "start_time": "2023-04-16T20:23:25.926Z"
   },
   {
    "duration": 12,
    "start_time": "2023-04-16T20:24:11.138Z"
   },
   {
    "duration": 4,
    "start_time": "2023-04-16T20:24:29.469Z"
   },
   {
    "duration": 90,
    "start_time": "2023-04-16T20:24:44.950Z"
   },
   {
    "duration": 4,
    "start_time": "2023-04-16T20:25:24.152Z"
   },
   {
    "duration": 691,
    "start_time": "2023-04-16T20:25:24.855Z"
   },
   {
    "duration": 665,
    "start_time": "2023-04-16T20:25:25.548Z"
   },
   {
    "duration": 34,
    "start_time": "2023-04-16T20:25:26.215Z"
   },
   {
    "duration": 572,
    "start_time": "2023-04-16T20:25:27.242Z"
   },
   {
    "duration": 23,
    "start_time": "2023-04-16T20:25:29.865Z"
   },
   {
    "duration": 38,
    "start_time": "2023-04-16T20:25:30.627Z"
   },
   {
    "duration": 15,
    "start_time": "2023-04-16T20:26:28.362Z"
   },
   {
    "duration": 45,
    "start_time": "2023-04-16T20:27:29.728Z"
   },
   {
    "duration": 52,
    "start_time": "2023-04-16T20:27:36.326Z"
   },
   {
    "duration": 52,
    "start_time": "2023-04-16T20:27:42.317Z"
   },
   {
    "duration": 44,
    "start_time": "2023-04-16T20:27:44.255Z"
   },
   {
    "duration": 28,
    "start_time": "2023-04-16T20:27:49.838Z"
   },
   {
    "duration": 49,
    "start_time": "2023-04-16T20:28:22.763Z"
   },
   {
    "duration": 57,
    "start_time": "2023-04-16T20:28:26.862Z"
   },
   {
    "duration": 3,
    "start_time": "2023-04-16T20:28:33.722Z"
   },
   {
    "duration": 7,
    "start_time": "2023-04-16T20:28:34.221Z"
   },
   {
    "duration": 24,
    "start_time": "2023-04-16T20:28:50.426Z"
   },
   {
    "duration": 16,
    "start_time": "2023-04-16T20:28:58.626Z"
   },
   {
    "duration": 9,
    "start_time": "2023-04-16T20:31:00.118Z"
   },
   {
    "duration": 13,
    "start_time": "2023-04-16T20:31:06.714Z"
   },
   {
    "duration": 12,
    "start_time": "2023-04-16T20:31:41.022Z"
   },
   {
    "duration": 11,
    "start_time": "2023-04-16T20:32:40.506Z"
   },
   {
    "duration": 10,
    "start_time": "2023-04-16T20:33:19.544Z"
   },
   {
    "duration": 25,
    "start_time": "2023-04-16T20:33:28.914Z"
   },
   {
    "duration": 40,
    "start_time": "2023-04-16T20:34:24.844Z"
   },
   {
    "duration": 37,
    "start_time": "2023-04-16T20:37:26.512Z"
   },
   {
    "duration": 12,
    "start_time": "2023-04-16T20:38:12.110Z"
   },
   {
    "duration": 5,
    "start_time": "2023-04-16T20:54:29.715Z"
   },
   {
    "duration": 4,
    "start_time": "2023-04-16T20:54:41.908Z"
   },
   {
    "duration": 3,
    "start_time": "2023-04-16T20:55:04.916Z"
   },
   {
    "duration": 6,
    "start_time": "2023-04-16T20:55:14.171Z"
   },
   {
    "duration": 5,
    "start_time": "2023-04-16T20:56:09.265Z"
   },
   {
    "duration": 74,
    "start_time": "2023-04-16T21:05:36.825Z"
   },
   {
    "duration": 100,
    "start_time": "2023-04-16T21:21:17.074Z"
   },
   {
    "duration": 11,
    "start_time": "2023-04-16T21:21:24.314Z"
   },
   {
    "duration": 14,
    "start_time": "2023-04-16T21:21:27.215Z"
   },
   {
    "duration": 15,
    "start_time": "2023-04-16T21:22:11.515Z"
   },
   {
    "duration": 45,
    "start_time": "2023-04-16T21:26:28.321Z"
   },
   {
    "duration": 9,
    "start_time": "2023-04-16T21:26:33.296Z"
   },
   {
    "duration": 4,
    "start_time": "2023-04-16T21:28:32.411Z"
   },
   {
    "duration": 11,
    "start_time": "2023-04-16T21:28:32.772Z"
   },
   {
    "duration": 52,
    "start_time": "2023-04-16T21:29:32.729Z"
   },
   {
    "duration": 46,
    "start_time": "2023-04-16T21:29:39.106Z"
   },
   {
    "duration": 51,
    "start_time": "2023-04-16T21:33:57.418Z"
   },
   {
    "duration": 48,
    "start_time": "2023-04-16T21:34:29.821Z"
   },
   {
    "duration": 51,
    "start_time": "2023-04-16T21:35:00.099Z"
   },
   {
    "duration": 51,
    "start_time": "2023-04-16T21:36:51.859Z"
   },
   {
    "duration": 48,
    "start_time": "2023-04-16T21:37:02.873Z"
   },
   {
    "duration": 54,
    "start_time": "2023-04-16T21:38:59.631Z"
   },
   {
    "duration": 46,
    "start_time": "2023-04-16T21:39:48.567Z"
   },
   {
    "duration": 46,
    "start_time": "2023-04-16T21:39:53.699Z"
   },
   {
    "duration": 14,
    "start_time": "2023-04-16T21:41:33.848Z"
   },
   {
    "duration": 20,
    "start_time": "2023-04-16T21:42:11.898Z"
   },
   {
    "duration": 15,
    "start_time": "2023-04-16T21:42:18.098Z"
   },
   {
    "duration": 53,
    "start_time": "2023-04-16T21:42:56.038Z"
   },
   {
    "duration": 784,
    "start_time": "2023-04-16T21:46:35.774Z"
   },
   {
    "duration": 84,
    "start_time": "2023-04-16T21:47:08.002Z"
   },
   {
    "duration": 63,
    "start_time": "2023-04-16T21:47:20.046Z"
   },
   {
    "duration": 68,
    "start_time": "2023-04-16T21:48:22.504Z"
   },
   {
    "duration": 84,
    "start_time": "2023-04-16T21:48:31.445Z"
   },
   {
    "duration": 68,
    "start_time": "2023-04-16T21:48:43.348Z"
   },
   {
    "duration": 64,
    "start_time": "2023-04-16T21:48:52.898Z"
   },
   {
    "duration": 44,
    "start_time": "2023-04-16T21:49:36.110Z"
   },
   {
    "duration": 50,
    "start_time": "2023-04-16T21:50:43.543Z"
   },
   {
    "duration": 18,
    "start_time": "2023-04-16T21:50:48.217Z"
   },
   {
    "duration": 13,
    "start_time": "2023-04-16T21:51:17.998Z"
   },
   {
    "duration": 7,
    "start_time": "2023-04-16T21:51:32.959Z"
   },
   {
    "duration": 15,
    "start_time": "2023-04-16T21:54:06.349Z"
   },
   {
    "duration": 10,
    "start_time": "2023-04-16T21:54:25.406Z"
   },
   {
    "duration": 11,
    "start_time": "2023-04-16T21:54:47.713Z"
   },
   {
    "duration": 10,
    "start_time": "2023-04-16T21:55:03.760Z"
   },
   {
    "duration": 22,
    "start_time": "2023-04-16T21:55:20.110Z"
   },
   {
    "duration": 28,
    "start_time": "2023-04-16T21:55:56.571Z"
   },
   {
    "duration": 24,
    "start_time": "2023-04-16T21:56:48.070Z"
   },
   {
    "duration": 23,
    "start_time": "2023-04-16T21:57:48.458Z"
   },
   {
    "duration": 24,
    "start_time": "2023-04-16T21:58:05.006Z"
   },
   {
    "duration": 25,
    "start_time": "2023-04-16T21:58:20.312Z"
   },
   {
    "duration": 24,
    "start_time": "2023-04-16T21:58:31.966Z"
   },
   {
    "duration": 24,
    "start_time": "2023-04-16T21:59:36.041Z"
   },
   {
    "duration": 28,
    "start_time": "2023-04-16T22:01:04.525Z"
   },
   {
    "duration": 26,
    "start_time": "2023-04-16T22:01:17.469Z"
   },
   {
    "duration": 29,
    "start_time": "2023-04-16T22:01:44.251Z"
   },
   {
    "duration": 27,
    "start_time": "2023-04-16T22:01:50.317Z"
   },
   {
    "duration": 28,
    "start_time": "2023-04-16T22:01:53.880Z"
   },
   {
    "duration": 46,
    "start_time": "2023-04-16T22:02:31.512Z"
   },
   {
    "duration": 24,
    "start_time": "2023-04-16T22:02:44.897Z"
   },
   {
    "duration": 19,
    "start_time": "2023-04-16T22:04:38.809Z"
   },
   {
    "duration": 38,
    "start_time": "2023-04-16T22:06:43.130Z"
   },
   {
    "duration": 14,
    "start_time": "2023-04-16T22:06:46.510Z"
   },
   {
    "duration": 39,
    "start_time": "2023-04-16T22:06:47.116Z"
   },
   {
    "duration": 53,
    "start_time": "2023-04-16T22:07:00.579Z"
   },
   {
    "duration": 37,
    "start_time": "2023-04-16T22:10:46.659Z"
   },
   {
    "duration": 37,
    "start_time": "2023-04-16T22:11:00.313Z"
   },
   {
    "duration": 11,
    "start_time": "2023-04-16T22:11:27.921Z"
   },
   {
    "duration": 4,
    "start_time": "2023-04-16T22:11:51.233Z"
   },
   {
    "duration": 45,
    "start_time": "2023-04-16T22:12:09.367Z"
   },
   {
    "duration": 17,
    "start_time": "2023-04-16T22:12:48.224Z"
   },
   {
    "duration": 5,
    "start_time": "2023-04-16T22:13:31.945Z"
   },
   {
    "duration": 147,
    "start_time": "2023-04-16T22:15:10.823Z"
   },
   {
    "duration": 14,
    "start_time": "2023-04-16T22:16:42.780Z"
   },
   {
    "duration": 5,
    "start_time": "2023-04-16T22:16:53.138Z"
   },
   {
    "duration": 21,
    "start_time": "2023-04-16T22:17:08.237Z"
   },
   {
    "duration": 11,
    "start_time": "2023-04-16T22:21:53.983Z"
   },
   {
    "duration": 16,
    "start_time": "2023-04-16T22:24:09.801Z"
   },
   {
    "duration": 20,
    "start_time": "2023-04-16T22:24:50.109Z"
   },
   {
    "duration": 28,
    "start_time": "2023-04-16T22:26:10.917Z"
   },
   {
    "duration": 17,
    "start_time": "2023-04-16T22:26:18.705Z"
   },
   {
    "duration": 12,
    "start_time": "2023-04-16T22:31:35.830Z"
   },
   {
    "duration": 5,
    "start_time": "2023-04-16T22:31:44.754Z"
   },
   {
    "duration": 5,
    "start_time": "2023-04-16T22:31:47.383Z"
   },
   {
    "duration": 46,
    "start_time": "2023-04-16T22:32:28.319Z"
   },
   {
    "duration": 6,
    "start_time": "2023-04-16T22:32:30.686Z"
   },
   {
    "duration": 51,
    "start_time": "2023-04-16T22:39:32.872Z"
   },
   {
    "duration": 47,
    "start_time": "2023-04-16T22:44:07.360Z"
   },
   {
    "duration": 15,
    "start_time": "2023-04-16T22:44:13.908Z"
   },
   {
    "duration": 8,
    "start_time": "2023-04-16T22:46:45.950Z"
   },
   {
    "duration": 10,
    "start_time": "2023-04-16T22:46:50.327Z"
   },
   {
    "duration": 8,
    "start_time": "2023-04-16T22:47:01.905Z"
   },
   {
    "duration": 20,
    "start_time": "2023-04-16T22:47:12.994Z"
   },
   {
    "duration": 11,
    "start_time": "2023-04-16T22:47:18.868Z"
   },
   {
    "duration": 11,
    "start_time": "2023-04-16T22:47:27.416Z"
   },
   {
    "duration": 21,
    "start_time": "2023-04-16T22:47:32.422Z"
   },
   {
    "duration": 5,
    "start_time": "2023-04-16T22:48:01.615Z"
   },
   {
    "duration": 17,
    "start_time": "2023-04-16T22:49:10.784Z"
   },
   {
    "duration": 4,
    "start_time": "2023-04-16T22:49:31.429Z"
   },
   {
    "duration": 4,
    "start_time": "2023-04-16T22:49:41.319Z"
   },
   {
    "duration": 33,
    "start_time": "2023-04-16T22:53:35.848Z"
   },
   {
    "duration": 349,
    "start_time": "2023-04-16T22:55:11.283Z"
   },
   {
    "duration": 5,
    "start_time": "2023-04-16T22:55:18.712Z"
   },
   {
    "duration": 5,
    "start_time": "2023-04-16T22:55:25.274Z"
   },
   {
    "duration": 4,
    "start_time": "2023-04-16T22:56:21.180Z"
   },
   {
    "duration": 5,
    "start_time": "2023-04-16T22:56:24.331Z"
   },
   {
    "duration": 20,
    "start_time": "2023-04-16T22:57:36.961Z"
   },
   {
    "duration": 11,
    "start_time": "2023-04-16T22:58:29.903Z"
   },
   {
    "duration": 23,
    "start_time": "2023-04-16T22:58:33.568Z"
   },
   {
    "duration": 20,
    "start_time": "2023-04-16T23:08:39.396Z"
   },
   {
    "duration": 12,
    "start_time": "2023-04-16T23:09:37.575Z"
   },
   {
    "duration": 11,
    "start_time": "2023-04-16T23:09:51.197Z"
   },
   {
    "duration": 9,
    "start_time": "2023-04-16T23:10:30.874Z"
   },
   {
    "duration": 9,
    "start_time": "2023-04-16T23:10:40.940Z"
   },
   {
    "duration": 21,
    "start_time": "2023-04-16T23:11:12.069Z"
   },
   {
    "duration": 11,
    "start_time": "2023-04-16T23:11:43.112Z"
   },
   {
    "duration": 15,
    "start_time": "2023-04-16T23:12:25.450Z"
   },
   {
    "duration": 12,
    "start_time": "2023-04-16T23:13:12.977Z"
   },
   {
    "duration": 13,
    "start_time": "2023-04-16T23:13:29.184Z"
   },
   {
    "duration": 20,
    "start_time": "2023-04-16T23:13:41.986Z"
   },
   {
    "duration": 9,
    "start_time": "2023-04-16T23:14:03.184Z"
   },
   {
    "duration": 9,
    "start_time": "2023-04-16T23:14:17.914Z"
   },
   {
    "duration": 9,
    "start_time": "2023-04-16T23:14:36.980Z"
   },
   {
    "duration": 221,
    "start_time": "2023-04-16T23:15:08.747Z"
   },
   {
    "duration": 96,
    "start_time": "2023-04-16T23:15:25.719Z"
   },
   {
    "duration": 22,
    "start_time": "2023-04-16T23:15:51.012Z"
   },
   {
    "duration": 32,
    "start_time": "2023-04-16T23:15:51.526Z"
   },
   {
    "duration": 30,
    "start_time": "2023-04-16T23:15:54.193Z"
   },
   {
    "duration": 31,
    "start_time": "2023-04-16T23:16:13.417Z"
   },
   {
    "duration": 29,
    "start_time": "2023-04-16T23:16:22.056Z"
   },
   {
    "duration": 23,
    "start_time": "2023-04-16T23:16:31.730Z"
   },
   {
    "duration": 31,
    "start_time": "2023-04-16T23:16:37.651Z"
   },
   {
    "duration": 32,
    "start_time": "2023-04-16T23:17:05.953Z"
   },
   {
    "duration": 29,
    "start_time": "2023-04-16T23:17:11.791Z"
   },
   {
    "duration": 15,
    "start_time": "2023-04-16T23:17:50.743Z"
   },
   {
    "duration": 1246,
    "start_time": "2023-04-16T23:17:55.019Z"
   },
   {
    "duration": 638,
    "start_time": "2023-04-16T23:17:56.268Z"
   },
   {
    "duration": 608,
    "start_time": "2023-04-16T23:17:56.908Z"
   },
   {
    "duration": 67,
    "start_time": "2023-04-16T23:17:57.518Z"
   },
   {
    "duration": 474,
    "start_time": "2023-04-16T23:17:57.587Z"
   },
   {
    "duration": 24,
    "start_time": "2023-04-16T23:17:58.063Z"
   },
   {
    "duration": 24,
    "start_time": "2023-04-16T23:17:58.089Z"
   },
   {
    "duration": 34,
    "start_time": "2023-04-16T23:17:58.115Z"
   },
   {
    "duration": 53,
    "start_time": "2023-04-16T23:17:58.151Z"
   },
   {
    "duration": 31,
    "start_time": "2023-04-16T23:17:58.208Z"
   },
   {
    "duration": 74,
    "start_time": "2023-04-16T23:17:58.241Z"
   },
   {
    "duration": 188,
    "start_time": "2023-04-16T23:17:58.317Z"
   },
   {
    "duration": 3,
    "start_time": "2023-04-16T23:17:58.507Z"
   },
   {
    "duration": 19,
    "start_time": "2023-04-16T23:17:58.512Z"
   },
   {
    "duration": 93,
    "start_time": "2023-04-16T23:17:58.532Z"
   },
   {
    "duration": 6,
    "start_time": "2023-04-16T23:17:58.626Z"
   },
   {
    "duration": 199,
    "start_time": "2023-04-16T23:17:58.633Z"
   },
   {
    "duration": 11,
    "start_time": "2023-04-16T23:17:58.834Z"
   },
   {
    "duration": 7,
    "start_time": "2023-04-16T23:17:58.847Z"
   },
   {
    "duration": 54,
    "start_time": "2023-04-16T23:17:58.856Z"
   },
   {
    "duration": 156,
    "start_time": "2023-04-16T23:17:58.912Z"
   },
   {
    "duration": 209,
    "start_time": "2023-04-16T23:18:21.899Z"
   },
   {
    "duration": 618,
    "start_time": "2023-04-16T23:19:32.839Z"
   },
   {
    "duration": 1201,
    "start_time": "2023-04-16T23:20:04.234Z"
   },
   {
    "duration": 1222,
    "start_time": "2023-04-16T23:20:28.403Z"
   },
   {
    "duration": 594,
    "start_time": "2023-04-16T23:20:29.627Z"
   },
   {
    "duration": 586,
    "start_time": "2023-04-16T23:20:30.223Z"
   },
   {
    "duration": 37,
    "start_time": "2023-04-16T23:20:30.810Z"
   },
   {
    "duration": 476,
    "start_time": "2023-04-16T23:20:30.850Z"
   },
   {
    "duration": 18,
    "start_time": "2023-04-16T23:20:31.328Z"
   },
   {
    "duration": 33,
    "start_time": "2023-04-16T23:20:31.347Z"
   },
   {
    "duration": 61,
    "start_time": "2023-04-16T23:20:31.386Z"
   },
   {
    "duration": 30,
    "start_time": "2023-04-16T23:20:31.448Z"
   },
   {
    "duration": 30,
    "start_time": "2023-04-16T23:20:31.480Z"
   },
   {
    "duration": 42,
    "start_time": "2023-04-16T23:20:31.512Z"
   },
   {
    "duration": 199,
    "start_time": "2023-04-16T23:20:31.555Z"
   },
   {
    "duration": 4,
    "start_time": "2023-04-16T23:20:31.756Z"
   },
   {
    "duration": 56,
    "start_time": "2023-04-16T23:20:31.762Z"
   },
   {
    "duration": 92,
    "start_time": "2023-04-16T23:20:31.820Z"
   },
   {
    "duration": 5,
    "start_time": "2023-04-16T23:20:31.913Z"
   },
   {
    "duration": 151,
    "start_time": "2023-04-16T23:20:31.919Z"
   },
   {
    "duration": 15,
    "start_time": "2023-04-16T23:20:32.071Z"
   },
   {
    "duration": 20,
    "start_time": "2023-04-16T23:20:32.087Z"
   },
   {
    "duration": 15,
    "start_time": "2023-04-16T23:20:32.108Z"
   },
   {
    "duration": 104,
    "start_time": "2023-04-16T23:20:32.124Z"
   },
   {
    "duration": 134,
    "start_time": "2023-04-16T23:20:32.230Z"
   },
   {
    "duration": 9,
    "start_time": "2023-04-16T23:23:37.229Z"
   },
   {
    "duration": 11,
    "start_time": "2023-04-16T23:23:50.255Z"
   },
   {
    "duration": 23,
    "start_time": "2023-04-16T23:23:54.114Z"
   },
   {
    "duration": 23,
    "start_time": "2023-04-16T23:24:27.041Z"
   },
   {
    "duration": 10,
    "start_time": "2023-04-16T23:24:36.138Z"
   },
   {
    "duration": 5,
    "start_time": "2023-04-16T23:24:51.905Z"
   },
   {
    "duration": 28,
    "start_time": "2023-04-16T23:24:59.053Z"
   },
   {
    "duration": 26,
    "start_time": "2023-04-16T23:26:01.232Z"
   },
   {
    "duration": 25,
    "start_time": "2023-04-16T23:26:22.551Z"
   },
   {
    "duration": 15,
    "start_time": "2023-04-16T23:26:41.420Z"
   },
   {
    "duration": 10,
    "start_time": "2023-04-16T23:26:52.322Z"
   },
   {
    "duration": 28,
    "start_time": "2023-04-16T23:27:01.235Z"
   },
   {
    "duration": 22,
    "start_time": "2023-04-16T23:27:09.525Z"
   },
   {
    "duration": 41,
    "start_time": "2023-04-16T23:27:39.530Z"
   },
   {
    "duration": 9,
    "start_time": "2023-04-16T23:27:58.214Z"
   },
   {
    "duration": 4,
    "start_time": "2023-04-16T23:28:06.953Z"
   },
   {
    "duration": 137,
    "start_time": "2023-04-16T23:34:57.793Z"
   },
   {
    "duration": 147,
    "start_time": "2023-04-16T23:35:36.335Z"
   },
   {
    "duration": 143,
    "start_time": "2023-04-16T23:35:43.111Z"
   },
   {
    "duration": 57,
    "start_time": "2023-04-16T23:36:56.479Z"
   },
   {
    "duration": 157,
    "start_time": "2023-04-16T23:37:00.674Z"
   },
   {
    "duration": 7,
    "start_time": "2023-04-16T23:37:15.334Z"
   },
   {
    "duration": 19,
    "start_time": "2023-04-16T23:37:18.434Z"
   },
   {
    "duration": 134,
    "start_time": "2023-04-16T23:38:22.033Z"
   },
   {
    "duration": 148,
    "start_time": "2023-04-16T23:39:55.791Z"
   },
   {
    "duration": 25,
    "start_time": "2023-04-16T23:41:46.941Z"
   },
   {
    "duration": 11,
    "start_time": "2023-04-16T23:45:16.420Z"
   },
   {
    "duration": 7,
    "start_time": "2023-04-16T23:45:22.129Z"
   },
   {
    "duration": 5,
    "start_time": "2023-04-16T23:46:41.076Z"
   },
   {
    "duration": 21,
    "start_time": "2023-04-16T23:46:47.893Z"
   },
   {
    "duration": 31,
    "start_time": "2023-04-16T23:49:37.483Z"
   },
   {
    "duration": 23,
    "start_time": "2023-04-16T23:49:45.782Z"
   },
   {
    "duration": 11,
    "start_time": "2023-04-16T23:49:56.305Z"
   },
   {
    "duration": 27,
    "start_time": "2023-04-16T23:50:01.049Z"
   },
   {
    "duration": 23,
    "start_time": "2023-04-16T23:50:58.065Z"
   },
   {
    "duration": 9,
    "start_time": "2023-04-16T23:51:06.008Z"
   },
   {
    "duration": 14,
    "start_time": "2023-04-16T23:51:28.903Z"
   },
   {
    "duration": 144,
    "start_time": "2023-04-16T23:54:42.722Z"
   },
   {
    "duration": 143,
    "start_time": "2023-04-16T23:54:57.814Z"
   },
   {
    "duration": 17,
    "start_time": "2023-04-16T23:55:33.625Z"
   },
   {
    "duration": 16,
    "start_time": "2023-04-16T23:55:39.577Z"
   },
   {
    "duration": 14,
    "start_time": "2023-04-16T23:56:54.702Z"
   },
   {
    "duration": 22,
    "start_time": "2023-04-16T23:57:40.406Z"
   },
   {
    "duration": 14,
    "start_time": "2023-04-16T23:57:57.769Z"
   },
   {
    "duration": 12,
    "start_time": "2023-04-16T23:58:03.659Z"
   },
   {
    "duration": 12,
    "start_time": "2023-04-16T23:58:33.332Z"
   },
   {
    "duration": 10,
    "start_time": "2023-04-16T23:58:33.945Z"
   },
   {
    "duration": 12,
    "start_time": "2023-04-16T23:58:37.745Z"
   },
   {
    "duration": 9,
    "start_time": "2023-04-16T23:58:41.162Z"
   },
   {
    "duration": 21,
    "start_time": "2023-04-16T23:58:58.948Z"
   },
   {
    "duration": 24,
    "start_time": "2023-04-16T23:59:37.416Z"
   },
   {
    "duration": 26,
    "start_time": "2023-04-17T00:00:11.600Z"
   },
   {
    "duration": 23,
    "start_time": "2023-04-17T00:00:18.128Z"
   },
   {
    "duration": 12,
    "start_time": "2023-04-17T00:05:19.050Z"
   },
   {
    "duration": 47,
    "start_time": "2023-04-17T00:07:06.437Z"
   },
   {
    "duration": 12,
    "start_time": "2023-04-17T00:07:12.221Z"
   },
   {
    "duration": 11,
    "start_time": "2023-04-17T00:07:32.678Z"
   },
   {
    "duration": 11,
    "start_time": "2023-04-17T00:07:33.448Z"
   },
   {
    "duration": 1238,
    "start_time": "2023-04-17T00:07:39.928Z"
   },
   {
    "duration": 610,
    "start_time": "2023-04-17T00:07:41.168Z"
   },
   {
    "duration": 562,
    "start_time": "2023-04-17T00:07:41.780Z"
   },
   {
    "duration": 62,
    "start_time": "2023-04-17T00:07:42.344Z"
   },
   {
    "duration": 476,
    "start_time": "2023-04-17T00:07:42.408Z"
   },
   {
    "duration": 19,
    "start_time": "2023-04-17T00:07:42.886Z"
   },
   {
    "duration": 24,
    "start_time": "2023-04-17T00:07:42.906Z"
   },
   {
    "duration": 33,
    "start_time": "2023-04-17T00:07:42.931Z"
   },
   {
    "duration": 29,
    "start_time": "2023-04-17T00:07:42.986Z"
   },
   {
    "duration": 31,
    "start_time": "2023-04-17T00:07:43.018Z"
   },
   {
    "duration": 71,
    "start_time": "2023-04-17T00:07:43.050Z"
   },
   {
    "duration": 188,
    "start_time": "2023-04-17T00:07:43.122Z"
   },
   {
    "duration": 3,
    "start_time": "2023-04-17T00:07:43.312Z"
   },
   {
    "duration": 16,
    "start_time": "2023-04-17T00:07:43.316Z"
   },
   {
    "duration": 77,
    "start_time": "2023-04-17T00:07:43.334Z"
   },
   {
    "duration": 5,
    "start_time": "2023-04-17T00:07:43.413Z"
   },
   {
    "duration": 202,
    "start_time": "2023-04-17T00:07:43.420Z"
   },
   {
    "duration": 14,
    "start_time": "2023-04-17T00:07:43.623Z"
   },
   {
    "duration": 14,
    "start_time": "2023-04-17T00:07:43.639Z"
   },
   {
    "duration": 52,
    "start_time": "2023-04-17T00:07:43.655Z"
   },
   {
    "duration": 8,
    "start_time": "2023-04-17T00:07:43.709Z"
   },
   {
    "duration": 43,
    "start_time": "2023-04-17T00:07:43.719Z"
   },
   {
    "duration": 9,
    "start_time": "2023-04-17T00:08:44.190Z"
   },
   {
    "duration": 8,
    "start_time": "2023-04-17T00:08:59.549Z"
   },
   {
    "duration": 22,
    "start_time": "2023-04-17T00:10:03.822Z"
   },
   {
    "duration": 17,
    "start_time": "2023-04-17T00:10:47.624Z"
   },
   {
    "duration": 22,
    "start_time": "2023-04-17T00:10:58.856Z"
   },
   {
    "duration": 21,
    "start_time": "2023-04-17T00:13:35.568Z"
   },
   {
    "duration": 129,
    "start_time": "2023-04-17T00:24:07.340Z"
   },
   {
    "duration": 11,
    "start_time": "2023-04-17T00:24:11.634Z"
   },
   {
    "duration": 12,
    "start_time": "2023-04-17T00:24:43.418Z"
   },
   {
    "duration": 14,
    "start_time": "2023-04-17T00:24:52.808Z"
   },
   {
    "duration": 26,
    "start_time": "2023-04-17T00:24:58.488Z"
   },
   {
    "duration": 38,
    "start_time": "2023-04-17T00:25:08.030Z"
   },
   {
    "duration": 28,
    "start_time": "2023-04-17T00:25:48.410Z"
   },
   {
    "duration": 26,
    "start_time": "2023-04-17T00:26:14.273Z"
   },
   {
    "duration": 30,
    "start_time": "2023-04-17T00:26:49.178Z"
   },
   {
    "duration": 34,
    "start_time": "2023-04-17T00:27:21.215Z"
   },
   {
    "duration": 32,
    "start_time": "2023-04-17T00:28:00.192Z"
   },
   {
    "duration": 35,
    "start_time": "2023-04-17T00:28:34.333Z"
   },
   {
    "duration": 31,
    "start_time": "2023-04-17T00:30:13.244Z"
   },
   {
    "duration": 34,
    "start_time": "2023-04-17T00:30:49.918Z"
   },
   {
    "duration": 31,
    "start_time": "2023-04-17T00:31:07.302Z"
   },
   {
    "duration": 32,
    "start_time": "2023-04-17T00:31:39.144Z"
   },
   {
    "duration": 27,
    "start_time": "2023-04-17T00:31:55.977Z"
   },
   {
    "duration": 11,
    "start_time": "2023-04-17T00:32:25.737Z"
   },
   {
    "duration": 24,
    "start_time": "2023-04-17T01:12:21.320Z"
   },
   {
    "duration": 27,
    "start_time": "2023-04-17T01:13:08.621Z"
   },
   {
    "duration": 14,
    "start_time": "2023-04-17T01:13:53.942Z"
   },
   {
    "duration": 26,
    "start_time": "2023-04-17T01:14:05.611Z"
   },
   {
    "duration": 27,
    "start_time": "2023-04-17T01:14:12.131Z"
   },
   {
    "duration": 51,
    "start_time": "2023-04-17T01:18:14.173Z"
   },
   {
    "duration": 12,
    "start_time": "2023-04-17T01:40:49.531Z"
   },
   {
    "duration": 29,
    "start_time": "2023-04-17T01:43:25.799Z"
   },
   {
    "duration": 30,
    "start_time": "2023-04-17T01:43:39.246Z"
   },
   {
    "duration": 12,
    "start_time": "2023-04-17T01:48:20.673Z"
   },
   {
    "duration": 1513,
    "start_time": "2023-04-17T17:06:13.629Z"
   },
   {
    "duration": 844,
    "start_time": "2023-04-17T17:06:15.144Z"
   },
   {
    "duration": 480,
    "start_time": "2023-04-17T17:06:15.992Z"
   },
   {
    "duration": 45,
    "start_time": "2023-04-17T17:06:16.474Z"
   },
   {
    "duration": 501,
    "start_time": "2023-04-17T17:06:16.521Z"
   },
   {
    "duration": 19,
    "start_time": "2023-04-17T17:06:17.024Z"
   },
   {
    "duration": 38,
    "start_time": "2023-04-17T17:06:17.045Z"
   },
   {
    "duration": 51,
    "start_time": "2023-04-17T17:06:17.085Z"
   },
   {
    "duration": 58,
    "start_time": "2023-04-17T17:06:17.139Z"
   },
   {
    "duration": 30,
    "start_time": "2023-04-17T17:06:17.199Z"
   },
   {
    "duration": 64,
    "start_time": "2023-04-17T17:06:17.231Z"
   },
   {
    "duration": 207,
    "start_time": "2023-04-17T17:06:17.297Z"
   },
   {
    "duration": 3,
    "start_time": "2023-04-17T17:06:17.505Z"
   },
   {
    "duration": 27,
    "start_time": "2023-04-17T17:06:17.510Z"
   },
   {
    "duration": 62,
    "start_time": "2023-04-17T17:06:17.538Z"
   },
   {
    "duration": 5,
    "start_time": "2023-04-17T17:06:17.601Z"
   },
   {
    "duration": 64,
    "start_time": "2023-04-17T17:06:17.608Z"
   },
   {
    "duration": 29,
    "start_time": "2023-04-17T17:06:17.674Z"
   },
   {
    "duration": 139,
    "start_time": "2023-04-17T17:06:17.704Z"
   },
   {
    "duration": 15,
    "start_time": "2023-04-17T17:06:17.845Z"
   },
   {
    "duration": 17,
    "start_time": "2023-04-17T17:06:17.871Z"
   },
   {
    "duration": 17,
    "start_time": "2023-04-17T17:24:22.187Z"
   },
   {
    "duration": 20,
    "start_time": "2023-04-17T17:24:52.962Z"
   },
   {
    "duration": 20,
    "start_time": "2023-04-17T17:25:30.520Z"
   },
   {
    "duration": 21,
    "start_time": "2023-04-17T17:25:48.020Z"
   },
   {
    "duration": 20,
    "start_time": "2023-04-17T17:25:55.990Z"
   },
   {
    "duration": 28,
    "start_time": "2023-04-17T17:28:16.882Z"
   },
   {
    "duration": 35,
    "start_time": "2023-04-17T17:31:51.638Z"
   },
   {
    "duration": 30,
    "start_time": "2023-04-17T17:32:14.104Z"
   },
   {
    "duration": 116,
    "start_time": "2023-04-17T17:36:27.462Z"
   },
   {
    "duration": 152,
    "start_time": "2023-04-17T17:36:55.857Z"
   },
   {
    "duration": 15,
    "start_time": "2023-04-17T17:37:45.690Z"
   },
   {
    "duration": 20,
    "start_time": "2023-04-17T17:37:47.064Z"
   },
   {
    "duration": 28,
    "start_time": "2023-04-17T17:37:49.011Z"
   },
   {
    "duration": 22,
    "start_time": "2023-04-17T17:37:49.946Z"
   },
   {
    "duration": 10,
    "start_time": "2023-04-17T17:38:13.533Z"
   },
   {
    "duration": 3,
    "start_time": "2023-04-17T17:38:26.052Z"
   },
   {
    "duration": 4,
    "start_time": "2023-04-17T17:38:35.070Z"
   },
   {
    "duration": 19,
    "start_time": "2023-04-17T17:40:40.744Z"
   },
   {
    "duration": 22,
    "start_time": "2023-04-17T17:40:52.131Z"
   },
   {
    "duration": 22,
    "start_time": "2023-04-17T17:45:09.758Z"
   },
   {
    "duration": 16,
    "start_time": "2023-04-17T17:46:05.135Z"
   },
   {
    "duration": 23,
    "start_time": "2023-04-17T17:46:21.226Z"
   },
   {
    "duration": 23,
    "start_time": "2023-04-17T17:49:33.011Z"
   },
   {
    "duration": 20,
    "start_time": "2023-04-17T17:50:36.229Z"
   },
   {
    "duration": 44,
    "start_time": "2023-04-17T17:51:18.165Z"
   },
   {
    "duration": 20,
    "start_time": "2023-04-17T17:51:22.634Z"
   },
   {
    "duration": 29,
    "start_time": "2023-04-17T17:51:26.859Z"
   },
   {
    "duration": 14,
    "start_time": "2023-04-17T17:51:34.124Z"
   },
   {
    "duration": 23,
    "start_time": "2023-04-17T17:52:48.213Z"
   },
   {
    "duration": 15,
    "start_time": "2023-04-17T17:53:04.539Z"
   },
   {
    "duration": 10,
    "start_time": "2023-04-17T17:58:24.312Z"
   },
   {
    "duration": 11,
    "start_time": "2023-04-17T17:58:32.868Z"
   },
   {
    "duration": 11,
    "start_time": "2023-04-17T17:58:35.975Z"
   },
   {
    "duration": 21,
    "start_time": "2023-04-17T17:58:44.760Z"
   },
   {
    "duration": 26,
    "start_time": "2023-04-17T17:59:03.117Z"
   },
   {
    "duration": 10,
    "start_time": "2023-04-17T17:59:07.715Z"
   },
   {
    "duration": 12,
    "start_time": "2023-04-17T17:59:27.055Z"
   },
   {
    "duration": 13,
    "start_time": "2023-04-17T17:59:49.116Z"
   },
   {
    "duration": 16,
    "start_time": "2023-04-17T18:53:44.314Z"
   },
   {
    "duration": 24,
    "start_time": "2023-04-17T18:53:58.116Z"
   },
   {
    "duration": 9,
    "start_time": "2023-04-17T18:54:36.224Z"
   },
   {
    "duration": 11,
    "start_time": "2023-04-17T18:54:43.425Z"
   },
   {
    "duration": 18,
    "start_time": "2023-04-17T18:56:25.016Z"
   },
   {
    "duration": 24,
    "start_time": "2023-04-17T18:58:30.833Z"
   },
   {
    "duration": 10,
    "start_time": "2023-04-17T18:59:23.703Z"
   },
   {
    "duration": 11,
    "start_time": "2023-04-17T18:59:45.171Z"
   },
   {
    "duration": 10,
    "start_time": "2023-04-17T18:59:49.615Z"
   },
   {
    "duration": 145,
    "start_time": "2023-04-17T19:01:03.441Z"
   },
   {
    "duration": 12,
    "start_time": "2023-04-17T19:01:09.933Z"
   },
   {
    "duration": 20,
    "start_time": "2023-04-17T19:27:17.118Z"
   },
   {
    "duration": 10,
    "start_time": "2023-04-17T19:29:22.026Z"
   },
   {
    "duration": 23,
    "start_time": "2023-04-17T19:29:26.499Z"
   },
   {
    "duration": 36,
    "start_time": "2023-04-17T19:30:11.405Z"
   },
   {
    "duration": 31,
    "start_time": "2023-04-17T19:30:26.961Z"
   },
   {
    "duration": 13,
    "start_time": "2023-04-17T19:33:24.139Z"
   },
   {
    "duration": 7,
    "start_time": "2023-04-17T19:35:50.338Z"
   },
   {
    "duration": 7,
    "start_time": "2023-04-17T19:35:56.598Z"
   },
   {
    "duration": 6,
    "start_time": "2023-04-17T19:39:32.506Z"
   },
   {
    "duration": 11,
    "start_time": "2023-04-17T19:39:37.609Z"
   },
   {
    "duration": 12,
    "start_time": "2023-04-17T19:40:18.094Z"
   },
   {
    "duration": 11,
    "start_time": "2023-04-17T19:40:26.137Z"
   },
   {
    "duration": 12,
    "start_time": "2023-04-17T19:40:40.522Z"
   },
   {
    "duration": 6,
    "start_time": "2023-04-17T19:41:26.994Z"
   },
   {
    "duration": 7,
    "start_time": "2023-04-17T19:42:01.857Z"
   },
   {
    "duration": 10,
    "start_time": "2023-04-17T19:42:09.551Z"
   },
   {
    "duration": 291,
    "start_time": "2023-04-17T19:55:59.241Z"
   },
   {
    "duration": 147,
    "start_time": "2023-04-17T19:56:08.690Z"
   },
   {
    "duration": 194,
    "start_time": "2023-04-17T19:56:12.009Z"
   },
   {
    "duration": 167,
    "start_time": "2023-04-17T19:57:21.642Z"
   },
   {
    "duration": 177,
    "start_time": "2023-04-17T19:57:35.516Z"
   },
   {
    "duration": 194,
    "start_time": "2023-04-17T19:59:18.491Z"
   },
   {
    "duration": 256,
    "start_time": "2023-04-17T20:00:50.952Z"
   },
   {
    "duration": 214,
    "start_time": "2023-04-17T20:11:25.382Z"
   },
   {
    "duration": 295,
    "start_time": "2023-04-17T20:11:35.425Z"
   },
   {
    "duration": 212,
    "start_time": "2023-04-17T20:13:04.246Z"
   },
   {
    "duration": 203,
    "start_time": "2023-04-17T20:13:14.925Z"
   },
   {
    "duration": 243,
    "start_time": "2023-04-17T20:13:19.146Z"
   },
   {
    "duration": 122,
    "start_time": "2023-04-17T20:13:46.946Z"
   },
   {
    "duration": 16,
    "start_time": "2023-04-17T20:13:54.287Z"
   },
   {
    "duration": 17,
    "start_time": "2023-04-17T20:14:18.990Z"
   },
   {
    "duration": 17,
    "start_time": "2023-04-17T20:14:33.893Z"
   },
   {
    "duration": 151,
    "start_time": "2023-04-17T20:21:16.191Z"
   },
   {
    "duration": 6,
    "start_time": "2023-04-17T20:22:21.978Z"
   },
   {
    "duration": 4,
    "start_time": "2023-04-17T20:22:33.507Z"
   },
   {
    "duration": 32,
    "start_time": "2023-04-17T20:23:20.332Z"
   },
   {
    "duration": 48,
    "start_time": "2023-04-17T20:25:18.781Z"
   },
   {
    "duration": 68,
    "start_time": "2023-04-17T20:26:10.914Z"
   },
   {
    "duration": 60,
    "start_time": "2023-04-17T20:29:11.649Z"
   },
   {
    "duration": 68,
    "start_time": "2023-04-17T20:29:47.184Z"
   },
   {
    "duration": 72,
    "start_time": "2023-04-17T20:29:56.176Z"
   },
   {
    "duration": 60,
    "start_time": "2023-04-17T20:30:03.523Z"
   },
   {
    "duration": 60,
    "start_time": "2023-04-17T20:31:10.197Z"
   },
   {
    "duration": 62,
    "start_time": "2023-04-17T20:31:35.836Z"
   },
   {
    "duration": 56,
    "start_time": "2023-04-17T20:31:52.247Z"
   },
   {
    "duration": 136,
    "start_time": "2023-04-17T20:33:24.302Z"
   },
   {
    "duration": 72,
    "start_time": "2023-04-17T20:34:36.768Z"
   },
   {
    "duration": 57,
    "start_time": "2023-04-17T20:34:47.254Z"
   },
   {
    "duration": 37,
    "start_time": "2023-04-17T20:35:29.241Z"
   },
   {
    "duration": 35,
    "start_time": "2023-04-17T20:35:41.374Z"
   },
   {
    "duration": 35,
    "start_time": "2023-04-17T20:35:58.553Z"
   },
   {
    "duration": 61,
    "start_time": "2023-04-17T20:36:30.453Z"
   },
   {
    "duration": 59,
    "start_time": "2023-04-17T20:36:37.651Z"
   },
   {
    "duration": 72,
    "start_time": "2023-04-17T20:37:06.000Z"
   },
   {
    "duration": 57,
    "start_time": "2023-04-17T20:37:49.105Z"
   },
   {
    "duration": 3,
    "start_time": "2023-04-17T20:39:20.402Z"
   },
   {
    "duration": 9,
    "start_time": "2023-04-17T20:40:29.401Z"
   },
   {
    "duration": 12,
    "start_time": "2023-04-17T20:40:48.086Z"
   },
   {
    "duration": 25,
    "start_time": "2023-04-17T20:45:32.023Z"
   },
   {
    "duration": 411,
    "start_time": "2023-04-17T20:46:43.233Z"
   },
   {
    "duration": 27,
    "start_time": "2023-04-17T20:47:44.795Z"
   },
   {
    "duration": 431,
    "start_time": "2023-04-17T20:47:46.087Z"
   },
   {
    "duration": 455,
    "start_time": "2023-04-17T20:50:45.253Z"
   },
   {
    "duration": 394,
    "start_time": "2023-04-17T20:53:51.548Z"
   },
   {
    "duration": 381,
    "start_time": "2023-04-17T20:54:16.624Z"
   },
   {
    "duration": 36,
    "start_time": "2023-04-17T20:56:05.879Z"
   },
   {
    "duration": 12,
    "start_time": "2023-04-17T20:56:33.498Z"
   },
   {
    "duration": 229,
    "start_time": "2023-04-17T20:56:40.621Z"
   },
   {
    "duration": 11,
    "start_time": "2023-04-17T20:58:44.190Z"
   },
   {
    "duration": 11,
    "start_time": "2023-04-17T21:01:39.757Z"
   },
   {
    "duration": 12,
    "start_time": "2023-04-17T21:02:41.738Z"
   },
   {
    "duration": 11,
    "start_time": "2023-04-17T21:03:53.498Z"
   },
   {
    "duration": 5,
    "start_time": "2023-04-17T21:04:04.571Z"
   },
   {
    "duration": 10,
    "start_time": "2023-04-17T21:04:18.493Z"
   },
   {
    "duration": 1402,
    "start_time": "2023-04-17T21:04:23.275Z"
   },
   {
    "duration": 760,
    "start_time": "2023-04-17T21:04:24.678Z"
   },
   {
    "duration": 468,
    "start_time": "2023-04-17T21:04:25.439Z"
   },
   {
    "duration": 63,
    "start_time": "2023-04-17T21:04:25.910Z"
   },
   {
    "duration": 506,
    "start_time": "2023-04-17T21:04:25.975Z"
   },
   {
    "duration": 17,
    "start_time": "2023-04-17T21:04:26.483Z"
   },
   {
    "duration": 35,
    "start_time": "2023-04-17T21:04:26.502Z"
   },
   {
    "duration": 34,
    "start_time": "2023-04-17T21:04:26.538Z"
   },
   {
    "duration": 32,
    "start_time": "2023-04-17T21:04:26.574Z"
   },
   {
    "duration": 27,
    "start_time": "2023-04-17T21:04:26.608Z"
   },
   {
    "duration": 57,
    "start_time": "2023-04-17T21:04:26.636Z"
   },
   {
    "duration": 354,
    "start_time": "2023-04-17T21:04:26.694Z"
   },
   {
    "duration": 3,
    "start_time": "2023-04-17T21:04:27.049Z"
   },
   {
    "duration": 38,
    "start_time": "2023-04-17T21:04:27.054Z"
   },
   {
    "duration": 94,
    "start_time": "2023-04-17T21:04:27.094Z"
   },
   {
    "duration": 5,
    "start_time": "2023-04-17T21:04:27.190Z"
   },
   {
    "duration": 12,
    "start_time": "2023-04-17T21:04:27.196Z"
   },
   {
    "duration": 33,
    "start_time": "2023-04-17T21:04:27.210Z"
   },
   {
    "duration": 144,
    "start_time": "2023-04-17T21:04:27.244Z"
   },
   {
    "duration": 15,
    "start_time": "2023-04-17T21:04:27.390Z"
   },
   {
    "duration": 21,
    "start_time": "2023-04-17T21:04:27.406Z"
   },
   {
    "duration": 19,
    "start_time": "2023-04-17T21:04:27.428Z"
   },
   {
    "duration": 41,
    "start_time": "2023-04-17T21:04:27.448Z"
   },
   {
    "duration": 1152,
    "start_time": "2023-04-17T21:04:27.491Z"
   },
   {
    "duration": 18,
    "start_time": "2023-04-17T21:04:28.644Z"
   },
   {
    "duration": 10,
    "start_time": "2023-04-17T21:04:28.663Z"
   },
   {
    "duration": 12,
    "start_time": "2023-04-17T21:04:28.675Z"
   },
   {
    "duration": 15,
    "start_time": "2023-04-17T21:04:28.689Z"
   },
   {
    "duration": 160,
    "start_time": "2023-04-17T21:04:28.706Z"
   },
   {
    "duration": 31,
    "start_time": "2023-04-17T21:05:53.033Z"
   },
   {
    "duration": 118,
    "start_time": "2023-04-17T21:06:02.176Z"
   },
   {
    "duration": 53,
    "start_time": "2023-04-17T21:06:40.003Z"
   },
   {
    "duration": 51,
    "start_time": "2023-04-17T21:07:05.756Z"
   },
   {
    "duration": 22,
    "start_time": "2023-04-17T21:28:35.101Z"
   },
   {
    "duration": 54,
    "start_time": "2023-04-17T21:28:43.198Z"
   },
   {
    "duration": 16,
    "start_time": "2023-04-17T21:29:18.298Z"
   },
   {
    "duration": 17,
    "start_time": "2023-04-17T21:30:53.785Z"
   },
   {
    "duration": 41,
    "start_time": "2023-04-17T21:31:09.306Z"
   },
   {
    "duration": 21,
    "start_time": "2023-04-17T21:31:15.176Z"
   },
   {
    "duration": 17,
    "start_time": "2023-04-17T21:31:28.280Z"
   },
   {
    "duration": 11,
    "start_time": "2023-04-17T21:32:43.239Z"
   },
   {
    "duration": 55,
    "start_time": "2023-04-17T21:32:48.502Z"
   },
   {
    "duration": 3,
    "start_time": "2023-04-17T22:00:17.074Z"
   },
   {
    "duration": 1198,
    "start_time": "2023-04-17T22:00:23.983Z"
   },
   {
    "duration": 523,
    "start_time": "2023-04-17T22:00:25.182Z"
   },
   {
    "duration": 518,
    "start_time": "2023-04-17T22:00:25.707Z"
   },
   {
    "duration": 58,
    "start_time": "2023-04-17T22:00:26.226Z"
   },
   {
    "duration": 452,
    "start_time": "2023-04-17T22:00:26.285Z"
   },
   {
    "duration": 17,
    "start_time": "2023-04-17T22:00:26.739Z"
   },
   {
    "duration": 32,
    "start_time": "2023-04-17T22:00:26.757Z"
   },
   {
    "duration": 30,
    "start_time": "2023-04-17T22:00:26.791Z"
   },
   {
    "duration": 27,
    "start_time": "2023-04-17T22:00:26.823Z"
   },
   {
    "duration": 43,
    "start_time": "2023-04-17T22:00:26.853Z"
   },
   {
    "duration": 36,
    "start_time": "2023-04-17T22:00:26.897Z"
   },
   {
    "duration": 166,
    "start_time": "2023-04-17T22:00:26.934Z"
   },
   {
    "duration": 3,
    "start_time": "2023-04-17T22:00:27.101Z"
   },
   {
    "duration": 14,
    "start_time": "2023-04-17T22:00:27.106Z"
   },
   {
    "duration": 81,
    "start_time": "2023-04-17T22:00:27.121Z"
   },
   {
    "duration": 5,
    "start_time": "2023-04-17T22:00:27.203Z"
   },
   {
    "duration": 66,
    "start_time": "2023-04-17T22:00:27.209Z"
   },
   {
    "duration": 27,
    "start_time": "2023-04-17T22:00:27.277Z"
   },
   {
    "duration": 125,
    "start_time": "2023-04-17T22:00:27.306Z"
   },
   {
    "duration": 14,
    "start_time": "2023-04-17T22:00:27.433Z"
   },
   {
    "duration": 30,
    "start_time": "2023-04-17T22:00:27.449Z"
   },
   {
    "duration": 12,
    "start_time": "2023-04-17T22:00:27.480Z"
   },
   {
    "duration": 25,
    "start_time": "2023-04-17T22:00:27.494Z"
   },
   {
    "duration": 207,
    "start_time": "2023-04-17T22:00:27.521Z"
   },
   {
    "duration": 19,
    "start_time": "2023-04-17T22:00:27.730Z"
   },
   {
    "duration": 43,
    "start_time": "2023-04-17T22:00:27.751Z"
   },
   {
    "duration": 126,
    "start_time": "2023-04-17T22:00:27.796Z"
   },
   {
    "duration": 21,
    "start_time": "2023-04-17T22:00:27.926Z"
   },
   {
    "duration": 67,
    "start_time": "2023-04-17T22:00:27.948Z"
   },
   {
    "duration": 10,
    "start_time": "2023-04-17T22:07:04.034Z"
   },
   {
    "duration": 58,
    "start_time": "2023-04-18T17:40:10.527Z"
   },
   {
    "duration": 2023,
    "start_time": "2023-04-18T17:40:18.436Z"
   },
   {
    "duration": 2058,
    "start_time": "2023-04-18T17:40:20.462Z"
   },
   {
    "duration": 572,
    "start_time": "2023-04-18T17:40:22.522Z"
   },
   {
    "duration": 33,
    "start_time": "2023-04-18T17:40:23.096Z"
   },
   {
    "duration": 489,
    "start_time": "2023-04-18T17:40:23.131Z"
   },
   {
    "duration": 18,
    "start_time": "2023-04-18T17:40:23.622Z"
   },
   {
    "duration": 37,
    "start_time": "2023-04-18T17:40:23.642Z"
   },
   {
    "duration": 34,
    "start_time": "2023-04-18T17:40:23.681Z"
   },
   {
    "duration": 52,
    "start_time": "2023-04-18T17:40:23.717Z"
   },
   {
    "duration": 34,
    "start_time": "2023-04-18T17:40:23.770Z"
   },
   {
    "duration": 63,
    "start_time": "2023-04-18T17:40:23.806Z"
   },
   {
    "duration": 262,
    "start_time": "2023-04-18T17:40:23.870Z"
   },
   {
    "duration": 5,
    "start_time": "2023-04-18T17:40:24.134Z"
   },
   {
    "duration": 21,
    "start_time": "2023-04-18T17:40:24.143Z"
   },
   {
    "duration": 108,
    "start_time": "2023-04-18T17:40:24.166Z"
   },
   {
    "duration": 6,
    "start_time": "2023-04-18T17:40:24.275Z"
   },
   {
    "duration": 28,
    "start_time": "2023-04-18T17:40:24.283Z"
   },
   {
    "duration": 63,
    "start_time": "2023-04-18T17:40:24.313Z"
   },
   {
    "duration": 151,
    "start_time": "2023-04-18T17:40:24.378Z"
   },
   {
    "duration": 16,
    "start_time": "2023-04-18T17:40:24.530Z"
   },
   {
    "duration": 26,
    "start_time": "2023-04-18T17:40:24.559Z"
   },
   {
    "duration": 17,
    "start_time": "2023-04-18T17:40:24.586Z"
   },
   {
    "duration": 23,
    "start_time": "2023-04-18T17:40:24.605Z"
   },
   {
    "duration": 333,
    "start_time": "2023-04-18T17:40:24.630Z"
   },
   {
    "duration": 23,
    "start_time": "2023-04-18T17:40:24.964Z"
   },
   {
    "duration": 32,
    "start_time": "2023-04-18T17:40:24.989Z"
   },
   {
    "duration": 184,
    "start_time": "2023-04-18T17:40:25.022Z"
   },
   {
    "duration": 21,
    "start_time": "2023-04-18T17:40:25.208Z"
   },
   {
    "duration": 69,
    "start_time": "2023-04-18T17:40:25.231Z"
   },
   {
    "duration": 11,
    "start_time": "2023-04-18T17:40:25.302Z"
   },
   {
    "duration": 41,
    "start_time": "2023-04-18T17:40:25.314Z"
   },
   {
    "duration": 0,
    "start_time": "2023-04-18T17:40:25.357Z"
   },
   {
    "duration": 0,
    "start_time": "2023-04-18T17:40:25.358Z"
   },
   {
    "duration": 0,
    "start_time": "2023-04-18T17:40:25.359Z"
   },
   {
    "duration": 0,
    "start_time": "2023-04-18T17:40:25.360Z"
   },
   {
    "duration": 0,
    "start_time": "2023-04-18T17:40:25.361Z"
   },
   {
    "duration": 0,
    "start_time": "2023-04-18T17:40:25.363Z"
   },
   {
    "duration": 0,
    "start_time": "2023-04-18T17:40:25.364Z"
   },
   {
    "duration": 0,
    "start_time": "2023-04-18T17:40:25.365Z"
   },
   {
    "duration": 0,
    "start_time": "2023-04-18T17:40:25.366Z"
   },
   {
    "duration": 0,
    "start_time": "2023-04-18T17:40:25.368Z"
   },
   {
    "duration": 0,
    "start_time": "2023-04-18T17:40:25.369Z"
   },
   {
    "duration": 0,
    "start_time": "2023-04-18T17:40:25.370Z"
   },
   {
    "duration": 0,
    "start_time": "2023-04-18T17:40:25.371Z"
   },
   {
    "duration": 0,
    "start_time": "2023-04-18T17:40:25.372Z"
   },
   {
    "duration": 64,
    "start_time": "2023-04-18T17:46:31.720Z"
   },
   {
    "duration": 31,
    "start_time": "2023-04-18T17:47:00.172Z"
   },
   {
    "duration": 10,
    "start_time": "2023-04-18T17:58:57.549Z"
   },
   {
    "duration": 1320,
    "start_time": "2023-04-18T18:00:48.030Z"
   },
   {
    "duration": 644,
    "start_time": "2023-04-18T18:00:49.352Z"
   },
   {
    "duration": 605,
    "start_time": "2023-04-18T18:00:49.998Z"
   },
   {
    "duration": 63,
    "start_time": "2023-04-18T18:00:50.605Z"
   },
   {
    "duration": 490,
    "start_time": "2023-04-18T18:00:50.669Z"
   },
   {
    "duration": 49,
    "start_time": "2023-04-18T18:00:51.161Z"
   },
   {
    "duration": 5,
    "start_time": "2023-04-18T18:00:51.212Z"
   },
   {
    "duration": 19,
    "start_time": "2023-04-18T18:00:51.218Z"
   },
   {
    "duration": 160,
    "start_time": "2023-04-18T18:00:51.238Z"
   },
   {
    "duration": 0,
    "start_time": "2023-04-18T18:00:51.401Z"
   },
   {
    "duration": 0,
    "start_time": "2023-04-18T18:00:51.402Z"
   },
   {
    "duration": 0,
    "start_time": "2023-04-18T18:00:51.403Z"
   },
   {
    "duration": 1,
    "start_time": "2023-04-18T18:00:51.404Z"
   },
   {
    "duration": 0,
    "start_time": "2023-04-18T18:00:51.406Z"
   },
   {
    "duration": 0,
    "start_time": "2023-04-18T18:00:51.408Z"
   },
   {
    "duration": 0,
    "start_time": "2023-04-18T18:00:51.409Z"
   },
   {
    "duration": 1,
    "start_time": "2023-04-18T18:00:51.410Z"
   },
   {
    "duration": 0,
    "start_time": "2023-04-18T18:00:51.412Z"
   },
   {
    "duration": 0,
    "start_time": "2023-04-18T18:00:51.414Z"
   },
   {
    "duration": 0,
    "start_time": "2023-04-18T18:00:51.415Z"
   },
   {
    "duration": 0,
    "start_time": "2023-04-18T18:00:51.417Z"
   },
   {
    "duration": 0,
    "start_time": "2023-04-18T18:00:51.418Z"
   },
   {
    "duration": 0,
    "start_time": "2023-04-18T18:00:51.420Z"
   },
   {
    "duration": 0,
    "start_time": "2023-04-18T18:00:51.421Z"
   },
   {
    "duration": 0,
    "start_time": "2023-04-18T18:00:51.422Z"
   },
   {
    "duration": 0,
    "start_time": "2023-04-18T18:00:51.424Z"
   },
   {
    "duration": 0,
    "start_time": "2023-04-18T18:00:51.425Z"
   },
   {
    "duration": 0,
    "start_time": "2023-04-18T18:00:51.427Z"
   },
   {
    "duration": 0,
    "start_time": "2023-04-18T18:00:51.460Z"
   },
   {
    "duration": 0,
    "start_time": "2023-04-18T18:00:51.462Z"
   },
   {
    "duration": 0,
    "start_time": "2023-04-18T18:00:51.463Z"
   },
   {
    "duration": 0,
    "start_time": "2023-04-18T18:00:51.465Z"
   },
   {
    "duration": 0,
    "start_time": "2023-04-18T18:00:51.466Z"
   },
   {
    "duration": 0,
    "start_time": "2023-04-18T18:00:51.467Z"
   },
   {
    "duration": 0,
    "start_time": "2023-04-18T18:00:51.468Z"
   },
   {
    "duration": 0,
    "start_time": "2023-04-18T18:00:51.470Z"
   },
   {
    "duration": 0,
    "start_time": "2023-04-18T18:00:51.471Z"
   },
   {
    "duration": 0,
    "start_time": "2023-04-18T18:00:51.473Z"
   },
   {
    "duration": 0,
    "start_time": "2023-04-18T18:00:51.474Z"
   },
   {
    "duration": 0,
    "start_time": "2023-04-18T18:00:51.475Z"
   },
   {
    "duration": 0,
    "start_time": "2023-04-18T18:00:51.476Z"
   },
   {
    "duration": 0,
    "start_time": "2023-04-18T18:00:51.477Z"
   },
   {
    "duration": 0,
    "start_time": "2023-04-18T18:00:51.478Z"
   },
   {
    "duration": 0,
    "start_time": "2023-04-18T18:00:51.479Z"
   },
   {
    "duration": 33,
    "start_time": "2023-04-18T18:02:56.839Z"
   },
   {
    "duration": 35,
    "start_time": "2023-04-18T18:03:23.206Z"
   },
   {
    "duration": 144,
    "start_time": "2023-04-18T18:03:25.134Z"
   },
   {
    "duration": 17,
    "start_time": "2023-04-18T18:03:32.604Z"
   },
   {
    "duration": 24,
    "start_time": "2023-04-18T18:03:33.418Z"
   },
   {
    "duration": 154,
    "start_time": "2023-04-18T18:03:34.335Z"
   },
   {
    "duration": 49,
    "start_time": "2023-04-18T18:03:46.214Z"
   },
   {
    "duration": 12,
    "start_time": "2023-04-18T18:03:49.318Z"
   },
   {
    "duration": 18,
    "start_time": "2023-04-18T18:03:51.518Z"
   },
   {
    "duration": 24,
    "start_time": "2023-04-18T18:03:52.327Z"
   },
   {
    "duration": 33,
    "start_time": "2023-04-18T18:03:53.322Z"
   },
   {
    "duration": 28,
    "start_time": "2023-04-18T18:03:56.402Z"
   },
   {
    "duration": 30,
    "start_time": "2023-04-18T18:03:57.019Z"
   },
   {
    "duration": 41,
    "start_time": "2023-04-18T18:03:58.714Z"
   },
   {
    "duration": 22,
    "start_time": "2023-04-18T18:04:06.518Z"
   },
   {
    "duration": 226,
    "start_time": "2023-04-18T18:04:07.622Z"
   },
   {
    "duration": 21,
    "start_time": "2023-04-18T18:04:08.006Z"
   },
   {
    "duration": 28,
    "start_time": "2023-04-18T18:04:10.310Z"
   },
   {
    "duration": 126,
    "start_time": "2023-04-18T18:04:11.076Z"
   },
   {
    "duration": 22,
    "start_time": "2023-04-18T18:04:12.722Z"
   },
   {
    "duration": 53,
    "start_time": "2023-04-18T18:04:13.422Z"
   },
   {
    "duration": 11,
    "start_time": "2023-04-18T18:04:17.006Z"
   },
   {
    "duration": 22,
    "start_time": "2023-04-18T18:05:48.698Z"
   },
   {
    "duration": 3,
    "start_time": "2023-04-18T18:06:03.740Z"
   },
   {
    "duration": 4,
    "start_time": "2023-04-18T18:06:42.722Z"
   },
   {
    "duration": 11,
    "start_time": "2023-04-18T18:20:38.217Z"
   },
   {
    "duration": 7,
    "start_time": "2023-04-18T19:40:25.812Z"
   },
   {
    "duration": 905,
    "start_time": "2023-04-18T19:40:58.540Z"
   },
   {
    "duration": 17,
    "start_time": "2023-04-18T19:41:14.509Z"
   },
   {
    "duration": 31,
    "start_time": "2023-04-18T19:41:31.047Z"
   },
   {
    "duration": 25,
    "start_time": "2023-04-18T19:58:12.224Z"
   },
   {
    "duration": 10,
    "start_time": "2023-04-18T20:01:43.939Z"
   },
   {
    "duration": 10,
    "start_time": "2023-04-18T20:01:50.135Z"
   },
   {
    "duration": 22,
    "start_time": "2023-04-18T20:03:46.657Z"
   },
   {
    "duration": 11,
    "start_time": "2023-04-18T20:05:25.525Z"
   },
   {
    "duration": 16,
    "start_time": "2023-04-18T20:05:34.161Z"
   },
   {
    "duration": 18,
    "start_time": "2023-04-18T20:05:52.757Z"
   },
   {
    "duration": 12,
    "start_time": "2023-04-18T20:06:08.358Z"
   },
   {
    "duration": 12,
    "start_time": "2023-04-18T20:06:09.301Z"
   },
   {
    "duration": 8,
    "start_time": "2023-04-18T20:08:46.924Z"
   },
   {
    "duration": 16,
    "start_time": "2023-04-18T20:08:57.900Z"
   },
   {
    "duration": 4,
    "start_time": "2023-04-18T20:10:28.356Z"
   },
   {
    "duration": 4,
    "start_time": "2023-04-18T20:11:17.970Z"
   },
   {
    "duration": 48,
    "start_time": "2023-04-18T20:12:17.009Z"
   },
   {
    "duration": 4,
    "start_time": "2023-04-18T20:12:24.243Z"
   },
   {
    "duration": 6,
    "start_time": "2023-04-18T20:12:58.303Z"
   },
   {
    "duration": 19,
    "start_time": "2023-04-18T20:13:01.583Z"
   },
   {
    "duration": 16,
    "start_time": "2023-04-18T20:13:04.154Z"
   },
   {
    "duration": 5,
    "start_time": "2023-04-18T20:13:20.147Z"
   },
   {
    "duration": 9,
    "start_time": "2023-04-18T20:13:20.835Z"
   },
   {
    "duration": 8,
    "start_time": "2023-04-18T20:13:50.345Z"
   },
   {
    "duration": 50,
    "start_time": "2023-04-18T20:19:31.433Z"
   },
   {
    "duration": 17,
    "start_time": "2023-04-18T20:19:47.288Z"
   },
   {
    "duration": 4,
    "start_time": "2023-04-18T20:19:56.044Z"
   },
   {
    "duration": 4,
    "start_time": "2023-04-18T20:20:03.320Z"
   },
   {
    "duration": 4,
    "start_time": "2023-04-18T20:20:11.919Z"
   },
   {
    "duration": 15,
    "start_time": "2023-04-18T20:23:58.332Z"
   },
   {
    "duration": 46,
    "start_time": "2023-04-18T20:24:21.449Z"
   },
   {
    "duration": 9,
    "start_time": "2023-04-18T20:24:27.488Z"
   },
   {
    "duration": 45,
    "start_time": "2023-04-18T20:25:21.083Z"
   },
   {
    "duration": 12,
    "start_time": "2023-04-18T20:25:26.684Z"
   },
   {
    "duration": 13,
    "start_time": "2023-04-18T20:25:57.000Z"
   },
   {
    "duration": 9,
    "start_time": "2023-04-18T20:26:05.320Z"
   },
   {
    "duration": 15,
    "start_time": "2023-04-18T20:26:10.001Z"
   },
   {
    "duration": 6,
    "start_time": "2023-04-18T20:26:33.581Z"
   },
   {
    "duration": 17,
    "start_time": "2023-04-18T20:26:35.111Z"
   },
   {
    "duration": 13,
    "start_time": "2023-04-18T20:27:55.326Z"
   },
   {
    "duration": 12,
    "start_time": "2023-04-18T20:29:59.825Z"
   },
   {
    "duration": 6,
    "start_time": "2023-04-18T20:30:29.275Z"
   },
   {
    "duration": 9,
    "start_time": "2023-04-18T20:30:30.485Z"
   },
   {
    "duration": 5,
    "start_time": "2023-04-18T20:36:45.851Z"
   },
   {
    "duration": 10,
    "start_time": "2023-04-18T20:36:46.681Z"
   },
   {
    "duration": 6,
    "start_time": "2023-04-18T20:41:42.684Z"
   },
   {
    "duration": 8,
    "start_time": "2023-04-18T20:41:43.500Z"
   },
   {
    "duration": 7,
    "start_time": "2023-04-18T20:43:08.366Z"
   },
   {
    "duration": 26,
    "start_time": "2023-04-18T20:44:34.860Z"
   },
   {
    "duration": 15,
    "start_time": "2023-04-18T20:44:52.345Z"
   },
   {
    "duration": 6,
    "start_time": "2023-04-18T20:45:10.779Z"
   },
   {
    "duration": 9,
    "start_time": "2023-04-18T20:45:13.740Z"
   },
   {
    "duration": 9,
    "start_time": "2023-04-18T20:57:43.853Z"
   },
   {
    "duration": 9,
    "start_time": "2023-04-18T20:57:49.119Z"
   },
   {
    "duration": 9,
    "start_time": "2023-04-18T20:58:19.113Z"
   },
   {
    "duration": 43,
    "start_time": "2023-04-18T21:21:20.630Z"
   },
   {
    "duration": 31,
    "start_time": "2023-04-18T21:21:32.058Z"
   },
   {
    "duration": 32,
    "start_time": "2023-04-18T21:21:45.463Z"
   },
   {
    "duration": 31,
    "start_time": "2023-04-18T21:21:48.734Z"
   },
   {
    "duration": 5,
    "start_time": "2023-04-18T22:01:55.516Z"
   },
   {
    "duration": 9,
    "start_time": "2023-04-18T22:01:56.204Z"
   },
   {
    "duration": 1670,
    "start_time": "2023-04-19T05:16:06.774Z"
   },
   {
    "duration": 1806,
    "start_time": "2023-04-19T05:16:08.446Z"
   },
   {
    "duration": 865,
    "start_time": "2023-04-19T05:16:10.254Z"
   },
   {
    "duration": 45,
    "start_time": "2023-04-19T05:16:11.121Z"
   },
   {
    "duration": 589,
    "start_time": "2023-04-19T05:16:11.168Z"
   },
   {
    "duration": 69,
    "start_time": "2023-04-19T05:16:11.759Z"
   },
   {
    "duration": 6,
    "start_time": "2023-04-19T05:16:11.830Z"
   },
   {
    "duration": 10,
    "start_time": "2023-04-19T05:16:11.838Z"
   },
   {
    "duration": 74,
    "start_time": "2023-04-19T05:16:11.849Z"
   },
   {
    "duration": 210,
    "start_time": "2023-04-19T05:16:11.925Z"
   },
   {
    "duration": 27,
    "start_time": "2023-04-19T05:16:12.137Z"
   },
   {
    "duration": 57,
    "start_time": "2023-04-19T05:16:12.166Z"
   },
   {
    "duration": 296,
    "start_time": "2023-04-19T05:16:12.225Z"
   },
   {
    "duration": 168,
    "start_time": "2023-04-19T05:16:12.525Z"
   },
   {
    "duration": 20,
    "start_time": "2023-04-19T05:16:12.696Z"
   },
   {
    "duration": 23,
    "start_time": "2023-04-19T05:16:12.718Z"
   },
   {
    "duration": 46,
    "start_time": "2023-04-19T05:16:12.743Z"
   },
   {
    "duration": 42,
    "start_time": "2023-04-19T05:16:12.791Z"
   },
   {
    "duration": 30,
    "start_time": "2023-04-19T05:16:12.834Z"
   },
   {
    "duration": 68,
    "start_time": "2023-04-19T05:16:12.865Z"
   },
   {
    "duration": 89,
    "start_time": "2023-04-19T05:16:12.936Z"
   },
   {
    "duration": 34,
    "start_time": "2023-04-19T05:16:13.027Z"
   },
   {
    "duration": 397,
    "start_time": "2023-04-19T05:16:13.064Z"
   },
   {
    "duration": 24,
    "start_time": "2023-04-19T05:16:13.463Z"
   },
   {
    "duration": 38,
    "start_time": "2023-04-19T05:16:13.489Z"
   },
   {
    "duration": 166,
    "start_time": "2023-04-19T05:16:13.529Z"
   },
   {
    "duration": 31,
    "start_time": "2023-04-19T05:16:13.697Z"
   },
   {
    "duration": 91,
    "start_time": "2023-04-19T05:16:13.730Z"
   },
   {
    "duration": 14,
    "start_time": "2023-04-19T05:16:13.824Z"
   },
   {
    "duration": 44,
    "start_time": "2023-04-19T05:16:13.841Z"
   },
   {
    "duration": 28,
    "start_time": "2023-04-19T05:16:13.890Z"
   },
   {
    "duration": 9,
    "start_time": "2023-04-19T05:16:13.921Z"
   },
   {
    "duration": 33,
    "start_time": "2023-04-19T05:16:13.932Z"
   },
   {
    "duration": 15,
    "start_time": "2023-04-19T17:56:14.023Z"
   },
   {
    "duration": 49,
    "start_time": "2023-04-19T17:56:27.084Z"
   },
   {
    "duration": 46,
    "start_time": "2023-04-19T17:56:35.374Z"
   },
   {
    "duration": 948,
    "start_time": "2023-04-19T17:57:14.465Z"
   },
   {
    "duration": 1636,
    "start_time": "2023-04-19T17:57:23.026Z"
   },
   {
    "duration": 2035,
    "start_time": "2023-04-19T17:57:24.664Z"
   },
   {
    "duration": 785,
    "start_time": "2023-04-19T17:57:26.701Z"
   },
   {
    "duration": 86,
    "start_time": "2023-04-19T17:57:27.488Z"
   },
   {
    "duration": 512,
    "start_time": "2023-04-19T17:57:27.577Z"
   },
   {
    "duration": 52,
    "start_time": "2023-04-19T17:57:28.091Z"
   },
   {
    "duration": 23,
    "start_time": "2023-04-19T17:57:28.145Z"
   },
   {
    "duration": 9,
    "start_time": "2023-04-19T17:57:28.169Z"
   },
   {
    "duration": 32,
    "start_time": "2023-04-19T17:57:28.181Z"
   },
   {
    "duration": 183,
    "start_time": "2023-04-19T17:57:28.215Z"
   },
   {
    "duration": 17,
    "start_time": "2023-04-19T17:57:28.399Z"
   },
   {
    "duration": 46,
    "start_time": "2023-04-19T17:57:28.418Z"
   },
   {
    "duration": 162,
    "start_time": "2023-04-19T17:57:28.466Z"
   },
   {
    "duration": 54,
    "start_time": "2023-04-19T17:57:28.631Z"
   },
   {
    "duration": 13,
    "start_time": "2023-04-19T17:57:28.687Z"
   },
   {
    "duration": 82,
    "start_time": "2023-04-19T17:57:28.702Z"
   },
   {
    "duration": 24,
    "start_time": "2023-04-19T17:57:28.787Z"
   },
   {
    "duration": 77,
    "start_time": "2023-04-19T17:57:28.813Z"
   },
   {
    "duration": 26,
    "start_time": "2023-04-19T17:57:28.891Z"
   },
   {
    "duration": 49,
    "start_time": "2023-04-19T17:57:28.919Z"
   },
   {
    "duration": 40,
    "start_time": "2023-04-19T17:57:28.969Z"
   },
   {
    "duration": 21,
    "start_time": "2023-04-19T17:57:29.010Z"
   },
   {
    "duration": 280,
    "start_time": "2023-04-19T17:57:29.033Z"
   },
   {
    "duration": 32,
    "start_time": "2023-04-19T17:57:29.315Z"
   },
   {
    "duration": 46,
    "start_time": "2023-04-19T17:57:29.348Z"
   },
   {
    "duration": 150,
    "start_time": "2023-04-19T17:57:29.395Z"
   },
   {
    "duration": 41,
    "start_time": "2023-04-19T17:57:29.547Z"
   },
   {
    "duration": 83,
    "start_time": "2023-04-19T17:57:29.590Z"
   },
   {
    "duration": 10,
    "start_time": "2023-04-19T17:57:29.675Z"
   },
   {
    "duration": 33,
    "start_time": "2023-04-19T17:57:29.687Z"
   },
   {
    "duration": 43,
    "start_time": "2023-04-19T17:57:29.721Z"
   },
   {
    "duration": 8,
    "start_time": "2023-04-19T17:57:29.767Z"
   },
   {
    "duration": 216,
    "start_time": "2023-04-19T17:57:29.777Z"
   },
   {
    "duration": 0,
    "start_time": "2023-04-19T17:57:29.995Z"
   },
   {
    "duration": 14,
    "start_time": "2023-04-19T18:10:07.648Z"
   },
   {
    "duration": 12,
    "start_time": "2023-04-19T18:10:20.755Z"
   },
   {
    "duration": 10,
    "start_time": "2023-04-19T18:10:28.948Z"
   },
   {
    "duration": 5,
    "start_time": "2023-04-19T18:10:41.090Z"
   },
   {
    "duration": 10,
    "start_time": "2023-04-19T18:22:21.055Z"
   },
   {
    "duration": 27,
    "start_time": "2023-04-19T18:36:01.304Z"
   },
   {
    "duration": 12,
    "start_time": "2023-04-19T18:36:04.580Z"
   },
   {
    "duration": 6,
    "start_time": "2023-04-19T18:36:09.628Z"
   },
   {
    "duration": 9,
    "start_time": "2023-04-19T18:36:14.588Z"
   },
   {
    "duration": 3,
    "start_time": "2023-04-19T18:51:33.174Z"
   },
   {
    "duration": 3,
    "start_time": "2023-04-19T18:51:39.678Z"
   },
   {
    "duration": 3,
    "start_time": "2023-04-19T18:51:52.892Z"
   },
   {
    "duration": 3,
    "start_time": "2023-04-19T18:52:04.926Z"
   },
   {
    "duration": 3,
    "start_time": "2023-04-19T18:52:19.709Z"
   },
   {
    "duration": 4,
    "start_time": "2023-04-19T18:54:39.640Z"
   },
   {
    "duration": 4,
    "start_time": "2023-04-19T18:54:44.007Z"
   },
   {
    "duration": 3,
    "start_time": "2023-04-19T18:54:48.305Z"
   },
   {
    "duration": 3,
    "start_time": "2023-04-19T18:55:00.187Z"
   },
   {
    "duration": 4,
    "start_time": "2023-04-19T18:58:38.095Z"
   },
   {
    "duration": 27,
    "start_time": "2023-04-19T18:59:30.489Z"
   },
   {
    "duration": 9,
    "start_time": "2023-04-19T18:59:39.961Z"
   },
   {
    "duration": 16,
    "start_time": "2023-04-19T18:59:51.293Z"
   },
   {
    "duration": 780,
    "start_time": "2023-04-19T19:01:37.268Z"
   },
   {
    "duration": 9,
    "start_time": "2023-04-19T19:04:19.086Z"
   },
   {
    "duration": 32,
    "start_time": "2023-04-19T19:04:49.537Z"
   },
   {
    "duration": 4,
    "start_time": "2023-04-19T19:08:34.407Z"
   },
   {
    "duration": 5,
    "start_time": "2023-04-19T19:08:41.390Z"
   },
   {
    "duration": 4,
    "start_time": "2023-04-19T19:09:02.158Z"
   },
   {
    "duration": 5,
    "start_time": "2023-04-19T19:09:34.150Z"
   },
   {
    "duration": 5,
    "start_time": "2023-04-19T19:10:00.983Z"
   },
   {
    "duration": 6,
    "start_time": "2023-04-19T19:10:30.086Z"
   },
   {
    "duration": 4,
    "start_time": "2023-04-19T19:11:15.883Z"
   },
   {
    "duration": 4,
    "start_time": "2023-04-19T19:13:47.583Z"
   },
   {
    "duration": 5,
    "start_time": "2023-04-19T19:13:56.529Z"
   },
   {
    "duration": 5,
    "start_time": "2023-04-19T19:17:53.285Z"
   },
   {
    "duration": 4,
    "start_time": "2023-04-19T19:18:20.648Z"
   },
   {
    "duration": 740,
    "start_time": "2023-04-19T19:20:27.283Z"
   },
   {
    "duration": 801,
    "start_time": "2023-04-19T19:21:01.912Z"
   },
   {
    "duration": 564,
    "start_time": "2023-04-19T19:21:36.777Z"
   },
   {
    "duration": 549,
    "start_time": "2023-04-19T19:21:51.575Z"
   },
   {
    "duration": 8,
    "start_time": "2023-04-19T19:21:55.888Z"
   },
   {
    "duration": 8,
    "start_time": "2023-04-19T19:22:35.024Z"
   },
   {
    "duration": 10,
    "start_time": "2023-04-19T19:23:55.828Z"
   },
   {
    "duration": 19,
    "start_time": "2023-04-19T19:25:00.876Z"
   },
   {
    "duration": 9,
    "start_time": "2023-04-19T19:25:02.458Z"
   },
   {
    "duration": 23,
    "start_time": "2023-04-19T19:25:11.002Z"
   },
   {
    "duration": 8,
    "start_time": "2023-04-19T19:25:20.596Z"
   },
   {
    "duration": 772,
    "start_time": "2023-04-19T19:25:36.383Z"
   },
   {
    "duration": 715,
    "start_time": "2023-04-19T19:27:16.929Z"
   },
   {
    "duration": 799,
    "start_time": "2023-04-19T19:27:24.715Z"
   },
   {
    "duration": 5,
    "start_time": "2023-04-19T19:28:17.937Z"
   },
   {
    "duration": 696,
    "start_time": "2023-04-19T19:28:38.292Z"
   },
   {
    "duration": 4,
    "start_time": "2023-04-19T19:28:57.238Z"
   },
   {
    "duration": 4,
    "start_time": "2023-04-19T19:31:59.330Z"
   },
   {
    "duration": 730,
    "start_time": "2023-04-19T19:32:03.273Z"
   },
   {
    "duration": 4,
    "start_time": "2023-04-19T19:32:21.942Z"
   },
   {
    "duration": 4,
    "start_time": "2023-04-19T19:32:25.374Z"
   },
   {
    "duration": 3,
    "start_time": "2023-04-19T19:32:34.207Z"
   },
   {
    "duration": 34,
    "start_time": "2023-04-19T19:32:59.445Z"
   },
   {
    "duration": 25,
    "start_time": "2023-04-19T19:33:11.041Z"
   },
   {
    "duration": 24,
    "start_time": "2023-04-19T19:33:18.032Z"
   },
   {
    "duration": 23,
    "start_time": "2023-04-19T19:33:27.473Z"
   },
   {
    "duration": 12,
    "start_time": "2023-04-19T19:33:28.035Z"
   },
   {
    "duration": 4,
    "start_time": "2023-04-19T19:33:31.417Z"
   },
   {
    "duration": 4,
    "start_time": "2023-04-19T19:33:34.123Z"
   },
   {
    "duration": 11,
    "start_time": "2023-04-19T19:33:34.792Z"
   },
   {
    "duration": 6,
    "start_time": "2023-04-19T19:33:47.034Z"
   },
   {
    "duration": 5,
    "start_time": "2023-04-19T19:33:52.874Z"
   },
   {
    "duration": 724,
    "start_time": "2023-04-19T19:33:56.228Z"
   },
   {
    "duration": 4,
    "start_time": "2023-04-19T19:33:59.635Z"
   },
   {
    "duration": 5,
    "start_time": "2023-04-19T19:34:08.998Z"
   },
   {
    "duration": 7,
    "start_time": "2023-04-19T19:34:29.389Z"
   },
   {
    "duration": 6,
    "start_time": "2023-04-19T19:34:37.827Z"
   },
   {
    "duration": 8,
    "start_time": "2023-04-19T19:34:51.172Z"
   },
   {
    "duration": 3247,
    "start_time": "2023-04-19T19:35:05.928Z"
   },
   {
    "duration": 5,
    "start_time": "2023-04-19T19:35:14.664Z"
   },
   {
    "duration": 5,
    "start_time": "2023-04-19T19:35:17.499Z"
   },
   {
    "duration": 9,
    "start_time": "2023-04-19T19:35:21.204Z"
   },
   {
    "duration": 5,
    "start_time": "2023-04-19T19:36:51.878Z"
   },
   {
    "duration": 4,
    "start_time": "2023-04-19T19:37:57.536Z"
   },
   {
    "duration": 16,
    "start_time": "2023-04-19T19:38:20.725Z"
   },
   {
    "duration": 4,
    "start_time": "2023-04-19T19:39:00.214Z"
   },
   {
    "duration": 15,
    "start_time": "2023-04-19T19:39:00.889Z"
   },
   {
    "duration": 4,
    "start_time": "2023-04-19T19:40:01.878Z"
   },
   {
    "duration": 16,
    "start_time": "2023-04-19T19:40:02.645Z"
   },
   {
    "duration": 7,
    "start_time": "2023-04-19T19:41:34.316Z"
   },
   {
    "duration": 809,
    "start_time": "2023-04-19T19:42:07.104Z"
   },
   {
    "duration": 7,
    "start_time": "2023-04-19T19:42:27.879Z"
   },
   {
    "duration": 5,
    "start_time": "2023-04-19T19:42:40.084Z"
   },
   {
    "duration": 8,
    "start_time": "2023-04-19T19:44:10.081Z"
   },
   {
    "duration": 914,
    "start_time": "2023-04-19T19:44:44.810Z"
   },
   {
    "duration": 682,
    "start_time": "2023-04-19T19:44:49.126Z"
   },
   {
    "duration": 663,
    "start_time": "2023-04-19T19:45:07.333Z"
   },
   {
    "duration": 8,
    "start_time": "2023-04-19T19:45:27.030Z"
   },
   {
    "duration": 528,
    "start_time": "2023-04-19T19:45:50.312Z"
   },
   {
    "duration": 6,
    "start_time": "2023-04-19T19:45:59.989Z"
   },
   {
    "duration": 4,
    "start_time": "2023-04-19T19:48:09.741Z"
   },
   {
    "duration": 5,
    "start_time": "2023-04-19T19:48:59.692Z"
   },
   {
    "duration": 5,
    "start_time": "2023-04-19T19:49:16.620Z"
   },
   {
    "duration": 593,
    "start_time": "2023-04-19T19:49:23.419Z"
   },
   {
    "duration": 553,
    "start_time": "2023-04-19T19:49:54.119Z"
   },
   {
    "duration": 4,
    "start_time": "2023-04-19T19:50:15.056Z"
   },
   {
    "duration": 5,
    "start_time": "2023-04-19T19:50:28.343Z"
   },
   {
    "duration": 18,
    "start_time": "2023-04-19T19:50:37.220Z"
   },
   {
    "duration": 5,
    "start_time": "2023-04-19T19:50:58.204Z"
   },
   {
    "duration": 21,
    "start_time": "2023-04-19T19:51:02.199Z"
   },
   {
    "duration": 33,
    "start_time": "2023-04-19T19:52:47.683Z"
   },
   {
    "duration": 20,
    "start_time": "2023-04-19T19:53:03.333Z"
   },
   {
    "duration": 32,
    "start_time": "2023-04-19T19:53:10.790Z"
   },
   {
    "duration": 31,
    "start_time": "2023-04-19T19:53:32.492Z"
   },
   {
    "duration": 34,
    "start_time": "2023-04-19T19:54:35.487Z"
   },
   {
    "duration": 21,
    "start_time": "2023-04-19T19:54:42.719Z"
   },
   {
    "duration": 27,
    "start_time": "2023-04-19T19:55:48.035Z"
   },
   {
    "duration": 12,
    "start_time": "2023-04-19T19:56:17.131Z"
   },
   {
    "duration": 33,
    "start_time": "2023-04-19T19:57:04.638Z"
   },
   {
    "duration": 6,
    "start_time": "2023-04-19T19:57:25.896Z"
   },
   {
    "duration": 9,
    "start_time": "2023-04-19T19:57:33.900Z"
   },
   {
    "duration": 4,
    "start_time": "2023-04-19T19:58:15.987Z"
   },
   {
    "duration": 5,
    "start_time": "2023-04-19T19:58:16.705Z"
   },
   {
    "duration": 46,
    "start_time": "2023-04-19T19:58:17.126Z"
   },
   {
    "duration": 7,
    "start_time": "2023-04-19T19:58:19.062Z"
   },
   {
    "duration": 23,
    "start_time": "2023-04-19T19:58:59.947Z"
   },
   {
    "duration": 14,
    "start_time": "2023-04-19T19:59:05.409Z"
   },
   {
    "duration": 15,
    "start_time": "2023-04-19T19:59:28.193Z"
   },
   {
    "duration": 25,
    "start_time": "2023-04-19T20:00:08.689Z"
   },
   {
    "duration": 12,
    "start_time": "2023-04-19T20:00:12.827Z"
   },
   {
    "duration": 3,
    "start_time": "2023-04-19T20:00:14.340Z"
   },
   {
    "duration": 6,
    "start_time": "2023-04-19T20:00:15.581Z"
   },
   {
    "duration": 3,
    "start_time": "2023-04-19T20:00:16.592Z"
   },
   {
    "duration": 8,
    "start_time": "2023-04-19T20:00:17.597Z"
   },
   {
    "duration": 7,
    "start_time": "2023-04-19T20:00:57.453Z"
   },
   {
    "duration": 8,
    "start_time": "2023-04-19T20:00:59.388Z"
   },
   {
    "duration": 7,
    "start_time": "2023-04-19T20:01:30.142Z"
   },
   {
    "duration": 7,
    "start_time": "2023-04-19T20:01:30.989Z"
   },
   {
    "duration": 4,
    "start_time": "2023-04-19T20:02:23.310Z"
   },
   {
    "duration": 4,
    "start_time": "2023-04-19T20:02:41.035Z"
   },
   {
    "duration": 8,
    "start_time": "2023-04-19T20:02:41.693Z"
   },
   {
    "duration": 1307,
    "start_time": "2023-04-19T20:03:04.313Z"
   },
   {
    "duration": 636,
    "start_time": "2023-04-19T20:03:05.622Z"
   },
   {
    "duration": 613,
    "start_time": "2023-04-19T20:03:06.260Z"
   },
   {
    "duration": 38,
    "start_time": "2023-04-19T20:03:06.874Z"
   },
   {
    "duration": 514,
    "start_time": "2023-04-19T20:03:06.915Z"
   },
   {
    "duration": 71,
    "start_time": "2023-04-19T20:03:07.431Z"
   },
   {
    "duration": 6,
    "start_time": "2023-04-19T20:03:07.506Z"
   },
   {
    "duration": 11,
    "start_time": "2023-04-19T20:03:07.514Z"
   },
   {
    "duration": 69,
    "start_time": "2023-04-19T20:03:07.527Z"
   },
   {
    "duration": 198,
    "start_time": "2023-04-19T20:03:07.599Z"
   },
   {
    "duration": 18,
    "start_time": "2023-04-19T20:03:07.800Z"
   },
   {
    "duration": 49,
    "start_time": "2023-04-19T20:03:07.820Z"
   },
   {
    "duration": 164,
    "start_time": "2023-04-19T20:03:07.871Z"
   },
   {
    "duration": 50,
    "start_time": "2023-04-19T20:03:08.039Z"
   },
   {
    "duration": 15,
    "start_time": "2023-04-19T20:03:08.091Z"
   },
   {
    "duration": 88,
    "start_time": "2023-04-19T20:03:08.107Z"
   },
   {
    "duration": 72,
    "start_time": "2023-04-19T20:03:08.197Z"
   },
   {
    "duration": 52,
    "start_time": "2023-04-19T20:03:08.272Z"
   },
   {
    "duration": 65,
    "start_time": "2023-04-19T20:03:08.327Z"
   },
   {
    "duration": 41,
    "start_time": "2023-04-19T20:03:08.394Z"
   },
   {
    "duration": 67,
    "start_time": "2023-04-19T20:03:08.437Z"
   },
   {
    "duration": 22,
    "start_time": "2023-04-19T20:03:08.505Z"
   },
   {
    "duration": 276,
    "start_time": "2023-04-19T20:03:08.529Z"
   },
   {
    "duration": 31,
    "start_time": "2023-04-19T20:03:08.807Z"
   },
   {
    "duration": 46,
    "start_time": "2023-04-19T20:03:08.840Z"
   },
   {
    "duration": 143,
    "start_time": "2023-04-19T20:03:08.887Z"
   },
   {
    "duration": 33,
    "start_time": "2023-04-19T20:03:09.032Z"
   },
   {
    "duration": 53,
    "start_time": "2023-04-19T20:03:09.067Z"
   },
   {
    "duration": 11,
    "start_time": "2023-04-19T20:03:09.122Z"
   },
   {
    "duration": 53,
    "start_time": "2023-04-19T20:03:09.135Z"
   },
   {
    "duration": 12,
    "start_time": "2023-04-19T20:03:09.190Z"
   },
   {
    "duration": 4,
    "start_time": "2023-04-19T20:03:09.203Z"
   },
   {
    "duration": 14,
    "start_time": "2023-04-19T20:03:09.209Z"
   },
   {
    "duration": 43,
    "start_time": "2023-04-19T20:03:09.224Z"
   },
   {
    "duration": 6,
    "start_time": "2023-04-19T20:04:59.200Z"
   },
   {
    "duration": 4,
    "start_time": "2023-04-19T20:05:02.700Z"
   },
   {
    "duration": 7,
    "start_time": "2023-04-19T20:05:22.312Z"
   },
   {
    "duration": 70,
    "start_time": "2023-04-19T20:06:00.429Z"
   },
   {
    "duration": 4,
    "start_time": "2023-04-19T20:06:33.625Z"
   },
   {
    "duration": 4,
    "start_time": "2023-04-19T20:06:34.225Z"
   },
   {
    "duration": 1992,
    "start_time": "2023-04-20T09:39:36.787Z"
   },
   {
    "duration": 1261,
    "start_time": "2023-04-20T09:39:38.782Z"
   },
   {
    "duration": 728,
    "start_time": "2023-04-20T09:39:40.045Z"
   },
   {
    "duration": 43,
    "start_time": "2023-04-20T09:39:40.775Z"
   },
   {
    "duration": 597,
    "start_time": "2023-04-20T09:39:40.820Z"
   },
   {
    "duration": 70,
    "start_time": "2023-04-20T09:39:41.420Z"
   },
   {
    "duration": 5,
    "start_time": "2023-04-20T09:39:41.493Z"
   },
   {
    "duration": 12,
    "start_time": "2023-04-20T09:39:41.500Z"
   },
   {
    "duration": 46,
    "start_time": "2023-04-20T09:39:41.544Z"
   },
   {
    "duration": 183,
    "start_time": "2023-04-20T09:39:41.591Z"
   },
   {
    "duration": 19,
    "start_time": "2023-04-20T09:39:41.776Z"
   },
   {
    "duration": 50,
    "start_time": "2023-04-20T09:39:41.797Z"
   },
   {
    "duration": 354,
    "start_time": "2023-04-20T09:39:41.849Z"
   },
   {
    "duration": 224,
    "start_time": "2023-04-20T09:39:42.207Z"
   },
   {
    "duration": 27,
    "start_time": "2023-04-20T09:39:42.432Z"
   },
   {
    "duration": 55,
    "start_time": "2023-04-20T09:39:42.461Z"
   },
   {
    "duration": 49,
    "start_time": "2023-04-20T09:39:42.518Z"
   },
   {
    "duration": 72,
    "start_time": "2023-04-20T09:39:42.575Z"
   },
   {
    "duration": 45,
    "start_time": "2023-04-20T09:39:42.651Z"
   },
   {
    "duration": 51,
    "start_time": "2023-04-20T09:39:42.698Z"
   },
   {
    "duration": 58,
    "start_time": "2023-04-20T09:39:42.756Z"
   },
   {
    "duration": 27,
    "start_time": "2023-04-20T09:39:42.815Z"
   },
   {
    "duration": 2281,
    "start_time": "2023-04-20T09:39:42.844Z"
   },
   {
    "duration": 33,
    "start_time": "2023-04-20T09:39:45.127Z"
   },
   {
    "duration": 62,
    "start_time": "2023-04-20T09:39:45.163Z"
   },
   {
    "duration": 164,
    "start_time": "2023-04-20T09:39:45.228Z"
   },
   {
    "duration": 27,
    "start_time": "2023-04-20T09:39:45.394Z"
   },
   {
    "duration": 78,
    "start_time": "2023-04-20T09:39:45.423Z"
   },
   {
    "duration": 41,
    "start_time": "2023-04-20T09:39:45.502Z"
   },
   {
    "duration": 39,
    "start_time": "2023-04-20T09:39:45.555Z"
   },
   {
    "duration": 14,
    "start_time": "2023-04-20T09:39:45.596Z"
   },
   {
    "duration": 16,
    "start_time": "2023-04-20T09:39:45.612Z"
   },
   {
    "duration": 88,
    "start_time": "2023-04-20T09:39:45.630Z"
   },
   {
    "duration": 8,
    "start_time": "2023-04-20T09:39:45.720Z"
   }
  ],
  "kernelspec": {
   "display_name": "Python 3 (ipykernel)",
   "language": "python",
   "name": "python3"
  },
  "language_info": {
   "codemirror_mode": {
    "name": "ipython",
    "version": 3
   },
   "file_extension": ".py",
   "mimetype": "text/x-python",
   "name": "python",
   "nbconvert_exporter": "python",
   "pygments_lexer": "ipython3",
   "version": "3.9.12"
  },
  "toc": {
   "base_numbering": 1,
   "nav_menu": {},
   "number_sections": true,
   "sideBar": true,
   "skip_h1_title": true,
   "title_cell": "Table of Contents",
   "title_sidebar": "Contents",
   "toc_cell": false,
   "toc_position": {
    "height": "calc(100% - 180px)",
    "left": "10px",
    "top": "150px",
    "width": "308.4px"
   },
   "toc_section_display": true,
   "toc_window_display": true
  }
 },
 "nbformat": 4,
 "nbformat_minor": 2
}
