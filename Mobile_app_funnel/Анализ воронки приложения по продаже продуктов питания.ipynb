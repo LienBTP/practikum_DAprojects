{
 "cells": [
  {
   "cell_type": "markdown",
   "id": "b3fd242d",
   "metadata": {},
   "source": [
    "# Анализ воронки приложения по продаже продуктов питания"
   ]
  },
  {
   "cell_type": "markdown",
   "id": "24fc41e1",
   "metadata": {},
   "source": [
    "В данном проекте будут изучены данные мобильного приложения стартапа по продаже продуктов питания.\n",
    "\n",
    "**Задачи исследования:** \n",
    "1. разобраться, как ведут себя пользователи мобильного приложения. \n",
    "2. дизайнеры захотели поменять шрифты во всём приложении, а менеджеры испугались, что пользователям будет непривычно. Для проведения A/A/B-эксперимента пользователей разбили на 3 группы: 2 контрольные со старыми шрифтами и одну экспериментальную — с новыми. Необходимо по результатм A/A/B-эксперимента выяснить, какой шрифт лучше\n",
    "\n",
    "**Ход исследования**  \n",
    "1. Изучим воронку продаж.  \n",
    "    1.1 Узнаем, как пользователи доходят до покупки.   \n",
    "    1.2 Посчитаем сколько пользователей доходит до покупки, а сколько — «застревает» на предыдущих шагах  \n",
    "    1.3 На каких шагах «застревают» пользователи  \n",
    "2. Исследуем результаты A/A/B-эксперимента.   \n",
    "    2.1 Выясним какой шрифт приложения воспринимается пользователями лучше\n",
    "\n",
    "**Этапы исследования:** \n",
    "1. Загрузка данных\n",
    "2. Подготовка данных к анализу\n",
    "3. Изучение и проверка данных\n",
    "4. Изучение воронки событий\n",
    "5. Изучение результатов эксперимента"
   ]
  },
  {
   "cell_type": "markdown",
   "id": "cba0a0e3",
   "metadata": {},
   "source": [
    "## Шаг 1. Загрузка данных \n",
    "Импортируем библиотеки, загрузим данные."
   ]
  },
  {
   "cell_type": "code",
   "execution_count": 1,
   "id": "329d65ea",
   "metadata": {},
   "outputs": [],
   "source": [
    "#импорт библиотек\n",
    "import os\n",
    "import pandas as pd\n",
    "\n",
    "from matplotlib import pyplot as plt\n",
    "import scipy.stats as stats\n",
    "import math as mth\n",
    "\n",
    "from datetime import datetime, timedelta\n",
    "import datetime as dt\n",
    "\n",
    "from plotly import graph_objects as go\n",
    "import plotly.express as px\n",
    "import plotly.io as pio\n",
    "pio.templates.default = \"plotly_white\"\n",
    "\n",
    "import re\n",
    "import warnings\n",
    "warnings.filterwarnings(\"ignore\") "
   ]
  },
  {
   "cell_type": "code",
   "execution_count": 2,
   "id": "6d4af17b",
   "metadata": {},
   "outputs": [],
   "source": [
    "data = pd.read_csv('C:/Users/Лиен/Desktop/Jupyter/logs_exp.csv', sep='\\t')"
   ]
  },
  {
   "cell_type": "markdown",
   "id": "6bc9bcf3",
   "metadata": {},
   "source": [
    "## Шаг 2. Подготовка данных к анализу\n",
    "\n",
    "Проверим:\n",
    "1. Верно ли названы стоблцы\n",
    "2. Соответствуют ли типы данных в колонках значениям\n",
    "3. Есть ли в данных пропуски и дубликаты."
   ]
  },
  {
   "cell_type": "code",
   "execution_count": 7,
   "id": "920d4f29",
   "metadata": {},
   "outputs": [
    {
     "name": "stdout",
     "output_type": "stream",
     "text": [
      "Первые строки таблицы:\n"
     ]
    },
    {
     "data": {
      "text/html": [
       "<div>\n",
       "<style scoped>\n",
       "    .dataframe tbody tr th:only-of-type {\n",
       "        vertical-align: middle;\n",
       "    }\n",
       "\n",
       "    .dataframe tbody tr th {\n",
       "        vertical-align: top;\n",
       "    }\n",
       "\n",
       "    .dataframe thead th {\n",
       "        text-align: right;\n",
       "    }\n",
       "</style>\n",
       "<table border=\"1\" class=\"dataframe\">\n",
       "  <thead>\n",
       "    <tr style=\"text-align: right;\">\n",
       "      <th></th>\n",
       "      <th>EventName</th>\n",
       "      <th>DeviceIDHash</th>\n",
       "      <th>EventTimestamp</th>\n",
       "      <th>ExpId</th>\n",
       "    </tr>\n",
       "  </thead>\n",
       "  <tbody>\n",
       "    <tr>\n",
       "      <th>0</th>\n",
       "      <td>MainScreenAppear</td>\n",
       "      <td>4575588528974610257</td>\n",
       "      <td>1564029816</td>\n",
       "      <td>246</td>\n",
       "    </tr>\n",
       "    <tr>\n",
       "      <th>1</th>\n",
       "      <td>MainScreenAppear</td>\n",
       "      <td>7416695313311560658</td>\n",
       "      <td>1564053102</td>\n",
       "      <td>246</td>\n",
       "    </tr>\n",
       "    <tr>\n",
       "      <th>2</th>\n",
       "      <td>PaymentScreenSuccessful</td>\n",
       "      <td>3518123091307005509</td>\n",
       "      <td>1564054127</td>\n",
       "      <td>248</td>\n",
       "    </tr>\n",
       "    <tr>\n",
       "      <th>3</th>\n",
       "      <td>CartScreenAppear</td>\n",
       "      <td>3518123091307005509</td>\n",
       "      <td>1564054127</td>\n",
       "      <td>248</td>\n",
       "    </tr>\n",
       "    <tr>\n",
       "      <th>4</th>\n",
       "      <td>PaymentScreenSuccessful</td>\n",
       "      <td>6217807653094995999</td>\n",
       "      <td>1564055322</td>\n",
       "      <td>248</td>\n",
       "    </tr>\n",
       "  </tbody>\n",
       "</table>\n",
       "</div>"
      ],
      "text/plain": [
       "                 EventName         DeviceIDHash  EventTimestamp  ExpId\n",
       "0         MainScreenAppear  4575588528974610257      1564029816    246\n",
       "1         MainScreenAppear  7416695313311560658      1564053102    246\n",
       "2  PaymentScreenSuccessful  3518123091307005509      1564054127    248\n",
       "3         CartScreenAppear  3518123091307005509      1564054127    248\n",
       "4  PaymentScreenSuccessful  6217807653094995999      1564055322    248"
      ]
     },
     "metadata": {},
     "output_type": "display_data"
    },
    {
     "name": "stdout",
     "output_type": "stream",
     "text": [
      "--------------------------------------------------\n",
      "Основная информация о таблице:\n",
      "<class 'pandas.core.frame.DataFrame'>\n",
      "RangeIndex: 244126 entries, 0 to 244125\n",
      "Data columns (total 4 columns):\n",
      " #   Column          Non-Null Count   Dtype \n",
      "---  ------          --------------   ----- \n",
      " 0   EventName       244126 non-null  object\n",
      " 1   DeviceIDHash    244126 non-null  int64 \n",
      " 2   EventTimestamp  244126 non-null  int64 \n",
      " 3   ExpId           244126 non-null  int64 \n",
      "dtypes: int64(3), object(1)\n",
      "memory usage: 7.5+ MB\n",
      "None\n",
      "--------------------------------------------------\n",
      "Проверка таблицы на пропуски:\n",
      "EventName         0\n",
      "DeviceIDHash      0\n",
      "EventTimestamp    0\n",
      "ExpId             0\n",
      "dtype: int64\n",
      "--------------------------------------------------\n",
      "Проверка таблицы на дубликаты:\n",
      "413\n"
     ]
    }
   ],
   "source": [
    "print('Первые строки таблицы:')\n",
    "display(data.head());\n",
    "print('-' * 50)\n",
    "print('Основная информация о таблице:')\n",
    "print(data.info());\n",
    "print('-' * 50)\n",
    "print('Проверка таблицы на пропуски:')\n",
    "print(data.isna().sum());\n",
    "print('-' * 50)\n",
    "print('Проверка таблицы на дубликаты:')\n",
    "print(data.duplicated().sum());"
   ]
  },
  {
   "cell_type": "markdown",
   "id": "96b059c8",
   "metadata": {},
   "source": [
    "### 2.1 Выполним предобработку\n",
    "1. Изменим названия столбцов;\n",
    "2. Пропусков нет, но есть дубликаты. Удалим их\n",
    "3. Добавим столбец даты и времени и отдельный столбец дат"
   ]
  },
  {
   "cell_type": "code",
   "execution_count": 8,
   "id": "cde984a0",
   "metadata": {},
   "outputs": [],
   "source": [
    "data = data.rename(columns={'EventName':'event_name', 'DeviceIDHash':'user_id','EventTimestamp':'unix_time','ExpId':'group'})\n",
    "data = data.drop_duplicates()"
   ]
  },
  {
   "cell_type": "code",
   "execution_count": 9,
   "id": "4bd5f445",
   "metadata": {},
   "outputs": [
    {
     "data": {
      "text/html": [
       "<div>\n",
       "<style scoped>\n",
       "    .dataframe tbody tr th:only-of-type {\n",
       "        vertical-align: middle;\n",
       "    }\n",
       "\n",
       "    .dataframe tbody tr th {\n",
       "        vertical-align: top;\n",
       "    }\n",
       "\n",
       "    .dataframe thead th {\n",
       "        text-align: right;\n",
       "    }\n",
       "</style>\n",
       "<table border=\"1\" class=\"dataframe\">\n",
       "  <thead>\n",
       "    <tr style=\"text-align: right;\">\n",
       "      <th></th>\n",
       "      <th>event_name</th>\n",
       "      <th>user_id</th>\n",
       "      <th>unix_time</th>\n",
       "      <th>group</th>\n",
       "      <th>event_date_time</th>\n",
       "      <th>event_date</th>\n",
       "    </tr>\n",
       "  </thead>\n",
       "  <tbody>\n",
       "    <tr>\n",
       "      <th>0</th>\n",
       "      <td>MainScreenAppear</td>\n",
       "      <td>4575588528974610257</td>\n",
       "      <td>1564029816</td>\n",
       "      <td>246</td>\n",
       "      <td>2019-07-25 04:43:36</td>\n",
       "      <td>2019-07-25</td>\n",
       "    </tr>\n",
       "    <tr>\n",
       "      <th>1</th>\n",
       "      <td>MainScreenAppear</td>\n",
       "      <td>7416695313311560658</td>\n",
       "      <td>1564053102</td>\n",
       "      <td>246</td>\n",
       "      <td>2019-07-25 11:11:42</td>\n",
       "      <td>2019-07-25</td>\n",
       "    </tr>\n",
       "    <tr>\n",
       "      <th>2</th>\n",
       "      <td>PaymentScreenSuccessful</td>\n",
       "      <td>3518123091307005509</td>\n",
       "      <td>1564054127</td>\n",
       "      <td>248</td>\n",
       "      <td>2019-07-25 11:28:47</td>\n",
       "      <td>2019-07-25</td>\n",
       "    </tr>\n",
       "    <tr>\n",
       "      <th>3</th>\n",
       "      <td>CartScreenAppear</td>\n",
       "      <td>3518123091307005509</td>\n",
       "      <td>1564054127</td>\n",
       "      <td>248</td>\n",
       "      <td>2019-07-25 11:28:47</td>\n",
       "      <td>2019-07-25</td>\n",
       "    </tr>\n",
       "    <tr>\n",
       "      <th>4</th>\n",
       "      <td>PaymentScreenSuccessful</td>\n",
       "      <td>6217807653094995999</td>\n",
       "      <td>1564055322</td>\n",
       "      <td>248</td>\n",
       "      <td>2019-07-25 11:48:42</td>\n",
       "      <td>2019-07-25</td>\n",
       "    </tr>\n",
       "  </tbody>\n",
       "</table>\n",
       "</div>"
      ],
      "text/plain": [
       "                event_name              user_id   unix_time  group  \\\n",
       "0         MainScreenAppear  4575588528974610257  1564029816    246   \n",
       "1         MainScreenAppear  7416695313311560658  1564053102    246   \n",
       "2  PaymentScreenSuccessful  3518123091307005509  1564054127    248   \n",
       "3         CartScreenAppear  3518123091307005509  1564054127    248   \n",
       "4  PaymentScreenSuccessful  6217807653094995999  1564055322    248   \n",
       "\n",
       "      event_date_time  event_date  \n",
       "0 2019-07-25 04:43:36  2019-07-25  \n",
       "1 2019-07-25 11:11:42  2019-07-25  \n",
       "2 2019-07-25 11:28:47  2019-07-25  \n",
       "3 2019-07-25 11:28:47  2019-07-25  \n",
       "4 2019-07-25 11:48:42  2019-07-25  "
      ]
     },
     "metadata": {},
     "output_type": "display_data"
    },
    {
     "name": "stdout",
     "output_type": "stream",
     "text": [
      "<class 'pandas.core.frame.DataFrame'>\n",
      "Int64Index: 243713 entries, 0 to 244125\n",
      "Data columns (total 6 columns):\n",
      " #   Column           Non-Null Count   Dtype         \n",
      "---  ------           --------------   -----         \n",
      " 0   event_name       243713 non-null  object        \n",
      " 1   user_id          243713 non-null  int64         \n",
      " 2   unix_time        243713 non-null  int64         \n",
      " 3   group            243713 non-null  int64         \n",
      " 4   event_date_time  243713 non-null  datetime64[ns]\n",
      " 5   event_date       243713 non-null  object        \n",
      "dtypes: datetime64[ns](1), int64(3), object(2)\n",
      "memory usage: 13.0+ MB\n"
     ]
    }
   ],
   "source": [
    "data['event_date_time'] = pd.to_datetime(data['unix_time'], unit = 's')\n",
    "data['event_date'] = pd.to_datetime(data['event_date_time']).dt.date \n",
    "display(data.head());\n",
    "data.info()"
   ]
  },
  {
   "cell_type": "markdown",
   "id": "878871c9",
   "metadata": {},
   "source": [
    "**Вывод**: \n",
    "На данном этапе было сделано:   \n",
    "- изменены названия столбцов, \n",
    "- удалены дубликаты \n",
    "- добавлены 2 столбца с данными о дате и времени событий.\n",
    "\n",
    "Таким образом, таблица приобрела следующий вид:   \n",
    "**event_name** — название события;  \n",
    "**user_id**\t — уникальный идентификатор пользователя;  \n",
    "**unix_time** — время события в формате unix_time (с точностью до секунды);  \n",
    "**group** — номер эксперимента, где 246 и 247 — контрольные группы, а 248 — экспериментальная;  \n",
    "**event_date_time**\t- дата и временя события;  \n",
    "**event_date** - дата события.\n",
    "\n",
    "Количество строк в таблице - 243713.  "
   ]
  },
  {
   "cell_type": "code",
   "execution_count": 11,
   "id": "e84e0696",
   "metadata": {},
   "outputs": [
    {
     "name": "stdout",
     "output_type": "stream",
     "text": [
      "Количество пользователей, попавших в несколько групп: 0\n"
     ]
    }
   ],
   "source": [
    "# Проверим, есть ли пользователи, которые попали в несколько групп теста \n",
    "group_nunique = data.groupby('user_id').agg({'group':'nunique'}).reset_index()\n",
    "print('Количество пользователей, попавших в несколько групп:', group_nunique.query('group > 1')['group'].count())"
   ]
  },
  {
   "cell_type": "markdown",
   "id": "9da8443f",
   "metadata": {},
   "source": [
    "## Шаг 3. Изучение и проверка данных \n",
    "\n",
    "    3.1. Рассчитаем количество событий в логе\n",
    "    3.2. Рассчитаем количество пользователей в логе\n",
    "    3.3. Рассчитаем среднее количество событий на пользователя\n",
    "    3.4. Узнаем за какой период имеются данные: \n",
    "        3.4.1. Найдем максимальную и минимальную дату. \n",
    "        3.4.2. Построим гистограмму по дате и времени. \n",
    "        3.4.3. Посмотрим одинаково ли полные данные за весь период (есть ли \"перекос\" данных)  \n",
    "        3.4.4. Отсеим неполные данные. \n",
    "        3.4.5. Повторно проверим период, за который имеются данные \n",
    "    3.5. Посчитаем количество событий и пользователей, которые были отфильтрованы\n",
    "    3.6. Приверим, что у вас есть пользователи из всех трёх экспериментальных групп."
   ]
  },
  {
   "cell_type": "code",
   "execution_count": 20,
   "id": "caa1be54",
   "metadata": {},
   "outputs": [
    {
     "name": "stdout",
     "output_type": "stream",
     "text": [
      "3.1 Количество событий в логе: 243713\n",
      "    Количество уникальных событий в логе: 5\n",
      "3.2 Количество пользователей в логе: 7551\n"
     ]
    }
   ],
   "source": [
    "#3.1 Рассчитаем количество событий в логе\n",
    "logs = data['event_name'].count()\n",
    "logs_unique = data.groupby('event_name')['user_id'].unique().count()\n",
    "print('3.1 Количество событий в логе:', logs)\n",
    "print('    Количество уникальных событий в логе:', logs_unique)\n",
    "\n",
    "users = data['user_id'].nunique()\n",
    "#3.2 Рассчитаем количество пользователей в логе\n",
    "print('3.2 Количество пользователей в логе:', users)"
   ]
  },
  {
   "cell_type": "markdown",
   "id": "db75651b",
   "metadata": {},
   "source": [
    "3.3 В количестве событий на пользователя могут быть аномальные значения. Поэтому посмотрим среднее арифмитическое и медиану"
   ]
  },
  {
   "cell_type": "code",
   "execution_count": 13,
   "id": "90c1f352",
   "metadata": {},
   "outputs": [
    {
     "data": {
      "text/plain": [
       "count    7551.000000\n",
       "mean       32.275593\n",
       "std        65.154219\n",
       "min         1.000000\n",
       "25%         9.000000\n",
       "50%        20.000000\n",
       "75%        37.000000\n",
       "max      2307.000000\n",
       "Name: event_name, dtype: float64"
      ]
     },
     "execution_count": 13,
     "metadata": {},
     "output_type": "execute_result"
    }
   ],
   "source": [
    "#3. Рассчитаем среднее количество событий на пользователя\n",
    "events_hist = data.groupby('user_id')['event_name'].count().reset_index()\n",
    "events_hist['event_name'].describe()"
   ]
  },
  {
   "cell_type": "code",
   "execution_count": 14,
   "id": "924b6f4c",
   "metadata": {},
   "outputs": [
    {
     "data": {
      "image/png": "[encoded data removed]",
      "text/plain": [
       "<Figure size 432x288 with 1 Axes>"
      ]
     },
     "metadata": {
      "needs_background": "light"
     },
     "output_type": "display_data"
    }
   ],
   "source": [
    "# построим диаграмму рассеяния\n",
    "events_hist.plot(x='user_id', y='event_name', kind='scatter',title='Диаграмма рассеяния количества событий на пользователя');"
   ]
  },
  {
   "cell_type": "code",
   "execution_count": 15,
   "id": "dd45ab57",
   "metadata": {},
   "outputs": [
    {
     "data": {
      "image/png": "[encoded data removed]",
      "text/plain": [
       "<Figure size 432x288 with 1 Axes>"
      ]
     },
     "metadata": {
      "needs_background": "light"
     },
     "output_type": "display_data"
    }
   ],
   "source": [
    "#укрупняем диаграмму\n",
    "events_hist.query('event_name < 200').plot(\n",
    "    x='user_id', y='event_name', kind='scatter',title='Диаграмма рассеяния количества событий на пользователя');"
   ]
  },
  {
   "cell_type": "code",
   "execution_count": 16,
   "id": "b8de9b04",
   "metadata": {},
   "outputs": [
    {
     "data": {
      "image/png": "[encoded data removed]",
      "text/plain": [
       "<Figure size 432x288 with 1 Axes>"
      ]
     },
     "metadata": {
      "needs_background": "light"
     },
     "output_type": "display_data"
    }
   ],
   "source": [
    "# построим гистограмму\n",
    "plt.title('Гистограмма распределнния количества событий на пользователя')\n",
    "events_hist['event_name'].hist(bins=50, range=(0,50));"
   ]
  },
  {
   "cell_type": "markdown",
   "id": "d7ffe13e",
   "metadata": {},
   "source": [
    "Среднее арифмитическое количество событий на пользователя - 33, при этом медиана - 20.\n",
    "По диаграмме рассеяния видим, что есть пользователи, у которых наблюдается от 200 до 2307 событий. \n",
    "Эти аномальные значения тянут среднее арифметическое вверх. \n",
    "\n",
    "Более детальное рассмотрение диаграммы рассеяния показывает, что у наибольшего числа пользователей менее 50 событий,а гистограмма показывает, что чаще всего на пользователя приходится менее 15 событий. \n",
    "Поэтому за среднее количество событий на пользователя принимаем медиану - 20 событий.\n",
    "\n",
    "### 3.4. Узнаем за какой период имеются данные"
   ]
  },
  {
   "cell_type": "code",
   "execution_count": 17,
   "id": "c76f4a6a",
   "metadata": {},
   "outputs": [
    {
     "data": {
      "text/plain": [
       "0   2019-07-25 04:43:36\n",
       "1   2019-07-25 11:11:42\n",
       "2   2019-07-25 11:28:47\n",
       "3   2019-07-25 11:28:47\n",
       "4   2019-07-25 11:48:42\n",
       "Name: event_date_time, dtype: datetime64[ns]"
      ]
     },
     "execution_count": 17,
     "metadata": {},
     "output_type": "execute_result"
    }
   ],
   "source": [
    "data['event_date_time'].head()"
   ]
  },
  {
   "cell_type": "code",
   "execution_count": 18,
   "id": "ede4ba89",
   "metadata": {},
   "outputs": [
    {
     "name": "stdout",
     "output_type": "stream",
     "text": [
      "3.4.1 Данные имеются за период с 2019-07-25 по 2019-08-07\n"
     ]
    }
   ],
   "source": [
    "print('3.4.1 Данные имеются за период с {} по {}'. format(data['event_date'].min(), data['event_date'].max()))"
   ]
  },
  {
   "cell_type": "code",
   "execution_count": null,
   "id": "c2cd2246",
   "metadata": {},
   "outputs": [],
   "source": [
    "#3.4.2. Построим гистограмму по дате и времени. \n",
    "fig = px.histogram(data, x='event_date_time', title='3.4.2. Гистограмма количества событий по дате и времени')\n",
    "fig.update_layout(bargap=0.5)\n",
    "fig.show()"
   ]
  },
  {
   "attachments": {
    "2024-05-22_15-03-00.png": {
     "image/png": "[encoded data removed]"
    }
   },
   "cell_type": "markdown",
   "id": "b807c8d6",
   "metadata": {},
   "source": [
    "![2024-05-22_15-03-00.png](attachment:2024-05-22_15-03-00.png)"
   ]
  },
  {
   "cell_type": "markdown",
   "id": "fdf8fb8b",
   "metadata": {},
   "source": [
    "3.4.3. Как мы видим по графику выше, не все данные за рассматриваемый период полные.   \n",
    "Наблюдаем перекашивание данных с  25 по 31 июля 2019г., причем полные данные появились с 21:00 31 июля (424 события против 56 событий часом ранее). \n",
    "\n",
    "Отметим, что с 21:00 31.07.29 можем наблюдать в течение каждого дня характерные периоды повышения активности (в утренние часы) и спада активности (после 15:00). Пик приходится примерно на 12-15 часов.\n",
    "\n",
    "Отфильтруем дни с неполными данными и посчитаем оставшееся количество событий и пользователей.\n",
    "Таким образом, мы имеем полные данные за 7 дней. "
   ]
  },
  {
   "cell_type": "code",
   "execution_count": 21,
   "id": "83ac6a8f",
   "metadata": {},
   "outputs": [
    {
     "name": "stdout",
     "output_type": "stream",
     "text": [
      "3.4.4 Полные данные имеются за период с 2019-07-31 21:00:57 по 2019-08-07 21:15:17\n"
     ]
    }
   ],
   "source": [
    "#отбросим неполные данные\n",
    "data_filtered = data.query('event_date_time >= \"2019-07-31 21:00:00\"')\n",
    "print('3.4.4 Полные данные имеются за период с {} по {}'. format(data_filtered['event_date_time'].min(), data_filtered['event_date_time'].max()))"
   ]
  },
  {
   "cell_type": "code",
   "execution_count": 22,
   "id": "4594df45",
   "metadata": {},
   "outputs": [
    {
     "name": "stdout",
     "output_type": "stream",
     "text": [
      "3.4.5 Количество оставшихся событий в логе: 241724\n",
      "Количество отброшенных событий: 1989\n",
      "Доля отброшенных событий: 0.82%\n",
      "\n",
      "Количество оставшихся пользователей в логе: 7538\n",
      "Количество отброшенных пользователей: 13\n",
      "Доля отброшенных пользователей: 0.17%\n",
      "\n",
      "Cреднее количество событий на пользователя: 19.0\n"
     ]
    }
   ],
   "source": [
    "#3.4.5 Рассчитаем количество оставшихся событий в логе\n",
    "logs_filtered = data_filtered['event_name'].count()\n",
    "print('3.4.5 Количество оставшихся событий в логе:', logs_filtered)\n",
    "print('Количество отброшенных событий:', logs-logs_filtered)\n",
    "print('Доля отброшенных событий: {0:.2f}%'.format((1-logs_filtered/logs)*100))\n",
    "print()\n",
    "# Рассчитаем количество оставшихся пользователей в логе\n",
    "users_filtered = data_filtered['user_id'].nunique()\n",
    "print('Количество оставшихся пользователей в логе:', users_filtered)\n",
    "print('Количество отброшенных пользователей:', users-users_filtered)\n",
    "print('Доля отброшенных пользователей: {0:.2f}%'.format((1-users_filtered/users)*100))\n",
    "print()\n",
    "# Рассчитаем cреднее количество событий на пользователя\n",
    "print('Cреднее количество событий на пользователя:', data_filtered.groupby('user_id')['event_name'].count().median())"
   ]
  },
  {
   "cell_type": "markdown",
   "id": "99c7d153",
   "metadata": {},
   "source": [
    "3.4.6. Проверим, что у нас есть пользователи из всех трёх экспериментальных групп."
   ]
  },
  {
   "cell_type": "code",
   "execution_count": 23,
   "id": "7ce9a5ff",
   "metadata": {},
   "outputs": [
    {
     "data": {
      "text/html": [
       "<div>\n",
       "<style scoped>\n",
       "    .dataframe tbody tr th:only-of-type {\n",
       "        vertical-align: middle;\n",
       "    }\n",
       "\n",
       "    .dataframe tbody tr th {\n",
       "        vertical-align: top;\n",
       "    }\n",
       "\n",
       "    .dataframe thead th {\n",
       "        text-align: right;\n",
       "    }\n",
       "</style>\n",
       "<table border=\"1\" class=\"dataframe\">\n",
       "  <thead>\n",
       "    <tr style=\"text-align: right;\">\n",
       "      <th></th>\n",
       "      <th>group</th>\n",
       "      <th>user_id</th>\n",
       "    </tr>\n",
       "  </thead>\n",
       "  <tbody>\n",
       "    <tr>\n",
       "      <th>0</th>\n",
       "      <td>246</td>\n",
       "      <td>2484</td>\n",
       "    </tr>\n",
       "    <tr>\n",
       "      <th>1</th>\n",
       "      <td>247</td>\n",
       "      <td>2517</td>\n",
       "    </tr>\n",
       "    <tr>\n",
       "      <th>2</th>\n",
       "      <td>248</td>\n",
       "      <td>2537</td>\n",
       "    </tr>\n",
       "  </tbody>\n",
       "</table>\n",
       "</div>"
      ],
      "text/plain": [
       "   group  user_id\n",
       "0    246     2484\n",
       "1    247     2517\n",
       "2    248     2537"
      ]
     },
     "execution_count": 23,
     "metadata": {},
     "output_type": "execute_result"
    }
   ],
   "source": [
    "users_in_group = data_filtered.groupby('group').agg({'user_id':'nunique'}).reset_index()\n",
    "users_in_group"
   ]
  },
  {
   "cell_type": "markdown",
   "id": "f0819b38",
   "metadata": {},
   "source": [
    "В каждой экспериментальной группе есть пользователи. На этапе предобработки выяснили, что пользователи в группах не пересекаются."
   ]
  },
  {
   "cell_type": "markdown",
   "id": "7b9a2011",
   "metadata": {},
   "source": [
    "**Вывод по шагу 3. Изучение и проверка данных**:  \n",
    "\n",
    "На данном этапе были отсечены неполные данные с 2019-07-25 по 2019-07-31 (до 21:00:57).  \n",
    "Было отфильтровано малозначимое количество событий (0.82%) и пользователей (0.17%).\n",
    "\n",
    "После удаления неполных данных стало:\n",
    "- количество событий в логе - 241 724, \n",
    "- количество пользователей в логе - 7 538, \n",
    "- среднее количество событий на пользователя - 19\n",
    "\n",
    "Дальнейший анализ будет сделан по данным с 2019-07-31 21:00:57 по 2019-08-07 21:15:17.  \n",
    "Пользователи есть из всех трёх экспериментальных групп."
   ]
  },
  {
   "cell_type": "markdown",
   "id": "9c482a5f",
   "metadata": {},
   "source": [
    "## Шаг 4. Изучение воронки событий\n",
    "\n",
    "    1. Посмотрим, какие события есть в логах, как часто они встречаются. Отсортируем события по частоте.\n",
    "    2. Посчитаем, сколько пользователей совершали каждое из этих событий. \n",
    "        2.1 Отсортируем события по числу пользователей. \n",
    "        2.2 Посчитаем долю пользователей, которые хоть раз совершали событие.\n",
    "    3. Предположим, в каком порядке происходят события:\n",
    "        3.1 Все ли события выстраиваются в последовательную цепочку.\n",
    "        3.2 Какие события можно не учитывать при расчёте воронки.\n",
    "    4. Посчитаем по воронке событий, какая доля пользователей проходит на следующий шаг воронки (от числа пользователей на предыдущем)\n",
    "    5. Изучим, на каком шаге теряется больше всего пользователей\n",
    "    6. Рассчитаем долю пользователей, которые доходят от первого события до оплаты"
   ]
  },
  {
   "cell_type": "markdown",
   "id": "b81ff5a1",
   "metadata": {},
   "source": [
    "### 4.1. Какие события есть в логах, как часто они встречаются"
   ]
  },
  {
   "cell_type": "code",
   "execution_count": 24,
   "id": "fc1df80e",
   "metadata": {},
   "outputs": [
    {
     "data": {
      "text/html": [
       "<div>\n",
       "<style scoped>\n",
       "    .dataframe tbody tr th:only-of-type {\n",
       "        vertical-align: middle;\n",
       "    }\n",
       "\n",
       "    .dataframe tbody tr th {\n",
       "        vertical-align: top;\n",
       "    }\n",
       "\n",
       "    .dataframe thead th {\n",
       "        text-align: right;\n",
       "    }\n",
       "</style>\n",
       "<table border=\"1\" class=\"dataframe\">\n",
       "  <thead>\n",
       "    <tr style=\"text-align: right;\">\n",
       "      <th></th>\n",
       "      <th>event_name</th>\n",
       "      <th>user_id</th>\n",
       "    </tr>\n",
       "  </thead>\n",
       "  <tbody>\n",
       "    <tr>\n",
       "      <th>0</th>\n",
       "      <td>MainScreenAppear</td>\n",
       "      <td>117889</td>\n",
       "    </tr>\n",
       "    <tr>\n",
       "      <th>1</th>\n",
       "      <td>OffersScreenAppear</td>\n",
       "      <td>46531</td>\n",
       "    </tr>\n",
       "    <tr>\n",
       "      <th>2</th>\n",
       "      <td>CartScreenAppear</td>\n",
       "      <td>42343</td>\n",
       "    </tr>\n",
       "    <tr>\n",
       "      <th>3</th>\n",
       "      <td>PaymentScreenSuccessful</td>\n",
       "      <td>33951</td>\n",
       "    </tr>\n",
       "    <tr>\n",
       "      <th>4</th>\n",
       "      <td>Tutorial</td>\n",
       "      <td>1010</td>\n",
       "    </tr>\n",
       "  </tbody>\n",
       "</table>\n",
       "</div>"
      ],
      "text/plain": [
       "                event_name  user_id\n",
       "0         MainScreenAppear   117889\n",
       "1       OffersScreenAppear    46531\n",
       "2         CartScreenAppear    42343\n",
       "3  PaymentScreenSuccessful    33951\n",
       "4                 Tutorial     1010"
      ]
     },
     "metadata": {},
     "output_type": "display_data"
    },
    {
     "data": {
      "image/png": "[encoded data removed]",
      "text/plain": [
       "<Figure size 360x360 with 1 Axes>"
      ]
     },
     "metadata": {},
     "output_type": "display_data"
    }
   ],
   "source": [
    "#4.1. Посмотрим, какие события есть в логах, как часто они встречаются. Отсортируем события по частоте.\n",
    "events = data_filtered.groupby('event_name').agg({'user_id':'count'}).sort_values(by='user_id', ascending=False)\n",
    "display(events.reset_index())\n",
    "\n",
    "events.plot(y='user_id', kind='pie', autopct='%0.01f%%', figsize=(5,5), title = \"Распределение событий в логах\", legend=None);"
   ]
  },
  {
   "cell_type": "markdown",
   "id": "b1070620",
   "metadata": {},
   "source": [
    "**Вывод:**  \n",
    "В логах представлено 5 различных событий: \n",
    "1. MainScreenAppear (отображение главного экрана)\n",
    "2. OffersScreenAppear (отображение экрана предложений)\n",
    "3. CartScreenAppear (отображение экрана корзины)\n",
    "4. PaymentScreenSuccessful (экран успешной оплаты) \n",
    "5. Tutorial (Руководство)\n",
    "\n",
    "Чаще всего встречается событие MainScreenAppear - 49% событий  \n",
    "Реже всего появляется событие Tutorial - 0,4%.   \n",
    "Редкое появление события Tutorial в данных может говорить о том, что данный шаг необязателен и пропускается пользователями"
   ]
  },
  {
   "cell_type": "markdown",
   "id": "eef866c5",
   "metadata": {},
   "source": [
    "### 4.2 Посчитаем, сколько пользователей совершали каждое событие. \n",
    "    4.2.1 Отсортируем события по числу пользователей. \n",
    "    4.2.2 Посчитаем долю пользователей, которые хоть раз совершали событие."
   ]
  },
  {
   "cell_type": "code",
   "execution_count": 25,
   "id": "67b00540",
   "metadata": {},
   "outputs": [
    {
     "data": {
      "text/html": [
       "<div>\n",
       "<style scoped>\n",
       "    .dataframe tbody tr th:only-of-type {\n",
       "        vertical-align: middle;\n",
       "    }\n",
       "\n",
       "    .dataframe tbody tr th {\n",
       "        vertical-align: top;\n",
       "    }\n",
       "\n",
       "    .dataframe thead th {\n",
       "        text-align: right;\n",
       "    }\n",
       "</style>\n",
       "<table border=\"1\" class=\"dataframe\">\n",
       "  <thead>\n",
       "    <tr style=\"text-align: right;\">\n",
       "      <th></th>\n",
       "      <th>event_name</th>\n",
       "      <th>users_count</th>\n",
       "      <th>share, %</th>\n",
       "    </tr>\n",
       "  </thead>\n",
       "  <tbody>\n",
       "    <tr>\n",
       "      <th>1</th>\n",
       "      <td>MainScreenAppear</td>\n",
       "      <td>7423</td>\n",
       "      <td>98.0</td>\n",
       "    </tr>\n",
       "    <tr>\n",
       "      <th>2</th>\n",
       "      <td>OffersScreenAppear</td>\n",
       "      <td>4597</td>\n",
       "      <td>61.0</td>\n",
       "    </tr>\n",
       "    <tr>\n",
       "      <th>0</th>\n",
       "      <td>CartScreenAppear</td>\n",
       "      <td>3736</td>\n",
       "      <td>49.0</td>\n",
       "    </tr>\n",
       "    <tr>\n",
       "      <th>3</th>\n",
       "      <td>PaymentScreenSuccessful</td>\n",
       "      <td>3540</td>\n",
       "      <td>47.0</td>\n",
       "    </tr>\n",
       "    <tr>\n",
       "      <th>4</th>\n",
       "      <td>Tutorial</td>\n",
       "      <td>843</td>\n",
       "      <td>11.0</td>\n",
       "    </tr>\n",
       "  </tbody>\n",
       "</table>\n",
       "</div>"
      ],
      "text/plain": [
       "                event_name  users_count  share, %\n",
       "1         MainScreenAppear         7423      98.0\n",
       "2       OffersScreenAppear         4597      61.0\n",
       "0         CartScreenAppear         3736      49.0\n",
       "3  PaymentScreenSuccessful         3540      47.0\n",
       "4                 Tutorial          843      11.0"
      ]
     },
     "execution_count": 25,
     "metadata": {},
     "output_type": "execute_result"
    }
   ],
   "source": [
    "users_events = data_filtered.groupby('event_name', as_index=False).agg({'user_id':'nunique'}).sort_values(by='user_id', ascending=False)\n",
    "users_events['share, %']= round((users_events['user_id'] / users)*100)\n",
    "users_events.columns=['event_name', 'users_count', 'share, %']\n",
    "users_events"
   ]
  },
  {
   "cell_type": "markdown",
   "id": "3ff34643",
   "metadata": {},
   "source": [
    "По количетву пользователей, события распределены следующим образом:\n",
    "- отображение главного экрана - у 98% пользователей;\n",
    "- отображение экрана предложений - у 61% пользователей;\n",
    "- отображение экрана корзины - у 49,5% пользователей;\n",
    "- экран успешной оплаты появляется у 47% пользователей;\n",
    "- и у 11% пользователей появляется Руководство"
   ]
  },
  {
   "cell_type": "markdown",
   "id": "f3810b6f",
   "metadata": {},
   "source": [
    "### 4.3. Предположим, в каком порядке происходят события:"
   ]
  },
  {
   "cell_type": "markdown",
   "id": "03ae3d8f",
   "metadata": {},
   "source": [
    "Исходя из количества каждого события и количества пользователей, совершивших эти события, можем предположить следующую последовательность действий пользователей:\n",
    "\n",
    "1) Отображение главного экрана ->   \n",
    "2) Отображение экрана предложений ->   \n",
    "3) Отображение экрана корзины ->   \n",
    "4) Экран успешной оплаты   \n",
    "\n",
    "Судя по данным события Tutorial, данный шаг не обязателен и чаще всего пользователи его пропускают.   \n",
    "По этой причине, исключим шаг из анализа воронки\n",
    "\n",
    "На главный экран попадают не 100% пользователей. Можем предположить, что пользователи могут попасть на иной экран приложения, минуя главную страницу "
   ]
  },
  {
   "cell_type": "markdown",
   "id": "c6c62d52",
   "metadata": {},
   "source": [
    "### 4.4. Посчитаем по воронке событий, какая доля пользователей проходит на следующий шаг воронки (от числа пользователей на предыдущем)"
   ]
  },
  {
   "cell_type": "code",
   "execution_count": 26,
   "id": "dd45458f",
   "metadata": {},
   "outputs": [
    {
     "data": {
      "text/html": [
       "<div>\n",
       "<style scoped>\n",
       "    .dataframe tbody tr th:only-of-type {\n",
       "        vertical-align: middle;\n",
       "    }\n",
       "\n",
       "    .dataframe tbody tr th {\n",
       "        vertical-align: top;\n",
       "    }\n",
       "\n",
       "    .dataframe thead th {\n",
       "        text-align: right;\n",
       "    }\n",
       "</style>\n",
       "<table border=\"1\" class=\"dataframe\">\n",
       "  <thead>\n",
       "    <tr style=\"text-align: right;\">\n",
       "      <th></th>\n",
       "      <th>event_name</th>\n",
       "      <th>users_count</th>\n",
       "      <th>share, %</th>\n",
       "      <th>events_funnel,%</th>\n",
       "    </tr>\n",
       "  </thead>\n",
       "  <tbody>\n",
       "    <tr>\n",
       "      <th>1</th>\n",
       "      <td>MainScreenAppear</td>\n",
       "      <td>7423</td>\n",
       "      <td>98.0</td>\n",
       "      <td>100.0</td>\n",
       "    </tr>\n",
       "    <tr>\n",
       "      <th>2</th>\n",
       "      <td>OffersScreenAppear</td>\n",
       "      <td>4597</td>\n",
       "      <td>61.0</td>\n",
       "      <td>62.0</td>\n",
       "    </tr>\n",
       "    <tr>\n",
       "      <th>0</th>\n",
       "      <td>CartScreenAppear</td>\n",
       "      <td>3736</td>\n",
       "      <td>49.0</td>\n",
       "      <td>81.0</td>\n",
       "    </tr>\n",
       "    <tr>\n",
       "      <th>3</th>\n",
       "      <td>PaymentScreenSuccessful</td>\n",
       "      <td>3540</td>\n",
       "      <td>47.0</td>\n",
       "      <td>95.0</td>\n",
       "    </tr>\n",
       "  </tbody>\n",
       "</table>\n",
       "</div>"
      ],
      "text/plain": [
       "                event_name  users_count  share, %  events_funnel,%\n",
       "1         MainScreenAppear         7423      98.0            100.0\n",
       "2       OffersScreenAppear         4597      61.0             62.0\n",
       "0         CartScreenAppear         3736      49.0             81.0\n",
       "3  PaymentScreenSuccessful         3540      47.0             95.0"
      ]
     },
     "execution_count": 26,
     "metadata": {},
     "output_type": "execute_result"
    }
   ],
   "source": [
    "# исключение Tutorial из анализа воронки\n",
    "users_events = users_events.query('event_name != \"Tutorial\"')\n",
    "\n",
    "# расчёт доли пользователей, которые перешли на следующий шаг воронки относительно предыдущего шага\n",
    "users_events['events_funnel,%'] = round((users_events['users_count'].pct_change()+1)*100).fillna(100)\n",
    "users_events"
   ]
  },
  {
   "cell_type": "code",
   "execution_count": null,
   "id": "05b8f705",
   "metadata": {},
   "outputs": [],
   "source": [
    "#визуализация воронки событий относительно числа пользователей на предыдущем шаге\n",
    "fig = go.Figure(go.Funnel(\n",
    "    y = users_events['event_name'],\n",
    "    x = users_events['events_funnel,%'],\n",
    "    textposition = \"inside\",\n",
    "    textinfo = \"percent initial\"))\n",
    "fig.update_layout(\n",
    "        title='Доля пользователей переходящих на следующий шаг воронки относительно прошлого шага')\n",
    "fig.show()"
   ]
  },
  {
   "attachments": {
    "2024-05-22_15-07-18.png": {
     "image/png": "[encoded data removed]"
    }
   },
   "cell_type": "markdown",
   "id": "9a4861e8",
   "metadata": {},
   "source": [
    "![2024-05-22_15-07-18.png](attachment:2024-05-22_15-07-18.png)"
   ]
  },
  {
   "cell_type": "code",
   "execution_count": 28,
   "id": "e6d283a7",
   "metadata": {},
   "outputs": [
    {
     "data": {
      "text/html": [
       "<div>\n",
       "<style scoped>\n",
       "    .dataframe tbody tr th:only-of-type {\n",
       "        vertical-align: middle;\n",
       "    }\n",
       "\n",
       "    .dataframe tbody tr th {\n",
       "        vertical-align: top;\n",
       "    }\n",
       "\n",
       "    .dataframe thead th {\n",
       "        text-align: right;\n",
       "    }\n",
       "</style>\n",
       "<table border=\"1\" class=\"dataframe\">\n",
       "  <thead>\n",
       "    <tr style=\"text-align: right;\">\n",
       "      <th>group</th>\n",
       "      <th>event_name</th>\n",
       "      <th>246</th>\n",
       "      <th>247</th>\n",
       "      <th>248</th>\n",
       "    </tr>\n",
       "  </thead>\n",
       "  <tbody>\n",
       "    <tr>\n",
       "      <th>0</th>\n",
       "      <td>MainScreenAppear</td>\n",
       "      <td>2450</td>\n",
       "      <td>2479</td>\n",
       "      <td>2494</td>\n",
       "    </tr>\n",
       "    <tr>\n",
       "      <th>1</th>\n",
       "      <td>OffersScreenAppear</td>\n",
       "      <td>1542</td>\n",
       "      <td>1524</td>\n",
       "      <td>1531</td>\n",
       "    </tr>\n",
       "    <tr>\n",
       "      <th>2</th>\n",
       "      <td>CartScreenAppear</td>\n",
       "      <td>1266</td>\n",
       "      <td>1239</td>\n",
       "      <td>1231</td>\n",
       "    </tr>\n",
       "    <tr>\n",
       "      <th>3</th>\n",
       "      <td>PaymentScreenSuccessful</td>\n",
       "      <td>1200</td>\n",
       "      <td>1158</td>\n",
       "      <td>1182</td>\n",
       "    </tr>\n",
       "  </tbody>\n",
       "</table>\n",
       "</div>"
      ],
      "text/plain": [
       "group               event_name   246   247   248\n",
       "0             MainScreenAppear  2450  2479  2494\n",
       "1           OffersScreenAppear  1542  1524  1531\n",
       "2             CartScreenAppear  1266  1239  1231\n",
       "3      PaymentScreenSuccessful  1200  1158  1182"
      ]
     },
     "execution_count": 28,
     "metadata": {},
     "output_type": "execute_result"
    }
   ],
   "source": [
    "# распределение событий по экспериментальным группам\n",
    "groups_funnel = data_filtered.query('event_name !=\"Tutorial\"').pivot_table(index='event_name', columns='group', values='user_id', aggfunc='nunique').sort_values(by=246, ascending=False).reset_index()\n",
    "groups_funnel"
   ]
  },
  {
   "cell_type": "code",
   "execution_count": 29,
   "id": "4d2cce81",
   "metadata": {},
   "outputs": [
    {
     "data": {
      "text/html": [
       "<div>\n",
       "<style scoped>\n",
       "    .dataframe tbody tr th:only-of-type {\n",
       "        vertical-align: middle;\n",
       "    }\n",
       "\n",
       "    .dataframe tbody tr th {\n",
       "        vertical-align: top;\n",
       "    }\n",
       "\n",
       "    .dataframe thead th {\n",
       "        text-align: right;\n",
       "    }\n",
       "</style>\n",
       "<table border=\"1\" class=\"dataframe\">\n",
       "  <thead>\n",
       "    <tr style=\"text-align: right;\">\n",
       "      <th>group</th>\n",
       "      <th>event_name</th>\n",
       "      <th>246</th>\n",
       "      <th>247</th>\n",
       "      <th>248</th>\n",
       "      <th>246_funnel,%</th>\n",
       "      <th>247_funnel,%</th>\n",
       "      <th>248_funnel,%</th>\n",
       "    </tr>\n",
       "  </thead>\n",
       "  <tbody>\n",
       "    <tr>\n",
       "      <th>0</th>\n",
       "      <td>MainScreenAppear</td>\n",
       "      <td>2450</td>\n",
       "      <td>2479</td>\n",
       "      <td>2494</td>\n",
       "      <td>100.0</td>\n",
       "      <td>100.0</td>\n",
       "      <td>100.0</td>\n",
       "    </tr>\n",
       "    <tr>\n",
       "      <th>1</th>\n",
       "      <td>OffersScreenAppear</td>\n",
       "      <td>1542</td>\n",
       "      <td>1524</td>\n",
       "      <td>1531</td>\n",
       "      <td>63.0</td>\n",
       "      <td>61.0</td>\n",
       "      <td>61.0</td>\n",
       "    </tr>\n",
       "    <tr>\n",
       "      <th>2</th>\n",
       "      <td>CartScreenAppear</td>\n",
       "      <td>1266</td>\n",
       "      <td>1239</td>\n",
       "      <td>1231</td>\n",
       "      <td>82.0</td>\n",
       "      <td>81.0</td>\n",
       "      <td>80.0</td>\n",
       "    </tr>\n",
       "    <tr>\n",
       "      <th>3</th>\n",
       "      <td>PaymentScreenSuccessful</td>\n",
       "      <td>1200</td>\n",
       "      <td>1158</td>\n",
       "      <td>1182</td>\n",
       "      <td>95.0</td>\n",
       "      <td>93.0</td>\n",
       "      <td>96.0</td>\n",
       "    </tr>\n",
       "  </tbody>\n",
       "</table>\n",
       "</div>"
      ],
      "text/plain": [
       "group               event_name   246   247   248  246_funnel,%  247_funnel,%  \\\n",
       "0             MainScreenAppear  2450  2479  2494         100.0         100.0   \n",
       "1           OffersScreenAppear  1542  1524  1531          63.0          61.0   \n",
       "2             CartScreenAppear  1266  1239  1231          82.0          81.0   \n",
       "3      PaymentScreenSuccessful  1200  1158  1182          95.0          93.0   \n",
       "\n",
       "group  248_funnel,%  \n",
       "0             100.0  \n",
       "1              61.0  \n",
       "2              80.0  \n",
       "3              96.0  "
      ]
     },
     "execution_count": 29,
     "metadata": {},
     "output_type": "execute_result"
    }
   ],
   "source": [
    "# расчёт доли пользователей, которые перешли на следующий шаг воронки относительно предыдущего шага в разрезе групп\n",
    "groups_funnel['246_funnel,%'] = round((groups_funnel[246].pct_change()+1)*100)\n",
    "groups_funnel['247_funnel,%'] = round((groups_funnel[247].pct_change()+1)*100)\n",
    "groups_funnel['248_funnel,%'] = round((groups_funnel[248].pct_change()+1)*100)\n",
    "groups_funnel=groups_funnel.fillna(100)\n",
    "groups_funnel"
   ]
  },
  {
   "cell_type": "code",
   "execution_count": null,
   "id": "bdb41011",
   "metadata": {},
   "outputs": [],
   "source": [
    "#визуализация воронки событий относительно числа пользователей на предыдущем шаге в разрезе групп\n",
    "fig = go.Figure()\n",
    "\n",
    "fig.add_trace(go.Funnel(\n",
    "    name = 'group_246',\n",
    "    orientation = \"h\",\n",
    "    y = groups_funnel['event_name'],\n",
    "    x = groups_funnel['246_funnel,%'],\n",
    "    textinfo = \"percent initial\"))\n",
    "\n",
    "fig.add_trace(go.Funnel(\n",
    "    name = 'group_247',\n",
    "    orientation = \"h\",\n",
    "    y = groups_funnel['event_name'],\n",
    "    x = groups_funnel['247_funnel,%'],\n",
    "    textposition = \"inside\",\n",
    "    textinfo = \"percent initial\"))\n",
    "\n",
    "fig.add_trace(go.Funnel(\n",
    "    name = 'group_248',\n",
    "    orientation = \"h\",\n",
    "    y = groups_funnel['event_name'],\n",
    "    x = groups_funnel['248_funnel,%'],\n",
    "    textposition = \"inside\",\n",
    "    textinfo = \"percent initial\"))\n",
    "fig.update_layout(\n",
    "        title='Доля пользователей в группах, переходящих на следующий шаг воронки относительно прошлого шага')\n",
    "fig.show()"
   ]
  },
  {
   "attachments": {
    "2024-05-22_15-08-20.png": {
     "image/png": "[encoded data removed]"
    }
   },
   "cell_type": "markdown",
   "id": "00700a12",
   "metadata": {},
   "source": [
    "![2024-05-22_15-08-20.png](attachment:2024-05-22_15-08-20.png)"
   ]
  },
  {
   "cell_type": "markdown",
   "id": "28d22b87",
   "metadata": {},
   "source": [
    "### 4.5. Изучим, на каком шаге теряется больше всего пользователей"
   ]
  },
  {
   "cell_type": "markdown",
   "id": "99c44a52",
   "metadata": {},
   "source": [
    "По воронке видим, что большая часть пользователей теряются уже после первого шага MainScreenAppear (отображение главного экрана).   \n",
    "\n",
    "До OffersScreenAppear (отображение экрана предложений) не доходят 38% пользователей. \n",
    "\n",
    "Возможно есть факторы, которые отталкивают их от просмотра каталога товаров (долгая загрузка, неудобный интерфейс, баги). С другой стороны, возможно реализована функция добавления товаров в корзину прямо с главного экрана (товары со скидкой, спец. предложения, рекомендации, любимый продукты и тд.), поэтому \"просмотр каталога\" частью пользователей скипается. В любом случае, вопрос следует рассмотреть более детально, чтобы понять насколько это влияет на финансовые показатели и впечатления пользователей.\n",
    "\n",
    "Далее доля перешедших пользователей относительного прошлого этапа растёт:\n",
    "- на третий этап CartScreenAppear перешло 49% от общего числа пользователей, что составляет 82% пользователя шага OffersScreenAppear\n",
    "- на четвертый этап PaymentScreenSuccessful перешло 47% от общего числа пользователей, что составляет 95% пользователей шага  CartScreenAppear"
   ]
  },
  {
   "cell_type": "markdown",
   "id": "910635bc",
   "metadata": {},
   "source": [
    "### 4.6. Рассчитаем долю пользователей, которые доходят от первого события до оплаты"
   ]
  },
  {
   "cell_type": "markdown",
   "id": "09c72a20",
   "metadata": {},
   "source": [
    "**Построим последовательную воронку в разрезе групп:**"
   ]
  },
  {
   "cell_type": "code",
   "execution_count": null,
   "id": "06cce28b",
   "metadata": {},
   "outputs": [],
   "source": [
    "#визуализация последовательной воронки событий\n",
    "fig = go.Figure(go.Funnel(\n",
    "    y = users_events['event_name'],\n",
    "    x = users_events['users_count'],\n",
    "    textposition = \"inside\",\n",
    "    textinfo = \"value+percent initial\"))\n",
    "fig.update_layout(\n",
    "        title='Доля пользователей переходящих на следующий шаг воронки')\n",
    "fig.show()"
   ]
  },
  {
   "attachments": {
    "2024-05-22_15-09-08.png": {
     "image/png": "[encoded data removed]"
    }
   },
   "cell_type": "markdown",
   "id": "46493a8e",
   "metadata": {},
   "source": [
    "![2024-05-22_15-09-08.png](attachment:2024-05-22_15-09-08.png)"
   ]
  },
  {
   "cell_type": "markdown",
   "id": "4ce76c86",
   "metadata": {},
   "source": [
    "От первого события до оплат дошли 48% пользователей"
   ]
  },
  {
   "cell_type": "code",
   "execution_count": null,
   "id": "ae638d78",
   "metadata": {},
   "outputs": [],
   "source": [
    "# визуализация последовательной воронки в разрезе групп\n",
    "fig = go.Figure()\n",
    "\n",
    "fig.add_trace(go.Funnel(\n",
    "    name = 'group_246',\n",
    "    orientation = \"h\",\n",
    "    y = groups_funnel['event_name'],\n",
    "    x = groups_funnel[246],\n",
    "    textinfo = \"value+percent initial\"))\n",
    "\n",
    "fig.add_trace(go.Funnel(\n",
    "    name = 'group_247',\n",
    "    orientation = \"h\",\n",
    "    y = groups_funnel['event_name'],\n",
    "    x = groups_funnel[247],\n",
    "    textposition = \"inside\",\n",
    "    textinfo = \"value+percent initial\"))\n",
    "\n",
    "fig.add_trace(go.Funnel(\n",
    "    name = 'group_248',\n",
    "    orientation = \"h\",\n",
    "    y = groups_funnel['event_name'],\n",
    "    x = groups_funnel[248],\n",
    "    textposition = \"inside\",\n",
    "    textinfo = \"value+percent initial\"))\n",
    "fig.update_layout(\n",
    "        title='Последовательная воронка событий в разрезе групп')\n",
    "fig.show()"
   ]
  },
  {
   "attachments": {
    "2024-05-22_15-10-54.png": {
     "image/png": "[encoded data removed]"
    }
   },
   "cell_type": "markdown",
   "id": "303c75c9",
   "metadata": {},
   "source": [
    "![2024-05-22_15-10-54.png](attachment:2024-05-22_15-10-54.png)"
   ]
  },
  {
   "cell_type": "markdown",
   "id": "4a8332f3",
   "metadata": {},
   "source": [
    "Воронка в разрезе групп не сильно отличается от общей и между самими группами. В группе контрольной группе 246 до оплаты дошло 49% пользователей, в контрольной группе 247 - 47% пользователей, а в экспериментальной группе 248 - 47%\n",
    "\n",
    "**Вывод**:\n",
    "\n",
    "В логах представлено 5 различных событий. 4 из них мы включили в воронку. \n",
    "\n",
    "Событие Tutorial не является обязательным  для перехода к следующим шагам покупки, большинство пользователей данный шаг пропускает, поэтому далее в анализе воронки данный шаг не учитывался. \n",
    "\n",
    "Было сделано предположение, что  события происходят в следующем порядке:\n",
    "1) Отображение главного экрана (MainScreenAppear)->\n",
    "2) Отображение экрана предложений (OffersScreenAppear)->\n",
    "3) Отображение экрана корзины (CartScreenAppear) ->\n",
    "4) Экран успешной оплаты (PaymentScreenSuccessful)\n",
    "\n",
    "Больше всего пользователей теряется после первого шага. По какой-то причине 38% пользователей не перешли от главного экрана к каталогу товаров. В дальнейшем компании стоит озадачиться данным вопросом и выяснить почему так происходит. Сокращение потери пользователей на данном этапе может повысить показатели и улучшить пользовательский опыт.\n",
    "\n",
    "От первого события до оплаты доходят 48% пользователей."
   ]
  },
  {
   "cell_type": "markdown",
   "id": "cefe5cf6",
   "metadata": {},
   "source": [
    "## Шаг 5. Изучение результатов эксперимента\n",
    "\n",
    "    1. Рассчитаем количество пользователей в каждой экспериментальной группе\n",
    "    2. Проверим, есть ли между контрольными выборками 246 и 247 А/А-теста разница по статистическим критериям (чтобы проверить корректность всех механизмов и расчётов).\n",
    "    3. Выберем самое популярное событие\n",
    "        3.1 Посчитаем число пользователей, совершивших это событие в каждой из контрольных групп. \n",
    "        3.2 Посчитаем долю пользователей, совершивших это событие. \n",
    "        3.2 Проверим, будет ли отличие между группами статистически достоверным. \n",
    "        3.3 Выводы о корректности работы разбиения на группы \n",
    "    4. Выберем самое популярное событие у группы с изменённым шрифтом. \n",
    "        4.1 Сравним результаты с каждой из контрольных групп в отдельности по каждому событию. \n",
    "        4.2 Сравним результаты с объединённой контрольной группой. \n",
    "        4.3 Выводы из эксперимента\n",
    "    5. Выберем уровень значимости для проверки статистических гипотез.\n",
    "        5.1 Посчитаем, сколько проверок статистических гипотез было сделано. \n",
    "        5.2 Будут ли различаться выводы при применении другого уровня значимости"
   ]
  },
  {
   "cell_type": "markdown",
   "id": "6f7d989b",
   "metadata": {},
   "source": [
    "### 5.1. Рассчитаем количество пользователей в каждой экспериментальной группе\n",
    "Количество пользователей в каждой экспериментальной группе мы рассчитывали ранее в п. 3.4.6 и сохранили в переменной users_in_group. Выведем их количество:"
   ]
  },
  {
   "cell_type": "code",
   "execution_count": 34,
   "id": "d754326b",
   "metadata": {},
   "outputs": [
    {
     "data": {
      "text/html": [
       "<div>\n",
       "<style scoped>\n",
       "    .dataframe tbody tr th:only-of-type {\n",
       "        vertical-align: middle;\n",
       "    }\n",
       "\n",
       "    .dataframe tbody tr th {\n",
       "        vertical-align: top;\n",
       "    }\n",
       "\n",
       "    .dataframe thead th {\n",
       "        text-align: right;\n",
       "    }\n",
       "</style>\n",
       "<table border=\"1\" class=\"dataframe\">\n",
       "  <thead>\n",
       "    <tr style=\"text-align: right;\">\n",
       "      <th>group</th>\n",
       "      <th>246</th>\n",
       "      <th>247</th>\n",
       "      <th>248</th>\n",
       "    </tr>\n",
       "  </thead>\n",
       "  <tbody>\n",
       "    <tr>\n",
       "      <th>user_id</th>\n",
       "      <td>2484</td>\n",
       "      <td>2517</td>\n",
       "      <td>2537</td>\n",
       "    </tr>\n",
       "  </tbody>\n",
       "</table>\n",
       "</div>"
      ],
      "text/plain": [
       "group     246   247   248\n",
       "user_id  2484  2517  2537"
      ]
     },
     "metadata": {},
     "output_type": "display_data"
    },
    {
     "name": "stdout",
     "output_type": "stream",
     "text": [
      "Количество пользователей в экспериментальной группе 246 = 2484 пользователей\n",
      "Количество пользователей в экспериментальной группе 247 = 2517 пользователей\n",
      "Количество пользователей в экспериментальной группе 248 = 2537 пользователей\n"
     ]
    }
   ],
   "source": [
    "users_in_group = data_filtered.groupby('group').agg({'user_id':'nunique'}).T\n",
    "display(users_in_group)\n",
    "\n",
    "for i in [246,247,248]:\n",
    "    print('Количество пользователей в экспериментальной группе {} = {} пользователей'.format(i,users_in_group[i][0]))"
   ]
  },
  {
   "cell_type": "markdown",
   "id": "f258bce9",
   "metadata": {},
   "source": [
    "### 5.2. Проверим, есть ли между контрольными выборками 246 и 247 А/А-теста разница по статистическим критериям (чтобы проверить корректность всех механизмов и расчётов).\n"
   ]
  },
  {
   "cell_type": "markdown",
   "id": "b2737701",
   "metadata": {},
   "source": [
    "Создание двух групп A вместо одной имеет определённые преимущества:  \n",
    "- если две контрольные группы равны, точность проведенного тестирования повышается. \n",
    "- если же между значениями A и A имеются существенные различия, это поможет обнаружить факторы, которые привели к искажению результатов.   "
   ]
  },
  {
   "cell_type": "markdown",
   "id": "efa7797d",
   "metadata": {},
   "source": [
    "### 5.3. Выберем самое популярное событие\n",
    "    5.3.1 Посчитаем число пользователей, совершивших это событие в каждой из контрольных групп. \n",
    "    5.3.2 Посчитаем долю пользователей, совершивших это событие. \n",
    "    5.3.3 Проверим, будет ли отличие между группами статистически достоверным. \n",
    "    5.3.4 Выводы о корректности работы разбиения на группы \n"
   ]
  },
  {
   "cell_type": "code",
   "execution_count": 35,
   "id": "ad9901a2",
   "metadata": {},
   "outputs": [
    {
     "data": {
      "text/html": [
       "<div>\n",
       "<style scoped>\n",
       "    .dataframe tbody tr th:only-of-type {\n",
       "        vertical-align: middle;\n",
       "    }\n",
       "\n",
       "    .dataframe tbody tr th {\n",
       "        vertical-align: top;\n",
       "    }\n",
       "\n",
       "    .dataframe thead th {\n",
       "        text-align: right;\n",
       "    }\n",
       "</style>\n",
       "<table border=\"1\" class=\"dataframe\">\n",
       "  <thead>\n",
       "    <tr style=\"text-align: right;\">\n",
       "      <th></th>\n",
       "      <th>event_name</th>\n",
       "      <th>user_id</th>\n",
       "    </tr>\n",
       "  </thead>\n",
       "  <tbody>\n",
       "    <tr>\n",
       "      <th>0</th>\n",
       "      <td>MainScreenAppear</td>\n",
       "      <td>117889</td>\n",
       "    </tr>\n",
       "    <tr>\n",
       "      <th>1</th>\n",
       "      <td>OffersScreenAppear</td>\n",
       "      <td>46531</td>\n",
       "    </tr>\n",
       "    <tr>\n",
       "      <th>2</th>\n",
       "      <td>CartScreenAppear</td>\n",
       "      <td>42343</td>\n",
       "    </tr>\n",
       "    <tr>\n",
       "      <th>3</th>\n",
       "      <td>PaymentScreenSuccessful</td>\n",
       "      <td>33951</td>\n",
       "    </tr>\n",
       "  </tbody>\n",
       "</table>\n",
       "</div>"
      ],
      "text/plain": [
       "                event_name  user_id\n",
       "0         MainScreenAppear   117889\n",
       "1       OffersScreenAppear    46531\n",
       "2         CartScreenAppear    42343\n",
       "3  PaymentScreenSuccessful    33951"
      ]
     },
     "metadata": {},
     "output_type": "display_data"
    },
    {
     "name": "stdout",
     "output_type": "stream",
     "text": [
      "5.3. Cамое популярное событие - MainScreenAppear. Всего событий событий данной категории - 117889\n"
     ]
    }
   ],
   "source": [
    "# 5.3 самое популярное событие\n",
    "events = events.query('event_name != \"Tutorial\"').reset_index()\n",
    "display(events)\n",
    "print('5.3. Cамое популярное событие - {}. Всего событий событий данной категории - {}'.format(events['event_name'][0],events['user_id'][0]))"
   ]
  },
  {
   "cell_type": "code",
   "execution_count": 36,
   "id": "8ef09a3e",
   "metadata": {},
   "outputs": [
    {
     "data": {
      "text/html": [
       "<div>\n",
       "<style scoped>\n",
       "    .dataframe tbody tr th:only-of-type {\n",
       "        vertical-align: middle;\n",
       "    }\n",
       "\n",
       "    .dataframe tbody tr th {\n",
       "        vertical-align: top;\n",
       "    }\n",
       "\n",
       "    .dataframe thead th {\n",
       "        text-align: right;\n",
       "    }\n",
       "</style>\n",
       "<table border=\"1\" class=\"dataframe\">\n",
       "  <thead>\n",
       "    <tr style=\"text-align: right;\">\n",
       "      <th>group</th>\n",
       "      <th>246</th>\n",
       "      <th>247</th>\n",
       "      <th>248</th>\n",
       "    </tr>\n",
       "    <tr>\n",
       "      <th>event_name</th>\n",
       "      <th></th>\n",
       "      <th></th>\n",
       "      <th></th>\n",
       "    </tr>\n",
       "  </thead>\n",
       "  <tbody>\n",
       "    <tr>\n",
       "      <th>MainScreenAppear</th>\n",
       "      <td>2450</td>\n",
       "      <td>2479</td>\n",
       "      <td>2494</td>\n",
       "    </tr>\n",
       "  </tbody>\n",
       "</table>\n",
       "</div>"
      ],
      "text/plain": [
       "group              246   247   248\n",
       "event_name                        \n",
       "MainScreenAppear  2450  2479  2494"
      ]
     },
     "metadata": {},
     "output_type": "display_data"
    },
    {
     "name": "stdout",
     "output_type": "stream",
     "text": [
      "5.3.1 Число пользователей группы 246, совершивших событие MainScreenAppear - 2450 человек\n",
      "5.3.1 Число пользователей группы 247, совершивших событие MainScreenAppear - 2479 человек\n",
      "5.3.1 Число пользователей группы 248, совершивших событие MainScreenAppear - 2494 человек\n"
     ]
    }
   ],
   "source": [
    "#5.3.1 число пользователей, совершивших событие MainScreenAppear в каждой из контрольных групп. \n",
    "groups_funnel_5 = data_filtered.query('event_name ==\"MainScreenAppear\"').pivot_table(\n",
    "    index='event_name', columns='group', values='user_id', aggfunc='nunique').sort_values(by=246, ascending=False)\n",
    "display(groups_funnel_5)\n",
    "\n",
    "for i in [246,247,248]:\n",
    "    print('5.3.1 Число пользователей группы {}, совершивших событие MainScreenAppear - {} человек'.format(\n",
    "        i,groups_funnel_5[i][0]))"
   ]
  },
  {
   "cell_type": "code",
   "execution_count": 37,
   "id": "1cfa3046",
   "metadata": {},
   "outputs": [
    {
     "name": "stdout",
     "output_type": "stream",
     "text": [
      "5.3.2 Доля пользователей группы 246, совершивших событие MainScreenAppear - 98.63%\n",
      "5.3.2 Доля пользователей группы 247, совершивших событие MainScreenAppear - 98.49%\n",
      "5.3.2 Доля пользователей группы 248, совершивших событие MainScreenAppear - 98.31%\n"
     ]
    }
   ],
   "source": [
    "#5.3.2 Посчитаем долю совершивших событие MainScreenAppear от общего числа группы. \n",
    "for i in [246,247,248]:\n",
    "    print('5.3.2 Доля пользователей группы {}, совершивших событие MainScreenAppear - {}%'.format(\n",
    "        i,round(groups_funnel_5[i][0]/users_in_group[i][0]*100,2)))"
   ]
  },
  {
   "cell_type": "markdown",
   "id": "710f7ee8",
   "metadata": {},
   "source": [
    "Добавим в датафреймы результаты объединённой контрольной группы '246+247'"
   ]
  },
  {
   "cell_type": "code",
   "execution_count": 38,
   "id": "eb5725cf",
   "metadata": {},
   "outputs": [
    {
     "data": {
      "text/html": [
       "<div>\n",
       "<style scoped>\n",
       "    .dataframe tbody tr th:only-of-type {\n",
       "        vertical-align: middle;\n",
       "    }\n",
       "\n",
       "    .dataframe tbody tr th {\n",
       "        vertical-align: top;\n",
       "    }\n",
       "\n",
       "    .dataframe thead th {\n",
       "        text-align: right;\n",
       "    }\n",
       "</style>\n",
       "<table border=\"1\" class=\"dataframe\">\n",
       "  <thead>\n",
       "    <tr style=\"text-align: right;\">\n",
       "      <th>group</th>\n",
       "      <th>event_name</th>\n",
       "      <th>246</th>\n",
       "      <th>247</th>\n",
       "      <th>248</th>\n",
       "      <th>246_funnel,%</th>\n",
       "      <th>247_funnel,%</th>\n",
       "      <th>248_funnel,%</th>\n",
       "      <th>246+247</th>\n",
       "    </tr>\n",
       "  </thead>\n",
       "  <tbody>\n",
       "    <tr>\n",
       "      <th>0</th>\n",
       "      <td>MainScreenAppear</td>\n",
       "      <td>2450</td>\n",
       "      <td>2479</td>\n",
       "      <td>2494</td>\n",
       "      <td>100.0</td>\n",
       "      <td>100.0</td>\n",
       "      <td>100.0</td>\n",
       "      <td>4929</td>\n",
       "    </tr>\n",
       "    <tr>\n",
       "      <th>1</th>\n",
       "      <td>OffersScreenAppear</td>\n",
       "      <td>1542</td>\n",
       "      <td>1524</td>\n",
       "      <td>1531</td>\n",
       "      <td>63.0</td>\n",
       "      <td>61.0</td>\n",
       "      <td>61.0</td>\n",
       "      <td>3066</td>\n",
       "    </tr>\n",
       "    <tr>\n",
       "      <th>2</th>\n",
       "      <td>CartScreenAppear</td>\n",
       "      <td>1266</td>\n",
       "      <td>1239</td>\n",
       "      <td>1231</td>\n",
       "      <td>82.0</td>\n",
       "      <td>81.0</td>\n",
       "      <td>80.0</td>\n",
       "      <td>2505</td>\n",
       "    </tr>\n",
       "    <tr>\n",
       "      <th>3</th>\n",
       "      <td>PaymentScreenSuccessful</td>\n",
       "      <td>1200</td>\n",
       "      <td>1158</td>\n",
       "      <td>1182</td>\n",
       "      <td>95.0</td>\n",
       "      <td>93.0</td>\n",
       "      <td>96.0</td>\n",
       "      <td>2358</td>\n",
       "    </tr>\n",
       "  </tbody>\n",
       "</table>\n",
       "</div>"
      ],
      "text/plain": [
       "group               event_name   246   247   248  246_funnel,%  247_funnel,%  \\\n",
       "0             MainScreenAppear  2450  2479  2494         100.0         100.0   \n",
       "1           OffersScreenAppear  1542  1524  1531          63.0          61.0   \n",
       "2             CartScreenAppear  1266  1239  1231          82.0          81.0   \n",
       "3      PaymentScreenSuccessful  1200  1158  1182          95.0          93.0   \n",
       "\n",
       "group  248_funnel,%  246+247  \n",
       "0             100.0     4929  \n",
       "1              61.0     3066  \n",
       "2              80.0     2505  \n",
       "3              96.0     2358  "
      ]
     },
     "execution_count": 38,
     "metadata": {},
     "output_type": "execute_result"
    }
   ],
   "source": [
    "# количество пользователей с разбивкой по группам и событиям\n",
    "groups_funnel['246+247']=groups_funnel[246]+groups_funnel[247]\n",
    "groups_funnel"
   ]
  },
  {
   "cell_type": "code",
   "execution_count": 39,
   "id": "87066c2d",
   "metadata": {},
   "outputs": [
    {
     "data": {
      "text/html": [
       "<div>\n",
       "<style scoped>\n",
       "    .dataframe tbody tr th:only-of-type {\n",
       "        vertical-align: middle;\n",
       "    }\n",
       "\n",
       "    .dataframe tbody tr th {\n",
       "        vertical-align: top;\n",
       "    }\n",
       "\n",
       "    .dataframe thead th {\n",
       "        text-align: right;\n",
       "    }\n",
       "</style>\n",
       "<table border=\"1\" class=\"dataframe\">\n",
       "  <thead>\n",
       "    <tr style=\"text-align: right;\">\n",
       "      <th>group</th>\n",
       "      <th>246</th>\n",
       "      <th>247</th>\n",
       "      <th>248</th>\n",
       "      <th>246+247</th>\n",
       "    </tr>\n",
       "  </thead>\n",
       "  <tbody>\n",
       "    <tr>\n",
       "      <th>user_id</th>\n",
       "      <td>2484</td>\n",
       "      <td>2517</td>\n",
       "      <td>2537</td>\n",
       "      <td>5001</td>\n",
       "    </tr>\n",
       "  </tbody>\n",
       "</table>\n",
       "</div>"
      ],
      "text/plain": [
       "group     246   247   248  246+247\n",
       "user_id  2484  2517  2537     5001"
      ]
     },
     "execution_count": 39,
     "metadata": {},
     "output_type": "execute_result"
    }
   ],
   "source": [
    "# количество пользователей в каждой группе\n",
    "users_in_group['246+247'] = users_in_group[246]+users_in_group[247]\n",
    "users_in_group"
   ]
  },
  {
   "cell_type": "markdown",
   "id": "785447ce",
   "metadata": {},
   "source": [
    "**Для дальнейшей проверки гипотез о равенстве групп будем использовать Z-тест.**\n",
    "\n",
    "**Сформулируем гипотезы**:    \n",
    "- Нулевая: в сраниваемых группах, между долями пользователей, совершивших событие, разницы нет.   \n",
    "- Альтернативная: между долями есть значимая разница. \n",
    "\n",
    "**Напишем функцию \"z_test_func\"** \n",
    "с 3 параметрами: группа1, группа2, alpha, где:  \n",
    "- group1  и group2 - сравниваемые группы,  \n",
    "- alpha - уровень статистической значимости. "
   ]
  },
  {
   "cell_type": "code",
   "execution_count": 40,
   "id": "6e2e94e8",
   "metadata": {},
   "outputs": [],
   "source": [
    "# функция z-теста\n",
    "def z_test_func(group1, group2, alpha):\n",
    "    \n",
    "    for i in groups_funnel.index:\n",
    "        # пропорция успехов в первой группе:\n",
    "        p1 = groups_funnel[group1][i] / users_in_group[group1][0] \n",
    "        \n",
    "        # пропорция успехов во второй группе:\n",
    "        p2 = groups_funnel[group2][i] / users_in_group[group2][0] \n",
    "        \n",
    "        # пропорция успехов в комбинированном датасете:\n",
    "        p_combined = ((groups_funnel[group1][i] + groups_funnel[group2][i]) / \n",
    "                      (users_in_group[group1][0]  + users_in_group[group2][0]))\n",
    "        \n",
    "        # разница пропорций в датасетах \n",
    "        difference = p1 - p2\n",
    "        \n",
    "        # считаем статистику в ст.отклонениях стандартного нормального распределения\n",
    "        z_value = difference / mth.sqrt(p_combined * (1 - p_combined) * (1/users_in_group[group1][0] + 1/users_in_group[group2][0]))\n",
    "        \n",
    "        # задаем стандартное нормальное распределение (среднее 0, ст.отклонение 1) \n",
    "        distr = stats.norm(0, 1) \n",
    "        \n",
    "        p_value = (1 - distr.cdf(abs(z_value))) * 2\n",
    "        \n",
    "        print('p-значение события {} : {}'.format(groups_funnel['event_name'][i], p_value))\n",
    "        if (p_value < alpha):\n",
    "            print('Отвергаем нулевую гипотезу: между долями есть значимая разница')\n",
    "        else:\n",
    "            print(\n",
    "        'Не получилось отвергнуть нулевую гипотезу, нет оснований считать доли разными'\n",
    "    ) \n",
    "        print()"
   ]
  },
  {
   "cell_type": "markdown",
   "id": "13aebad2",
   "metadata": {},
   "source": [
    "#### 5.3.3 Проверим, будет ли отличие между контрольными группами статистически достоверным. "
   ]
  },
  {
   "cell_type": "markdown",
   "id": "99299336",
   "metadata": {},
   "source": [
    "**Эксперимент с контрольными группами 246/247**  \n",
    "Проверим, находят ли статистические критерии разницу между контрольными выборками 246 и 247."
   ]
  },
  {
   "cell_type": "code",
   "execution_count": 41,
   "id": "5cfe7601",
   "metadata": {},
   "outputs": [
    {
     "name": "stdout",
     "output_type": "stream",
     "text": [
      "p-значение события MainScreenAppear : 0.6756217702005545\n",
      "Не получилось отвергнуть нулевую гипотезу, нет оснований считать доли разными\n",
      "\n",
      "p-значение события OffersScreenAppear : 0.26698769175859516\n",
      "Не получилось отвергнуть нулевую гипотезу, нет оснований считать доли разными\n",
      "\n",
      "p-значение события CartScreenAppear : 0.2182812140633792\n",
      "Не получилось отвергнуть нулевую гипотезу, нет оснований считать доли разными\n",
      "\n",
      "p-значение события PaymentScreenSuccessful : 0.10298394982948822\n",
      "Не получилось отвергнуть нулевую гипотезу, нет оснований считать доли разными\n",
      "\n"
     ]
    }
   ],
   "source": [
    "# эксперимент с контрольными группами 246/247\n",
    "z_test_func(246, 247, 0.01)"
   ]
  },
  {
   "cell_type": "markdown",
   "id": "7223eaa1",
   "metadata": {},
   "source": [
    "#### 5.3.4 Выводы о корректности работы разбиения на группы \n",
    "\n",
    "Размеры контрольных групп немного отличаются. В группе 246 - 2484 пользователей, в группе 247 - 2517 пользователей. \n",
    "\n",
    "К критериям успешного A/A-теста относится пункт: количество пользователей в различных группах различается не более, чем на 1%.\n",
    "В нашем случае, разница в количестве составляет 1,3%. \n",
    "\n",
    "Разница в размерах незначительная, к тому же проверка гипотез показала, что между контрольными выборками 246 и 247 статистически значимых различий между долями пользователей нет. То есть обе группы можно считать контрольными.\n",
    "\n",
    "Тем не менее, для улучшения качества будущих тестов следует доработать механику и/или подход к выделению групп."
   ]
  },
  {
   "cell_type": "markdown",
   "id": "502be0c4",
   "metadata": {},
   "source": [
    "### 5.4. Выберем самое популярное событие у группы с изменённым шрифтом. \n",
    "    5.4.1 Сравним результаты с каждой из контрольных групп в отдельности по каждому событию. \n",
    "    5.4.2 Сравним результаты с объединённой контрольной группой. \n",
    "    5.4.3 Выводы из эксперимента\n"
   ]
  },
  {
   "cell_type": "code",
   "execution_count": 42,
   "id": "ad7ca8d5",
   "metadata": {},
   "outputs": [
    {
     "data": {
      "text/html": [
       "<div>\n",
       "<style scoped>\n",
       "    .dataframe tbody tr th:only-of-type {\n",
       "        vertical-align: middle;\n",
       "    }\n",
       "\n",
       "    .dataframe tbody tr th {\n",
       "        vertical-align: top;\n",
       "    }\n",
       "\n",
       "    .dataframe thead th {\n",
       "        text-align: right;\n",
       "    }\n",
       "</style>\n",
       "<table border=\"1\" class=\"dataframe\">\n",
       "  <thead>\n",
       "    <tr style=\"text-align: right;\">\n",
       "      <th>group</th>\n",
       "      <th>event_name</th>\n",
       "      <th>248</th>\n",
       "    </tr>\n",
       "  </thead>\n",
       "  <tbody>\n",
       "    <tr>\n",
       "      <th>0</th>\n",
       "      <td>MainScreenAppear</td>\n",
       "      <td>2494</td>\n",
       "    </tr>\n",
       "    <tr>\n",
       "      <th>1</th>\n",
       "      <td>OffersScreenAppear</td>\n",
       "      <td>1531</td>\n",
       "    </tr>\n",
       "    <tr>\n",
       "      <th>2</th>\n",
       "      <td>CartScreenAppear</td>\n",
       "      <td>1231</td>\n",
       "    </tr>\n",
       "    <tr>\n",
       "      <th>3</th>\n",
       "      <td>PaymentScreenSuccessful</td>\n",
       "      <td>1182</td>\n",
       "    </tr>\n",
       "  </tbody>\n",
       "</table>\n",
       "</div>"
      ],
      "text/plain": [
       "group               event_name   248\n",
       "0             MainScreenAppear  2494\n",
       "1           OffersScreenAppear  1531\n",
       "2             CartScreenAppear  1231\n",
       "3      PaymentScreenSuccessful  1182"
      ]
     },
     "metadata": {},
     "output_type": "display_data"
    },
    {
     "name": "stdout",
     "output_type": "stream",
     "text": [
      "Cамое популярное событие у группы 248 (с изменённым шрифтомгруппы) - MainScreenAppear\n"
     ]
    }
   ],
   "source": [
    "#5.4 самое популярное событие у группы с изменённым шрифтом (группы 248)\n",
    "groups_248_funnel = data_filtered.query('group == 248 & event_name != \"Tutorial\"').pivot_table(\n",
    "    index='event_name', columns='group', values='user_id', aggfunc='nunique').sort_values(by=248, ascending=False).reset_index()\n",
    "display(groups_248_funnel)\n",
    "\n",
    "print('Cамое популярное событие у группы 248 (с изменённым шрифтомгруппы) -', groups_248_funnel['event_name'][0])"
   ]
  },
  {
   "cell_type": "markdown",
   "id": "ff64d0d4",
   "metadata": {},
   "source": [
    "#### 5.4.1 Сравним результаты группы с изменённым шрифтом с каждой из контрольных групп в отдельности по каждому событию. \n",
    "\n",
    "**Эксперимент с группами 246/248**  \n",
    "Проверим, находят ли статистические критерии разницу между выборками 246 и 248."
   ]
  },
  {
   "cell_type": "code",
   "execution_count": 43,
   "id": "c9cce68b",
   "metadata": {},
   "outputs": [
    {
     "name": "stdout",
     "output_type": "stream",
     "text": [
      "p-значение события MainScreenAppear : 0.34705881021236484\n",
      "Не получилось отвергнуть нулевую гипотезу, нет оснований считать доли разными\n",
      "\n",
      "p-значение события OffersScreenAppear : 0.20836205402738917\n",
      "Не получилось отвергнуть нулевую гипотезу, нет оснований считать доли разными\n",
      "\n",
      "p-значение события CartScreenAppear : 0.08328412977507749\n",
      "Не получилось отвергнуть нулевую гипотезу, нет оснований считать доли разными\n",
      "\n",
      "p-значение события PaymentScreenSuccessful : 0.22269358994682742\n",
      "Не получилось отвергнуть нулевую гипотезу, нет оснований считать доли разными\n",
      "\n"
     ]
    }
   ],
   "source": [
    "#эксперимент с группами 246/248\n",
    "z_test_func(246, 248, 0.01)"
   ]
  },
  {
   "cell_type": "markdown",
   "id": "0e79f519",
   "metadata": {},
   "source": [
    "**Эксперимент с группами 247/248**  \n",
    "Проверим, находят ли статистические критерии разницу между выборками 247 и 248."
   ]
  },
  {
   "cell_type": "code",
   "execution_count": 44,
   "id": "3dcdc035",
   "metadata": {},
   "outputs": [
    {
     "name": "stdout",
     "output_type": "stream",
     "text": [
      "p-значение события MainScreenAppear : 0.6001661582453706\n",
      "Не получилось отвергнуть нулевую гипотезу, нет оснований считать доли разными\n",
      "\n",
      "p-значение события OffersScreenAppear : 0.8835956656016957\n",
      "Не получилось отвергнуть нулевую гипотезу, нет оснований считать доли разными\n",
      "\n",
      "p-значение события CartScreenAppear : 0.6169517476996997\n",
      "Не получилось отвергнуть нулевую гипотезу, нет оснований считать доли разными\n",
      "\n",
      "p-значение события PaymentScreenSuccessful : 0.6775413642906454\n",
      "Не получилось отвергнуть нулевую гипотезу, нет оснований считать доли разными\n",
      "\n"
     ]
    }
   ],
   "source": [
    "# эксперимент с группами 247/248\n",
    "z_test_func(247, 248, 0.01)"
   ]
  },
  {
   "cell_type": "markdown",
   "id": "759f5c7c",
   "metadata": {},
   "source": [
    "#### 5.4.2 Сравним результаты с объединённой контрольной группой. "
   ]
  },
  {
   "cell_type": "code",
   "execution_count": 45,
   "id": "75d81ec7",
   "metadata": {},
   "outputs": [
    {
     "name": "stdout",
     "output_type": "stream",
     "text": [
      "p-значение события MainScreenAppear : 0.39298914928006035\n",
      "Не получилось отвергнуть нулевую гипотезу, нет оснований считать доли разными\n",
      "\n",
      "p-значение события OffersScreenAppear : 0.418998284007599\n",
      "Не получилось отвергнуть нулевую гипотезу, нет оснований считать доли разными\n",
      "\n",
      "p-значение события CartScreenAppear : 0.19819340844527744\n",
      "Не получилось отвергнуть нулевую гипотезу, нет оснований считать доли разными\n",
      "\n",
      "p-значение события PaymentScreenSuccessful : 0.6452057673098244\n",
      "Не получилось отвергнуть нулевую гипотезу, нет оснований считать доли разными\n",
      "\n"
     ]
    }
   ],
   "source": [
    "# эксперимент с группами '246+247'/248\n",
    "z_test_func('246+247', 248, 0.01)"
   ]
  },
  {
   "cell_type": "markdown",
   "id": "819a69bc",
   "metadata": {},
   "source": [
    "#### 5.4.3 Выводы из эксперимента\n",
    "\n",
    "Все тесты показывают, что нет оснований считать доли разными. То есть значимой разницы между группами не наблюдается"
   ]
  },
  {
   "cell_type": "markdown",
   "id": "dd939b36",
   "metadata": {},
   "source": [
    "### 5.5. Выберем уровень значимости для проверки статистических гипотез.\n",
    "    5.5.1 Посчитаем, сколько проверок статистических гипотез было сделано. \n",
    "    5.5.2 Будут ли различаться выводы при применении другого уровня значимости"
   ]
  },
  {
   "cell_type": "markdown",
   "id": "c5e3135e",
   "metadata": {},
   "source": [
    "#### 5.5.1 Посчитаем, сколько проверок статистических гипотез было сделано.\n",
    "\n",
    "В пункте 5.4 мы проверили 4 эксперимента с проверкой гипотез о равенстве долей для каждой из 4х событий. \n",
    "\n",
    "Таким образом, было сделано 16 проверок статистических гипотез, которые показали, что между группами нет\n",
    "значимой разницы."
   ]
  },
  {
   "cell_type": "markdown",
   "id": "d1cf28ed",
   "metadata": {},
   "source": [
    "#### 5.5.2 Выбор уровня значимости для проверки статистических гипотез.\n",
    "*При уровне значимости 0.1 (10%) каждый десятый раз можно получать ложный результат. \n",
    "Какой уровень значимости стоит применить? При изменении уровня значимости, необходимо проделать предыдущие пункты и проверить выводы*"
   ]
  },
  {
   "cell_type": "markdown",
   "id": "6d426e0d",
   "metadata": {},
   "source": [
    "- Стандартные значения уровня статистической значимости - 5% и 1%\n",
    "- Для A/A-теста точность в 1% — распространённый критерий, поскольку группы являются контрольными.\n",
    "\n",
    "Для проведенных ранее тестов был применен уровень значимости 0.01 (1%), то есть ложный результат возможно получить каждый сотый раз.\n",
    "Но в связи с тем,что мы делали множественную проверку гипотез, то следует применить метод корректировки уровня значимости, чтобы снизить вероятность ложнопозитивного результата.\n",
    "\n",
    "По всем прошлым тестам не было оснований отвергать H₀ (нулевую гипотезу), поэтом нам важно обнаружить различия между группами, если они есть, и правильно отклонить нулевую гипотезу, если она не верна. То есть нам нужно повысить мощность теста, сохраняя FWER < ɑlpha. \n",
    "\n",
    "Для этого применим Метод Шидака и скорректируем значение уровня значимости  по формуле: 1 - (1 - ɑ)**(1/m)  \n",
    "\n"
   ]
  },
  {
   "cell_type": "code",
   "execution_count": 46,
   "id": "ad864447",
   "metadata": {},
   "outputs": [],
   "source": [
    "#добавим в функцию поправку Шидака\n",
    "\n",
    "# функция z-теста\n",
    "def z_test_func(group1, group2, alpha):\n",
    "    \n",
    "    #уровень значимости с поправкой Шидака\n",
    "    shidak_alpha = 1 - (1 - alpha)**(1/16)\n",
    "    \n",
    "    for i in groups_funnel.index:\n",
    "        # пропорция успехов в первой группе:\n",
    "        p1 = groups_funnel[group1][i] / users_in_group[group1][0] \n",
    "        \n",
    "        # пропорция успехов во второй группе:\n",
    "        p2 = groups_funnel[group2][i] / users_in_group[group2][0] \n",
    "        \n",
    "        # пропорция успехов в комбинированном датасете:\n",
    "        p_combined = ((groups_funnel[group1][i] + groups_funnel[group2][i]) / \n",
    "                      (users_in_group[group1][0]  + users_in_group[group2][0]))\n",
    "        \n",
    "        # разница пропорций в датасетах \n",
    "        difference = p1 - p2\n",
    "        \n",
    "        # считаем статистику в ст.отклонениях стандартного нормального распределения\n",
    "        z_value = difference / mth.sqrt(p_combined * (1 - p_combined) * (1/users_in_group[group1][0] + 1/users_in_group[group2][0]))\n",
    "        \n",
    "        # задаем стандартное нормальное распределение (среднее 0, ст.отклонение 1) \n",
    "        distr = stats.norm(0, 1) \n",
    "        \n",
    "        p_value = (1 - distr.cdf(abs(z_value))) * 2\n",
    "        \n",
    "        print('p-значение события {} : {}'.format(groups_funnel['event_name'][i], p_value))\n",
    "        if (p_value < shidak_alpha):\n",
    "            print('Отвергаем нулевую гипотезу: между долями есть значимая разница')\n",
    "        else:\n",
    "            print(\n",
    "        'Не получилось отвергнуть нулевую гипотезу, нет оснований считать доли разными'\n",
    "    ) \n",
    "        print()"
   ]
  },
  {
   "cell_type": "code",
   "execution_count": 47,
   "id": "16da98a0",
   "metadata": {},
   "outputs": [
    {
     "name": "stdout",
     "output_type": "stream",
     "text": [
      "Эксперимент с контрольными группами 246/247:\n",
      "p-значение события MainScreenAppear : 0.6756217702005545\n",
      "Не получилось отвергнуть нулевую гипотезу, нет оснований считать доли разными\n",
      "\n",
      "p-значение события OffersScreenAppear : 0.26698769175859516\n",
      "Не получилось отвергнуть нулевую гипотезу, нет оснований считать доли разными\n",
      "\n",
      "p-значение события CartScreenAppear : 0.2182812140633792\n",
      "Не получилось отвергнуть нулевую гипотезу, нет оснований считать доли разными\n",
      "\n",
      "p-значение события PaymentScreenSuccessful : 0.10298394982948822\n",
      "Не получилось отвергнуть нулевую гипотезу, нет оснований считать доли разными\n",
      "\n",
      "--------------------------------------------------\n",
      "Эксперимент с группами 246/248:\n",
      "p-значение события MainScreenAppear : 0.34705881021236484\n",
      "Не получилось отвергнуть нулевую гипотезу, нет оснований считать доли разными\n",
      "\n",
      "p-значение события OffersScreenAppear : 0.20836205402738917\n",
      "Не получилось отвергнуть нулевую гипотезу, нет оснований считать доли разными\n",
      "\n",
      "p-значение события CartScreenAppear : 0.08328412977507749\n",
      "Не получилось отвергнуть нулевую гипотезу, нет оснований считать доли разными\n",
      "\n",
      "p-значение события PaymentScreenSuccessful : 0.22269358994682742\n",
      "Не получилось отвергнуть нулевую гипотезу, нет оснований считать доли разными\n",
      "\n",
      "--------------------------------------------------\n",
      "Эксперимент с группами 247/248:\n",
      "p-значение события MainScreenAppear : 0.6001661582453706\n",
      "Не получилось отвергнуть нулевую гипотезу, нет оснований считать доли разными\n",
      "\n",
      "p-значение события OffersScreenAppear : 0.8835956656016957\n",
      "Не получилось отвергнуть нулевую гипотезу, нет оснований считать доли разными\n",
      "\n",
      "p-значение события CartScreenAppear : 0.6169517476996997\n",
      "Не получилось отвергнуть нулевую гипотезу, нет оснований считать доли разными\n",
      "\n",
      "p-значение события PaymentScreenSuccessful : 0.6775413642906454\n",
      "Не получилось отвергнуть нулевую гипотезу, нет оснований считать доли разными\n",
      "\n",
      "--------------------------------------------------\n",
      "Эксперимент с группами \"246+247\"/248:\n",
      "p-значение события MainScreenAppear : 0.39298914928006035\n",
      "Не получилось отвергнуть нулевую гипотезу, нет оснований считать доли разными\n",
      "\n",
      "p-значение события OffersScreenAppear : 0.418998284007599\n",
      "Не получилось отвергнуть нулевую гипотезу, нет оснований считать доли разными\n",
      "\n",
      "p-значение события CartScreenAppear : 0.19819340844527744\n",
      "Не получилось отвергнуть нулевую гипотезу, нет оснований считать доли разными\n",
      "\n",
      "p-значение события PaymentScreenSuccessful : 0.6452057673098244\n",
      "Не получилось отвергнуть нулевую гипотезу, нет оснований считать доли разными\n",
      "\n"
     ]
    }
   ],
   "source": [
    "# эксперимент с контрольными группами 246/247\n",
    "print('Эксперимент с контрольными группами 246/247:')\n",
    "z_test_func(246, 247, 0.01)\n",
    "print(\"-\"*50)\n",
    "#эксперимент с группами 246/248\n",
    "print('Эксперимент с группами 246/248:')\n",
    "z_test_func(246, 248, 0.01)\n",
    "print(\"-\"*50)\n",
    "#эксперимент с группами 247/248\n",
    "print('Эксперимент с группами 247/248:')\n",
    "z_test_func(247, 248, 0.01)\n",
    "print(\"-\"*50)\n",
    "# эксперимент с группами '246+247'/248\n",
    "print('Эксперимент с группами \"246+247\"/248:')\n",
    "z_test_func('246+247', 248, 0.01)"
   ]
  },
  {
   "cell_type": "markdown",
   "id": "1fd5bd94",
   "metadata": {},
   "source": [
    "#### 5.5.2 Будут ли различаться выводы при применении другого уровня значимости\n",
    "\n",
    "Выводы не изменились, значимой разницы между группами не наблюдается"
   ]
  },
  {
   "cell_type": "markdown",
   "id": "05ff1ce4",
   "metadata": {},
   "source": [
    "## Общий вывод"
   ]
  },
  {
   "cell_type": "markdown",
   "id": "ccca7593",
   "metadata": {},
   "source": [
    "Мы изучили записи логов мобильного приложения стартапа по продаже продуктов питания и результаты экспериментов по изменению шрифтов в приложении.   \n",
    "\n",
    "**1. Изучение и проверка данных**  \n",
    "Гистограмма событий показала, что в имеются неполные данные на первой неделе наблюдений. Эти данные были исключены из дальнейшего анализа. В итоге остались события с 21:00:57 25 июля по 21:15:17  31 июля 2019г. \n",
    "Было отфильтровано малозначимое количество данных — 0,82% событий и 0.17% пользователей.\n",
    "- количество событий в логе - 241 724,\n",
    "- количество пользователей в логе - 7 538,\n",
    "- среднее количество событий на пользователя — 19 (медианное значение, так как в данных имеются выбросы, которые завышают значение средне арифметического) \n",
    "\n",
    "\n",
    "**2. Изучение воронки событий**\n",
    "\n",
    "Событие «Руководство» (Tutorial) встречается в логах меньше всего. То есть большинство пользователей никогда не открывали этот экран. Шаг не является обязательным для перехода к следующим шагам покупки, поэтому его можно не учитывать в воронке.\n",
    "\n",
    "Было сделано предположение, что события происходят в следующем порядке:\n",
    "\n",
    "1) Отображение главного экрана (MainScreenAppear) — охватывает больше всего событий и пользователей 98,5%  \n",
    "2) Отображение экрана предложений (OffersScreenAppear)   \n",
    "3) Отображение экрана корзины (CartScreenAppear)   \n",
    "4) Экран успешной оплаты (PaymentScreenSuccessful)\n",
    "\n",
    "До второго шага воронки не доходят 38% пользователей. В дальнейшем необходимо выяснить почему так происходит и нужны ли изменения. \n",
    "\n",
    "Сокращение потери пользователей на данном этапе может повысить результаты и улучшить пользовательский опыт.\n",
    "\n",
    "От первого события до оплаты доходят 48% пользователей.\n",
    "\n",
    "\n",
    "**3. Изучение результатов эксперимента**\n",
    "\n",
    "Мы проверили 16 гипотез с уровнем значимости 0.01. Тесты не выявили значимой разницы между группами \n",
    "\n",
    "Так как мы делаем множественную проверку гипотез, то применили поправку Шидака, чтобы снизить вероятность ложнопозитивного результата. \n",
    "\n",
    "Выводы по тестам не изменились. Смена шрифтов в приложении не оказывает существенного эффекта, мало влияет на поведение пользователей. "
   ]
  },
  {
   "cell_type": "code",
   "execution_count": null,
   "id": "df1a4d40",
   "metadata": {},
   "outputs": [],
   "source": []
  }
 ],
 "metadata": {
  "ExecuteTimeLog": [
   {
    "duration": 1603,
    "start_time": "2023-01-26T08:49:07.219Z"
   },
   {
    "duration": 421,
    "start_time": "2023-01-26T08:49:08.825Z"
   },
   {
    "duration": 137,
    "start_time": "2023-01-26T08:49:09.249Z"
   },
   {
    "duration": 95,
    "start_time": "2023-01-26T08:49:09.389Z"
   },
   {
    "duration": 133,
    "start_time": "2023-01-26T08:49:09.485Z"
   },
   {
    "duration": 67,
    "start_time": "2023-01-26T08:49:09.620Z"
   },
   {
    "duration": 65,
    "start_time": "2023-01-26T08:49:09.689Z"
   },
   {
    "duration": 25,
    "start_time": "2023-01-26T08:49:09.760Z"
   },
   {
    "duration": 191,
    "start_time": "2023-01-26T08:49:09.787Z"
   },
   {
    "duration": 198,
    "start_time": "2023-01-26T08:49:09.981Z"
   },
   {
    "duration": 222,
    "start_time": "2023-01-26T08:49:10.181Z"
   },
   {
    "duration": 65,
    "start_time": "2023-01-26T08:49:10.406Z"
   },
   {
    "duration": 40,
    "start_time": "2023-01-26T08:49:10.472Z"
   },
   {
    "duration": 6943,
    "start_time": "2023-01-26T08:49:10.514Z"
   },
   {
    "duration": 79,
    "start_time": "2023-01-26T08:49:17.460Z"
   },
   {
    "duration": 103,
    "start_time": "2023-01-26T08:49:17.542Z"
   },
   {
    "duration": 105,
    "start_time": "2023-01-26T08:49:17.647Z"
   },
   {
    "duration": 394,
    "start_time": "2023-01-26T08:49:17.755Z"
   },
   {
    "duration": 122,
    "start_time": "2023-01-26T08:49:18.151Z"
   },
   {
    "duration": 13,
    "start_time": "2023-01-26T08:49:18.275Z"
   },
   {
    "duration": 16,
    "start_time": "2023-01-26T08:49:18.289Z"
   },
   {
    "duration": 120,
    "start_time": "2023-01-26T08:49:18.307Z"
   },
   {
    "duration": 36,
    "start_time": "2023-01-26T08:49:18.429Z"
   },
   {
    "duration": 17,
    "start_time": "2023-01-26T08:49:18.468Z"
   },
   {
    "duration": 10,
    "start_time": "2023-01-26T08:49:18.487Z"
   },
   {
    "duration": 45,
    "start_time": "2023-01-26T08:49:18.499Z"
   },
   {
    "duration": 44,
    "start_time": "2023-01-26T08:49:18.548Z"
   },
   {
    "duration": 9,
    "start_time": "2023-01-26T08:49:18.595Z"
   },
   {
    "duration": 98,
    "start_time": "2023-01-26T08:49:18.605Z"
   },
   {
    "duration": 4,
    "start_time": "2023-01-26T08:49:18.705Z"
   },
   {
    "duration": 44,
    "start_time": "2023-01-26T08:49:18.711Z"
   },
   {
    "duration": 19,
    "start_time": "2023-01-26T08:49:18.759Z"
   },
   {
    "duration": 24,
    "start_time": "2023-01-26T08:49:18.780Z"
   },
   {
    "duration": 29,
    "start_time": "2023-01-26T08:49:18.806Z"
   },
   {
    "duration": 65,
    "start_time": "2023-01-26T08:49:18.836Z"
   },
   {
    "duration": 9,
    "start_time": "2023-01-26T08:49:18.903Z"
   },
   {
    "duration": 34,
    "start_time": "2023-01-26T08:49:18.914Z"
   },
   {
    "duration": 23,
    "start_time": "2023-01-26T08:49:18.949Z"
   },
   {
    "duration": 11,
    "start_time": "2023-01-26T08:49:18.974Z"
   },
   {
    "duration": 41,
    "start_time": "2023-01-26T08:49:18.987Z"
   },
   {
    "duration": 7,
    "start_time": "2023-01-26T09:09:33.827Z"
   },
   {
    "duration": 10,
    "start_time": "2023-01-26T09:09:35.807Z"
   },
   {
    "duration": 1429,
    "start_time": "2023-01-26T09:13:47.927Z"
   },
   {
    "duration": 392,
    "start_time": "2023-01-26T09:13:49.358Z"
   },
   {
    "duration": 121,
    "start_time": "2023-01-26T09:13:49.753Z"
   },
   {
    "duration": 73,
    "start_time": "2023-01-26T09:13:49.876Z"
   },
   {
    "duration": 128,
    "start_time": "2023-01-26T09:13:49.952Z"
   },
   {
    "duration": 59,
    "start_time": "2023-01-26T09:13:50.083Z"
   },
   {
    "duration": 52,
    "start_time": "2023-01-26T09:13:50.144Z"
   },
   {
    "duration": 23,
    "start_time": "2023-01-26T09:13:50.198Z"
   },
   {
    "duration": 165,
    "start_time": "2023-01-26T09:13:50.238Z"
   },
   {
    "duration": 192,
    "start_time": "2023-01-26T09:13:50.405Z"
   },
   {
    "duration": 218,
    "start_time": "2023-01-26T09:13:50.599Z"
   },
   {
    "duration": 40,
    "start_time": "2023-01-26T09:13:50.819Z"
   },
   {
    "duration": 6,
    "start_time": "2023-01-26T09:13:50.860Z"
   },
   {
    "duration": 6394,
    "start_time": "2023-01-26T09:13:50.869Z"
   },
   {
    "duration": 73,
    "start_time": "2023-01-26T09:13:57.266Z"
   },
   {
    "duration": 35,
    "start_time": "2023-01-26T09:13:57.341Z"
   },
   {
    "duration": 95,
    "start_time": "2023-01-26T09:13:57.378Z"
   },
   {
    "duration": 300,
    "start_time": "2023-01-26T09:13:57.475Z"
   },
   {
    "duration": 167,
    "start_time": "2023-01-26T09:13:57.776Z"
   },
   {
    "duration": 13,
    "start_time": "2023-01-26T09:13:57.944Z"
   },
   {
    "duration": 40,
    "start_time": "2023-01-26T09:13:57.958Z"
   },
   {
    "duration": 113,
    "start_time": "2023-01-26T09:13:57.999Z"
   },
   {
    "duration": 30,
    "start_time": "2023-01-26T09:13:58.113Z"
   },
   {
    "duration": 41,
    "start_time": "2023-01-26T09:13:58.145Z"
   },
   {
    "duration": 23,
    "start_time": "2023-01-26T09:13:58.187Z"
   },
   {
    "duration": 23,
    "start_time": "2023-01-26T09:13:58.212Z"
   },
   {
    "duration": 42,
    "start_time": "2023-01-26T09:13:58.236Z"
   },
   {
    "duration": 10,
    "start_time": "2023-01-26T09:13:58.280Z"
   },
   {
    "duration": 67,
    "start_time": "2023-01-26T09:13:58.291Z"
   },
   {
    "duration": 4,
    "start_time": "2023-01-26T09:13:58.360Z"
   },
   {
    "duration": 17,
    "start_time": "2023-01-26T09:13:58.366Z"
   },
   {
    "duration": 17,
    "start_time": "2023-01-26T09:13:58.384Z"
   },
   {
    "duration": 13,
    "start_time": "2023-01-26T09:13:58.403Z"
   },
   {
    "duration": 28,
    "start_time": "2023-01-26T09:13:58.419Z"
   },
   {
    "duration": 67,
    "start_time": "2023-01-26T09:13:58.450Z"
   },
   {
    "duration": 20,
    "start_time": "2023-01-26T09:13:58.518Z"
   },
   {
    "duration": 12,
    "start_time": "2023-01-26T09:13:58.540Z"
   },
   {
    "duration": 15,
    "start_time": "2023-01-26T09:13:58.554Z"
   },
   {
    "duration": 16,
    "start_time": "2023-01-26T09:13:58.570Z"
   },
   {
    "duration": 57,
    "start_time": "2023-01-26T09:13:58.587Z"
   },
   {
    "duration": 1452,
    "start_time": "2023-01-26T18:19:41.213Z"
   },
   {
    "duration": 451,
    "start_time": "2023-01-26T18:19:42.667Z"
   },
   {
    "duration": 101,
    "start_time": "2023-01-26T18:19:43.122Z"
   },
   {
    "duration": 56,
    "start_time": "2023-01-26T18:19:43.224Z"
   },
   {
    "duration": 110,
    "start_time": "2023-01-26T18:19:43.282Z"
   },
   {
    "duration": 44,
    "start_time": "2023-01-26T18:19:43.393Z"
   },
   {
    "duration": 40,
    "start_time": "2023-01-26T18:19:43.438Z"
   },
   {
    "duration": 46,
    "start_time": "2023-01-26T18:19:43.479Z"
   },
   {
    "duration": 138,
    "start_time": "2023-01-26T18:19:43.528Z"
   },
   {
    "duration": 142,
    "start_time": "2023-01-26T18:19:43.668Z"
   },
   {
    "duration": 164,
    "start_time": "2023-01-26T18:19:43.811Z"
   },
   {
    "duration": 22,
    "start_time": "2023-01-26T18:19:43.976Z"
   },
   {
    "duration": 20,
    "start_time": "2023-01-26T18:19:43.999Z"
   },
   {
    "duration": 5389,
    "start_time": "2023-01-26T18:19:44.021Z"
   },
   {
    "duration": 42,
    "start_time": "2023-01-26T18:19:49.413Z"
   },
   {
    "duration": 82,
    "start_time": "2023-01-26T18:19:49.456Z"
   },
   {
    "duration": 33,
    "start_time": "2023-01-26T18:19:49.539Z"
   },
   {
    "duration": 272,
    "start_time": "2023-01-26T18:19:49.573Z"
   },
   {
    "duration": 112,
    "start_time": "2023-01-26T18:19:49.847Z"
   },
   {
    "duration": 11,
    "start_time": "2023-01-26T18:19:49.961Z"
   },
   {
    "duration": 17,
    "start_time": "2023-01-26T18:19:49.974Z"
   },
   {
    "duration": 125,
    "start_time": "2023-01-26T18:19:49.993Z"
   },
   {
    "duration": 30,
    "start_time": "2023-01-26T18:19:50.120Z"
   },
   {
    "duration": 11,
    "start_time": "2023-01-26T18:19:50.151Z"
   },
   {
    "duration": 8,
    "start_time": "2023-01-26T18:19:50.164Z"
   },
   {
    "duration": 16,
    "start_time": "2023-01-26T18:19:50.174Z"
   },
   {
    "duration": 57,
    "start_time": "2023-01-26T18:19:50.193Z"
   },
   {
    "duration": 8,
    "start_time": "2023-01-26T18:19:50.252Z"
   },
   {
    "duration": 48,
    "start_time": "2023-01-26T18:19:50.262Z"
   },
   {
    "duration": 25,
    "start_time": "2023-01-26T18:19:50.312Z"
   },
   {
    "duration": 10,
    "start_time": "2023-01-26T18:19:50.338Z"
   },
   {
    "duration": 10,
    "start_time": "2023-01-26T18:19:50.349Z"
   },
   {
    "duration": 5,
    "start_time": "2023-01-26T18:19:50.360Z"
   },
   {
    "duration": 23,
    "start_time": "2023-01-26T18:19:50.367Z"
   },
   {
    "duration": 48,
    "start_time": "2023-01-26T18:19:50.391Z"
   },
   {
    "duration": 6,
    "start_time": "2023-01-26T18:19:50.440Z"
   },
   {
    "duration": 13,
    "start_time": "2023-01-26T18:19:50.448Z"
   },
   {
    "duration": 12,
    "start_time": "2023-01-26T18:19:50.462Z"
   },
   {
    "duration": 8,
    "start_time": "2023-01-26T18:19:50.476Z"
   },
   {
    "duration": 27,
    "start_time": "2023-01-26T18:19:50.485Z"
   },
   {
    "duration": 55,
    "start_time": "2023-01-26T18:26:27.735Z"
   },
   {
    "duration": 85,
    "start_time": "2023-01-26T18:26:44.005Z"
   },
   {
    "duration": 41,
    "start_time": "2023-01-26T18:27:06.590Z"
   },
   {
    "duration": 110,
    "start_time": "2023-01-26T18:27:18.684Z"
   },
   {
    "duration": 5,
    "start_time": "2023-01-26T18:28:33.243Z"
   },
   {
    "duration": 23,
    "start_time": "2023-01-26T18:28:34.237Z"
   },
   {
    "duration": 5020,
    "start_time": "2023-01-26T18:28:35.212Z"
   },
   {
    "duration": 18,
    "start_time": "2023-01-26T18:29:11.235Z"
   },
   {
    "duration": 27,
    "start_time": "2023-01-26T18:29:17.871Z"
   },
   {
    "duration": 657,
    "start_time": "2023-01-26T18:33:54.741Z"
   },
   {
    "duration": 30,
    "start_time": "2023-01-26T18:34:03.003Z"
   },
   {
    "duration": 31,
    "start_time": "2023-01-26T18:34:10.679Z"
   },
   {
    "duration": 506,
    "start_time": "2023-01-26T18:36:13.741Z"
   },
   {
    "duration": 31,
    "start_time": "2023-01-26T18:36:33.979Z"
   },
   {
    "duration": 10,
    "start_time": "2023-01-26T18:36:35.085Z"
   },
   {
    "duration": 48,
    "start_time": "2023-01-26T18:36:35.252Z"
   },
   {
    "duration": 4,
    "start_time": "2023-01-26T18:36:35.438Z"
   },
   {
    "duration": 10,
    "start_time": "2023-01-26T18:36:35.842Z"
   },
   {
    "duration": 8,
    "start_time": "2023-01-26T18:36:35.993Z"
   },
   {
    "duration": 6,
    "start_time": "2023-01-26T18:36:36.682Z"
   },
   {
    "duration": 7,
    "start_time": "2023-01-26T18:36:38.450Z"
   },
   {
    "duration": 43,
    "start_time": "2023-01-26T18:36:40.437Z"
   },
   {
    "duration": 8,
    "start_time": "2023-01-26T18:36:41.316Z"
   },
   {
    "duration": 11,
    "start_time": "2023-01-26T18:36:43.344Z"
   },
   {
    "duration": 7,
    "start_time": "2023-01-26T18:36:44.751Z"
   },
   {
    "duration": 45,
    "start_time": "2023-01-26T18:38:37.715Z"
   },
   {
    "duration": 7,
    "start_time": "2023-01-26T18:39:42.347Z"
   },
   {
    "duration": 22,
    "start_time": "2023-01-26T18:39:47.972Z"
   },
   {
    "duration": 1433,
    "start_time": "2023-01-27T04:05:37.674Z"
   },
   {
    "duration": 404,
    "start_time": "2023-01-27T04:05:39.109Z"
   },
   {
    "duration": 119,
    "start_time": "2023-01-27T04:05:39.515Z"
   },
   {
    "duration": 68,
    "start_time": "2023-01-27T04:05:39.636Z"
   },
   {
    "duration": 130,
    "start_time": "2023-01-27T04:05:39.706Z"
   },
   {
    "duration": 46,
    "start_time": "2023-01-27T04:05:39.838Z"
   },
   {
    "duration": 38,
    "start_time": "2023-01-27T04:05:39.886Z"
   },
   {
    "duration": 44,
    "start_time": "2023-01-27T04:05:39.926Z"
   },
   {
    "duration": 145,
    "start_time": "2023-01-27T04:05:39.972Z"
   },
   {
    "duration": 164,
    "start_time": "2023-01-27T04:05:40.120Z"
   },
   {
    "duration": 180,
    "start_time": "2023-01-27T04:05:40.286Z"
   },
   {
    "duration": 5,
    "start_time": "2023-01-27T04:05:40.468Z"
   },
   {
    "duration": 33,
    "start_time": "2023-01-27T04:05:40.474Z"
   },
   {
    "duration": 6078,
    "start_time": "2023-01-27T04:05:40.508Z"
   },
   {
    "duration": 22,
    "start_time": "2023-01-27T04:05:46.588Z"
   },
   {
    "duration": 33,
    "start_time": "2023-01-27T04:05:46.654Z"
   },
   {
    "duration": 86,
    "start_time": "2023-01-27T04:05:46.688Z"
   },
   {
    "duration": 282,
    "start_time": "2023-01-27T04:05:46.776Z"
   },
   {
    "duration": 113,
    "start_time": "2023-01-27T04:05:47.060Z"
   },
   {
    "duration": 14,
    "start_time": "2023-01-27T04:05:47.175Z"
   },
   {
    "duration": 65,
    "start_time": "2023-01-27T04:05:47.191Z"
   },
   {
    "duration": 110,
    "start_time": "2023-01-27T04:05:47.257Z"
   },
   {
    "duration": 23,
    "start_time": "2023-01-27T04:05:47.369Z"
   },
   {
    "duration": 20,
    "start_time": "2023-01-27T04:05:47.394Z"
   },
   {
    "duration": 10,
    "start_time": "2023-01-27T04:05:47.416Z"
   },
   {
    "duration": 44,
    "start_time": "2023-01-27T04:05:47.428Z"
   },
   {
    "duration": 48,
    "start_time": "2023-01-27T04:05:47.474Z"
   },
   {
    "duration": 27,
    "start_time": "2023-01-27T04:05:47.526Z"
   },
   {
    "duration": 56,
    "start_time": "2023-01-27T04:05:47.555Z"
   },
   {
    "duration": 4,
    "start_time": "2023-01-27T04:05:47.612Z"
   },
   {
    "duration": 36,
    "start_time": "2023-01-27T04:05:47.618Z"
   },
   {
    "duration": 8,
    "start_time": "2023-01-27T04:05:47.656Z"
   },
   {
    "duration": 9,
    "start_time": "2023-01-27T04:05:47.666Z"
   },
   {
    "duration": 16,
    "start_time": "2023-01-27T04:05:47.676Z"
   },
   {
    "duration": 60,
    "start_time": "2023-01-27T04:05:47.694Z"
   },
   {
    "duration": 9,
    "start_time": "2023-01-27T04:05:47.756Z"
   },
   {
    "duration": 16,
    "start_time": "2023-01-27T04:05:47.766Z"
   },
   {
    "duration": 15,
    "start_time": "2023-01-27T04:05:47.783Z"
   },
   {
    "duration": 13,
    "start_time": "2023-01-27T04:05:47.799Z"
   },
   {
    "duration": 47,
    "start_time": "2023-01-27T04:05:47.813Z"
   }
  ],
  "kernelspec": {
   "display_name": "Python 3 (ipykernel)",
   "language": "python",
   "name": "python3"
  },
  "language_info": {
   "codemirror_mode": {
    "name": "ipython",
    "version": 3
   },
   "file_extension": ".py",
   "mimetype": "text/x-python",
   "name": "python",
   "nbconvert_exporter": "python",
   "pygments_lexer": "ipython3",
   "version": "3.9.12"
  },
  "toc": {
   "base_numbering": 1,
   "nav_menu": {},
   "number_sections": true,
   "sideBar": true,
   "skip_h1_title": true,
   "title_cell": "Table of Contents",
   "title_sidebar": "Contents",
   "toc_cell": false,
   "toc_position": {},
   "toc_section_display": true,
   "toc_window_display": false
  }
 },
 "nbformat": 4,
 "nbformat_minor": 5
}
